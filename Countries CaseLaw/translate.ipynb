{
  "nbformat": 4,
  "nbformat_minor": 0,
  "metadata": {
    "colab": {
      "name": "translate.ipynb",
      "provenance": []
    },
    "kernelspec": {
      "name": "python3",
      "display_name": "Python 3"
    }
  },
  "cells": [
    {
      "cell_type": "code",
      "metadata": {
        "colab": {
          "base_uri": "https://localhost:8080/"
        },
        "id": "SqcqenbLfdCV",
        "outputId": "b297683a-ee45-4e74-c76d-3195085f2c30"
      },
      "source": [
        "!pip install google_trans_new"
      ],
      "execution_count": 1,
      "outputs": [
        {
          "output_type": "stream",
          "text": [
            "Collecting google_trans_new\n",
            "  Downloading https://files.pythonhosted.org/packages/f9/7b/9f136106dc5824dc98185c97991d3cd9b53e70a197154dd49f7b899128f6/google_trans_new-1.1.9-py3-none-any.whl\n",
            "Installing collected packages: google-trans-new\n",
            "Successfully installed google-trans-new-1.1.9\n"
          ],
          "name": "stdout"
        }
      ]
    },
    {
      "cell_type": "code",
      "metadata": {
        "id": "1XZdqcTVgQVO"
      },
      "source": [
        "from google_trans_new import google_translator\n",
        "translator = google_translator() "
      ],
      "execution_count": 2,
      "outputs": []
    },
    {
      "cell_type": "code",
      "metadata": {
        "colab": {
          "base_uri": "https://localhost:8080/",
          "height": 36
        },
        "id": "zxpNbOiyimKh",
        "outputId": "f2588acf-ef86-4153-da84-6afb73cab41f"
      },
      "source": [
        "#from French\n",
        "translator.translate('Dans la rue, elle appela à l’aide des policiers qui patrouillaient en voiture')"
      ],
      "execution_count": 9,
      "outputs": [
        {
          "output_type": "execute_result",
          "data": {
            "application/vnd.google.colaboratory.intrinsic+json": {
              "type": "string"
            },
            "text/plain": [
              "'In the street, she called for help from the police patrolling the car '"
            ]
          },
          "metadata": {
            "tags": []
          },
          "execution_count": 9
        }
      ]
    },
    {
      "cell_type": "code",
      "metadata": {
        "colab": {
          "base_uri": "https://localhost:8080/",
          "height": 36
        },
        "id": "urN21pg6jfej",
        "outputId": "4294d010-7d04-4dcb-8674-779ae1207633"
      },
      "source": [
        "#from Icelandic\n",
        "translator.translate('Varðandi umgengnisrétt leit dómstóllinn til þess að kærandi hafði ekki uppi neinar slíkar kröfur fyrir áfrýjunardómstólnum')"
      ],
      "execution_count": 10,
      "outputs": [
        {
          "output_type": "execute_result",
          "data": {
            "application/vnd.google.colaboratory.intrinsic+json": {
              "type": "string"
            },
            "text/plain": [
              "'With regard to access rights, the Court found that the applicant had no such claims before the Court of Appeal. '"
            ]
          },
          "metadata": {
            "tags": []
          },
          "execution_count": 10
        }
      ]
    },
    {
      "cell_type": "code",
      "metadata": {
        "colab": {
          "base_uri": "https://localhost:8080/",
          "height": 36
        },
        "id": "VMIrRzVJjfrL",
        "outputId": "4a07bba2-77ce-4824-b4f8-6bdd05c65b25"
      },
      "source": [
        "#from German\n",
        "translator.translate('Der vorliegen- de Fall fällt somit in den Anwendungsbereich von Art. 8 EMRK, sodass auch Art. 14 EMRK anwendbar ist')"
      ],
      "execution_count": 11,
      "outputs": [
        {
          "output_type": "execute_result",
          "data": {
            "application/vnd.google.colaboratory.intrinsic+json": {
              "type": "string"
            },
            "text/plain": [
              "'The present case therefore falls within the scope of Art. 8 ECHR, so that Art. 14 ECHR also applies '"
            ]
          },
          "metadata": {
            "tags": []
          },
          "execution_count": 11
        }
      ]
    },
    {
      "cell_type": "code",
      "metadata": {
        "colab": {
          "base_uri": "https://localhost:8080/",
          "height": 36
        },
        "id": "eekfvvMnkH4F",
        "outputId": "a61f4b68-87ed-43bc-c357-2718da4ddfbb"
      },
      "source": [
        "#from Russian\n",
        "translator.translate('В порядке применения статьи 41 Конвенции')"
      ],
      "execution_count": 12,
      "outputs": [
        {
          "output_type": "execute_result",
          "data": {
            "application/vnd.google.colaboratory.intrinsic+json": {
              "type": "string"
            },
            "text/plain": [
              "'Application of Article 41 of the Convention '"
            ]
          },
          "metadata": {
            "tags": []
          },
          "execution_count": 12
        }
      ]
    }
  ]
}