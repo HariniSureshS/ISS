{
  "nbformat": 4,
  "nbformat_minor": 0,
  "metadata": {
    "colab": {
      "name": "findPersonalInfos.ipynb",
      "provenance": [],
      "collapsed_sections": []
    },
    "kernelspec": {
      "name": "python3",
      "display_name": "Python 3"
    }
  },
  "cells": [
    {
      "cell_type": "code",
      "metadata": {
        "id": "pDilnS9ZVrFn",
        "outputId": "83d55f00-4636-42ef-ddb4-3237f5cca8a3",
        "colab": {
          "base_uri": "https://localhost:8080/",
          "height": 34
        }
      },
      "source": [
        "!pip install docx2txt"
      ],
      "execution_count": null,
      "outputs": [
        {
          "output_type": "stream",
          "text": [
            "Requirement already satisfied: docx2txt in /usr/local/lib/python3.6/dist-packages (0.8)\n"
          ],
          "name": "stdout"
        }
      ]
    },
    {
      "cell_type": "code",
      "metadata": {
        "id": "vaCDuTGovhq8"
      },
      "source": [
        "import spacy\n",
        "from spacy import displacy\n",
        "from collections import Counter\n",
        "import en_core_web_sm\n",
        "import re\n",
        "import docx2txt"
      ],
      "execution_count": null,
      "outputs": []
    },
    {
      "cell_type": "code",
      "metadata": {
        "id": "_Zn0-ZEtvDLc"
      },
      "source": [
        "nlp = en_core_web_sm.load()"
      ],
      "execution_count": null,
      "outputs": []
    },
    {
      "cell_type": "code",
      "metadata": {
        "id": "1qrvXR-HVUXU"
      },
      "source": [
        "doc = docx2txt.process(\"/content/drive/My Drive/Official Folder of ISS Child Protection Project/ISS- Resources/E1 Case Summary UK to himaya.docx\")"
      ],
      "execution_count": null,
      "outputs": []
    },
    {
      "cell_type": "code",
      "metadata": {
        "id": "bgpqS9iQV0sI",
        "outputId": "0162000a-9d39-439e-eb7f-6c63d5600100",
        "colab": {
          "base_uri": "https://localhost:8080/",
          "height": 34
        }
      },
      "source": [
        "type(doc)"
      ],
      "execution_count": null,
      "outputs": [
        {
          "output_type": "execute_result",
          "data": {
            "text/plain": [
              "str"
            ]
          },
          "metadata": {
            "tags": []
          },
          "execution_count": 166
        }
      ]
    },
    {
      "cell_type": "code",
      "metadata": {
        "id": "MTQ_gKo6WAfx"
      },
      "source": [
        "def seperateLines(doc):\n",
        "  ## Divides line by line for easier viewing\n",
        "  lines = list()\n",
        "  for i in doc.split(\"\\n\"):\n",
        "    if i != '' and i != None: # Pass empty elements\n",
        "      if \"\\t\" in i:\n",
        "        i = re.sub(\"\\t\",'',i) # Some lines have \\t (tab) at the beggining. For remove them.\n",
        "      lines.append(i.lower())\n",
        "  return lines"
      ],
      "execution_count": null,
      "outputs": []
    },
    {
      "cell_type": "code",
      "metadata": {
        "id": "VbhuZOE5WSp2"
      },
      "source": [
        "lines = seperateLines(doc)"
      ],
      "execution_count": null,
      "outputs": []
    },
    {
      "cell_type": "code",
      "metadata": {
        "id": "eG3AOhvkWsAO",
        "outputId": "9c61279d-f647-4a2c-a02b-1d3683a6bb56",
        "colab": {
          "base_uri": "https://localhost:8080/",
          "height": 35
        }
      },
      "source": [
        "lines[1]"
      ],
      "execution_count": null,
      "outputs": [
        {
          "output_type": "execute_result",
          "data": {
            "application/vnd.google.colaboratory.intrinsic+json": {
              "type": "string"
            },
            "text/plain": [
              "'himaya'"
            ]
          },
          "metadata": {
            "tags": []
          },
          "execution_count": 169
        }
      ]
    },
    {
      "cell_type": "code",
      "metadata": {
        "id": "xc-UxnrOWtCL",
        "outputId": "fb78ae3a-1847-4591-f332-2cb8f8a33662",
        "colab": {
          "base_uri": "https://localhost:8080/",
          "height": 1000
        }
      },
      "source": [
        "lines"
      ],
      "execution_count": null,
      "outputs": [
        {
          "output_type": "execute_result",
          "data": {
            "text/plain": [
              "['cfab031108',\n",
              " 'himaya',\n",
              " 'mansourieh gate center, block b,',\n",
              " '2nd floor, mansourieh, lebanon',\n",
              " 'by email info@himaya.org',\n",
              " 'rosehabchidaher@gmail.com',\n",
              " 'monday, february 11, 2019 dear rose,',\n",
              " 're: carol (dob: 29/08/2011) and fadi (dob: 19/08/2010)',\n",
              " 'i am writing from children and families across borders, uk, to request your assistance on this case. it involves two children who are placed with foster carers in the uk. the foster carers travel to lebanon frequently and would like to take the children with them for a holiday. as the children are in foster care, children’s services in bromley have parental responsibility for them and have to ensure that the children are safe at all times. therefore, they are asking for you cooperation to visit a family friend who will be accommodating the children and their foster carers while they are on holiday in lebanon, and provide information regarding the suitability of the accommodation, the holiday activities and the plans in place to keep the children safe at all times.',\n",
              " 'please find further details in the case note below.',\n",
              " 'i remain at your disposal for further information – please confirm that you have received  this referral as soon as possible.',\n",
              " 'kind regards,',\n",
              " 'maria sînziana danciu intercountry caseworker',\n",
              " 'children and families across borders maria@cfab.org.uk',\n",
              " 'case note',\n",
              " 'children concerned x 2 (in the united kingdom)',\n",
              " 'surname:',\n",
              " 'first name:carol',\n",
              " 'gender:female date of birth:2011 current address: london',\n",
              " 'place of birth:croydon, london nationality:british',\n",
              " 'ethnicity:white british',\n",
              " 'legal order:care order to london borough of bromley',\n",
              " 'surname:',\n",
              " 'first name:fadi',\n",
              " 'gender:male',\n",
              " 'date of birth:2010 current address: london place of birth:hampshire nationality:british',\n",
              " 'ethnicity:mixed-black caribbean and white british legal order:care order',\n",
              " 'children’s foster carers (in the united kingdom)',\n",
              " 'surname:',\n",
              " 'first name:sarah',\n",
              " 'date of birth:1985 current address: london',\n",
              " 'surname:',\n",
              " 'first name:johnny',\n",
              " 'date of birth:1986 current address: london',\n",
              " 'ethnicity:lebanese and scottish',\n",
              " 'family friends of foster carers (in lebanon)',\n",
              " 'surname:',\n",
              " 'first name:naji',\n",
              " 'current address: …',\n",
              " 'tel. / email:…',\n",
              " 'nationality:lebanese',\n",
              " 'background information',\n",
              " 'carol and fadi are in a long term foster placement with mr and mrs …. both children were removed from the care of their respective parents and were placed in long term foster care with mr. and mrs …. bromley children’s services have parental responsibility for the carol and fadi and make decisions about their care and upbringing, including authorising overseas travel.',\n",
              " 'mr … is of lebanese descent and, as part of their general family life, mr and mrs …make regular trips to visit relatives and family friends in lebanon. mr and mrs …wish to travel to lebanon with carol and fadi. however, information from the uk government website states that there is a risk of terrorist activity in lebanon. therefore, children’s services in bromley want to ensure that it is safe enough for the children to travel to lebanon before they authorise that carol and fadi can travel to lebanon with their foster carers.',\n",
              " 'if they are authorised to travel to lebanon with the children, mr and mrs … would be staying with their friend, mr. naji at the address above.',\n",
              " 'children’s needs',\n",
              " 'carol and fadi are settled in their placement with mr and mrs …. both attend a mainstream primary school in the catford area and are progressing well academically although carol is performing a little below age related expectations.',\n",
              " 'carol suffers with chronic constipation which can cause faecal soiling. carol requires medication to manage her constipation. mr and mrs … administer carol’s medication. fadi has no health conditions.',\n",
              " 'children’s wishes and feelings',\n",
              " 'fadi and carol were excited and looking forward to travelling to lebanon with their foster carers. understandably, they were disappointed when the trip was unable to go ahead in october 2018.',\n",
              " 'service requested',\n",
              " 'children’s services are seeking your cooperation to visit the home of mr. naji and provide a report regarding the suitability of the home, the plans for the children’s holiday',\n",
              " 'and what support he would offer to mr and mrs … in order to keep the children safe during their stay in lebanon.',\n",
              " 'this report will inform the decision of children’s services on whether they will authorise for carol and fadi to travel to lebanon.',\n",
              " 'the report should cover the following areas:',\n",
              " 'how will the safety of the children be secured during their visit in lebanon? in the event of a terrorist attack in the baabdat area, how would the children’s safety be ensured? how would mr. naji support the carers to keep the children safe in the event of an unrest in area, such as a terrorist attack?',\n",
              " 'what do you think the children’s general experience of a holiday in lebanon would be? please comment on the suitability of the accommodation where the children and their carers will stay during their holiday in lebanon. please provide some photographs, if possible.',\n",
              " 'in the last two years, have there been any instances of unrest, including tourist attacks in the areas where the children/family will be staying or visit? we understand that the children and carers will visit areas including baabdat, mansourieh, gemmayze, and jbeil .',\n",
              " 'thank you for your collaboration. please do not hesitate to contact maria@cfab.org.uk quoting cfab031108 should you require further information.',\n",
              " 'children and families across borders (cfab), first floor, victoria charity centre, 11 belgrave',\n",
              " 'road, london, sw1v 1rb | +44 (0)207 735 8941 | info@cfab.org.uk |cfab.org.uk',\n",
              " 'private limited company no. 4025539 | registered charity number: 1085541 | cfab is the uk branch of international social service (iss)']"
            ]
          },
          "metadata": {
            "tags": []
          },
          "execution_count": 170
        }
      ]
    },
    {
      "cell_type": "code",
      "metadata": {
        "id": "Xz-e0vKYex-O"
      },
      "source": [
        "searched_elements = [\"name\", \"birth\", \"born\",\"ethnicity\", \"nationality\", \"gender\", \"date\", \"the child\",\"residence\",\"female\",\"male\",\"residing\",\"mother\",\"father\"]\n",
        "def takeNeededInfos(lines): \n",
        "  ## There are lots of information. But this notebook just for the take personal infoormations.\n",
        "  ## Because of that just taking personal infos.\n",
        "  results = list()\n",
        "  for i in lines:\n",
        "    for j in searched_elements:\n",
        "      if j in i:\n",
        "        results.append(i)\n",
        "  return results"
      ],
      "execution_count": null,
      "outputs": []
    },
    {
      "cell_type": "code",
      "metadata": {
        "id": "3nOB-crMtisK"
      },
      "source": [
        "def remove_duplicates(x):\n",
        "  return list(dict.fromkeys(x))"
      ],
      "execution_count": null,
      "outputs": []
    },
    {
      "cell_type": "code",
      "metadata": {
        "id": "zIy6IEPitlv0"
      },
      "source": [
        "document = takeNeededInfos(lines)\n",
        "document = remove_duplicates(results)"
      ],
      "execution_count": null,
      "outputs": []
    },
    {
      "cell_type": "code",
      "metadata": {
        "id": "jI79MgBlfIjf"
      },
      "source": [
        "def getNamedEntities(document):\n",
        "  for i in document:\n",
        "      print(i)\n",
        "      doc = nlp(i)\n",
        "      for entity in doc.ents:\n",
        "        print(entity.text, entity.label_)"
      ],
      "execution_count": null,
      "outputs": []
    },
    {
      "cell_type": "code",
      "metadata": {
        "id": "ztirdNsiviw3",
        "outputId": "2128959e-09ee-42b7-e2e2-c76a5e2781ba",
        "colab": {
          "base_uri": "https://localhost:8080/",
          "height": 697
        }
      },
      "source": [
        "getNamedEntities(document)"
      ],
      "execution_count": null,
      "outputs": [
        {
          "output_type": "stream",
          "text": [
            "surname:\n",
            "first name:carol\n",
            "first ORDINAL\n",
            "gender:female date of birth:2011 current address: london\n",
            "birth:2011 GPE\n",
            "london GPE\n",
            "place of birth:croydon, london nationality:british\n",
            "croydon ORG\n",
            "london GPE\n",
            "british NORP\n",
            "ethnicity:white british\n",
            "british NORP\n",
            "first name:fadi\n",
            "first ORDINAL\n",
            "gender:male\n",
            "date of birth:2010 current address: london place of birth:hampshire nationality:british\n",
            "birth:2010 GPE\n",
            "london GPE\n",
            "hampshire GPE\n",
            "british NORP\n",
            "ethnicity:mixed-black caribbean and white british legal order:care order\n",
            "british NORP\n",
            "first name:sarah\n",
            "first ORDINAL\n",
            "sarah PERSON\n",
            "date of birth:1985 current address: london\n",
            "birth:1985 GPE\n",
            "london GPE\n",
            "first name:johnny\n",
            "first ORDINAL\n",
            "date of birth:1986 current address: london\n",
            "birth:1986 GPE\n",
            "london GPE\n",
            "ethnicity:lebanese and scottish\n",
            "lebanese NORP\n",
            "scottish NORP\n",
            "first name:naji\n",
            "first ORDINAL\n",
            "nationality:lebanese\n",
            "lebanese NORP\n"
          ],
          "name": "stdout"
        }
      ]
    },
    {
      "cell_type": "markdown",
      "metadata": {
        "id": "doHE4l7q2W2v"
      },
      "source": [
        "## Meaning of Entities\n",
        "![spacy](https://miro.medium.com/max/875/1*qQggIPMugLcy-ndJ8X_aAA.png)"
      ]
    },
    {
      "cell_type": "code",
      "metadata": {
        "id": "OtNac-rzk2Ms"
      },
      "source": [
        "'''\n",
        "def parting_persons(res): \n",
        "  ## parting_persons () identifies people and keeps each person in the dictionary differently.\n",
        "  ## Since each document has a different structure, it does not work exactly.\n",
        "  ## TO-DO --> Make this a dynamic function\n",
        "  persons = dict()\n",
        "  start = 0\n",
        "  counter = 0\n",
        "  for index, i in enumerate(res):\n",
        "    if \"name\" in i and \"surname\" not in i:\n",
        "      persons[counter] = res[start:index]\n",
        "      start = index\n",
        "      counter += 1\n",
        "  persons[counter] = res[start:len(res)]\n",
        "  return persons\n",
        "  '''"
      ],
      "execution_count": null,
      "outputs": []
    },
    {
      "cell_type": "code",
      "metadata": {
        "id": "vj8zezDbh9Wh"
      },
      "source": [
        "#pers = parting_persons(results)"
      ],
      "execution_count": null,
      "outputs": []
    },
    {
      "cell_type": "code",
      "metadata": {
        "id": "-O6Rypiiq5Am",
        "outputId": "0acf06dc-e76b-4b94-fda6-a1043f958f5d",
        "colab": {
          "base_uri": "https://localhost:8080/",
          "height": 459
        }
      },
      "source": [
        "#pers"
      ],
      "execution_count": null,
      "outputs": [
        {
          "output_type": "execute_result",
          "data": {
            "text/plain": [
              "{0: ['surname:'],\n",
              " 1: ['first name:carol',\n",
              "  'gender:female date of birth:2011 current address: london',\n",
              "  'gender:female date of birth:2011 current address: london',\n",
              "  'gender:female date of birth:2011 current address: london',\n",
              "  'place of birth:croydon, london nationality:british',\n",
              "  'place of birth:croydon, london nationality:british',\n",
              "  'ethnicity:white british',\n",
              "  'surname:'],\n",
              " 2: ['first name:fadi',\n",
              "  'gender:male',\n",
              "  'date of birth:2010 current address: london place of birth:hampshire nationality:british',\n",
              "  'date of birth:2010 current address: london place of birth:hampshire nationality:british',\n",
              "  'date of birth:2010 current address: london place of birth:hampshire nationality:british',\n",
              "  'ethnicity:mixed-black caribbean and white british legal order:care order',\n",
              "  'surname:'],\n",
              " 3: ['first name:sarah',\n",
              "  'date of birth:1985 current address: london',\n",
              "  'date of birth:1985 current address: london',\n",
              "  'surname:'],\n",
              " 4: ['first name:johnny',\n",
              "  'date of birth:1986 current address: london',\n",
              "  'date of birth:1986 current address: london',\n",
              "  'ethnicity:lebanese and scottish',\n",
              "  'surname:'],\n",
              " 5: ['first name:naji', 'nationality:lebanese']}"
            ]
          },
          "metadata": {
            "tags": []
          },
          "execution_count": 188
        }
      ]
    }
  ]
}