{
  "nbformat": 4,
  "nbformat_minor": 0,
  "metadata": {
    "colab": {
      "name": "PyCaret_LDA for Case Referrals - Omdena.ipynb",
      "provenance": [],
      "collapsed_sections": []
    },
    "kernelspec": {
      "name": "python3",
      "display_name": "Python 3"
    },
    "widgets": {
      "application/vnd.jupyter.widget-state+json": {
        "50f99b11deac4ff2931b8f69de77282c": {
          "model_module": "@jupyter-widgets/controls",
          "model_name": "IntProgressModel",
          "state": {
            "_view_name": "ProgressView",
            "style": "IPY_MODEL_d22560d94085410a9772753b2ea417f7",
            "_dom_classes": [],
            "description": "Processing: ",
            "_model_name": "IntProgressModel",
            "bar_style": "",
            "max": 11,
            "_view_module": "@jupyter-widgets/controls",
            "_model_module_version": "1.5.0",
            "value": 11,
            "_view_count": null,
            "_view_module_version": "1.5.0",
            "orientation": "horizontal",
            "min": 0,
            "description_tooltip": null,
            "_model_module": "@jupyter-widgets/controls",
            "layout": "IPY_MODEL_43d22a1f69da447ebd25639e3f78cd98"
          }
        },
        "d22560d94085410a9772753b2ea417f7": {
          "model_module": "@jupyter-widgets/controls",
          "model_name": "ProgressStyleModel",
          "state": {
            "_view_name": "StyleView",
            "_model_name": "ProgressStyleModel",
            "description_width": "",
            "_view_module": "@jupyter-widgets/base",
            "_model_module_version": "1.5.0",
            "_view_count": null,
            "_view_module_version": "1.2.0",
            "bar_color": null,
            "_model_module": "@jupyter-widgets/controls"
          }
        },
        "43d22a1f69da447ebd25639e3f78cd98": {
          "model_module": "@jupyter-widgets/base",
          "model_name": "LayoutModel",
          "state": {
            "_view_name": "LayoutView",
            "grid_template_rows": null,
            "right": null,
            "justify_content": null,
            "_view_module": "@jupyter-widgets/base",
            "overflow": null,
            "_model_module_version": "1.2.0",
            "_view_count": null,
            "flex_flow": null,
            "width": null,
            "min_width": null,
            "border": null,
            "align_items": null,
            "bottom": null,
            "_model_module": "@jupyter-widgets/base",
            "top": null,
            "grid_column": null,
            "overflow_y": null,
            "overflow_x": null,
            "grid_auto_flow": null,
            "grid_area": null,
            "grid_template_columns": null,
            "flex": null,
            "_model_name": "LayoutModel",
            "justify_items": null,
            "grid_row": null,
            "max_height": null,
            "align_content": null,
            "visibility": null,
            "align_self": null,
            "height": null,
            "min_height": null,
            "padding": null,
            "grid_auto_rows": null,
            "grid_gap": null,
            "max_width": null,
            "order": null,
            "_view_module_version": "1.2.0",
            "grid_template_areas": null,
            "object_position": null,
            "object_fit": null,
            "grid_auto_columns": null,
            "margin": null,
            "display": null,
            "left": null
          }
        },
        "d3043c4b4a344ece94ed3ec5e27eab7c": {
          "model_module": "@jupyter-widgets/controls",
          "model_name": "VBoxModel",
          "state": {
            "_view_name": "VBoxView",
            "_dom_classes": [
              "widget-interact"
            ],
            "_model_name": "VBoxModel",
            "_view_module": "@jupyter-widgets/controls",
            "_model_module_version": "1.5.0",
            "_view_count": null,
            "_view_module_version": "1.5.0",
            "box_style": "",
            "layout": "IPY_MODEL_1e35fa9d757c4e27ba110eacc4181e9c",
            "_model_module": "@jupyter-widgets/controls",
            "children": [
              "IPY_MODEL_e7108320beb54280973410684b384f40",
              "IPY_MODEL_7ecbfd65e1894fa2b4a710d70cb411b6",
              "IPY_MODEL_e0e90d10fe494737ab33998133e6edb5",
              "IPY_MODEL_7c7bf0d337b34070bca866f9201542ba"
            ]
          }
        },
        "1e35fa9d757c4e27ba110eacc4181e9c": {
          "model_module": "@jupyter-widgets/base",
          "model_name": "LayoutModel",
          "state": {
            "_view_name": "LayoutView",
            "grid_template_rows": null,
            "right": null,
            "justify_content": null,
            "_view_module": "@jupyter-widgets/base",
            "overflow": null,
            "_model_module_version": "1.2.0",
            "_view_count": null,
            "flex_flow": null,
            "width": null,
            "min_width": null,
            "border": null,
            "align_items": null,
            "bottom": null,
            "_model_module": "@jupyter-widgets/base",
            "top": null,
            "grid_column": null,
            "overflow_y": null,
            "overflow_x": null,
            "grid_auto_flow": null,
            "grid_area": null,
            "grid_template_columns": null,
            "flex": null,
            "_model_name": "LayoutModel",
            "justify_items": null,
            "grid_row": null,
            "max_height": null,
            "align_content": null,
            "visibility": null,
            "align_self": null,
            "height": null,
            "min_height": null,
            "padding": null,
            "grid_auto_rows": null,
            "grid_gap": null,
            "max_width": null,
            "order": null,
            "_view_module_version": "1.2.0",
            "grid_template_areas": null,
            "object_position": null,
            "object_fit": null,
            "grid_auto_columns": null,
            "margin": null,
            "display": null,
            "left": null
          }
        },
        "e7108320beb54280973410684b384f40": {
          "model_module": "@jupyter-widgets/controls",
          "model_name": "ToggleButtonsModel",
          "state": {
            "_options_labels": [
              "Frequency Plot",
              "Bigrams",
              "Trigrams",
              "Sentiment Polarity",
              "Word Cloud"
            ],
            "_view_name": "ToggleButtonsView",
            "style": "IPY_MODEL_8732e8c4c3454cc1bc7881e6ebec690b",
            "_dom_classes": [],
            "description": "Plot Type:",
            "_model_name": "ToggleButtonsModel",
            "tooltips": [],
            "index": 2,
            "button_style": "",
            "_view_module": "@jupyter-widgets/controls",
            "_model_module_version": "1.5.0",
            "_view_count": null,
            "disabled": false,
            "_view_module_version": "1.5.0",
            "icons": [
              ""
            ],
            "description_tooltip": null,
            "_model_module": "@jupyter-widgets/controls",
            "layout": "IPY_MODEL_1db39edc8b93457d801b85bbf6b89a1f"
          }
        },
        "7ecbfd65e1894fa2b4a710d70cb411b6": {
          "model_module": "@jupyter-widgets/controls",
          "model_name": "DropdownModel",
          "state": {
            "_options_labels": [
              "Topic 0",
              "Topic 1",
              "Topic 2",
              "Topic 3",
              "Topic 4",
              "Topic 5"
            ],
            "_view_name": "DropdownView",
            "style": "IPY_MODEL_50598583f51d48528dfe9ebb838d3730",
            "_dom_classes": [],
            "description": "Topic #:",
            "_model_name": "DropdownModel",
            "index": 5,
            "_view_module": "@jupyter-widgets/controls",
            "_model_module_version": "1.5.0",
            "_view_count": null,
            "disabled": false,
            "_view_module_version": "1.5.0",
            "description_tooltip": null,
            "_model_module": "@jupyter-widgets/controls",
            "layout": "IPY_MODEL_0d0942b49cdc4febb0f6c3ebdafb9fe5"
          }
        },
        "e0e90d10fe494737ab33998133e6edb5": {
          "model_module": "@jupyter-widgets/controls",
          "model_name": "ButtonModel",
          "state": {
            "_view_name": "ButtonView",
            "style": "IPY_MODEL_6a251a115b4f4013aa46356138236ea8",
            "_dom_classes": [],
            "description": "Run Interact",
            "_model_name": "ButtonModel",
            "button_style": "",
            "_view_module": "@jupyter-widgets/controls",
            "_model_module_version": "1.5.0",
            "tooltip": "",
            "_view_count": null,
            "disabled": false,
            "_view_module_version": "1.5.0",
            "layout": "IPY_MODEL_bd9b4174c24340638a33ff4e560a9ee5",
            "_model_module": "@jupyter-widgets/controls",
            "icon": ""
          }
        },
        "7c7bf0d337b34070bca866f9201542ba": {
          "model_module": "@jupyter-widgets/output",
          "model_name": "OutputModel",
          "state": {
            "_view_name": "OutputView",
            "msg_id": "",
            "_dom_classes": [],
            "_model_name": "OutputModel",
            "outputs": [
              {
                "output_type": "display_data",
                "metadata": {
                  "tags": []
                },
                "text/html": "        <script type=\"text/javascript\">\n        window.PlotlyConfig = {MathJaxConfig: 'local'};\n        if (window.MathJax) {MathJax.Hub.Config({SVG: {font: \"STIX-Web\"}});}\n        if (typeof require !== 'undefined') {\n        require.undef(\"plotly\");\n        requirejs.config({\n            paths: {\n                'plotly': ['https://cdn.plot.ly/plotly-latest.min']\n            }\n        });\n        require(['plotly'], function(Plotly) {\n            window._Plotly = Plotly;\n        });\n        }\n        </script>\n        "
              },
              {
                "output_type": "display_data",
                "metadata": {
                  "tags": []
                },
                "text/html": "<div>\n        \n        \n            <div id=\"d584f3f0-f1c5-43af-abaa-940202d14124\" class=\"plotly-graph-div\" style=\"height:525px; width:100%;\"></div>\n            <script type=\"text/javascript\">\n                require([\"plotly\"], function(Plotly) {\n                    window.PLOTLYENV=window.PLOTLYENV || {};\n                    window.PLOTLYENV.BASE_URL='https://plot.ly';\n                    \n                if (document.getElementById(\"d584f3f0-f1c5-43af-abaa-940202d14124\")) {\n                    Plotly.newPlot(\n                        'd584f3f0-f1c5-43af-abaa-940202d14124',\n                        [{\"marker\": {\"color\": \"rgba(255, 153, 51, 0.6)\", \"line\": {\"color\": \"rgba(255, 153, 51, 1.0)\", \"width\": 1}}, \"name\": \"count\", \"orientation\": \"v\", \"text\": \"\", \"type\": \"bar\", \"x\": [\"nationality syrian address\", \"syrian address phone\", \"address phone number\", \"phone number unknown\", \"keep child safe\", \"date birth current\", \"order care order\", \"number unknown unknown\", \"first name current\", \"child safe time\", \"child family border\", \"carer first name\", \"birth current address\", \"british legal order\", \"name current address\", \"legal order care\", \"white british legal\", \"unknown nationality syrian\", \"unknown unknown nationality\", \"information parent encounter\", \"facilitate establishment contact\", \"family situation person\", \"involve nationality syrian\", \"family turkey hence\", \"father request order\", \"father ensure possible\", \"get married month\", \"hence visit month\", \"go parent run\", \"former wife nationality\", \"go live family\", \"ensure possible reunification\", \"establishment contact father\", \"youssef nationality syrian\", \"encounter separation national\", \"case note statement\", \"address confidential father\", \"address nationality syrian\", \"also provide social\", \"ask wife daughter\", \"assistance regard year\", \"avoid conflict former\", \"away syrian conflict\", \"background information parent\", \"child currently live\", \"email background information\", \"confidential father request\", \"conflict former wife\", \"conflict lecturer due\", \"contact father ensure\", \"currently live order\", \"daughter turn go\", \"departure visit ask\", \"due job able\", \"job able go\", \"married month start\", \"lecturer due job\", \"live family turkey\", \"request order avoid\", \"reunification also provide\", \"run away syrian\", \"separation national get\", \"situation person involve\", \"social report family\", \"start daughter turn\", \"statement origin assistance\", \"syrian address confidential\", \"syrian address nationality\", \"syrian child currently\", \"syrian conflict lecturer\", \"turkey hence visit\", \"turn go parent\", \"unknown mother nationality\", \"unknown youssef nationality\", \"visit ask wife\", \"visit month departure\", \"wife nationality syrian\", \"report family situation\", \"regard year old\", \"provide social report\", \"number unknown mother\", \"live order facilitate\", \"year old syrian\", \"month departure visit\", \"month start daughter\", \"mother nationality syrian\", \"national get married\", \"note statement origin\", \"number email background\", \"number unknown youssef\", \"possible reunification also\", \"old syrian child\", \"order avoid conflict\", \"order facilitate establishment\", \"origin assistance regard\", \"parent encounter separation\", \"parent run away\", \"person involve nationality\", \"phone number email\", \"able go live\"], \"y\": [7, 5, 5, 4, 3, 2, 2, 2, 2, 2, 2, 2, 2, 2, 2, 2, 2, 2, 2, 1, 1, 1, 1, 1, 1, 1, 1, 1, 1, 1, 1, 1, 1, 1, 1, 1, 1, 1, 1, 1, 1, 1, 1, 1, 1, 1, 1, 1, 1, 1, 1, 1, 1, 1, 1, 1, 1, 1, 1, 1, 1, 1, 1, 1, 1, 1, 1, 1, 1, 1, 1, 1, 1, 1, 1, 1, 1, 1, 1, 1, 1, 1, 1, 1, 1, 1, 1, 1, 1, 1, 1, 1, 1, 1, 1, 1, 1, 1, 1, 1]}],\n                        {\"legend\": {\"bgcolor\": \"#F5F6F9\", \"font\": {\"color\": \"#4D5663\"}}, \"paper_bgcolor\": \"#F5F6F9\", \"plot_bgcolor\": \"#F5F6F9\", \"template\": {\"data\": {\"bar\": [{\"error_x\": {\"color\": \"#2a3f5f\"}, \"error_y\": {\"color\": \"#2a3f5f\"}, \"marker\": {\"line\": {\"color\": \"#E5ECF6\", \"width\": 0.5}}, \"type\": \"bar\"}], \"barpolar\": [{\"marker\": {\"line\": {\"color\": \"#E5ECF6\", \"width\": 0.5}}, \"type\": \"barpolar\"}], \"carpet\": [{\"aaxis\": {\"endlinecolor\": \"#2a3f5f\", \"gridcolor\": \"white\", \"linecolor\": \"white\", \"minorgridcolor\": \"white\", \"startlinecolor\": \"#2a3f5f\"}, \"baxis\": {\"endlinecolor\": \"#2a3f5f\", \"gridcolor\": \"white\", \"linecolor\": \"white\", \"minorgridcolor\": \"white\", \"startlinecolor\": \"#2a3f5f\"}, \"type\": \"carpet\"}], \"choropleth\": [{\"colorbar\": {\"outlinewidth\": 0, \"ticks\": \"\"}, \"type\": \"choropleth\"}], \"contour\": [{\"colorbar\": {\"outlinewidth\": 0, \"ticks\": \"\"}, \"colorscale\": [[0.0, \"#0d0887\"], [0.1111111111111111, \"#46039f\"], [0.2222222222222222, \"#7201a8\"], [0.3333333333333333, \"#9c179e\"], [0.4444444444444444, \"#bd3786\"], [0.5555555555555556, \"#d8576b\"], [0.6666666666666666, \"#ed7953\"], [0.7777777777777778, \"#fb9f3a\"], [0.8888888888888888, \"#fdca26\"], [1.0, \"#f0f921\"]], \"type\": \"contour\"}], \"contourcarpet\": [{\"colorbar\": {\"outlinewidth\": 0, \"ticks\": \"\"}, \"type\": \"contourcarpet\"}], \"heatmap\": [{\"colorbar\": {\"outlinewidth\": 0, \"ticks\": \"\"}, \"colorscale\": [[0.0, \"#0d0887\"], [0.1111111111111111, \"#46039f\"], [0.2222222222222222, \"#7201a8\"], [0.3333333333333333, \"#9c179e\"], [0.4444444444444444, \"#bd3786\"], [0.5555555555555556, \"#d8576b\"], [0.6666666666666666, \"#ed7953\"], [0.7777777777777778, \"#fb9f3a\"], [0.8888888888888888, \"#fdca26\"], [1.0, \"#f0f921\"]], \"type\": \"heatmap\"}], \"heatmapgl\": [{\"colorbar\": {\"outlinewidth\": 0, \"ticks\": \"\"}, \"colorscale\": [[0.0, \"#0d0887\"], [0.1111111111111111, \"#46039f\"], [0.2222222222222222, \"#7201a8\"], [0.3333333333333333, \"#9c179e\"], [0.4444444444444444, \"#bd3786\"], [0.5555555555555556, \"#d8576b\"], [0.6666666666666666, \"#ed7953\"], [0.7777777777777778, \"#fb9f3a\"], [0.8888888888888888, \"#fdca26\"], [1.0, \"#f0f921\"]], \"type\": \"heatmapgl\"}], \"histogram\": [{\"marker\": {\"colorbar\": {\"outlinewidth\": 0, \"ticks\": \"\"}}, \"type\": \"histogram\"}], \"histogram2d\": [{\"colorbar\": {\"outlinewidth\": 0, \"ticks\": \"\"}, \"colorscale\": [[0.0, \"#0d0887\"], [0.1111111111111111, \"#46039f\"], [0.2222222222222222, \"#7201a8\"], [0.3333333333333333, \"#9c179e\"], [0.4444444444444444, \"#bd3786\"], [0.5555555555555556, \"#d8576b\"], [0.6666666666666666, \"#ed7953\"], [0.7777777777777778, \"#fb9f3a\"], [0.8888888888888888, \"#fdca26\"], [1.0, \"#f0f921\"]], \"type\": \"histogram2d\"}], \"histogram2dcontour\": [{\"colorbar\": {\"outlinewidth\": 0, \"ticks\": \"\"}, \"colorscale\": [[0.0, \"#0d0887\"], [0.1111111111111111, \"#46039f\"], [0.2222222222222222, \"#7201a8\"], [0.3333333333333333, \"#9c179e\"], [0.4444444444444444, \"#bd3786\"], [0.5555555555555556, \"#d8576b\"], [0.6666666666666666, \"#ed7953\"], [0.7777777777777778, \"#fb9f3a\"], [0.8888888888888888, \"#fdca26\"], [1.0, \"#f0f921\"]], \"type\": \"histogram2dcontour\"}], \"mesh3d\": [{\"colorbar\": {\"outlinewidth\": 0, \"ticks\": \"\"}, \"type\": \"mesh3d\"}], \"parcoords\": [{\"line\": {\"colorbar\": {\"outlinewidth\": 0, \"ticks\": \"\"}}, \"type\": \"parcoords\"}], \"pie\": [{\"automargin\": true, \"type\": \"pie\"}], \"scatter\": [{\"marker\": {\"colorbar\": {\"outlinewidth\": 0, \"ticks\": \"\"}}, \"type\": \"scatter\"}], \"scatter3d\": [{\"line\": {\"colorbar\": {\"outlinewidth\": 0, \"ticks\": \"\"}}, \"marker\": {\"colorbar\": {\"outlinewidth\": 0, \"ticks\": \"\"}}, \"type\": \"scatter3d\"}], \"scattercarpet\": [{\"marker\": {\"colorbar\": {\"outlinewidth\": 0, \"ticks\": \"\"}}, \"type\": \"scattercarpet\"}], \"scattergeo\": [{\"marker\": {\"colorbar\": {\"outlinewidth\": 0, \"ticks\": \"\"}}, \"type\": \"scattergeo\"}], \"scattergl\": [{\"marker\": {\"colorbar\": {\"outlinewidth\": 0, \"ticks\": \"\"}}, \"type\": \"scattergl\"}], \"scattermapbox\": [{\"marker\": {\"colorbar\": {\"outlinewidth\": 0, \"ticks\": \"\"}}, \"type\": \"scattermapbox\"}], \"scatterpolar\": [{\"marker\": {\"colorbar\": {\"outlinewidth\": 0, \"ticks\": \"\"}}, \"type\": \"scatterpolar\"}], \"scatterpolargl\": [{\"marker\": {\"colorbar\": {\"outlinewidth\": 0, \"ticks\": \"\"}}, \"type\": \"scatterpolargl\"}], \"scatterternary\": [{\"marker\": {\"colorbar\": {\"outlinewidth\": 0, \"ticks\": \"\"}}, \"type\": \"scatterternary\"}], \"surface\": [{\"colorbar\": {\"outlinewidth\": 0, \"ticks\": \"\"}, \"colorscale\": [[0.0, \"#0d0887\"], [0.1111111111111111, \"#46039f\"], [0.2222222222222222, \"#7201a8\"], [0.3333333333333333, \"#9c179e\"], [0.4444444444444444, \"#bd3786\"], [0.5555555555555556, \"#d8576b\"], [0.6666666666666666, \"#ed7953\"], [0.7777777777777778, \"#fb9f3a\"], [0.8888888888888888, \"#fdca26\"], [1.0, \"#f0f921\"]], \"type\": \"surface\"}], \"table\": [{\"cells\": {\"fill\": {\"color\": \"#EBF0F8\"}, \"line\": {\"color\": \"white\"}}, \"header\": {\"fill\": {\"color\": \"#C8D4E3\"}, \"line\": {\"color\": \"white\"}}, \"type\": \"table\"}]}, \"layout\": {\"annotationdefaults\": {\"arrowcolor\": \"#2a3f5f\", \"arrowhead\": 0, \"arrowwidth\": 1}, \"coloraxis\": {\"colorbar\": {\"outlinewidth\": 0, \"ticks\": \"\"}}, \"colorscale\": {\"diverging\": [[0, \"#8e0152\"], [0.1, \"#c51b7d\"], [0.2, \"#de77ae\"], [0.3, \"#f1b6da\"], [0.4, \"#fde0ef\"], [0.5, \"#f7f7f7\"], [0.6, \"#e6f5d0\"], [0.7, \"#b8e186\"], [0.8, \"#7fbc41\"], [0.9, \"#4d9221\"], [1, \"#276419\"]], \"sequential\": [[0.0, \"#0d0887\"], [0.1111111111111111, \"#46039f\"], [0.2222222222222222, \"#7201a8\"], [0.3333333333333333, \"#9c179e\"], [0.4444444444444444, \"#bd3786\"], [0.5555555555555556, \"#d8576b\"], [0.6666666666666666, \"#ed7953\"], [0.7777777777777778, \"#fb9f3a\"], [0.8888888888888888, \"#fdca26\"], [1.0, \"#f0f921\"]], \"sequentialminus\": [[0.0, \"#0d0887\"], [0.1111111111111111, \"#46039f\"], [0.2222222222222222, \"#7201a8\"], [0.3333333333333333, \"#9c179e\"], [0.4444444444444444, \"#bd3786\"], [0.5555555555555556, \"#d8576b\"], [0.6666666666666666, \"#ed7953\"], [0.7777777777777778, \"#fb9f3a\"], [0.8888888888888888, \"#fdca26\"], [1.0, \"#f0f921\"]]}, \"colorway\": [\"#636efa\", \"#EF553B\", \"#00cc96\", \"#ab63fa\", \"#FFA15A\", \"#19d3f3\", \"#FF6692\", \"#B6E880\", \"#FF97FF\", \"#FECB52\"], \"font\": {\"color\": \"#2a3f5f\"}, \"geo\": {\"bgcolor\": \"white\", \"lakecolor\": \"white\", \"landcolor\": \"#E5ECF6\", \"showlakes\": true, \"showland\": true, \"subunitcolor\": \"white\"}, \"hoverlabel\": {\"align\": \"left\"}, \"hovermode\": \"closest\", \"mapbox\": {\"style\": \"light\"}, \"paper_bgcolor\": \"white\", \"plot_bgcolor\": \"#E5ECF6\", \"polar\": {\"angularaxis\": {\"gridcolor\": \"white\", \"linecolor\": \"white\", \"ticks\": \"\"}, \"bgcolor\": \"#E5ECF6\", \"radialaxis\": {\"gridcolor\": \"white\", \"linecolor\": \"white\", \"ticks\": \"\"}}, \"scene\": {\"xaxis\": {\"backgroundcolor\": \"#E5ECF6\", \"gridcolor\": \"white\", \"gridwidth\": 2, \"linecolor\": \"white\", \"showbackground\": true, \"ticks\": \"\", \"zerolinecolor\": \"white\"}, \"yaxis\": {\"backgroundcolor\": \"#E5ECF6\", \"gridcolor\": \"white\", \"gridwidth\": 2, \"linecolor\": \"white\", \"showbackground\": true, \"ticks\": \"\", \"zerolinecolor\": \"white\"}, \"zaxis\": {\"backgroundcolor\": \"#E5ECF6\", \"gridcolor\": \"white\", \"gridwidth\": 2, \"linecolor\": \"white\", \"showbackground\": true, \"ticks\": \"\", \"zerolinecolor\": \"white\"}}, \"shapedefaults\": {\"line\": {\"color\": \"#2a3f5f\"}}, \"ternary\": {\"aaxis\": {\"gridcolor\": \"white\", \"linecolor\": \"white\", \"ticks\": \"\"}, \"baxis\": {\"gridcolor\": \"white\", \"linecolor\": \"white\", \"ticks\": \"\"}, \"bgcolor\": \"#E5ECF6\", \"caxis\": {\"gridcolor\": \"white\", \"linecolor\": \"white\", \"ticks\": \"\"}}, \"title\": {\"x\": 0.05}, \"xaxis\": {\"automargin\": true, \"gridcolor\": \"white\", \"linecolor\": \"white\", \"ticks\": \"\", \"title\": {\"standoff\": 15}, \"zerolinecolor\": \"white\", \"zerolinewidth\": 2}, \"yaxis\": {\"automargin\": true, \"gridcolor\": \"white\", \"linecolor\": \"white\", \"ticks\": \"\", \"title\": {\"standoff\": 15}, \"zerolinecolor\": \"white\", \"zerolinewidth\": 2}}}, \"title\": {\"font\": {\"color\": \"#4D5663\"}, \"text\": \"Topic 5: Top 100 trigrams after removing stop words\"}, \"xaxis\": {\"gridcolor\": \"#E1E5ED\", \"linecolor\": \"black\", \"showgrid\": true, \"tickfont\": {\"color\": \"#4D5663\"}, \"title\": {\"font\": {\"color\": \"#4D5663\"}, \"text\": \"\"}, \"zerolinecolor\": \"#E1E5ED\"}, \"yaxis\": {\"gridcolor\": \"#E1E5ED\", \"linecolor\": \"black\", \"showgrid\": true, \"tickfont\": {\"color\": \"#4D5663\"}, \"title\": {\"font\": {\"color\": \"#4D5663\"}, \"text\": \"Count\"}, \"zerolinecolor\": \"#E1E5ED\"}},\n                        {\"showLink\": true, \"linkText\": \"Export to plot.ly\", \"plotlyServerURL\": \"https://plot.ly\", \"responsive\": true}\n                    ).then(function(){\n                            \nvar gd = document.getElementById('d584f3f0-f1c5-43af-abaa-940202d14124');\nvar x = new MutationObserver(function (mutations, observer) {{\n        var display = window.getComputedStyle(gd).display;\n        if (!display || display === 'none') {{\n            console.log([gd, 'removed!']);\n            Plotly.purge(gd);\n            observer.disconnect();\n        }}\n}});\n\n// Listen for the removal of the full notebook cells\nvar notebookContainer = gd.closest('#notebook-container');\nif (notebookContainer) {{\n    x.observe(notebookContainer, {childList: true});\n}}\n\n// Listen for the clearing of the current output cell\nvar outputEl = gd.closest('.output');\nif (outputEl) {{\n    x.observe(outputEl, {childList: true});\n}}\n\n                        })\n                };\n                });\n            </script>\n        </div>",
                "application/vnd.plotly.v1+json": {
                  "data": [
                    {
                      "name": "count",
                      "text": "",
                      "y": [
                        7,
                        5,
                        5,
                        4,
                        3,
                        2,
                        2,
                        2,
                        2,
                        2,
                        2,
                        2,
                        2,
                        2,
                        2,
                        2,
                        2,
                        2,
                        2,
                        1,
                        1,
                        1,
                        1,
                        1,
                        1,
                        1,
                        1,
                        1,
                        1,
                        1,
                        1,
                        1,
                        1,
                        1,
                        1,
                        1,
                        1,
                        1,
                        1,
                        1,
                        1,
                        1,
                        1,
                        1,
                        1,
                        1,
                        1,
                        1,
                        1,
                        1,
                        1,
                        1,
                        1,
                        1,
                        1,
                        1,
                        1,
                        1,
                        1,
                        1,
                        1,
                        1,
                        1,
                        1,
                        1,
                        1,
                        1,
                        1,
                        1,
                        1,
                        1,
                        1,
                        1,
                        1,
                        1,
                        1,
                        1,
                        1,
                        1,
                        1,
                        1,
                        1,
                        1,
                        1,
                        1,
                        1,
                        1,
                        1,
                        1,
                        1,
                        1,
                        1,
                        1,
                        1,
                        1,
                        1,
                        1,
                        1,
                        1,
                        1
                      ],
                      "marker": {
                        "color": "rgba(255, 153, 51, 0.6)",
                        "line": {
                          "color": "rgba(255, 153, 51, 1.0)",
                          "width": 1
                        }
                      },
                      "x": [
                        "nationality syrian address",
                        "syrian address phone",
                        "address phone number",
                        "phone number unknown",
                        "keep child safe",
                        "date birth current",
                        "order care order",
                        "number unknown unknown",
                        "first name current",
                        "child safe time",
                        "child family border",
                        "carer first name",
                        "birth current address",
                        "british legal order",
                        "name current address",
                        "legal order care",
                        "white british legal",
                        "unknown nationality syrian",
                        "unknown unknown nationality",
                        "information parent encounter",
                        "facilitate establishment contact",
                        "family situation person",
                        "involve nationality syrian",
                        "family turkey hence",
                        "father request order",
                        "father ensure possible",
                        "get married month",
                        "hence visit month",
                        "go parent run",
                        "former wife nationality",
                        "go live family",
                        "ensure possible reunification",
                        "establishment contact father",
                        "youssef nationality syrian",
                        "encounter separation national",
                        "case note statement",
                        "address confidential father",
                        "address nationality syrian",
                        "also provide social",
                        "ask wife daughter",
                        "assistance regard year",
                        "avoid conflict former",
                        "away syrian conflict",
                        "background information parent",
                        "child currently live",
                        "email background information",
                        "confidential father request",
                        "conflict former wife",
                        "conflict lecturer due",
                        "contact father ensure",
                        "currently live order",
                        "daughter turn go",
                        "departure visit ask",
                        "due job able",
                        "job able go",
                        "married month start",
                        "lecturer due job",
                        "live family turkey",
                        "request order avoid",
                        "reunification also provide",
                        "run away syrian",
                        "separation national get",
                        "situation person involve",
                        "social report family",
                        "start daughter turn",
                        "statement origin assistance",
                        "syrian address confidential",
                        "syrian address nationality",
                        "syrian child currently",
                        "syrian conflict lecturer",
                        "turkey hence visit",
                        "turn go parent",
                        "unknown mother nationality",
                        "unknown youssef nationality",
                        "visit ask wife",
                        "visit month departure",
                        "wife nationality syrian",
                        "report family situation",
                        "regard year old",
                        "provide social report",
                        "number unknown mother",
                        "live order facilitate",
                        "year old syrian",
                        "month departure visit",
                        "month start daughter",
                        "mother nationality syrian",
                        "national get married",
                        "note statement origin",
                        "number email background",
                        "number unknown youssef",
                        "possible reunification also",
                        "old syrian child",
                        "order avoid conflict",
                        "order facilitate establishment",
                        "origin assistance regard",
                        "parent encounter separation",
                        "parent run away",
                        "person involve nationality",
                        "phone number email",
                        "able go live"
                      ],
                      "type": "bar",
                      "orientation": "v"
                    }
                  ],
                  "config": {
                    "plotlyServerURL": "https://plot.ly",
                    "linkText": "Export to plot.ly",
                    "showLink": true
                  },
                  "layout": {
                    "template": {
                      "layout": {
                        "shapedefaults": {
                          "line": {
                            "color": "#2a3f5f"
                          }
                        },
                        "polar": {
                          "radialaxis": {
                            "ticks": "",
                            "gridcolor": "white",
                            "linecolor": "white"
                          },
                          "bgcolor": "#E5ECF6",
                          "angularaxis": {
                            "ticks": "",
                            "gridcolor": "white",
                            "linecolor": "white"
                          }
                        },
                        "colorway": [
                          "#636efa",
                          "#EF553B",
                          "#00cc96",
                          "#ab63fa",
                          "#FFA15A",
                          "#19d3f3",
                          "#FF6692",
                          "#B6E880",
                          "#FF97FF",
                          "#FECB52"
                        ],
                        "xaxis": {
                          "automargin": true,
                          "title": {
                            "standoff": 15
                          },
                          "zerolinewidth": 2,
                          "ticks": "",
                          "zerolinecolor": "white",
                          "gridcolor": "white",
                          "linecolor": "white"
                        },
                        "colorscale": {
                          "diverging": [
                            [
                              0,
                              "#8e0152"
                            ],
                            [
                              0.1,
                              "#c51b7d"
                            ],
                            [
                              0.2,
                              "#de77ae"
                            ],
                            [
                              0.3,
                              "#f1b6da"
                            ],
                            [
                              0.4,
                              "#fde0ef"
                            ],
                            [
                              0.5,
                              "#f7f7f7"
                            ],
                            [
                              0.6,
                              "#e6f5d0"
                            ],
                            [
                              0.7,
                              "#b8e186"
                            ],
                            [
                              0.8,
                              "#7fbc41"
                            ],
                            [
                              0.9,
                              "#4d9221"
                            ],
                            [
                              1,
                              "#276419"
                            ]
                          ],
                          "sequential": [
                            [
                              0,
                              "#0d0887"
                            ],
                            [
                              0.1111111111111111,
                              "#46039f"
                            ],
                            [
                              0.2222222222222222,
                              "#7201a8"
                            ],
                            [
                              0.3333333333333333,
                              "#9c179e"
                            ],
                            [
                              0.4444444444444444,
                              "#bd3786"
                            ],
                            [
                              0.5555555555555556,
                              "#d8576b"
                            ],
                            [
                              0.6666666666666666,
                              "#ed7953"
                            ],
                            [
                              0.7777777777777778,
                              "#fb9f3a"
                            ],
                            [
                              0.8888888888888888,
                              "#fdca26"
                            ],
                            [
                              1,
                              "#f0f921"
                            ]
                          ],
                          "sequentialminus": [
                            [
                              0,
                              "#0d0887"
                            ],
                            [
                              0.1111111111111111,
                              "#46039f"
                            ],
                            [
                              0.2222222222222222,
                              "#7201a8"
                            ],
                            [
                              0.3333333333333333,
                              "#9c179e"
                            ],
                            [
                              0.4444444444444444,
                              "#bd3786"
                            ],
                            [
                              0.5555555555555556,
                              "#d8576b"
                            ],
                            [
                              0.6666666666666666,
                              "#ed7953"
                            ],
                            [
                              0.7777777777777778,
                              "#fb9f3a"
                            ],
                            [
                              0.8888888888888888,
                              "#fdca26"
                            ],
                            [
                              1,
                              "#f0f921"
                            ]
                          ]
                        },
                        "paper_bgcolor": "white",
                        "plot_bgcolor": "#E5ECF6",
                        "title": {
                          "x": 0.05
                        },
                        "scene": {
                          "zaxis": {
                            "backgroundcolor": "#E5ECF6",
                            "ticks": "",
                            "gridwidth": 2,
                            "showbackground": true,
                            "zerolinecolor": "white",
                            "gridcolor": "white",
                            "linecolor": "white"
                          },
                          "xaxis": {
                            "backgroundcolor": "#E5ECF6",
                            "ticks": "",
                            "gridwidth": 2,
                            "showbackground": true,
                            "zerolinecolor": "white",
                            "gridcolor": "white",
                            "linecolor": "white"
                          },
                          "yaxis": {
                            "backgroundcolor": "#E5ECF6",
                            "ticks": "",
                            "gridwidth": 2,
                            "showbackground": true,
                            "zerolinecolor": "white",
                            "gridcolor": "white",
                            "linecolor": "white"
                          }
                        },
                        "yaxis": {
                          "automargin": true,
                          "title": {
                            "standoff": 15
                          },
                          "zerolinewidth": 2,
                          "ticks": "",
                          "zerolinecolor": "white",
                          "gridcolor": "white",
                          "linecolor": "white"
                        },
                        "annotationdefaults": {
                          "arrowwidth": 1,
                          "arrowhead": 0,
                          "arrowcolor": "#2a3f5f"
                        },
                        "hoverlabel": {
                          "align": "left"
                        },
                        "ternary": {
                          "bgcolor": "#E5ECF6",
                          "baxis": {
                            "ticks": "",
                            "gridcolor": "white",
                            "linecolor": "white"
                          },
                          "caxis": {
                            "ticks": "",
                            "gridcolor": "white",
                            "linecolor": "white"
                          },
                          "aaxis": {
                            "ticks": "",
                            "gridcolor": "white",
                            "linecolor": "white"
                          }
                        },
                        "mapbox": {
                          "style": "light"
                        },
                        "hovermode": "closest",
                        "font": {
                          "color": "#2a3f5f"
                        },
                        "geo": {
                          "showland": true,
                          "landcolor": "#E5ECF6",
                          "showlakes": true,
                          "bgcolor": "white",
                          "subunitcolor": "white",
                          "lakecolor": "white"
                        },
                        "coloraxis": {
                          "colorbar": {
                            "outlinewidth": 0,
                            "ticks": ""
                          }
                        }
                      },
                      "data": {
                        "mesh3d": [
                          {
                            "colorbar": {
                              "outlinewidth": 0,
                              "ticks": ""
                            },
                            "type": "mesh3d"
                          }
                        ],
                        "scattercarpet": [
                          {
                            "marker": {
                              "colorbar": {
                                "outlinewidth": 0,
                                "ticks": ""
                              }
                            },
                            "type": "scattercarpet"
                          }
                        ],
                        "pie": [
                          {
                            "automargin": true,
                            "type": "pie"
                          }
                        ],
                        "surface": [
                          {
                            "colorbar": {
                              "outlinewidth": 0,
                              "ticks": ""
                            },
                            "type": "surface",
                            "colorscale": [
                              [
                                0,
                                "#0d0887"
                              ],
                              [
                                0.1111111111111111,
                                "#46039f"
                              ],
                              [
                                0.2222222222222222,
                                "#7201a8"
                              ],
                              [
                                0.3333333333333333,
                                "#9c179e"
                              ],
                              [
                                0.4444444444444444,
                                "#bd3786"
                              ],
                              [
                                0.5555555555555556,
                                "#d8576b"
                              ],
                              [
                                0.6666666666666666,
                                "#ed7953"
                              ],
                              [
                                0.7777777777777778,
                                "#fb9f3a"
                              ],
                              [
                                0.8888888888888888,
                                "#fdca26"
                              ],
                              [
                                1,
                                "#f0f921"
                              ]
                            ]
                          }
                        ],
                        "table": [
                          {
                            "header": {
                              "line": {
                                "color": "white"
                              },
                              "fill": {
                                "color": "#C8D4E3"
                              }
                            },
                            "cells": {
                              "line": {
                                "color": "white"
                              },
                              "fill": {
                                "color": "#EBF0F8"
                              }
                            },
                            "type": "table"
                          }
                        ],
                        "scatterpolargl": [
                          {
                            "marker": {
                              "colorbar": {
                                "outlinewidth": 0,
                                "ticks": ""
                              }
                            },
                            "type": "scatterpolargl"
                          }
                        ],
                        "contour": [
                          {
                            "colorbar": {
                              "outlinewidth": 0,
                              "ticks": ""
                            },
                            "type": "contour",
                            "colorscale": [
                              [
                                0,
                                "#0d0887"
                              ],
                              [
                                0.1111111111111111,
                                "#46039f"
                              ],
                              [
                                0.2222222222222222,
                                "#7201a8"
                              ],
                              [
                                0.3333333333333333,
                                "#9c179e"
                              ],
                              [
                                0.4444444444444444,
                                "#bd3786"
                              ],
                              [
                                0.5555555555555556,
                                "#d8576b"
                              ],
                              [
                                0.6666666666666666,
                                "#ed7953"
                              ],
                              [
                                0.7777777777777778,
                                "#fb9f3a"
                              ],
                              [
                                0.8888888888888888,
                                "#fdca26"
                              ],
                              [
                                1,
                                "#f0f921"
                              ]
                            ]
                          }
                        ],
                        "carpet": [
                          {
                            "type": "carpet",
                            "baxis": {
                              "minorgridcolor": "white",
                              "gridcolor": "white",
                              "linecolor": "white",
                              "endlinecolor": "#2a3f5f",
                              "startlinecolor": "#2a3f5f"
                            },
                            "aaxis": {
                              "minorgridcolor": "white",
                              "gridcolor": "white",
                              "linecolor": "white",
                              "endlinecolor": "#2a3f5f",
                              "startlinecolor": "#2a3f5f"
                            }
                          }
                        ],
                        "contourcarpet": [
                          {
                            "colorbar": {
                              "outlinewidth": 0,
                              "ticks": ""
                            },
                            "type": "contourcarpet"
                          }
                        ],
                        "heatmap": [
                          {
                            "colorbar": {
                              "outlinewidth": 0,
                              "ticks": ""
                            },
                            "type": "heatmap",
                            "colorscale": [
                              [
                                0,
                                "#0d0887"
                              ],
                              [
                                0.1111111111111111,
                                "#46039f"
                              ],
                              [
                                0.2222222222222222,
                                "#7201a8"
                              ],
                              [
                                0.3333333333333333,
                                "#9c179e"
                              ],
                              [
                                0.4444444444444444,
                                "#bd3786"
                              ],
                              [
                                0.5555555555555556,
                                "#d8576b"
                              ],
                              [
                                0.6666666666666666,
                                "#ed7953"
                              ],
                              [
                                0.7777777777777778,
                                "#fb9f3a"
                              ],
                              [
                                0.8888888888888888,
                                "#fdca26"
                              ],
                              [
                                1,
                                "#f0f921"
                              ]
                            ]
                          }
                        ],
                        "scattermapbox": [
                          {
                            "marker": {
                              "colorbar": {
                                "outlinewidth": 0,
                                "ticks": ""
                              }
                            },
                            "type": "scattermapbox"
                          }
                        ],
                        "scatter3d": [
                          {
                            "marker": {
                              "colorbar": {
                                "outlinewidth": 0,
                                "ticks": ""
                              }
                            },
                            "line": {
                              "colorbar": {
                                "outlinewidth": 0,
                                "ticks": ""
                              }
                            },
                            "type": "scatter3d"
                          }
                        ],
                        "scattergl": [
                          {
                            "marker": {
                              "colorbar": {
                                "outlinewidth": 0,
                                "ticks": ""
                              }
                            },
                            "type": "scattergl"
                          }
                        ],
                        "scatterternary": [
                          {
                            "marker": {
                              "colorbar": {
                                "outlinewidth": 0,
                                "ticks": ""
                              }
                            },
                            "type": "scatterternary"
                          }
                        ],
                        "histogram": [
                          {
                            "marker": {
                              "colorbar": {
                                "outlinewidth": 0,
                                "ticks": ""
                              }
                            },
                            "type": "histogram"
                          }
                        ],
                        "heatmapgl": [
                          {
                            "colorbar": {
                              "outlinewidth": 0,
                              "ticks": ""
                            },
                            "type": "heatmapgl",
                            "colorscale": [
                              [
                                0,
                                "#0d0887"
                              ],
                              [
                                0.1111111111111111,
                                "#46039f"
                              ],
                              [
                                0.2222222222222222,
                                "#7201a8"
                              ],
                              [
                                0.3333333333333333,
                                "#9c179e"
                              ],
                              [
                                0.4444444444444444,
                                "#bd3786"
                              ],
                              [
                                0.5555555555555556,
                                "#d8576b"
                              ],
                              [
                                0.6666666666666666,
                                "#ed7953"
                              ],
                              [
                                0.7777777777777778,
                                "#fb9f3a"
                              ],
                              [
                                0.8888888888888888,
                                "#fdca26"
                              ],
                              [
                                1,
                                "#f0f921"
                              ]
                            ]
                          }
                        ],
                        "scatterpolar": [
                          {
                            "marker": {
                              "colorbar": {
                                "outlinewidth": 0,
                                "ticks": ""
                              }
                            },
                            "type": "scatterpolar"
                          }
                        ],
                        "histogram2d": [
                          {
                            "colorbar": {
                              "outlinewidth": 0,
                              "ticks": ""
                            },
                            "type": "histogram2d",
                            "colorscale": [
                              [
                                0,
                                "#0d0887"
                              ],
                              [
                                0.1111111111111111,
                                "#46039f"
                              ],
                              [
                                0.2222222222222222,
                                "#7201a8"
                              ],
                              [
                                0.3333333333333333,
                                "#9c179e"
                              ],
                              [
                                0.4444444444444444,
                                "#bd3786"
                              ],
                              [
                                0.5555555555555556,
                                "#d8576b"
                              ],
                              [
                                0.6666666666666666,
                                "#ed7953"
                              ],
                              [
                                0.7777777777777778,
                                "#fb9f3a"
                              ],
                              [
                                0.8888888888888888,
                                "#fdca26"
                              ],
                              [
                                1,
                                "#f0f921"
                              ]
                            ]
                          }
                        ],
                        "scattergeo": [
                          {
                            "marker": {
                              "colorbar": {
                                "outlinewidth": 0,
                                "ticks": ""
                              }
                            },
                            "type": "scattergeo"
                          }
                        ],
                        "bar": [
                          {
                            "marker": {
                              "line": {
                                "color": "#E5ECF6",
                                "width": 0.5
                              }
                            },
                            "type": "bar",
                            "error_x": {
                              "color": "#2a3f5f"
                            },
                            "error_y": {
                              "color": "#2a3f5f"
                            }
                          }
                        ],
                        "choropleth": [
                          {
                            "colorbar": {
                              "outlinewidth": 0,
                              "ticks": ""
                            },
                            "type": "choropleth"
                          }
                        ],
                        "parcoords": [
                          {
                            "line": {
                              "colorbar": {
                                "outlinewidth": 0,
                                "ticks": ""
                              }
                            },
                            "type": "parcoords"
                          }
                        ],
                        "barpolar": [
                          {
                            "marker": {
                              "line": {
                                "color": "#E5ECF6",
                                "width": 0.5
                              }
                            },
                            "type": "barpolar"
                          }
                        ],
                        "histogram2dcontour": [
                          {
                            "colorbar": {
                              "outlinewidth": 0,
                              "ticks": ""
                            },
                            "type": "histogram2dcontour",
                            "colorscale": [
                              [
                                0,
                                "#0d0887"
                              ],
                              [
                                0.1111111111111111,
                                "#46039f"
                              ],
                              [
                                0.2222222222222222,
                                "#7201a8"
                              ],
                              [
                                0.3333333333333333,
                                "#9c179e"
                              ],
                              [
                                0.4444444444444444,
                                "#bd3786"
                              ],
                              [
                                0.5555555555555556,
                                "#d8576b"
                              ],
                              [
                                0.6666666666666666,
                                "#ed7953"
                              ],
                              [
                                0.7777777777777778,
                                "#fb9f3a"
                              ],
                              [
                                0.8888888888888888,
                                "#fdca26"
                              ],
                              [
                                1,
                                "#f0f921"
                              ]
                            ]
                          }
                        ],
                        "scatter": [
                          {
                            "marker": {
                              "colorbar": {
                                "outlinewidth": 0,
                                "ticks": ""
                              }
                            },
                            "type": "scatter"
                          }
                        ]
                      }
                    },
                    "title": {
                      "text": "Topic 5: Top 100 trigrams after removing stop words",
                      "font": {
                        "color": "#4D5663"
                      }
                    },
                    "paper_bgcolor": "#F5F6F9",
                    "plot_bgcolor": "#F5F6F9",
                    "yaxis": {
                      "tickfont": {
                        "color": "#4D5663"
                      },
                      "title": {
                        "text": "Count",
                        "font": {
                          "color": "#4D5663"
                        }
                      },
                      "showgrid": true,
                      "zerolinecolor": "#E1E5ED",
                      "gridcolor": "#E1E5ED",
                      "linecolor": "black"
                    },
                    "xaxis": {
                      "tickfont": {
                        "color": "#4D5663"
                      },
                      "title": {
                        "text": "",
                        "font": {
                          "color": "#4D5663"
                        }
                      },
                      "showgrid": true,
                      "zerolinecolor": "#E1E5ED",
                      "gridcolor": "#E1E5ED",
                      "linecolor": "black"
                    },
                    "legend": {
                      "bgcolor": "#F5F6F9",
                      "font": {
                        "color": "#4D5663"
                      }
                    }
                  }
                }
              }
            ],
            "_view_module": "@jupyter-widgets/output",
            "_model_module_version": "1.0.0",
            "_view_count": null,
            "_view_module_version": "1.0.0",
            "layout": "IPY_MODEL_467dcc3a565944b48291d06e115905cc",
            "_model_module": "@jupyter-widgets/output"
          }
        },
        "8732e8c4c3454cc1bc7881e6ebec690b": {
          "model_module": "@jupyter-widgets/controls",
          "model_name": "ToggleButtonsStyleModel",
          "state": {
            "_view_name": "StyleView",
            "button_width": "",
            "_model_name": "ToggleButtonsStyleModel",
            "description_width": "",
            "_view_module": "@jupyter-widgets/base",
            "_model_module_version": "1.5.0",
            "_view_count": null,
            "font_weight": "",
            "_view_module_version": "1.2.0",
            "_model_module": "@jupyter-widgets/controls"
          }
        },
        "1db39edc8b93457d801b85bbf6b89a1f": {
          "model_module": "@jupyter-widgets/base",
          "model_name": "LayoutModel",
          "state": {
            "_view_name": "LayoutView",
            "grid_template_rows": null,
            "right": null,
            "justify_content": null,
            "_view_module": "@jupyter-widgets/base",
            "overflow": null,
            "_model_module_version": "1.2.0",
            "_view_count": null,
            "flex_flow": null,
            "width": null,
            "min_width": null,
            "border": null,
            "align_items": null,
            "bottom": null,
            "_model_module": "@jupyter-widgets/base",
            "top": null,
            "grid_column": null,
            "overflow_y": null,
            "overflow_x": null,
            "grid_auto_flow": null,
            "grid_area": null,
            "grid_template_columns": null,
            "flex": null,
            "_model_name": "LayoutModel",
            "justify_items": null,
            "grid_row": null,
            "max_height": null,
            "align_content": null,
            "visibility": null,
            "align_self": null,
            "height": null,
            "min_height": null,
            "padding": null,
            "grid_auto_rows": null,
            "grid_gap": null,
            "max_width": null,
            "order": null,
            "_view_module_version": "1.2.0",
            "grid_template_areas": null,
            "object_position": null,
            "object_fit": null,
            "grid_auto_columns": null,
            "margin": null,
            "display": null,
            "left": null
          }
        },
        "50598583f51d48528dfe9ebb838d3730": {
          "model_module": "@jupyter-widgets/controls",
          "model_name": "DescriptionStyleModel",
          "state": {
            "_view_name": "StyleView",
            "_model_name": "DescriptionStyleModel",
            "description_width": "",
            "_view_module": "@jupyter-widgets/base",
            "_model_module_version": "1.5.0",
            "_view_count": null,
            "_view_module_version": "1.2.0",
            "_model_module": "@jupyter-widgets/controls"
          }
        },
        "0d0942b49cdc4febb0f6c3ebdafb9fe5": {
          "model_module": "@jupyter-widgets/base",
          "model_name": "LayoutModel",
          "state": {
            "_view_name": "LayoutView",
            "grid_template_rows": null,
            "right": null,
            "justify_content": null,
            "_view_module": "@jupyter-widgets/base",
            "overflow": null,
            "_model_module_version": "1.2.0",
            "_view_count": null,
            "flex_flow": null,
            "width": null,
            "min_width": null,
            "border": null,
            "align_items": null,
            "bottom": null,
            "_model_module": "@jupyter-widgets/base",
            "top": null,
            "grid_column": null,
            "overflow_y": null,
            "overflow_x": null,
            "grid_auto_flow": null,
            "grid_area": null,
            "grid_template_columns": null,
            "flex": null,
            "_model_name": "LayoutModel",
            "justify_items": null,
            "grid_row": null,
            "max_height": null,
            "align_content": null,
            "visibility": null,
            "align_self": null,
            "height": null,
            "min_height": null,
            "padding": null,
            "grid_auto_rows": null,
            "grid_gap": null,
            "max_width": null,
            "order": null,
            "_view_module_version": "1.2.0",
            "grid_template_areas": null,
            "object_position": null,
            "object_fit": null,
            "grid_auto_columns": null,
            "margin": null,
            "display": null,
            "left": null
          }
        },
        "6a251a115b4f4013aa46356138236ea8": {
          "model_module": "@jupyter-widgets/controls",
          "model_name": "ButtonStyleModel",
          "state": {
            "_view_name": "StyleView",
            "_model_name": "ButtonStyleModel",
            "_view_module": "@jupyter-widgets/base",
            "_model_module_version": "1.5.0",
            "_view_count": null,
            "button_color": null,
            "font_weight": "",
            "_view_module_version": "1.2.0",
            "_model_module": "@jupyter-widgets/controls"
          }
        },
        "bd9b4174c24340638a33ff4e560a9ee5": {
          "model_module": "@jupyter-widgets/base",
          "model_name": "LayoutModel",
          "state": {
            "_view_name": "LayoutView",
            "grid_template_rows": null,
            "right": null,
            "justify_content": null,
            "_view_module": "@jupyter-widgets/base",
            "overflow": null,
            "_model_module_version": "1.2.0",
            "_view_count": null,
            "flex_flow": null,
            "width": null,
            "min_width": null,
            "border": null,
            "align_items": null,
            "bottom": null,
            "_model_module": "@jupyter-widgets/base",
            "top": null,
            "grid_column": null,
            "overflow_y": null,
            "overflow_x": null,
            "grid_auto_flow": null,
            "grid_area": null,
            "grid_template_columns": null,
            "flex": null,
            "_model_name": "LayoutModel",
            "justify_items": null,
            "grid_row": null,
            "max_height": null,
            "align_content": null,
            "visibility": null,
            "align_self": null,
            "height": null,
            "min_height": null,
            "padding": null,
            "grid_auto_rows": null,
            "grid_gap": null,
            "max_width": null,
            "order": null,
            "_view_module_version": "1.2.0",
            "grid_template_areas": null,
            "object_position": null,
            "object_fit": null,
            "grid_auto_columns": null,
            "margin": null,
            "display": null,
            "left": null
          }
        },
        "467dcc3a565944b48291d06e115905cc": {
          "model_module": "@jupyter-widgets/base",
          "model_name": "LayoutModel",
          "state": {
            "_view_name": "LayoutView",
            "grid_template_rows": null,
            "right": null,
            "justify_content": null,
            "_view_module": "@jupyter-widgets/base",
            "overflow": null,
            "_model_module_version": "1.2.0",
            "_view_count": null,
            "flex_flow": null,
            "width": null,
            "min_width": null,
            "border": null,
            "align_items": null,
            "bottom": null,
            "_model_module": "@jupyter-widgets/base",
            "top": null,
            "grid_column": null,
            "overflow_y": null,
            "overflow_x": null,
            "grid_auto_flow": null,
            "grid_area": null,
            "grid_template_columns": null,
            "flex": null,
            "_model_name": "LayoutModel",
            "justify_items": null,
            "grid_row": null,
            "max_height": null,
            "align_content": null,
            "visibility": null,
            "align_self": null,
            "height": null,
            "min_height": null,
            "padding": null,
            "grid_auto_rows": null,
            "grid_gap": null,
            "max_width": null,
            "order": null,
            "_view_module_version": "1.2.0",
            "grid_template_areas": null,
            "object_position": null,
            "object_fit": null,
            "grid_auto_columns": null,
            "margin": null,
            "display": null,
            "left": null
          }
        }
      }
    }
  },
  "cells": [
    {
      "cell_type": "code",
      "metadata": {
        "id": "-E43CMqjs4Wc"
      },
      "source": [
        "import pandas as pd\n",
        "import re\n",
        "import string\n",
        "%load_ext autoreload\n",
        "%autoreload 2"
      ],
      "execution_count": null,
      "outputs": []
    },
    {
      "cell_type": "code",
      "metadata": {
        "id": "yCczy_DJxY13",
        "outputId": "00d36245-65ee-42c4-ead5-d22ac1dacaac",
        "colab": {
          "base_uri": "https://localhost:8080/",
          "height": 1000
        }
      },
      "source": [
        "!pip install pycaret"
      ],
      "execution_count": null,
      "outputs": [
        {
          "output_type": "stream",
          "text": [
            "Collecting pycaret\n",
            "\u001b[?25l  Downloading https://files.pythonhosted.org/packages/0c/76/d8cfa05d2a6f751f57dbb2d2dfe1e0b154aadebbc421432b9375339ad7db/pycaret-2.1.2-py3-none-any.whl (252kB)\n",
            "\u001b[K     |████████████████████████████████| 256kB 2.8MB/s \n",
            "\u001b[?25hCollecting lightgbm>=2.3.1\n",
            "\u001b[?25l  Downloading https://files.pythonhosted.org/packages/25/47/f8ef524e15ff86f5246cb4e1cee200b747ddb2536429fa021cc5f17ea40a/lightgbm-3.0.0-py2.py3-none-manylinux1_x86_64.whl (1.7MB)\n",
            "\u001b[K     |████████████████████████████████| 1.8MB 6.6MB/s \n",
            "\u001b[?25hRequirement already satisfied: nltk in /usr/local/lib/python3.6/dist-packages (from pycaret) (3.2.5)\n",
            "Requirement already satisfied: pandas in /usr/local/lib/python3.6/dist-packages (from pycaret) (1.1.2)\n",
            "Requirement already satisfied: gensim in /usr/local/lib/python3.6/dist-packages (from pycaret) (3.6.0)\n",
            "Collecting kmodes>=0.10.1\n",
            "  Downloading https://files.pythonhosted.org/packages/b2/55/d8ec1ae1f7e1e202a8a4184c6852a3ee993b202b0459672c699d0ac18fc8/kmodes-0.10.2-py2.py3-none-any.whl\n",
            "Requirement already satisfied: spacy in /usr/local/lib/python3.6/dist-packages (from pycaret) (2.2.4)\n",
            "Requirement already satisfied: IPython in /usr/local/lib/python3.6/dist-packages (from pycaret) (5.5.0)\n",
            "Requirement already satisfied: wordcloud in /usr/local/lib/python3.6/dist-packages (from pycaret) (1.5.0)\n",
            "Requirement already satisfied: matplotlib in /usr/local/lib/python3.6/dist-packages (from pycaret) (3.2.2)\n",
            "Requirement already satisfied: cufflinks>=0.17.0 in /usr/local/lib/python3.6/dist-packages (from pycaret) (0.17.3)\n",
            "Collecting mlflow\n",
            "\u001b[?25l  Downloading https://files.pythonhosted.org/packages/aa/2d/7fa1f6e310ded489d943ea20cd7977a9867cb8d81b526d9c9460ce4a5b39/mlflow-1.11.0-py3-none-any.whl (13.9MB)\n",
            "\u001b[K     |████████████████████████████████| 13.9MB 303kB/s \n",
            "\u001b[?25hRequirement already satisfied: plotly>=4.4.1 in /usr/local/lib/python3.6/dist-packages (from pycaret) (4.4.1)\n",
            "Requirement already satisfied: numpy>=1.17 in /usr/local/lib/python3.6/dist-packages (from pycaret) (1.18.5)\n",
            "Requirement already satisfied: seaborn in /usr/local/lib/python3.6/dist-packages (from pycaret) (0.11.0)\n",
            "Requirement already satisfied: joblib in /usr/local/lib/python3.6/dist-packages (from pycaret) (0.16.0)\n",
            "Collecting pandas-profiling>=2.8.0\n",
            "\u001b[?25l  Downloading https://files.pythonhosted.org/packages/32/79/5d03ed1172e3e67a997a6a795bcdd2ab58f84851969d01a91455383795b6/pandas_profiling-2.9.0-py2.py3-none-any.whl (258kB)\n",
            "\u001b[K     |████████████████████████████████| 266kB 43.2MB/s \n",
            "\u001b[?25hRequirement already satisfied: ipywidgets in /usr/local/lib/python3.6/dist-packages (from pycaret) (7.5.1)\n",
            "Collecting yellowbrick>=1.0.1\n",
            "\u001b[?25l  Downloading https://files.pythonhosted.org/packages/1f/ad/ae6744ddb9c7053916bed95430152b9a41b7d410e16a1cc7cd744a611d90/yellowbrick-1.2-py3-none-any.whl (269kB)\n",
            "\u001b[K     |████████████████████████████████| 276kB 42.5MB/s \n",
            "\u001b[?25hCollecting catboost>=0.23.2\n",
            "\u001b[?25l  Downloading https://files.pythonhosted.org/packages/52/39/128fff65072c8327371e3c594f3c826d29c85b21cb6485980353b168e0e4/catboost-0.24.2-cp36-none-manylinux1_x86_64.whl (66.1MB)\n",
            "\u001b[K     |████████████████████████████████| 66.2MB 53kB/s \n",
            "\u001b[?25hRequirement already satisfied: mlxtend in /usr/local/lib/python3.6/dist-packages (from pycaret) (0.14.0)\n",
            "Collecting imbalanced-learn>=0.6.2\n",
            "\u001b[?25l  Downloading https://files.pythonhosted.org/packages/c8/81/8db4d87b03b998fda7c6f835d807c9ae4e3b141f978597b8d7f31600be15/imbalanced_learn-0.7.0-py3-none-any.whl (167kB)\n",
            "\u001b[K     |████████████████████████████████| 174kB 43.6MB/s \n",
            "\u001b[?25hCollecting scikit-learn>=0.23\n",
            "\u001b[?25l  Downloading https://files.pythonhosted.org/packages/5c/a1/273def87037a7fb010512bbc5901c31cfddfca8080bc63b42b26e3cc55b3/scikit_learn-0.23.2-cp36-cp36m-manylinux1_x86_64.whl (6.8MB)\n",
            "\u001b[K     |████████████████████████████████| 6.8MB 33.9MB/s \n",
            "\u001b[?25hCollecting pyod\n",
            "\u001b[?25l  Downloading https://files.pythonhosted.org/packages/a3/4b/d2edd1e85b132d480feced17f044267b3e330391240779d78b1c3d378b24/pyod-0.8.3.tar.gz (96kB)\n",
            "\u001b[K     |████████████████████████████████| 102kB 10.1MB/s \n",
            "\u001b[?25hRequirement already satisfied: umap-learn in /usr/local/lib/python3.6/dist-packages (from pycaret) (0.4.6)\n",
            "Collecting datefinder>=0.7.0\n",
            "  Downloading https://files.pythonhosted.org/packages/0c/4f/29524c9ca35d2ba1a8a3c6c895b90fc92525cf0fe357f747133890953ebe/datefinder-0.7.1-py2.py3-none-any.whl\n",
            "Collecting pyLDAvis\n",
            "\u001b[?25l  Downloading https://files.pythonhosted.org/packages/a5/3a/af82e070a8a96e13217c8f362f9a73e82d61ac8fff3a2561946a97f96266/pyLDAvis-2.1.2.tar.gz (1.6MB)\n",
            "\u001b[K     |████████████████████████████████| 1.6MB 37.6MB/s \n",
            "\u001b[?25hRequirement already satisfied: xgboost>=0.90 in /usr/local/lib/python3.6/dist-packages (from pycaret) (0.90)\n",
            "Requirement already satisfied: textblob in /usr/local/lib/python3.6/dist-packages (from pycaret) (0.15.3)\n",
            "Requirement already satisfied: scipy in /usr/local/lib/python3.6/dist-packages (from lightgbm>=2.3.1->pycaret) (1.4.1)\n",
            "Requirement already satisfied: six in /usr/local/lib/python3.6/dist-packages (from nltk->pycaret) (1.15.0)\n",
            "Requirement already satisfied: python-dateutil>=2.7.3 in /usr/local/lib/python3.6/dist-packages (from pandas->pycaret) (2.8.1)\n",
            "Requirement already satisfied: pytz>=2017.2 in /usr/local/lib/python3.6/dist-packages (from pandas->pycaret) (2018.9)\n",
            "Requirement already satisfied: smart-open>=1.2.1 in /usr/local/lib/python3.6/dist-packages (from gensim->pycaret) (2.2.0)\n",
            "Requirement already satisfied: requests<3.0.0,>=2.13.0 in /usr/local/lib/python3.6/dist-packages (from spacy->pycaret) (2.23.0)\n",
            "Requirement already satisfied: cymem<2.1.0,>=2.0.2 in /usr/local/lib/python3.6/dist-packages (from spacy->pycaret) (2.0.3)\n",
            "Requirement already satisfied: preshed<3.1.0,>=3.0.2 in /usr/local/lib/python3.6/dist-packages (from spacy->pycaret) (3.0.2)\n",
            "Requirement already satisfied: blis<0.5.0,>=0.4.0 in /usr/local/lib/python3.6/dist-packages (from spacy->pycaret) (0.4.1)\n",
            "Requirement already satisfied: thinc==7.4.0 in /usr/local/lib/python3.6/dist-packages (from spacy->pycaret) (7.4.0)\n",
            "Requirement already satisfied: setuptools in /usr/local/lib/python3.6/dist-packages (from spacy->pycaret) (50.3.0)\n",
            "Requirement already satisfied: srsly<1.1.0,>=1.0.2 in /usr/local/lib/python3.6/dist-packages (from spacy->pycaret) (1.0.2)\n",
            "Requirement already satisfied: wasabi<1.1.0,>=0.4.0 in /usr/local/lib/python3.6/dist-packages (from spacy->pycaret) (0.8.0)\n",
            "Requirement already satisfied: catalogue<1.1.0,>=0.0.7 in /usr/local/lib/python3.6/dist-packages (from spacy->pycaret) (1.0.0)\n",
            "Requirement already satisfied: plac<1.2.0,>=0.9.6 in /usr/local/lib/python3.6/dist-packages (from spacy->pycaret) (1.1.3)\n",
            "Requirement already satisfied: murmurhash<1.1.0,>=0.28.0 in /usr/local/lib/python3.6/dist-packages (from spacy->pycaret) (1.0.2)\n",
            "Requirement already satisfied: tqdm<5.0.0,>=4.38.0 in /usr/local/lib/python3.6/dist-packages (from spacy->pycaret) (4.41.1)\n",
            "Requirement already satisfied: simplegeneric>0.8 in /usr/local/lib/python3.6/dist-packages (from IPython->pycaret) (0.8.1)\n",
            "Requirement already satisfied: pickleshare in /usr/local/lib/python3.6/dist-packages (from IPython->pycaret) (0.7.5)\n",
            "Requirement already satisfied: prompt-toolkit<2.0.0,>=1.0.4 in /usr/local/lib/python3.6/dist-packages (from IPython->pycaret) (1.0.18)\n",
            "Requirement already satisfied: pexpect; sys_platform != \"win32\" in /usr/local/lib/python3.6/dist-packages (from IPython->pycaret) (4.8.0)\n",
            "Requirement already satisfied: traitlets>=4.2 in /usr/local/lib/python3.6/dist-packages (from IPython->pycaret) (4.3.3)\n",
            "Requirement already satisfied: decorator in /usr/local/lib/python3.6/dist-packages (from IPython->pycaret) (4.4.2)\n",
            "Requirement already satisfied: pygments in /usr/local/lib/python3.6/dist-packages (from IPython->pycaret) (2.6.1)\n",
            "Requirement already satisfied: pillow in /usr/local/lib/python3.6/dist-packages (from wordcloud->pycaret) (7.0.0)\n",
            "Requirement already satisfied: cycler>=0.10 in /usr/local/lib/python3.6/dist-packages (from matplotlib->pycaret) (0.10.0)\n",
            "Requirement already satisfied: kiwisolver>=1.0.1 in /usr/local/lib/python3.6/dist-packages (from matplotlib->pycaret) (1.2.0)\n",
            "Requirement already satisfied: pyparsing!=2.0.4,!=2.1.2,!=2.1.6,>=2.0.1 in /usr/local/lib/python3.6/dist-packages (from matplotlib->pycaret) (2.4.7)\n",
            "Requirement already satisfied: colorlover>=0.2.1 in /usr/local/lib/python3.6/dist-packages (from cufflinks>=0.17.0->pycaret) (0.3.0)\n",
            "Requirement already satisfied: pyyaml in /usr/local/lib/python3.6/dist-packages (from mlflow->pycaret) (3.13)\n",
            "\u001b[33mWARNING: Retrying (Retry(total=4, connect=None, read=None, redirect=None, status=None)) after connection broken by 'ProtocolError('Connection aborted.', ConnectionResetError(104, 'Connection reset by peer'))': /simple/azure-storage-blob/\u001b[0m\n",
            "Collecting azure-storage-blob>=12.0\n",
            "\u001b[33m  WARNING: Retrying (Retry(total=4, connect=None, read=None, redirect=None, status=None)) after connection broken by 'ProtocolError('Connection aborted.', ConnectionResetError(104, 'Connection reset by peer'))': /packages/b8/84/7e51b3e1156bcb89a20b9ec641d4fced4800aa79daac3a403898c32046be/azure_storage_blob-12.5.0-py2.py3-none-any.whl\u001b[0m\n",
            "\u001b[?25l  Downloading https://files.pythonhosted.org/packages/b8/84/7e51b3e1156bcb89a20b9ec641d4fced4800aa79daac3a403898c32046be/azure_storage_blob-12.5.0-py2.py3-none-any.whl (326kB)\n",
            "\u001b[K     |████████████████████████████████| 327kB 2.7MB/s \n",
            "\u001b[?25hRequirement already satisfied: entrypoints in /usr/local/lib/python3.6/dist-packages (from mlflow->pycaret) (0.3)\n",
            "Requirement already satisfied: cloudpickle in /usr/local/lib/python3.6/dist-packages (from mlflow->pycaret) (1.3.0)\n",
            "Collecting gorilla\n",
            "  Downloading https://files.pythonhosted.org/packages/e3/56/5a683944cbfc77e429c6f03c636ca50504a785f60ffae91ddd7f5f7bb520/gorilla-0.3.0-py2.py3-none-any.whl\n",
            "Collecting sqlalchemy<=1.3.13\n",
            "\u001b[?25l  Downloading https://files.pythonhosted.org/packages/af/47/35edeb0f86c0b44934c05d961c893e223ef27e79e1f53b5e6f14820ff553/SQLAlchemy-1.3.13.tar.gz (6.0MB)\n",
            "\u001b[K     |████████████████████████████████| 6.0MB 11.9MB/s \n",
            "\u001b[?25hCollecting prometheus-flask-exporter\n",
            "  Downloading https://files.pythonhosted.org/packages/4c/d5/8a046d683c2cc084b6a502812827ede69b1064f95d93f94b83f809b21723/prometheus_flask_exporter-0.18.1.tar.gz\n",
            "Collecting docker>=4.0.0\n",
            "\u001b[?25l  Downloading https://files.pythonhosted.org/packages/9e/8c/8d42dbd83679483db207535f4fb02dc84325fa78b290f057694b057fcd21/docker-4.3.1-py2.py3-none-any.whl (145kB)\n",
            "\u001b[K     |████████████████████████████████| 153kB 37.2MB/s \n",
            "\u001b[?25hCollecting databricks-cli>=0.8.7\n",
            "\u001b[?25l  Downloading https://files.pythonhosted.org/packages/20/d9/01d0bda8d764be9e7448a41c34eec002e67e88e0d558b80d0ba922b4f7f0/databricks-cli-0.13.0.tar.gz (54kB)\n",
            "\u001b[K     |████████████████████████████████| 61kB 6.4MB/s \n",
            "\u001b[?25hRequirement already satisfied: protobuf>=3.6.0 in /usr/local/lib/python3.6/dist-packages (from mlflow->pycaret) (3.12.4)\n",
            "Requirement already satisfied: Flask in /usr/local/lib/python3.6/dist-packages (from mlflow->pycaret) (1.1.2)\n",
            "Collecting querystring-parser\n",
            "  Downloading https://files.pythonhosted.org/packages/88/6b/572b2590fd55114118bf08bde63c0a421dcc82d593700f3e2ad89908a8a9/querystring_parser-1.2.4-py2.py3-none-any.whl\n",
            "Requirement already satisfied: sqlparse in /usr/local/lib/python3.6/dist-packages (from mlflow->pycaret) (0.3.1)\n",
            "Collecting gitpython>=2.1.0\n",
            "\u001b[?25l  Downloading https://files.pythonhosted.org/packages/24/d1/a7f8fe3df258549b303415157328bfcc63e9b11d06a7ad7a3327f3d32606/GitPython-3.1.11-py3-none-any.whl (159kB)\n",
            "\u001b[K     |████████████████████████████████| 163kB 42.1MB/s \n",
            "\u001b[?25hRequirement already satisfied: click>=7.0 in /usr/local/lib/python3.6/dist-packages (from mlflow->pycaret) (7.1.2)\n",
            "Collecting alembic<=1.4.1\n",
            "\u001b[?25l  Downloading https://files.pythonhosted.org/packages/e0/e9/359dbb77c35c419df0aedeb1d53e71e7e3f438ff64a8fdb048c907404de3/alembic-1.4.1.tar.gz (1.1MB)\n",
            "\u001b[K     |████████████████████████████████| 1.1MB 40.7MB/s \n",
            "\u001b[?25hCollecting gunicorn; platform_system != \"Windows\"\n",
            "\u001b[?25l  Downloading https://files.pythonhosted.org/packages/69/ca/926f7cd3a2014b16870086b2d0fdc84a9e49473c68a8dff8b57f7c156f43/gunicorn-20.0.4-py2.py3-none-any.whl (77kB)\n",
            "\u001b[K     |████████████████████████████████| 81kB 7.9MB/s \n",
            "\u001b[?25hRequirement already satisfied: retrying>=1.3.3 in /usr/local/lib/python3.6/dist-packages (from plotly>=4.4.1->pycaret) (1.3.3)\n",
            "Requirement already satisfied: jinja2>=2.11.1 in /usr/local/lib/python3.6/dist-packages (from pandas-profiling>=2.8.0->pycaret) (2.11.2)\n",
            "Requirement already satisfied: attrs>=19.3.0 in /usr/local/lib/python3.6/dist-packages (from pandas-profiling>=2.8.0->pycaret) (20.2.0)\n",
            "Collecting confuse>=1.0.0\n",
            "\u001b[?25l  Downloading https://files.pythonhosted.org/packages/b5/6d/bedc0d1068bd244cee05843313cbec6cebb9f01f925538269bababc6d887/confuse-1.3.0-py2.py3-none-any.whl (64kB)\n",
            "\u001b[K     |████████████████████████████████| 71kB 8.0MB/s \n",
            "\u001b[?25hRequirement already satisfied: missingno>=0.4.2 in /usr/local/lib/python3.6/dist-packages (from pandas-profiling>=2.8.0->pycaret) (0.4.2)\n",
            "Collecting tangled-up-in-unicode>=0.0.6\n",
            "\u001b[?25l  Downloading https://files.pythonhosted.org/packages/4a/e2/e588ab9298d4989ce7fdb2b97d18aac878d99dbdc379a4476a09d9271b68/tangled_up_in_unicode-0.0.6-py3-none-any.whl (3.1MB)\n",
            "\u001b[K     |████████████████████████████████| 3.1MB 44.2MB/s \n",
            "\u001b[?25hCollecting htmlmin>=0.1.12\n",
            "  Downloading https://files.pythonhosted.org/packages/b3/e7/fcd59e12169de19f0131ff2812077f964c6b960e7c09804d30a7bf2ab461/htmlmin-0.1.12.tar.gz\n",
            "Collecting phik>=0.9.10\n",
            "\u001b[?25l  Downloading https://files.pythonhosted.org/packages/01/5a/7ef1c04ce62cd72f900c06298dc2385840550d5c653a0dbc19109a5477e6/phik-0.10.0-py3-none-any.whl (599kB)\n",
            "\u001b[K     |████████████████████████████████| 604kB 39.3MB/s \n",
            "\u001b[?25hCollecting visions[type_image_path]==0.5.0\n",
            "\u001b[?25l  Downloading https://files.pythonhosted.org/packages/26/e3/9416e94e767d59a86edcbcb8e1c8f42874d272c3b343676074879e9db0e0/visions-0.5.0-py3-none-any.whl (64kB)\n",
            "\u001b[K     |████████████████████████████████| 71kB 7.7MB/s \n",
            "\u001b[?25hRequirement already satisfied: nbformat>=4.2.0 in /usr/local/lib/python3.6/dist-packages (from ipywidgets->pycaret) (5.0.7)\n",
            "Requirement already satisfied: widgetsnbextension~=3.5.0 in /usr/local/lib/python3.6/dist-packages (from ipywidgets->pycaret) (3.5.1)\n",
            "Requirement already satisfied: ipykernel>=4.5.1 in /usr/local/lib/python3.6/dist-packages (from ipywidgets->pycaret) (4.10.1)\n",
            "Requirement already satisfied: graphviz in /usr/local/lib/python3.6/dist-packages (from catboost>=0.23.2->pycaret) (0.10.1)\n",
            "Collecting threadpoolctl>=2.0.0\n",
            "  Downloading https://files.pythonhosted.org/packages/f7/12/ec3f2e203afa394a149911729357aa48affc59c20e2c1c8297a60f33f133/threadpoolctl-2.1.0-py3-none-any.whl\n",
            "Collecting combo\n",
            "  Downloading https://files.pythonhosted.org/packages/0a/2a/61b6ac584e75d8df16dc27962aa5fe99d76b09da5b6710e83d4862c84001/combo-0.1.1.tar.gz\n",
            "Requirement already satisfied: numba>=0.35 in /usr/local/lib/python3.6/dist-packages (from pyod->pycaret) (0.48.0)\n",
            "Requirement already satisfied: statsmodels in /usr/local/lib/python3.6/dist-packages (from pyod->pycaret) (0.10.2)\n",
            "Collecting suod\n",
            "\u001b[?25l  Downloading https://files.pythonhosted.org/packages/a1/87/9170cabe1b5e10a7d095c0e28f2e30e7c1886a13f063de85d3cfacc06f4b/suod-0.0.4.tar.gz (2.1MB)\n",
            "\u001b[K     |████████████████████████████████| 2.1MB 43.3MB/s \n",
            "\u001b[?25hRequirement already satisfied: regex>=2017.02.08 in /usr/local/lib/python3.6/dist-packages (from datefinder>=0.7.0->pycaret) (2019.12.20)\n",
            "Requirement already satisfied: wheel>=0.23.0 in /usr/local/lib/python3.6/dist-packages (from pyLDAvis->pycaret) (0.35.1)\n",
            "Requirement already satisfied: numexpr in /usr/local/lib/python3.6/dist-packages (from pyLDAvis->pycaret) (2.7.1)\n",
            "Requirement already satisfied: pytest in /usr/local/lib/python3.6/dist-packages (from pyLDAvis->pycaret) (3.6.4)\n",
            "Requirement already satisfied: future in /usr/local/lib/python3.6/dist-packages (from pyLDAvis->pycaret) (0.16.0)\n",
            "Collecting funcy\n",
            "  Downloading https://files.pythonhosted.org/packages/66/89/479de0afbbfb98d1c4b887936808764627300208bb771fcd823403645a36/funcy-1.15-py2.py3-none-any.whl\n",
            "Requirement already satisfied: certifi>=2017.4.17 in /usr/local/lib/python3.6/dist-packages (from requests<3.0.0,>=2.13.0->spacy->pycaret) (2020.6.20)\n",
            "Requirement already satisfied: chardet<4,>=3.0.2 in /usr/local/lib/python3.6/dist-packages (from requests<3.0.0,>=2.13.0->spacy->pycaret) (3.0.4)\n",
            "Requirement already satisfied: urllib3!=1.25.0,!=1.25.1,<1.26,>=1.21.1 in /usr/local/lib/python3.6/dist-packages (from requests<3.0.0,>=2.13.0->spacy->pycaret) (1.24.3)\n",
            "Requirement already satisfied: idna<3,>=2.5 in /usr/local/lib/python3.6/dist-packages (from requests<3.0.0,>=2.13.0->spacy->pycaret) (2.10)\n",
            "Requirement already satisfied: importlib-metadata>=0.20; python_version < \"3.8\" in /usr/local/lib/python3.6/dist-packages (from catalogue<1.1.0,>=0.0.7->spacy->pycaret) (2.0.0)\n",
            "Requirement already satisfied: wcwidth in /usr/local/lib/python3.6/dist-packages (from prompt-toolkit<2.0.0,>=1.0.4->IPython->pycaret) (0.2.5)\n",
            "Requirement already satisfied: ptyprocess>=0.5 in /usr/local/lib/python3.6/dist-packages (from pexpect; sys_platform != \"win32\"->IPython->pycaret) (0.6.0)\n",
            "Requirement already satisfied: ipython-genutils in /usr/local/lib/python3.6/dist-packages (from traitlets>=4.2->IPython->pycaret) (0.2.0)\n",
            "Collecting msrest>=0.6.10\n",
            "\u001b[?25l  Downloading https://files.pythonhosted.org/packages/fa/f5/9e315fe8cb985b0ce052b34bcb767883dc739f46fadb62f05a7e6d6eedbe/msrest-0.6.19-py2.py3-none-any.whl (84kB)\n",
            "\u001b[K     |████████████████████████████████| 92kB 8.1MB/s \n",
            "\u001b[?25hCollecting azure-core<2.0.0,>=1.6.0\n",
            "\u001b[?25l  Downloading https://files.pythonhosted.org/packages/4c/fa/46974f4a7ad78b27e3eda8a573cc0c2508849f0d7d360b61c07cc5b46014/azure_core-1.8.2-py2.py3-none-any.whl (122kB)\n",
            "\u001b[K     |████████████████████████████████| 122kB 45.7MB/s \n",
            "\u001b[?25hCollecting cryptography>=2.1.4\n",
            "\u001b[?25l  Downloading https://files.pythonhosted.org/packages/33/62/30f6936941d87a5ed72efb24249437824f6b2c953901245b58c91fde2f27/cryptography-3.1.1-cp35-abi3-manylinux2010_x86_64.whl (2.6MB)\n",
            "\u001b[K     |████████████████████████████████| 2.6MB 36.9MB/s \n",
            "\u001b[?25hRequirement already satisfied: prometheus_client in /usr/local/lib/python3.6/dist-packages (from prometheus-flask-exporter->mlflow->pycaret) (0.8.0)\n",
            "Collecting websocket-client>=0.32.0\n",
            "\u001b[?25l  Downloading https://files.pythonhosted.org/packages/4c/5f/f61b420143ed1c8dc69f9eaec5ff1ac36109d52c80de49d66e0c36c3dfdf/websocket_client-0.57.0-py2.py3-none-any.whl (200kB)\n",
            "\u001b[K     |████████████████████████████████| 204kB 11.7MB/s \n",
            "\u001b[?25hRequirement already satisfied: tabulate>=0.7.7 in /usr/local/lib/python3.6/dist-packages (from databricks-cli>=0.8.7->mlflow->pycaret) (0.8.7)\n",
            "Requirement already satisfied: itsdangerous>=0.24 in /usr/local/lib/python3.6/dist-packages (from Flask->mlflow->pycaret) (1.1.0)\n",
            "Requirement already satisfied: Werkzeug>=0.15 in /usr/local/lib/python3.6/dist-packages (from Flask->mlflow->pycaret) (1.0.1)\n",
            "Collecting gitdb<5,>=4.0.1\n",
            "\u001b[?25l  Downloading https://files.pythonhosted.org/packages/48/11/d1800bca0a3bae820b84b7d813ad1eff15a48a64caea9c823fc8c1b119e8/gitdb-4.0.5-py3-none-any.whl (63kB)\n",
            "\u001b[K     |████████████████████████████████| 71kB 7.8MB/s \n",
            "\u001b[?25hCollecting Mako\n",
            "\u001b[?25l  Downloading https://files.pythonhosted.org/packages/a6/37/0e706200d22172eb8fa17d68a7ae22dec7631a0a92266634fb518a88a5b2/Mako-1.1.3-py2.py3-none-any.whl (75kB)\n",
            "\u001b[K     |████████████████████████████████| 81kB 7.4MB/s \n",
            "\u001b[?25hCollecting python-editor>=0.3\n",
            "  Downloading https://files.pythonhosted.org/packages/c6/d3/201fc3abe391bbae6606e6f1d598c15d367033332bd54352b12f35513717/python_editor-1.0.4-py3-none-any.whl\n",
            "Requirement already satisfied: MarkupSafe>=0.23 in /usr/local/lib/python3.6/dist-packages (from jinja2>=2.11.1->pandas-profiling>=2.8.0->pycaret) (1.1.1)\n",
            "Requirement already satisfied: networkx>=2.4 in /usr/local/lib/python3.6/dist-packages (from visions[type_image_path]==0.5.0->pandas-profiling>=2.8.0->pycaret) (2.5)\n",
            "Collecting imagehash; extra == \"type_image_path\"\n",
            "\u001b[?25l  Downloading https://files.pythonhosted.org/packages/1a/5d/cc81830be3c4705a46cdbca74439b67f1017881383ba0127c41c4cecb7b3/ImageHash-4.1.0.tar.gz (291kB)\n",
            "\u001b[K     |████████████████████████████████| 296kB 39.6MB/s \n",
            "\u001b[?25hRequirement already satisfied: jsonschema!=2.5.0,>=2.4 in /usr/local/lib/python3.6/dist-packages (from nbformat>=4.2.0->ipywidgets->pycaret) (2.6.0)\n",
            "Requirement already satisfied: jupyter-core in /usr/local/lib/python3.6/dist-packages (from nbformat>=4.2.0->ipywidgets->pycaret) (4.6.3)\n",
            "Requirement already satisfied: notebook>=4.4.1 in /usr/local/lib/python3.6/dist-packages (from widgetsnbextension~=3.5.0->ipywidgets->pycaret) (5.3.1)\n",
            "Requirement already satisfied: tornado>=4.0 in /usr/local/lib/python3.6/dist-packages (from ipykernel>=4.5.1->ipywidgets->pycaret) (5.1.1)\n",
            "Requirement already satisfied: jupyter-client in /usr/local/lib/python3.6/dist-packages (from ipykernel>=4.5.1->ipywidgets->pycaret) (5.3.5)\n",
            "Requirement already satisfied: llvmlite<0.32.0,>=0.31.0dev0 in /usr/local/lib/python3.6/dist-packages (from numba>=0.35->pyod->pycaret) (0.31.0)\n",
            "Requirement already satisfied: patsy>=0.4.0 in /usr/local/lib/python3.6/dist-packages (from statsmodels->pyod->pycaret) (0.5.1)\n",
            "Requirement already satisfied: atomicwrites>=1.0 in /usr/local/lib/python3.6/dist-packages (from pytest->pyLDAvis->pycaret) (1.4.0)\n",
            "Requirement already satisfied: pluggy<0.8,>=0.5 in /usr/local/lib/python3.6/dist-packages (from pytest->pyLDAvis->pycaret) (0.7.1)\n",
            "Requirement already satisfied: more-itertools>=4.0.0 in /usr/local/lib/python3.6/dist-packages (from pytest->pyLDAvis->pycaret) (8.5.0)\n",
            "Requirement already satisfied: py>=1.5.0 in /usr/local/lib/python3.6/dist-packages (from pytest->pyLDAvis->pycaret) (1.9.0)\n",
            "Requirement already satisfied: zipp>=0.5 in /usr/local/lib/python3.6/dist-packages (from importlib-metadata>=0.20; python_version < \"3.8\"->catalogue<1.1.0,>=0.0.7->spacy->pycaret) (3.2.0)\n",
            "Requirement already satisfied: requests-oauthlib>=0.5.0 in /usr/local/lib/python3.6/dist-packages (from msrest>=0.6.10->azure-storage-blob>=12.0->mlflow->pycaret) (1.3.0)\n",
            "Collecting isodate>=0.6.0\n",
            "\u001b[?25l  Downloading https://files.pythonhosted.org/packages/9b/9f/b36f7774ff5ea8e428fdcfc4bb332c39ee5b9362ddd3d40d9516a55221b2/isodate-0.6.0-py2.py3-none-any.whl (45kB)\n",
            "\u001b[K     |████████████████████████████████| 51kB 5.6MB/s \n",
            "\u001b[?25hRequirement already satisfied: cffi!=1.11.3,>=1.8 in /usr/local/lib/python3.6/dist-packages (from cryptography>=2.1.4->azure-storage-blob>=12.0->mlflow->pycaret) (1.14.3)\n",
            "Collecting smmap<4,>=3.0.1\n",
            "  Downloading https://files.pythonhosted.org/packages/b0/9a/4d409a6234eb940e6a78dfdfc66156e7522262f5f2fecca07dc55915952d/smmap-3.0.4-py2.py3-none-any.whl\n",
            "Requirement already satisfied: PyWavelets in /usr/local/lib/python3.6/dist-packages (from imagehash; extra == \"type_image_path\"->visions[type_image_path]==0.5.0->pandas-profiling>=2.8.0->pycaret) (1.1.1)\n",
            "Requirement already satisfied: terminado>=0.8.1 in /usr/local/lib/python3.6/dist-packages (from notebook>=4.4.1->widgetsnbextension~=3.5.0->ipywidgets->pycaret) (0.9.1)\n",
            "Requirement already satisfied: Send2Trash in /usr/local/lib/python3.6/dist-packages (from notebook>=4.4.1->widgetsnbextension~=3.5.0->ipywidgets->pycaret) (1.5.0)\n",
            "Requirement already satisfied: nbconvert in /usr/local/lib/python3.6/dist-packages (from notebook>=4.4.1->widgetsnbextension~=3.5.0->ipywidgets->pycaret) (5.6.1)\n",
            "Requirement already satisfied: pyzmq>=13 in /usr/local/lib/python3.6/dist-packages (from jupyter-client->ipykernel>=4.5.1->ipywidgets->pycaret) (19.0.2)\n",
            "Requirement already satisfied: oauthlib>=3.0.0 in /usr/local/lib/python3.6/dist-packages (from requests-oauthlib>=0.5.0->msrest>=0.6.10->azure-storage-blob>=12.0->mlflow->pycaret) (3.1.0)\n",
            "Requirement already satisfied: pycparser in /usr/local/lib/python3.6/dist-packages (from cffi!=1.11.3,>=1.8->cryptography>=2.1.4->azure-storage-blob>=12.0->mlflow->pycaret) (2.20)\n",
            "Requirement already satisfied: defusedxml in /usr/local/lib/python3.6/dist-packages (from nbconvert->notebook>=4.4.1->widgetsnbextension~=3.5.0->ipywidgets->pycaret) (0.6.0)\n",
            "Requirement already satisfied: pandocfilters>=1.4.1 in /usr/local/lib/python3.6/dist-packages (from nbconvert->notebook>=4.4.1->widgetsnbextension~=3.5.0->ipywidgets->pycaret) (1.4.2)\n",
            "Requirement already satisfied: testpath in /usr/local/lib/python3.6/dist-packages (from nbconvert->notebook>=4.4.1->widgetsnbextension~=3.5.0->ipywidgets->pycaret) (0.4.4)\n",
            "Requirement already satisfied: mistune<2,>=0.8.1 in /usr/local/lib/python3.6/dist-packages (from nbconvert->notebook>=4.4.1->widgetsnbextension~=3.5.0->ipywidgets->pycaret) (0.8.4)\n",
            "Requirement already satisfied: bleach in /usr/local/lib/python3.6/dist-packages (from nbconvert->notebook>=4.4.1->widgetsnbextension~=3.5.0->ipywidgets->pycaret) (3.2.1)\n",
            "Requirement already satisfied: webencodings in /usr/local/lib/python3.6/dist-packages (from bleach->nbconvert->notebook>=4.4.1->widgetsnbextension~=3.5.0->ipywidgets->pycaret) (0.5.1)\n",
            "Requirement already satisfied: packaging in /usr/local/lib/python3.6/dist-packages (from bleach->nbconvert->notebook>=4.4.1->widgetsnbextension~=3.5.0->ipywidgets->pycaret) (20.4)\n",
            "Building wheels for collected packages: pyod, pyLDAvis, sqlalchemy, prometheus-flask-exporter, databricks-cli, alembic, htmlmin, combo, suod, imagehash\n",
            "  Building wheel for pyod (setup.py) ... \u001b[?25l\u001b[?25hdone\n",
            "  Created wheel for pyod: filename=pyod-0.8.3-cp36-none-any.whl size=110349 sha256=3e4e1b6581f822a700c56085be3c92035fc1f7a55d23e66eec668d7bacd83009\n",
            "  Stored in directory: /root/.cache/pip/wheels/29/46/95/86facd235cce1d58ae6747ab1aea2b3742564325a66a60863a\n",
            "  Building wheel for pyLDAvis (setup.py) ... \u001b[?25l\u001b[?25hdone\n",
            "  Created wheel for pyLDAvis: filename=pyLDAvis-2.1.2-py2.py3-none-any.whl size=97712 sha256=178f64bee38273ed006d433922ed450f98a7d498d9f3ff808fe56bcf4570b4f2\n",
            "  Stored in directory: /root/.cache/pip/wheels/98/71/24/513a99e58bb6b8465bae4d2d5e9dba8f0bef8179e3051ac414\n",
            "  Building wheel for sqlalchemy (setup.py) ... \u001b[?25l\u001b[?25hdone\n",
            "  Created wheel for sqlalchemy: filename=SQLAlchemy-1.3.13-cp36-cp36m-linux_x86_64.whl size=1217159 sha256=55c08e8d2ef7dadd4119b62dda68217b541be1d6223a7fae0a4f529de6ec8e16\n",
            "  Stored in directory: /root/.cache/pip/wheels/b3/35/98/4c9cb3fd63d21d5606b972dd70643769745adf60e622467b71\n",
            "  Building wheel for prometheus-flask-exporter (setup.py) ... \u001b[?25l\u001b[?25hdone\n",
            "  Created wheel for prometheus-flask-exporter: filename=prometheus_flask_exporter-0.18.1-cp36-none-any.whl size=17157 sha256=b947c3dcb4d59710670c2cf9f34d88bd3606d9033aa6b4d230ad3d2c81661261\n",
            "  Stored in directory: /root/.cache/pip/wheels/b4/1f/b8/66bd9bc3a9d6c6987ff6c4dfeb6f1fe97b5a0e5ed5849c0437\n",
            "  Building wheel for databricks-cli (setup.py) ... \u001b[?25l\u001b[?25hdone\n",
            "  Created wheel for databricks-cli: filename=databricks_cli-0.13.0-cp36-none-any.whl size=100347 sha256=1e499cefa1c27ca7d06b0fefc7952a7d25129ae3886e15ae60f2cca2156ca4f2\n",
            "  Stored in directory: /root/.cache/pip/wheels/d3/ba/45/11e7abe40b8e21f4aab12a3051e269b24d17f2b288bb7418d5\n",
            "  Building wheel for alembic (setup.py) ... \u001b[?25l\u001b[?25hdone\n",
            "  Created wheel for alembic: filename=alembic-1.4.1-py2.py3-none-any.whl size=158155 sha256=129fa0f904e6af3d98971ca1a360821c99b98615d37a9d878e4bec4045fad707\n",
            "  Stored in directory: /root/.cache/pip/wheels/84/07/f7/12f7370ca47a66030c2edeedcc23dec26ea0ac22dcb4c4a0f3\n",
            "  Building wheel for htmlmin (setup.py) ... \u001b[?25l\u001b[?25hdone\n",
            "  Created wheel for htmlmin: filename=htmlmin-0.1.12-cp36-none-any.whl size=27085 sha256=08c46c68819e6eccad4df49d43355089f1c7928e830616de9b2c4496e6838f88\n",
            "  Stored in directory: /root/.cache/pip/wheels/43/07/ac/7c5a9d708d65247ac1f94066cf1db075540b85716c30255459\n",
            "  Building wheel for combo (setup.py) ... \u001b[?25l\u001b[?25hdone\n",
            "  Created wheel for combo: filename=combo-0.1.1-cp36-none-any.whl size=42113 sha256=8590421fa12ab72d31bbbcda7dfe64eb981931d3c17570fbc32804ea23cc7037\n",
            "  Stored in directory: /root/.cache/pip/wheels/55/ec/e5/a2331372c676c467e70c6646e646edf6997d5c4905b8c0f5e6\n",
            "  Building wheel for suod (setup.py) ... \u001b[?25l\u001b[?25hdone\n",
            "  Created wheel for suod: filename=suod-0.0.4-cp36-none-any.whl size=2167158 sha256=19d6c20286ec92b39b79c374a282f2fbad12c8d5c10c5dce5c113adad6bf8cd5\n",
            "  Stored in directory: /root/.cache/pip/wheels/57/55/e5/a4fca65bba231f6d0115059b589148774b41faea25b3f2aa27\n",
            "  Building wheel for imagehash (setup.py) ... \u001b[?25l\u001b[?25hdone\n",
            "  Created wheel for imagehash: filename=ImageHash-4.1.0-py2.py3-none-any.whl size=291991 sha256=7d67e0d99a8678d5783fae7827a3941562d5f333764b2053d12f3f16c11d6b0c\n",
            "  Stored in directory: /root/.cache/pip/wheels/07/1c/dc/6831446f09feb8cc199ec73a0f2f0703253f6ae013a22f4be9\n",
            "Successfully built pyod pyLDAvis sqlalchemy prometheus-flask-exporter databricks-cli alembic htmlmin combo suod imagehash\n",
            "\u001b[31mERROR: pandas-profiling 2.9.0 has requirement tqdm>=4.43.0, but you'll have tqdm 4.41.1 which is incompatible.\u001b[0m\n",
            "Installing collected packages: threadpoolctl, scikit-learn, lightgbm, kmodes, isodate, msrest, azure-core, cryptography, azure-storage-blob, gorilla, sqlalchemy, prometheus-flask-exporter, websocket-client, docker, databricks-cli, querystring-parser, smmap, gitdb, gitpython, Mako, python-editor, alembic, gunicorn, mlflow, confuse, tangled-up-in-unicode, htmlmin, phik, imagehash, visions, pandas-profiling, yellowbrick, catboost, imbalanced-learn, combo, suod, pyod, datefinder, funcy, pyLDAvis, pycaret\n",
            "  Found existing installation: scikit-learn 0.22.2.post1\n",
            "    Uninstalling scikit-learn-0.22.2.post1:\n",
            "      Successfully uninstalled scikit-learn-0.22.2.post1\n",
            "  Found existing installation: lightgbm 2.2.3\n",
            "    Uninstalling lightgbm-2.2.3:\n",
            "      Successfully uninstalled lightgbm-2.2.3\n",
            "  Found existing installation: SQLAlchemy 1.3.19\n",
            "    Uninstalling SQLAlchemy-1.3.19:\n",
            "      Successfully uninstalled SQLAlchemy-1.3.19\n",
            "  Found existing installation: pandas-profiling 1.4.1\n",
            "    Uninstalling pandas-profiling-1.4.1:\n",
            "      Successfully uninstalled pandas-profiling-1.4.1\n",
            "  Found existing installation: yellowbrick 0.9.1\n",
            "    Uninstalling yellowbrick-0.9.1:\n",
            "      Successfully uninstalled yellowbrick-0.9.1\n",
            "  Found existing installation: imbalanced-learn 0.4.3\n",
            "    Uninstalling imbalanced-learn-0.4.3:\n",
            "      Successfully uninstalled imbalanced-learn-0.4.3\n",
            "Successfully installed Mako-1.1.3 alembic-1.4.1 azure-core-1.8.2 azure-storage-blob-12.5.0 catboost-0.24.2 combo-0.1.1 confuse-1.3.0 cryptography-3.1.1 databricks-cli-0.13.0 datefinder-0.7.1 docker-4.3.1 funcy-1.15 gitdb-4.0.5 gitpython-3.1.11 gorilla-0.3.0 gunicorn-20.0.4 htmlmin-0.1.12 imagehash-4.1.0 imbalanced-learn-0.7.0 isodate-0.6.0 kmodes-0.10.2 lightgbm-3.0.0 mlflow-1.11.0 msrest-0.6.19 pandas-profiling-2.9.0 phik-0.10.0 prometheus-flask-exporter-0.18.1 pyLDAvis-2.1.2 pycaret-2.1.2 pyod-0.8.3 python-editor-1.0.4 querystring-parser-1.2.4 scikit-learn-0.23.2 smmap-3.0.4 sqlalchemy-1.3.13 suod-0.0.4 tangled-up-in-unicode-0.0.6 threadpoolctl-2.1.0 visions-0.5.0 websocket-client-0.57.0 yellowbrick-1.2\n"
          ],
          "name": "stdout"
        }
      ]
    },
    {
      "cell_type": "code",
      "metadata": {
        "id": "2bpYkFGGxvJg",
        "outputId": "ae349938-9cf4-4042-9006-7cb568a8eb64",
        "colab": {
          "base_uri": "https://localhost:8080/",
          "height": 658
        }
      },
      "source": [
        "! python -m spacy download en_core_web_sm\n",
        "! python -m textblob.download_corpora"
      ],
      "execution_count": null,
      "outputs": [
        {
          "output_type": "stream",
          "text": [
            "Requirement already satisfied: en_core_web_sm==2.2.5 from https://github.com/explosion/spacy-models/releases/download/en_core_web_sm-2.2.5/en_core_web_sm-2.2.5.tar.gz#egg=en_core_web_sm==2.2.5 in /usr/local/lib/python3.6/dist-packages (2.2.5)\n",
            "Requirement already satisfied: spacy>=2.2.2 in /usr/local/lib/python3.6/dist-packages (from en_core_web_sm==2.2.5) (2.2.4)\n",
            "Requirement already satisfied: wasabi<1.1.0,>=0.4.0 in /usr/local/lib/python3.6/dist-packages (from spacy>=2.2.2->en_core_web_sm==2.2.5) (0.8.0)\n",
            "Requirement already satisfied: blis<0.5.0,>=0.4.0 in /usr/local/lib/python3.6/dist-packages (from spacy>=2.2.2->en_core_web_sm==2.2.5) (0.4.1)\n",
            "Requirement already satisfied: plac<1.2.0,>=0.9.6 in /usr/local/lib/python3.6/dist-packages (from spacy>=2.2.2->en_core_web_sm==2.2.5) (1.1.3)\n",
            "Requirement already satisfied: cymem<2.1.0,>=2.0.2 in /usr/local/lib/python3.6/dist-packages (from spacy>=2.2.2->en_core_web_sm==2.2.5) (2.0.3)\n",
            "Requirement already satisfied: tqdm<5.0.0,>=4.38.0 in /usr/local/lib/python3.6/dist-packages (from spacy>=2.2.2->en_core_web_sm==2.2.5) (4.41.1)\n",
            "Requirement already satisfied: requests<3.0.0,>=2.13.0 in /usr/local/lib/python3.6/dist-packages (from spacy>=2.2.2->en_core_web_sm==2.2.5) (2.23.0)\n",
            "Requirement already satisfied: srsly<1.1.0,>=1.0.2 in /usr/local/lib/python3.6/dist-packages (from spacy>=2.2.2->en_core_web_sm==2.2.5) (1.0.2)\n",
            "Requirement already satisfied: murmurhash<1.1.0,>=0.28.0 in /usr/local/lib/python3.6/dist-packages (from spacy>=2.2.2->en_core_web_sm==2.2.5) (1.0.2)\n",
            "Requirement already satisfied: thinc==7.4.0 in /usr/local/lib/python3.6/dist-packages (from spacy>=2.2.2->en_core_web_sm==2.2.5) (7.4.0)\n",
            "Requirement already satisfied: numpy>=1.15.0 in /usr/local/lib/python3.6/dist-packages (from spacy>=2.2.2->en_core_web_sm==2.2.5) (1.18.5)\n",
            "Requirement already satisfied: preshed<3.1.0,>=3.0.2 in /usr/local/lib/python3.6/dist-packages (from spacy>=2.2.2->en_core_web_sm==2.2.5) (3.0.2)\n",
            "Requirement already satisfied: setuptools in /usr/local/lib/python3.6/dist-packages (from spacy>=2.2.2->en_core_web_sm==2.2.5) (50.3.0)\n",
            "Requirement already satisfied: catalogue<1.1.0,>=0.0.7 in /usr/local/lib/python3.6/dist-packages (from spacy>=2.2.2->en_core_web_sm==2.2.5) (1.0.0)\n",
            "Requirement already satisfied: certifi>=2017.4.17 in /usr/local/lib/python3.6/dist-packages (from requests<3.0.0,>=2.13.0->spacy>=2.2.2->en_core_web_sm==2.2.5) (2020.6.20)\n",
            "Requirement already satisfied: chardet<4,>=3.0.2 in /usr/local/lib/python3.6/dist-packages (from requests<3.0.0,>=2.13.0->spacy>=2.2.2->en_core_web_sm==2.2.5) (3.0.4)\n",
            "Requirement already satisfied: idna<3,>=2.5 in /usr/local/lib/python3.6/dist-packages (from requests<3.0.0,>=2.13.0->spacy>=2.2.2->en_core_web_sm==2.2.5) (2.10)\n",
            "Requirement already satisfied: urllib3!=1.25.0,!=1.25.1,<1.26,>=1.21.1 in /usr/local/lib/python3.6/dist-packages (from requests<3.0.0,>=2.13.0->spacy>=2.2.2->en_core_web_sm==2.2.5) (1.24.3)\n",
            "Requirement already satisfied: importlib-metadata>=0.20; python_version < \"3.8\" in /usr/local/lib/python3.6/dist-packages (from catalogue<1.1.0,>=0.0.7->spacy>=2.2.2->en_core_web_sm==2.2.5) (2.0.0)\n",
            "Requirement already satisfied: zipp>=0.5 in /usr/local/lib/python3.6/dist-packages (from importlib-metadata>=0.20; python_version < \"3.8\"->catalogue<1.1.0,>=0.0.7->spacy>=2.2.2->en_core_web_sm==2.2.5) (3.2.0)\n",
            "\u001b[38;5;2m✔ Download and installation successful\u001b[0m\n",
            "You can now load the model via spacy.load('en_core_web_sm')\n",
            "[nltk_data] Downloading package brown to /root/nltk_data...\n",
            "[nltk_data]   Unzipping corpora/brown.zip.\n",
            "[nltk_data] Downloading package punkt to /root/nltk_data...\n",
            "[nltk_data]   Unzipping tokenizers/punkt.zip.\n",
            "[nltk_data] Downloading package wordnet to /root/nltk_data...\n",
            "[nltk_data]   Unzipping corpora/wordnet.zip.\n",
            "[nltk_data] Downloading package averaged_perceptron_tagger to\n",
            "[nltk_data]     /root/nltk_data...\n",
            "[nltk_data]   Unzipping taggers/averaged_perceptron_tagger.zip.\n",
            "[nltk_data] Downloading package conll2000 to /root/nltk_data...\n",
            "[nltk_data]   Unzipping corpora/conll2000.zip.\n",
            "[nltk_data] Downloading package movie_reviews to /root/nltk_data...\n",
            "[nltk_data]   Unzipping corpora/movie_reviews.zip.\n",
            "Finished.\n"
          ],
          "name": "stdout"
        }
      ]
    },
    {
      "cell_type": "code",
      "metadata": {
        "id": "yCh0sQe4yemp"
      },
      "source": [
        "#import nlp module\n",
        "from pycaret.nlp import *"
      ],
      "execution_count": null,
      "outputs": []
    },
    {
      "cell_type": "code",
      "metadata": {
        "id": "v1j4R2Nsyjc6"
      },
      "source": [
        "#import pandas if we're gonna use a dataframe\n",
        "import pandas as pd\n",
        "\n",
        "# load the data into a dataframe\n",
        "df = pd.read_csv('sample_data/CaseReferralsSheet.csv')"
      ],
      "execution_count": null,
      "outputs": []
    },
    {
      "cell_type": "code",
      "metadata": {
        "id": "3L8OxSGLzLdt",
        "outputId": "166fc990-885b-40ba-8c04-e11d44376eb9",
        "colab": {
          "base_uri": "https://localhost:8080/",
          "height": 118
        }
      },
      "source": [
        "df['Case Text']"
      ],
      "execution_count": null,
      "outputs": [
        {
          "output_type": "execute_result",
          "data": {
            "text/plain": [
              "0    To: Ms. Rose Habchi Daher \\n\\nAttn.: \\nrosehab...\n",
              "1    Statement of the problem and origin of the req...\n",
              "2    Input of primary assessment of the … Family\\n\\...\n",
              "3    CASE NOTE\\n\\nStatement of the problem and orig...\n",
              "4    Himaya\\nMansourieh Gate Center, Block B,\\n2nd ...\n",
              "Name: Case Text, dtype: object"
            ]
          },
          "metadata": {
            "tags": []
          },
          "execution_count": 24
        }
      ]
    },
    {
      "cell_type": "code",
      "metadata": {
        "id": "584pFjjkzOML",
        "outputId": "dbadbc94-a1e5-4a2f-9f0c-a3c2182df018",
        "colab": {
          "base_uri": "https://localhost:8080/",
          "height": 118,
          "referenced_widgets": [
            "50f99b11deac4ff2931b8f69de77282c",
            "d22560d94085410a9772753b2ea417f7",
            "43d22a1f69da447ebd25639e3f78cd98"
          ]
        }
      },
      "source": [
        "# initialize the setup\n",
        "nlp = setup(data = df, target = 'Case Text', session_id = 493, custom_stopwords = [ 'rt', 'https', 'http', 'co', 'amp','To:','CASE NOTE'])"
      ],
      "execution_count": null,
      "outputs": [
        {
          "output_type": "display_data",
          "data": {
            "text/html": [
              "<style  type=\"text/css\" >\n",
              "</style><table id=\"T_0235253c_169b_11eb_85aa_0242ac1c0002\" ><thead>    <tr>        <th class=\"col_heading level0 col0\" >Description</th>        <th class=\"col_heading level0 col1\" >Value</th>    </tr></thead><tbody>\n",
              "                <tr>\n",
              "                                <td id=\"T_0235253c_169b_11eb_85aa_0242ac1c0002row0_col0\" class=\"data row0 col0\" >session_id</td>\n",
              "                        <td id=\"T_0235253c_169b_11eb_85aa_0242ac1c0002row0_col1\" class=\"data row0 col1\" >493</td>\n",
              "            </tr>\n",
              "            <tr>\n",
              "                                <td id=\"T_0235253c_169b_11eb_85aa_0242ac1c0002row1_col0\" class=\"data row1 col0\" >Documents</td>\n",
              "                        <td id=\"T_0235253c_169b_11eb_85aa_0242ac1c0002row1_col1\" class=\"data row1 col1\" >5</td>\n",
              "            </tr>\n",
              "            <tr>\n",
              "                                <td id=\"T_0235253c_169b_11eb_85aa_0242ac1c0002row2_col0\" class=\"data row2 col0\" >Vocab Size</td>\n",
              "                        <td id=\"T_0235253c_169b_11eb_85aa_0242ac1c0002row2_col1\" class=\"data row2 col1\" >528</td>\n",
              "            </tr>\n",
              "            <tr>\n",
              "                                <td id=\"T_0235253c_169b_11eb_85aa_0242ac1c0002row3_col0\" class=\"data row3 col0\" >Custom Stopwords</td>\n",
              "                        <td id=\"T_0235253c_169b_11eb_85aa_0242ac1c0002row3_col1\" class=\"data row3 col1\" >True</td>\n",
              "            </tr>\n",
              "    </tbody></table>"
            ],
            "text/plain": [
              "<pandas.io.formats.style.Styler at 0x7f8f4b5f6cf8>"
            ]
          },
          "metadata": {
            "tags": []
          }
        }
      ]
    },
    {
      "cell_type": "code",
      "metadata": {
        "id": "ZFIVubKyzot7"
      },
      "source": [
        "# create the model\n",
        "lda = create_model('lda', num_topics = 6, multi_core = True)"
      ],
      "execution_count": null,
      "outputs": []
    },
    {
      "cell_type": "code",
      "metadata": {
        "id": "UcykDwAm0N4j"
      },
      "source": [
        "# label the data using trained model\n",
        "df_lda = assign_model(lda)"
      ],
      "execution_count": null,
      "outputs": []
    },
    {
      "cell_type": "code",
      "metadata": {
        "id": "jgkLpfv80QRq",
        "outputId": "442ed742-cd52-4b3c-c9dd-e58da9c4ccc4",
        "colab": {
          "base_uri": "https://localhost:8080/",
          "height": 296
        }
      },
      "source": [
        "df_lda.head()"
      ],
      "execution_count": null,
      "outputs": [
        {
          "output_type": "execute_result",
          "data": {
            "text/html": [
              "<div>\n",
              "<style scoped>\n",
              "    .dataframe tbody tr th:only-of-type {\n",
              "        vertical-align: middle;\n",
              "    }\n",
              "\n",
              "    .dataframe tbody tr th {\n",
              "        vertical-align: top;\n",
              "    }\n",
              "\n",
              "    .dataframe thead th {\n",
              "        text-align: right;\n",
              "    }\n",
              "</style>\n",
              "<table border=\"1\" class=\"dataframe\">\n",
              "  <thead>\n",
              "    <tr style=\"text-align: right;\">\n",
              "      <th></th>\n",
              "      <th>Case Number</th>\n",
              "      <th>Case Text</th>\n",
              "      <th>Topic_0</th>\n",
              "      <th>Topic_1</th>\n",
              "      <th>Topic_2</th>\n",
              "      <th>Topic_3</th>\n",
              "      <th>Topic_4</th>\n",
              "      <th>Topic_5</th>\n",
              "      <th>Dominant_Topic</th>\n",
              "      <th>Perc_Dominant_Topic</th>\n",
              "    </tr>\n",
              "  </thead>\n",
              "  <tbody>\n",
              "    <tr>\n",
              "      <th>0</th>\n",
              "      <td>A1</td>\n",
              "      <td>rise gmail com date reference request search w...</td>\n",
              "      <td>0.001097</td>\n",
              "      <td>0.994508</td>\n",
              "      <td>0.001100</td>\n",
              "      <td>0.001097</td>\n",
              "      <td>0.001097</td>\n",
              "      <td>0.001103</td>\n",
              "      <td>Topic 1</td>\n",
              "      <td>0.99</td>\n",
              "    </tr>\n",
              "    <tr>\n",
              "      <th>1</th>\n",
              "      <td>B1</td>\n",
              "      <td>statement origin request child welfare alert d...</td>\n",
              "      <td>0.000838</td>\n",
              "      <td>0.000842</td>\n",
              "      <td>0.995804</td>\n",
              "      <td>0.000838</td>\n",
              "      <td>0.000838</td>\n",
              "      <td>0.000842</td>\n",
              "      <td>Topic 2</td>\n",
              "      <td>1.00</td>\n",
              "    </tr>\n",
              "    <tr>\n",
              "      <th>2</th>\n",
              "      <td>B2</td>\n",
              "      <td>input primary assessment family present social...</td>\n",
              "      <td>0.000409</td>\n",
              "      <td>0.997952</td>\n",
              "      <td>0.000411</td>\n",
              "      <td>0.000409</td>\n",
              "      <td>0.000409</td>\n",
              "      <td>0.000411</td>\n",
              "      <td>Topic 1</td>\n",
              "      <td>1.00</td>\n",
              "    </tr>\n",
              "    <tr>\n",
              "      <th>3</th>\n",
              "      <td>D1</td>\n",
              "      <td>case note statement origin assistance regard y...</td>\n",
              "      <td>0.000495</td>\n",
              "      <td>0.000498</td>\n",
              "      <td>0.000497</td>\n",
              "      <td>0.000495</td>\n",
              "      <td>0.000495</td>\n",
              "      <td>0.997522</td>\n",
              "      <td>Topic 5</td>\n",
              "      <td>1.00</td>\n",
              "    </tr>\n",
              "    <tr>\n",
              "      <th>4</th>\n",
              "      <td>E1</td>\n",
              "      <td>com rise write child family border assistance ...</td>\n",
              "      <td>0.000518</td>\n",
              "      <td>0.000521</td>\n",
              "      <td>0.000520</td>\n",
              "      <td>0.000518</td>\n",
              "      <td>0.000518</td>\n",
              "      <td>0.997407</td>\n",
              "      <td>Topic 5</td>\n",
              "      <td>1.00</td>\n",
              "    </tr>\n",
              "  </tbody>\n",
              "</table>\n",
              "</div>"
            ],
            "text/plain": [
              "  Case Number  ... Perc_Dominant_Topic\n",
              "0          A1  ...                0.99\n",
              "1          B1  ...                1.00\n",
              "2          B2  ...                1.00\n",
              "3          D1  ...                1.00\n",
              "4          E1  ...                1.00\n",
              "\n",
              "[5 rows x 10 columns]"
            ]
          },
          "metadata": {
            "tags": []
          },
          "execution_count": 28
        }
      ]
    },
    {
      "cell_type": "code",
      "metadata": {
        "id": "iDFmPL_H0UvT",
        "outputId": "45924be7-e62d-41a1-b1f5-e4b6108cdcee",
        "colab": {
          "base_uri": "https://localhost:8080/",
          "height": 1000
        }
      },
      "source": [
        "plot_model(lda, plot='topic_distribution')\n",
        "plot_model(lda, plot='topic_model')\n",
        "plot_model(lda, plot='wordcloud', topic_num = 'Topic 5')\n",
        "plot_model(lda, plot='frequency', topic_num = 'Topic 5')\n",
        "plot_model(lda, plot='bigram', topic_num = 'Topic 5')\n",
        "plot_model(lda, plot='trigram', topic_num = 'Topic 5')\n",
        "plot_model(lda, plot='distribution', topic_num = 'Topic 5')\n",
        "plot_model(lda, plot='sentiment', topic_num = 'Topic 5')\n",
        "plot_model(lda, plot='tsne')"
      ],
      "execution_count": null,
      "outputs": [
        {
          "output_type": "display_data",
          "data": {
            "text/html": [
              "        <script type=\"text/javascript\">\n",
              "        window.PlotlyConfig = {MathJaxConfig: 'local'};\n",
              "        if (window.MathJax) {MathJax.Hub.Config({SVG: {font: \"STIX-Web\"}});}\n",
              "        if (typeof require !== 'undefined') {\n",
              "        require.undef(\"plotly\");\n",
              "        requirejs.config({\n",
              "            paths: {\n",
              "                'plotly': ['https://cdn.plot.ly/plotly-latest.min']\n",
              "            }\n",
              "        });\n",
              "        require(['plotly'], function(Plotly) {\n",
              "            window._Plotly = Plotly;\n",
              "        });\n",
              "        }\n",
              "        </script>\n",
              "        "
            ]
          },
          "metadata": {
            "tags": []
          }
        },
        {
          "output_type": "display_data",
          "data": {
            "text/html": [
              "<div>\n",
              "        \n",
              "        \n",
              "            <div id=\"990536a4-b9e8-4614-aec1-37bebf2875ce\" class=\"plotly-graph-div\" style=\"height:525px; width:100%;\"></div>\n",
              "            <script type=\"text/javascript\">\n",
              "                require([\"plotly\"], function(Plotly) {\n",
              "                    window.PLOTLYENV=window.PLOTLYENV || {};\n",
              "                    \n",
              "                if (document.getElementById(\"990536a4-b9e8-4614-aec1-37bebf2875ce\")) {\n",
              "                    Plotly.newPlot(\n",
              "                        '990536a4-b9e8-4614-aec1-37bebf2875ce',\n",
              "                        [{\"alignmentgroup\": \"True\", \"customdata\": [[\"child, mother, family, information, biological, ask, assessment, worker, would, home\"], [\"child, aunt, grandmother, mother, parent, german, bear, nationality, year, welfare\"], [\"child, address, syrian, family, visit, carer, order, nationality, care, daughter\"]], \"hoverlabel\": {\"namelength\": 0}, \"hovertemplate\": \"Topic=%{x}<br>Documents=%{y}<br>Keyword=%{customdata[0]}\", \"legendgroup\": \"\", \"marker\": {\"color\": \"#636efa\"}, \"name\": \"\", \"offsetgroup\": \"\", \"orientation\": \"v\", \"showlegend\": false, \"textposition\": \"auto\", \"type\": \"bar\", \"x\": [\"Topic 1\", \"Topic 2\", \"Topic 5\"], \"xaxis\": \"x\", \"y\": [2, 1, 2], \"yaxis\": \"y\"}],\n",
              "                        {\"barmode\": \"relative\", \"legend\": {\"tracegroupgap\": 0}, \"template\": {\"data\": {\"bar\": [{\"error_x\": {\"color\": \"#2a3f5f\"}, \"error_y\": {\"color\": \"#2a3f5f\"}, \"marker\": {\"line\": {\"color\": \"#E5ECF6\", \"width\": 0.5}}, \"type\": \"bar\"}], \"barpolar\": [{\"marker\": {\"line\": {\"color\": \"#E5ECF6\", \"width\": 0.5}}, \"type\": \"barpolar\"}], \"carpet\": [{\"aaxis\": {\"endlinecolor\": \"#2a3f5f\", \"gridcolor\": \"white\", \"linecolor\": \"white\", \"minorgridcolor\": \"white\", \"startlinecolor\": \"#2a3f5f\"}, \"baxis\": {\"endlinecolor\": \"#2a3f5f\", \"gridcolor\": \"white\", \"linecolor\": \"white\", \"minorgridcolor\": \"white\", \"startlinecolor\": \"#2a3f5f\"}, \"type\": \"carpet\"}], \"choropleth\": [{\"colorbar\": {\"outlinewidth\": 0, \"ticks\": \"\"}, \"type\": \"choropleth\"}], \"contour\": [{\"colorbar\": {\"outlinewidth\": 0, \"ticks\": \"\"}, \"colorscale\": [[0.0, \"#0d0887\"], [0.1111111111111111, \"#46039f\"], [0.2222222222222222, \"#7201a8\"], [0.3333333333333333, \"#9c179e\"], [0.4444444444444444, \"#bd3786\"], [0.5555555555555556, \"#d8576b\"], [0.6666666666666666, \"#ed7953\"], [0.7777777777777778, \"#fb9f3a\"], [0.8888888888888888, \"#fdca26\"], [1.0, \"#f0f921\"]], \"type\": \"contour\"}], \"contourcarpet\": [{\"colorbar\": {\"outlinewidth\": 0, \"ticks\": \"\"}, \"type\": \"contourcarpet\"}], \"heatmap\": [{\"colorbar\": {\"outlinewidth\": 0, \"ticks\": \"\"}, \"colorscale\": [[0.0, \"#0d0887\"], [0.1111111111111111, \"#46039f\"], [0.2222222222222222, \"#7201a8\"], [0.3333333333333333, \"#9c179e\"], [0.4444444444444444, \"#bd3786\"], [0.5555555555555556, \"#d8576b\"], [0.6666666666666666, \"#ed7953\"], [0.7777777777777778, \"#fb9f3a\"], [0.8888888888888888, \"#fdca26\"], [1.0, \"#f0f921\"]], \"type\": \"heatmap\"}], \"heatmapgl\": [{\"colorbar\": {\"outlinewidth\": 0, \"ticks\": \"\"}, \"colorscale\": [[0.0, \"#0d0887\"], [0.1111111111111111, \"#46039f\"], [0.2222222222222222, \"#7201a8\"], [0.3333333333333333, \"#9c179e\"], [0.4444444444444444, \"#bd3786\"], [0.5555555555555556, \"#d8576b\"], [0.6666666666666666, \"#ed7953\"], [0.7777777777777778, \"#fb9f3a\"], [0.8888888888888888, \"#fdca26\"], [1.0, \"#f0f921\"]], \"type\": \"heatmapgl\"}], \"histogram\": [{\"marker\": {\"colorbar\": {\"outlinewidth\": 0, \"ticks\": \"\"}}, \"type\": \"histogram\"}], \"histogram2d\": [{\"colorbar\": {\"outlinewidth\": 0, \"ticks\": \"\"}, \"colorscale\": [[0.0, \"#0d0887\"], [0.1111111111111111, \"#46039f\"], [0.2222222222222222, \"#7201a8\"], [0.3333333333333333, \"#9c179e\"], [0.4444444444444444, \"#bd3786\"], [0.5555555555555556, \"#d8576b\"], [0.6666666666666666, \"#ed7953\"], [0.7777777777777778, \"#fb9f3a\"], [0.8888888888888888, \"#fdca26\"], [1.0, \"#f0f921\"]], \"type\": \"histogram2d\"}], \"histogram2dcontour\": [{\"colorbar\": {\"outlinewidth\": 0, \"ticks\": \"\"}, \"colorscale\": [[0.0, \"#0d0887\"], [0.1111111111111111, \"#46039f\"], [0.2222222222222222, \"#7201a8\"], [0.3333333333333333, \"#9c179e\"], [0.4444444444444444, \"#bd3786\"], [0.5555555555555556, \"#d8576b\"], [0.6666666666666666, \"#ed7953\"], [0.7777777777777778, \"#fb9f3a\"], [0.8888888888888888, \"#fdca26\"], [1.0, \"#f0f921\"]], \"type\": \"histogram2dcontour\"}], \"mesh3d\": [{\"colorbar\": {\"outlinewidth\": 0, \"ticks\": \"\"}, \"type\": \"mesh3d\"}], \"parcoords\": [{\"line\": {\"colorbar\": {\"outlinewidth\": 0, \"ticks\": \"\"}}, \"type\": \"parcoords\"}], \"pie\": [{\"automargin\": true, \"type\": \"pie\"}], \"scatter\": [{\"marker\": {\"colorbar\": {\"outlinewidth\": 0, \"ticks\": \"\"}}, \"type\": \"scatter\"}], \"scatter3d\": [{\"line\": {\"colorbar\": {\"outlinewidth\": 0, \"ticks\": \"\"}}, \"marker\": {\"colorbar\": {\"outlinewidth\": 0, \"ticks\": \"\"}}, \"type\": \"scatter3d\"}], \"scattercarpet\": [{\"marker\": {\"colorbar\": {\"outlinewidth\": 0, \"ticks\": \"\"}}, \"type\": \"scattercarpet\"}], \"scattergeo\": [{\"marker\": {\"colorbar\": {\"outlinewidth\": 0, \"ticks\": \"\"}}, \"type\": \"scattergeo\"}], \"scattergl\": [{\"marker\": {\"colorbar\": {\"outlinewidth\": 0, \"ticks\": \"\"}}, \"type\": \"scattergl\"}], \"scattermapbox\": [{\"marker\": {\"colorbar\": {\"outlinewidth\": 0, \"ticks\": \"\"}}, \"type\": \"scattermapbox\"}], \"scatterpolar\": [{\"marker\": {\"colorbar\": {\"outlinewidth\": 0, \"ticks\": \"\"}}, \"type\": \"scatterpolar\"}], \"scatterpolargl\": [{\"marker\": {\"colorbar\": {\"outlinewidth\": 0, \"ticks\": \"\"}}, \"type\": \"scatterpolargl\"}], \"scatterternary\": [{\"marker\": {\"colorbar\": {\"outlinewidth\": 0, \"ticks\": \"\"}}, \"type\": \"scatterternary\"}], \"surface\": [{\"colorbar\": {\"outlinewidth\": 0, \"ticks\": \"\"}, \"colorscale\": [[0.0, \"#0d0887\"], [0.1111111111111111, \"#46039f\"], [0.2222222222222222, \"#7201a8\"], [0.3333333333333333, \"#9c179e\"], [0.4444444444444444, \"#bd3786\"], [0.5555555555555556, \"#d8576b\"], [0.6666666666666666, \"#ed7953\"], [0.7777777777777778, \"#fb9f3a\"], [0.8888888888888888, \"#fdca26\"], [1.0, \"#f0f921\"]], \"type\": \"surface\"}], \"table\": [{\"cells\": {\"fill\": {\"color\": \"#EBF0F8\"}, \"line\": {\"color\": \"white\"}}, \"header\": {\"fill\": {\"color\": \"#C8D4E3\"}, \"line\": {\"color\": \"white\"}}, \"type\": \"table\"}]}, \"layout\": {\"annotationdefaults\": {\"arrowcolor\": \"#2a3f5f\", \"arrowhead\": 0, \"arrowwidth\": 1}, \"coloraxis\": {\"colorbar\": {\"outlinewidth\": 0, \"ticks\": \"\"}}, \"colorscale\": {\"diverging\": [[0, \"#8e0152\"], [0.1, \"#c51b7d\"], [0.2, \"#de77ae\"], [0.3, \"#f1b6da\"], [0.4, \"#fde0ef\"], [0.5, \"#f7f7f7\"], [0.6, \"#e6f5d0\"], [0.7, \"#b8e186\"], [0.8, \"#7fbc41\"], [0.9, \"#4d9221\"], [1, \"#276419\"]], \"sequential\": [[0.0, \"#0d0887\"], [0.1111111111111111, \"#46039f\"], [0.2222222222222222, \"#7201a8\"], [0.3333333333333333, \"#9c179e\"], [0.4444444444444444, \"#bd3786\"], [0.5555555555555556, \"#d8576b\"], [0.6666666666666666, \"#ed7953\"], [0.7777777777777778, \"#fb9f3a\"], [0.8888888888888888, \"#fdca26\"], [1.0, \"#f0f921\"]], \"sequentialminus\": [[0.0, \"#0d0887\"], [0.1111111111111111, \"#46039f\"], [0.2222222222222222, \"#7201a8\"], [0.3333333333333333, \"#9c179e\"], [0.4444444444444444, \"#bd3786\"], [0.5555555555555556, \"#d8576b\"], [0.6666666666666666, \"#ed7953\"], [0.7777777777777778, \"#fb9f3a\"], [0.8888888888888888, \"#fdca26\"], [1.0, \"#f0f921\"]]}, \"colorway\": [\"#636efa\", \"#EF553B\", \"#00cc96\", \"#ab63fa\", \"#FFA15A\", \"#19d3f3\", \"#FF6692\", \"#B6E880\", \"#FF97FF\", \"#FECB52\"], \"font\": {\"color\": \"#2a3f5f\"}, \"geo\": {\"bgcolor\": \"white\", \"lakecolor\": \"white\", \"landcolor\": \"#E5ECF6\", \"showlakes\": true, \"showland\": true, \"subunitcolor\": \"white\"}, \"hoverlabel\": {\"align\": \"left\"}, \"hovermode\": \"closest\", \"mapbox\": {\"style\": \"light\"}, \"paper_bgcolor\": \"white\", \"plot_bgcolor\": \"#E5ECF6\", \"polar\": {\"angularaxis\": {\"gridcolor\": \"white\", \"linecolor\": \"white\", \"ticks\": \"\"}, \"bgcolor\": \"#E5ECF6\", \"radialaxis\": {\"gridcolor\": \"white\", \"linecolor\": \"white\", \"ticks\": \"\"}}, \"scene\": {\"xaxis\": {\"backgroundcolor\": \"#E5ECF6\", \"gridcolor\": \"white\", \"gridwidth\": 2, \"linecolor\": \"white\", \"showbackground\": true, \"ticks\": \"\", \"zerolinecolor\": \"white\"}, \"yaxis\": {\"backgroundcolor\": \"#E5ECF6\", \"gridcolor\": \"white\", \"gridwidth\": 2, \"linecolor\": \"white\", \"showbackground\": true, \"ticks\": \"\", \"zerolinecolor\": \"white\"}, \"zaxis\": {\"backgroundcolor\": \"#E5ECF6\", \"gridcolor\": \"white\", \"gridwidth\": 2, \"linecolor\": \"white\", \"showbackground\": true, \"ticks\": \"\", \"zerolinecolor\": \"white\"}}, \"shapedefaults\": {\"line\": {\"color\": \"#2a3f5f\"}}, \"ternary\": {\"aaxis\": {\"gridcolor\": \"white\", \"linecolor\": \"white\", \"ticks\": \"\"}, \"baxis\": {\"gridcolor\": \"white\", \"linecolor\": \"white\", \"ticks\": \"\"}, \"bgcolor\": \"#E5ECF6\", \"caxis\": {\"gridcolor\": \"white\", \"linecolor\": \"white\", \"ticks\": \"\"}}, \"title\": {\"x\": 0.05}, \"xaxis\": {\"automargin\": true, \"gridcolor\": \"white\", \"linecolor\": \"white\", \"ticks\": \"\", \"title\": {\"standoff\": 15}, \"zerolinecolor\": \"white\", \"zerolinewidth\": 2}, \"yaxis\": {\"automargin\": true, \"gridcolor\": \"white\", \"linecolor\": \"white\", \"ticks\": \"\", \"title\": {\"standoff\": 15}, \"zerolinecolor\": \"white\", \"zerolinewidth\": 2}}}, \"title\": {\"text\": \"Document Distribution by Topics\"}, \"xaxis\": {\"anchor\": \"y\", \"domain\": [0.0, 1.0], \"title\": {\"text\": \"Topic\"}}, \"yaxis\": {\"anchor\": \"x\", \"domain\": [0.0, 1.0], \"title\": {\"text\": \"Documents\"}}},\n",
              "                        {\"responsive\": true}\n",
              "                    ).then(function(){\n",
              "                            \n",
              "var gd = document.getElementById('990536a4-b9e8-4614-aec1-37bebf2875ce');\n",
              "var x = new MutationObserver(function (mutations, observer) {{\n",
              "        var display = window.getComputedStyle(gd).display;\n",
              "        if (!display || display === 'none') {{\n",
              "            console.log([gd, 'removed!']);\n",
              "            Plotly.purge(gd);\n",
              "            observer.disconnect();\n",
              "        }}\n",
              "}});\n",
              "\n",
              "// Listen for the removal of the full notebook cells\n",
              "var notebookContainer = gd.closest('#notebook-container');\n",
              "if (notebookContainer) {{\n",
              "    x.observe(notebookContainer, {childList: true});\n",
              "}}\n",
              "\n",
              "// Listen for the clearing of the current output cell\n",
              "var outputEl = gd.closest('.output');\n",
              "if (outputEl) {{\n",
              "    x.observe(outputEl, {childList: true});\n",
              "}}\n",
              "\n",
              "                        })\n",
              "                };\n",
              "                });\n",
              "            </script>\n",
              "        </div>"
            ],
            "application/vnd.plotly.v1+json": {
              "data": [
                {
                  "textposition": "auto",
                  "hovertemplate": "Topic=%{x}<br>Documents=%{y}<br>Keyword=%{customdata[0]}",
                  "showlegend": false,
                  "legendgroup": "",
                  "name": "",
                  "yaxis": "y",
                  "customdata": [
                    [
                      "child, mother, family, information, biological, ask, assessment, worker, would, home"
                    ],
                    [
                      "child, aunt, grandmother, mother, parent, german, bear, nationality, year, welfare"
                    ],
                    [
                      "child, address, syrian, family, visit, carer, order, nationality, care, daughter"
                    ]
                  ],
                  "y": [
                    2,
                    1,
                    2
                  ],
                  "hoverlabel": {
                    "namelength": 0
                  },
                  "offsetgroup": "",
                  "xaxis": "x",
                  "marker": {
                    "color": "#636efa"
                  },
                  "x": [
                    "Topic 1",
                    "Topic 2",
                    "Topic 5"
                  ],
                  "alignmentgroup": "True",
                  "type": "bar",
                  "orientation": "v"
                }
              ],
              "config": {
                "plotlyServerURL": "https://plot.ly"
              },
              "layout": {
                "template": {
                  "layout": {
                    "shapedefaults": {
                      "line": {
                        "color": "#2a3f5f"
                      }
                    },
                    "polar": {
                      "radialaxis": {
                        "ticks": "",
                        "gridcolor": "white",
                        "linecolor": "white"
                      },
                      "bgcolor": "#E5ECF6",
                      "angularaxis": {
                        "ticks": "",
                        "gridcolor": "white",
                        "linecolor": "white"
                      }
                    },
                    "colorway": [
                      "#636efa",
                      "#EF553B",
                      "#00cc96",
                      "#ab63fa",
                      "#FFA15A",
                      "#19d3f3",
                      "#FF6692",
                      "#B6E880",
                      "#FF97FF",
                      "#FECB52"
                    ],
                    "xaxis": {
                      "automargin": true,
                      "title": {
                        "standoff": 15
                      },
                      "zerolinewidth": 2,
                      "ticks": "",
                      "zerolinecolor": "white",
                      "gridcolor": "white",
                      "linecolor": "white"
                    },
                    "colorscale": {
                      "diverging": [
                        [
                          0,
                          "#8e0152"
                        ],
                        [
                          0.1,
                          "#c51b7d"
                        ],
                        [
                          0.2,
                          "#de77ae"
                        ],
                        [
                          0.3,
                          "#f1b6da"
                        ],
                        [
                          0.4,
                          "#fde0ef"
                        ],
                        [
                          0.5,
                          "#f7f7f7"
                        ],
                        [
                          0.6,
                          "#e6f5d0"
                        ],
                        [
                          0.7,
                          "#b8e186"
                        ],
                        [
                          0.8,
                          "#7fbc41"
                        ],
                        [
                          0.9,
                          "#4d9221"
                        ],
                        [
                          1,
                          "#276419"
                        ]
                      ],
                      "sequential": [
                        [
                          0,
                          "#0d0887"
                        ],
                        [
                          0.1111111111111111,
                          "#46039f"
                        ],
                        [
                          0.2222222222222222,
                          "#7201a8"
                        ],
                        [
                          0.3333333333333333,
                          "#9c179e"
                        ],
                        [
                          0.4444444444444444,
                          "#bd3786"
                        ],
                        [
                          0.5555555555555556,
                          "#d8576b"
                        ],
                        [
                          0.6666666666666666,
                          "#ed7953"
                        ],
                        [
                          0.7777777777777778,
                          "#fb9f3a"
                        ],
                        [
                          0.8888888888888888,
                          "#fdca26"
                        ],
                        [
                          1,
                          "#f0f921"
                        ]
                      ],
                      "sequentialminus": [
                        [
                          0,
                          "#0d0887"
                        ],
                        [
                          0.1111111111111111,
                          "#46039f"
                        ],
                        [
                          0.2222222222222222,
                          "#7201a8"
                        ],
                        [
                          0.3333333333333333,
                          "#9c179e"
                        ],
                        [
                          0.4444444444444444,
                          "#bd3786"
                        ],
                        [
                          0.5555555555555556,
                          "#d8576b"
                        ],
                        [
                          0.6666666666666666,
                          "#ed7953"
                        ],
                        [
                          0.7777777777777778,
                          "#fb9f3a"
                        ],
                        [
                          0.8888888888888888,
                          "#fdca26"
                        ],
                        [
                          1,
                          "#f0f921"
                        ]
                      ]
                    },
                    "paper_bgcolor": "white",
                    "plot_bgcolor": "#E5ECF6",
                    "title": {
                      "x": 0.05
                    },
                    "scene": {
                      "zaxis": {
                        "backgroundcolor": "#E5ECF6",
                        "ticks": "",
                        "gridwidth": 2,
                        "showbackground": true,
                        "zerolinecolor": "white",
                        "gridcolor": "white",
                        "linecolor": "white"
                      },
                      "xaxis": {
                        "backgroundcolor": "#E5ECF6",
                        "ticks": "",
                        "gridwidth": 2,
                        "showbackground": true,
                        "zerolinecolor": "white",
                        "gridcolor": "white",
                        "linecolor": "white"
                      },
                      "yaxis": {
                        "backgroundcolor": "#E5ECF6",
                        "ticks": "",
                        "gridwidth": 2,
                        "showbackground": true,
                        "zerolinecolor": "white",
                        "gridcolor": "white",
                        "linecolor": "white"
                      }
                    },
                    "yaxis": {
                      "automargin": true,
                      "title": {
                        "standoff": 15
                      },
                      "zerolinewidth": 2,
                      "ticks": "",
                      "zerolinecolor": "white",
                      "gridcolor": "white",
                      "linecolor": "white"
                    },
                    "annotationdefaults": {
                      "arrowwidth": 1,
                      "arrowhead": 0,
                      "arrowcolor": "#2a3f5f"
                    },
                    "hoverlabel": {
                      "align": "left"
                    },
                    "ternary": {
                      "bgcolor": "#E5ECF6",
                      "baxis": {
                        "ticks": "",
                        "gridcolor": "white",
                        "linecolor": "white"
                      },
                      "caxis": {
                        "ticks": "",
                        "gridcolor": "white",
                        "linecolor": "white"
                      },
                      "aaxis": {
                        "ticks": "",
                        "gridcolor": "white",
                        "linecolor": "white"
                      }
                    },
                    "mapbox": {
                      "style": "light"
                    },
                    "hovermode": "closest",
                    "font": {
                      "color": "#2a3f5f"
                    },
                    "geo": {
                      "showland": true,
                      "landcolor": "#E5ECF6",
                      "showlakes": true,
                      "bgcolor": "white",
                      "subunitcolor": "white",
                      "lakecolor": "white"
                    },
                    "coloraxis": {
                      "colorbar": {
                        "outlinewidth": 0,
                        "ticks": ""
                      }
                    }
                  },
                  "data": {
                    "mesh3d": [
                      {
                        "colorbar": {
                          "outlinewidth": 0,
                          "ticks": ""
                        },
                        "type": "mesh3d"
                      }
                    ],
                    "scattercarpet": [
                      {
                        "marker": {
                          "colorbar": {
                            "outlinewidth": 0,
                            "ticks": ""
                          }
                        },
                        "type": "scattercarpet"
                      }
                    ],
                    "pie": [
                      {
                        "automargin": true,
                        "type": "pie"
                      }
                    ],
                    "surface": [
                      {
                        "colorbar": {
                          "outlinewidth": 0,
                          "ticks": ""
                        },
                        "type": "surface",
                        "colorscale": [
                          [
                            0,
                            "#0d0887"
                          ],
                          [
                            0.1111111111111111,
                            "#46039f"
                          ],
                          [
                            0.2222222222222222,
                            "#7201a8"
                          ],
                          [
                            0.3333333333333333,
                            "#9c179e"
                          ],
                          [
                            0.4444444444444444,
                            "#bd3786"
                          ],
                          [
                            0.5555555555555556,
                            "#d8576b"
                          ],
                          [
                            0.6666666666666666,
                            "#ed7953"
                          ],
                          [
                            0.7777777777777778,
                            "#fb9f3a"
                          ],
                          [
                            0.8888888888888888,
                            "#fdca26"
                          ],
                          [
                            1,
                            "#f0f921"
                          ]
                        ]
                      }
                    ],
                    "table": [
                      {
                        "header": {
                          "line": {
                            "color": "white"
                          },
                          "fill": {
                            "color": "#C8D4E3"
                          }
                        },
                        "cells": {
                          "line": {
                            "color": "white"
                          },
                          "fill": {
                            "color": "#EBF0F8"
                          }
                        },
                        "type": "table"
                      }
                    ],
                    "scatterpolargl": [
                      {
                        "marker": {
                          "colorbar": {
                            "outlinewidth": 0,
                            "ticks": ""
                          }
                        },
                        "type": "scatterpolargl"
                      }
                    ],
                    "contour": [
                      {
                        "colorbar": {
                          "outlinewidth": 0,
                          "ticks": ""
                        },
                        "type": "contour",
                        "colorscale": [
                          [
                            0,
                            "#0d0887"
                          ],
                          [
                            0.1111111111111111,
                            "#46039f"
                          ],
                          [
                            0.2222222222222222,
                            "#7201a8"
                          ],
                          [
                            0.3333333333333333,
                            "#9c179e"
                          ],
                          [
                            0.4444444444444444,
                            "#bd3786"
                          ],
                          [
                            0.5555555555555556,
                            "#d8576b"
                          ],
                          [
                            0.6666666666666666,
                            "#ed7953"
                          ],
                          [
                            0.7777777777777778,
                            "#fb9f3a"
                          ],
                          [
                            0.8888888888888888,
                            "#fdca26"
                          ],
                          [
                            1,
                            "#f0f921"
                          ]
                        ]
                      }
                    ],
                    "carpet": [
                      {
                        "type": "carpet",
                        "baxis": {
                          "minorgridcolor": "white",
                          "gridcolor": "white",
                          "linecolor": "white",
                          "endlinecolor": "#2a3f5f",
                          "startlinecolor": "#2a3f5f"
                        },
                        "aaxis": {
                          "minorgridcolor": "white",
                          "gridcolor": "white",
                          "linecolor": "white",
                          "endlinecolor": "#2a3f5f",
                          "startlinecolor": "#2a3f5f"
                        }
                      }
                    ],
                    "contourcarpet": [
                      {
                        "colorbar": {
                          "outlinewidth": 0,
                          "ticks": ""
                        },
                        "type": "contourcarpet"
                      }
                    ],
                    "heatmap": [
                      {
                        "colorbar": {
                          "outlinewidth": 0,
                          "ticks": ""
                        },
                        "type": "heatmap",
                        "colorscale": [
                          [
                            0,
                            "#0d0887"
                          ],
                          [
                            0.1111111111111111,
                            "#46039f"
                          ],
                          [
                            0.2222222222222222,
                            "#7201a8"
                          ],
                          [
                            0.3333333333333333,
                            "#9c179e"
                          ],
                          [
                            0.4444444444444444,
                            "#bd3786"
                          ],
                          [
                            0.5555555555555556,
                            "#d8576b"
                          ],
                          [
                            0.6666666666666666,
                            "#ed7953"
                          ],
                          [
                            0.7777777777777778,
                            "#fb9f3a"
                          ],
                          [
                            0.8888888888888888,
                            "#fdca26"
                          ],
                          [
                            1,
                            "#f0f921"
                          ]
                        ]
                      }
                    ],
                    "scattermapbox": [
                      {
                        "marker": {
                          "colorbar": {
                            "outlinewidth": 0,
                            "ticks": ""
                          }
                        },
                        "type": "scattermapbox"
                      }
                    ],
                    "scatter3d": [
                      {
                        "marker": {
                          "colorbar": {
                            "outlinewidth": 0,
                            "ticks": ""
                          }
                        },
                        "line": {
                          "colorbar": {
                            "outlinewidth": 0,
                            "ticks": ""
                          }
                        },
                        "type": "scatter3d"
                      }
                    ],
                    "scattergl": [
                      {
                        "marker": {
                          "colorbar": {
                            "outlinewidth": 0,
                            "ticks": ""
                          }
                        },
                        "type": "scattergl"
                      }
                    ],
                    "scatterternary": [
                      {
                        "marker": {
                          "colorbar": {
                            "outlinewidth": 0,
                            "ticks": ""
                          }
                        },
                        "type": "scatterternary"
                      }
                    ],
                    "histogram": [
                      {
                        "marker": {
                          "colorbar": {
                            "outlinewidth": 0,
                            "ticks": ""
                          }
                        },
                        "type": "histogram"
                      }
                    ],
                    "heatmapgl": [
                      {
                        "colorbar": {
                          "outlinewidth": 0,
                          "ticks": ""
                        },
                        "type": "heatmapgl",
                        "colorscale": [
                          [
                            0,
                            "#0d0887"
                          ],
                          [
                            0.1111111111111111,
                            "#46039f"
                          ],
                          [
                            0.2222222222222222,
                            "#7201a8"
                          ],
                          [
                            0.3333333333333333,
                            "#9c179e"
                          ],
                          [
                            0.4444444444444444,
                            "#bd3786"
                          ],
                          [
                            0.5555555555555556,
                            "#d8576b"
                          ],
                          [
                            0.6666666666666666,
                            "#ed7953"
                          ],
                          [
                            0.7777777777777778,
                            "#fb9f3a"
                          ],
                          [
                            0.8888888888888888,
                            "#fdca26"
                          ],
                          [
                            1,
                            "#f0f921"
                          ]
                        ]
                      }
                    ],
                    "scatterpolar": [
                      {
                        "marker": {
                          "colorbar": {
                            "outlinewidth": 0,
                            "ticks": ""
                          }
                        },
                        "type": "scatterpolar"
                      }
                    ],
                    "histogram2d": [
                      {
                        "colorbar": {
                          "outlinewidth": 0,
                          "ticks": ""
                        },
                        "type": "histogram2d",
                        "colorscale": [
                          [
                            0,
                            "#0d0887"
                          ],
                          [
                            0.1111111111111111,
                            "#46039f"
                          ],
                          [
                            0.2222222222222222,
                            "#7201a8"
                          ],
                          [
                            0.3333333333333333,
                            "#9c179e"
                          ],
                          [
                            0.4444444444444444,
                            "#bd3786"
                          ],
                          [
                            0.5555555555555556,
                            "#d8576b"
                          ],
                          [
                            0.6666666666666666,
                            "#ed7953"
                          ],
                          [
                            0.7777777777777778,
                            "#fb9f3a"
                          ],
                          [
                            0.8888888888888888,
                            "#fdca26"
                          ],
                          [
                            1,
                            "#f0f921"
                          ]
                        ]
                      }
                    ],
                    "scattergeo": [
                      {
                        "marker": {
                          "colorbar": {
                            "outlinewidth": 0,
                            "ticks": ""
                          }
                        },
                        "type": "scattergeo"
                      }
                    ],
                    "bar": [
                      {
                        "marker": {
                          "line": {
                            "color": "#E5ECF6",
                            "width": 0.5
                          }
                        },
                        "type": "bar",
                        "error_x": {
                          "color": "#2a3f5f"
                        },
                        "error_y": {
                          "color": "#2a3f5f"
                        }
                      }
                    ],
                    "choropleth": [
                      {
                        "colorbar": {
                          "outlinewidth": 0,
                          "ticks": ""
                        },
                        "type": "choropleth"
                      }
                    ],
                    "parcoords": [
                      {
                        "line": {
                          "colorbar": {
                            "outlinewidth": 0,
                            "ticks": ""
                          }
                        },
                        "type": "parcoords"
                      }
                    ],
                    "barpolar": [
                      {
                        "marker": {
                          "line": {
                            "color": "#E5ECF6",
                            "width": 0.5
                          }
                        },
                        "type": "barpolar"
                      }
                    ],
                    "histogram2dcontour": [
                      {
                        "colorbar": {
                          "outlinewidth": 0,
                          "ticks": ""
                        },
                        "type": "histogram2dcontour",
                        "colorscale": [
                          [
                            0,
                            "#0d0887"
                          ],
                          [
                            0.1111111111111111,
                            "#46039f"
                          ],
                          [
                            0.2222222222222222,
                            "#7201a8"
                          ],
                          [
                            0.3333333333333333,
                            "#9c179e"
                          ],
                          [
                            0.4444444444444444,
                            "#bd3786"
                          ],
                          [
                            0.5555555555555556,
                            "#d8576b"
                          ],
                          [
                            0.6666666666666666,
                            "#ed7953"
                          ],
                          [
                            0.7777777777777778,
                            "#fb9f3a"
                          ],
                          [
                            0.8888888888888888,
                            "#fdca26"
                          ],
                          [
                            1,
                            "#f0f921"
                          ]
                        ]
                      }
                    ],
                    "scatter": [
                      {
                        "marker": {
                          "colorbar": {
                            "outlinewidth": 0,
                            "ticks": ""
                          }
                        },
                        "type": "scatter"
                      }
                    ]
                  }
                },
                "yaxis": {
                  "domain": [
                    0,
                    1
                  ],
                  "anchor": "x",
                  "title": {
                    "text": "Documents"
                  }
                },
                "title": {
                  "text": "Document Distribution by Topics"
                },
                "barmode": "relative",
                "xaxis": {
                  "domain": [
                    0,
                    1
                  ],
                  "anchor": "y",
                  "title": {
                    "text": "Topic"
                  }
                },
                "legend": {
                  "tracegroupgap": 0
                }
              }
            }
          },
          "metadata": {
            "tags": []
          }
        },
        {
          "output_type": "display_data",
          "data": {
            "text/html": [
              "        <script type=\"text/javascript\">\n",
              "        window.PlotlyConfig = {MathJaxConfig: 'local'};\n",
              "        if (window.MathJax) {MathJax.Hub.Config({SVG: {font: \"STIX-Web\"}});}\n",
              "        if (typeof require !== 'undefined') {\n",
              "        require.undef(\"plotly\");\n",
              "        requirejs.config({\n",
              "            paths: {\n",
              "                'plotly': ['https://cdn.plot.ly/plotly-latest.min']\n",
              "            }\n",
              "        });\n",
              "        require(['plotly'], function(Plotly) {\n",
              "            window._Plotly = Plotly;\n",
              "        });\n",
              "        }\n",
              "        </script>\n",
              "        "
            ]
          },
          "metadata": {
            "tags": []
          }
        },
        {
          "output_type": "display_data",
          "data": {
            "text/html": [
              "\n",
              "<link rel=\"stylesheet\" type=\"text/css\" href=\"https://cdn.rawgit.com/bmabey/pyLDAvis/files/ldavis.v1.0.0.css\">\n",
              "\n",
              "\n",
              "<div id=\"ldavis_el1031402535208944966883801041\"></div>\n",
              "<script type=\"text/javascript\">\n",
              "\n",
              "var ldavis_el1031402535208944966883801041_data = {\"mdsDat\": {\"x\": [0.03615821797889198, 0.012357733620946445, -0.13795554575230412, 0.029130176113154813, 0.029935685286620134, 0.030373732752690757], \"y\": [0.14030293078455786, -0.13603222116795172, -0.004114622904540176, 4.204158203071853e-05, -7.186987803966987e-05, -0.00012625841605702458], \"topics\": [1, 2, 3, 4, 5, 6], \"cluster\": [1, 1, 1, 1, 1, 1], \"Freq\": [46.41439624252724, 39.40822340716472, 14.001148275441466, 0.05874411654642708, 0.058744097088260464, 0.05874386123188259]}, \"tinfo\": {\"Term\": [\"child\", \"syrian\", \"mother\", \"carer\", \"address\", \"biological\", \"area\", \"german\", \"daughter\", \"parent\", \"safe\", \"unknown\", \"assessment\", \"nationality\", \"ask\", \"would\", \"current\", \"contact\", \"home\", \"worker\", \"name\", \"ensure\", \"holiday\", \"number\", \"grandmother\", \"year\", \"note\", \"service\", \"first\", \"travel\", \"syrian\", \"carer\", \"area\", \"unknown\", \"safe\", \"number\", \"ensure\", \"holiday\", \"decision\", \"attack\", \"friend\", \"address\", \"several\", \"abuse\", \"provide\", \"british\", \"terrorist\", \"long\", \"carol\", \"suitability\", \"foster\", \"separate\", \"download\", \"start\", \"married\", \"video\", \"refuse\", \"establish\", \"appropriate\", \"turn\", \"current\", \"father\", \"daughter\", \"travel\", \"service\", \"first\", \"care\", \"take\", \"name\", \"visit\", \"child\", \"order\", \"nationality\", \"phone\", \"family\", \"wife\", \"regard\", \"time\", \"contact\", \"would\", \"parent\", \"stay\", \"mother\", \"year\", \"ask\", \"go\", \"request\", \"biological\", \"ticket\", \"trace\", \"search\", \"lot\", \"see\", \"member\", \"question\", \"lose\", \"marriage\", \"ago\", \"pay\", \"conduct\", \"psychologist\", \"paper\", \"seem\", \"contract\", \"sure\", \"unfortunately\", \"like\", \"possibly\", \"mind\", \"give\", \"present\", \"process\", \"call\", \"speak\", \"primary\", \"stability\", \"couple\", \"worker\", \"assessment\", \"home\", \"mother\", \"receive\", \"help\", \"attend\", \"information\", \"accord\", \"ask\", \"german\", \"family\", \"child\", \"note\", \"would\", \"leave\", \"contact\", \"request\", \"get\", \"visit\", \"live\", \"year\", \"order\", \"case\", \"parent\", \"time\", \"also\", \"date\", \"aunt\", \"many\", \"consume\", \"danger\", \"heroine\", \"together\", \"responsible\", \"grandmother\", \"bear\", \"mobile\", \"supply\", \"appoint\", \"country\", \"moment\", \"youth\", \"lock\", \"tolerate\", \"cancel\", \"substitution\", \"prove\", \"protection\", \"programme\", \"photo\", \"kick\", \"mention\", \"potsdam\", \"motivate\", \"substitute\", \"relevant\", \"locally\", \"welfare\", \"beat\", \"deport\", \"german\", \"already\", \"alert\", \"child\", \"follow\", \"parent\", \"situation\", \"year\", \"nationality\", \"send\", \"inform\", \"mother\", \"embassy\", \"soon\", \"make\", \"old\", \"come\", \"family\", \"request\", \"information\", \"free\", \"substitute\", \"relevant\", \"tolerate\", \"guardian\", \"youth\", \"flat\", \"drug\", \"moment\", \"hope\", \"cancel\", \"longer\", \"professional\", \"household\", \"prove\", \"substitution\", \"addict\", \"context\", \"assume\", \"appoint\", \"massively\", \"kick\", \"photo\", \"welcome\", \"locally\", \"lock\", \"beat\", \"country\", \"potsdam\", \"deport\", \"begin\", \"child\", \"mother\", \"document\", \"available\", \"family\", \"information\", \"biological\", \"nationality\", \"parent\", \"address\", \"shelter\", \"enclose\", \"orphanage\", \"would\", \"order\", \"visit\", \"year\", \"contact\", \"request\", \"syrian\", \"time\", \"home\", \"german\", \"daughter\", \"ask\", \"care\", \"wife\", \"come\", \"go\", \"accord\", \"live\", \"search\", \"report\", \"place\", \"phone\", \"note\", \"assessment\", \"prove\", \"kick\", \"massively\", \"moment\", \"flat\", \"lock\", \"drug\", \"professional\", \"guardianship\", \"tolerate\", \"appoint\", \"photo\", \"substitute\", \"addict\", \"protection\", \"potsdam\", \"escalate\", \"may\", \"deport\", \"supply\", \"whatsapp\", \"locally\", \"relevant\", \"longer\", \"hope\", \"context\", \"welcome\", \"motivate\", \"appeal\", \"cancel\", \"begin\", \"child\", \"family\", \"mother\", \"information\", \"order\", \"year\", \"would\", \"parent\", \"address\", \"request\", \"nationality\", \"visit\", \"carer\", \"aunt\", \"contact\", \"biological\", \"grandmother\", \"note\", \"care\", \"old\", \"phone\", \"welfare\", \"german\", \"ask\", \"syrian\", \"safe\", \"come\", \"try\", \"area\", \"time\", \"live\", \"daughter\", \"moment\", \"flat\", \"prove\", \"substitute\", \"tolerate\", \"kick\", \"drug\", \"massively\", \"professional\", \"appoint\", \"lock\", \"relevant\", \"photo\", \"free\", \"addict\", \"youth\", \"cancel\", \"longer\", \"hope\", \"guardianship\", \"guardian\", \"potsdam\", \"locally\", \"protection\", \"context\", \"substitution\", \"deport\", \"welcome\", \"country\", \"may\", \"deadline\", \"child\", \"financially\", \"thus\", \"difficulty\", \"angry\", \"initiate\", \"end\", \"civil\", \"sheikh\", \"check\", \"committed\", \"reach\", \"lack\", \"kid\", \"representative\", \"clear\", \"stop\", \"asking\", \"arabic\", \"deal\", \"custody\", \"independency\", \"wait\", \"kind\", \"conclusion\", \"emerge\", \"emergency\", \"psychosocial\", \"offer\", \"family\", \"visit\", \"order\", \"ask\", \"assessment\", \"address\", \"time\", \"worker\", \"syrian\", \"attend\", \"care\", \"carer\", \"mother\", \"current\", \"would\", \"get\", \"note\", \"regard\", \"information\", \"possible\", \"parent\", \"year\", \"service\", \"social\", \"stay\", \"wife\", \"name\", \"daughter\", \"date\"], \"Freq\": [55.0, 10.0, 26.0, 9.0, 12.0, 8.0, 6.0, 9.0, 9.0, 11.0, 5.0, 5.0, 7.0, 11.0, 10.0, 10.0, 6.0, 10.0, 6.0, 7.0, 7.0, 4.0, 4.0, 4.0, 5.0, 11.0, 7.0, 5.0, 5.0, 5.0, 9.827514359591568, 8.924103761139381, 6.301541716700279, 5.429040364455806, 5.421190435945549, 4.548257557518964, 4.54527107872571, 4.545864770797914, 3.6657797963636387, 3.6634847367326637, 3.663297528275739, 11.578831455687972, 2.7885261589671226, 2.787898262413392, 2.785908599938901, 2.7833832708519375, 2.78383464784922, 2.7834950462112107, 2.7819292749899187, 2.7806701225137367, 2.7802734116074643, 1.908137925156458, 1.9077335793212737, 1.9080186675668513, 1.907616306813184, 1.9078548219923979, 1.9073729052794666, 1.9077329685269608, 1.907532933389464, 1.9070090245675162, 5.4231058869110145, 4.54741893692726, 7.187790827341022, 4.539389740286148, 4.537530787794632, 4.537219282695018, 7.18843888010708, 3.6685149332971063, 5.423139480598228, 9.822411783901039, 25.65426267703473, 8.061849705083562, 7.194312278220575, 4.548504929215716, 9.825401622063014, 4.549754614380047, 4.545035617518062, 5.429271855500421, 5.426707740974583, 5.415690233157278, 5.431074309517987, 4.5501766732503075, 4.558944320215797, 4.550949022659055, 4.550196829462636, 4.547853822478093, 4.546605664299544, 7.881510021145216, 4.438463747916804, 2.7240018140007485, 2.723120460153399, 2.7233805360312724, 2.7227086949549317, 2.72191446523018, 2.72194817396809, 2.7219855128777746, 2.7220184437217325, 2.7221024562685234, 2.7214835119809027, 2.721684467918442, 2.7215996774776996, 2.721798299733383, 2.721010293160246, 2.7208303403594045, 1.8632934017803493, 1.8627140004352767, 1.863260989532359, 1.8626480090983686, 1.8628911009582951, 1.862858040465345, 1.8626163747443303, 1.8625406597330252, 1.8627382447967733, 1.862765989681053, 1.8623713381495244, 1.862477909620916, 1.8623980458418683, 6.158876829861842, 6.15895876802476, 5.306223639160956, 18.203035852022516, 3.5901234605824848, 3.5813874522061853, 4.442166004531235, 8.766102500313616, 4.44449709340669, 6.167017230769074, 5.302367359544076, 9.622388455769242, 18.282210935625045, 4.44924535808826, 5.323802486682931, 3.585058074466578, 4.451766771683913, 4.453953172284339, 3.5837952932848802, 4.465038161096984, 3.5866187890318018, 3.591270076267386, 3.601669481210542, 2.7406860834781943, 2.7332385267840005, 2.7298821736801204, 2.7273278292405094, 2.7265517503746324, 4.254357729522907, 1.4949884351297023, 1.4949838288962736, 1.4951903724032127, 1.4951988478727214, 1.4947552675935458, 1.4944595474074287, 4.254077302031773, 3.564192877459934, 0.8053591958898089, 0.8052636626084994, 0.8051002334464521, 0.8051751308020013, 0.8050074639051997, 0.8051024444384978, 0.8050628308310117, 0.8049973301916569, 0.805073977915909, 0.8051066821732521, 0.8049533867247478, 0.8050824533854176, 0.8052100460513902, 0.8050256124649086, 0.8049612173215764, 0.8051984383431502, 0.805054355361503, 0.805137083313881, 0.8049196690960504, 0.8049716274091252, 0.8050309556956857, 2.873877493688514, 0.8051062215499093, 0.8050505782500916, 3.5670222102811264, 1.4951099475675491, 1.4952758640956478, 11.167139332100259, 2.1847068510487735, 3.567147868329059, 2.1866661584999694, 2.8770913548763275, 2.878216565578269, 1.4955876139740965, 1.4958742138180248, 3.5718112190521887, 1.4961937942933021, 1.4953460630931, 1.4953842027058888, 1.4963090422536862, 1.4962125877256909, 2.188820401749864, 1.4977024278658422, 1.4978714766326724, 0.0015650094190754777, 0.0015648196357062121, 0.0015645476193190011, 0.0015642466136187659, 0.0015643909803976267, 0.0015643246915018445, 0.001564112972885724, 0.0015639807816183334, 0.0015637969893737595, 0.0015640242655878696, 0.00156396879936895, 0.0015639470573841818, 0.0015637969893737595, 0.0015639936335471074, 0.0015633921053018539, 0.0015635772503810356, 0.0015634639021671107, 0.0015635146334649032, 0.001563642669597427, 0.0015632909325993993, 0.001563252376813077, 0.0015631900497900747, 0.0015632860044161852, 0.0015633394413831932, 0.0015632356596425663, 0.001562862760446031, 0.0015630116688839322, 0.0015628902036623606, 0.0015628332879777896, 0.0015627490257079323, 0.001562773666624003, 0.0018631273005783166, 0.0017717037040936958, 0.0015701675841729283, 0.0015696259671745916, 0.0016966604223023918, 0.0016738334641787393, 0.001653444700542514, 0.0016448744933021074, 0.0016426956565352038, 0.0016441184520184346, 0.0015691238722730114, 0.0015690011508478754, 0.001568304730917989, 0.0016331216460158105, 0.00163501677403925, 0.0016377668935348183, 0.0016272180690494625, 0.0016243384639557188, 0.0016241303206882046, 0.0016211571767444362, 0.0016187287419923936, 0.0016116350570953562, 0.0016150989901086254, 0.0016150880708007197, 0.0016177208802095834, 0.0016130304093622575, 0.00160621125325956, 0.0016045930698065456, 0.0016062055520279985, 0.001604241622701648, 0.0016071293448030384, 0.001590606402689642, 0.0016025671999813666, 0.0015997436408928033, 0.0016013971913077072, 0.00160330826345331, 0.001602845883910573, 0.001567250836783649, 0.0015672174024537024, 0.0015670294551365167, 0.0015668371594238176, 0.0015667518342407458, 0.00156662708360502, 0.001566511609546389, 0.0015663428918004734, 0.001566411306556549, 0.001566095419780261, 0.0015661132965173715, 0.0015660572505307555, 0.001565819634873707, 0.001565951826097311, 0.0015659704758825125, 0.0015656519800689166, 0.001565656618357464, 0.0015655878170773426, 0.0015654238342509858, 0.0015655382453684911, 0.0015654194858554724, 0.0015652765685896023, 0.0015651255343187738, 0.001565202839127899, 0.0015651479527134201, 0.0015651725936213288, 0.0015651157745866218, 0.0015651891175242792, 0.0015651254376877624, 0.00156483535139152, 0.0015649600053962345, 0.001892153286435831, 0.0017401329927670293, 0.0017393381060671993, 0.0016523195611513437, 0.0016401222151055427, 0.001636430137421722, 0.0016342717871509456, 0.0016338754067421561, 0.0016347580344003433, 0.0016309923238858309, 0.0016314845622579358, 0.0016322096813675305, 0.0016220781130835784, 0.0016067239285261375, 0.0016166787586902268, 0.0016131401310525199, 0.001603015520201389, 0.0016070202958381212, 0.0016114003863231564, 0.001601215670982931, 0.0016032837678890536, 0.0015955798605046677, 0.0016079747203377836, 0.001610484420966034, 0.0016085645560314091, 0.0015985447898276544, 0.0015993063388285492, 0.001596972313379036, 0.0015997869814792854, 0.0016036371474977672, 0.0016011687083113874, 0.0015998120089112397, 0.001567131969626504, 0.0015671318729958805, 0.001567131969626504, 0.0015671318729958805, 0.001567131969626504, 0.001567131969626504, 0.0015671318729958805, 0.0015671318729958805, 0.0015671321628877508, 0.001567131969626504, 0.0015671318729958805, 0.0015671318729958805, 0.0015671321628877508, 0.0015671318729958805, 0.001567131969626504, 0.0015671318729958805, 0.0015671318729958805, 0.0015671318729958805, 0.001567131969626504, 0.0015671321628877508, 0.001567131969626504, 0.0015671318729958805, 0.0015671318729958805, 0.001567131969626504, 0.0015671318729958805, 0.0015671318729958805, 0.0015671318729958805, 0.0015671318729958805, 0.001567131969626504, 0.001567131969626504, 0.0015716318644986226, 0.0016722445392947022, 0.0015714773521317501, 0.0015714616013401304, 0.0015714149287490112, 0.0015713681595272686, 0.0015711834984058846, 0.001571134506679803, 0.0015711333471123217, 0.001570993619230835, 0.0015709061685166262, 0.0015708988245892452, 0.001570849929493787, 0.0015708033535332914, 0.0015707967826508978, 0.0015707784228324452, 0.0015707582270321472, 0.0015707043071442705, 0.001570670389795445, 0.0015706422702840253, 0.0015706400477796863, 0.0015705972404135046, 0.00157057375917201, 0.0015705622601278211, 0.0015707798722917967, 0.0015704820567103701, 0.0015704794476835374, 0.0015704599282976037, 0.0015704588653607458, 0.0015706914552713537, 0.0016121087899349242, 0.0015987564670193065, 0.0015984792337606717, 0.00159757419134158, 0.0015943317507722203, 0.0015930019201325085, 0.001592903163635358, 0.0015920812235524202, 0.0015912622790188091, 0.001591021185613339, 0.0015903448678799177, 0.0015896815952806602, 0.0015889907829537238, 0.0015888668058638567, 0.0015869119683517678, 0.0015867935958380599, 0.0015858813061222106, 0.0015856988675051653, 0.001585160924824503, 0.0015846102269015472, 0.0015844328130769207, 0.00158439425745817, 0.0015843671042529849, 0.0015842610038284534, 0.0015840857158775424, 0.0015837553357760182, 0.001583492693741522, 0.0015826424408859178, 0.0015820949317735355], \"Total\": [55.0, 10.0, 26.0, 9.0, 12.0, 8.0, 6.0, 9.0, 9.0, 11.0, 5.0, 5.0, 7.0, 11.0, 10.0, 10.0, 6.0, 10.0, 6.0, 7.0, 7.0, 4.0, 4.0, 4.0, 5.0, 11.0, 7.0, 5.0, 5.0, 5.0, 10.109072480233896, 9.227470842525298, 6.582261091673532, 5.701158230386436, 5.699980530099536, 4.819778031224251, 4.819210054636251, 4.8198475845637265, 3.9376193594569897, 3.9374689020112577, 3.9381305134204685, 12.562162152682024, 3.056154152043676, 3.056016660083374, 3.0560137795684095, 3.0555066977566536, 3.0563292873047545, 3.056207075139075, 3.0557768476213902, 3.0555404649542846, 3.055697060010343, 2.174183906244572, 2.1739933027449947, 2.1743901554943363, 2.17393755066029, 2.1742282268079247, 2.1737088862081326, 2.1741416031232994, 2.1741965483153587, 2.173644621449159, 6.562545695945802, 5.509685561408428, 9.185066909686164, 5.679876544503604, 5.678497446311155, 5.679724140474066, 9.876612978700958, 4.629032428760765, 7.422777971725856, 15.103880719989396, 55.10904046988634, 12.476822607735, 11.9486258696536, 6.36892179396888, 21.641659381787125, 6.539508317322546, 6.5402382075814955, 8.972117199965828, 10.002327332065892, 10.861219926592284, 11.736321708507402, 7.232338181972816, 26.338891423883616, 11.024158496266699, 10.842069346781082, 7.230974683805164, 10.503090992572973, 8.15085172538461, 4.712815122407211, 2.9916695617321576, 2.9908826036612566, 2.9913611376385782, 2.992210371809098, 2.99143429656503, 2.991622411456077, 2.99200692288902, 2.992264108848061, 2.99243230957417, 2.991809204797737, 2.9922215594728265, 2.9921485549699574, 2.9926749259198524, 2.9918366282637434, 2.9917345987351807, 2.1309418519535117, 2.130293492705914, 2.130937346350386, 2.1302826823609373, 2.1312909138771934, 2.1313311906241967, 2.131150052221938, 2.131102549790466, 2.1314129932508816, 2.1318066552740476, 2.1314672167589093, 2.131606280907987, 2.1316642289978858, 7.124165746038296, 7.314640463186499, 6.453682833650335, 26.338891423883616, 4.733642302236582, 4.733627320412007, 6.2845429583773225, 14.803156880237081, 6.476135931838061, 10.842069346781082, 9.028960649136557, 21.641659381787125, 55.10904046988634, 7.356350683195669, 10.861219926592284, 5.615898882959559, 10.002327332065892, 10.503090992572973, 6.496585113442427, 15.103880719989396, 8.070265679374717, 11.024158496266699, 12.476822607735, 6.518931603625543, 11.736321708507402, 8.972117199965828, 5.637191571053028, 5.445523905339203, 4.555409425918273, 1.792222844016287, 1.792385695985794, 1.7926900364767715, 1.7927480724808629, 1.792507492507763, 1.7923239658948087, 5.4169778171749865, 4.725910179589646, 1.1017202827912982, 1.1017478710780235, 1.1015350485508684, 1.1016704100680421, 1.1014416446008621, 1.1015864518933387, 1.101536706507251, 1.101473311916624, 1.1015952983876531, 1.1016561329681471, 1.1014582771570565, 1.1016365245582505, 1.1018122735201072, 1.1015613936075985, 1.1014744669917005, 1.101825685643992, 1.1016321298454799, 1.1017609396274197, 1.1014647439354446, 1.1015459111480375, 1.101635196826512, 4.034462425747233, 1.101743427017923, 1.1016655706936167, 9.028960649136557, 2.65228852656406, 2.652938196328013, 55.10904046988634, 5.0867923362006, 11.736321708507402, 5.989129927401277, 11.024158496266699, 11.9486258696536, 3.51272695731736, 3.534763682497177, 26.338891423883616, 4.374322673227725, 4.3956603641232155, 4.437612008571215, 5.297599120061682, 6.136190900145267, 21.641659381787125, 10.503090992572973, 14.803156880237081, 1.1015809784610746, 1.1014647439354446, 1.1015459111480375, 1.101473311916624, 1.1016206778729398, 1.1015864518933387, 1.1014555735805793, 1.1014858757722927, 1.1014416446008621, 1.1016078421541378, 1.1015952983876531, 1.1016069542637184, 1.1015199466847154, 1.1016836202574034, 1.1014582771570565, 1.1016561329681471, 1.1015847796002827, 1.1016411542107696, 1.1017336434441327, 1.1015350485508684, 1.1015144087784041, 1.1014744669917005, 1.1015613936075985, 1.101670037079297, 1.101635196826512, 1.101536706507251, 1.101743427017923, 1.1016704100680421, 1.1016321298454799, 1.1016655706936167, 1.1017170045914235, 55.10904046988634, 26.338891423883616, 1.2706546531735905, 1.2706054400077327, 21.641659381787125, 14.803156880237081, 8.15085172538461, 11.9486258696536, 11.736321708507402, 12.562162152682024, 1.2704876189880312, 1.2705220498054577, 1.270798699643841, 10.861219926592284, 12.476822607735, 15.103880719989396, 11.024158496266699, 10.002327332065892, 10.503090992572973, 10.109072480233896, 8.972117199965828, 6.453682833650335, 9.028960649136557, 9.185066909686164, 10.842069346781082, 9.876612978700958, 6.539508317322546, 6.136190900145267, 7.230974683805164, 6.476135931838061, 8.070265679374717, 2.9908826036612566, 6.348507745257685, 5.657171145540805, 6.36892179396888, 7.356350683195669, 7.314640463186499, 1.1014582771570565, 1.1014744669917005, 1.1015144087784041, 1.1014416446008621, 1.1014555735805793, 1.101536706507251, 1.1014858757722927, 1.1015199466847154, 1.1016113645446917, 1.101473311916624, 1.1015350485508684, 1.1015613936075985, 1.1014647439354446, 1.1015847796002827, 1.1016365245582505, 1.1016321298454799, 1.1017016620685396, 1.101671286788551, 1.1016655706936167, 1.1017478710780235, 1.1017282063028457, 1.101635196826512, 1.1015459111480375, 1.1016069542637184, 1.1016078421541378, 1.1016411542107696, 1.101670037079297, 1.1017609396274197, 1.1017729723007563, 1.1015952983876531, 1.1017170045914235, 55.10904046988634, 21.641659381787125, 26.338891423883616, 14.803156880237081, 12.476822607735, 11.024158496266699, 10.861219926592284, 11.736321708507402, 12.562162152682024, 10.503090992572973, 11.9486258696536, 15.103880719989396, 9.227470842525298, 4.555409425918273, 10.002327332065892, 8.15085172538461, 5.4169778171749865, 7.356350683195669, 9.876612978700958, 5.297599120061682, 6.36892179396888, 4.034462425747233, 9.028960649136557, 10.842069346781082, 10.109072480233896, 5.699980530099536, 6.136190900145267, 5.445293226218606, 6.582261091673532, 8.972117199965828, 8.070265679374717, 9.185066909686164, 1.1014416446008621, 1.1014555735805793, 1.1014582771570565, 1.1014647439354446, 1.101473311916624, 1.1014744669917005, 1.1014858757722927, 1.1015144087784041, 1.1015199466847154, 1.1015350485508684, 1.101536706507251, 1.1015459111480375, 1.1015613936075985, 1.1015809784610746, 1.1015847796002827, 1.1015864518933387, 1.1015952983876531, 1.1016069542637184, 1.1016078421541378, 1.1016113645446917, 1.1016206778729398, 1.1016321298454799, 1.101635196826512, 1.1016365245582505, 1.1016411542107696, 1.1016561329681471, 1.1016655706936167, 1.101670037079297, 1.1016704100680421, 1.101671286788551, 1.2710455529666749, 55.10904046988634, 1.271130299882403, 1.2709845560064272, 1.2711011885940073, 1.2710672793872972, 1.2710259882831754, 1.2709638846688298, 1.2711789007558292, 1.271189100227243, 1.2711542804507556, 1.2708995096632647, 1.2711877759126273, 1.2711920120659455, 1.2711171967699717, 1.2708996003865247, 1.2711051438576455, 1.2711709023125446, 1.2710897959435463, 1.2710580643931628, 1.2711540033502706, 1.2712227042434745, 1.2712299497956425, 1.2710336767287533, 1.2923048641663275, 1.2711037404602599, 1.271005819197932, 1.2711848310268825, 1.2712013996907932, 1.2922581524826102, 21.641659381787125, 15.103880719989396, 12.476822607735, 10.842069346781082, 7.314640463186499, 12.562162152682024, 8.972117199965828, 7.124165746038296, 10.109072480233896, 6.2845429583773225, 9.876612978700958, 9.227470842525298, 26.338891423883616, 6.562545695945802, 10.861219926592284, 6.496585113442427, 7.356350683195669, 6.5402382075814955, 14.803156880237081, 5.65809807182829, 11.736321708507402, 11.024158496266699, 5.678497446311155, 5.637019875219126, 7.232338181972816, 6.539508317322546, 7.422777971725856, 9.185066909686164, 5.445523905339203], \"Category\": [\"Default\", \"Default\", \"Default\", \"Default\", \"Default\", \"Default\", \"Default\", \"Default\", \"Default\", \"Default\", \"Default\", \"Default\", \"Default\", \"Default\", \"Default\", \"Default\", \"Default\", \"Default\", \"Default\", \"Default\", \"Default\", \"Default\", \"Default\", \"Default\", \"Default\", \"Default\", \"Default\", \"Default\", \"Default\", \"Default\", \"Topic1\", \"Topic1\", \"Topic1\", \"Topic1\", \"Topic1\", \"Topic1\", \"Topic1\", \"Topic1\", \"Topic1\", \"Topic1\", \"Topic1\", \"Topic1\", \"Topic1\", \"Topic1\", \"Topic1\", \"Topic1\", \"Topic1\", \"Topic1\", \"Topic1\", \"Topic1\", \"Topic1\", \"Topic1\", \"Topic1\", \"Topic1\", \"Topic1\", \"Topic1\", \"Topic1\", \"Topic1\", \"Topic1\", \"Topic1\", \"Topic1\", \"Topic1\", \"Topic1\", \"Topic1\", \"Topic1\", \"Topic1\", \"Topic1\", \"Topic1\", \"Topic1\", \"Topic1\", \"Topic1\", \"Topic1\", \"Topic1\", \"Topic1\", \"Topic1\", \"Topic1\", \"Topic1\", \"Topic1\", \"Topic1\", \"Topic1\", \"Topic1\", \"Topic1\", \"Topic1\", \"Topic1\", \"Topic1\", \"Topic1\", \"Topic1\", \"Topic2\", \"Topic2\", \"Topic2\", \"Topic2\", \"Topic2\", \"Topic2\", \"Topic2\", \"Topic2\", \"Topic2\", \"Topic2\", \"Topic2\", \"Topic2\", \"Topic2\", \"Topic2\", \"Topic2\", \"Topic2\", \"Topic2\", \"Topic2\", \"Topic2\", \"Topic2\", \"Topic2\", \"Topic2\", \"Topic2\", \"Topic2\", \"Topic2\", \"Topic2\", \"Topic2\", \"Topic2\", \"Topic2\", \"Topic2\", \"Topic2\", \"Topic2\", \"Topic2\", \"Topic2\", \"Topic2\", \"Topic2\", \"Topic2\", \"Topic2\", \"Topic2\", \"Topic2\", \"Topic2\", \"Topic2\", \"Topic2\", \"Topic2\", \"Topic2\", \"Topic2\", \"Topic2\", \"Topic2\", \"Topic2\", \"Topic2\", \"Topic2\", \"Topic2\", \"Topic2\", \"Topic2\", \"Topic2\", \"Topic2\", \"Topic2\", \"Topic2\", \"Topic3\", \"Topic3\", \"Topic3\", \"Topic3\", \"Topic3\", \"Topic3\", \"Topic3\", \"Topic3\", \"Topic3\", \"Topic3\", \"Topic3\", \"Topic3\", \"Topic3\", \"Topic3\", \"Topic3\", \"Topic3\", \"Topic3\", \"Topic3\", \"Topic3\", \"Topic3\", \"Topic3\", \"Topic3\", \"Topic3\", \"Topic3\", \"Topic3\", \"Topic3\", \"Topic3\", \"Topic3\", \"Topic3\", \"Topic3\", \"Topic3\", \"Topic3\", \"Topic3\", \"Topic3\", \"Topic3\", \"Topic3\", \"Topic3\", \"Topic3\", \"Topic3\", \"Topic3\", \"Topic3\", \"Topic3\", \"Topic3\", \"Topic3\", \"Topic3\", \"Topic3\", \"Topic3\", \"Topic3\", \"Topic3\", \"Topic3\", \"Topic3\", \"Topic3\", \"Topic3\", \"Topic4\", \"Topic4\", \"Topic4\", \"Topic4\", \"Topic4\", \"Topic4\", \"Topic4\", \"Topic4\", \"Topic4\", \"Topic4\", \"Topic4\", \"Topic4\", \"Topic4\", \"Topic4\", \"Topic4\", \"Topic4\", \"Topic4\", \"Topic4\", \"Topic4\", \"Topic4\", \"Topic4\", \"Topic4\", \"Topic4\", \"Topic4\", \"Topic4\", \"Topic4\", \"Topic4\", \"Topic4\", \"Topic4\", \"Topic4\", \"Topic4\", \"Topic4\", \"Topic4\", \"Topic4\", \"Topic4\", \"Topic4\", \"Topic4\", \"Topic4\", \"Topic4\", \"Topic4\", \"Topic4\", \"Topic4\", \"Topic4\", \"Topic4\", \"Topic4\", \"Topic4\", \"Topic4\", \"Topic4\", \"Topic4\", \"Topic4\", \"Topic4\", \"Topic4\", \"Topic4\", \"Topic4\", \"Topic4\", \"Topic4\", \"Topic4\", \"Topic4\", \"Topic4\", \"Topic4\", \"Topic4\", \"Topic4\", \"Topic4\", \"Topic4\", \"Topic4\", \"Topic4\", \"Topic4\", \"Topic4\", \"Topic5\", \"Topic5\", \"Topic5\", \"Topic5\", \"Topic5\", \"Topic5\", \"Topic5\", \"Topic5\", \"Topic5\", \"Topic5\", \"Topic5\", \"Topic5\", \"Topic5\", \"Topic5\", \"Topic5\", \"Topic5\", \"Topic5\", \"Topic5\", \"Topic5\", \"Topic5\", \"Topic5\", \"Topic5\", \"Topic5\", \"Topic5\", \"Topic5\", \"Topic5\", \"Topic5\", \"Topic5\", \"Topic5\", \"Topic5\", \"Topic5\", \"Topic5\", \"Topic5\", \"Topic5\", \"Topic5\", \"Topic5\", \"Topic5\", \"Topic5\", \"Topic5\", \"Topic5\", \"Topic5\", \"Topic5\", \"Topic5\", \"Topic5\", \"Topic5\", \"Topic5\", \"Topic5\", \"Topic5\", \"Topic5\", \"Topic5\", \"Topic5\", \"Topic5\", \"Topic5\", \"Topic5\", \"Topic5\", \"Topic5\", \"Topic5\", \"Topic5\", \"Topic5\", \"Topic5\", \"Topic5\", \"Topic5\", \"Topic5\", \"Topic6\", \"Topic6\", \"Topic6\", \"Topic6\", \"Topic6\", \"Topic6\", \"Topic6\", \"Topic6\", \"Topic6\", \"Topic6\", \"Topic6\", \"Topic6\", \"Topic6\", \"Topic6\", \"Topic6\", \"Topic6\", \"Topic6\", \"Topic6\", \"Topic6\", \"Topic6\", \"Topic6\", \"Topic6\", \"Topic6\", \"Topic6\", \"Topic6\", \"Topic6\", \"Topic6\", \"Topic6\", \"Topic6\", \"Topic6\", \"Topic6\", \"Topic6\", \"Topic6\", \"Topic6\", \"Topic6\", \"Topic6\", \"Topic6\", \"Topic6\", \"Topic6\", \"Topic6\", \"Topic6\", \"Topic6\", \"Topic6\", \"Topic6\", \"Topic6\", \"Topic6\", \"Topic6\", \"Topic6\", \"Topic6\", \"Topic6\", \"Topic6\", \"Topic6\", \"Topic6\", \"Topic6\", \"Topic6\", \"Topic6\", \"Topic6\", \"Topic6\", \"Topic6\", \"Topic6\", \"Topic6\", \"Topic6\", \"Topic6\", \"Topic6\", \"Topic6\", \"Topic6\", \"Topic6\", \"Topic6\", \"Topic6\", \"Topic6\", \"Topic6\", \"Topic6\", \"Topic6\", \"Topic6\", \"Topic6\", \"Topic6\", \"Topic6\", \"Topic6\", \"Topic6\", \"Topic6\", \"Topic6\", \"Topic6\", \"Topic6\", \"Topic6\", \"Topic6\", \"Topic6\", \"Topic6\", \"Topic6\", \"Topic6\"], \"logprob\": [30.0, 29.0, 28.0, 27.0, 26.0, 25.0, 24.0, 23.0, 22.0, 21.0, 20.0, 19.0, 18.0, 17.0, 16.0, 15.0, 14.0, 13.0, 12.0, 11.0, 10.0, 9.0, 8.0, 7.0, 6.0, 5.0, 4.0, 3.0, 2.0, 1.0, -4.200699806213379, -4.2972002029418945, -4.645100116729736, -4.794099807739258, -4.795599937438965, -4.971199989318848, -4.971799850463867, -4.971700191497803, -5.1869001388549805, -5.1875, -5.1875, -4.0366997718811035, -5.460400104522705, -5.460599899291992, -5.461299896240234, -5.462200164794922, -5.462100028991699, -5.462200164794922, -5.462800025939941, -5.463200092315674, -5.463399887084961, -5.839799880981445, -5.840000152587891, -5.839799880981445, -5.840099811553955, -5.839900016784668, -5.840199947357178, -5.840000152587891, -5.840099811553955, -5.840400218963623, -4.795199871063232, -4.971399784088135, -4.513500213623047, -4.973100185394287, -4.973499774932861, -4.973599910736084, -4.513400077819824, -5.186100006103516, -4.795199871063232, -4.201200008392334, -3.2411999702453613, -4.398799896240234, -4.512599945068359, -4.971099853515625, -4.200900077819824, -4.970799922943115, -4.97189998626709, -4.794099807739258, -4.794600009918213, -4.796599864959717, -4.793799877166748, -4.970699787139893, -4.968800067901611, -4.970600128173828, -4.970699787139893, -4.97130012512207, -4.971499919891357, -4.257800102233887, -4.831999778747559, -5.320199966430664, -5.320499897003174, -5.320400238037109, -5.3206000328063965, -5.320899963378906, -5.320899963378906, -5.320899963378906, -5.320899963378906, -5.320899963378906, -5.321100234985352, -5.321000099182129, -5.321100234985352, -5.321000099182129, -5.321300029754639, -5.321300029754639, -5.699900150299072, -5.700200080871582, -5.699900150299072, -5.700300216674805, -5.700099945068359, -5.700200080871582, -5.700300216674805, -5.700300216674805, -5.700200080871582, -5.700200080871582, -5.700399875640869, -5.700399875640869, -5.700399875640869, -4.50439977645874, -4.50439977645874, -4.65339994430542, -3.4207000732421875, -5.044099807739258, -5.046500205993652, -4.831099987030029, -4.151400089263916, -4.830599784851074, -4.5030999183654785, -4.654099941253662, -4.058199882507324, -3.416300058364868, -4.829500198364258, -4.650100231170654, -5.045499801635742, -4.828999996185303, -4.828499794006348, -5.045899868011475, -4.826000213623047, -5.045100212097168, -5.043799877166748, -5.040900230407715, -5.3140997886657715, -5.316800117492676, -5.317999839782715, -5.318999767303467, -5.319200038909912, -3.8394999504089355, -4.885300159454346, -4.885300159454346, -4.885200023651123, -4.885200023651123, -4.885499954223633, -4.885700225830078, -3.839600086212158, -4.016499996185303, -5.503900051116943, -5.504000186920166, -5.504199981689453, -5.5040998458862305, -5.504300117492676, -5.504199981689453, -5.504300117492676, -5.50439977645874, -5.504300117492676, -5.504199981689453, -5.50439977645874, -5.504199981689453, -5.5040998458862305, -5.504300117492676, -5.50439977645874, -5.5040998458862305, -5.504300117492676, -5.504199981689453, -5.504499912261963, -5.50439977645874, -5.504300117492676, -4.231800079345703, -5.504199981689453, -5.504300117492676, -4.015699863433838, -4.885200023651123, -4.8850998878479, -2.874500036239624, -4.50600004196167, -4.015699863433838, -4.505099773406982, -4.2307000160217285, -4.230299949645996, -4.884900093078613, -4.884699821472168, -4.014400005340576, -4.884500026702881, -4.8850998878479, -4.8850998878479, -4.884399890899658, -4.884500026702881, -4.5040998458862305, -4.883500099182129, -4.883399963378906, -6.273600101470947, -6.27370023727417, -6.273900032043457, -6.274099826812744, -6.27400016784668, -6.27400016784668, -6.274199962615967, -6.2743000984191895, -6.274400234222412, -6.274199962615967, -6.2743000984191895, -6.2743000984191895, -6.274400234222412, -6.274199962615967, -6.274600028991699, -6.274499893188477, -6.274600028991699, -6.274600028991699, -6.274499893188477, -6.274700164794922, -6.274700164794922, -6.274799823760986, -6.274700164794922, -6.274700164794922, -6.274700164794922, -6.275000095367432, -6.274899959564209, -6.275000095367432, -6.275000095367432, -6.275000095367432, -6.275000095367432, -6.0991997718811035, -6.149499893188477, -6.270299911499023, -6.270699977874756, -6.192800045013428, -6.206399917602539, -6.218599796295166, -6.223800182342529, -6.225200176239014, -6.224299907684326, -6.270999908447266, -6.271100044250488, -6.271500110626221, -6.230999946594238, -6.229800224304199, -6.2281999588012695, -6.234600067138672, -6.236400127410889, -6.236499786376953, -6.238399982452393, -6.239799976348877, -6.244200229644775, -6.242099761962891, -6.242099761962891, -6.240499973297119, -6.2434000968933105, -6.247600078582764, -6.248600006103516, -6.247600078582764, -6.248799800872803, -6.247000217437744, -6.257400035858154, -6.249899864196777, -6.2515997886657715, -6.2505998611450195, -6.2494001388549805, -6.24970006942749, -6.272200107574463, -6.272200107574463, -6.272299766540527, -6.27239990234375, -6.272500038146973, -6.272600173950195, -6.272600173950195, -6.27269983291626, -6.27269983291626, -6.272900104522705, -6.272900104522705, -6.272900104522705, -6.273099899291992, -6.2729997634887695, -6.2729997634887695, -6.273200035095215, -6.273200035095215, -6.273200035095215, -6.2733001708984375, -6.2733001708984375, -6.2733001708984375, -6.273399829864502, -6.273499965667725, -6.273499965667725, -6.273499965667725, -6.273499965667725, -6.273499965667725, -6.273499965667725, -6.273499965667725, -6.27370023727417, -6.273600101470947, -6.083799839019775, -6.167500019073486, -6.168000221252441, -6.219299793243408, -6.2266998291015625, -6.229000091552734, -6.230299949645996, -6.230500221252441, -6.230000019073486, -6.2322998046875, -6.23199987411499, -6.231599807739258, -6.237800121307373, -6.247300148010254, -6.241099834442139, -6.243299961090088, -6.249599933624268, -6.247099876403809, -6.2444000244140625, -6.250699996948242, -6.2494001388549805, -6.254300117492676, -6.246500015258789, -6.244999885559082, -6.246099948883057, -6.252399921417236, -6.2519001960754395, -6.253399848937988, -6.2515997886657715, -6.249199867248535, -6.250800132751465, -6.2515997886657715, -6.272200107574463, -6.272200107574463, -6.272200107574463, -6.272200107574463, -6.272200107574463, -6.272200107574463, -6.272200107574463, -6.272200107574463, -6.272200107574463, -6.272200107574463, -6.272200107574463, -6.272200107574463, -6.272200107574463, -6.272200107574463, -6.272200107574463, -6.272200107574463, -6.272200107574463, -6.272200107574463, -6.272200107574463, -6.272200107574463, -6.272200107574463, -6.272200107574463, -6.272200107574463, -6.272200107574463, -6.272200107574463, -6.272200107574463, -6.272200107574463, -6.272200107574463, -6.272200107574463, -6.272200107574463, -6.269400119781494, -6.207300186157227, -6.269499778747559, -6.269499778747559, -6.269499778747559, -6.269499778747559, -6.269700050354004, -6.269700050354004, -6.269700050354004, -6.269800186157227, -6.269800186157227, -6.269800186157227, -6.269899845123291, -6.269899845123291, -6.269899845123291, -6.269899845123291, -6.269899845123291, -6.269999980926514, -6.269999980926514, -6.269999980926514, -6.269999980926514, -6.269999980926514, -6.269999980926514, -6.270100116729736, -6.269899845123291, -6.270100116729736, -6.270100116729736, -6.270100116729736, -6.270100116729736, -6.269999980926514, -6.243899822235107, -6.252299785614014, -6.252399921417236, -6.252999782562256, -6.255000114440918, -6.255899906158447, -6.255899906158447, -6.256400108337402, -6.256999969482422, -6.2571001052856445, -6.257500171661377, -6.257999897003174, -6.258399963378906, -6.258500099182129, -6.259699821472168, -6.259799957275391, -6.260300159454346, -6.260499954223633, -6.260799884796143, -6.261099815368652, -6.261300086975098, -6.261300086975098, -6.261300086975098, -6.26140022277832, -6.261499881744385, -6.26170015335083, -6.261899948120117, -6.262400150299072, -6.262700080871582], \"loglift\": [30.0, 29.0, 28.0, 27.0, 26.0, 25.0, 24.0, 23.0, 22.0, 21.0, 20.0, 19.0, 18.0, 17.0, 16.0, 15.0, 14.0, 13.0, 12.0, 11.0, 10.0, 9.0, 8.0, 7.0, 6.0, 5.0, 4.0, 3.0, 2.0, 1.0, 0.7393, 0.7341, 0.724, 0.7187, 0.7174, 0.7096, 0.709, 0.709, 0.696, 0.6954, 0.6952, 0.686, 0.6759, 0.6757, 0.675, 0.6743, 0.6742, 0.6741, 0.6737, 0.6733, 0.6731, 0.637, 0.6369, 0.6369, 0.6369, 0.6369, 0.6369, 0.6368, 0.6367, 0.6367, 0.5769, 0.5756, 0.5224, 0.5434, 0.5433, 0.543, 0.4499, 0.535, 0.4537, 0.3373, 0.003, 0.3308, 0.2602, 0.4309, -0.0221, 0.4048, 0.4036, 0.2652, 0.1561, 0.0717, -0.003, 0.3042, -0.9864, -0.1172, -0.1007, 0.3038, -0.0697, 0.8976, 0.8712, 0.8375, 0.8374, 0.8373, 0.8368, 0.8368, 0.8367, 0.8366, 0.8365, 0.8365, 0.8365, 0.8364, 0.8364, 0.8363, 0.8363, 0.8363, 0.797, 0.797, 0.797, 0.7969, 0.7966, 0.7966, 0.7965, 0.7965, 0.7965, 0.7963, 0.7962, 0.7962, 0.7962, 0.7856, 0.7592, 0.7354, 0.5617, 0.6547, 0.6523, 0.5842, 0.4072, 0.5547, 0.367, 0.3989, 0.1207, -0.1722, 0.4284, 0.2182, 0.4824, 0.1217, 0.0733, 0.3363, -0.2875, 0.1202, -0.1904, -0.3113, 0.0647, -0.526, -0.2587, 0.2051, 0.2394, 1.8977, 1.7847, 1.7846, 1.7846, 1.7845, 1.7844, 1.7843, 1.7244, 1.6839, 1.6527, 1.6525, 1.6525, 1.6525, 1.6525, 1.6525, 1.6525, 1.6525, 1.6525, 1.6524, 1.6524, 1.6524, 1.6524, 1.6524, 1.6524, 1.6524, 1.6524, 1.6524, 1.6524, 1.6524, 1.6524, 1.6268, 1.6524, 1.6524, 1.0373, 1.3928, 1.3927, 0.3697, 1.1209, 0.7751, 0.9585, 0.6227, 0.5426, 1.1122, 1.1061, -0.0319, 0.8932, 0.8878, 0.8783, 0.7018, 0.5548, -0.3252, 0.0183, -0.3248, 0.8831, 0.8831, 0.8829, 0.8827, 0.8827, 0.8827, 0.8827, 0.8826, 0.8825, 0.8825, 0.8824, 0.8824, 0.8824, 0.8824, 0.8822, 0.8821, 0.8821, 0.8821, 0.8821, 0.8821, 0.8821, 0.8821, 0.882, 0.882, 0.8819, 0.8818, 0.8817, 0.8817, 0.8817, 0.8816, 0.8816, -2.8551, -2.1671, 0.7436, 0.7433, -2.014, -1.6477, -1.0633, -1.451, -1.4344, -1.5015, 0.7431, 0.743, 0.7423, -1.3627, -1.5002, -1.6896, -1.3812, -1.2857, -1.3347, -1.2983, -1.1805, -0.8554, -1.1891, -1.2062, -1.3704, -1.2801, -0.872, -0.8094, -0.9725, -0.8635, -1.0818, -0.0995, -0.8446, -0.7311, -0.8486, -0.9915, -0.9861, 0.8847, 0.8846, 0.8845, 0.8844, 0.8844, 0.8842, 0.8842, 0.884, 0.884, 0.8839, 0.8839, 0.8838, 0.8837, 0.8837, 0.8837, 0.8835, 0.8834, 0.8834, 0.8833, 0.8833, 0.8833, 0.8832, 0.8832, 0.8832, 0.8832, 0.8832, 0.8831, 0.8831, 0.883, 0.883, 0.883, -2.8396, -1.9887, -2.1856, -1.6607, -1.4971, -1.3756, -1.362, -1.4398, -1.5072, -1.3305, -1.4591, -1.693, -1.2065, -0.5101, -1.2905, -1.088, -0.6857, -0.9892, -1.2811, -0.6645, -0.8474, -0.3957, -1.1935, -1.3749, -1.3061, -0.7394, -0.8127, -0.6947, -0.8825, -1.1899, -1.0855, -1.2157, 0.8846, 0.8846, 0.8846, 0.8846, 0.8846, 0.8846, 0.8846, 0.8845, 0.8845, 0.8845, 0.8845, 0.8845, 0.8845, 0.8845, 0.8845, 0.8845, 0.8845, 0.8845, 0.8845, 0.8845, 0.8844, 0.8844, 0.8844, 0.8844, 0.8844, 0.8844, 0.8844, 0.8844, 0.8844, 0.8844, 0.7443, -2.9632, 0.7441, 0.7442, 0.7441, 0.7441, 0.744, 0.744, 0.7438, 0.7437, 0.7437, 0.7439, 0.7436, 0.7436, 0.7437, 0.7438, 0.7437, 0.7436, 0.7436, 0.7436, 0.7435, 0.7435, 0.7434, 0.7436, 0.7271, 0.7435, 0.7436, 0.7434, 0.7434, 0.7271, -2.0651, -1.7137, -1.5228, -1.383, -0.9914, -1.5331, -1.1966, -0.9665, -1.3169, -0.8417, -1.2942, -1.2267, -2.276, -0.8864, -1.3914, -0.8776, -1.0024, -0.885, -1.7022, -0.7408, -1.4705, -1.4079, -0.7445, -0.7373, -0.9866, -0.8861, -1.0129, -1.2265, -0.7041]}, \"token.table\": {\"Topic\": [1, 1, 2, 3, 1, 3, 2, 2, 3, 2, 3, 1, 2, 2, 3, 3, 1, 2, 1, 1, 2, 2, 1, 2, 3, 1, 1, 2, 3, 3, 2, 2, 3, 3, 3, 2, 1, 2, 3, 1, 2, 3, 1, 1, 1, 2, 2, 1, 2, 3, 2, 2, 1, 2, 3, 2, 2, 2, 3, 1, 2, 3, 2, 3, 2, 1, 2, 2, 3, 1, 2, 3, 1, 2, 2, 2, 1, 3, 2, 2, 1, 3, 2, 3, 2, 2, 2, 2, 1, 3, 1, 1, 2, 3, 1, 3, 2, 1, 2, 3, 1, 2, 3, 1, 3, 1, 2, 3, 1, 2, 2, 1, 2, 3, 2, 3, 3, 3, 1, 2, 3, 1, 1, 2, 3, 3, 2, 1, 2, 3, 1, 2, 3, 2, 3, 2, 1, 2, 1, 2, 2, 1, 2, 3, 3, 3, 1, 3, 2, 2, 1, 3, 3, 2, 1, 3, 3, 2, 3, 2, 3, 3, 1, 2, 3, 3, 1, 2, 1, 2, 3, 1, 2, 1, 1, 1, 2, 3, 1, 2, 3, 2, 2, 1, 2, 3, 2, 1, 2, 3, 3, 1, 2, 1, 2, 2, 3, 2, 2, 2, 3, 3, 3, 3, 1, 2, 2, 2, 2, 1, 2, 1, 1, 2, 3, 1, 2, 3, 2, 1, 2, 3, 3, 1, 2, 2, 2, 2, 3, 1, 1, 2, 1, 2, 2, 1, 2, 3, 1, 2, 1, 2, 3, 2, 2, 1, 1, 2, 3, 2, 3, 3, 1, 3, 2, 1, 1, 3, 1, 2, 2, 1, 2, 3, 3, 3, 2, 1, 2, 1, 2, 3, 1, 2, 1, 1, 1, 2, 3, 2, 3, 2, 3, 3, 1, 2, 2, 3, 1, 2, 1, 2, 3, 3], \"Freq\": [0.9816700409997616, 0.3088261304349056, 0.6176522608698112, 0.9077830581163773, 0.955249570428288, 0.07960413086902399, 1.0025289428942528, 0.3769405564683417, 0.3769405564683417, 0.3770328868765505, 0.3770328868765505, 0.5321798917398863, 0.5321798917398863, 0.7867404158826573, 0.907628000632262, 0.9078240418364868, 0.9198800363976605, 0.7867461196412193, 0.9115408696853299, 0.46116657623892227, 0.5533998914867067, 0.7867264792710315, 0.13671211934924918, 0.8202727160954951, 0.9076604004520522, 1.0158810392018085, 0.1591205608145292, 0.6364822432581168, 0.1591205608145292, 0.8780769467705277, 0.787026380112078, 0.21159945111077644, 0.8463978044431058, 0.9076523403517724, 0.9076741085346633, 0.9814925199884565, 0.9818338811702142, 0.9383446597787474, 0.9077743899811911, 0.7087449933591191, 0.20249856953117687, 0.10124928476558843, 0.9753485167921652, 0.9817470808888396, 0.6135974793439122, 0.4601981095079341, 0.7866865693481334, 0.47179191977053897, 0.32662517522575774, 0.19960427374907416, 0.786671332733269, 0.7867169799699848, 0.3259351008705828, 0.48890265130587424, 0.1629675504352914, 0.786844272420058, 0.7867178485667152, 1.002599553666923, 0.5579156329129318, 0.4998836604727766, 0.3999069283782213, 0.9077366038639082, 1.0027627454882908, 0.9077124980948135, 0.9382340674451425, 0.7618994566527576, 0.15237989133055152, 0.7866442258007942, 0.5578209169753242, 0.3672741199499737, 0.5509111799249606, 0.18363705997498686, 0.7621065876632984, 0.21774473933237098, 0.7867538639083053, 0.7866867408389436, 1.015842222126725, 0.9077164854760712, 0.7867194279836381, 0.7869958981399056, 0.9199660355322613, 0.9078645691202012, 0.6858204627566626, 0.22860682091888754, 0.7867784591506038, 0.7866676627915586, 0.7870780362710903, 0.7868044183337013, 1.037514435626192, 0.9076867489901159, 0.9199032837267207, 0.4620717766409195, 0.4620717766409195, 0.0924143553281839, 0.9074928041305249, 0.181498560826105, 0.7867014106205428, 0.8803244446978842, 0.17606488893957684, 0.9078895454214548, 0.19658754159933228, 0.39317508319866457, 0.39317508319866457, 0.9817727153848967, 0.9077861905322795, 1.0157103697728378, 0.5537735952452236, 0.4430188761961789, 0.4617810661469734, 0.6157080881959646, 0.9383806743870088, 0.6914697144768379, 0.2765878857907352, 0.1382939428953676, 0.18460478033146369, 0.7384191213258547, 0.9077534763879399, 0.9077611507877927, 0.21125448462912827, 0.8450179385165131, 0.5578028588345755, 1.0373772017217386, 0.1549502858717926, 0.774751429358963, 0.9077640533536427, 0.9077016137957598, 0.7866397422124579, 0.2829043437759714, 0.2829043437759714, 0.2829043437759714, 0.33776579147622476, 0.6079784246572046, 0.06755315829524496, 0.7867659742746402, 0.9078739725407861, 0.7867095202087534, 0.773811217251051, 0.7866632188592789, 0.3561317683387502, 0.7122635366775004, 0.9385541078555689, 0.4956466315877124, 0.4956466315877124, 0.1239116578969281, 0.9077415126901418, 0.9078226754429244, 0.9816088786665356, 0.9077647850075262, 1.0026714768103753, 1.002887936950415, 0.6760392738719657, 0.2253464246239886, 0.5579663284276899, 1.0025852969091413, 0.9199896286774845, 0.9078410523099874, 0.907711775728557, 1.0028634101858116, 0.9075845780592079, 0.9383984077338593, 0.9076714077246708, 0.9079010267151989, 0.18983335021708975, 0.683400060781523, 0.1518666801736718, 0.9076379131194903, 0.6736022576783958, 0.2694409030713583, 0.5858414244752761, 0.16738326413579316, 0.2510748962036898, 0.4078109009747169, 0.5437478679662893, 1.037392171923314, 0.7738391884615771, 0.5662942650075549, 0.1887647550025183, 0.1887647550025183, 0.6411888869078257, 0.32059444345391286, 0.08014861086347821, 0.7869066912645283, 1.0024476678093917, 0.4260278581470385, 0.2556167148882231, 0.3408222865176308, 1.002737739822823, 0.7850622384364657, 0.15701244768729314, 0.15701244768729314, 0.9078023302223889, 0.7070671713994282, 0.3535335856997141, 0.7069513375733143, 0.35347566878665715, 0.9388425379224562, 0.9077440398731514, 0.9384604326264117, 0.9383207887387462, 0.938481350977992, 0.9078364881269162, 0.9075956258911203, 0.907740418647606, 0.9078873169677134, 0.98167096629508, 1.0026240157819042, 0.7866574094736206, 1.002800349573476, 0.7866658403649824, 0.21125381601552645, 0.8450152640621058, 0.9200864074714464, 0.7644981484319578, 0.3057992593727831, 0.9078150895751538, 0.6300693266048211, 0.31503466330241053, 0.15751733165120527, 0.7868442162511227, 0.4760503363758001, 0.38084026910064006, 0.09521006727516002, 0.5579348482910873, 0.877195978757613, 1.003048396592893, 1.002603302316004, 1.0027285486310107, 0.5693582291768511, 0.28467911458842554, 0.9198853851579479, 0.8805146162825311, 0.17610292325650623, 0.9816258770827625, 0.7866650208228153, 0.7870993664594071, 0.5009074834517273, 0.16696916115057578, 0.33393832230115156, 0.5321961012038089, 0.5321961012038089, 0.22749710331623083, 0.45499420663246165, 0.22749710331623083, 0.9381713839067157, 0.9382595735025102, 0.9197981304994045, 0.691339353082645, 0.276535741233058, 0.138267870616529, 0.7866762826153242, 0.9078819866962612, 0.9077242617492092, 0.9818230307890504, 0.9076486792041935, 0.9385521234033334, 0.9892104364226131, 0.8641114663936016, 0.2160278665984004, 0.9815696274813278, 0.7867916217189213, 0.8487496106057478, 0.5572820649310113, 0.3343692389586068, 0.11145641298620226, 0.5578777239033879, 0.9078749245952633, 1.002784544915789, 0.880300823587175, 0.176060164717435, 0.3672896787945554, 0.550934518191833, 0.1836448393972777, 0.9201136102306406, 0.9388377736907912, 0.8770147745331198, 0.9198666337509027, 0.6620814998072244, 0.26483259992288977, 0.06620814998072244, 0.7867612151502469, 0.9077128054160024, 0.2478644970438131, 0.7435934911314394, 0.907664879848885, 0.7645834759098735, 0.3058333903639494, 0.8422038753571339, 0.14036731255952234, 0.46035344406922013, 0.46035344406922013, 0.45354935723150536, 0.3628394857852043, 0.2721296143389032, 0.9077816800317958], \"Term\": [\"abuse\", \"accord\", \"accord\", \"addict\", \"address\", \"address\", \"ago\", \"alert\", \"alert\", \"already\", \"already\", \"also\", \"also\", \"angry\", \"appeal\", \"appoint\", \"appropriate\", \"arabic\", \"area\", \"ask\", \"ask\", \"asking\", \"assessment\", \"assessment\", \"assume\", \"attack\", \"attend\", \"attend\", \"attend\", \"aunt\", \"available\", \"bear\", \"bear\", \"beat\", \"begin\", \"biological\", \"british\", \"call\", \"cancel\", \"care\", \"care\", \"care\", \"carer\", \"carol\", \"case\", \"case\", \"check\", \"child\", \"child\", \"child\", \"civil\", \"clear\", \"come\", \"come\", \"come\", \"committed\", \"conclusion\", \"conduct\", \"consume\", \"contact\", \"contact\", \"context\", \"contract\", \"country\", \"couple\", \"current\", \"current\", \"custody\", \"danger\", \"date\", \"date\", \"date\", \"daughter\", \"daughter\", \"deadline\", \"deal\", \"decision\", \"deport\", \"difficulty\", \"document\", \"download\", \"drug\", \"embassy\", \"embassy\", \"emerge\", \"emergency\", \"enclose\", \"end\", \"ensure\", \"escalate\", \"establish\", \"family\", \"family\", \"family\", \"father\", \"father\", \"financially\", \"first\", \"first\", \"flat\", \"follow\", \"follow\", \"follow\", \"foster\", \"free\", \"friend\", \"german\", \"german\", \"get\", \"get\", \"give\", \"go\", \"go\", \"go\", \"grandmother\", \"grandmother\", \"guardian\", \"guardianship\", \"help\", \"help\", \"heroine\", \"holiday\", \"home\", \"home\", \"hope\", \"household\", \"independency\", \"inform\", \"inform\", \"inform\", \"information\", \"information\", \"information\", \"initiate\", \"kick\", \"kid\", \"kind\", \"lack\", \"leave\", \"leave\", \"like\", \"live\", \"live\", \"live\", \"locally\", \"lock\", \"long\", \"longer\", \"lose\", \"lot\", \"make\", \"make\", \"many\", \"marriage\", \"married\", \"massively\", \"may\", \"member\", \"mention\", \"mind\", \"mobile\", \"moment\", \"mother\", \"mother\", \"mother\", \"motivate\", \"name\", \"name\", \"nationality\", \"nationality\", \"nationality\", \"note\", \"note\", \"number\", \"offer\", \"old\", \"old\", \"old\", \"order\", \"order\", \"order\", \"orphanage\", \"paper\", \"parent\", \"parent\", \"parent\", \"pay\", \"phone\", \"phone\", \"phone\", \"photo\", \"place\", \"place\", \"possible\", \"possible\", \"possibly\", \"potsdam\", \"present\", \"primary\", \"process\", \"professional\", \"programme\", \"protection\", \"prove\", \"provide\", \"psychologist\", \"psychosocial\", \"question\", \"reach\", \"receive\", \"receive\", \"refuse\", \"regard\", \"regard\", \"relevant\", \"report\", \"report\", \"report\", \"representative\", \"request\", \"request\", \"request\", \"responsible\", \"safe\", \"search\", \"see\", \"seem\", \"send\", \"send\", \"separate\", \"service\", \"service\", \"several\", \"sheikh\", \"shelter\", \"situation\", \"situation\", \"situation\", \"social\", \"social\", \"soon\", \"soon\", \"soon\", \"speak\", \"stability\", \"start\", \"stay\", \"stay\", \"stay\", \"stop\", \"substitute\", \"substitution\", \"suitability\", \"supply\", \"sure\", \"syrian\", \"take\", \"take\", \"terrorist\", \"thus\", \"ticket\", \"time\", \"time\", \"time\", \"together\", \"tolerate\", \"trace\", \"travel\", \"travel\", \"try\", \"try\", \"try\", \"turn\", \"unfortunately\", \"unknown\", \"video\", \"visit\", \"visit\", \"visit\", \"wait\", \"welcome\", \"welfare\", \"welfare\", \"whatsapp\", \"wife\", \"wife\", \"worker\", \"worker\", \"would\", \"would\", \"year\", \"year\", \"year\", \"youth\"]}, \"R\": 30, \"lambda.step\": 0.01, \"plot.opts\": {\"xlab\": \"PC1\", \"ylab\": \"PC2\"}, \"topic.order\": [6, 2, 3, 5, 4, 1]};\n",
              "\n",
              "function LDAvis_load_lib(url, callback){\n",
              "  var s = document.createElement('script');\n",
              "  s.src = url;\n",
              "  s.async = true;\n",
              "  s.onreadystatechange = s.onload = callback;\n",
              "  s.onerror = function(){console.warn(\"failed to load library \" + url);};\n",
              "  document.getElementsByTagName(\"head\")[0].appendChild(s);\n",
              "}\n",
              "\n",
              "if(typeof(LDAvis) !== \"undefined\"){\n",
              "   // already loaded: just create the visualization\n",
              "   !function(LDAvis){\n",
              "       new LDAvis(\"#\" + \"ldavis_el1031402535208944966883801041\", ldavis_el1031402535208944966883801041_data);\n",
              "   }(LDAvis);\n",
              "}else if(typeof define === \"function\" && define.amd){\n",
              "   // require.js is available: use it to load d3/LDAvis\n",
              "   require.config({paths: {d3: \"https://cdnjs.cloudflare.com/ajax/libs/d3/3.5.5/d3.min\"}});\n",
              "   require([\"d3\"], function(d3){\n",
              "      window.d3 = d3;\n",
              "      LDAvis_load_lib(\"https://cdn.rawgit.com/bmabey/pyLDAvis/files/ldavis.v1.0.0.js\", function(){\n",
              "        new LDAvis(\"#\" + \"ldavis_el1031402535208944966883801041\", ldavis_el1031402535208944966883801041_data);\n",
              "      });\n",
              "    });\n",
              "}else{\n",
              "    // require.js not available: dynamically load d3 & LDAvis\n",
              "    LDAvis_load_lib(\"https://cdnjs.cloudflare.com/ajax/libs/d3/3.5.5/d3.min.js\", function(){\n",
              "         LDAvis_load_lib(\"https://cdn.rawgit.com/bmabey/pyLDAvis/files/ldavis.v1.0.0.js\", function(){\n",
              "                 new LDAvis(\"#\" + \"ldavis_el1031402535208944966883801041\", ldavis_el1031402535208944966883801041_data);\n",
              "            })\n",
              "         });\n",
              "}\n",
              "</script>"
            ],
            "text/plain": [
              "PreparedData(topic_coordinates=              x         y  topics  cluster       Freq\n",
              "topic                                                \n",
              "5      0.036158  0.140303       1        1  46.414396\n",
              "1      0.012358 -0.136032       2        1  39.408223\n",
              "2     -0.137956 -0.004115       3        1  14.001148\n",
              "4      0.029130  0.000042       4        1   0.058744\n",
              "3      0.029936 -0.000072       5        1   0.058744\n",
              "0      0.030374 -0.000126       6        1   0.058744, topic_info=         Term       Freq      Total Category  logprob  loglift\n",
              "13      child  55.000000  55.000000  Default  30.0000  30.0000\n",
              "437    syrian  10.000000  10.000000  Default  29.0000  29.0000\n",
              "51     mother  26.000000  26.000000  Default  28.0000  28.0000\n",
              "463     carer   9.000000   9.000000  Default  27.0000  27.0000\n",
              "93    address  12.000000  12.000000  Default  26.0000  26.0000\n",
              "..        ...        ...        ...      ...      ...      ...\n",
              "181      stay   0.001584   7.232338   Topic6  -6.2615  -0.9866\n",
              "350      wife   0.001584   6.539508   Topic6  -6.2617  -0.8861\n",
              "281      name   0.001583   7.422778   Topic6  -6.2619  -1.0129\n",
              "20   daughter   0.001583   9.185067   Topic6  -6.2624  -1.2265\n",
              "19       date   0.001582   5.445524   Topic6  -6.2627  -0.7041\n",
              "\n",
              "[418 rows x 6 columns], token_table=      Topic      Freq     Term\n",
              "term                          \n",
              "354       1  0.981670    abuse\n",
              "0         1  0.308826   accord\n",
              "0         2  0.617652   accord\n",
              "92        3  0.907783   addict\n",
              "93        1  0.955250  address\n",
              "...     ...       ...      ...\n",
              "89        2  0.460353    would\n",
              "90        1  0.453549     year\n",
              "90        2  0.362839     year\n",
              "90        3  0.272130     year\n",
              "199       3  0.907782    youth\n",
              "\n",
              "[294 rows x 3 columns], R=30, lambda_step=0.01, plot_opts={'xlab': 'PC1', 'ylab': 'PC2'}, topic_order=[6, 2, 3, 5, 4, 1])"
            ]
          },
          "metadata": {
            "tags": []
          }
        },
        {
          "output_type": "display_data",
          "data": {
            "text/html": [
              "        <script type=\"text/javascript\">\n",
              "        window.PlotlyConfig = {MathJaxConfig: 'local'};\n",
              "        if (window.MathJax) {MathJax.Hub.Config({SVG: {font: \"STIX-Web\"}});}\n",
              "        if (typeof require !== 'undefined') {\n",
              "        require.undef(\"plotly\");\n",
              "        requirejs.config({\n",
              "            paths: {\n",
              "                'plotly': ['https://cdn.plot.ly/plotly-latest.min']\n",
              "            }\n",
              "        });\n",
              "        require(['plotly'], function(Plotly) {\n",
              "            window._Plotly = Plotly;\n",
              "        });\n",
              "        }\n",
              "        </script>\n",
              "        "
            ]
          },
          "metadata": {
            "tags": []
          }
        },
        {
          "output_type": "display_data",
          "data": {
            "image/png": "[encoded data removed]",
            "text/plain": [
              "<Figure size 576x576 with 1 Axes>"
            ]
          },
          "metadata": {
            "tags": [],
            "needs_background": "light"
          }
        },
        {
          "output_type": "display_data",
          "data": {
            "text/html": [
              "        <script type=\"text/javascript\">\n",
              "        window.PlotlyConfig = {MathJaxConfig: 'local'};\n",
              "        if (window.MathJax) {MathJax.Hub.Config({SVG: {font: \"STIX-Web\"}});}\n",
              "        if (typeof require !== 'undefined') {\n",
              "        require.undef(\"plotly\");\n",
              "        requirejs.config({\n",
              "            paths: {\n",
              "                'plotly': ['https://cdn.plot.ly/plotly-latest.min']\n",
              "            }\n",
              "        });\n",
              "        require(['plotly'], function(Plotly) {\n",
              "            window._Plotly = Plotly;\n",
              "        });\n",
              "        }\n",
              "        </script>\n",
              "        "
            ]
          },
          "metadata": {
            "tags": []
          }
        },
        {
          "output_type": "display_data",
          "data": {
            "text/html": [
              "<div>\n",
              "        \n",
              "        \n",
              "            <div id=\"52357657-0eff-4b04-b644-180cf5cd3714\" class=\"plotly-graph-div\" style=\"height:525px; width:100%;\"></div>\n",
              "            <script type=\"text/javascript\">\n",
              "                require([\"plotly\"], function(Plotly) {\n",
              "                    window.PLOTLYENV=window.PLOTLYENV || {};\n",
              "                    window.PLOTLYENV.BASE_URL='https://plot.ly';\n",
              "                    \n",
              "                if (document.getElementById(\"52357657-0eff-4b04-b644-180cf5cd3714\")) {\n",
              "                    Plotly.newPlot(\n",
              "                        '52357657-0eff-4b04-b644-180cf5cd3714',\n",
              "                        [{\"marker\": {\"color\": \"rgba(255, 153, 51, 0.6)\", \"line\": {\"color\": \"rgba(255, 153, 51, 1.0)\", \"width\": 1}}, \"name\": \"count\", \"orientation\": \"v\", \"text\": \"\", \"type\": \"bar\", \"x\": [\"child\", \"address\", \"syrian\", \"visit\", \"family\", \"carer\", \"order\", \"nationality\", \"care\", \"daughter\", \"area\", \"current\", \"safe\", \"parent\", \"would\", \"name\", \"unknown\", \"contact\", \"time\", \"information\", \"father\", \"mother\", \"holiday\", \"ensure\", \"regard\", \"number\", \"go\", \"first\", \"phone\", \"year\", \"service\", \"wife\", \"travel\", \"request\", \"stay\", \"ask\", \"report\", \"friend\", \"take\", \"live\", \"meet\", \"case\", \"decision\", \"possible\", \"attack\", \"place\", \"note\", \"several\", \"provide\", \"abuse\", \"also\", \"terrorist\", \"foster\", \"get\", \"british\", \"support\", \"suitability\", \"include\", \"long\", \"involve\", \"keep\", \"lebanese\", \"make\", \"old\", \"social\", \"carol\", \"situation\", \"appropriate\", \"come\", \"close\", \"divorce\", \"attempt\", \"assistance\", \"accord\", \"conflict\", \"married\", \"download\", \"email\", \"video\", \"use\", \"turn\", \"try\", \"suffer\", \"start\", \"separate\", \"second\", \"school\", \"refuse\", \"physical\", \"person\", \"need\", \"move\", \"month\", \"write\", \"leave\", \"know\", \"insult\", \"however\", \"establish\", \"able\"], \"y\": [29, 13, 11, 11, 11, 10, 9, 8, 8, 8, 7, 6, 6, 6, 6, 6, 6, 6, 6, 5, 5, 5, 5, 5, 5, 5, 5, 5, 5, 5, 5, 5, 5, 5, 5, 5, 4, 4, 4, 4, 4, 4, 4, 4, 4, 4, 3, 3, 3, 3, 3, 3, 3, 3, 3, 3, 3, 3, 3, 3, 3, 3, 3, 3, 3, 3, 3, 2, 2, 2, 2, 2, 2, 2, 2, 2, 2, 2, 2, 2, 2, 2, 2, 2, 2, 2, 2, 2, 2, 2, 2, 2, 2, 2, 2, 2, 2, 2, 2, 2]}],\n",
              "                        {\"legend\": {\"bgcolor\": \"#F5F6F9\", \"font\": {\"color\": \"#4D5663\"}}, \"paper_bgcolor\": \"#F5F6F9\", \"plot_bgcolor\": \"#F5F6F9\", \"template\": {\"data\": {\"bar\": [{\"error_x\": {\"color\": \"#2a3f5f\"}, \"error_y\": {\"color\": \"#2a3f5f\"}, \"marker\": {\"line\": {\"color\": \"#E5ECF6\", \"width\": 0.5}}, \"type\": \"bar\"}], \"barpolar\": [{\"marker\": {\"line\": {\"color\": \"#E5ECF6\", \"width\": 0.5}}, \"type\": \"barpolar\"}], \"carpet\": [{\"aaxis\": {\"endlinecolor\": \"#2a3f5f\", \"gridcolor\": \"white\", \"linecolor\": \"white\", \"minorgridcolor\": \"white\", \"startlinecolor\": \"#2a3f5f\"}, \"baxis\": {\"endlinecolor\": \"#2a3f5f\", \"gridcolor\": \"white\", \"linecolor\": \"white\", \"minorgridcolor\": \"white\", \"startlinecolor\": \"#2a3f5f\"}, \"type\": \"carpet\"}], \"choropleth\": [{\"colorbar\": {\"outlinewidth\": 0, \"ticks\": \"\"}, \"type\": \"choropleth\"}], \"contour\": [{\"colorbar\": {\"outlinewidth\": 0, \"ticks\": \"\"}, \"colorscale\": [[0.0, \"#0d0887\"], [0.1111111111111111, \"#46039f\"], [0.2222222222222222, \"#7201a8\"], [0.3333333333333333, \"#9c179e\"], [0.4444444444444444, \"#bd3786\"], [0.5555555555555556, \"#d8576b\"], [0.6666666666666666, \"#ed7953\"], [0.7777777777777778, \"#fb9f3a\"], [0.8888888888888888, \"#fdca26\"], [1.0, \"#f0f921\"]], \"type\": \"contour\"}], \"contourcarpet\": [{\"colorbar\": {\"outlinewidth\": 0, \"ticks\": \"\"}, \"type\": \"contourcarpet\"}], \"heatmap\": [{\"colorbar\": {\"outlinewidth\": 0, \"ticks\": \"\"}, \"colorscale\": [[0.0, \"#0d0887\"], [0.1111111111111111, \"#46039f\"], [0.2222222222222222, \"#7201a8\"], [0.3333333333333333, \"#9c179e\"], [0.4444444444444444, \"#bd3786\"], [0.5555555555555556, \"#d8576b\"], [0.6666666666666666, \"#ed7953\"], [0.7777777777777778, \"#fb9f3a\"], [0.8888888888888888, \"#fdca26\"], [1.0, \"#f0f921\"]], \"type\": \"heatmap\"}], \"heatmapgl\": [{\"colorbar\": {\"outlinewidth\": 0, \"ticks\": \"\"}, \"colorscale\": [[0.0, \"#0d0887\"], [0.1111111111111111, \"#46039f\"], [0.2222222222222222, \"#7201a8\"], [0.3333333333333333, \"#9c179e\"], [0.4444444444444444, \"#bd3786\"], [0.5555555555555556, \"#d8576b\"], [0.6666666666666666, \"#ed7953\"], [0.7777777777777778, \"#fb9f3a\"], [0.8888888888888888, \"#fdca26\"], [1.0, \"#f0f921\"]], \"type\": \"heatmapgl\"}], \"histogram\": [{\"marker\": {\"colorbar\": {\"outlinewidth\": 0, \"ticks\": \"\"}}, \"type\": \"histogram\"}], \"histogram2d\": [{\"colorbar\": {\"outlinewidth\": 0, \"ticks\": \"\"}, \"colorscale\": [[0.0, \"#0d0887\"], [0.1111111111111111, \"#46039f\"], [0.2222222222222222, \"#7201a8\"], [0.3333333333333333, \"#9c179e\"], [0.4444444444444444, \"#bd3786\"], [0.5555555555555556, \"#d8576b\"], [0.6666666666666666, \"#ed7953\"], [0.7777777777777778, \"#fb9f3a\"], [0.8888888888888888, \"#fdca26\"], [1.0, \"#f0f921\"]], \"type\": \"histogram2d\"}], \"histogram2dcontour\": [{\"colorbar\": {\"outlinewidth\": 0, \"ticks\": \"\"}, \"colorscale\": [[0.0, \"#0d0887\"], [0.1111111111111111, \"#46039f\"], [0.2222222222222222, \"#7201a8\"], [0.3333333333333333, \"#9c179e\"], [0.4444444444444444, \"#bd3786\"], [0.5555555555555556, \"#d8576b\"], [0.6666666666666666, \"#ed7953\"], [0.7777777777777778, \"#fb9f3a\"], [0.8888888888888888, \"#fdca26\"], [1.0, \"#f0f921\"]], \"type\": \"histogram2dcontour\"}], \"mesh3d\": [{\"colorbar\": {\"outlinewidth\": 0, \"ticks\": \"\"}, \"type\": \"mesh3d\"}], \"parcoords\": [{\"line\": {\"colorbar\": {\"outlinewidth\": 0, \"ticks\": \"\"}}, \"type\": \"parcoords\"}], \"pie\": [{\"automargin\": true, \"type\": \"pie\"}], \"scatter\": [{\"marker\": {\"colorbar\": {\"outlinewidth\": 0, \"ticks\": \"\"}}, \"type\": \"scatter\"}], \"scatter3d\": [{\"line\": {\"colorbar\": {\"outlinewidth\": 0, \"ticks\": \"\"}}, \"marker\": {\"colorbar\": {\"outlinewidth\": 0, \"ticks\": \"\"}}, \"type\": \"scatter3d\"}], \"scattercarpet\": [{\"marker\": {\"colorbar\": {\"outlinewidth\": 0, \"ticks\": \"\"}}, \"type\": \"scattercarpet\"}], \"scattergeo\": [{\"marker\": {\"colorbar\": {\"outlinewidth\": 0, \"ticks\": \"\"}}, \"type\": \"scattergeo\"}], \"scattergl\": [{\"marker\": {\"colorbar\": {\"outlinewidth\": 0, \"ticks\": \"\"}}, \"type\": \"scattergl\"}], \"scattermapbox\": [{\"marker\": {\"colorbar\": {\"outlinewidth\": 0, \"ticks\": \"\"}}, \"type\": \"scattermapbox\"}], \"scatterpolar\": [{\"marker\": {\"colorbar\": {\"outlinewidth\": 0, \"ticks\": \"\"}}, \"type\": \"scatterpolar\"}], \"scatterpolargl\": [{\"marker\": {\"colorbar\": {\"outlinewidth\": 0, \"ticks\": \"\"}}, \"type\": \"scatterpolargl\"}], \"scatterternary\": [{\"marker\": {\"colorbar\": {\"outlinewidth\": 0, \"ticks\": \"\"}}, \"type\": \"scatterternary\"}], \"surface\": [{\"colorbar\": {\"outlinewidth\": 0, \"ticks\": \"\"}, \"colorscale\": [[0.0, \"#0d0887\"], [0.1111111111111111, \"#46039f\"], [0.2222222222222222, \"#7201a8\"], [0.3333333333333333, \"#9c179e\"], [0.4444444444444444, \"#bd3786\"], [0.5555555555555556, \"#d8576b\"], [0.6666666666666666, \"#ed7953\"], [0.7777777777777778, \"#fb9f3a\"], [0.8888888888888888, \"#fdca26\"], [1.0, \"#f0f921\"]], \"type\": \"surface\"}], \"table\": [{\"cells\": {\"fill\": {\"color\": \"#EBF0F8\"}, \"line\": {\"color\": \"white\"}}, \"header\": {\"fill\": {\"color\": \"#C8D4E3\"}, \"line\": {\"color\": \"white\"}}, \"type\": \"table\"}]}, \"layout\": {\"annotationdefaults\": {\"arrowcolor\": \"#2a3f5f\", \"arrowhead\": 0, \"arrowwidth\": 1}, \"coloraxis\": {\"colorbar\": {\"outlinewidth\": 0, \"ticks\": \"\"}}, \"colorscale\": {\"diverging\": [[0, \"#8e0152\"], [0.1, \"#c51b7d\"], [0.2, \"#de77ae\"], [0.3, \"#f1b6da\"], [0.4, \"#fde0ef\"], [0.5, \"#f7f7f7\"], [0.6, \"#e6f5d0\"], [0.7, \"#b8e186\"], [0.8, \"#7fbc41\"], [0.9, \"#4d9221\"], [1, \"#276419\"]], \"sequential\": [[0.0, \"#0d0887\"], [0.1111111111111111, \"#46039f\"], [0.2222222222222222, \"#7201a8\"], [0.3333333333333333, \"#9c179e\"], [0.4444444444444444, \"#bd3786\"], [0.5555555555555556, \"#d8576b\"], [0.6666666666666666, \"#ed7953\"], [0.7777777777777778, \"#fb9f3a\"], [0.8888888888888888, \"#fdca26\"], [1.0, \"#f0f921\"]], \"sequentialminus\": [[0.0, \"#0d0887\"], [0.1111111111111111, \"#46039f\"], [0.2222222222222222, \"#7201a8\"], [0.3333333333333333, \"#9c179e\"], [0.4444444444444444, \"#bd3786\"], [0.5555555555555556, \"#d8576b\"], [0.6666666666666666, \"#ed7953\"], [0.7777777777777778, \"#fb9f3a\"], [0.8888888888888888, \"#fdca26\"], [1.0, \"#f0f921\"]]}, \"colorway\": [\"#636efa\", \"#EF553B\", \"#00cc96\", \"#ab63fa\", \"#FFA15A\", \"#19d3f3\", \"#FF6692\", \"#B6E880\", \"#FF97FF\", \"#FECB52\"], \"font\": {\"color\": \"#2a3f5f\"}, \"geo\": {\"bgcolor\": \"white\", \"lakecolor\": \"white\", \"landcolor\": \"#E5ECF6\", \"showlakes\": true, \"showland\": true, \"subunitcolor\": \"white\"}, \"hoverlabel\": {\"align\": \"left\"}, \"hovermode\": \"closest\", \"mapbox\": {\"style\": \"light\"}, \"paper_bgcolor\": \"white\", \"plot_bgcolor\": \"#E5ECF6\", \"polar\": {\"angularaxis\": {\"gridcolor\": \"white\", \"linecolor\": \"white\", \"ticks\": \"\"}, \"bgcolor\": \"#E5ECF6\", \"radialaxis\": {\"gridcolor\": \"white\", \"linecolor\": \"white\", \"ticks\": \"\"}}, \"scene\": {\"xaxis\": {\"backgroundcolor\": \"#E5ECF6\", \"gridcolor\": \"white\", \"gridwidth\": 2, \"linecolor\": \"white\", \"showbackground\": true, \"ticks\": \"\", \"zerolinecolor\": \"white\"}, \"yaxis\": {\"backgroundcolor\": \"#E5ECF6\", \"gridcolor\": \"white\", \"gridwidth\": 2, \"linecolor\": \"white\", \"showbackground\": true, \"ticks\": \"\", \"zerolinecolor\": \"white\"}, \"zaxis\": {\"backgroundcolor\": \"#E5ECF6\", \"gridcolor\": \"white\", \"gridwidth\": 2, \"linecolor\": \"white\", \"showbackground\": true, \"ticks\": \"\", \"zerolinecolor\": \"white\"}}, \"shapedefaults\": {\"line\": {\"color\": \"#2a3f5f\"}}, \"ternary\": {\"aaxis\": {\"gridcolor\": \"white\", \"linecolor\": \"white\", \"ticks\": \"\"}, \"baxis\": {\"gridcolor\": \"white\", \"linecolor\": \"white\", \"ticks\": \"\"}, \"bgcolor\": \"#E5ECF6\", \"caxis\": {\"gridcolor\": \"white\", \"linecolor\": \"white\", \"ticks\": \"\"}}, \"title\": {\"x\": 0.05}, \"xaxis\": {\"automargin\": true, \"gridcolor\": \"white\", \"linecolor\": \"white\", \"ticks\": \"\", \"title\": {\"standoff\": 15}, \"zerolinecolor\": \"white\", \"zerolinewidth\": 2}, \"yaxis\": {\"automargin\": true, \"gridcolor\": \"white\", \"linecolor\": \"white\", \"ticks\": \"\", \"title\": {\"standoff\": 15}, \"zerolinecolor\": \"white\", \"zerolinewidth\": 2}}}, \"title\": {\"font\": {\"color\": \"#4D5663\"}, \"text\": \"Topic 5: Top 100 words after removing stop words\"}, \"xaxis\": {\"gridcolor\": \"#E1E5ED\", \"linecolor\": \"black\", \"showgrid\": true, \"tickfont\": {\"color\": \"#4D5663\"}, \"title\": {\"font\": {\"color\": \"#4D5663\"}, \"text\": \"\"}, \"zerolinecolor\": \"#E1E5ED\"}, \"yaxis\": {\"gridcolor\": \"#E1E5ED\", \"linecolor\": \"black\", \"showgrid\": true, \"tickfont\": {\"color\": \"#4D5663\"}, \"title\": {\"font\": {\"color\": \"#4D5663\"}, \"text\": \"Count\"}, \"zerolinecolor\": \"#E1E5ED\"}},\n",
              "                        {\"showLink\": true, \"linkText\": \"Export to plot.ly\", \"plotlyServerURL\": \"https://plot.ly\", \"responsive\": true}\n",
              "                    ).then(function(){\n",
              "                            \n",
              "var gd = document.getElementById('52357657-0eff-4b04-b644-180cf5cd3714');\n",
              "var x = new MutationObserver(function (mutations, observer) {{\n",
              "        var display = window.getComputedStyle(gd).display;\n",
              "        if (!display || display === 'none') {{\n",
              "            console.log([gd, 'removed!']);\n",
              "            Plotly.purge(gd);\n",
              "            observer.disconnect();\n",
              "        }}\n",
              "}});\n",
              "\n",
              "// Listen for the removal of the full notebook cells\n",
              "var notebookContainer = gd.closest('#notebook-container');\n",
              "if (notebookContainer) {{\n",
              "    x.observe(notebookContainer, {childList: true});\n",
              "}}\n",
              "\n",
              "// Listen for the clearing of the current output cell\n",
              "var outputEl = gd.closest('.output');\n",
              "if (outputEl) {{\n",
              "    x.observe(outputEl, {childList: true});\n",
              "}}\n",
              "\n",
              "                        })\n",
              "                };\n",
              "                });\n",
              "            </script>\n",
              "        </div>"
            ],
            "application/vnd.plotly.v1+json": {
              "data": [
                {
                  "name": "count",
                  "text": "",
                  "y": [
                    29,
                    13,
                    11,
                    11,
                    11,
                    10,
                    9,
                    8,
                    8,
                    8,
                    7,
                    6,
                    6,
                    6,
                    6,
                    6,
                    6,
                    6,
                    6,
                    5,
                    5,
                    5,
                    5,
                    5,
                    5,
                    5,
                    5,
                    5,
                    5,
                    5,
                    5,
                    5,
                    5,
                    5,
                    5,
                    5,
                    4,
                    4,
                    4,
                    4,
                    4,
                    4,
                    4,
                    4,
                    4,
                    4,
                    3,
                    3,
                    3,
                    3,
                    3,
                    3,
                    3,
                    3,
                    3,
                    3,
                    3,
                    3,
                    3,
                    3,
                    3,
                    3,
                    3,
                    3,
                    3,
                    3,
                    3,
                    2,
                    2,
                    2,
                    2,
                    2,
                    2,
                    2,
                    2,
                    2,
                    2,
                    2,
                    2,
                    2,
                    2,
                    2,
                    2,
                    2,
                    2,
                    2,
                    2,
                    2,
                    2,
                    2,
                    2,
                    2,
                    2,
                    2,
                    2,
                    2,
                    2,
                    2,
                    2,
                    2
                  ],
                  "marker": {
                    "color": "rgba(255, 153, 51, 0.6)",
                    "line": {
                      "color": "rgba(255, 153, 51, 1.0)",
                      "width": 1
                    }
                  },
                  "x": [
                    "child",
                    "address",
                    "syrian",
                    "visit",
                    "family",
                    "carer",
                    "order",
                    "nationality",
                    "care",
                    "daughter",
                    "area",
                    "current",
                    "safe",
                    "parent",
                    "would",
                    "name",
                    "unknown",
                    "contact",
                    "time",
                    "information",
                    "father",
                    "mother",
                    "holiday",
                    "ensure",
                    "regard",
                    "number",
                    "go",
                    "first",
                    "phone",
                    "year",
                    "service",
                    "wife",
                    "travel",
                    "request",
                    "stay",
                    "ask",
                    "report",
                    "friend",
                    "take",
                    "live",
                    "meet",
                    "case",
                    "decision",
                    "possible",
                    "attack",
                    "place",
                    "note",
                    "several",
                    "provide",
                    "abuse",
                    "also",
                    "terrorist",
                    "foster",
                    "get",
                    "british",
                    "support",
                    "suitability",
                    "include",
                    "long",
                    "involve",
                    "keep",
                    "lebanese",
                    "make",
                    "old",
                    "social",
                    "carol",
                    "situation",
                    "appropriate",
                    "come",
                    "close",
                    "divorce",
                    "attempt",
                    "assistance",
                    "accord",
                    "conflict",
                    "married",
                    "download",
                    "email",
                    "video",
                    "use",
                    "turn",
                    "try",
                    "suffer",
                    "start",
                    "separate",
                    "second",
                    "school",
                    "refuse",
                    "physical",
                    "person",
                    "need",
                    "move",
                    "month",
                    "write",
                    "leave",
                    "know",
                    "insult",
                    "however",
                    "establish",
                    "able"
                  ],
                  "type": "bar",
                  "orientation": "v"
                }
              ],
              "config": {
                "plotlyServerURL": "https://plot.ly",
                "linkText": "Export to plot.ly",
                "showLink": true
              },
              "layout": {
                "template": {
                  "layout": {
                    "shapedefaults": {
                      "line": {
                        "color": "#2a3f5f"
                      }
                    },
                    "polar": {
                      "radialaxis": {
                        "ticks": "",
                        "gridcolor": "white",
                        "linecolor": "white"
                      },
                      "bgcolor": "#E5ECF6",
                      "angularaxis": {
                        "ticks": "",
                        "gridcolor": "white",
                        "linecolor": "white"
                      }
                    },
                    "colorway": [
                      "#636efa",
                      "#EF553B",
                      "#00cc96",
                      "#ab63fa",
                      "#FFA15A",
                      "#19d3f3",
                      "#FF6692",
                      "#B6E880",
                      "#FF97FF",
                      "#FECB52"
                    ],
                    "xaxis": {
                      "automargin": true,
                      "title": {
                        "standoff": 15
                      },
                      "zerolinewidth": 2,
                      "ticks": "",
                      "zerolinecolor": "white",
                      "gridcolor": "white",
                      "linecolor": "white"
                    },
                    "colorscale": {
                      "diverging": [
                        [
                          0,
                          "#8e0152"
                        ],
                        [
                          0.1,
                          "#c51b7d"
                        ],
                        [
                          0.2,
                          "#de77ae"
                        ],
                        [
                          0.3,
                          "#f1b6da"
                        ],
                        [
                          0.4,
                          "#fde0ef"
                        ],
                        [
                          0.5,
                          "#f7f7f7"
                        ],
                        [
                          0.6,
                          "#e6f5d0"
                        ],
                        [
                          0.7,
                          "#b8e186"
                        ],
                        [
                          0.8,
                          "#7fbc41"
                        ],
                        [
                          0.9,
                          "#4d9221"
                        ],
                        [
                          1,
                          "#276419"
                        ]
                      ],
                      "sequential": [
                        [
                          0,
                          "#0d0887"
                        ],
                        [
                          0.1111111111111111,
                          "#46039f"
                        ],
                        [
                          0.2222222222222222,
                          "#7201a8"
                        ],
                        [
                          0.3333333333333333,
                          "#9c179e"
                        ],
                        [
                          0.4444444444444444,
                          "#bd3786"
                        ],
                        [
                          0.5555555555555556,
                          "#d8576b"
                        ],
                        [
                          0.6666666666666666,
                          "#ed7953"
                        ],
                        [
                          0.7777777777777778,
                          "#fb9f3a"
                        ],
                        [
                          0.8888888888888888,
                          "#fdca26"
                        ],
                        [
                          1,
                          "#f0f921"
                        ]
                      ],
                      "sequentialminus": [
                        [
                          0,
                          "#0d0887"
                        ],
                        [
                          0.1111111111111111,
                          "#46039f"
                        ],
                        [
                          0.2222222222222222,
                          "#7201a8"
                        ],
                        [
                          0.3333333333333333,
                          "#9c179e"
                        ],
                        [
                          0.4444444444444444,
                          "#bd3786"
                        ],
                        [
                          0.5555555555555556,
                          "#d8576b"
                        ],
                        [
                          0.6666666666666666,
                          "#ed7953"
                        ],
                        [
                          0.7777777777777778,
                          "#fb9f3a"
                        ],
                        [
                          0.8888888888888888,
                          "#fdca26"
                        ],
                        [
                          1,
                          "#f0f921"
                        ]
                      ]
                    },
                    "paper_bgcolor": "white",
                    "plot_bgcolor": "#E5ECF6",
                    "title": {
                      "x": 0.05
                    },
                    "scene": {
                      "zaxis": {
                        "backgroundcolor": "#E5ECF6",
                        "ticks": "",
                        "gridwidth": 2,
                        "showbackground": true,
                        "zerolinecolor": "white",
                        "gridcolor": "white",
                        "linecolor": "white"
                      },
                      "xaxis": {
                        "backgroundcolor": "#E5ECF6",
                        "ticks": "",
                        "gridwidth": 2,
                        "showbackground": true,
                        "zerolinecolor": "white",
                        "gridcolor": "white",
                        "linecolor": "white"
                      },
                      "yaxis": {
                        "backgroundcolor": "#E5ECF6",
                        "ticks": "",
                        "gridwidth": 2,
                        "showbackground": true,
                        "zerolinecolor": "white",
                        "gridcolor": "white",
                        "linecolor": "white"
                      }
                    },
                    "yaxis": {
                      "automargin": true,
                      "title": {
                        "standoff": 15
                      },
                      "zerolinewidth": 2,
                      "ticks": "",
                      "zerolinecolor": "white",
                      "gridcolor": "white",
                      "linecolor": "white"
                    },
                    "annotationdefaults": {
                      "arrowwidth": 1,
                      "arrowhead": 0,
                      "arrowcolor": "#2a3f5f"
                    },
                    "hoverlabel": {
                      "align": "left"
                    },
                    "ternary": {
                      "bgcolor": "#E5ECF6",
                      "baxis": {
                        "ticks": "",
                        "gridcolor": "white",
                        "linecolor": "white"
                      },
                      "caxis": {
                        "ticks": "",
                        "gridcolor": "white",
                        "linecolor": "white"
                      },
                      "aaxis": {
                        "ticks": "",
                        "gridcolor": "white",
                        "linecolor": "white"
                      }
                    },
                    "mapbox": {
                      "style": "light"
                    },
                    "hovermode": "closest",
                    "font": {
                      "color": "#2a3f5f"
                    },
                    "geo": {
                      "showland": true,
                      "landcolor": "#E5ECF6",
                      "showlakes": true,
                      "bgcolor": "white",
                      "subunitcolor": "white",
                      "lakecolor": "white"
                    },
                    "coloraxis": {
                      "colorbar": {
                        "outlinewidth": 0,
                        "ticks": ""
                      }
                    }
                  },
                  "data": {
                    "mesh3d": [
                      {
                        "colorbar": {
                          "outlinewidth": 0,
                          "ticks": ""
                        },
                        "type": "mesh3d"
                      }
                    ],
                    "scattercarpet": [
                      {
                        "marker": {
                          "colorbar": {
                            "outlinewidth": 0,
                            "ticks": ""
                          }
                        },
                        "type": "scattercarpet"
                      }
                    ],
                    "pie": [
                      {
                        "automargin": true,
                        "type": "pie"
                      }
                    ],
                    "surface": [
                      {
                        "colorbar": {
                          "outlinewidth": 0,
                          "ticks": ""
                        },
                        "type": "surface",
                        "colorscale": [
                          [
                            0,
                            "#0d0887"
                          ],
                          [
                            0.1111111111111111,
                            "#46039f"
                          ],
                          [
                            0.2222222222222222,
                            "#7201a8"
                          ],
                          [
                            0.3333333333333333,
                            "#9c179e"
                          ],
                          [
                            0.4444444444444444,
                            "#bd3786"
                          ],
                          [
                            0.5555555555555556,
                            "#d8576b"
                          ],
                          [
                            0.6666666666666666,
                            "#ed7953"
                          ],
                          [
                            0.7777777777777778,
                            "#fb9f3a"
                          ],
                          [
                            0.8888888888888888,
                            "#fdca26"
                          ],
                          [
                            1,
                            "#f0f921"
                          ]
                        ]
                      }
                    ],
                    "table": [
                      {
                        "header": {
                          "line": {
                            "color": "white"
                          },
                          "fill": {
                            "color": "#C8D4E3"
                          }
                        },
                        "cells": {
                          "line": {
                            "color": "white"
                          },
                          "fill": {
                            "color": "#EBF0F8"
                          }
                        },
                        "type": "table"
                      }
                    ],
                    "scatterpolargl": [
                      {
                        "marker": {
                          "colorbar": {
                            "outlinewidth": 0,
                            "ticks": ""
                          }
                        },
                        "type": "scatterpolargl"
                      }
                    ],
                    "contour": [
                      {
                        "colorbar": {
                          "outlinewidth": 0,
                          "ticks": ""
                        },
                        "type": "contour",
                        "colorscale": [
                          [
                            0,
                            "#0d0887"
                          ],
                          [
                            0.1111111111111111,
                            "#46039f"
                          ],
                          [
                            0.2222222222222222,
                            "#7201a8"
                          ],
                          [
                            0.3333333333333333,
                            "#9c179e"
                          ],
                          [
                            0.4444444444444444,
                            "#bd3786"
                          ],
                          [
                            0.5555555555555556,
                            "#d8576b"
                          ],
                          [
                            0.6666666666666666,
                            "#ed7953"
                          ],
                          [
                            0.7777777777777778,
                            "#fb9f3a"
                          ],
                          [
                            0.8888888888888888,
                            "#fdca26"
                          ],
                          [
                            1,
                            "#f0f921"
                          ]
                        ]
                      }
                    ],
                    "carpet": [
                      {
                        "type": "carpet",
                        "baxis": {
                          "minorgridcolor": "white",
                          "gridcolor": "white",
                          "linecolor": "white",
                          "endlinecolor": "#2a3f5f",
                          "startlinecolor": "#2a3f5f"
                        },
                        "aaxis": {
                          "minorgridcolor": "white",
                          "gridcolor": "white",
                          "linecolor": "white",
                          "endlinecolor": "#2a3f5f",
                          "startlinecolor": "#2a3f5f"
                        }
                      }
                    ],
                    "contourcarpet": [
                      {
                        "colorbar": {
                          "outlinewidth": 0,
                          "ticks": ""
                        },
                        "type": "contourcarpet"
                      }
                    ],
                    "heatmap": [
                      {
                        "colorbar": {
                          "outlinewidth": 0,
                          "ticks": ""
                        },
                        "type": "heatmap",
                        "colorscale": [
                          [
                            0,
                            "#0d0887"
                          ],
                          [
                            0.1111111111111111,
                            "#46039f"
                          ],
                          [
                            0.2222222222222222,
                            "#7201a8"
                          ],
                          [
                            0.3333333333333333,
                            "#9c179e"
                          ],
                          [
                            0.4444444444444444,
                            "#bd3786"
                          ],
                          [
                            0.5555555555555556,
                            "#d8576b"
                          ],
                          [
                            0.6666666666666666,
                            "#ed7953"
                          ],
                          [
                            0.7777777777777778,
                            "#fb9f3a"
                          ],
                          [
                            0.8888888888888888,
                            "#fdca26"
                          ],
                          [
                            1,
                            "#f0f921"
                          ]
                        ]
                      }
                    ],
                    "scattermapbox": [
                      {
                        "marker": {
                          "colorbar": {
                            "outlinewidth": 0,
                            "ticks": ""
                          }
                        },
                        "type": "scattermapbox"
                      }
                    ],
                    "scatter3d": [
                      {
                        "marker": {
                          "colorbar": {
                            "outlinewidth": 0,
                            "ticks": ""
                          }
                        },
                        "line": {
                          "colorbar": {
                            "outlinewidth": 0,
                            "ticks": ""
                          }
                        },
                        "type": "scatter3d"
                      }
                    ],
                    "scattergl": [
                      {
                        "marker": {
                          "colorbar": {
                            "outlinewidth": 0,
                            "ticks": ""
                          }
                        },
                        "type": "scattergl"
                      }
                    ],
                    "scatterternary": [
                      {
                        "marker": {
                          "colorbar": {
                            "outlinewidth": 0,
                            "ticks": ""
                          }
                        },
                        "type": "scatterternary"
                      }
                    ],
                    "histogram": [
                      {
                        "marker": {
                          "colorbar": {
                            "outlinewidth": 0,
                            "ticks": ""
                          }
                        },
                        "type": "histogram"
                      }
                    ],
                    "heatmapgl": [
                      {
                        "colorbar": {
                          "outlinewidth": 0,
                          "ticks": ""
                        },
                        "type": "heatmapgl",
                        "colorscale": [
                          [
                            0,
                            "#0d0887"
                          ],
                          [
                            0.1111111111111111,
                            "#46039f"
                          ],
                          [
                            0.2222222222222222,
                            "#7201a8"
                          ],
                          [
                            0.3333333333333333,
                            "#9c179e"
                          ],
                          [
                            0.4444444444444444,
                            "#bd3786"
                          ],
                          [
                            0.5555555555555556,
                            "#d8576b"
                          ],
                          [
                            0.6666666666666666,
                            "#ed7953"
                          ],
                          [
                            0.7777777777777778,
                            "#fb9f3a"
                          ],
                          [
                            0.8888888888888888,
                            "#fdca26"
                          ],
                          [
                            1,
                            "#f0f921"
                          ]
                        ]
                      }
                    ],
                    "scatterpolar": [
                      {
                        "marker": {
                          "colorbar": {
                            "outlinewidth": 0,
                            "ticks": ""
                          }
                        },
                        "type": "scatterpolar"
                      }
                    ],
                    "histogram2d": [
                      {
                        "colorbar": {
                          "outlinewidth": 0,
                          "ticks": ""
                        },
                        "type": "histogram2d",
                        "colorscale": [
                          [
                            0,
                            "#0d0887"
                          ],
                          [
                            0.1111111111111111,
                            "#46039f"
                          ],
                          [
                            0.2222222222222222,
                            "#7201a8"
                          ],
                          [
                            0.3333333333333333,
                            "#9c179e"
                          ],
                          [
                            0.4444444444444444,
                            "#bd3786"
                          ],
                          [
                            0.5555555555555556,
                            "#d8576b"
                          ],
                          [
                            0.6666666666666666,
                            "#ed7953"
                          ],
                          [
                            0.7777777777777778,
                            "#fb9f3a"
                          ],
                          [
                            0.8888888888888888,
                            "#fdca26"
                          ],
                          [
                            1,
                            "#f0f921"
                          ]
                        ]
                      }
                    ],
                    "scattergeo": [
                      {
                        "marker": {
                          "colorbar": {
                            "outlinewidth": 0,
                            "ticks": ""
                          }
                        },
                        "type": "scattergeo"
                      }
                    ],
                    "bar": [
                      {
                        "marker": {
                          "line": {
                            "color": "#E5ECF6",
                            "width": 0.5
                          }
                        },
                        "type": "bar",
                        "error_x": {
                          "color": "#2a3f5f"
                        },
                        "error_y": {
                          "color": "#2a3f5f"
                        }
                      }
                    ],
                    "choropleth": [
                      {
                        "colorbar": {
                          "outlinewidth": 0,
                          "ticks": ""
                        },
                        "type": "choropleth"
                      }
                    ],
                    "parcoords": [
                      {
                        "line": {
                          "colorbar": {
                            "outlinewidth": 0,
                            "ticks": ""
                          }
                        },
                        "type": "parcoords"
                      }
                    ],
                    "barpolar": [
                      {
                        "marker": {
                          "line": {
                            "color": "#E5ECF6",
                            "width": 0.5
                          }
                        },
                        "type": "barpolar"
                      }
                    ],
                    "histogram2dcontour": [
                      {
                        "colorbar": {
                          "outlinewidth": 0,
                          "ticks": ""
                        },
                        "type": "histogram2dcontour",
                        "colorscale": [
                          [
                            0,
                            "#0d0887"
                          ],
                          [
                            0.1111111111111111,
                            "#46039f"
                          ],
                          [
                            0.2222222222222222,
                            "#7201a8"
                          ],
                          [
                            0.3333333333333333,
                            "#9c179e"
                          ],
                          [
                            0.4444444444444444,
                            "#bd3786"
                          ],
                          [
                            0.5555555555555556,
                            "#d8576b"
                          ],
                          [
                            0.6666666666666666,
                            "#ed7953"
                          ],
                          [
                            0.7777777777777778,
                            "#fb9f3a"
                          ],
                          [
                            0.8888888888888888,
                            "#fdca26"
                          ],
                          [
                            1,
                            "#f0f921"
                          ]
                        ]
                      }
                    ],
                    "scatter": [
                      {
                        "marker": {
                          "colorbar": {
                            "outlinewidth": 0,
                            "ticks": ""
                          }
                        },
                        "type": "scatter"
                      }
                    ]
                  }
                },
                "title": {
                  "text": "Topic 5: Top 100 words after removing stop words",
                  "font": {
                    "color": "#4D5663"
                  }
                },
                "paper_bgcolor": "#F5F6F9",
                "plot_bgcolor": "#F5F6F9",
                "yaxis": {
                  "tickfont": {
                    "color": "#4D5663"
                  },
                  "title": {
                    "text": "Count",
                    "font": {
                      "color": "#4D5663"
                    }
                  },
                  "showgrid": true,
                  "zerolinecolor": "#E1E5ED",
                  "gridcolor": "#E1E5ED",
                  "linecolor": "black"
                },
                "xaxis": {
                  "tickfont": {
                    "color": "#4D5663"
                  },
                  "title": {
                    "text": "",
                    "font": {
                      "color": "#4D5663"
                    }
                  },
                  "showgrid": true,
                  "zerolinecolor": "#E1E5ED",
                  "gridcolor": "#E1E5ED",
                  "linecolor": "black"
                },
                "legend": {
                  "bgcolor": "#F5F6F9",
                  "font": {
                    "color": "#4D5663"
                  }
                }
              }
            }
          },
          "metadata": {
            "tags": []
          }
        },
        {
          "output_type": "display_data",
          "data": {
            "text/html": [
              "        <script type=\"text/javascript\">\n",
              "        window.PlotlyConfig = {MathJaxConfig: 'local'};\n",
              "        if (window.MathJax) {MathJax.Hub.Config({SVG: {font: \"STIX-Web\"}});}\n",
              "        if (typeof require !== 'undefined') {\n",
              "        require.undef(\"plotly\");\n",
              "        requirejs.config({\n",
              "            paths: {\n",
              "                'plotly': ['https://cdn.plot.ly/plotly-latest.min']\n",
              "            }\n",
              "        });\n",
              "        require(['plotly'], function(Plotly) {\n",
              "            window._Plotly = Plotly;\n",
              "        });\n",
              "        }\n",
              "        </script>\n",
              "        "
            ]
          },
          "metadata": {
            "tags": []
          }
        },
        {
          "output_type": "display_data",
          "data": {
            "text/html": [
              "<div>\n",
              "        \n",
              "        \n",
              "            <div id=\"78aaa9dd-f0ca-4751-8923-a5dc7661cbf6\" class=\"plotly-graph-div\" style=\"height:525px; width:100%;\"></div>\n",
              "            <script type=\"text/javascript\">\n",
              "                require([\"plotly\"], function(Plotly) {\n",
              "                    window.PLOTLYENV=window.PLOTLYENV || {};\n",
              "                    window.PLOTLYENV.BASE_URL='https://plot.ly';\n",
              "                    \n",
              "                if (document.getElementById(\"78aaa9dd-f0ca-4751-8923-a5dc7661cbf6\")) {\n",
              "                    Plotly.newPlot(\n",
              "                        '78aaa9dd-f0ca-4751-8923-a5dc7661cbf6',\n",
              "                        [{\"marker\": {\"color\": \"rgba(255, 153, 51, 0.6)\", \"line\": {\"color\": \"rgba(255, 153, 51, 1.0)\", \"width\": 1}}, \"name\": \"count\", \"orientation\": \"v\", \"text\": \"\", \"type\": \"bar\", \"x\": [\"nationality syrian\", \"syrian address\", \"address phone\", \"current address\", \"first name\", \"phone number\", \"number unknown\", \"child carer\", \"child safe\", \"family friend\", \"child family\", \"case note\", \"keep child\", \"year old\", \"establish contact\", \"holiday provide\", \"get married\", \"foster care\", \"long term\", \"name current\", \"family border\", \"legal order\", \"date birth\", \"cooperation visit\", \"order care\", \"child service\", \"child holiday\", \"carer first\", \"care order\", \"care child\", \"british legal\", \"birth current\", \"attack area\", \"address nationality\", \"contact father\", \"abuse social\", \"travel carer\", \"regard suitability\", \"terrorist attack\", \"person involve\", \"social report\", \"parental responsibility\", \"unknown nationality\", \"unknown unknown\", \"suitability accommodation\", \"several time\", \"white british\", \"safe time\", \"conflict former\", \"situation person\", \"separation national\", \"currently live\", \"start daughter\", \"statement origin\", \"confidential father\", \"order facilitate\", \"child currently\", \"syrian child\", \"email background\", \"turn go\", \"unknown mother\", \"background information\", \"avoid conflict\", \"unknown youssef\", \"assistance regard\", \"also provide\", \"wife nationality\", \"address confidential\", \"daughter turn\", \"ensure possible\", \"encounter separation\", \"order avoid\", \"old syrian\", \"origin assistance\", \"number email\", \"note statement\", \"parent encounter\", \"national get\", \"parent run\", \"mother nationality\", \"month start\", \"married month\", \"live order\", \"possible reunification\", \"involve nationality\", \"information parent\", \"provide social\", \"go parent\", \"regard year\", \"former wife\", \"report family\", \"father request\", \"father ensure\", \"family situation\", \"request order\", \"reunification also\", \"facilitate establishment\", \"establishment contact\", \"run away\", \"youssef nationality\"], \"y\": [7, 7, 5, 5, 5, 5, 4, 4, 4, 3, 3, 3, 3, 3, 2, 2, 2, 2, 2, 2, 2, 2, 2, 2, 2, 2, 2, 2, 2, 2, 2, 2, 2, 2, 2, 2, 2, 2, 2, 2, 2, 2, 2, 2, 2, 2, 2, 2, 1, 1, 1, 1, 1, 1, 1, 1, 1, 1, 1, 1, 1, 1, 1, 1, 1, 1, 1, 1, 1, 1, 1, 1, 1, 1, 1, 1, 1, 1, 1, 1, 1, 1, 1, 1, 1, 1, 1, 1, 1, 1, 1, 1, 1, 1, 1, 1, 1, 1, 1, 1]}],\n",
              "                        {\"legend\": {\"bgcolor\": \"#F5F6F9\", \"font\": {\"color\": \"#4D5663\"}}, \"paper_bgcolor\": \"#F5F6F9\", \"plot_bgcolor\": \"#F5F6F9\", \"template\": {\"data\": {\"bar\": [{\"error_x\": {\"color\": \"#2a3f5f\"}, \"error_y\": {\"color\": \"#2a3f5f\"}, \"marker\": {\"line\": {\"color\": \"#E5ECF6\", \"width\": 0.5}}, \"type\": \"bar\"}], \"barpolar\": [{\"marker\": {\"line\": {\"color\": \"#E5ECF6\", \"width\": 0.5}}, \"type\": \"barpolar\"}], \"carpet\": [{\"aaxis\": {\"endlinecolor\": \"#2a3f5f\", \"gridcolor\": \"white\", \"linecolor\": \"white\", \"minorgridcolor\": \"white\", \"startlinecolor\": \"#2a3f5f\"}, \"baxis\": {\"endlinecolor\": \"#2a3f5f\", \"gridcolor\": \"white\", \"linecolor\": \"white\", \"minorgridcolor\": \"white\", \"startlinecolor\": \"#2a3f5f\"}, \"type\": \"carpet\"}], \"choropleth\": [{\"colorbar\": {\"outlinewidth\": 0, \"ticks\": \"\"}, \"type\": \"choropleth\"}], \"contour\": [{\"colorbar\": {\"outlinewidth\": 0, \"ticks\": \"\"}, \"colorscale\": [[0.0, \"#0d0887\"], [0.1111111111111111, \"#46039f\"], [0.2222222222222222, \"#7201a8\"], [0.3333333333333333, \"#9c179e\"], [0.4444444444444444, \"#bd3786\"], [0.5555555555555556, \"#d8576b\"], [0.6666666666666666, \"#ed7953\"], [0.7777777777777778, \"#fb9f3a\"], [0.8888888888888888, \"#fdca26\"], [1.0, \"#f0f921\"]], \"type\": \"contour\"}], \"contourcarpet\": [{\"colorbar\": {\"outlinewidth\": 0, \"ticks\": \"\"}, \"type\": \"contourcarpet\"}], \"heatmap\": [{\"colorbar\": {\"outlinewidth\": 0, \"ticks\": \"\"}, \"colorscale\": [[0.0, \"#0d0887\"], [0.1111111111111111, \"#46039f\"], [0.2222222222222222, \"#7201a8\"], [0.3333333333333333, \"#9c179e\"], [0.4444444444444444, \"#bd3786\"], [0.5555555555555556, \"#d8576b\"], [0.6666666666666666, \"#ed7953\"], [0.7777777777777778, \"#fb9f3a\"], [0.8888888888888888, \"#fdca26\"], [1.0, \"#f0f921\"]], \"type\": \"heatmap\"}], \"heatmapgl\": [{\"colorbar\": {\"outlinewidth\": 0, \"ticks\": \"\"}, \"colorscale\": [[0.0, \"#0d0887\"], [0.1111111111111111, \"#46039f\"], [0.2222222222222222, \"#7201a8\"], [0.3333333333333333, \"#9c179e\"], [0.4444444444444444, \"#bd3786\"], [0.5555555555555556, \"#d8576b\"], [0.6666666666666666, \"#ed7953\"], [0.7777777777777778, \"#fb9f3a\"], [0.8888888888888888, \"#fdca26\"], [1.0, \"#f0f921\"]], \"type\": \"heatmapgl\"}], \"histogram\": [{\"marker\": {\"colorbar\": {\"outlinewidth\": 0, \"ticks\": \"\"}}, \"type\": \"histogram\"}], \"histogram2d\": [{\"colorbar\": {\"outlinewidth\": 0, \"ticks\": \"\"}, \"colorscale\": [[0.0, \"#0d0887\"], [0.1111111111111111, \"#46039f\"], [0.2222222222222222, \"#7201a8\"], [0.3333333333333333, \"#9c179e\"], [0.4444444444444444, \"#bd3786\"], [0.5555555555555556, \"#d8576b\"], [0.6666666666666666, \"#ed7953\"], [0.7777777777777778, \"#fb9f3a\"], [0.8888888888888888, \"#fdca26\"], [1.0, \"#f0f921\"]], \"type\": \"histogram2d\"}], \"histogram2dcontour\": [{\"colorbar\": {\"outlinewidth\": 0, \"ticks\": \"\"}, \"colorscale\": [[0.0, \"#0d0887\"], [0.1111111111111111, \"#46039f\"], [0.2222222222222222, \"#7201a8\"], [0.3333333333333333, \"#9c179e\"], [0.4444444444444444, \"#bd3786\"], [0.5555555555555556, \"#d8576b\"], [0.6666666666666666, \"#ed7953\"], [0.7777777777777778, \"#fb9f3a\"], [0.8888888888888888, \"#fdca26\"], [1.0, \"#f0f921\"]], \"type\": \"histogram2dcontour\"}], \"mesh3d\": [{\"colorbar\": {\"outlinewidth\": 0, \"ticks\": \"\"}, \"type\": \"mesh3d\"}], \"parcoords\": [{\"line\": {\"colorbar\": {\"outlinewidth\": 0, \"ticks\": \"\"}}, \"type\": \"parcoords\"}], \"pie\": [{\"automargin\": true, \"type\": \"pie\"}], \"scatter\": [{\"marker\": {\"colorbar\": {\"outlinewidth\": 0, \"ticks\": \"\"}}, \"type\": \"scatter\"}], \"scatter3d\": [{\"line\": {\"colorbar\": {\"outlinewidth\": 0, \"ticks\": \"\"}}, \"marker\": {\"colorbar\": {\"outlinewidth\": 0, \"ticks\": \"\"}}, \"type\": \"scatter3d\"}], \"scattercarpet\": [{\"marker\": {\"colorbar\": {\"outlinewidth\": 0, \"ticks\": \"\"}}, \"type\": \"scattercarpet\"}], \"scattergeo\": [{\"marker\": {\"colorbar\": {\"outlinewidth\": 0, \"ticks\": \"\"}}, \"type\": \"scattergeo\"}], \"scattergl\": [{\"marker\": {\"colorbar\": {\"outlinewidth\": 0, \"ticks\": \"\"}}, \"type\": \"scattergl\"}], \"scattermapbox\": [{\"marker\": {\"colorbar\": {\"outlinewidth\": 0, \"ticks\": \"\"}}, \"type\": \"scattermapbox\"}], \"scatterpolar\": [{\"marker\": {\"colorbar\": {\"outlinewidth\": 0, \"ticks\": \"\"}}, \"type\": \"scatterpolar\"}], \"scatterpolargl\": [{\"marker\": {\"colorbar\": {\"outlinewidth\": 0, \"ticks\": \"\"}}, \"type\": \"scatterpolargl\"}], \"scatterternary\": [{\"marker\": {\"colorbar\": {\"outlinewidth\": 0, \"ticks\": \"\"}}, \"type\": \"scatterternary\"}], \"surface\": [{\"colorbar\": {\"outlinewidth\": 0, \"ticks\": \"\"}, \"colorscale\": [[0.0, \"#0d0887\"], [0.1111111111111111, \"#46039f\"], [0.2222222222222222, \"#7201a8\"], [0.3333333333333333, \"#9c179e\"], [0.4444444444444444, \"#bd3786\"], [0.5555555555555556, \"#d8576b\"], [0.6666666666666666, \"#ed7953\"], [0.7777777777777778, \"#fb9f3a\"], [0.8888888888888888, \"#fdca26\"], [1.0, \"#f0f921\"]], \"type\": \"surface\"}], \"table\": [{\"cells\": {\"fill\": {\"color\": \"#EBF0F8\"}, \"line\": {\"color\": \"white\"}}, \"header\": {\"fill\": {\"color\": \"#C8D4E3\"}, \"line\": {\"color\": \"white\"}}, \"type\": \"table\"}]}, \"layout\": {\"annotationdefaults\": {\"arrowcolor\": \"#2a3f5f\", \"arrowhead\": 0, \"arrowwidth\": 1}, \"coloraxis\": {\"colorbar\": {\"outlinewidth\": 0, \"ticks\": \"\"}}, \"colorscale\": {\"diverging\": [[0, \"#8e0152\"], [0.1, \"#c51b7d\"], [0.2, \"#de77ae\"], [0.3, \"#f1b6da\"], [0.4, \"#fde0ef\"], [0.5, \"#f7f7f7\"], [0.6, \"#e6f5d0\"], [0.7, \"#b8e186\"], [0.8, \"#7fbc41\"], [0.9, \"#4d9221\"], [1, \"#276419\"]], \"sequential\": [[0.0, \"#0d0887\"], [0.1111111111111111, \"#46039f\"], [0.2222222222222222, \"#7201a8\"], [0.3333333333333333, \"#9c179e\"], [0.4444444444444444, \"#bd3786\"], [0.5555555555555556, \"#d8576b\"], [0.6666666666666666, \"#ed7953\"], [0.7777777777777778, \"#fb9f3a\"], [0.8888888888888888, \"#fdca26\"], [1.0, \"#f0f921\"]], \"sequentialminus\": [[0.0, \"#0d0887\"], [0.1111111111111111, \"#46039f\"], [0.2222222222222222, \"#7201a8\"], [0.3333333333333333, \"#9c179e\"], [0.4444444444444444, \"#bd3786\"], [0.5555555555555556, \"#d8576b\"], [0.6666666666666666, \"#ed7953\"], [0.7777777777777778, \"#fb9f3a\"], [0.8888888888888888, \"#fdca26\"], [1.0, \"#f0f921\"]]}, \"colorway\": [\"#636efa\", \"#EF553B\", \"#00cc96\", \"#ab63fa\", \"#FFA15A\", \"#19d3f3\", \"#FF6692\", \"#B6E880\", \"#FF97FF\", \"#FECB52\"], \"font\": {\"color\": \"#2a3f5f\"}, \"geo\": {\"bgcolor\": \"white\", \"lakecolor\": \"white\", \"landcolor\": \"#E5ECF6\", \"showlakes\": true, \"showland\": true, \"subunitcolor\": \"white\"}, \"hoverlabel\": {\"align\": \"left\"}, \"hovermode\": \"closest\", \"mapbox\": {\"style\": \"light\"}, \"paper_bgcolor\": \"white\", \"plot_bgcolor\": \"#E5ECF6\", \"polar\": {\"angularaxis\": {\"gridcolor\": \"white\", \"linecolor\": \"white\", \"ticks\": \"\"}, \"bgcolor\": \"#E5ECF6\", \"radialaxis\": {\"gridcolor\": \"white\", \"linecolor\": \"white\", \"ticks\": \"\"}}, \"scene\": {\"xaxis\": {\"backgroundcolor\": \"#E5ECF6\", \"gridcolor\": \"white\", \"gridwidth\": 2, \"linecolor\": \"white\", \"showbackground\": true, \"ticks\": \"\", \"zerolinecolor\": \"white\"}, \"yaxis\": {\"backgroundcolor\": \"#E5ECF6\", \"gridcolor\": \"white\", \"gridwidth\": 2, \"linecolor\": \"white\", \"showbackground\": true, \"ticks\": \"\", \"zerolinecolor\": \"white\"}, \"zaxis\": {\"backgroundcolor\": \"#E5ECF6\", \"gridcolor\": \"white\", \"gridwidth\": 2, \"linecolor\": \"white\", \"showbackground\": true, \"ticks\": \"\", \"zerolinecolor\": \"white\"}}, \"shapedefaults\": {\"line\": {\"color\": \"#2a3f5f\"}}, \"ternary\": {\"aaxis\": {\"gridcolor\": \"white\", \"linecolor\": \"white\", \"ticks\": \"\"}, \"baxis\": {\"gridcolor\": \"white\", \"linecolor\": \"white\", \"ticks\": \"\"}, \"bgcolor\": \"#E5ECF6\", \"caxis\": {\"gridcolor\": \"white\", \"linecolor\": \"white\", \"ticks\": \"\"}}, \"title\": {\"x\": 0.05}, \"xaxis\": {\"automargin\": true, \"gridcolor\": \"white\", \"linecolor\": \"white\", \"ticks\": \"\", \"title\": {\"standoff\": 15}, \"zerolinecolor\": \"white\", \"zerolinewidth\": 2}, \"yaxis\": {\"automargin\": true, \"gridcolor\": \"white\", \"linecolor\": \"white\", \"ticks\": \"\", \"title\": {\"standoff\": 15}, \"zerolinecolor\": \"white\", \"zerolinewidth\": 2}}}, \"title\": {\"font\": {\"color\": \"#4D5663\"}, \"text\": \"Topic 5: Top 100 bigrams after removing stop words\"}, \"xaxis\": {\"gridcolor\": \"#E1E5ED\", \"linecolor\": \"black\", \"showgrid\": true, \"tickfont\": {\"color\": \"#4D5663\"}, \"title\": {\"font\": {\"color\": \"#4D5663\"}, \"text\": \"\"}, \"zerolinecolor\": \"#E1E5ED\"}, \"yaxis\": {\"gridcolor\": \"#E1E5ED\", \"linecolor\": \"black\", \"showgrid\": true, \"tickfont\": {\"color\": \"#4D5663\"}, \"title\": {\"font\": {\"color\": \"#4D5663\"}, \"text\": \"Count\"}, \"zerolinecolor\": \"#E1E5ED\"}},\n",
              "                        {\"showLink\": true, \"linkText\": \"Export to plot.ly\", \"plotlyServerURL\": \"https://plot.ly\", \"responsive\": true}\n",
              "                    ).then(function(){\n",
              "                            \n",
              "var gd = document.getElementById('78aaa9dd-f0ca-4751-8923-a5dc7661cbf6');\n",
              "var x = new MutationObserver(function (mutations, observer) {{\n",
              "        var display = window.getComputedStyle(gd).display;\n",
              "        if (!display || display === 'none') {{\n",
              "            console.log([gd, 'removed!']);\n",
              "            Plotly.purge(gd);\n",
              "            observer.disconnect();\n",
              "        }}\n",
              "}});\n",
              "\n",
              "// Listen for the removal of the full notebook cells\n",
              "var notebookContainer = gd.closest('#notebook-container');\n",
              "if (notebookContainer) {{\n",
              "    x.observe(notebookContainer, {childList: true});\n",
              "}}\n",
              "\n",
              "// Listen for the clearing of the current output cell\n",
              "var outputEl = gd.closest('.output');\n",
              "if (outputEl) {{\n",
              "    x.observe(outputEl, {childList: true});\n",
              "}}\n",
              "\n",
              "                        })\n",
              "                };\n",
              "                });\n",
              "            </script>\n",
              "        </div>"
            ],
            "application/vnd.plotly.v1+json": {
              "data": [
                {
                  "name": "count",
                  "text": "",
                  "y": [
                    7,
                    7,
                    5,
                    5,
                    5,
                    5,
                    4,
                    4,
                    4,
                    3,
                    3,
                    3,
                    3,
                    3,
                    2,
                    2,
                    2,
                    2,
                    2,
                    2,
                    2,
                    2,
                    2,
                    2,
                    2,
                    2,
                    2,
                    2,
                    2,
                    2,
                    2,
                    2,
                    2,
                    2,
                    2,
                    2,
                    2,
                    2,
                    2,
                    2,
                    2,
                    2,
                    2,
                    2,
                    2,
                    2,
                    2,
                    2,
                    1,
                    1,
                    1,
                    1,
                    1,
                    1,
                    1,
                    1,
                    1,
                    1,
                    1,
                    1,
                    1,
                    1,
                    1,
                    1,
                    1,
                    1,
                    1,
                    1,
                    1,
                    1,
                    1,
                    1,
                    1,
                    1,
                    1,
                    1,
                    1,
                    1,
                    1,
                    1,
                    1,
                    1,
                    1,
                    1,
                    1,
                    1,
                    1,
                    1,
                    1,
                    1,
                    1,
                    1,
                    1,
                    1,
                    1,
                    1,
                    1,
                    1,
                    1,
                    1
                  ],
                  "marker": {
                    "color": "rgba(255, 153, 51, 0.6)",
                    "line": {
                      "color": "rgba(255, 153, 51, 1.0)",
                      "width": 1
                    }
                  },
                  "x": [
                    "nationality syrian",
                    "syrian address",
                    "address phone",
                    "current address",
                    "first name",
                    "phone number",
                    "number unknown",
                    "child carer",
                    "child safe",
                    "family friend",
                    "child family",
                    "case note",
                    "keep child",
                    "year old",
                    "establish contact",
                    "holiday provide",
                    "get married",
                    "foster care",
                    "long term",
                    "name current",
                    "family border",
                    "legal order",
                    "date birth",
                    "cooperation visit",
                    "order care",
                    "child service",
                    "child holiday",
                    "carer first",
                    "care order",
                    "care child",
                    "british legal",
                    "birth current",
                    "attack area",
                    "address nationality",
                    "contact father",
                    "abuse social",
                    "travel carer",
                    "regard suitability",
                    "terrorist attack",
                    "person involve",
                    "social report",
                    "parental responsibility",
                    "unknown nationality",
                    "unknown unknown",
                    "suitability accommodation",
                    "several time",
                    "white british",
                    "safe time",
                    "conflict former",
                    "situation person",
                    "separation national",
                    "currently live",
                    "start daughter",
                    "statement origin",
                    "confidential father",
                    "order facilitate",
                    "child currently",
                    "syrian child",
                    "email background",
                    "turn go",
                    "unknown mother",
                    "background information",
                    "avoid conflict",
                    "unknown youssef",
                    "assistance regard",
                    "also provide",
                    "wife nationality",
                    "address confidential",
                    "daughter turn",
                    "ensure possible",
                    "encounter separation",
                    "order avoid",
                    "old syrian",
                    "origin assistance",
                    "number email",
                    "note statement",
                    "parent encounter",
                    "national get",
                    "parent run",
                    "mother nationality",
                    "month start",
                    "married month",
                    "live order",
                    "possible reunification",
                    "involve nationality",
                    "information parent",
                    "provide social",
                    "go parent",
                    "regard year",
                    "former wife",
                    "report family",
                    "father request",
                    "father ensure",
                    "family situation",
                    "request order",
                    "reunification also",
                    "facilitate establishment",
                    "establishment contact",
                    "run away",
                    "youssef nationality"
                  ],
                  "type": "bar",
                  "orientation": "v"
                }
              ],
              "config": {
                "plotlyServerURL": "https://plot.ly",
                "linkText": "Export to plot.ly",
                "showLink": true
              },
              "layout": {
                "template": {
                  "layout": {
                    "shapedefaults": {
                      "line": {
                        "color": "#2a3f5f"
                      }
                    },
                    "polar": {
                      "radialaxis": {
                        "ticks": "",
                        "gridcolor": "white",
                        "linecolor": "white"
                      },
                      "bgcolor": "#E5ECF6",
                      "angularaxis": {
                        "ticks": "",
                        "gridcolor": "white",
                        "linecolor": "white"
                      }
                    },
                    "colorway": [
                      "#636efa",
                      "#EF553B",
                      "#00cc96",
                      "#ab63fa",
                      "#FFA15A",
                      "#19d3f3",
                      "#FF6692",
                      "#B6E880",
                      "#FF97FF",
                      "#FECB52"
                    ],
                    "xaxis": {
                      "automargin": true,
                      "title": {
                        "standoff": 15
                      },
                      "zerolinewidth": 2,
                      "ticks": "",
                      "zerolinecolor": "white",
                      "gridcolor": "white",
                      "linecolor": "white"
                    },
                    "colorscale": {
                      "diverging": [
                        [
                          0,
                          "#8e0152"
                        ],
                        [
                          0.1,
                          "#c51b7d"
                        ],
                        [
                          0.2,
                          "#de77ae"
                        ],
                        [
                          0.3,
                          "#f1b6da"
                        ],
                        [
                          0.4,
                          "#fde0ef"
                        ],
                        [
                          0.5,
                          "#f7f7f7"
                        ],
                        [
                          0.6,
                          "#e6f5d0"
                        ],
                        [
                          0.7,
                          "#b8e186"
                        ],
                        [
                          0.8,
                          "#7fbc41"
                        ],
                        [
                          0.9,
                          "#4d9221"
                        ],
                        [
                          1,
                          "#276419"
                        ]
                      ],
                      "sequential": [
                        [
                          0,
                          "#0d0887"
                        ],
                        [
                          0.1111111111111111,
                          "#46039f"
                        ],
                        [
                          0.2222222222222222,
                          "#7201a8"
                        ],
                        [
                          0.3333333333333333,
                          "#9c179e"
                        ],
                        [
                          0.4444444444444444,
                          "#bd3786"
                        ],
                        [
                          0.5555555555555556,
                          "#d8576b"
                        ],
                        [
                          0.6666666666666666,
                          "#ed7953"
                        ],
                        [
                          0.7777777777777778,
                          "#fb9f3a"
                        ],
                        [
                          0.8888888888888888,
                          "#fdca26"
                        ],
                        [
                          1,
                          "#f0f921"
                        ]
                      ],
                      "sequentialminus": [
                        [
                          0,
                          "#0d0887"
                        ],
                        [
                          0.1111111111111111,
                          "#46039f"
                        ],
                        [
                          0.2222222222222222,
                          "#7201a8"
                        ],
                        [
                          0.3333333333333333,
                          "#9c179e"
                        ],
                        [
                          0.4444444444444444,
                          "#bd3786"
                        ],
                        [
                          0.5555555555555556,
                          "#d8576b"
                        ],
                        [
                          0.6666666666666666,
                          "#ed7953"
                        ],
                        [
                          0.7777777777777778,
                          "#fb9f3a"
                        ],
                        [
                          0.8888888888888888,
                          "#fdca26"
                        ],
                        [
                          1,
                          "#f0f921"
                        ]
                      ]
                    },
                    "paper_bgcolor": "white",
                    "plot_bgcolor": "#E5ECF6",
                    "title": {
                      "x": 0.05
                    },
                    "scene": {
                      "zaxis": {
                        "backgroundcolor": "#E5ECF6",
                        "ticks": "",
                        "gridwidth": 2,
                        "showbackground": true,
                        "zerolinecolor": "white",
                        "gridcolor": "white",
                        "linecolor": "white"
                      },
                      "xaxis": {
                        "backgroundcolor": "#E5ECF6",
                        "ticks": "",
                        "gridwidth": 2,
                        "showbackground": true,
                        "zerolinecolor": "white",
                        "gridcolor": "white",
                        "linecolor": "white"
                      },
                      "yaxis": {
                        "backgroundcolor": "#E5ECF6",
                        "ticks": "",
                        "gridwidth": 2,
                        "showbackground": true,
                        "zerolinecolor": "white",
                        "gridcolor": "white",
                        "linecolor": "white"
                      }
                    },
                    "yaxis": {
                      "automargin": true,
                      "title": {
                        "standoff": 15
                      },
                      "zerolinewidth": 2,
                      "ticks": "",
                      "zerolinecolor": "white",
                      "gridcolor": "white",
                      "linecolor": "white"
                    },
                    "annotationdefaults": {
                      "arrowwidth": 1,
                      "arrowhead": 0,
                      "arrowcolor": "#2a3f5f"
                    },
                    "hoverlabel": {
                      "align": "left"
                    },
                    "ternary": {
                      "bgcolor": "#E5ECF6",
                      "baxis": {
                        "ticks": "",
                        "gridcolor": "white",
                        "linecolor": "white"
                      },
                      "caxis": {
                        "ticks": "",
                        "gridcolor": "white",
                        "linecolor": "white"
                      },
                      "aaxis": {
                        "ticks": "",
                        "gridcolor": "white",
                        "linecolor": "white"
                      }
                    },
                    "mapbox": {
                      "style": "light"
                    },
                    "hovermode": "closest",
                    "font": {
                      "color": "#2a3f5f"
                    },
                    "geo": {
                      "showland": true,
                      "landcolor": "#E5ECF6",
                      "showlakes": true,
                      "bgcolor": "white",
                      "subunitcolor": "white",
                      "lakecolor": "white"
                    },
                    "coloraxis": {
                      "colorbar": {
                        "outlinewidth": 0,
                        "ticks": ""
                      }
                    }
                  },
                  "data": {
                    "mesh3d": [
                      {
                        "colorbar": {
                          "outlinewidth": 0,
                          "ticks": ""
                        },
                        "type": "mesh3d"
                      }
                    ],
                    "scattercarpet": [
                      {
                        "marker": {
                          "colorbar": {
                            "outlinewidth": 0,
                            "ticks": ""
                          }
                        },
                        "type": "scattercarpet"
                      }
                    ],
                    "pie": [
                      {
                        "automargin": true,
                        "type": "pie"
                      }
                    ],
                    "surface": [
                      {
                        "colorbar": {
                          "outlinewidth": 0,
                          "ticks": ""
                        },
                        "type": "surface",
                        "colorscale": [
                          [
                            0,
                            "#0d0887"
                          ],
                          [
                            0.1111111111111111,
                            "#46039f"
                          ],
                          [
                            0.2222222222222222,
                            "#7201a8"
                          ],
                          [
                            0.3333333333333333,
                            "#9c179e"
                          ],
                          [
                            0.4444444444444444,
                            "#bd3786"
                          ],
                          [
                            0.5555555555555556,
                            "#d8576b"
                          ],
                          [
                            0.6666666666666666,
                            "#ed7953"
                          ],
                          [
                            0.7777777777777778,
                            "#fb9f3a"
                          ],
                          [
                            0.8888888888888888,
                            "#fdca26"
                          ],
                          [
                            1,
                            "#f0f921"
                          ]
                        ]
                      }
                    ],
                    "table": [
                      {
                        "header": {
                          "line": {
                            "color": "white"
                          },
                          "fill": {
                            "color": "#C8D4E3"
                          }
                        },
                        "cells": {
                          "line": {
                            "color": "white"
                          },
                          "fill": {
                            "color": "#EBF0F8"
                          }
                        },
                        "type": "table"
                      }
                    ],
                    "scatterpolargl": [
                      {
                        "marker": {
                          "colorbar": {
                            "outlinewidth": 0,
                            "ticks": ""
                          }
                        },
                        "type": "scatterpolargl"
                      }
                    ],
                    "contour": [
                      {
                        "colorbar": {
                          "outlinewidth": 0,
                          "ticks": ""
                        },
                        "type": "contour",
                        "colorscale": [
                          [
                            0,
                            "#0d0887"
                          ],
                          [
                            0.1111111111111111,
                            "#46039f"
                          ],
                          [
                            0.2222222222222222,
                            "#7201a8"
                          ],
                          [
                            0.3333333333333333,
                            "#9c179e"
                          ],
                          [
                            0.4444444444444444,
                            "#bd3786"
                          ],
                          [
                            0.5555555555555556,
                            "#d8576b"
                          ],
                          [
                            0.6666666666666666,
                            "#ed7953"
                          ],
                          [
                            0.7777777777777778,
                            "#fb9f3a"
                          ],
                          [
                            0.8888888888888888,
                            "#fdca26"
                          ],
                          [
                            1,
                            "#f0f921"
                          ]
                        ]
                      }
                    ],
                    "carpet": [
                      {
                        "type": "carpet",
                        "baxis": {
                          "minorgridcolor": "white",
                          "gridcolor": "white",
                          "linecolor": "white",
                          "endlinecolor": "#2a3f5f",
                          "startlinecolor": "#2a3f5f"
                        },
                        "aaxis": {
                          "minorgridcolor": "white",
                          "gridcolor": "white",
                          "linecolor": "white",
                          "endlinecolor": "#2a3f5f",
                          "startlinecolor": "#2a3f5f"
                        }
                      }
                    ],
                    "contourcarpet": [
                      {
                        "colorbar": {
                          "outlinewidth": 0,
                          "ticks": ""
                        },
                        "type": "contourcarpet"
                      }
                    ],
                    "heatmap": [
                      {
                        "colorbar": {
                          "outlinewidth": 0,
                          "ticks": ""
                        },
                        "type": "heatmap",
                        "colorscale": [
                          [
                            0,
                            "#0d0887"
                          ],
                          [
                            0.1111111111111111,
                            "#46039f"
                          ],
                          [
                            0.2222222222222222,
                            "#7201a8"
                          ],
                          [
                            0.3333333333333333,
                            "#9c179e"
                          ],
                          [
                            0.4444444444444444,
                            "#bd3786"
                          ],
                          [
                            0.5555555555555556,
                            "#d8576b"
                          ],
                          [
                            0.6666666666666666,
                            "#ed7953"
                          ],
                          [
                            0.7777777777777778,
                            "#fb9f3a"
                          ],
                          [
                            0.8888888888888888,
                            "#fdca26"
                          ],
                          [
                            1,
                            "#f0f921"
                          ]
                        ]
                      }
                    ],
                    "scattermapbox": [
                      {
                        "marker": {
                          "colorbar": {
                            "outlinewidth": 0,
                            "ticks": ""
                          }
                        },
                        "type": "scattermapbox"
                      }
                    ],
                    "scatter3d": [
                      {
                        "marker": {
                          "colorbar": {
                            "outlinewidth": 0,
                            "ticks": ""
                          }
                        },
                        "line": {
                          "colorbar": {
                            "outlinewidth": 0,
                            "ticks": ""
                          }
                        },
                        "type": "scatter3d"
                      }
                    ],
                    "scattergl": [
                      {
                        "marker": {
                          "colorbar": {
                            "outlinewidth": 0,
                            "ticks": ""
                          }
                        },
                        "type": "scattergl"
                      }
                    ],
                    "scatterternary": [
                      {
                        "marker": {
                          "colorbar": {
                            "outlinewidth": 0,
                            "ticks": ""
                          }
                        },
                        "type": "scatterternary"
                      }
                    ],
                    "histogram": [
                      {
                        "marker": {
                          "colorbar": {
                            "outlinewidth": 0,
                            "ticks": ""
                          }
                        },
                        "type": "histogram"
                      }
                    ],
                    "heatmapgl": [
                      {
                        "colorbar": {
                          "outlinewidth": 0,
                          "ticks": ""
                        },
                        "type": "heatmapgl",
                        "colorscale": [
                          [
                            0,
                            "#0d0887"
                          ],
                          [
                            0.1111111111111111,
                            "#46039f"
                          ],
                          [
                            0.2222222222222222,
                            "#7201a8"
                          ],
                          [
                            0.3333333333333333,
                            "#9c179e"
                          ],
                          [
                            0.4444444444444444,
                            "#bd3786"
                          ],
                          [
                            0.5555555555555556,
                            "#d8576b"
                          ],
                          [
                            0.6666666666666666,
                            "#ed7953"
                          ],
                          [
                            0.7777777777777778,
                            "#fb9f3a"
                          ],
                          [
                            0.8888888888888888,
                            "#fdca26"
                          ],
                          [
                            1,
                            "#f0f921"
                          ]
                        ]
                      }
                    ],
                    "scatterpolar": [
                      {
                        "marker": {
                          "colorbar": {
                            "outlinewidth": 0,
                            "ticks": ""
                          }
                        },
                        "type": "scatterpolar"
                      }
                    ],
                    "histogram2d": [
                      {
                        "colorbar": {
                          "outlinewidth": 0,
                          "ticks": ""
                        },
                        "type": "histogram2d",
                        "colorscale": [
                          [
                            0,
                            "#0d0887"
                          ],
                          [
                            0.1111111111111111,
                            "#46039f"
                          ],
                          [
                            0.2222222222222222,
                            "#7201a8"
                          ],
                          [
                            0.3333333333333333,
                            "#9c179e"
                          ],
                          [
                            0.4444444444444444,
                            "#bd3786"
                          ],
                          [
                            0.5555555555555556,
                            "#d8576b"
                          ],
                          [
                            0.6666666666666666,
                            "#ed7953"
                          ],
                          [
                            0.7777777777777778,
                            "#fb9f3a"
                          ],
                          [
                            0.8888888888888888,
                            "#fdca26"
                          ],
                          [
                            1,
                            "#f0f921"
                          ]
                        ]
                      }
                    ],
                    "scattergeo": [
                      {
                        "marker": {
                          "colorbar": {
                            "outlinewidth": 0,
                            "ticks": ""
                          }
                        },
                        "type": "scattergeo"
                      }
                    ],
                    "bar": [
                      {
                        "marker": {
                          "line": {
                            "color": "#E5ECF6",
                            "width": 0.5
                          }
                        },
                        "type": "bar",
                        "error_x": {
                          "color": "#2a3f5f"
                        },
                        "error_y": {
                          "color": "#2a3f5f"
                        }
                      }
                    ],
                    "choropleth": [
                      {
                        "colorbar": {
                          "outlinewidth": 0,
                          "ticks": ""
                        },
                        "type": "choropleth"
                      }
                    ],
                    "parcoords": [
                      {
                        "line": {
                          "colorbar": {
                            "outlinewidth": 0,
                            "ticks": ""
                          }
                        },
                        "type": "parcoords"
                      }
                    ],
                    "barpolar": [
                      {
                        "marker": {
                          "line": {
                            "color": "#E5ECF6",
                            "width": 0.5
                          }
                        },
                        "type": "barpolar"
                      }
                    ],
                    "histogram2dcontour": [
                      {
                        "colorbar": {
                          "outlinewidth": 0,
                          "ticks": ""
                        },
                        "type": "histogram2dcontour",
                        "colorscale": [
                          [
                            0,
                            "#0d0887"
                          ],
                          [
                            0.1111111111111111,
                            "#46039f"
                          ],
                          [
                            0.2222222222222222,
                            "#7201a8"
                          ],
                          [
                            0.3333333333333333,
                            "#9c179e"
                          ],
                          [
                            0.4444444444444444,
                            "#bd3786"
                          ],
                          [
                            0.5555555555555556,
                            "#d8576b"
                          ],
                          [
                            0.6666666666666666,
                            "#ed7953"
                          ],
                          [
                            0.7777777777777778,
                            "#fb9f3a"
                          ],
                          [
                            0.8888888888888888,
                            "#fdca26"
                          ],
                          [
                            1,
                            "#f0f921"
                          ]
                        ]
                      }
                    ],
                    "scatter": [
                      {
                        "marker": {
                          "colorbar": {
                            "outlinewidth": 0,
                            "ticks": ""
                          }
                        },
                        "type": "scatter"
                      }
                    ]
                  }
                },
                "title": {
                  "text": "Topic 5: Top 100 bigrams after removing stop words",
                  "font": {
                    "color": "#4D5663"
                  }
                },
                "paper_bgcolor": "#F5F6F9",
                "plot_bgcolor": "#F5F6F9",
                "yaxis": {
                  "tickfont": {
                    "color": "#4D5663"
                  },
                  "title": {
                    "text": "Count",
                    "font": {
                      "color": "#4D5663"
                    }
                  },
                  "showgrid": true,
                  "zerolinecolor": "#E1E5ED",
                  "gridcolor": "#E1E5ED",
                  "linecolor": "black"
                },
                "xaxis": {
                  "tickfont": {
                    "color": "#4D5663"
                  },
                  "title": {
                    "text": "",
                    "font": {
                      "color": "#4D5663"
                    }
                  },
                  "showgrid": true,
                  "zerolinecolor": "#E1E5ED",
                  "gridcolor": "#E1E5ED",
                  "linecolor": "black"
                },
                "legend": {
                  "bgcolor": "#F5F6F9",
                  "font": {
                    "color": "#4D5663"
                  }
                }
              }
            }
          },
          "metadata": {
            "tags": []
          }
        },
        {
          "output_type": "display_data",
          "data": {
            "text/html": [
              "        <script type=\"text/javascript\">\n",
              "        window.PlotlyConfig = {MathJaxConfig: 'local'};\n",
              "        if (window.MathJax) {MathJax.Hub.Config({SVG: {font: \"STIX-Web\"}});}\n",
              "        if (typeof require !== 'undefined') {\n",
              "        require.undef(\"plotly\");\n",
              "        requirejs.config({\n",
              "            paths: {\n",
              "                'plotly': ['https://cdn.plot.ly/plotly-latest.min']\n",
              "            }\n",
              "        });\n",
              "        require(['plotly'], function(Plotly) {\n",
              "            window._Plotly = Plotly;\n",
              "        });\n",
              "        }\n",
              "        </script>\n",
              "        "
            ]
          },
          "metadata": {
            "tags": []
          }
        },
        {
          "output_type": "display_data",
          "data": {
            "text/html": [
              "<div>\n",
              "        \n",
              "        \n",
              "            <div id=\"72461220-af43-49f7-b7be-af40c157230f\" class=\"plotly-graph-div\" style=\"height:525px; width:100%;\"></div>\n",
              "            <script type=\"text/javascript\">\n",
              "                require([\"plotly\"], function(Plotly) {\n",
              "                    window.PLOTLYENV=window.PLOTLYENV || {};\n",
              "                    window.PLOTLYENV.BASE_URL='https://plot.ly';\n",
              "                    \n",
              "                if (document.getElementById(\"72461220-af43-49f7-b7be-af40c157230f\")) {\n",
              "                    Plotly.newPlot(\n",
              "                        '72461220-af43-49f7-b7be-af40c157230f',\n",
              "                        [{\"marker\": {\"color\": \"rgba(255, 153, 51, 0.6)\", \"line\": {\"color\": \"rgba(255, 153, 51, 1.0)\", \"width\": 1}}, \"name\": \"count\", \"orientation\": \"v\", \"text\": \"\", \"type\": \"bar\", \"x\": [\"nationality syrian address\", \"syrian address phone\", \"address phone number\", \"phone number unknown\", \"keep child safe\", \"date birth current\", \"order care order\", \"number unknown unknown\", \"first name current\", \"child safe time\", \"child family border\", \"carer first name\", \"birth current address\", \"british legal order\", \"name current address\", \"legal order care\", \"white british legal\", \"unknown nationality syrian\", \"unknown unknown nationality\", \"information parent encounter\", \"facilitate establishment contact\", \"family situation person\", \"involve nationality syrian\", \"family turkey hence\", \"father request order\", \"father ensure possible\", \"get married month\", \"hence visit month\", \"go parent run\", \"former wife nationality\", \"go live family\", \"ensure possible reunification\", \"establishment contact father\", \"youssef nationality syrian\", \"encounter separation national\", \"case note statement\", \"address confidential father\", \"address nationality syrian\", \"also provide social\", \"ask wife daughter\", \"assistance regard year\", \"avoid conflict former\", \"away syrian conflict\", \"background information parent\", \"child currently live\", \"email background information\", \"confidential father request\", \"conflict former wife\", \"conflict lecturer due\", \"contact father ensure\", \"currently live order\", \"daughter turn go\", \"departure visit ask\", \"due job able\", \"job able go\", \"married month start\", \"lecturer due job\", \"live family turkey\", \"request order avoid\", \"reunification also provide\", \"run away syrian\", \"separation national get\", \"situation person involve\", \"social report family\", \"start daughter turn\", \"statement origin assistance\", \"syrian address confidential\", \"syrian address nationality\", \"syrian child currently\", \"syrian conflict lecturer\", \"turkey hence visit\", \"turn go parent\", \"unknown mother nationality\", \"unknown youssef nationality\", \"visit ask wife\", \"visit month departure\", \"wife nationality syrian\", \"report family situation\", \"regard year old\", \"provide social report\", \"number unknown mother\", \"live order facilitate\", \"year old syrian\", \"month departure visit\", \"month start daughter\", \"mother nationality syrian\", \"national get married\", \"note statement origin\", \"number email background\", \"number unknown youssef\", \"possible reunification also\", \"old syrian child\", \"order avoid conflict\", \"order facilitate establishment\", \"origin assistance regard\", \"parent encounter separation\", \"parent run away\", \"person involve nationality\", \"phone number email\", \"able go live\"], \"y\": [7, 5, 5, 4, 3, 2, 2, 2, 2, 2, 2, 2, 2, 2, 2, 2, 2, 2, 2, 1, 1, 1, 1, 1, 1, 1, 1, 1, 1, 1, 1, 1, 1, 1, 1, 1, 1, 1, 1, 1, 1, 1, 1, 1, 1, 1, 1, 1, 1, 1, 1, 1, 1, 1, 1, 1, 1, 1, 1, 1, 1, 1, 1, 1, 1, 1, 1, 1, 1, 1, 1, 1, 1, 1, 1, 1, 1, 1, 1, 1, 1, 1, 1, 1, 1, 1, 1, 1, 1, 1, 1, 1, 1, 1, 1, 1, 1, 1, 1, 1]}],\n",
              "                        {\"legend\": {\"bgcolor\": \"#F5F6F9\", \"font\": {\"color\": \"#4D5663\"}}, \"paper_bgcolor\": \"#F5F6F9\", \"plot_bgcolor\": \"#F5F6F9\", \"template\": {\"data\": {\"bar\": [{\"error_x\": {\"color\": \"#2a3f5f\"}, \"error_y\": {\"color\": \"#2a3f5f\"}, \"marker\": {\"line\": {\"color\": \"#E5ECF6\", \"width\": 0.5}}, \"type\": \"bar\"}], \"barpolar\": [{\"marker\": {\"line\": {\"color\": \"#E5ECF6\", \"width\": 0.5}}, \"type\": \"barpolar\"}], \"carpet\": [{\"aaxis\": {\"endlinecolor\": \"#2a3f5f\", \"gridcolor\": \"white\", \"linecolor\": \"white\", \"minorgridcolor\": \"white\", \"startlinecolor\": \"#2a3f5f\"}, \"baxis\": {\"endlinecolor\": \"#2a3f5f\", \"gridcolor\": \"white\", \"linecolor\": \"white\", \"minorgridcolor\": \"white\", \"startlinecolor\": \"#2a3f5f\"}, \"type\": \"carpet\"}], \"choropleth\": [{\"colorbar\": {\"outlinewidth\": 0, \"ticks\": \"\"}, \"type\": \"choropleth\"}], \"contour\": [{\"colorbar\": {\"outlinewidth\": 0, \"ticks\": \"\"}, \"colorscale\": [[0.0, \"#0d0887\"], [0.1111111111111111, \"#46039f\"], [0.2222222222222222, \"#7201a8\"], [0.3333333333333333, \"#9c179e\"], [0.4444444444444444, \"#bd3786\"], [0.5555555555555556, \"#d8576b\"], [0.6666666666666666, \"#ed7953\"], [0.7777777777777778, \"#fb9f3a\"], [0.8888888888888888, \"#fdca26\"], [1.0, \"#f0f921\"]], \"type\": \"contour\"}], \"contourcarpet\": [{\"colorbar\": {\"outlinewidth\": 0, \"ticks\": \"\"}, \"type\": \"contourcarpet\"}], \"heatmap\": [{\"colorbar\": {\"outlinewidth\": 0, \"ticks\": \"\"}, \"colorscale\": [[0.0, \"#0d0887\"], [0.1111111111111111, \"#46039f\"], [0.2222222222222222, \"#7201a8\"], [0.3333333333333333, \"#9c179e\"], [0.4444444444444444, \"#bd3786\"], [0.5555555555555556, \"#d8576b\"], [0.6666666666666666, \"#ed7953\"], [0.7777777777777778, \"#fb9f3a\"], [0.8888888888888888, \"#fdca26\"], [1.0, \"#f0f921\"]], \"type\": \"heatmap\"}], \"heatmapgl\": [{\"colorbar\": {\"outlinewidth\": 0, \"ticks\": \"\"}, \"colorscale\": [[0.0, \"#0d0887\"], [0.1111111111111111, \"#46039f\"], [0.2222222222222222, \"#7201a8\"], [0.3333333333333333, \"#9c179e\"], [0.4444444444444444, \"#bd3786\"], [0.5555555555555556, \"#d8576b\"], [0.6666666666666666, \"#ed7953\"], [0.7777777777777778, \"#fb9f3a\"], [0.8888888888888888, \"#fdca26\"], [1.0, \"#f0f921\"]], \"type\": \"heatmapgl\"}], \"histogram\": [{\"marker\": {\"colorbar\": {\"outlinewidth\": 0, \"ticks\": \"\"}}, \"type\": \"histogram\"}], \"histogram2d\": [{\"colorbar\": {\"outlinewidth\": 0, \"ticks\": \"\"}, \"colorscale\": [[0.0, \"#0d0887\"], [0.1111111111111111, \"#46039f\"], [0.2222222222222222, \"#7201a8\"], [0.3333333333333333, \"#9c179e\"], [0.4444444444444444, \"#bd3786\"], [0.5555555555555556, \"#d8576b\"], [0.6666666666666666, \"#ed7953\"], [0.7777777777777778, \"#fb9f3a\"], [0.8888888888888888, \"#fdca26\"], [1.0, \"#f0f921\"]], \"type\": \"histogram2d\"}], \"histogram2dcontour\": [{\"colorbar\": {\"outlinewidth\": 0, \"ticks\": \"\"}, \"colorscale\": [[0.0, \"#0d0887\"], [0.1111111111111111, \"#46039f\"], [0.2222222222222222, \"#7201a8\"], [0.3333333333333333, \"#9c179e\"], [0.4444444444444444, \"#bd3786\"], [0.5555555555555556, \"#d8576b\"], [0.6666666666666666, \"#ed7953\"], [0.7777777777777778, \"#fb9f3a\"], [0.8888888888888888, \"#fdca26\"], [1.0, \"#f0f921\"]], \"type\": \"histogram2dcontour\"}], \"mesh3d\": [{\"colorbar\": {\"outlinewidth\": 0, \"ticks\": \"\"}, \"type\": \"mesh3d\"}], \"parcoords\": [{\"line\": {\"colorbar\": {\"outlinewidth\": 0, \"ticks\": \"\"}}, \"type\": \"parcoords\"}], \"pie\": [{\"automargin\": true, \"type\": \"pie\"}], \"scatter\": [{\"marker\": {\"colorbar\": {\"outlinewidth\": 0, \"ticks\": \"\"}}, \"type\": \"scatter\"}], \"scatter3d\": [{\"line\": {\"colorbar\": {\"outlinewidth\": 0, \"ticks\": \"\"}}, \"marker\": {\"colorbar\": {\"outlinewidth\": 0, \"ticks\": \"\"}}, \"type\": \"scatter3d\"}], \"scattercarpet\": [{\"marker\": {\"colorbar\": {\"outlinewidth\": 0, \"ticks\": \"\"}}, \"type\": \"scattercarpet\"}], \"scattergeo\": [{\"marker\": {\"colorbar\": {\"outlinewidth\": 0, \"ticks\": \"\"}}, \"type\": \"scattergeo\"}], \"scattergl\": [{\"marker\": {\"colorbar\": {\"outlinewidth\": 0, \"ticks\": \"\"}}, \"type\": \"scattergl\"}], \"scattermapbox\": [{\"marker\": {\"colorbar\": {\"outlinewidth\": 0, \"ticks\": \"\"}}, \"type\": \"scattermapbox\"}], \"scatterpolar\": [{\"marker\": {\"colorbar\": {\"outlinewidth\": 0, \"ticks\": \"\"}}, \"type\": \"scatterpolar\"}], \"scatterpolargl\": [{\"marker\": {\"colorbar\": {\"outlinewidth\": 0, \"ticks\": \"\"}}, \"type\": \"scatterpolargl\"}], \"scatterternary\": [{\"marker\": {\"colorbar\": {\"outlinewidth\": 0, \"ticks\": \"\"}}, \"type\": \"scatterternary\"}], \"surface\": [{\"colorbar\": {\"outlinewidth\": 0, \"ticks\": \"\"}, \"colorscale\": [[0.0, \"#0d0887\"], [0.1111111111111111, \"#46039f\"], [0.2222222222222222, \"#7201a8\"], [0.3333333333333333, \"#9c179e\"], [0.4444444444444444, \"#bd3786\"], [0.5555555555555556, \"#d8576b\"], [0.6666666666666666, \"#ed7953\"], [0.7777777777777778, \"#fb9f3a\"], [0.8888888888888888, \"#fdca26\"], [1.0, \"#f0f921\"]], \"type\": \"surface\"}], \"table\": [{\"cells\": {\"fill\": {\"color\": \"#EBF0F8\"}, \"line\": {\"color\": \"white\"}}, \"header\": {\"fill\": {\"color\": \"#C8D4E3\"}, \"line\": {\"color\": \"white\"}}, \"type\": \"table\"}]}, \"layout\": {\"annotationdefaults\": {\"arrowcolor\": \"#2a3f5f\", \"arrowhead\": 0, \"arrowwidth\": 1}, \"coloraxis\": {\"colorbar\": {\"outlinewidth\": 0, \"ticks\": \"\"}}, \"colorscale\": {\"diverging\": [[0, \"#8e0152\"], [0.1, \"#c51b7d\"], [0.2, \"#de77ae\"], [0.3, \"#f1b6da\"], [0.4, \"#fde0ef\"], [0.5, \"#f7f7f7\"], [0.6, \"#e6f5d0\"], [0.7, \"#b8e186\"], [0.8, \"#7fbc41\"], [0.9, \"#4d9221\"], [1, \"#276419\"]], \"sequential\": [[0.0, \"#0d0887\"], [0.1111111111111111, \"#46039f\"], [0.2222222222222222, \"#7201a8\"], [0.3333333333333333, \"#9c179e\"], [0.4444444444444444, \"#bd3786\"], [0.5555555555555556, \"#d8576b\"], [0.6666666666666666, \"#ed7953\"], [0.7777777777777778, \"#fb9f3a\"], [0.8888888888888888, \"#fdca26\"], [1.0, \"#f0f921\"]], \"sequentialminus\": [[0.0, \"#0d0887\"], [0.1111111111111111, \"#46039f\"], [0.2222222222222222, \"#7201a8\"], [0.3333333333333333, \"#9c179e\"], [0.4444444444444444, \"#bd3786\"], [0.5555555555555556, \"#d8576b\"], [0.6666666666666666, \"#ed7953\"], [0.7777777777777778, \"#fb9f3a\"], [0.8888888888888888, \"#fdca26\"], [1.0, \"#f0f921\"]]}, \"colorway\": [\"#636efa\", \"#EF553B\", \"#00cc96\", \"#ab63fa\", \"#FFA15A\", \"#19d3f3\", \"#FF6692\", \"#B6E880\", \"#FF97FF\", \"#FECB52\"], \"font\": {\"color\": \"#2a3f5f\"}, \"geo\": {\"bgcolor\": \"white\", \"lakecolor\": \"white\", \"landcolor\": \"#E5ECF6\", \"showlakes\": true, \"showland\": true, \"subunitcolor\": \"white\"}, \"hoverlabel\": {\"align\": \"left\"}, \"hovermode\": \"closest\", \"mapbox\": {\"style\": \"light\"}, \"paper_bgcolor\": \"white\", \"plot_bgcolor\": \"#E5ECF6\", \"polar\": {\"angularaxis\": {\"gridcolor\": \"white\", \"linecolor\": \"white\", \"ticks\": \"\"}, \"bgcolor\": \"#E5ECF6\", \"radialaxis\": {\"gridcolor\": \"white\", \"linecolor\": \"white\", \"ticks\": \"\"}}, \"scene\": {\"xaxis\": {\"backgroundcolor\": \"#E5ECF6\", \"gridcolor\": \"white\", \"gridwidth\": 2, \"linecolor\": \"white\", \"showbackground\": true, \"ticks\": \"\", \"zerolinecolor\": \"white\"}, \"yaxis\": {\"backgroundcolor\": \"#E5ECF6\", \"gridcolor\": \"white\", \"gridwidth\": 2, \"linecolor\": \"white\", \"showbackground\": true, \"ticks\": \"\", \"zerolinecolor\": \"white\"}, \"zaxis\": {\"backgroundcolor\": \"#E5ECF6\", \"gridcolor\": \"white\", \"gridwidth\": 2, \"linecolor\": \"white\", \"showbackground\": true, \"ticks\": \"\", \"zerolinecolor\": \"white\"}}, \"shapedefaults\": {\"line\": {\"color\": \"#2a3f5f\"}}, \"ternary\": {\"aaxis\": {\"gridcolor\": \"white\", \"linecolor\": \"white\", \"ticks\": \"\"}, \"baxis\": {\"gridcolor\": \"white\", \"linecolor\": \"white\", \"ticks\": \"\"}, \"bgcolor\": \"#E5ECF6\", \"caxis\": {\"gridcolor\": \"white\", \"linecolor\": \"white\", \"ticks\": \"\"}}, \"title\": {\"x\": 0.05}, \"xaxis\": {\"automargin\": true, \"gridcolor\": \"white\", \"linecolor\": \"white\", \"ticks\": \"\", \"title\": {\"standoff\": 15}, \"zerolinecolor\": \"white\", \"zerolinewidth\": 2}, \"yaxis\": {\"automargin\": true, \"gridcolor\": \"white\", \"linecolor\": \"white\", \"ticks\": \"\", \"title\": {\"standoff\": 15}, \"zerolinecolor\": \"white\", \"zerolinewidth\": 2}}}, \"title\": {\"font\": {\"color\": \"#4D5663\"}, \"text\": \"Topic 5: Top 100 trigrams after removing stop words\"}, \"xaxis\": {\"gridcolor\": \"#E1E5ED\", \"linecolor\": \"black\", \"showgrid\": true, \"tickfont\": {\"color\": \"#4D5663\"}, \"title\": {\"font\": {\"color\": \"#4D5663\"}, \"text\": \"\"}, \"zerolinecolor\": \"#E1E5ED\"}, \"yaxis\": {\"gridcolor\": \"#E1E5ED\", \"linecolor\": \"black\", \"showgrid\": true, \"tickfont\": {\"color\": \"#4D5663\"}, \"title\": {\"font\": {\"color\": \"#4D5663\"}, \"text\": \"Count\"}, \"zerolinecolor\": \"#E1E5ED\"}},\n",
              "                        {\"showLink\": true, \"linkText\": \"Export to plot.ly\", \"plotlyServerURL\": \"https://plot.ly\", \"responsive\": true}\n",
              "                    ).then(function(){\n",
              "                            \n",
              "var gd = document.getElementById('72461220-af43-49f7-b7be-af40c157230f');\n",
              "var x = new MutationObserver(function (mutations, observer) {{\n",
              "        var display = window.getComputedStyle(gd).display;\n",
              "        if (!display || display === 'none') {{\n",
              "            console.log([gd, 'removed!']);\n",
              "            Plotly.purge(gd);\n",
              "            observer.disconnect();\n",
              "        }}\n",
              "}});\n",
              "\n",
              "// Listen for the removal of the full notebook cells\n",
              "var notebookContainer = gd.closest('#notebook-container');\n",
              "if (notebookContainer) {{\n",
              "    x.observe(notebookContainer, {childList: true});\n",
              "}}\n",
              "\n",
              "// Listen for the clearing of the current output cell\n",
              "var outputEl = gd.closest('.output');\n",
              "if (outputEl) {{\n",
              "    x.observe(outputEl, {childList: true});\n",
              "}}\n",
              "\n",
              "                        })\n",
              "                };\n",
              "                });\n",
              "            </script>\n",
              "        </div>"
            ],
            "application/vnd.plotly.v1+json": {
              "data": [
                {
                  "name": "count",
                  "text": "",
                  "y": [
                    7,
                    5,
                    5,
                    4,
                    3,
                    2,
                    2,
                    2,
                    2,
                    2,
                    2,
                    2,
                    2,
                    2,
                    2,
                    2,
                    2,
                    2,
                    2,
                    1,
                    1,
                    1,
                    1,
                    1,
                    1,
                    1,
                    1,
                    1,
                    1,
                    1,
                    1,
                    1,
                    1,
                    1,
                    1,
                    1,
                    1,
                    1,
                    1,
                    1,
                    1,
                    1,
                    1,
                    1,
                    1,
                    1,
                    1,
                    1,
                    1,
                    1,
                    1,
                    1,
                    1,
                    1,
                    1,
                    1,
                    1,
                    1,
                    1,
                    1,
                    1,
                    1,
                    1,
                    1,
                    1,
                    1,
                    1,
                    1,
                    1,
                    1,
                    1,
                    1,
                    1,
                    1,
                    1,
                    1,
                    1,
                    1,
                    1,
                    1,
                    1,
                    1,
                    1,
                    1,
                    1,
                    1,
                    1,
                    1,
                    1,
                    1,
                    1,
                    1,
                    1,
                    1,
                    1,
                    1,
                    1,
                    1,
                    1,
                    1
                  ],
                  "marker": {
                    "color": "rgba(255, 153, 51, 0.6)",
                    "line": {
                      "color": "rgba(255, 153, 51, 1.0)",
                      "width": 1
                    }
                  },
                  "x": [
                    "nationality syrian address",
                    "syrian address phone",
                    "address phone number",
                    "phone number unknown",
                    "keep child safe",
                    "date birth current",
                    "order care order",
                    "number unknown unknown",
                    "first name current",
                    "child safe time",
                    "child family border",
                    "carer first name",
                    "birth current address",
                    "british legal order",
                    "name current address",
                    "legal order care",
                    "white british legal",
                    "unknown nationality syrian",
                    "unknown unknown nationality",
                    "information parent encounter",
                    "facilitate establishment contact",
                    "family situation person",
                    "involve nationality syrian",
                    "family turkey hence",
                    "father request order",
                    "father ensure possible",
                    "get married month",
                    "hence visit month",
                    "go parent run",
                    "former wife nationality",
                    "go live family",
                    "ensure possible reunification",
                    "establishment contact father",
                    "youssef nationality syrian",
                    "encounter separation national",
                    "case note statement",
                    "address confidential father",
                    "address nationality syrian",
                    "also provide social",
                    "ask wife daughter",
                    "assistance regard year",
                    "avoid conflict former",
                    "away syrian conflict",
                    "background information parent",
                    "child currently live",
                    "email background information",
                    "confidential father request",
                    "conflict former wife",
                    "conflict lecturer due",
                    "contact father ensure",
                    "currently live order",
                    "daughter turn go",
                    "departure visit ask",
                    "due job able",
                    "job able go",
                    "married month start",
                    "lecturer due job",
                    "live family turkey",
                    "request order avoid",
                    "reunification also provide",
                    "run away syrian",
                    "separation national get",
                    "situation person involve",
                    "social report family",
                    "start daughter turn",
                    "statement origin assistance",
                    "syrian address confidential",
                    "syrian address nationality",
                    "syrian child currently",
                    "syrian conflict lecturer",
                    "turkey hence visit",
                    "turn go parent",
                    "unknown mother nationality",
                    "unknown youssef nationality",
                    "visit ask wife",
                    "visit month departure",
                    "wife nationality syrian",
                    "report family situation",
                    "regard year old",
                    "provide social report",
                    "number unknown mother",
                    "live order facilitate",
                    "year old syrian",
                    "month departure visit",
                    "month start daughter",
                    "mother nationality syrian",
                    "national get married",
                    "note statement origin",
                    "number email background",
                    "number unknown youssef",
                    "possible reunification also",
                    "old syrian child",
                    "order avoid conflict",
                    "order facilitate establishment",
                    "origin assistance regard",
                    "parent encounter separation",
                    "parent run away",
                    "person involve nationality",
                    "phone number email",
                    "able go live"
                  ],
                  "type": "bar",
                  "orientation": "v"
                }
              ],
              "config": {
                "plotlyServerURL": "https://plot.ly",
                "linkText": "Export to plot.ly",
                "showLink": true
              },
              "layout": {
                "template": {
                  "layout": {
                    "shapedefaults": {
                      "line": {
                        "color": "#2a3f5f"
                      }
                    },
                    "polar": {
                      "radialaxis": {
                        "ticks": "",
                        "gridcolor": "white",
                        "linecolor": "white"
                      },
                      "bgcolor": "#E5ECF6",
                      "angularaxis": {
                        "ticks": "",
                        "gridcolor": "white",
                        "linecolor": "white"
                      }
                    },
                    "colorway": [
                      "#636efa",
                      "#EF553B",
                      "#00cc96",
                      "#ab63fa",
                      "#FFA15A",
                      "#19d3f3",
                      "#FF6692",
                      "#B6E880",
                      "#FF97FF",
                      "#FECB52"
                    ],
                    "xaxis": {
                      "automargin": true,
                      "title": {
                        "standoff": 15
                      },
                      "zerolinewidth": 2,
                      "ticks": "",
                      "zerolinecolor": "white",
                      "gridcolor": "white",
                      "linecolor": "white"
                    },
                    "colorscale": {
                      "diverging": [
                        [
                          0,
                          "#8e0152"
                        ],
                        [
                          0.1,
                          "#c51b7d"
                        ],
                        [
                          0.2,
                          "#de77ae"
                        ],
                        [
                          0.3,
                          "#f1b6da"
                        ],
                        [
                          0.4,
                          "#fde0ef"
                        ],
                        [
                          0.5,
                          "#f7f7f7"
                        ],
                        [
                          0.6,
                          "#e6f5d0"
                        ],
                        [
                          0.7,
                          "#b8e186"
                        ],
                        [
                          0.8,
                          "#7fbc41"
                        ],
                        [
                          0.9,
                          "#4d9221"
                        ],
                        [
                          1,
                          "#276419"
                        ]
                      ],
                      "sequential": [
                        [
                          0,
                          "#0d0887"
                        ],
                        [
                          0.1111111111111111,
                          "#46039f"
                        ],
                        [
                          0.2222222222222222,
                          "#7201a8"
                        ],
                        [
                          0.3333333333333333,
                          "#9c179e"
                        ],
                        [
                          0.4444444444444444,
                          "#bd3786"
                        ],
                        [
                          0.5555555555555556,
                          "#d8576b"
                        ],
                        [
                          0.6666666666666666,
                          "#ed7953"
                        ],
                        [
                          0.7777777777777778,
                          "#fb9f3a"
                        ],
                        [
                          0.8888888888888888,
                          "#fdca26"
                        ],
                        [
                          1,
                          "#f0f921"
                        ]
                      ],
                      "sequentialminus": [
                        [
                          0,
                          "#0d0887"
                        ],
                        [
                          0.1111111111111111,
                          "#46039f"
                        ],
                        [
                          0.2222222222222222,
                          "#7201a8"
                        ],
                        [
                          0.3333333333333333,
                          "#9c179e"
                        ],
                        [
                          0.4444444444444444,
                          "#bd3786"
                        ],
                        [
                          0.5555555555555556,
                          "#d8576b"
                        ],
                        [
                          0.6666666666666666,
                          "#ed7953"
                        ],
                        [
                          0.7777777777777778,
                          "#fb9f3a"
                        ],
                        [
                          0.8888888888888888,
                          "#fdca26"
                        ],
                        [
                          1,
                          "#f0f921"
                        ]
                      ]
                    },
                    "paper_bgcolor": "white",
                    "plot_bgcolor": "#E5ECF6",
                    "title": {
                      "x": 0.05
                    },
                    "scene": {
                      "zaxis": {
                        "backgroundcolor": "#E5ECF6",
                        "ticks": "",
                        "gridwidth": 2,
                        "showbackground": true,
                        "zerolinecolor": "white",
                        "gridcolor": "white",
                        "linecolor": "white"
                      },
                      "xaxis": {
                        "backgroundcolor": "#E5ECF6",
                        "ticks": "",
                        "gridwidth": 2,
                        "showbackground": true,
                        "zerolinecolor": "white",
                        "gridcolor": "white",
                        "linecolor": "white"
                      },
                      "yaxis": {
                        "backgroundcolor": "#E5ECF6",
                        "ticks": "",
                        "gridwidth": 2,
                        "showbackground": true,
                        "zerolinecolor": "white",
                        "gridcolor": "white",
                        "linecolor": "white"
                      }
                    },
                    "yaxis": {
                      "automargin": true,
                      "title": {
                        "standoff": 15
                      },
                      "zerolinewidth": 2,
                      "ticks": "",
                      "zerolinecolor": "white",
                      "gridcolor": "white",
                      "linecolor": "white"
                    },
                    "annotationdefaults": {
                      "arrowwidth": 1,
                      "arrowhead": 0,
                      "arrowcolor": "#2a3f5f"
                    },
                    "hoverlabel": {
                      "align": "left"
                    },
                    "ternary": {
                      "bgcolor": "#E5ECF6",
                      "baxis": {
                        "ticks": "",
                        "gridcolor": "white",
                        "linecolor": "white"
                      },
                      "caxis": {
                        "ticks": "",
                        "gridcolor": "white",
                        "linecolor": "white"
                      },
                      "aaxis": {
                        "ticks": "",
                        "gridcolor": "white",
                        "linecolor": "white"
                      }
                    },
                    "mapbox": {
                      "style": "light"
                    },
                    "hovermode": "closest",
                    "font": {
                      "color": "#2a3f5f"
                    },
                    "geo": {
                      "showland": true,
                      "landcolor": "#E5ECF6",
                      "showlakes": true,
                      "bgcolor": "white",
                      "subunitcolor": "white",
                      "lakecolor": "white"
                    },
                    "coloraxis": {
                      "colorbar": {
                        "outlinewidth": 0,
                        "ticks": ""
                      }
                    }
                  },
                  "data": {
                    "mesh3d": [
                      {
                        "colorbar": {
                          "outlinewidth": 0,
                          "ticks": ""
                        },
                        "type": "mesh3d"
                      }
                    ],
                    "scattercarpet": [
                      {
                        "marker": {
                          "colorbar": {
                            "outlinewidth": 0,
                            "ticks": ""
                          }
                        },
                        "type": "scattercarpet"
                      }
                    ],
                    "pie": [
                      {
                        "automargin": true,
                        "type": "pie"
                      }
                    ],
                    "surface": [
                      {
                        "colorbar": {
                          "outlinewidth": 0,
                          "ticks": ""
                        },
                        "type": "surface",
                        "colorscale": [
                          [
                            0,
                            "#0d0887"
                          ],
                          [
                            0.1111111111111111,
                            "#46039f"
                          ],
                          [
                            0.2222222222222222,
                            "#7201a8"
                          ],
                          [
                            0.3333333333333333,
                            "#9c179e"
                          ],
                          [
                            0.4444444444444444,
                            "#bd3786"
                          ],
                          [
                            0.5555555555555556,
                            "#d8576b"
                          ],
                          [
                            0.6666666666666666,
                            "#ed7953"
                          ],
                          [
                            0.7777777777777778,
                            "#fb9f3a"
                          ],
                          [
                            0.8888888888888888,
                            "#fdca26"
                          ],
                          [
                            1,
                            "#f0f921"
                          ]
                        ]
                      }
                    ],
                    "table": [
                      {
                        "header": {
                          "line": {
                            "color": "white"
                          },
                          "fill": {
                            "color": "#C8D4E3"
                          }
                        },
                        "cells": {
                          "line": {
                            "color": "white"
                          },
                          "fill": {
                            "color": "#EBF0F8"
                          }
                        },
                        "type": "table"
                      }
                    ],
                    "scatterpolargl": [
                      {
                        "marker": {
                          "colorbar": {
                            "outlinewidth": 0,
                            "ticks": ""
                          }
                        },
                        "type": "scatterpolargl"
                      }
                    ],
                    "contour": [
                      {
                        "colorbar": {
                          "outlinewidth": 0,
                          "ticks": ""
                        },
                        "type": "contour",
                        "colorscale": [
                          [
                            0,
                            "#0d0887"
                          ],
                          [
                            0.1111111111111111,
                            "#46039f"
                          ],
                          [
                            0.2222222222222222,
                            "#7201a8"
                          ],
                          [
                            0.3333333333333333,
                            "#9c179e"
                          ],
                          [
                            0.4444444444444444,
                            "#bd3786"
                          ],
                          [
                            0.5555555555555556,
                            "#d8576b"
                          ],
                          [
                            0.6666666666666666,
                            "#ed7953"
                          ],
                          [
                            0.7777777777777778,
                            "#fb9f3a"
                          ],
                          [
                            0.8888888888888888,
                            "#fdca26"
                          ],
                          [
                            1,
                            "#f0f921"
                          ]
                        ]
                      }
                    ],
                    "carpet": [
                      {
                        "type": "carpet",
                        "baxis": {
                          "minorgridcolor": "white",
                          "gridcolor": "white",
                          "linecolor": "white",
                          "endlinecolor": "#2a3f5f",
                          "startlinecolor": "#2a3f5f"
                        },
                        "aaxis": {
                          "minorgridcolor": "white",
                          "gridcolor": "white",
                          "linecolor": "white",
                          "endlinecolor": "#2a3f5f",
                          "startlinecolor": "#2a3f5f"
                        }
                      }
                    ],
                    "contourcarpet": [
                      {
                        "colorbar": {
                          "outlinewidth": 0,
                          "ticks": ""
                        },
                        "type": "contourcarpet"
                      }
                    ],
                    "heatmap": [
                      {
                        "colorbar": {
                          "outlinewidth": 0,
                          "ticks": ""
                        },
                        "type": "heatmap",
                        "colorscale": [
                          [
                            0,
                            "#0d0887"
                          ],
                          [
                            0.1111111111111111,
                            "#46039f"
                          ],
                          [
                            0.2222222222222222,
                            "#7201a8"
                          ],
                          [
                            0.3333333333333333,
                            "#9c179e"
                          ],
                          [
                            0.4444444444444444,
                            "#bd3786"
                          ],
                          [
                            0.5555555555555556,
                            "#d8576b"
                          ],
                          [
                            0.6666666666666666,
                            "#ed7953"
                          ],
                          [
                            0.7777777777777778,
                            "#fb9f3a"
                          ],
                          [
                            0.8888888888888888,
                            "#fdca26"
                          ],
                          [
                            1,
                            "#f0f921"
                          ]
                        ]
                      }
                    ],
                    "scattermapbox": [
                      {
                        "marker": {
                          "colorbar": {
                            "outlinewidth": 0,
                            "ticks": ""
                          }
                        },
                        "type": "scattermapbox"
                      }
                    ],
                    "scatter3d": [
                      {
                        "marker": {
                          "colorbar": {
                            "outlinewidth": 0,
                            "ticks": ""
                          }
                        },
                        "line": {
                          "colorbar": {
                            "outlinewidth": 0,
                            "ticks": ""
                          }
                        },
                        "type": "scatter3d"
                      }
                    ],
                    "scattergl": [
                      {
                        "marker": {
                          "colorbar": {
                            "outlinewidth": 0,
                            "ticks": ""
                          }
                        },
                        "type": "scattergl"
                      }
                    ],
                    "scatterternary": [
                      {
                        "marker": {
                          "colorbar": {
                            "outlinewidth": 0,
                            "ticks": ""
                          }
                        },
                        "type": "scatterternary"
                      }
                    ],
                    "histogram": [
                      {
                        "marker": {
                          "colorbar": {
                            "outlinewidth": 0,
                            "ticks": ""
                          }
                        },
                        "type": "histogram"
                      }
                    ],
                    "heatmapgl": [
                      {
                        "colorbar": {
                          "outlinewidth": 0,
                          "ticks": ""
                        },
                        "type": "heatmapgl",
                        "colorscale": [
                          [
                            0,
                            "#0d0887"
                          ],
                          [
                            0.1111111111111111,
                            "#46039f"
                          ],
                          [
                            0.2222222222222222,
                            "#7201a8"
                          ],
                          [
                            0.3333333333333333,
                            "#9c179e"
                          ],
                          [
                            0.4444444444444444,
                            "#bd3786"
                          ],
                          [
                            0.5555555555555556,
                            "#d8576b"
                          ],
                          [
                            0.6666666666666666,
                            "#ed7953"
                          ],
                          [
                            0.7777777777777778,
                            "#fb9f3a"
                          ],
                          [
                            0.8888888888888888,
                            "#fdca26"
                          ],
                          [
                            1,
                            "#f0f921"
                          ]
                        ]
                      }
                    ],
                    "scatterpolar": [
                      {
                        "marker": {
                          "colorbar": {
                            "outlinewidth": 0,
                            "ticks": ""
                          }
                        },
                        "type": "scatterpolar"
                      }
                    ],
                    "histogram2d": [
                      {
                        "colorbar": {
                          "outlinewidth": 0,
                          "ticks": ""
                        },
                        "type": "histogram2d",
                        "colorscale": [
                          [
                            0,
                            "#0d0887"
                          ],
                          [
                            0.1111111111111111,
                            "#46039f"
                          ],
                          [
                            0.2222222222222222,
                            "#7201a8"
                          ],
                          [
                            0.3333333333333333,
                            "#9c179e"
                          ],
                          [
                            0.4444444444444444,
                            "#bd3786"
                          ],
                          [
                            0.5555555555555556,
                            "#d8576b"
                          ],
                          [
                            0.6666666666666666,
                            "#ed7953"
                          ],
                          [
                            0.7777777777777778,
                            "#fb9f3a"
                          ],
                          [
                            0.8888888888888888,
                            "#fdca26"
                          ],
                          [
                            1,
                            "#f0f921"
                          ]
                        ]
                      }
                    ],
                    "scattergeo": [
                      {
                        "marker": {
                          "colorbar": {
                            "outlinewidth": 0,
                            "ticks": ""
                          }
                        },
                        "type": "scattergeo"
                      }
                    ],
                    "bar": [
                      {
                        "marker": {
                          "line": {
                            "color": "#E5ECF6",
                            "width": 0.5
                          }
                        },
                        "type": "bar",
                        "error_x": {
                          "color": "#2a3f5f"
                        },
                        "error_y": {
                          "color": "#2a3f5f"
                        }
                      }
                    ],
                    "choropleth": [
                      {
                        "colorbar": {
                          "outlinewidth": 0,
                          "ticks": ""
                        },
                        "type": "choropleth"
                      }
                    ],
                    "parcoords": [
                      {
                        "line": {
                          "colorbar": {
                            "outlinewidth": 0,
                            "ticks": ""
                          }
                        },
                        "type": "parcoords"
                      }
                    ],
                    "barpolar": [
                      {
                        "marker": {
                          "line": {
                            "color": "#E5ECF6",
                            "width": 0.5
                          }
                        },
                        "type": "barpolar"
                      }
                    ],
                    "histogram2dcontour": [
                      {
                        "colorbar": {
                          "outlinewidth": 0,
                          "ticks": ""
                        },
                        "type": "histogram2dcontour",
                        "colorscale": [
                          [
                            0,
                            "#0d0887"
                          ],
                          [
                            0.1111111111111111,
                            "#46039f"
                          ],
                          [
                            0.2222222222222222,
                            "#7201a8"
                          ],
                          [
                            0.3333333333333333,
                            "#9c179e"
                          ],
                          [
                            0.4444444444444444,
                            "#bd3786"
                          ],
                          [
                            0.5555555555555556,
                            "#d8576b"
                          ],
                          [
                            0.6666666666666666,
                            "#ed7953"
                          ],
                          [
                            0.7777777777777778,
                            "#fb9f3a"
                          ],
                          [
                            0.8888888888888888,
                            "#fdca26"
                          ],
                          [
                            1,
                            "#f0f921"
                          ]
                        ]
                      }
                    ],
                    "scatter": [
                      {
                        "marker": {
                          "colorbar": {
                            "outlinewidth": 0,
                            "ticks": ""
                          }
                        },
                        "type": "scatter"
                      }
                    ]
                  }
                },
                "title": {
                  "text": "Topic 5: Top 100 trigrams after removing stop words",
                  "font": {
                    "color": "#4D5663"
                  }
                },
                "paper_bgcolor": "#F5F6F9",
                "plot_bgcolor": "#F5F6F9",
                "yaxis": {
                  "tickfont": {
                    "color": "#4D5663"
                  },
                  "title": {
                    "text": "Count",
                    "font": {
                      "color": "#4D5663"
                    }
                  },
                  "showgrid": true,
                  "zerolinecolor": "#E1E5ED",
                  "gridcolor": "#E1E5ED",
                  "linecolor": "black"
                },
                "xaxis": {
                  "tickfont": {
                    "color": "#4D5663"
                  },
                  "title": {
                    "text": "",
                    "font": {
                      "color": "#4D5663"
                    }
                  },
                  "showgrid": true,
                  "zerolinecolor": "#E1E5ED",
                  "gridcolor": "#E1E5ED",
                  "linecolor": "black"
                },
                "legend": {
                  "bgcolor": "#F5F6F9",
                  "font": {
                    "color": "#4D5663"
                  }
                }
              }
            }
          },
          "metadata": {
            "tags": []
          }
        },
        {
          "output_type": "display_data",
          "data": {
            "text/html": [
              "        <script type=\"text/javascript\">\n",
              "        window.PlotlyConfig = {MathJaxConfig: 'local'};\n",
              "        if (window.MathJax) {MathJax.Hub.Config({SVG: {font: \"STIX-Web\"}});}\n",
              "        if (typeof require !== 'undefined') {\n",
              "        require.undef(\"plotly\");\n",
              "        requirejs.config({\n",
              "            paths: {\n",
              "                'plotly': ['https://cdn.plot.ly/plotly-latest.min']\n",
              "            }\n",
              "        });\n",
              "        require(['plotly'], function(Plotly) {\n",
              "            window._Plotly = Plotly;\n",
              "        });\n",
              "        }\n",
              "        </script>\n",
              "        "
            ]
          },
          "metadata": {
            "tags": []
          }
        },
        {
          "output_type": "display_data",
          "data": {
            "text/html": [
              "<div>\n",
              "        \n",
              "        \n",
              "            <div id=\"902e09dd-4943-4a4c-ae58-fb6db8eec8b9\" class=\"plotly-graph-div\" style=\"height:525px; width:100%;\"></div>\n",
              "            <script type=\"text/javascript\">\n",
              "                require([\"plotly\"], function(Plotly) {\n",
              "                    window.PLOTLYENV=window.PLOTLYENV || {};\n",
              "                    window.PLOTLYENV.BASE_URL='https://plot.ly';\n",
              "                    \n",
              "                if (document.getElementById(\"902e09dd-4943-4a4c-ae58-fb6db8eec8b9\")) {\n",
              "                    Plotly.newPlot(\n",
              "                        '902e09dd-4943-4a4c-ae58-fb6db8eec8b9',\n",
              "                        [{\"histfunc\": \"count\", \"histnorm\": \"\", \"marker\": {\"color\": \"rgba(255, 153, 51, 1.0)\", \"line\": {\"color\": \"#000000\", \"width\": 1.3}}, \"name\": \"Case Text\", \"nbinsx\": 100, \"opacity\": 0.8, \"orientation\": \"v\", \"type\": \"histogram\", \"x\": [336, 321]}],\n",
              "                        {\"barmode\": \"overlay\", \"legend\": {\"bgcolor\": \"#F5F6F9\", \"font\": {\"color\": \"#4D5663\"}}, \"paper_bgcolor\": \"#F5F6F9\", \"plot_bgcolor\": \"#F5F6F9\", \"template\": {\"data\": {\"bar\": [{\"error_x\": {\"color\": \"#2a3f5f\"}, \"error_y\": {\"color\": \"#2a3f5f\"}, \"marker\": {\"line\": {\"color\": \"#E5ECF6\", \"width\": 0.5}}, \"type\": \"bar\"}], \"barpolar\": [{\"marker\": {\"line\": {\"color\": \"#E5ECF6\", \"width\": 0.5}}, \"type\": \"barpolar\"}], \"carpet\": [{\"aaxis\": {\"endlinecolor\": \"#2a3f5f\", \"gridcolor\": \"white\", \"linecolor\": \"white\", \"minorgridcolor\": \"white\", \"startlinecolor\": \"#2a3f5f\"}, \"baxis\": {\"endlinecolor\": \"#2a3f5f\", \"gridcolor\": \"white\", \"linecolor\": \"white\", \"minorgridcolor\": \"white\", \"startlinecolor\": \"#2a3f5f\"}, \"type\": \"carpet\"}], \"choropleth\": [{\"colorbar\": {\"outlinewidth\": 0, \"ticks\": \"\"}, \"type\": \"choropleth\"}], \"contour\": [{\"colorbar\": {\"outlinewidth\": 0, \"ticks\": \"\"}, \"colorscale\": [[0.0, \"#0d0887\"], [0.1111111111111111, \"#46039f\"], [0.2222222222222222, \"#7201a8\"], [0.3333333333333333, \"#9c179e\"], [0.4444444444444444, \"#bd3786\"], [0.5555555555555556, \"#d8576b\"], [0.6666666666666666, \"#ed7953\"], [0.7777777777777778, \"#fb9f3a\"], [0.8888888888888888, \"#fdca26\"], [1.0, \"#f0f921\"]], \"type\": \"contour\"}], \"contourcarpet\": [{\"colorbar\": {\"outlinewidth\": 0, \"ticks\": \"\"}, \"type\": \"contourcarpet\"}], \"heatmap\": [{\"colorbar\": {\"outlinewidth\": 0, \"ticks\": \"\"}, \"colorscale\": [[0.0, \"#0d0887\"], [0.1111111111111111, \"#46039f\"], [0.2222222222222222, \"#7201a8\"], [0.3333333333333333, \"#9c179e\"], [0.4444444444444444, \"#bd3786\"], [0.5555555555555556, \"#d8576b\"], [0.6666666666666666, \"#ed7953\"], [0.7777777777777778, \"#fb9f3a\"], [0.8888888888888888, \"#fdca26\"], [1.0, \"#f0f921\"]], \"type\": \"heatmap\"}], \"heatmapgl\": [{\"colorbar\": {\"outlinewidth\": 0, \"ticks\": \"\"}, \"colorscale\": [[0.0, \"#0d0887\"], [0.1111111111111111, \"#46039f\"], [0.2222222222222222, \"#7201a8\"], [0.3333333333333333, \"#9c179e\"], [0.4444444444444444, \"#bd3786\"], [0.5555555555555556, \"#d8576b\"], [0.6666666666666666, \"#ed7953\"], [0.7777777777777778, \"#fb9f3a\"], [0.8888888888888888, \"#fdca26\"], [1.0, \"#f0f921\"]], \"type\": \"heatmapgl\"}], \"histogram\": [{\"marker\": {\"colorbar\": {\"outlinewidth\": 0, \"ticks\": \"\"}}, \"type\": \"histogram\"}], \"histogram2d\": [{\"colorbar\": {\"outlinewidth\": 0, \"ticks\": \"\"}, \"colorscale\": [[0.0, \"#0d0887\"], [0.1111111111111111, \"#46039f\"], [0.2222222222222222, \"#7201a8\"], [0.3333333333333333, \"#9c179e\"], [0.4444444444444444, \"#bd3786\"], [0.5555555555555556, \"#d8576b\"], [0.6666666666666666, \"#ed7953\"], [0.7777777777777778, \"#fb9f3a\"], [0.8888888888888888, \"#fdca26\"], [1.0, \"#f0f921\"]], \"type\": \"histogram2d\"}], \"histogram2dcontour\": [{\"colorbar\": {\"outlinewidth\": 0, \"ticks\": \"\"}, \"colorscale\": [[0.0, \"#0d0887\"], [0.1111111111111111, \"#46039f\"], [0.2222222222222222, \"#7201a8\"], [0.3333333333333333, \"#9c179e\"], [0.4444444444444444, \"#bd3786\"], [0.5555555555555556, \"#d8576b\"], [0.6666666666666666, \"#ed7953\"], [0.7777777777777778, \"#fb9f3a\"], [0.8888888888888888, \"#fdca26\"], [1.0, \"#f0f921\"]], \"type\": \"histogram2dcontour\"}], \"mesh3d\": [{\"colorbar\": {\"outlinewidth\": 0, \"ticks\": \"\"}, \"type\": \"mesh3d\"}], \"parcoords\": [{\"line\": {\"colorbar\": {\"outlinewidth\": 0, \"ticks\": \"\"}}, \"type\": \"parcoords\"}], \"pie\": [{\"automargin\": true, \"type\": \"pie\"}], \"scatter\": [{\"marker\": {\"colorbar\": {\"outlinewidth\": 0, \"ticks\": \"\"}}, \"type\": \"scatter\"}], \"scatter3d\": [{\"line\": {\"colorbar\": {\"outlinewidth\": 0, \"ticks\": \"\"}}, \"marker\": {\"colorbar\": {\"outlinewidth\": 0, \"ticks\": \"\"}}, \"type\": \"scatter3d\"}], \"scattercarpet\": [{\"marker\": {\"colorbar\": {\"outlinewidth\": 0, \"ticks\": \"\"}}, \"type\": \"scattercarpet\"}], \"scattergeo\": [{\"marker\": {\"colorbar\": {\"outlinewidth\": 0, \"ticks\": \"\"}}, \"type\": \"scattergeo\"}], \"scattergl\": [{\"marker\": {\"colorbar\": {\"outlinewidth\": 0, \"ticks\": \"\"}}, \"type\": \"scattergl\"}], \"scattermapbox\": [{\"marker\": {\"colorbar\": {\"outlinewidth\": 0, \"ticks\": \"\"}}, \"type\": \"scattermapbox\"}], \"scatterpolar\": [{\"marker\": {\"colorbar\": {\"outlinewidth\": 0, \"ticks\": \"\"}}, \"type\": \"scatterpolar\"}], \"scatterpolargl\": [{\"marker\": {\"colorbar\": {\"outlinewidth\": 0, \"ticks\": \"\"}}, \"type\": \"scatterpolargl\"}], \"scatterternary\": [{\"marker\": {\"colorbar\": {\"outlinewidth\": 0, \"ticks\": \"\"}}, \"type\": \"scatterternary\"}], \"surface\": [{\"colorbar\": {\"outlinewidth\": 0, \"ticks\": \"\"}, \"colorscale\": [[0.0, \"#0d0887\"], [0.1111111111111111, \"#46039f\"], [0.2222222222222222, \"#7201a8\"], [0.3333333333333333, \"#9c179e\"], [0.4444444444444444, \"#bd3786\"], [0.5555555555555556, \"#d8576b\"], [0.6666666666666666, \"#ed7953\"], [0.7777777777777778, \"#fb9f3a\"], [0.8888888888888888, \"#fdca26\"], [1.0, \"#f0f921\"]], \"type\": \"surface\"}], \"table\": [{\"cells\": {\"fill\": {\"color\": \"#EBF0F8\"}, \"line\": {\"color\": \"white\"}}, \"header\": {\"fill\": {\"color\": \"#C8D4E3\"}, \"line\": {\"color\": \"white\"}}, \"type\": \"table\"}]}, \"layout\": {\"annotationdefaults\": {\"arrowcolor\": \"#2a3f5f\", \"arrowhead\": 0, \"arrowwidth\": 1}, \"coloraxis\": {\"colorbar\": {\"outlinewidth\": 0, \"ticks\": \"\"}}, \"colorscale\": {\"diverging\": [[0, \"#8e0152\"], [0.1, \"#c51b7d\"], [0.2, \"#de77ae\"], [0.3, \"#f1b6da\"], [0.4, \"#fde0ef\"], [0.5, \"#f7f7f7\"], [0.6, \"#e6f5d0\"], [0.7, \"#b8e186\"], [0.8, \"#7fbc41\"], [0.9, \"#4d9221\"], [1, \"#276419\"]], \"sequential\": [[0.0, \"#0d0887\"], [0.1111111111111111, \"#46039f\"], [0.2222222222222222, \"#7201a8\"], [0.3333333333333333, \"#9c179e\"], [0.4444444444444444, \"#bd3786\"], [0.5555555555555556, \"#d8576b\"], [0.6666666666666666, \"#ed7953\"], [0.7777777777777778, \"#fb9f3a\"], [0.8888888888888888, \"#fdca26\"], [1.0, \"#f0f921\"]], \"sequentialminus\": [[0.0, \"#0d0887\"], [0.1111111111111111, \"#46039f\"], [0.2222222222222222, \"#7201a8\"], [0.3333333333333333, \"#9c179e\"], [0.4444444444444444, \"#bd3786\"], [0.5555555555555556, \"#d8576b\"], [0.6666666666666666, \"#ed7953\"], [0.7777777777777778, \"#fb9f3a\"], [0.8888888888888888, \"#fdca26\"], [1.0, \"#f0f921\"]]}, \"colorway\": [\"#636efa\", \"#EF553B\", \"#00cc96\", \"#ab63fa\", \"#FFA15A\", \"#19d3f3\", \"#FF6692\", \"#B6E880\", \"#FF97FF\", \"#FECB52\"], \"font\": {\"color\": \"#2a3f5f\"}, \"geo\": {\"bgcolor\": \"white\", \"lakecolor\": \"white\", \"landcolor\": \"#E5ECF6\", \"showlakes\": true, \"showland\": true, \"subunitcolor\": \"white\"}, \"hoverlabel\": {\"align\": \"left\"}, \"hovermode\": \"closest\", \"mapbox\": {\"style\": \"light\"}, \"paper_bgcolor\": \"white\", \"plot_bgcolor\": \"#E5ECF6\", \"polar\": {\"angularaxis\": {\"gridcolor\": \"white\", \"linecolor\": \"white\", \"ticks\": \"\"}, \"bgcolor\": \"#E5ECF6\", \"radialaxis\": {\"gridcolor\": \"white\", \"linecolor\": \"white\", \"ticks\": \"\"}}, \"scene\": {\"xaxis\": {\"backgroundcolor\": \"#E5ECF6\", \"gridcolor\": \"white\", \"gridwidth\": 2, \"linecolor\": \"white\", \"showbackground\": true, \"ticks\": \"\", \"zerolinecolor\": \"white\"}, \"yaxis\": {\"backgroundcolor\": \"#E5ECF6\", \"gridcolor\": \"white\", \"gridwidth\": 2, \"linecolor\": \"white\", \"showbackground\": true, \"ticks\": \"\", \"zerolinecolor\": \"white\"}, \"zaxis\": {\"backgroundcolor\": \"#E5ECF6\", \"gridcolor\": \"white\", \"gridwidth\": 2, \"linecolor\": \"white\", \"showbackground\": true, \"ticks\": \"\", \"zerolinecolor\": \"white\"}}, \"shapedefaults\": {\"line\": {\"color\": \"#2a3f5f\"}}, \"ternary\": {\"aaxis\": {\"gridcolor\": \"white\", \"linecolor\": \"white\", \"ticks\": \"\"}, \"baxis\": {\"gridcolor\": \"white\", \"linecolor\": \"white\", \"ticks\": \"\"}, \"bgcolor\": \"#E5ECF6\", \"caxis\": {\"gridcolor\": \"white\", \"linecolor\": \"white\", \"ticks\": \"\"}}, \"title\": {\"x\": 0.05}, \"xaxis\": {\"automargin\": true, \"gridcolor\": \"white\", \"linecolor\": \"white\", \"ticks\": \"\", \"title\": {\"standoff\": 15}, \"zerolinecolor\": \"white\", \"zerolinewidth\": 2}, \"yaxis\": {\"automargin\": true, \"gridcolor\": \"white\", \"linecolor\": \"white\", \"ticks\": \"\", \"title\": {\"standoff\": 15}, \"zerolinecolor\": \"white\", \"zerolinewidth\": 2}}}, \"title\": {\"font\": {\"color\": \"#4D5663\"}, \"text\": \"Topic 5: Word Count Distribution\"}, \"xaxis\": {\"gridcolor\": \"#E1E5ED\", \"linecolor\": \"black\", \"showgrid\": true, \"tickfont\": {\"color\": \"#4D5663\"}, \"title\": {\"font\": {\"color\": \"#4D5663\"}, \"text\": \"word count\"}, \"zerolinecolor\": \"#E1E5ED\"}, \"yaxis\": {\"gridcolor\": \"#E1E5ED\", \"linecolor\": \"black\", \"showgrid\": true, \"tickfont\": {\"color\": \"#4D5663\"}, \"title\": {\"font\": {\"color\": \"#4D5663\"}, \"text\": \"count\"}, \"zerolinecolor\": \"#E1E5ED\"}},\n",
              "                        {\"showLink\": true, \"linkText\": \"Export to plot.ly\", \"plotlyServerURL\": \"https://plot.ly\", \"responsive\": true}\n",
              "                    ).then(function(){\n",
              "                            \n",
              "var gd = document.getElementById('902e09dd-4943-4a4c-ae58-fb6db8eec8b9');\n",
              "var x = new MutationObserver(function (mutations, observer) {{\n",
              "        var display = window.getComputedStyle(gd).display;\n",
              "        if (!display || display === 'none') {{\n",
              "            console.log([gd, 'removed!']);\n",
              "            Plotly.purge(gd);\n",
              "            observer.disconnect();\n",
              "        }}\n",
              "}});\n",
              "\n",
              "// Listen for the removal of the full notebook cells\n",
              "var notebookContainer = gd.closest('#notebook-container');\n",
              "if (notebookContainer) {{\n",
              "    x.observe(notebookContainer, {childList: true});\n",
              "}}\n",
              "\n",
              "// Listen for the clearing of the current output cell\n",
              "var outputEl = gd.closest('.output');\n",
              "if (outputEl) {{\n",
              "    x.observe(outputEl, {childList: true});\n",
              "}}\n",
              "\n",
              "                        })\n",
              "                };\n",
              "                });\n",
              "            </script>\n",
              "        </div>"
            ],
            "application/vnd.plotly.v1+json": {
              "data": [
                {
                  "opacity": 0.8,
                  "name": "Case Text",
                  "histnorm": "",
                  "nbinsx": 100,
                  "histfunc": "count",
                  "marker": {
                    "color": "rgba(255, 153, 51, 1.0)",
                    "line": {
                      "color": "#000000",
                      "width": 1.3
                    }
                  },
                  "x": [
                    336,
                    321
                  ],
                  "type": "histogram",
                  "orientation": "v"
                }
              ],
              "config": {
                "plotlyServerURL": "https://plot.ly",
                "linkText": "Export to plot.ly",
                "showLink": true
              },
              "layout": {
                "xaxis": {
                  "tickfont": {
                    "color": "#4D5663"
                  },
                  "title": {
                    "text": "word count",
                    "font": {
                      "color": "#4D5663"
                    }
                  },
                  "showgrid": true,
                  "zerolinecolor": "#E1E5ED",
                  "gridcolor": "#E1E5ED",
                  "linecolor": "black"
                },
                "title": {
                  "text": "Topic 5: Word Count Distribution",
                  "font": {
                    "color": "#4D5663"
                  }
                },
                "paper_bgcolor": "#F5F6F9",
                "plot_bgcolor": "#F5F6F9",
                "yaxis": {
                  "tickfont": {
                    "color": "#4D5663"
                  },
                  "title": {
                    "text": "count",
                    "font": {
                      "color": "#4D5663"
                    }
                  },
                  "showgrid": true,
                  "zerolinecolor": "#E1E5ED",
                  "gridcolor": "#E1E5ED",
                  "linecolor": "black"
                },
                "barmode": "overlay",
                "template": {
                  "layout": {
                    "shapedefaults": {
                      "line": {
                        "color": "#2a3f5f"
                      }
                    },
                    "polar": {
                      "radialaxis": {
                        "ticks": "",
                        "gridcolor": "white",
                        "linecolor": "white"
                      },
                      "bgcolor": "#E5ECF6",
                      "angularaxis": {
                        "ticks": "",
                        "gridcolor": "white",
                        "linecolor": "white"
                      }
                    },
                    "colorway": [
                      "#636efa",
                      "#EF553B",
                      "#00cc96",
                      "#ab63fa",
                      "#FFA15A",
                      "#19d3f3",
                      "#FF6692",
                      "#B6E880",
                      "#FF97FF",
                      "#FECB52"
                    ],
                    "xaxis": {
                      "automargin": true,
                      "title": {
                        "standoff": 15
                      },
                      "zerolinewidth": 2,
                      "ticks": "",
                      "zerolinecolor": "white",
                      "gridcolor": "white",
                      "linecolor": "white"
                    },
                    "colorscale": {
                      "diverging": [
                        [
                          0,
                          "#8e0152"
                        ],
                        [
                          0.1,
                          "#c51b7d"
                        ],
                        [
                          0.2,
                          "#de77ae"
                        ],
                        [
                          0.3,
                          "#f1b6da"
                        ],
                        [
                          0.4,
                          "#fde0ef"
                        ],
                        [
                          0.5,
                          "#f7f7f7"
                        ],
                        [
                          0.6,
                          "#e6f5d0"
                        ],
                        [
                          0.7,
                          "#b8e186"
                        ],
                        [
                          0.8,
                          "#7fbc41"
                        ],
                        [
                          0.9,
                          "#4d9221"
                        ],
                        [
                          1,
                          "#276419"
                        ]
                      ],
                      "sequential": [
                        [
                          0,
                          "#0d0887"
                        ],
                        [
                          0.1111111111111111,
                          "#46039f"
                        ],
                        [
                          0.2222222222222222,
                          "#7201a8"
                        ],
                        [
                          0.3333333333333333,
                          "#9c179e"
                        ],
                        [
                          0.4444444444444444,
                          "#bd3786"
                        ],
                        [
                          0.5555555555555556,
                          "#d8576b"
                        ],
                        [
                          0.6666666666666666,
                          "#ed7953"
                        ],
                        [
                          0.7777777777777778,
                          "#fb9f3a"
                        ],
                        [
                          0.8888888888888888,
                          "#fdca26"
                        ],
                        [
                          1,
                          "#f0f921"
                        ]
                      ],
                      "sequentialminus": [
                        [
                          0,
                          "#0d0887"
                        ],
                        [
                          0.1111111111111111,
                          "#46039f"
                        ],
                        [
                          0.2222222222222222,
                          "#7201a8"
                        ],
                        [
                          0.3333333333333333,
                          "#9c179e"
                        ],
                        [
                          0.4444444444444444,
                          "#bd3786"
                        ],
                        [
                          0.5555555555555556,
                          "#d8576b"
                        ],
                        [
                          0.6666666666666666,
                          "#ed7953"
                        ],
                        [
                          0.7777777777777778,
                          "#fb9f3a"
                        ],
                        [
                          0.8888888888888888,
                          "#fdca26"
                        ],
                        [
                          1,
                          "#f0f921"
                        ]
                      ]
                    },
                    "paper_bgcolor": "white",
                    "plot_bgcolor": "#E5ECF6",
                    "title": {
                      "x": 0.05
                    },
                    "scene": {
                      "zaxis": {
                        "backgroundcolor": "#E5ECF6",
                        "ticks": "",
                        "gridwidth": 2,
                        "showbackground": true,
                        "zerolinecolor": "white",
                        "gridcolor": "white",
                        "linecolor": "white"
                      },
                      "xaxis": {
                        "backgroundcolor": "#E5ECF6",
                        "ticks": "",
                        "gridwidth": 2,
                        "showbackground": true,
                        "zerolinecolor": "white",
                        "gridcolor": "white",
                        "linecolor": "white"
                      },
                      "yaxis": {
                        "backgroundcolor": "#E5ECF6",
                        "ticks": "",
                        "gridwidth": 2,
                        "showbackground": true,
                        "zerolinecolor": "white",
                        "gridcolor": "white",
                        "linecolor": "white"
                      }
                    },
                    "yaxis": {
                      "automargin": true,
                      "title": {
                        "standoff": 15
                      },
                      "zerolinewidth": 2,
                      "ticks": "",
                      "zerolinecolor": "white",
                      "gridcolor": "white",
                      "linecolor": "white"
                    },
                    "annotationdefaults": {
                      "arrowwidth": 1,
                      "arrowhead": 0,
                      "arrowcolor": "#2a3f5f"
                    },
                    "hoverlabel": {
                      "align": "left"
                    },
                    "ternary": {
                      "bgcolor": "#E5ECF6",
                      "baxis": {
                        "ticks": "",
                        "gridcolor": "white",
                        "linecolor": "white"
                      },
                      "caxis": {
                        "ticks": "",
                        "gridcolor": "white",
                        "linecolor": "white"
                      },
                      "aaxis": {
                        "ticks": "",
                        "gridcolor": "white",
                        "linecolor": "white"
                      }
                    },
                    "mapbox": {
                      "style": "light"
                    },
                    "hovermode": "closest",
                    "font": {
                      "color": "#2a3f5f"
                    },
                    "geo": {
                      "showland": true,
                      "landcolor": "#E5ECF6",
                      "showlakes": true,
                      "bgcolor": "white",
                      "subunitcolor": "white",
                      "lakecolor": "white"
                    },
                    "coloraxis": {
                      "colorbar": {
                        "outlinewidth": 0,
                        "ticks": ""
                      }
                    }
                  },
                  "data": {
                    "mesh3d": [
                      {
                        "colorbar": {
                          "outlinewidth": 0,
                          "ticks": ""
                        },
                        "type": "mesh3d"
                      }
                    ],
                    "scattercarpet": [
                      {
                        "marker": {
                          "colorbar": {
                            "outlinewidth": 0,
                            "ticks": ""
                          }
                        },
                        "type": "scattercarpet"
                      }
                    ],
                    "pie": [
                      {
                        "automargin": true,
                        "type": "pie"
                      }
                    ],
                    "surface": [
                      {
                        "colorbar": {
                          "outlinewidth": 0,
                          "ticks": ""
                        },
                        "type": "surface",
                        "colorscale": [
                          [
                            0,
                            "#0d0887"
                          ],
                          [
                            0.1111111111111111,
                            "#46039f"
                          ],
                          [
                            0.2222222222222222,
                            "#7201a8"
                          ],
                          [
                            0.3333333333333333,
                            "#9c179e"
                          ],
                          [
                            0.4444444444444444,
                            "#bd3786"
                          ],
                          [
                            0.5555555555555556,
                            "#d8576b"
                          ],
                          [
                            0.6666666666666666,
                            "#ed7953"
                          ],
                          [
                            0.7777777777777778,
                            "#fb9f3a"
                          ],
                          [
                            0.8888888888888888,
                            "#fdca26"
                          ],
                          [
                            1,
                            "#f0f921"
                          ]
                        ]
                      }
                    ],
                    "table": [
                      {
                        "header": {
                          "line": {
                            "color": "white"
                          },
                          "fill": {
                            "color": "#C8D4E3"
                          }
                        },
                        "cells": {
                          "line": {
                            "color": "white"
                          },
                          "fill": {
                            "color": "#EBF0F8"
                          }
                        },
                        "type": "table"
                      }
                    ],
                    "scatterpolargl": [
                      {
                        "marker": {
                          "colorbar": {
                            "outlinewidth": 0,
                            "ticks": ""
                          }
                        },
                        "type": "scatterpolargl"
                      }
                    ],
                    "contour": [
                      {
                        "colorbar": {
                          "outlinewidth": 0,
                          "ticks": ""
                        },
                        "type": "contour",
                        "colorscale": [
                          [
                            0,
                            "#0d0887"
                          ],
                          [
                            0.1111111111111111,
                            "#46039f"
                          ],
                          [
                            0.2222222222222222,
                            "#7201a8"
                          ],
                          [
                            0.3333333333333333,
                            "#9c179e"
                          ],
                          [
                            0.4444444444444444,
                            "#bd3786"
                          ],
                          [
                            0.5555555555555556,
                            "#d8576b"
                          ],
                          [
                            0.6666666666666666,
                            "#ed7953"
                          ],
                          [
                            0.7777777777777778,
                            "#fb9f3a"
                          ],
                          [
                            0.8888888888888888,
                            "#fdca26"
                          ],
                          [
                            1,
                            "#f0f921"
                          ]
                        ]
                      }
                    ],
                    "carpet": [
                      {
                        "type": "carpet",
                        "baxis": {
                          "minorgridcolor": "white",
                          "gridcolor": "white",
                          "linecolor": "white",
                          "endlinecolor": "#2a3f5f",
                          "startlinecolor": "#2a3f5f"
                        },
                        "aaxis": {
                          "minorgridcolor": "white",
                          "gridcolor": "white",
                          "linecolor": "white",
                          "endlinecolor": "#2a3f5f",
                          "startlinecolor": "#2a3f5f"
                        }
                      }
                    ],
                    "contourcarpet": [
                      {
                        "colorbar": {
                          "outlinewidth": 0,
                          "ticks": ""
                        },
                        "type": "contourcarpet"
                      }
                    ],
                    "heatmap": [
                      {
                        "colorbar": {
                          "outlinewidth": 0,
                          "ticks": ""
                        },
                        "type": "heatmap",
                        "colorscale": [
                          [
                            0,
                            "#0d0887"
                          ],
                          [
                            0.1111111111111111,
                            "#46039f"
                          ],
                          [
                            0.2222222222222222,
                            "#7201a8"
                          ],
                          [
                            0.3333333333333333,
                            "#9c179e"
                          ],
                          [
                            0.4444444444444444,
                            "#bd3786"
                          ],
                          [
                            0.5555555555555556,
                            "#d8576b"
                          ],
                          [
                            0.6666666666666666,
                            "#ed7953"
                          ],
                          [
                            0.7777777777777778,
                            "#fb9f3a"
                          ],
                          [
                            0.8888888888888888,
                            "#fdca26"
                          ],
                          [
                            1,
                            "#f0f921"
                          ]
                        ]
                      }
                    ],
                    "scattermapbox": [
                      {
                        "marker": {
                          "colorbar": {
                            "outlinewidth": 0,
                            "ticks": ""
                          }
                        },
                        "type": "scattermapbox"
                      }
                    ],
                    "scatter3d": [
                      {
                        "marker": {
                          "colorbar": {
                            "outlinewidth": 0,
                            "ticks": ""
                          }
                        },
                        "line": {
                          "colorbar": {
                            "outlinewidth": 0,
                            "ticks": ""
                          }
                        },
                        "type": "scatter3d"
                      }
                    ],
                    "scattergl": [
                      {
                        "marker": {
                          "colorbar": {
                            "outlinewidth": 0,
                            "ticks": ""
                          }
                        },
                        "type": "scattergl"
                      }
                    ],
                    "scatterternary": [
                      {
                        "marker": {
                          "colorbar": {
                            "outlinewidth": 0,
                            "ticks": ""
                          }
                        },
                        "type": "scatterternary"
                      }
                    ],
                    "histogram": [
                      {
                        "marker": {
                          "colorbar": {
                            "outlinewidth": 0,
                            "ticks": ""
                          }
                        },
                        "type": "histogram"
                      }
                    ],
                    "heatmapgl": [
                      {
                        "colorbar": {
                          "outlinewidth": 0,
                          "ticks": ""
                        },
                        "type": "heatmapgl",
                        "colorscale": [
                          [
                            0,
                            "#0d0887"
                          ],
                          [
                            0.1111111111111111,
                            "#46039f"
                          ],
                          [
                            0.2222222222222222,
                            "#7201a8"
                          ],
                          [
                            0.3333333333333333,
                            "#9c179e"
                          ],
                          [
                            0.4444444444444444,
                            "#bd3786"
                          ],
                          [
                            0.5555555555555556,
                            "#d8576b"
                          ],
                          [
                            0.6666666666666666,
                            "#ed7953"
                          ],
                          [
                            0.7777777777777778,
                            "#fb9f3a"
                          ],
                          [
                            0.8888888888888888,
                            "#fdca26"
                          ],
                          [
                            1,
                            "#f0f921"
                          ]
                        ]
                      }
                    ],
                    "scatterpolar": [
                      {
                        "marker": {
                          "colorbar": {
                            "outlinewidth": 0,
                            "ticks": ""
                          }
                        },
                        "type": "scatterpolar"
                      }
                    ],
                    "histogram2d": [
                      {
                        "colorbar": {
                          "outlinewidth": 0,
                          "ticks": ""
                        },
                        "type": "histogram2d",
                        "colorscale": [
                          [
                            0,
                            "#0d0887"
                          ],
                          [
                            0.1111111111111111,
                            "#46039f"
                          ],
                          [
                            0.2222222222222222,
                            "#7201a8"
                          ],
                          [
                            0.3333333333333333,
                            "#9c179e"
                          ],
                          [
                            0.4444444444444444,
                            "#bd3786"
                          ],
                          [
                            0.5555555555555556,
                            "#d8576b"
                          ],
                          [
                            0.6666666666666666,
                            "#ed7953"
                          ],
                          [
                            0.7777777777777778,
                            "#fb9f3a"
                          ],
                          [
                            0.8888888888888888,
                            "#fdca26"
                          ],
                          [
                            1,
                            "#f0f921"
                          ]
                        ]
                      }
                    ],
                    "scattergeo": [
                      {
                        "marker": {
                          "colorbar": {
                            "outlinewidth": 0,
                            "ticks": ""
                          }
                        },
                        "type": "scattergeo"
                      }
                    ],
                    "bar": [
                      {
                        "marker": {
                          "line": {
                            "color": "#E5ECF6",
                            "width": 0.5
                          }
                        },
                        "type": "bar",
                        "error_x": {
                          "color": "#2a3f5f"
                        },
                        "error_y": {
                          "color": "#2a3f5f"
                        }
                      }
                    ],
                    "choropleth": [
                      {
                        "colorbar": {
                          "outlinewidth": 0,
                          "ticks": ""
                        },
                        "type": "choropleth"
                      }
                    ],
                    "parcoords": [
                      {
                        "line": {
                          "colorbar": {
                            "outlinewidth": 0,
                            "ticks": ""
                          }
                        },
                        "type": "parcoords"
                      }
                    ],
                    "barpolar": [
                      {
                        "marker": {
                          "line": {
                            "color": "#E5ECF6",
                            "width": 0.5
                          }
                        },
                        "type": "barpolar"
                      }
                    ],
                    "histogram2dcontour": [
                      {
                        "colorbar": {
                          "outlinewidth": 0,
                          "ticks": ""
                        },
                        "type": "histogram2dcontour",
                        "colorscale": [
                          [
                            0,
                            "#0d0887"
                          ],
                          [
                            0.1111111111111111,
                            "#46039f"
                          ],
                          [
                            0.2222222222222222,
                            "#7201a8"
                          ],
                          [
                            0.3333333333333333,
                            "#9c179e"
                          ],
                          [
                            0.4444444444444444,
                            "#bd3786"
                          ],
                          [
                            0.5555555555555556,
                            "#d8576b"
                          ],
                          [
                            0.6666666666666666,
                            "#ed7953"
                          ],
                          [
                            0.7777777777777778,
                            "#fb9f3a"
                          ],
                          [
                            0.8888888888888888,
                            "#fdca26"
                          ],
                          [
                            1,
                            "#f0f921"
                          ]
                        ]
                      }
                    ],
                    "scatter": [
                      {
                        "marker": {
                          "colorbar": {
                            "outlinewidth": 0,
                            "ticks": ""
                          }
                        },
                        "type": "scatter"
                      }
                    ]
                  }
                },
                "legend": {
                  "bgcolor": "#F5F6F9",
                  "font": {
                    "color": "#4D5663"
                  }
                }
              }
            }
          },
          "metadata": {
            "tags": []
          }
        },
        {
          "output_type": "display_data",
          "data": {
            "text/html": [
              "        <script type=\"text/javascript\">\n",
              "        window.PlotlyConfig = {MathJaxConfig: 'local'};\n",
              "        if (window.MathJax) {MathJax.Hub.Config({SVG: {font: \"STIX-Web\"}});}\n",
              "        if (typeof require !== 'undefined') {\n",
              "        require.undef(\"plotly\");\n",
              "        requirejs.config({\n",
              "            paths: {\n",
              "                'plotly': ['https://cdn.plot.ly/plotly-latest.min']\n",
              "            }\n",
              "        });\n",
              "        require(['plotly'], function(Plotly) {\n",
              "            window._Plotly = Plotly;\n",
              "        });\n",
              "        }\n",
              "        </script>\n",
              "        "
            ]
          },
          "metadata": {
            "tags": []
          }
        },
        {
          "output_type": "display_data",
          "data": {
            "text/html": [
              "<div>\n",
              "        \n",
              "        \n",
              "            <div id=\"bfc85f75-5950-4058-9f64-95bbcab07ba3\" class=\"plotly-graph-div\" style=\"height:525px; width:100%;\"></div>\n",
              "            <script type=\"text/javascript\">\n",
              "                require([\"plotly\"], function(Plotly) {\n",
              "                    window.PLOTLYENV=window.PLOTLYENV || {};\n",
              "                    window.PLOTLYENV.BASE_URL='https://plot.ly';\n",
              "                    \n",
              "                if (document.getElementById(\"bfc85f75-5950-4058-9f64-95bbcab07ba3\")) {\n",
              "                    Plotly.newPlot(\n",
              "                        'bfc85f75-5950-4058-9f64-95bbcab07ba3',\n",
              "                        [{\"histfunc\": \"count\", \"histnorm\": \"\", \"marker\": {\"color\": \"rgba(255, 153, 51, 1.0)\", \"line\": {\"color\": \"#000000\", \"width\": 1.3}}, \"name\": \"Case Text\", \"nbinsx\": 50, \"opacity\": 0.8, \"orientation\": \"v\", \"type\": \"histogram\", \"x\": [0.056720166625827, 0.10739583333333336]}],\n",
              "                        {\"barmode\": \"overlay\", \"legend\": {\"bgcolor\": \"#F5F6F9\", \"font\": {\"color\": \"#4D5663\"}}, \"paper_bgcolor\": \"#F5F6F9\", \"plot_bgcolor\": \"#F5F6F9\", \"template\": {\"data\": {\"bar\": [{\"error_x\": {\"color\": \"#2a3f5f\"}, \"error_y\": {\"color\": \"#2a3f5f\"}, \"marker\": {\"line\": {\"color\": \"#E5ECF6\", \"width\": 0.5}}, \"type\": \"bar\"}], \"barpolar\": [{\"marker\": {\"line\": {\"color\": \"#E5ECF6\", \"width\": 0.5}}, \"type\": \"barpolar\"}], \"carpet\": [{\"aaxis\": {\"endlinecolor\": \"#2a3f5f\", \"gridcolor\": \"white\", \"linecolor\": \"white\", \"minorgridcolor\": \"white\", \"startlinecolor\": \"#2a3f5f\"}, \"baxis\": {\"endlinecolor\": \"#2a3f5f\", \"gridcolor\": \"white\", \"linecolor\": \"white\", \"minorgridcolor\": \"white\", \"startlinecolor\": \"#2a3f5f\"}, \"type\": \"carpet\"}], \"choropleth\": [{\"colorbar\": {\"outlinewidth\": 0, \"ticks\": \"\"}, \"type\": \"choropleth\"}], \"contour\": [{\"colorbar\": {\"outlinewidth\": 0, \"ticks\": \"\"}, \"colorscale\": [[0.0, \"#0d0887\"], [0.1111111111111111, \"#46039f\"], [0.2222222222222222, \"#7201a8\"], [0.3333333333333333, \"#9c179e\"], [0.4444444444444444, \"#bd3786\"], [0.5555555555555556, \"#d8576b\"], [0.6666666666666666, \"#ed7953\"], [0.7777777777777778, \"#fb9f3a\"], [0.8888888888888888, \"#fdca26\"], [1.0, \"#f0f921\"]], \"type\": \"contour\"}], \"contourcarpet\": [{\"colorbar\": {\"outlinewidth\": 0, \"ticks\": \"\"}, \"type\": \"contourcarpet\"}], \"heatmap\": [{\"colorbar\": {\"outlinewidth\": 0, \"ticks\": \"\"}, \"colorscale\": [[0.0, \"#0d0887\"], [0.1111111111111111, \"#46039f\"], [0.2222222222222222, \"#7201a8\"], [0.3333333333333333, \"#9c179e\"], [0.4444444444444444, \"#bd3786\"], [0.5555555555555556, \"#d8576b\"], [0.6666666666666666, \"#ed7953\"], [0.7777777777777778, \"#fb9f3a\"], [0.8888888888888888, \"#fdca26\"], [1.0, \"#f0f921\"]], \"type\": \"heatmap\"}], \"heatmapgl\": [{\"colorbar\": {\"outlinewidth\": 0, \"ticks\": \"\"}, \"colorscale\": [[0.0, \"#0d0887\"], [0.1111111111111111, \"#46039f\"], [0.2222222222222222, \"#7201a8\"], [0.3333333333333333, \"#9c179e\"], [0.4444444444444444, \"#bd3786\"], [0.5555555555555556, \"#d8576b\"], [0.6666666666666666, \"#ed7953\"], [0.7777777777777778, \"#fb9f3a\"], [0.8888888888888888, \"#fdca26\"], [1.0, \"#f0f921\"]], \"type\": \"heatmapgl\"}], \"histogram\": [{\"marker\": {\"colorbar\": {\"outlinewidth\": 0, \"ticks\": \"\"}}, \"type\": \"histogram\"}], \"histogram2d\": [{\"colorbar\": {\"outlinewidth\": 0, \"ticks\": \"\"}, \"colorscale\": [[0.0, \"#0d0887\"], [0.1111111111111111, \"#46039f\"], [0.2222222222222222, \"#7201a8\"], [0.3333333333333333, \"#9c179e\"], [0.4444444444444444, \"#bd3786\"], [0.5555555555555556, \"#d8576b\"], [0.6666666666666666, \"#ed7953\"], [0.7777777777777778, \"#fb9f3a\"], [0.8888888888888888, \"#fdca26\"], [1.0, \"#f0f921\"]], \"type\": \"histogram2d\"}], \"histogram2dcontour\": [{\"colorbar\": {\"outlinewidth\": 0, \"ticks\": \"\"}, \"colorscale\": [[0.0, \"#0d0887\"], [0.1111111111111111, \"#46039f\"], [0.2222222222222222, \"#7201a8\"], [0.3333333333333333, \"#9c179e\"], [0.4444444444444444, \"#bd3786\"], [0.5555555555555556, \"#d8576b\"], [0.6666666666666666, \"#ed7953\"], [0.7777777777777778, \"#fb9f3a\"], [0.8888888888888888, \"#fdca26\"], [1.0, \"#f0f921\"]], \"type\": \"histogram2dcontour\"}], \"mesh3d\": [{\"colorbar\": {\"outlinewidth\": 0, \"ticks\": \"\"}, \"type\": \"mesh3d\"}], \"parcoords\": [{\"line\": {\"colorbar\": {\"outlinewidth\": 0, \"ticks\": \"\"}}, \"type\": \"parcoords\"}], \"pie\": [{\"automargin\": true, \"type\": \"pie\"}], \"scatter\": [{\"marker\": {\"colorbar\": {\"outlinewidth\": 0, \"ticks\": \"\"}}, \"type\": \"scatter\"}], \"scatter3d\": [{\"line\": {\"colorbar\": {\"outlinewidth\": 0, \"ticks\": \"\"}}, \"marker\": {\"colorbar\": {\"outlinewidth\": 0, \"ticks\": \"\"}}, \"type\": \"scatter3d\"}], \"scattercarpet\": [{\"marker\": {\"colorbar\": {\"outlinewidth\": 0, \"ticks\": \"\"}}, \"type\": \"scattercarpet\"}], \"scattergeo\": [{\"marker\": {\"colorbar\": {\"outlinewidth\": 0, \"ticks\": \"\"}}, \"type\": \"scattergeo\"}], \"scattergl\": [{\"marker\": {\"colorbar\": {\"outlinewidth\": 0, \"ticks\": \"\"}}, \"type\": \"scattergl\"}], \"scattermapbox\": [{\"marker\": {\"colorbar\": {\"outlinewidth\": 0, \"ticks\": \"\"}}, \"type\": \"scattermapbox\"}], \"scatterpolar\": [{\"marker\": {\"colorbar\": {\"outlinewidth\": 0, \"ticks\": \"\"}}, \"type\": \"scatterpolar\"}], \"scatterpolargl\": [{\"marker\": {\"colorbar\": {\"outlinewidth\": 0, \"ticks\": \"\"}}, \"type\": \"scatterpolargl\"}], \"scatterternary\": [{\"marker\": {\"colorbar\": {\"outlinewidth\": 0, \"ticks\": \"\"}}, \"type\": \"scatterternary\"}], \"surface\": [{\"colorbar\": {\"outlinewidth\": 0, \"ticks\": \"\"}, \"colorscale\": [[0.0, \"#0d0887\"], [0.1111111111111111, \"#46039f\"], [0.2222222222222222, \"#7201a8\"], [0.3333333333333333, \"#9c179e\"], [0.4444444444444444, \"#bd3786\"], [0.5555555555555556, \"#d8576b\"], [0.6666666666666666, \"#ed7953\"], [0.7777777777777778, \"#fb9f3a\"], [0.8888888888888888, \"#fdca26\"], [1.0, \"#f0f921\"]], \"type\": \"surface\"}], \"table\": [{\"cells\": {\"fill\": {\"color\": \"#EBF0F8\"}, \"line\": {\"color\": \"white\"}}, \"header\": {\"fill\": {\"color\": \"#C8D4E3\"}, \"line\": {\"color\": \"white\"}}, \"type\": \"table\"}]}, \"layout\": {\"annotationdefaults\": {\"arrowcolor\": \"#2a3f5f\", \"arrowhead\": 0, \"arrowwidth\": 1}, \"coloraxis\": {\"colorbar\": {\"outlinewidth\": 0, \"ticks\": \"\"}}, \"colorscale\": {\"diverging\": [[0, \"#8e0152\"], [0.1, \"#c51b7d\"], [0.2, \"#de77ae\"], [0.3, \"#f1b6da\"], [0.4, \"#fde0ef\"], [0.5, \"#f7f7f7\"], [0.6, \"#e6f5d0\"], [0.7, \"#b8e186\"], [0.8, \"#7fbc41\"], [0.9, \"#4d9221\"], [1, \"#276419\"]], \"sequential\": [[0.0, \"#0d0887\"], [0.1111111111111111, \"#46039f\"], [0.2222222222222222, \"#7201a8\"], [0.3333333333333333, \"#9c179e\"], [0.4444444444444444, \"#bd3786\"], [0.5555555555555556, \"#d8576b\"], [0.6666666666666666, \"#ed7953\"], [0.7777777777777778, \"#fb9f3a\"], [0.8888888888888888, \"#fdca26\"], [1.0, \"#f0f921\"]], \"sequentialminus\": [[0.0, \"#0d0887\"], [0.1111111111111111, \"#46039f\"], [0.2222222222222222, \"#7201a8\"], [0.3333333333333333, \"#9c179e\"], [0.4444444444444444, \"#bd3786\"], [0.5555555555555556, \"#d8576b\"], [0.6666666666666666, \"#ed7953\"], [0.7777777777777778, \"#fb9f3a\"], [0.8888888888888888, \"#fdca26\"], [1.0, \"#f0f921\"]]}, \"colorway\": [\"#636efa\", \"#EF553B\", \"#00cc96\", \"#ab63fa\", \"#FFA15A\", \"#19d3f3\", \"#FF6692\", \"#B6E880\", \"#FF97FF\", \"#FECB52\"], \"font\": {\"color\": \"#2a3f5f\"}, \"geo\": {\"bgcolor\": \"white\", \"lakecolor\": \"white\", \"landcolor\": \"#E5ECF6\", \"showlakes\": true, \"showland\": true, \"subunitcolor\": \"white\"}, \"hoverlabel\": {\"align\": \"left\"}, \"hovermode\": \"closest\", \"mapbox\": {\"style\": \"light\"}, \"paper_bgcolor\": \"white\", \"plot_bgcolor\": \"#E5ECF6\", \"polar\": {\"angularaxis\": {\"gridcolor\": \"white\", \"linecolor\": \"white\", \"ticks\": \"\"}, \"bgcolor\": \"#E5ECF6\", \"radialaxis\": {\"gridcolor\": \"white\", \"linecolor\": \"white\", \"ticks\": \"\"}}, \"scene\": {\"xaxis\": {\"backgroundcolor\": \"#E5ECF6\", \"gridcolor\": \"white\", \"gridwidth\": 2, \"linecolor\": \"white\", \"showbackground\": true, \"ticks\": \"\", \"zerolinecolor\": \"white\"}, \"yaxis\": {\"backgroundcolor\": \"#E5ECF6\", \"gridcolor\": \"white\", \"gridwidth\": 2, \"linecolor\": \"white\", \"showbackground\": true, \"ticks\": \"\", \"zerolinecolor\": \"white\"}, \"zaxis\": {\"backgroundcolor\": \"#E5ECF6\", \"gridcolor\": \"white\", \"gridwidth\": 2, \"linecolor\": \"white\", \"showbackground\": true, \"ticks\": \"\", \"zerolinecolor\": \"white\"}}, \"shapedefaults\": {\"line\": {\"color\": \"#2a3f5f\"}}, \"ternary\": {\"aaxis\": {\"gridcolor\": \"white\", \"linecolor\": \"white\", \"ticks\": \"\"}, \"baxis\": {\"gridcolor\": \"white\", \"linecolor\": \"white\", \"ticks\": \"\"}, \"bgcolor\": \"#E5ECF6\", \"caxis\": {\"gridcolor\": \"white\", \"linecolor\": \"white\", \"ticks\": \"\"}}, \"title\": {\"x\": 0.05}, \"xaxis\": {\"automargin\": true, \"gridcolor\": \"white\", \"linecolor\": \"white\", \"ticks\": \"\", \"title\": {\"standoff\": 15}, \"zerolinecolor\": \"white\", \"zerolinewidth\": 2}, \"yaxis\": {\"automargin\": true, \"gridcolor\": \"white\", \"linecolor\": \"white\", \"ticks\": \"\", \"title\": {\"standoff\": 15}, \"zerolinecolor\": \"white\", \"zerolinewidth\": 2}}}, \"title\": {\"font\": {\"color\": \"#4D5663\"}, \"text\": \"Topic 5: Sentiment Polarity Distribution\"}, \"xaxis\": {\"gridcolor\": \"#E1E5ED\", \"linecolor\": \"black\", \"showgrid\": true, \"tickfont\": {\"color\": \"#4D5663\"}, \"title\": {\"font\": {\"color\": \"#4D5663\"}, \"text\": \"polarity\"}, \"zerolinecolor\": \"#E1E5ED\"}, \"yaxis\": {\"gridcolor\": \"#E1E5ED\", \"linecolor\": \"black\", \"showgrid\": true, \"tickfont\": {\"color\": \"#4D5663\"}, \"title\": {\"font\": {\"color\": \"#4D5663\"}, \"text\": \"count\"}, \"zerolinecolor\": \"#E1E5ED\"}},\n",
              "                        {\"showLink\": true, \"linkText\": \"Export to plot.ly\", \"plotlyServerURL\": \"https://plot.ly\", \"responsive\": true}\n",
              "                    ).then(function(){\n",
              "                            \n",
              "var gd = document.getElementById('bfc85f75-5950-4058-9f64-95bbcab07ba3');\n",
              "var x = new MutationObserver(function (mutations, observer) {{\n",
              "        var display = window.getComputedStyle(gd).display;\n",
              "        if (!display || display === 'none') {{\n",
              "            console.log([gd, 'removed!']);\n",
              "            Plotly.purge(gd);\n",
              "            observer.disconnect();\n",
              "        }}\n",
              "}});\n",
              "\n",
              "// Listen for the removal of the full notebook cells\n",
              "var notebookContainer = gd.closest('#notebook-container');\n",
              "if (notebookContainer) {{\n",
              "    x.observe(notebookContainer, {childList: true});\n",
              "}}\n",
              "\n",
              "// Listen for the clearing of the current output cell\n",
              "var outputEl = gd.closest('.output');\n",
              "if (outputEl) {{\n",
              "    x.observe(outputEl, {childList: true});\n",
              "}}\n",
              "\n",
              "                        })\n",
              "                };\n",
              "                });\n",
              "            </script>\n",
              "        </div>"
            ],
            "application/vnd.plotly.v1+json": {
              "data": [
                {
                  "opacity": 0.8,
                  "name": "Case Text",
                  "histnorm": "",
                  "nbinsx": 50,
                  "histfunc": "count",
                  "marker": {
                    "color": "rgba(255, 153, 51, 1.0)",
                    "line": {
                      "color": "#000000",
                      "width": 1.3
                    }
                  },
                  "x": [
                    0.056720166625827,
                    0.10739583333333336
                  ],
                  "type": "histogram",
                  "orientation": "v"
                }
              ],
              "config": {
                "plotlyServerURL": "https://plot.ly",
                "linkText": "Export to plot.ly",
                "showLink": true
              },
              "layout": {
                "xaxis": {
                  "tickfont": {
                    "color": "#4D5663"
                  },
                  "title": {
                    "text": "polarity",
                    "font": {
                      "color": "#4D5663"
                    }
                  },
                  "showgrid": true,
                  "zerolinecolor": "#E1E5ED",
                  "gridcolor": "#E1E5ED",
                  "linecolor": "black"
                },
                "title": {
                  "text": "Topic 5: Sentiment Polarity Distribution",
                  "font": {
                    "color": "#4D5663"
                  }
                },
                "paper_bgcolor": "#F5F6F9",
                "plot_bgcolor": "#F5F6F9",
                "yaxis": {
                  "tickfont": {
                    "color": "#4D5663"
                  },
                  "title": {
                    "text": "count",
                    "font": {
                      "color": "#4D5663"
                    }
                  },
                  "showgrid": true,
                  "zerolinecolor": "#E1E5ED",
                  "gridcolor": "#E1E5ED",
                  "linecolor": "black"
                },
                "barmode": "overlay",
                "template": {
                  "layout": {
                    "shapedefaults": {
                      "line": {
                        "color": "#2a3f5f"
                      }
                    },
                    "polar": {
                      "radialaxis": {
                        "ticks": "",
                        "gridcolor": "white",
                        "linecolor": "white"
                      },
                      "bgcolor": "#E5ECF6",
                      "angularaxis": {
                        "ticks": "",
                        "gridcolor": "white",
                        "linecolor": "white"
                      }
                    },
                    "colorway": [
                      "#636efa",
                      "#EF553B",
                      "#00cc96",
                      "#ab63fa",
                      "#FFA15A",
                      "#19d3f3",
                      "#FF6692",
                      "#B6E880",
                      "#FF97FF",
                      "#FECB52"
                    ],
                    "xaxis": {
                      "automargin": true,
                      "title": {
                        "standoff": 15
                      },
                      "zerolinewidth": 2,
                      "ticks": "",
                      "zerolinecolor": "white",
                      "gridcolor": "white",
                      "linecolor": "white"
                    },
                    "colorscale": {
                      "diverging": [
                        [
                          0,
                          "#8e0152"
                        ],
                        [
                          0.1,
                          "#c51b7d"
                        ],
                        [
                          0.2,
                          "#de77ae"
                        ],
                        [
                          0.3,
                          "#f1b6da"
                        ],
                        [
                          0.4,
                          "#fde0ef"
                        ],
                        [
                          0.5,
                          "#f7f7f7"
                        ],
                        [
                          0.6,
                          "#e6f5d0"
                        ],
                        [
                          0.7,
                          "#b8e186"
                        ],
                        [
                          0.8,
                          "#7fbc41"
                        ],
                        [
                          0.9,
                          "#4d9221"
                        ],
                        [
                          1,
                          "#276419"
                        ]
                      ],
                      "sequential": [
                        [
                          0,
                          "#0d0887"
                        ],
                        [
                          0.1111111111111111,
                          "#46039f"
                        ],
                        [
                          0.2222222222222222,
                          "#7201a8"
                        ],
                        [
                          0.3333333333333333,
                          "#9c179e"
                        ],
                        [
                          0.4444444444444444,
                          "#bd3786"
                        ],
                        [
                          0.5555555555555556,
                          "#d8576b"
                        ],
                        [
                          0.6666666666666666,
                          "#ed7953"
                        ],
                        [
                          0.7777777777777778,
                          "#fb9f3a"
                        ],
                        [
                          0.8888888888888888,
                          "#fdca26"
                        ],
                        [
                          1,
                          "#f0f921"
                        ]
                      ],
                      "sequentialminus": [
                        [
                          0,
                          "#0d0887"
                        ],
                        [
                          0.1111111111111111,
                          "#46039f"
                        ],
                        [
                          0.2222222222222222,
                          "#7201a8"
                        ],
                        [
                          0.3333333333333333,
                          "#9c179e"
                        ],
                        [
                          0.4444444444444444,
                          "#bd3786"
                        ],
                        [
                          0.5555555555555556,
                          "#d8576b"
                        ],
                        [
                          0.6666666666666666,
                          "#ed7953"
                        ],
                        [
                          0.7777777777777778,
                          "#fb9f3a"
                        ],
                        [
                          0.8888888888888888,
                          "#fdca26"
                        ],
                        [
                          1,
                          "#f0f921"
                        ]
                      ]
                    },
                    "paper_bgcolor": "white",
                    "plot_bgcolor": "#E5ECF6",
                    "title": {
                      "x": 0.05
                    },
                    "scene": {
                      "zaxis": {
                        "backgroundcolor": "#E5ECF6",
                        "ticks": "",
                        "gridwidth": 2,
                        "showbackground": true,
                        "zerolinecolor": "white",
                        "gridcolor": "white",
                        "linecolor": "white"
                      },
                      "xaxis": {
                        "backgroundcolor": "#E5ECF6",
                        "ticks": "",
                        "gridwidth": 2,
                        "showbackground": true,
                        "zerolinecolor": "white",
                        "gridcolor": "white",
                        "linecolor": "white"
                      },
                      "yaxis": {
                        "backgroundcolor": "#E5ECF6",
                        "ticks": "",
                        "gridwidth": 2,
                        "showbackground": true,
                        "zerolinecolor": "white",
                        "gridcolor": "white",
                        "linecolor": "white"
                      }
                    },
                    "yaxis": {
                      "automargin": true,
                      "title": {
                        "standoff": 15
                      },
                      "zerolinewidth": 2,
                      "ticks": "",
                      "zerolinecolor": "white",
                      "gridcolor": "white",
                      "linecolor": "white"
                    },
                    "annotationdefaults": {
                      "arrowwidth": 1,
                      "arrowhead": 0,
                      "arrowcolor": "#2a3f5f"
                    },
                    "hoverlabel": {
                      "align": "left"
                    },
                    "ternary": {
                      "bgcolor": "#E5ECF6",
                      "baxis": {
                        "ticks": "",
                        "gridcolor": "white",
                        "linecolor": "white"
                      },
                      "caxis": {
                        "ticks": "",
                        "gridcolor": "white",
                        "linecolor": "white"
                      },
                      "aaxis": {
                        "ticks": "",
                        "gridcolor": "white",
                        "linecolor": "white"
                      }
                    },
                    "mapbox": {
                      "style": "light"
                    },
                    "hovermode": "closest",
                    "font": {
                      "color": "#2a3f5f"
                    },
                    "geo": {
                      "showland": true,
                      "landcolor": "#E5ECF6",
                      "showlakes": true,
                      "bgcolor": "white",
                      "subunitcolor": "white",
                      "lakecolor": "white"
                    },
                    "coloraxis": {
                      "colorbar": {
                        "outlinewidth": 0,
                        "ticks": ""
                      }
                    }
                  },
                  "data": {
                    "mesh3d": [
                      {
                        "colorbar": {
                          "outlinewidth": 0,
                          "ticks": ""
                        },
                        "type": "mesh3d"
                      }
                    ],
                    "scattercarpet": [
                      {
                        "marker": {
                          "colorbar": {
                            "outlinewidth": 0,
                            "ticks": ""
                          }
                        },
                        "type": "scattercarpet"
                      }
                    ],
                    "pie": [
                      {
                        "automargin": true,
                        "type": "pie"
                      }
                    ],
                    "surface": [
                      {
                        "colorbar": {
                          "outlinewidth": 0,
                          "ticks": ""
                        },
                        "type": "surface",
                        "colorscale": [
                          [
                            0,
                            "#0d0887"
                          ],
                          [
                            0.1111111111111111,
                            "#46039f"
                          ],
                          [
                            0.2222222222222222,
                            "#7201a8"
                          ],
                          [
                            0.3333333333333333,
                            "#9c179e"
                          ],
                          [
                            0.4444444444444444,
                            "#bd3786"
                          ],
                          [
                            0.5555555555555556,
                            "#d8576b"
                          ],
                          [
                            0.6666666666666666,
                            "#ed7953"
                          ],
                          [
                            0.7777777777777778,
                            "#fb9f3a"
                          ],
                          [
                            0.8888888888888888,
                            "#fdca26"
                          ],
                          [
                            1,
                            "#f0f921"
                          ]
                        ]
                      }
                    ],
                    "table": [
                      {
                        "header": {
                          "line": {
                            "color": "white"
                          },
                          "fill": {
                            "color": "#C8D4E3"
                          }
                        },
                        "cells": {
                          "line": {
                            "color": "white"
                          },
                          "fill": {
                            "color": "#EBF0F8"
                          }
                        },
                        "type": "table"
                      }
                    ],
                    "scatterpolargl": [
                      {
                        "marker": {
                          "colorbar": {
                            "outlinewidth": 0,
                            "ticks": ""
                          }
                        },
                        "type": "scatterpolargl"
                      }
                    ],
                    "contour": [
                      {
                        "colorbar": {
                          "outlinewidth": 0,
                          "ticks": ""
                        },
                        "type": "contour",
                        "colorscale": [
                          [
                            0,
                            "#0d0887"
                          ],
                          [
                            0.1111111111111111,
                            "#46039f"
                          ],
                          [
                            0.2222222222222222,
                            "#7201a8"
                          ],
                          [
                            0.3333333333333333,
                            "#9c179e"
                          ],
                          [
                            0.4444444444444444,
                            "#bd3786"
                          ],
                          [
                            0.5555555555555556,
                            "#d8576b"
                          ],
                          [
                            0.6666666666666666,
                            "#ed7953"
                          ],
                          [
                            0.7777777777777778,
                            "#fb9f3a"
                          ],
                          [
                            0.8888888888888888,
                            "#fdca26"
                          ],
                          [
                            1,
                            "#f0f921"
                          ]
                        ]
                      }
                    ],
                    "carpet": [
                      {
                        "type": "carpet",
                        "baxis": {
                          "minorgridcolor": "white",
                          "gridcolor": "white",
                          "linecolor": "white",
                          "endlinecolor": "#2a3f5f",
                          "startlinecolor": "#2a3f5f"
                        },
                        "aaxis": {
                          "minorgridcolor": "white",
                          "gridcolor": "white",
                          "linecolor": "white",
                          "endlinecolor": "#2a3f5f",
                          "startlinecolor": "#2a3f5f"
                        }
                      }
                    ],
                    "contourcarpet": [
                      {
                        "colorbar": {
                          "outlinewidth": 0,
                          "ticks": ""
                        },
                        "type": "contourcarpet"
                      }
                    ],
                    "heatmap": [
                      {
                        "colorbar": {
                          "outlinewidth": 0,
                          "ticks": ""
                        },
                        "type": "heatmap",
                        "colorscale": [
                          [
                            0,
                            "#0d0887"
                          ],
                          [
                            0.1111111111111111,
                            "#46039f"
                          ],
                          [
                            0.2222222222222222,
                            "#7201a8"
                          ],
                          [
                            0.3333333333333333,
                            "#9c179e"
                          ],
                          [
                            0.4444444444444444,
                            "#bd3786"
                          ],
                          [
                            0.5555555555555556,
                            "#d8576b"
                          ],
                          [
                            0.6666666666666666,
                            "#ed7953"
                          ],
                          [
                            0.7777777777777778,
                            "#fb9f3a"
                          ],
                          [
                            0.8888888888888888,
                            "#fdca26"
                          ],
                          [
                            1,
                            "#f0f921"
                          ]
                        ]
                      }
                    ],
                    "scattermapbox": [
                      {
                        "marker": {
                          "colorbar": {
                            "outlinewidth": 0,
                            "ticks": ""
                          }
                        },
                        "type": "scattermapbox"
                      }
                    ],
                    "scatter3d": [
                      {
                        "marker": {
                          "colorbar": {
                            "outlinewidth": 0,
                            "ticks": ""
                          }
                        },
                        "line": {
                          "colorbar": {
                            "outlinewidth": 0,
                            "ticks": ""
                          }
                        },
                        "type": "scatter3d"
                      }
                    ],
                    "scattergl": [
                      {
                        "marker": {
                          "colorbar": {
                            "outlinewidth": 0,
                            "ticks": ""
                          }
                        },
                        "type": "scattergl"
                      }
                    ],
                    "scatterternary": [
                      {
                        "marker": {
                          "colorbar": {
                            "outlinewidth": 0,
                            "ticks": ""
                          }
                        },
                        "type": "scatterternary"
                      }
                    ],
                    "histogram": [
                      {
                        "marker": {
                          "colorbar": {
                            "outlinewidth": 0,
                            "ticks": ""
                          }
                        },
                        "type": "histogram"
                      }
                    ],
                    "heatmapgl": [
                      {
                        "colorbar": {
                          "outlinewidth": 0,
                          "ticks": ""
                        },
                        "type": "heatmapgl",
                        "colorscale": [
                          [
                            0,
                            "#0d0887"
                          ],
                          [
                            0.1111111111111111,
                            "#46039f"
                          ],
                          [
                            0.2222222222222222,
                            "#7201a8"
                          ],
                          [
                            0.3333333333333333,
                            "#9c179e"
                          ],
                          [
                            0.4444444444444444,
                            "#bd3786"
                          ],
                          [
                            0.5555555555555556,
                            "#d8576b"
                          ],
                          [
                            0.6666666666666666,
                            "#ed7953"
                          ],
                          [
                            0.7777777777777778,
                            "#fb9f3a"
                          ],
                          [
                            0.8888888888888888,
                            "#fdca26"
                          ],
                          [
                            1,
                            "#f0f921"
                          ]
                        ]
                      }
                    ],
                    "scatterpolar": [
                      {
                        "marker": {
                          "colorbar": {
                            "outlinewidth": 0,
                            "ticks": ""
                          }
                        },
                        "type": "scatterpolar"
                      }
                    ],
                    "histogram2d": [
                      {
                        "colorbar": {
                          "outlinewidth": 0,
                          "ticks": ""
                        },
                        "type": "histogram2d",
                        "colorscale": [
                          [
                            0,
                            "#0d0887"
                          ],
                          [
                            0.1111111111111111,
                            "#46039f"
                          ],
                          [
                            0.2222222222222222,
                            "#7201a8"
                          ],
                          [
                            0.3333333333333333,
                            "#9c179e"
                          ],
                          [
                            0.4444444444444444,
                            "#bd3786"
                          ],
                          [
                            0.5555555555555556,
                            "#d8576b"
                          ],
                          [
                            0.6666666666666666,
                            "#ed7953"
                          ],
                          [
                            0.7777777777777778,
                            "#fb9f3a"
                          ],
                          [
                            0.8888888888888888,
                            "#fdca26"
                          ],
                          [
                            1,
                            "#f0f921"
                          ]
                        ]
                      }
                    ],
                    "scattergeo": [
                      {
                        "marker": {
                          "colorbar": {
                            "outlinewidth": 0,
                            "ticks": ""
                          }
                        },
                        "type": "scattergeo"
                      }
                    ],
                    "bar": [
                      {
                        "marker": {
                          "line": {
                            "color": "#E5ECF6",
                            "width": 0.5
                          }
                        },
                        "type": "bar",
                        "error_x": {
                          "color": "#2a3f5f"
                        },
                        "error_y": {
                          "color": "#2a3f5f"
                        }
                      }
                    ],
                    "choropleth": [
                      {
                        "colorbar": {
                          "outlinewidth": 0,
                          "ticks": ""
                        },
                        "type": "choropleth"
                      }
                    ],
                    "parcoords": [
                      {
                        "line": {
                          "colorbar": {
                            "outlinewidth": 0,
                            "ticks": ""
                          }
                        },
                        "type": "parcoords"
                      }
                    ],
                    "barpolar": [
                      {
                        "marker": {
                          "line": {
                            "color": "#E5ECF6",
                            "width": 0.5
                          }
                        },
                        "type": "barpolar"
                      }
                    ],
                    "histogram2dcontour": [
                      {
                        "colorbar": {
                          "outlinewidth": 0,
                          "ticks": ""
                        },
                        "type": "histogram2dcontour",
                        "colorscale": [
                          [
                            0,
                            "#0d0887"
                          ],
                          [
                            0.1111111111111111,
                            "#46039f"
                          ],
                          [
                            0.2222222222222222,
                            "#7201a8"
                          ],
                          [
                            0.3333333333333333,
                            "#9c179e"
                          ],
                          [
                            0.4444444444444444,
                            "#bd3786"
                          ],
                          [
                            0.5555555555555556,
                            "#d8576b"
                          ],
                          [
                            0.6666666666666666,
                            "#ed7953"
                          ],
                          [
                            0.7777777777777778,
                            "#fb9f3a"
                          ],
                          [
                            0.8888888888888888,
                            "#fdca26"
                          ],
                          [
                            1,
                            "#f0f921"
                          ]
                        ]
                      }
                    ],
                    "scatter": [
                      {
                        "marker": {
                          "colorbar": {
                            "outlinewidth": 0,
                            "ticks": ""
                          }
                        },
                        "type": "scatter"
                      }
                    ]
                  }
                },
                "legend": {
                  "bgcolor": "#F5F6F9",
                  "font": {
                    "color": "#4D5663"
                  }
                }
              }
            }
          },
          "metadata": {
            "tags": []
          }
        },
        {
          "output_type": "display_data",
          "data": {
            "text/html": [
              "        <script type=\"text/javascript\">\n",
              "        window.PlotlyConfig = {MathJaxConfig: 'local'};\n",
              "        if (window.MathJax) {MathJax.Hub.Config({SVG: {font: \"STIX-Web\"}});}\n",
              "        if (typeof require !== 'undefined') {\n",
              "        require.undef(\"plotly\");\n",
              "        requirejs.config({\n",
              "            paths: {\n",
              "                'plotly': ['https://cdn.plot.ly/plotly-latest.min']\n",
              "            }\n",
              "        });\n",
              "        require(['plotly'], function(Plotly) {\n",
              "            window._Plotly = Plotly;\n",
              "        });\n",
              "        }\n",
              "        </script>\n",
              "        "
            ]
          },
          "metadata": {
            "tags": []
          }
        },
        {
          "output_type": "display_data",
          "data": {
            "text/html": [
              "<div>\n",
              "        \n",
              "        \n",
              "            <div id=\"ea7b675d-c0de-4b63-bfbc-ef846a886245\" class=\"plotly-graph-div\" style=\"height:800px; width:900px;\"></div>\n",
              "            <script type=\"text/javascript\">\n",
              "                require([\"plotly\"], function(Plotly) {\n",
              "                    window.PLOTLYENV=window.PLOTLYENV || {};\n",
              "                    \n",
              "                if (document.getElementById(\"ea7b675d-c0de-4b63-bfbc-ef846a886245\")) {\n",
              "                    Plotly.newPlot(\n",
              "                        'ea7b675d-c0de-4b63-bfbc-ef846a886245',\n",
              "                        [{\"hoverlabel\": {\"namelength\": 0}, \"hovertemplate\": \"Dominant_Topic=Topic 1<br>0=%{x}<br>1=%{y}<br>2=%{z}\", \"legendgroup\": \"Dominant_Topic=Topic 1\", \"marker\": {\"color\": \"#636efa\", \"opacity\": 0.7, \"symbol\": \"circle\"}, \"mode\": \"markers\", \"name\": \"Dominant_Topic=Topic 1\", \"scene\": \"scene\", \"showlegend\": true, \"type\": \"scatter3d\", \"x\": [-61.819480895996094, 296.1993713378906], \"y\": [87.46733093261719, 225.74473571777344], \"z\": [201.71685791015625, 118.76709747314453]}, {\"hoverlabel\": {\"namelength\": 0}, \"hovertemplate\": \"Dominant_Topic=Topic 2<br>0=%{x}<br>1=%{y}<br>2=%{z}\", \"legendgroup\": \"Dominant_Topic=Topic 2\", \"marker\": {\"color\": \"#EF553B\", \"opacity\": 0.7, \"symbol\": \"circle\"}, \"mode\": \"markers\", \"name\": \"Dominant_Topic=Topic 2\", \"scene\": \"scene\", \"showlegend\": true, \"type\": \"scatter3d\", \"x\": [76.52674102783203], \"y\": [101.13990020751953], \"z\": [-229.17823791503906]}, {\"hoverlabel\": {\"namelength\": 0}, \"hovertemplate\": \"Dominant_Topic=Topic 5<br>0=%{x}<br>1=%{y}<br>2=%{z}\", \"legendgroup\": \"Dominant_Topic=Topic 5\", \"marker\": {\"color\": \"#00cc96\", \"opacity\": 0.7, \"symbol\": \"circle\"}, \"mode\": \"markers\", \"name\": \"Dominant_Topic=Topic 5\", \"scene\": \"scene\", \"showlegend\": true, \"type\": \"scatter3d\", \"x\": [-353.5646667480469, 108.9616928100586], \"y\": [-98.95519256591797, -250.99400329589844], \"z\": [21.101009368896484, -2.526215076446533]}],\n",
              "                        {\"height\": 800, \"legend\": {\"tracegroupgap\": 0}, \"scene\": {\"domain\": {\"x\": [0.0, 1.0], \"y\": [0.0, 1.0]}, \"xaxis\": {\"title\": {\"text\": \"0\"}}, \"yaxis\": {\"title\": {\"text\": \"1\"}}, \"zaxis\": {\"title\": {\"text\": \"2\"}}}, \"template\": {\"data\": {\"bar\": [{\"error_x\": {\"color\": \"#2a3f5f\"}, \"error_y\": {\"color\": \"#2a3f5f\"}, \"marker\": {\"line\": {\"color\": \"#E5ECF6\", \"width\": 0.5}}, \"type\": \"bar\"}], \"barpolar\": [{\"marker\": {\"line\": {\"color\": \"#E5ECF6\", \"width\": 0.5}}, \"type\": \"barpolar\"}], \"carpet\": [{\"aaxis\": {\"endlinecolor\": \"#2a3f5f\", \"gridcolor\": \"white\", \"linecolor\": \"white\", \"minorgridcolor\": \"white\", \"startlinecolor\": \"#2a3f5f\"}, \"baxis\": {\"endlinecolor\": \"#2a3f5f\", \"gridcolor\": \"white\", \"linecolor\": \"white\", \"minorgridcolor\": \"white\", \"startlinecolor\": \"#2a3f5f\"}, \"type\": \"carpet\"}], \"choropleth\": [{\"colorbar\": {\"outlinewidth\": 0, \"ticks\": \"\"}, \"type\": \"choropleth\"}], \"contour\": [{\"colorbar\": {\"outlinewidth\": 0, \"ticks\": \"\"}, \"colorscale\": [[0.0, \"#0d0887\"], [0.1111111111111111, \"#46039f\"], [0.2222222222222222, \"#7201a8\"], [0.3333333333333333, \"#9c179e\"], [0.4444444444444444, \"#bd3786\"], [0.5555555555555556, \"#d8576b\"], [0.6666666666666666, \"#ed7953\"], [0.7777777777777778, \"#fb9f3a\"], [0.8888888888888888, \"#fdca26\"], [1.0, \"#f0f921\"]], \"type\": \"contour\"}], \"contourcarpet\": [{\"colorbar\": {\"outlinewidth\": 0, \"ticks\": \"\"}, \"type\": \"contourcarpet\"}], \"heatmap\": [{\"colorbar\": {\"outlinewidth\": 0, \"ticks\": \"\"}, \"colorscale\": [[0.0, \"#0d0887\"], [0.1111111111111111, \"#46039f\"], [0.2222222222222222, \"#7201a8\"], [0.3333333333333333, \"#9c179e\"], [0.4444444444444444, \"#bd3786\"], [0.5555555555555556, \"#d8576b\"], [0.6666666666666666, \"#ed7953\"], [0.7777777777777778, \"#fb9f3a\"], [0.8888888888888888, \"#fdca26\"], [1.0, \"#f0f921\"]], \"type\": \"heatmap\"}], \"heatmapgl\": [{\"colorbar\": {\"outlinewidth\": 0, \"ticks\": \"\"}, \"colorscale\": [[0.0, \"#0d0887\"], [0.1111111111111111, \"#46039f\"], [0.2222222222222222, \"#7201a8\"], [0.3333333333333333, \"#9c179e\"], [0.4444444444444444, \"#bd3786\"], [0.5555555555555556, \"#d8576b\"], [0.6666666666666666, \"#ed7953\"], [0.7777777777777778, \"#fb9f3a\"], [0.8888888888888888, \"#fdca26\"], [1.0, \"#f0f921\"]], \"type\": \"heatmapgl\"}], \"histogram\": [{\"marker\": {\"colorbar\": {\"outlinewidth\": 0, \"ticks\": \"\"}}, \"type\": \"histogram\"}], \"histogram2d\": [{\"colorbar\": {\"outlinewidth\": 0, \"ticks\": \"\"}, \"colorscale\": [[0.0, \"#0d0887\"], [0.1111111111111111, \"#46039f\"], [0.2222222222222222, \"#7201a8\"], [0.3333333333333333, \"#9c179e\"], [0.4444444444444444, \"#bd3786\"], [0.5555555555555556, \"#d8576b\"], [0.6666666666666666, \"#ed7953\"], [0.7777777777777778, \"#fb9f3a\"], [0.8888888888888888, \"#fdca26\"], [1.0, \"#f0f921\"]], \"type\": \"histogram2d\"}], \"histogram2dcontour\": [{\"colorbar\": {\"outlinewidth\": 0, \"ticks\": \"\"}, \"colorscale\": [[0.0, \"#0d0887\"], [0.1111111111111111, \"#46039f\"], [0.2222222222222222, \"#7201a8\"], [0.3333333333333333, \"#9c179e\"], [0.4444444444444444, \"#bd3786\"], [0.5555555555555556, \"#d8576b\"], [0.6666666666666666, \"#ed7953\"], [0.7777777777777778, \"#fb9f3a\"], [0.8888888888888888, \"#fdca26\"], [1.0, \"#f0f921\"]], \"type\": \"histogram2dcontour\"}], \"mesh3d\": [{\"colorbar\": {\"outlinewidth\": 0, \"ticks\": \"\"}, \"type\": \"mesh3d\"}], \"parcoords\": [{\"line\": {\"colorbar\": {\"outlinewidth\": 0, \"ticks\": \"\"}}, \"type\": \"parcoords\"}], \"pie\": [{\"automargin\": true, \"type\": \"pie\"}], \"scatter\": [{\"marker\": {\"colorbar\": {\"outlinewidth\": 0, \"ticks\": \"\"}}, \"type\": \"scatter\"}], \"scatter3d\": [{\"line\": {\"colorbar\": {\"outlinewidth\": 0, \"ticks\": \"\"}}, \"marker\": {\"colorbar\": {\"outlinewidth\": 0, \"ticks\": \"\"}}, \"type\": \"scatter3d\"}], \"scattercarpet\": [{\"marker\": {\"colorbar\": {\"outlinewidth\": 0, \"ticks\": \"\"}}, \"type\": \"scattercarpet\"}], \"scattergeo\": [{\"marker\": {\"colorbar\": {\"outlinewidth\": 0, \"ticks\": \"\"}}, \"type\": \"scattergeo\"}], \"scattergl\": [{\"marker\": {\"colorbar\": {\"outlinewidth\": 0, \"ticks\": \"\"}}, \"type\": \"scattergl\"}], \"scattermapbox\": [{\"marker\": {\"colorbar\": {\"outlinewidth\": 0, \"ticks\": \"\"}}, \"type\": \"scattermapbox\"}], \"scatterpolar\": [{\"marker\": {\"colorbar\": {\"outlinewidth\": 0, \"ticks\": \"\"}}, \"type\": \"scatterpolar\"}], \"scatterpolargl\": [{\"marker\": {\"colorbar\": {\"outlinewidth\": 0, \"ticks\": \"\"}}, \"type\": \"scatterpolargl\"}], \"scatterternary\": [{\"marker\": {\"colorbar\": {\"outlinewidth\": 0, \"ticks\": \"\"}}, \"type\": \"scatterternary\"}], \"surface\": [{\"colorbar\": {\"outlinewidth\": 0, \"ticks\": \"\"}, \"colorscale\": [[0.0, \"#0d0887\"], [0.1111111111111111, \"#46039f\"], [0.2222222222222222, \"#7201a8\"], [0.3333333333333333, \"#9c179e\"], [0.4444444444444444, \"#bd3786\"], [0.5555555555555556, \"#d8576b\"], [0.6666666666666666, \"#ed7953\"], [0.7777777777777778, \"#fb9f3a\"], [0.8888888888888888, \"#fdca26\"], [1.0, \"#f0f921\"]], \"type\": \"surface\"}], \"table\": [{\"cells\": {\"fill\": {\"color\": \"#EBF0F8\"}, \"line\": {\"color\": \"white\"}}, \"header\": {\"fill\": {\"color\": \"#C8D4E3\"}, \"line\": {\"color\": \"white\"}}, \"type\": \"table\"}]}, \"layout\": {\"annotationdefaults\": {\"arrowcolor\": \"#2a3f5f\", \"arrowhead\": 0, \"arrowwidth\": 1}, \"coloraxis\": {\"colorbar\": {\"outlinewidth\": 0, \"ticks\": \"\"}}, \"colorscale\": {\"diverging\": [[0, \"#8e0152\"], [0.1, \"#c51b7d\"], [0.2, \"#de77ae\"], [0.3, \"#f1b6da\"], [0.4, \"#fde0ef\"], [0.5, \"#f7f7f7\"], [0.6, \"#e6f5d0\"], [0.7, \"#b8e186\"], [0.8, \"#7fbc41\"], [0.9, \"#4d9221\"], [1, \"#276419\"]], \"sequential\": [[0.0, \"#0d0887\"], [0.1111111111111111, \"#46039f\"], [0.2222222222222222, \"#7201a8\"], [0.3333333333333333, \"#9c179e\"], [0.4444444444444444, \"#bd3786\"], [0.5555555555555556, \"#d8576b\"], [0.6666666666666666, \"#ed7953\"], [0.7777777777777778, \"#fb9f3a\"], [0.8888888888888888, \"#fdca26\"], [1.0, \"#f0f921\"]], \"sequentialminus\": [[0.0, \"#0d0887\"], [0.1111111111111111, \"#46039f\"], [0.2222222222222222, \"#7201a8\"], [0.3333333333333333, \"#9c179e\"], [0.4444444444444444, \"#bd3786\"], [0.5555555555555556, \"#d8576b\"], [0.6666666666666666, \"#ed7953\"], [0.7777777777777778, \"#fb9f3a\"], [0.8888888888888888, \"#fdca26\"], [1.0, \"#f0f921\"]]}, \"colorway\": [\"#636efa\", \"#EF553B\", \"#00cc96\", \"#ab63fa\", \"#FFA15A\", \"#19d3f3\", \"#FF6692\", \"#B6E880\", \"#FF97FF\", \"#FECB52\"], \"font\": {\"color\": \"#2a3f5f\"}, \"geo\": {\"bgcolor\": \"white\", \"lakecolor\": \"white\", \"landcolor\": \"#E5ECF6\", \"showlakes\": true, \"showland\": true, \"subunitcolor\": \"white\"}, \"hoverlabel\": {\"align\": \"left\"}, \"hovermode\": \"closest\", \"mapbox\": {\"style\": \"light\"}, \"paper_bgcolor\": \"white\", \"plot_bgcolor\": \"#E5ECF6\", \"polar\": {\"angularaxis\": {\"gridcolor\": \"white\", \"linecolor\": \"white\", \"ticks\": \"\"}, \"bgcolor\": \"#E5ECF6\", \"radialaxis\": {\"gridcolor\": \"white\", \"linecolor\": \"white\", \"ticks\": \"\"}}, \"scene\": {\"xaxis\": {\"backgroundcolor\": \"#E5ECF6\", \"gridcolor\": \"white\", \"gridwidth\": 2, \"linecolor\": \"white\", \"showbackground\": true, \"ticks\": \"\", \"zerolinecolor\": \"white\"}, \"yaxis\": {\"backgroundcolor\": \"#E5ECF6\", \"gridcolor\": \"white\", \"gridwidth\": 2, \"linecolor\": \"white\", \"showbackground\": true, \"ticks\": \"\", \"zerolinecolor\": \"white\"}, \"zaxis\": {\"backgroundcolor\": \"#E5ECF6\", \"gridcolor\": \"white\", \"gridwidth\": 2, \"linecolor\": \"white\", \"showbackground\": true, \"ticks\": \"\", \"zerolinecolor\": \"white\"}}, \"shapedefaults\": {\"line\": {\"color\": \"#2a3f5f\"}}, \"ternary\": {\"aaxis\": {\"gridcolor\": \"white\", \"linecolor\": \"white\", \"ticks\": \"\"}, \"baxis\": {\"gridcolor\": \"white\", \"linecolor\": \"white\", \"ticks\": \"\"}, \"bgcolor\": \"#E5ECF6\", \"caxis\": {\"gridcolor\": \"white\", \"linecolor\": \"white\", \"ticks\": \"\"}}, \"title\": {\"x\": 0.05}, \"xaxis\": {\"automargin\": true, \"gridcolor\": \"white\", \"linecolor\": \"white\", \"ticks\": \"\", \"title\": {\"standoff\": 15}, \"zerolinecolor\": \"white\", \"zerolinewidth\": 2}, \"yaxis\": {\"automargin\": true, \"gridcolor\": \"white\", \"linecolor\": \"white\", \"ticks\": \"\", \"title\": {\"standoff\": 15}, \"zerolinecolor\": \"white\", \"zerolinewidth\": 2}}}, \"title\": {\"text\": \"3d TSNE Plot for Topic Model\"}, \"width\": 900},\n",
              "                        {\"responsive\": true}\n",
              "                    ).then(function(){\n",
              "                            \n",
              "var gd = document.getElementById('ea7b675d-c0de-4b63-bfbc-ef846a886245');\n",
              "var x = new MutationObserver(function (mutations, observer) {{\n",
              "        var display = window.getComputedStyle(gd).display;\n",
              "        if (!display || display === 'none') {{\n",
              "            console.log([gd, 'removed!']);\n",
              "            Plotly.purge(gd);\n",
              "            observer.disconnect();\n",
              "        }}\n",
              "}});\n",
              "\n",
              "// Listen for the removal of the full notebook cells\n",
              "var notebookContainer = gd.closest('#notebook-container');\n",
              "if (notebookContainer) {{\n",
              "    x.observe(notebookContainer, {childList: true});\n",
              "}}\n",
              "\n",
              "// Listen for the clearing of the current output cell\n",
              "var outputEl = gd.closest('.output');\n",
              "if (outputEl) {{\n",
              "    x.observe(outputEl, {childList: true});\n",
              "}}\n",
              "\n",
              "                        })\n",
              "                };\n",
              "                });\n",
              "            </script>\n",
              "        </div>"
            ],
            "application/vnd.plotly.v1+json": {
              "data": [
                {
                  "hovertemplate": "Dominant_Topic=Topic 1<br>0=%{x}<br>1=%{y}<br>2=%{z}",
                  "showlegend": true,
                  "legendgroup": "Dominant_Topic=Topic 1",
                  "name": "Dominant_Topic=Topic 1",
                  "scene": "scene",
                  "y": [
                    87.46733093261719,
                    225.74473571777344
                  ],
                  "hoverlabel": {
                    "namelength": 0
                  },
                  "mode": "markers",
                  "marker": {
                    "color": "#636efa",
                    "opacity": 0.7,
                    "symbol": "circle"
                  },
                  "x": [
                    -61.819480895996094,
                    296.1993713378906
                  ],
                  "z": [
                    201.71685791015625,
                    118.76709747314453
                  ],
                  "type": "scatter3d"
                },
                {
                  "hovertemplate": "Dominant_Topic=Topic 2<br>0=%{x}<br>1=%{y}<br>2=%{z}",
                  "showlegend": true,
                  "legendgroup": "Dominant_Topic=Topic 2",
                  "name": "Dominant_Topic=Topic 2",
                  "scene": "scene",
                  "y": [
                    101.13990020751953
                  ],
                  "hoverlabel": {
                    "namelength": 0
                  },
                  "mode": "markers",
                  "marker": {
                    "color": "#EF553B",
                    "opacity": 0.7,
                    "symbol": "circle"
                  },
                  "x": [
                    76.52674102783203
                  ],
                  "z": [
                    -229.17823791503906
                  ],
                  "type": "scatter3d"
                },
                {
                  "hovertemplate": "Dominant_Topic=Topic 5<br>0=%{x}<br>1=%{y}<br>2=%{z}",
                  "showlegend": true,
                  "legendgroup": "Dominant_Topic=Topic 5",
                  "name": "Dominant_Topic=Topic 5",
                  "scene": "scene",
                  "y": [
                    -98.95519256591797,
                    -250.99400329589844
                  ],
                  "hoverlabel": {
                    "namelength": 0
                  },
                  "mode": "markers",
                  "marker": {
                    "color": "#00cc96",
                    "opacity": 0.7,
                    "symbol": "circle"
                  },
                  "x": [
                    -353.5646667480469,
                    108.9616928100586
                  ],
                  "z": [
                    21.101009368896484,
                    -2.526215076446533
                  ],
                  "type": "scatter3d"
                }
              ],
              "config": {
                "plotlyServerURL": "https://plot.ly"
              },
              "layout": {
                "title": {
                  "text": "3d TSNE Plot for Topic Model"
                },
                "scene": {
                  "domain": {
                    "y": [
                      0,
                      1
                    ],
                    "x": [
                      0,
                      1
                    ]
                  },
                  "zaxis": {
                    "title": {
                      "text": "2"
                    }
                  },
                  "xaxis": {
                    "title": {
                      "text": "0"
                    }
                  },
                  "yaxis": {
                    "title": {
                      "text": "1"
                    }
                  }
                },
                "height": 800,
                "width": 900,
                "template": {
                  "layout": {
                    "shapedefaults": {
                      "line": {
                        "color": "#2a3f5f"
                      }
                    },
                    "polar": {
                      "radialaxis": {
                        "ticks": "",
                        "gridcolor": "white",
                        "linecolor": "white"
                      },
                      "bgcolor": "#E5ECF6",
                      "angularaxis": {
                        "ticks": "",
                        "gridcolor": "white",
                        "linecolor": "white"
                      }
                    },
                    "colorway": [
                      "#636efa",
                      "#EF553B",
                      "#00cc96",
                      "#ab63fa",
                      "#FFA15A",
                      "#19d3f3",
                      "#FF6692",
                      "#B6E880",
                      "#FF97FF",
                      "#FECB52"
                    ],
                    "xaxis": {
                      "automargin": true,
                      "title": {
                        "standoff": 15
                      },
                      "zerolinewidth": 2,
                      "ticks": "",
                      "zerolinecolor": "white",
                      "gridcolor": "white",
                      "linecolor": "white"
                    },
                    "colorscale": {
                      "diverging": [
                        [
                          0,
                          "#8e0152"
                        ],
                        [
                          0.1,
                          "#c51b7d"
                        ],
                        [
                          0.2,
                          "#de77ae"
                        ],
                        [
                          0.3,
                          "#f1b6da"
                        ],
                        [
                          0.4,
                          "#fde0ef"
                        ],
                        [
                          0.5,
                          "#f7f7f7"
                        ],
                        [
                          0.6,
                          "#e6f5d0"
                        ],
                        [
                          0.7,
                          "#b8e186"
                        ],
                        [
                          0.8,
                          "#7fbc41"
                        ],
                        [
                          0.9,
                          "#4d9221"
                        ],
                        [
                          1,
                          "#276419"
                        ]
                      ],
                      "sequential": [
                        [
                          0,
                          "#0d0887"
                        ],
                        [
                          0.1111111111111111,
                          "#46039f"
                        ],
                        [
                          0.2222222222222222,
                          "#7201a8"
                        ],
                        [
                          0.3333333333333333,
                          "#9c179e"
                        ],
                        [
                          0.4444444444444444,
                          "#bd3786"
                        ],
                        [
                          0.5555555555555556,
                          "#d8576b"
                        ],
                        [
                          0.6666666666666666,
                          "#ed7953"
                        ],
                        [
                          0.7777777777777778,
                          "#fb9f3a"
                        ],
                        [
                          0.8888888888888888,
                          "#fdca26"
                        ],
                        [
                          1,
                          "#f0f921"
                        ]
                      ],
                      "sequentialminus": [
                        [
                          0,
                          "#0d0887"
                        ],
                        [
                          0.1111111111111111,
                          "#46039f"
                        ],
                        [
                          0.2222222222222222,
                          "#7201a8"
                        ],
                        [
                          0.3333333333333333,
                          "#9c179e"
                        ],
                        [
                          0.4444444444444444,
                          "#bd3786"
                        ],
                        [
                          0.5555555555555556,
                          "#d8576b"
                        ],
                        [
                          0.6666666666666666,
                          "#ed7953"
                        ],
                        [
                          0.7777777777777778,
                          "#fb9f3a"
                        ],
                        [
                          0.8888888888888888,
                          "#fdca26"
                        ],
                        [
                          1,
                          "#f0f921"
                        ]
                      ]
                    },
                    "paper_bgcolor": "white",
                    "plot_bgcolor": "#E5ECF6",
                    "title": {
                      "x": 0.05
                    },
                    "scene": {
                      "zaxis": {
                        "backgroundcolor": "#E5ECF6",
                        "ticks": "",
                        "gridwidth": 2,
                        "showbackground": true,
                        "zerolinecolor": "white",
                        "gridcolor": "white",
                        "linecolor": "white"
                      },
                      "xaxis": {
                        "backgroundcolor": "#E5ECF6",
                        "ticks": "",
                        "gridwidth": 2,
                        "showbackground": true,
                        "zerolinecolor": "white",
                        "gridcolor": "white",
                        "linecolor": "white"
                      },
                      "yaxis": {
                        "backgroundcolor": "#E5ECF6",
                        "ticks": "",
                        "gridwidth": 2,
                        "showbackground": true,
                        "zerolinecolor": "white",
                        "gridcolor": "white",
                        "linecolor": "white"
                      }
                    },
                    "yaxis": {
                      "automargin": true,
                      "title": {
                        "standoff": 15
                      },
                      "zerolinewidth": 2,
                      "ticks": "",
                      "zerolinecolor": "white",
                      "gridcolor": "white",
                      "linecolor": "white"
                    },
                    "annotationdefaults": {
                      "arrowwidth": 1,
                      "arrowhead": 0,
                      "arrowcolor": "#2a3f5f"
                    },
                    "hoverlabel": {
                      "align": "left"
                    },
                    "ternary": {
                      "bgcolor": "#E5ECF6",
                      "baxis": {
                        "ticks": "",
                        "gridcolor": "white",
                        "linecolor": "white"
                      },
                      "caxis": {
                        "ticks": "",
                        "gridcolor": "white",
                        "linecolor": "white"
                      },
                      "aaxis": {
                        "ticks": "",
                        "gridcolor": "white",
                        "linecolor": "white"
                      }
                    },
                    "mapbox": {
                      "style": "light"
                    },
                    "hovermode": "closest",
                    "font": {
                      "color": "#2a3f5f"
                    },
                    "geo": {
                      "showland": true,
                      "landcolor": "#E5ECF6",
                      "showlakes": true,
                      "bgcolor": "white",
                      "subunitcolor": "white",
                      "lakecolor": "white"
                    },
                    "coloraxis": {
                      "colorbar": {
                        "outlinewidth": 0,
                        "ticks": ""
                      }
                    }
                  },
                  "data": {
                    "mesh3d": [
                      {
                        "colorbar": {
                          "outlinewidth": 0,
                          "ticks": ""
                        },
                        "type": "mesh3d"
                      }
                    ],
                    "scattercarpet": [
                      {
                        "marker": {
                          "colorbar": {
                            "outlinewidth": 0,
                            "ticks": ""
                          }
                        },
                        "type": "scattercarpet"
                      }
                    ],
                    "pie": [
                      {
                        "automargin": true,
                        "type": "pie"
                      }
                    ],
                    "surface": [
                      {
                        "colorbar": {
                          "outlinewidth": 0,
                          "ticks": ""
                        },
                        "type": "surface",
                        "colorscale": [
                          [
                            0,
                            "#0d0887"
                          ],
                          [
                            0.1111111111111111,
                            "#46039f"
                          ],
                          [
                            0.2222222222222222,
                            "#7201a8"
                          ],
                          [
                            0.3333333333333333,
                            "#9c179e"
                          ],
                          [
                            0.4444444444444444,
                            "#bd3786"
                          ],
                          [
                            0.5555555555555556,
                            "#d8576b"
                          ],
                          [
                            0.6666666666666666,
                            "#ed7953"
                          ],
                          [
                            0.7777777777777778,
                            "#fb9f3a"
                          ],
                          [
                            0.8888888888888888,
                            "#fdca26"
                          ],
                          [
                            1,
                            "#f0f921"
                          ]
                        ]
                      }
                    ],
                    "table": [
                      {
                        "header": {
                          "line": {
                            "color": "white"
                          },
                          "fill": {
                            "color": "#C8D4E3"
                          }
                        },
                        "cells": {
                          "line": {
                            "color": "white"
                          },
                          "fill": {
                            "color": "#EBF0F8"
                          }
                        },
                        "type": "table"
                      }
                    ],
                    "scatterpolargl": [
                      {
                        "marker": {
                          "colorbar": {
                            "outlinewidth": 0,
                            "ticks": ""
                          }
                        },
                        "type": "scatterpolargl"
                      }
                    ],
                    "contour": [
                      {
                        "colorbar": {
                          "outlinewidth": 0,
                          "ticks": ""
                        },
                        "type": "contour",
                        "colorscale": [
                          [
                            0,
                            "#0d0887"
                          ],
                          [
                            0.1111111111111111,
                            "#46039f"
                          ],
                          [
                            0.2222222222222222,
                            "#7201a8"
                          ],
                          [
                            0.3333333333333333,
                            "#9c179e"
                          ],
                          [
                            0.4444444444444444,
                            "#bd3786"
                          ],
                          [
                            0.5555555555555556,
                            "#d8576b"
                          ],
                          [
                            0.6666666666666666,
                            "#ed7953"
                          ],
                          [
                            0.7777777777777778,
                            "#fb9f3a"
                          ],
                          [
                            0.8888888888888888,
                            "#fdca26"
                          ],
                          [
                            1,
                            "#f0f921"
                          ]
                        ]
                      }
                    ],
                    "carpet": [
                      {
                        "type": "carpet",
                        "baxis": {
                          "minorgridcolor": "white",
                          "gridcolor": "white",
                          "linecolor": "white",
                          "endlinecolor": "#2a3f5f",
                          "startlinecolor": "#2a3f5f"
                        },
                        "aaxis": {
                          "minorgridcolor": "white",
                          "gridcolor": "white",
                          "linecolor": "white",
                          "endlinecolor": "#2a3f5f",
                          "startlinecolor": "#2a3f5f"
                        }
                      }
                    ],
                    "contourcarpet": [
                      {
                        "colorbar": {
                          "outlinewidth": 0,
                          "ticks": ""
                        },
                        "type": "contourcarpet"
                      }
                    ],
                    "heatmap": [
                      {
                        "colorbar": {
                          "outlinewidth": 0,
                          "ticks": ""
                        },
                        "type": "heatmap",
                        "colorscale": [
                          [
                            0,
                            "#0d0887"
                          ],
                          [
                            0.1111111111111111,
                            "#46039f"
                          ],
                          [
                            0.2222222222222222,
                            "#7201a8"
                          ],
                          [
                            0.3333333333333333,
                            "#9c179e"
                          ],
                          [
                            0.4444444444444444,
                            "#bd3786"
                          ],
                          [
                            0.5555555555555556,
                            "#d8576b"
                          ],
                          [
                            0.6666666666666666,
                            "#ed7953"
                          ],
                          [
                            0.7777777777777778,
                            "#fb9f3a"
                          ],
                          [
                            0.8888888888888888,
                            "#fdca26"
                          ],
                          [
                            1,
                            "#f0f921"
                          ]
                        ]
                      }
                    ],
                    "scattermapbox": [
                      {
                        "marker": {
                          "colorbar": {
                            "outlinewidth": 0,
                            "ticks": ""
                          }
                        },
                        "type": "scattermapbox"
                      }
                    ],
                    "scatter3d": [
                      {
                        "marker": {
                          "colorbar": {
                            "outlinewidth": 0,
                            "ticks": ""
                          }
                        },
                        "line": {
                          "colorbar": {
                            "outlinewidth": 0,
                            "ticks": ""
                          }
                        },
                        "type": "scatter3d"
                      }
                    ],
                    "scattergl": [
                      {
                        "marker": {
                          "colorbar": {
                            "outlinewidth": 0,
                            "ticks": ""
                          }
                        },
                        "type": "scattergl"
                      }
                    ],
                    "scatterternary": [
                      {
                        "marker": {
                          "colorbar": {
                            "outlinewidth": 0,
                            "ticks": ""
                          }
                        },
                        "type": "scatterternary"
                      }
                    ],
                    "histogram": [
                      {
                        "marker": {
                          "colorbar": {
                            "outlinewidth": 0,
                            "ticks": ""
                          }
                        },
                        "type": "histogram"
                      }
                    ],
                    "heatmapgl": [
                      {
                        "colorbar": {
                          "outlinewidth": 0,
                          "ticks": ""
                        },
                        "type": "heatmapgl",
                        "colorscale": [
                          [
                            0,
                            "#0d0887"
                          ],
                          [
                            0.1111111111111111,
                            "#46039f"
                          ],
                          [
                            0.2222222222222222,
                            "#7201a8"
                          ],
                          [
                            0.3333333333333333,
                            "#9c179e"
                          ],
                          [
                            0.4444444444444444,
                            "#bd3786"
                          ],
                          [
                            0.5555555555555556,
                            "#d8576b"
                          ],
                          [
                            0.6666666666666666,
                            "#ed7953"
                          ],
                          [
                            0.7777777777777778,
                            "#fb9f3a"
                          ],
                          [
                            0.8888888888888888,
                            "#fdca26"
                          ],
                          [
                            1,
                            "#f0f921"
                          ]
                        ]
                      }
                    ],
                    "scatterpolar": [
                      {
                        "marker": {
                          "colorbar": {
                            "outlinewidth": 0,
                            "ticks": ""
                          }
                        },
                        "type": "scatterpolar"
                      }
                    ],
                    "histogram2d": [
                      {
                        "colorbar": {
                          "outlinewidth": 0,
                          "ticks": ""
                        },
                        "type": "histogram2d",
                        "colorscale": [
                          [
                            0,
                            "#0d0887"
                          ],
                          [
                            0.1111111111111111,
                            "#46039f"
                          ],
                          [
                            0.2222222222222222,
                            "#7201a8"
                          ],
                          [
                            0.3333333333333333,
                            "#9c179e"
                          ],
                          [
                            0.4444444444444444,
                            "#bd3786"
                          ],
                          [
                            0.5555555555555556,
                            "#d8576b"
                          ],
                          [
                            0.6666666666666666,
                            "#ed7953"
                          ],
                          [
                            0.7777777777777778,
                            "#fb9f3a"
                          ],
                          [
                            0.8888888888888888,
                            "#fdca26"
                          ],
                          [
                            1,
                            "#f0f921"
                          ]
                        ]
                      }
                    ],
                    "scattergeo": [
                      {
                        "marker": {
                          "colorbar": {
                            "outlinewidth": 0,
                            "ticks": ""
                          }
                        },
                        "type": "scattergeo"
                      }
                    ],
                    "bar": [
                      {
                        "marker": {
                          "line": {
                            "color": "#E5ECF6",
                            "width": 0.5
                          }
                        },
                        "type": "bar",
                        "error_x": {
                          "color": "#2a3f5f"
                        },
                        "error_y": {
                          "color": "#2a3f5f"
                        }
                      }
                    ],
                    "choropleth": [
                      {
                        "colorbar": {
                          "outlinewidth": 0,
                          "ticks": ""
                        },
                        "type": "choropleth"
                      }
                    ],
                    "parcoords": [
                      {
                        "line": {
                          "colorbar": {
                            "outlinewidth": 0,
                            "ticks": ""
                          }
                        },
                        "type": "parcoords"
                      }
                    ],
                    "barpolar": [
                      {
                        "marker": {
                          "line": {
                            "color": "#E5ECF6",
                            "width": 0.5
                          }
                        },
                        "type": "barpolar"
                      }
                    ],
                    "histogram2dcontour": [
                      {
                        "colorbar": {
                          "outlinewidth": 0,
                          "ticks": ""
                        },
                        "type": "histogram2dcontour",
                        "colorscale": [
                          [
                            0,
                            "#0d0887"
                          ],
                          [
                            0.1111111111111111,
                            "#46039f"
                          ],
                          [
                            0.2222222222222222,
                            "#7201a8"
                          ],
                          [
                            0.3333333333333333,
                            "#9c179e"
                          ],
                          [
                            0.4444444444444444,
                            "#bd3786"
                          ],
                          [
                            0.5555555555555556,
                            "#d8576b"
                          ],
                          [
                            0.6666666666666666,
                            "#ed7953"
                          ],
                          [
                            0.7777777777777778,
                            "#fb9f3a"
                          ],
                          [
                            0.8888888888888888,
                            "#fdca26"
                          ],
                          [
                            1,
                            "#f0f921"
                          ]
                        ]
                      }
                    ],
                    "scatter": [
                      {
                        "marker": {
                          "colorbar": {
                            "outlinewidth": 0,
                            "ticks": ""
                          }
                        },
                        "type": "scatter"
                      }
                    ]
                  }
                },
                "legend": {
                  "tracegroupgap": 0
                }
              }
            }
          },
          "metadata": {
            "tags": []
          }
        }
      ]
    },
    {
      "cell_type": "code",
      "metadata": {
        "id": "jG7QKiM90veT",
        "outputId": "d75958e6-d46a-4fe3-febe-7225e2ff95b7",
        "colab": {
          "base_uri": "https://localhost:8080/",
          "height": 881
        }
      },
      "source": [
        "plot_model(lda,plot='topic_model')"
      ],
      "execution_count": null,
      "outputs": [
        {
          "output_type": "display_data",
          "data": {
            "text/html": [
              "        <script type=\"text/javascript\">\n",
              "        window.PlotlyConfig = {MathJaxConfig: 'local'};\n",
              "        if (window.MathJax) {MathJax.Hub.Config({SVG: {font: \"STIX-Web\"}});}\n",
              "        if (typeof require !== 'undefined') {\n",
              "        require.undef(\"plotly\");\n",
              "        requirejs.config({\n",
              "            paths: {\n",
              "                'plotly': ['https://cdn.plot.ly/plotly-latest.min']\n",
              "            }\n",
              "        });\n",
              "        require(['plotly'], function(Plotly) {\n",
              "            window._Plotly = Plotly;\n",
              "        });\n",
              "        }\n",
              "        </script>\n",
              "        "
            ]
          },
          "metadata": {
            "tags": []
          }
        },
        {
          "output_type": "display_data",
          "data": {
            "text/html": [
              "\n",
              "<link rel=\"stylesheet\" type=\"text/css\" href=\"https://cdn.rawgit.com/bmabey/pyLDAvis/files/ldavis.v1.0.0.css\">\n",
              "\n",
              "\n",
              "<div id=\"ldavis_el1031402534437218808413475758\"></div>\n",
              "<script type=\"text/javascript\">\n",
              "\n",
              "var ldavis_el1031402534437218808413475758_data = {\"mdsDat\": {\"x\": [0.03615821797889198, 0.012357733620946445, -0.13795554575230412, 0.029130176113154813, 0.029935685286620134, 0.030373732752690757], \"y\": [0.14030293078455786, -0.13603222116795172, -0.004114622904540176, 4.204158203071853e-05, -7.186987803966987e-05, -0.00012625841605702458], \"topics\": [1, 2, 3, 4, 5, 6], \"cluster\": [1, 1, 1, 1, 1, 1], \"Freq\": [46.414391365449134, 39.4082274255978, 14.001149126017653, 0.0587441192360465, 0.05874409977787942, 0.05874386392149606]}, \"tinfo\": {\"Term\": [\"child\", \"syrian\", \"mother\", \"carer\", \"address\", \"biological\", \"area\", \"german\", \"daughter\", \"parent\", \"safe\", \"unknown\", \"assessment\", \"nationality\", \"ask\", \"would\", \"current\", \"contact\", \"home\", \"worker\", \"name\", \"ensure\", \"holiday\", \"number\", \"grandmother\", \"year\", \"note\", \"service\", \"first\", \"travel\", \"syrian\", \"carer\", \"area\", \"unknown\", \"safe\", \"number\", \"ensure\", \"holiday\", \"decision\", \"attack\", \"friend\", \"address\", \"several\", \"abuse\", \"provide\", \"british\", \"terrorist\", \"long\", \"carol\", \"suitability\", \"foster\", \"separate\", \"download\", \"start\", \"married\", \"video\", \"refuse\", \"establish\", \"appropriate\", \"turn\", \"current\", \"father\", \"daughter\", \"travel\", \"service\", \"first\", \"care\", \"take\", \"name\", \"visit\", \"child\", \"order\", \"nationality\", \"phone\", \"family\", \"wife\", \"regard\", \"time\", \"contact\", \"would\", \"parent\", \"stay\", \"mother\", \"year\", \"ask\", \"go\", \"request\", \"biological\", \"ticket\", \"trace\", \"search\", \"lot\", \"see\", \"member\", \"question\", \"lose\", \"marriage\", \"ago\", \"pay\", \"conduct\", \"psychologist\", \"paper\", \"seem\", \"contract\", \"sure\", \"unfortunately\", \"like\", \"possibly\", \"mind\", \"give\", \"present\", \"process\", \"call\", \"speak\", \"primary\", \"stability\", \"couple\", \"worker\", \"assessment\", \"home\", \"mother\", \"receive\", \"help\", \"attend\", \"information\", \"accord\", \"ask\", \"german\", \"family\", \"child\", \"note\", \"would\", \"leave\", \"contact\", \"request\", \"get\", \"visit\", \"live\", \"year\", \"order\", \"case\", \"parent\", \"time\", \"also\", \"date\", \"aunt\", \"many\", \"consume\", \"danger\", \"heroine\", \"together\", \"responsible\", \"grandmother\", \"bear\", \"mobile\", \"supply\", \"appoint\", \"country\", \"moment\", \"youth\", \"lock\", \"tolerate\", \"cancel\", \"substitution\", \"prove\", \"protection\", \"programme\", \"photo\", \"kick\", \"mention\", \"potsdam\", \"motivate\", \"substitute\", \"relevant\", \"locally\", \"welfare\", \"beat\", \"deport\", \"german\", \"already\", \"alert\", \"child\", \"follow\", \"parent\", \"situation\", \"year\", \"nationality\", \"send\", \"inform\", \"mother\", \"embassy\", \"soon\", \"make\", \"old\", \"come\", \"family\", \"request\", \"information\", \"free\", \"substitute\", \"relevant\", \"tolerate\", \"guardian\", \"youth\", \"flat\", \"drug\", \"moment\", \"hope\", \"cancel\", \"longer\", \"professional\", \"household\", \"prove\", \"substitution\", \"addict\", \"context\", \"assume\", \"appoint\", \"massively\", \"kick\", \"photo\", \"welcome\", \"locally\", \"lock\", \"beat\", \"country\", \"potsdam\", \"deport\", \"begin\", \"child\", \"mother\", \"document\", \"available\", \"family\", \"information\", \"biological\", \"nationality\", \"parent\", \"address\", \"shelter\", \"enclose\", \"orphanage\", \"would\", \"order\", \"visit\", \"year\", \"contact\", \"request\", \"syrian\", \"time\", \"home\", \"german\", \"daughter\", \"ask\", \"care\", \"wife\", \"come\", \"go\", \"accord\", \"live\", \"search\", \"report\", \"place\", \"phone\", \"note\", \"assessment\", \"prove\", \"kick\", \"massively\", \"moment\", \"flat\", \"lock\", \"drug\", \"professional\", \"guardianship\", \"tolerate\", \"appoint\", \"photo\", \"substitute\", \"addict\", \"protection\", \"potsdam\", \"escalate\", \"may\", \"deport\", \"supply\", \"whatsapp\", \"locally\", \"relevant\", \"longer\", \"hope\", \"context\", \"welcome\", \"motivate\", \"appeal\", \"cancel\", \"begin\", \"child\", \"family\", \"mother\", \"information\", \"order\", \"year\", \"would\", \"parent\", \"address\", \"request\", \"nationality\", \"visit\", \"carer\", \"aunt\", \"contact\", \"biological\", \"grandmother\", \"note\", \"care\", \"old\", \"phone\", \"welfare\", \"german\", \"ask\", \"syrian\", \"safe\", \"come\", \"try\", \"area\", \"time\", \"live\", \"daughter\", \"moment\", \"flat\", \"prove\", \"substitute\", \"tolerate\", \"kick\", \"drug\", \"massively\", \"professional\", \"appoint\", \"lock\", \"relevant\", \"photo\", \"free\", \"addict\", \"youth\", \"cancel\", \"longer\", \"hope\", \"guardianship\", \"guardian\", \"potsdam\", \"locally\", \"protection\", \"context\", \"substitution\", \"deport\", \"welcome\", \"country\", \"may\", \"deadline\", \"child\", \"financially\", \"thus\", \"difficulty\", \"angry\", \"initiate\", \"end\", \"civil\", \"sheikh\", \"check\", \"committed\", \"reach\", \"lack\", \"kid\", \"representative\", \"clear\", \"stop\", \"asking\", \"arabic\", \"deal\", \"custody\", \"independency\", \"wait\", \"kind\", \"conclusion\", \"emerge\", \"emergency\", \"psychosocial\", \"offer\", \"family\", \"visit\", \"order\", \"ask\", \"assessment\", \"address\", \"time\", \"worker\", \"syrian\", \"attend\", \"care\", \"carer\", \"mother\", \"current\", \"would\", \"get\", \"note\", \"regard\", \"information\", \"possible\", \"parent\", \"year\", \"service\", \"social\", \"stay\", \"wife\", \"name\", \"daughter\", \"date\"], \"Freq\": [55.0, 10.0, 26.0, 9.0, 12.0, 8.0, 6.0, 9.0, 9.0, 11.0, 5.0, 5.0, 7.0, 11.0, 10.0, 10.0, 6.0, 10.0, 6.0, 7.0, 7.0, 4.0, 4.0, 4.0, 5.0, 11.0, 7.0, 5.0, 5.0, 5.0, 9.827513098210305, 8.924102615712687, 6.301540907884706, 5.4290396676275385, 5.421189740124837, 4.548256973740945, 4.545270495331012, 4.545864187327014, 3.6657793258534177, 3.663484266517018, 3.6632970580841224, 11.578829969521632, 2.788525801054173, 2.7878979045810346, 2.7859082423619204, 2.783382913599088, 2.7838342905384357, 2.7834946889440144, 2.7819289179236923, 2.780669765609125, 2.7802730547537715, 1.9081376802431118, 1.907733334459826, 1.908018422668812, 1.9076160619667886, 1.9078545771153883, 1.907372660464312, 1.9077327236655914, 1.9075326885537696, 1.9070087797990665, 5.42310519084445, 4.547418353256879, 7.187789904773591, 4.5393891576463306, 4.537530205393415, 4.537218700333784, 7.18843795745647, 3.668514462435825, 5.423138784527351, 9.822410523174701, 25.654259384258438, 8.061848670328914, 7.194311354816102, 4.548504345405946, 9.825400360952925, 4.549754030409877, 4.545035034153584, 5.429271158642441, 5.426707044445713, 5.415689538042527, 5.431073612428659, 4.550176089225966, 4.55894373506611, 4.55094843853558, 4.550196245435707, 4.547853238751894, 4.546605080733548, 7.881510641374544, 4.438464097198272, 2.7240020283639623, 2.7231206744472556, 2.723380750345595, 2.7227089092163848, 2.7219146794291316, 2.721948388169694, 2.721985727082317, 2.7220186579288668, 2.7221026704822684, 2.7214837261459404, 2.7216846820992937, 2.721599891651879, 2.721798513923193, 2.721010507288044, 2.7208305544730416, 1.8632935484107809, 1.8627141470201127, 1.86326113616024, 1.8626481556780117, 1.862891247557068, 1.8628581870615164, 1.8626165213214838, 1.8625408063042204, 1.8627383913835174, 1.8627661362699803, 1.8623714847073949, 1.8624780561871732, 1.8623981924018407, 6.158877314529885, 6.158959252699253, 5.306224056730118, 18.20303728449633, 3.590123743104471, 3.581387734040698, 4.4421663541040495, 8.766103190155267, 4.444497443162947, 6.16701771607772, 5.30236777680977, 9.622389212995653, 18.282212374329482, 4.449245708218179, 5.323802905635446, 3.585058356589948, 4.451767122012252, 4.453953522784736, 3.5837955753088764, 4.465038512469705, 3.5866190712779904, 3.591270358879604, 3.6016697646411333, 2.7406862991543637, 2.73323874187409, 2.7298823885060846, 2.7273280438654615, 2.7265519649385115, 4.254357888956159, 1.4949884911548144, 1.4949838849212131, 1.4951904284358926, 1.4951989039057187, 1.4947553236099198, 1.4944596034127207, 4.254077461454516, 3.5641930110290647, 0.8053592260708713, 0.8052636927859816, 0.8051002636178098, 0.8051751609761659, 0.8050074940730809, 0.8051024746099384, 0.8050628610009678, 0.8049973603591583, 0.8050740080862828, 0.8051067123448515, 0.8049534168906025, 0.8050824835561091, 0.8052100762268632, 0.8050256426334699, 0.8049612474877246, 0.8051984685181882, 0.8050543855311415, 0.8051371134866198, 0.8049196992606414, 0.8049716575756634, 0.8050309858644472, 2.8738776013878815, 0.8051062517214914, 0.8050506084195885, 3.567022343956287, 1.495110003597215, 1.4952759201315315, 11.167139750591947, 2.1847069329212774, 3.567148002008929, 2.1866662404458985, 2.8770914626961352, 2.878216673440245, 1.495587670021663, 1.4958742698763319, 3.571811352906819, 1.4961938503635854, 1.4953461191316142, 1.4953842587458326, 1.4963090983282885, 1.4962126437966785, 2.1888204837765244, 1.497702483992662, 1.4978715327658272, 0.0015650094543040959, 0.0015648196709305584, 0.0015645476545372242, 0.0015642466488302131, 0.0015643910156123238, 0.0015643247267150494, 0.0015641130080941631, 0.0015639808168237967, 0.0015637970245750857, 0.001564024300794312, 0.0015639688345741437, 0.001563947092588886, 0.0015637970245750857, 0.0015639936687528602, 0.0015633921404940663, 0.0015635772855774155, 0.001563463937360939, 0.0015635146686598736, 0.0015636427047952795, 0.001563290967789334, 0.001563252412002144, 0.0015631900849777387, 0.0015632860396060091, 0.00156333947657422, 0.001563235694831257, 0.0015628627956263276, 0.0015630117040675807, 0.001562890238843275, 0.0015628333231574227, 0.001562749060885669, 0.0015627737018022942, 0.0018631273425176174, 0.0017717037439750362, 0.0015701676195176578, 0.0015696260025071292, 0.0016966604604944958, 0.0016738335018570045, 0.001653444737761825, 0.0016448745303285015, 0.0016426956935125519, 0.0016441184890278102, 0.0015691239075942467, 0.0015690011861663482, 0.0015683047662207854, 0.001633121682777646, 0.0016350168108437452, 0.0016377669304012193, 0.0016272181056784076, 0.0016243385005198438, 0.0016241303572476441, 0.0016211572132369496, 0.0016187287784302426, 0.0016116350933735252, 0.0016150990264647684, 0.0016150881071566167, 0.0016177209166247453, 0.0016130304456718361, 0.0016062112894156381, 0.0016045931059261982, 0.0016062055881839485, 0.0016042416588133896, 0.001607129380979783, 0.0015906064384944526, 0.0016025672360554166, 0.0015997436769032945, 0.0016013972273554201, 0.0016033082995440416, 0.0016028459199908965, 0.0015672508720627337, 0.0015672174377320343, 0.0015670294904106179, 0.0015668371946935904, 0.0015667518695085976, 0.0015666271188700637, 0.0015665116448088335, 0.0015663429270591199, 0.0015664113418167357, 0.0015660954550333372, 0.0015661133317708498, 0.0015660572857829724, 0.001565819670120575, 0.0015659518613471547, 0.001565970511132776, 0.0015656520153120106, 0.0015656566536006626, 0.0015655878523189925, 0.0015654238694889442, 0.001565538280609025, 0.0015654195210933332, 0.0015652766038242458, 0.0015651255695500175, 0.0015652028743608829, 0.0015651479879451684, 0.0015651726288536318, 0.0015651158098176458, 0.0015651891527569543, 0.001565125472919004, 0.0015648353866162315, 0.001564960040623752, 0.0018921533290285253, 0.001740133031937721, 0.001739338145219998, 0.0016523195983453398, 0.0016401222520249746, 0.0016364301742580445, 0.0016342718239386834, 0.0016338754435209712, 0.0016347580711990265, 0.0016309923605997473, 0.0016314845989829326, 0.0016322097181088496, 0.0016220781495968344, 0.001606723964693768, 0.0016166787950819426, 0.0016131401673645802, 0.0016030155562855428, 0.0016070203320124232, 0.0016114004225960552, 0.0016012157070265697, 0.0016032838039792456, 0.0015955798964214435, 0.0016079747565335698, 0.0016104844572183141, 0.0016085645922404726, 0.0015985448258111713, 0.0015993063748292087, 0.001596972349327156, 0.0015997870174907641, 0.0016036371835959139, 0.0016011687443539691, 0.0015998120449232818, 0.0015671320049030545, 0.0015671319082724289, 0.0015671320049030545, 0.0015671319082724289, 0.0015671320049030545, 0.0015671320049030545, 0.0015671319082724289, 0.0015671319082724289, 0.0015671321981643057, 0.0015671320049030545, 0.0015671319082724289, 0.0015671319082724289, 0.0015671321981643057, 0.0015671319082724289, 0.0015671320049030545, 0.0015671319082724289, 0.0015671319082724289, 0.0015671319082724289, 0.0015671320049030545, 0.0015671321981643057, 0.0015671320049030545, 0.0015671319082724289, 0.0015671319082724289, 0.0015671320049030545, 0.0015671319082724289, 0.0015671319082724289, 0.0015671319082724289, 0.0015671319082724289, 0.0015671320049030545, 0.0015671320049030545, 0.001571631899876467, 0.0016722445769373642, 0.0015714773875061163, 0.001571461636714142, 0.0015714149641219723, 0.001571368194899177, 0.001571183533773636, 0.0015711345420464516, 0.0015711333824789443, 0.001570993654594312, 0.001570906203878135, 0.0015708988599505886, 0.0015708499648540298, 0.0015708033888924859, 0.0015707968180099442, 0.0015707784581910783, 0.0015707582623903258, 0.0015707043425012353, 0.0015706704251516462, 0.0015706423056395936, 0.0015706400831352048, 0.0015705972757680594, 0.0015705737945260361, 0.0015705622954815886, 0.0015707799076504626, 0.0015704820920623321, 0.0015704794830354407, 0.0015704599636490674, 0.0015704589007121857, 0.0015706914906280292, 0.001612108826223915, 0.0015987565030077327, 0.0015984792697428573, 0.001597574227303393, 0.001594331786661045, 0.0015930019559913984, 0.0015929031994920248, 0.0015920812593905851, 0.0015912623148385391, 0.0015910212214276418, 0.0015903449036789967, 0.0015896816310648086, 0.001588990818722322, 0.0015888668416296642, 0.0015869120040735711, 0.0015867936315571989, 0.0015858813418208135, 0.0015856989031996615, 0.0015851609605068901, 0.0015846102625715378, 0.0015844328487429177, 0.0015843942931232993, 0.0015843671399175029, 0.001584261039490583, 0.001584085751535726, 0.001583755371426765, 0.0015834927293863568, 0.0015826424765116131, 0.0015820949673869063], \"Total\": [55.0, 10.0, 26.0, 9.0, 12.0, 8.0, 6.0, 9.0, 9.0, 11.0, 5.0, 5.0, 7.0, 11.0, 10.0, 10.0, 6.0, 10.0, 6.0, 7.0, 7.0, 4.0, 4.0, 4.0, 5.0, 11.0, 7.0, 5.0, 5.0, 5.0, 10.109071235825432, 9.22746971589349, 6.582260299883638, 5.701157549836551, 5.699979851140502, 4.819777463702302, 4.819209487727061, 4.8198470176120916, 3.9376189052703072, 3.9374684483067712, 3.938130059816638, 12.562160710289449, 3.056153810127942, 3.0560163182920226, 3.0560134381972004, 3.0555063568867293, 3.056328946404477, 3.056206734293474, 3.0557765070747753, 3.055540124647748, 3.0556967197994847, 2.174183677224465, 2.1739930737866975, 2.1743899265023083, 2.1739373217063345, 2.174227997847337, 2.1737086572894984, 2.1741413741768563, 2.174196319410015, 2.1736443925956213, 6.562545084448965, 5.509685019908934, 9.185066139012998, 5.67987604655439, 5.678496948609165, 5.679723642974455, 9.876612234052747, 4.629031999957936, 7.42277742790011, 15.10387984115889, 55.109039034428356, 12.476821886816786, 11.948625201476167, 6.368921319853581, 21.641658960043756, 6.539507884806109, 6.540237776122161, 8.972116748327775, 10.00232699043462, 10.861219654919166, 11.736321360297454, 7.232337775488295, 26.33889240517718, 11.02415830268438, 10.842069252669567, 7.230974277622432, 10.503090815742912, 8.15085233104408, 4.712815456745796, 2.991669761613763, 2.990882803463389, 2.991361337440937, 2.9922105714708396, 2.991434496146417, 2.991622611023375, 2.9920071224975238, 2.992264308391307, 2.992432509111658, 2.991809404325803, 2.992221758977834, 2.992148754492821, 2.9926751253735744, 2.9918368276733953, 2.991734798195998, 2.1309419840966615, 2.1302936248063857, 2.1309374784816266, 2.130282814456526, 2.131291045928562, 2.1313313226914232, 2.1311501842544804, 2.1311026818343537, 2.131413125289979, 2.1318067872829665, 2.131467348729557, 2.1316064128926904, 2.1316643609517603, 7.12416624165316, 7.314640819935551, 6.453683124051874, 26.33889240517718, 4.7336424579778935, 4.733627474649986, 6.284543206119873, 14.80315704433955, 6.476136041063579, 10.842069252669567, 9.028961180320845, 21.641658960043756, 55.109039034428356, 7.356350680377988, 10.861219654919166, 5.6158989245936395, 10.00232699043462, 10.503090815742912, 6.496585041934126, 15.10387984115889, 8.070265520874567, 11.02415830268438, 12.476821886816786, 6.518931354566173, 11.736321360297454, 8.972116748327775, 5.637191432468268, 5.44552390544964, 4.555409577615686, 1.7922228924960713, 1.7923857444401765, 1.7926900849225504, 1.7927481209667235, 1.792507540919839, 1.7923240142899115, 5.416978036264298, 4.725910372828653, 1.1017203054552607, 1.1017478937333056, 1.101535071179639, 1.1016704327141913, 1.1014416672615375, 1.101586474502858, 1.1015367291360447, 1.1014733345579106, 1.1015953210299754, 1.1016561555870579, 1.1014582997849451, 1.1016365471973013, 1.1018122961654755, 1.1015614162219296, 1.1014744896501438, 1.1018257082702858, 1.101632152466938, 1.1017609622320979, 1.101464766582952, 1.1015459337502755, 1.101635219451498, 4.034462593189656, 1.1017434496428669, 1.101665593283762, 9.028961180320845, 2.652288642618072, 2.6529383122297054, 55.109039034428356, 5.086792433040631, 11.736321360297454, 5.989129730365804, 11.02415830268438, 11.948625201476167, 3.5127271409041048, 3.5347636858556513, 26.33889240517718, 4.374322924370997, 4.395660434779646, 4.437611718932407, 5.29759889755285, 6.136190925536128, 21.641658960043756, 10.503090815742912, 14.80315704433955, 1.1015810010780898, 1.101464766582952, 1.1015459337502755, 1.1014733345579106, 1.1016207005031975, 1.101586474502858, 1.1014555962024746, 1.101485898382818, 1.1014416672615375, 1.101607864784049, 1.1015953210299754, 1.1016069768849428, 1.1015199693197204, 1.1016836428464627, 1.1014582997849451, 1.1016561555870579, 1.1015848022124095, 1.1016411768289045, 1.101733666069421, 1.101535071179639, 1.1015144313861238, 1.1014744896501438, 1.1015614162219296, 1.1016700597033322, 1.101635219451498, 1.1015367291360447, 1.1017434496428669, 1.1016704327141913, 1.101632152466938, 1.101665593283762, 1.1017170272062906, 55.109039034428356, 26.33889240517718, 1.2706547176504261, 1.270605504479456, 21.641658960043756, 14.80315704433955, 8.15085233104408, 11.948625201476167, 11.736321360297454, 12.562160710289449, 1.2704876834430747, 1.270522114277535, 1.2707987641322873, 10.861219654919166, 12.476821886816786, 15.10387984115889, 11.02415830268438, 10.00232699043462, 10.503090815742912, 10.109071235825432, 8.972116748327775, 6.453683124051874, 9.028961180320845, 9.185066139012998, 10.842069252669567, 9.876612234052747, 6.539507884806109, 6.136190925536128, 7.230974277622432, 6.476136041063579, 8.070265520874567, 2.990882803463389, 6.348507452645503, 5.6571708291367955, 6.368921319853581, 7.356350680377988, 7.314640819935551, 1.1014582997849451, 1.1014744896501438, 1.1015144313861238, 1.1014416672615375, 1.1014555962024746, 1.1015367291360447, 1.101485898382818, 1.1015199693197204, 1.1016113871901019, 1.1014733345579106, 1.101535071179639, 1.1015614162219296, 1.101464766582952, 1.1015848022124095, 1.1016365471973013, 1.101632152466938, 1.1017016846701475, 1.1016713093947326, 1.101665593283762, 1.1017478937333056, 1.1017282289147015, 1.101635219451498, 1.1015459337502755, 1.1016069768849428, 1.101607864784049, 1.1016411768289045, 1.1016700597033322, 1.1017609622320979, 1.1017729949085708, 1.1015953210299754, 1.1017170272062906, 55.109039034428356, 21.641658960043756, 26.33889240517718, 14.80315704433955, 12.476821886816786, 11.02415830268438, 10.861219654919166, 11.736321360297454, 12.562160710289449, 10.503090815742912, 11.948625201476167, 15.10387984115889, 9.22746971589349, 4.555409577615686, 10.00232699043462, 8.15085233104408, 5.416978036264298, 7.356350680377988, 9.876612234052747, 5.29759889755285, 6.368921319853581, 4.034462593189656, 9.028961180320845, 10.842069252669567, 10.109071235825432, 5.699979851140502, 6.136190925536128, 5.4452932260647735, 6.582260299883638, 8.972116748327775, 8.070265520874567, 9.185066139012998, 1.1014416672615375, 1.1014555962024746, 1.1014582997849451, 1.101464766582952, 1.1014733345579106, 1.1014744896501438, 1.101485898382818, 1.1015144313861238, 1.1015199693197204, 1.101535071179639, 1.1015367291360447, 1.1015459337502755, 1.1015614162219296, 1.1015810010780898, 1.1015848022124095, 1.101586474502858, 1.1015953210299754, 1.1016069768849428, 1.101607864784049, 1.1016113871901019, 1.1016207005031975, 1.101632152466938, 1.101635219451498, 1.1016365471973013, 1.1016411768289045, 1.1016561555870579, 1.101665593283762, 1.1016700597033322, 1.1016704327141913, 1.1016713093947326, 1.2710456173518652, 55.109039034428356, 1.271130364293298, 1.2709846204411592, 1.271101252979531, 1.2710673437955071, 1.2710260526596906, 1.2709639490669133, 1.2711789651459067, 1.271189164614673, 1.2711543448409715, 1.2708995740270683, 1.2711878402949415, 1.2711920764552986, 1.271117261168748, 1.2708996647848423, 1.2711052082414829, 1.2711709667092688, 1.271089860313768, 1.2710581287359588, 1.2711540677418531, 1.2712227686521262, 1.271230014163574, 1.271033741128575, 1.2923047486025314, 1.2711038048514287, 1.271005883582181, 1.271184895441654, 1.2712014640936569, 1.2922580367312069, 21.641658960043756, 15.10387984115889, 12.476821886816786, 10.842069252669567, 7.314640819935551, 12.562160710289449, 8.972116748327775, 7.12416624165316, 10.109071235825432, 6.284543206119873, 9.876612234052747, 9.22746971589349, 26.33889240517718, 6.562545084448965, 10.861219654919166, 6.496585041934126, 7.356350680377988, 6.540237776122161, 14.80315704433955, 5.658097752669405, 11.736321360297454, 11.02415830268438, 5.678496948609165, 5.6370197363070735, 7.232337775488295, 6.539507884806109, 7.42277742790011, 9.185066139012998, 5.44552390544964], \"Category\": [\"Default\", \"Default\", \"Default\", \"Default\", \"Default\", \"Default\", \"Default\", \"Default\", \"Default\", \"Default\", \"Default\", \"Default\", \"Default\", \"Default\", \"Default\", \"Default\", \"Default\", \"Default\", \"Default\", \"Default\", \"Default\", \"Default\", \"Default\", \"Default\", \"Default\", \"Default\", \"Default\", \"Default\", \"Default\", \"Default\", \"Topic1\", \"Topic1\", \"Topic1\", \"Topic1\", \"Topic1\", \"Topic1\", \"Topic1\", \"Topic1\", \"Topic1\", \"Topic1\", \"Topic1\", \"Topic1\", \"Topic1\", \"Topic1\", \"Topic1\", \"Topic1\", \"Topic1\", \"Topic1\", \"Topic1\", \"Topic1\", \"Topic1\", \"Topic1\", \"Topic1\", \"Topic1\", \"Topic1\", \"Topic1\", \"Topic1\", \"Topic1\", \"Topic1\", \"Topic1\", \"Topic1\", \"Topic1\", \"Topic1\", \"Topic1\", \"Topic1\", \"Topic1\", \"Topic1\", \"Topic1\", \"Topic1\", \"Topic1\", \"Topic1\", \"Topic1\", \"Topic1\", \"Topic1\", \"Topic1\", \"Topic1\", \"Topic1\", \"Topic1\", \"Topic1\", \"Topic1\", \"Topic1\", \"Topic1\", \"Topic1\", \"Topic1\", \"Topic1\", \"Topic1\", \"Topic1\", \"Topic2\", \"Topic2\", \"Topic2\", \"Topic2\", \"Topic2\", \"Topic2\", \"Topic2\", \"Topic2\", \"Topic2\", \"Topic2\", \"Topic2\", \"Topic2\", \"Topic2\", \"Topic2\", \"Topic2\", \"Topic2\", \"Topic2\", \"Topic2\", \"Topic2\", \"Topic2\", \"Topic2\", \"Topic2\", \"Topic2\", \"Topic2\", \"Topic2\", \"Topic2\", \"Topic2\", \"Topic2\", \"Topic2\", \"Topic2\", \"Topic2\", \"Topic2\", \"Topic2\", \"Topic2\", \"Topic2\", \"Topic2\", \"Topic2\", \"Topic2\", \"Topic2\", \"Topic2\", \"Topic2\", \"Topic2\", \"Topic2\", \"Topic2\", \"Topic2\", \"Topic2\", \"Topic2\", \"Topic2\", \"Topic2\", \"Topic2\", \"Topic2\", \"Topic2\", \"Topic2\", \"Topic2\", \"Topic2\", \"Topic2\", \"Topic2\", \"Topic2\", \"Topic3\", \"Topic3\", \"Topic3\", \"Topic3\", \"Topic3\", \"Topic3\", \"Topic3\", \"Topic3\", \"Topic3\", \"Topic3\", \"Topic3\", \"Topic3\", \"Topic3\", \"Topic3\", \"Topic3\", \"Topic3\", \"Topic3\", \"Topic3\", \"Topic3\", \"Topic3\", \"Topic3\", \"Topic3\", \"Topic3\", \"Topic3\", \"Topic3\", \"Topic3\", \"Topic3\", \"Topic3\", \"Topic3\", \"Topic3\", \"Topic3\", \"Topic3\", \"Topic3\", \"Topic3\", \"Topic3\", \"Topic3\", \"Topic3\", \"Topic3\", \"Topic3\", \"Topic3\", \"Topic3\", \"Topic3\", \"Topic3\", \"Topic3\", \"Topic3\", \"Topic3\", \"Topic3\", \"Topic3\", \"Topic3\", \"Topic3\", \"Topic3\", \"Topic3\", \"Topic3\", \"Topic4\", \"Topic4\", \"Topic4\", \"Topic4\", \"Topic4\", \"Topic4\", \"Topic4\", \"Topic4\", \"Topic4\", \"Topic4\", \"Topic4\", \"Topic4\", \"Topic4\", \"Topic4\", \"Topic4\", \"Topic4\", \"Topic4\", \"Topic4\", \"Topic4\", \"Topic4\", \"Topic4\", \"Topic4\", \"Topic4\", \"Topic4\", \"Topic4\", \"Topic4\", \"Topic4\", \"Topic4\", \"Topic4\", \"Topic4\", \"Topic4\", \"Topic4\", \"Topic4\", \"Topic4\", \"Topic4\", \"Topic4\", \"Topic4\", \"Topic4\", \"Topic4\", \"Topic4\", \"Topic4\", \"Topic4\", \"Topic4\", \"Topic4\", \"Topic4\", \"Topic4\", \"Topic4\", \"Topic4\", \"Topic4\", \"Topic4\", \"Topic4\", \"Topic4\", \"Topic4\", \"Topic4\", \"Topic4\", \"Topic4\", \"Topic4\", \"Topic4\", \"Topic4\", \"Topic4\", \"Topic4\", \"Topic4\", \"Topic4\", \"Topic4\", \"Topic4\", \"Topic4\", \"Topic4\", \"Topic4\", \"Topic5\", \"Topic5\", \"Topic5\", \"Topic5\", \"Topic5\", \"Topic5\", \"Topic5\", \"Topic5\", \"Topic5\", \"Topic5\", \"Topic5\", \"Topic5\", \"Topic5\", \"Topic5\", \"Topic5\", \"Topic5\", \"Topic5\", \"Topic5\", \"Topic5\", \"Topic5\", \"Topic5\", \"Topic5\", \"Topic5\", \"Topic5\", \"Topic5\", \"Topic5\", \"Topic5\", \"Topic5\", \"Topic5\", \"Topic5\", \"Topic5\", \"Topic5\", \"Topic5\", \"Topic5\", \"Topic5\", \"Topic5\", \"Topic5\", \"Topic5\", \"Topic5\", \"Topic5\", \"Topic5\", \"Topic5\", \"Topic5\", \"Topic5\", \"Topic5\", \"Topic5\", \"Topic5\", \"Topic5\", \"Topic5\", \"Topic5\", \"Topic5\", \"Topic5\", \"Topic5\", \"Topic5\", \"Topic5\", \"Topic5\", \"Topic5\", \"Topic5\", \"Topic5\", \"Topic5\", \"Topic5\", \"Topic5\", \"Topic5\", \"Topic6\", \"Topic6\", \"Topic6\", \"Topic6\", \"Topic6\", \"Topic6\", \"Topic6\", \"Topic6\", \"Topic6\", \"Topic6\", \"Topic6\", \"Topic6\", \"Topic6\", \"Topic6\", \"Topic6\", \"Topic6\", \"Topic6\", \"Topic6\", \"Topic6\", \"Topic6\", \"Topic6\", \"Topic6\", \"Topic6\", \"Topic6\", \"Topic6\", \"Topic6\", \"Topic6\", \"Topic6\", \"Topic6\", \"Topic6\", \"Topic6\", \"Topic6\", \"Topic6\", \"Topic6\", \"Topic6\", \"Topic6\", \"Topic6\", \"Topic6\", \"Topic6\", \"Topic6\", \"Topic6\", \"Topic6\", \"Topic6\", \"Topic6\", \"Topic6\", \"Topic6\", \"Topic6\", \"Topic6\", \"Topic6\", \"Topic6\", \"Topic6\", \"Topic6\", \"Topic6\", \"Topic6\", \"Topic6\", \"Topic6\", \"Topic6\", \"Topic6\", \"Topic6\", \"Topic6\", \"Topic6\", \"Topic6\", \"Topic6\", \"Topic6\", \"Topic6\", \"Topic6\", \"Topic6\", \"Topic6\", \"Topic6\", \"Topic6\", \"Topic6\", \"Topic6\", \"Topic6\", \"Topic6\", \"Topic6\", \"Topic6\", \"Topic6\", \"Topic6\", \"Topic6\", \"Topic6\", \"Topic6\", \"Topic6\", \"Topic6\", \"Topic6\", \"Topic6\", \"Topic6\", \"Topic6\", \"Topic6\", \"Topic6\"], \"logprob\": [30.0, 29.0, 28.0, 27.0, 26.0, 25.0, 24.0, 23.0, 22.0, 21.0, 20.0, 19.0, 18.0, 17.0, 16.0, 15.0, 14.0, 13.0, 12.0, 11.0, 10.0, 9.0, 8.0, 7.0, 6.0, 5.0, 4.0, 3.0, 2.0, 1.0, -4.200699806213379, -4.2972002029418945, -4.645100116729736, -4.794099807739258, -4.795599937438965, -4.971199989318848, -4.971799850463867, -4.971700191497803, -5.1869001388549805, -5.1875, -5.1875, -4.0366997718811035, -5.460400104522705, -5.460599899291992, -5.461299896240234, -5.462200164794922, -5.462100028991699, -5.462200164794922, -5.462800025939941, -5.463200092315674, -5.463399887084961, -5.839799880981445, -5.840000152587891, -5.839799880981445, -5.840099811553955, -5.839900016784668, -5.840199947357178, -5.840000152587891, -5.840099811553955, -5.840400218963623, -4.795199871063232, -4.971399784088135, -4.513500213623047, -4.973100185394287, -4.973499774932861, -4.973599910736084, -4.513400077819824, -5.186100006103516, -4.795199871063232, -4.201200008392334, -3.2411999702453613, -4.398799896240234, -4.512599945068359, -4.971099853515625, -4.200900077819824, -4.970799922943115, -4.97189998626709, -4.794099807739258, -4.794600009918213, -4.796599864959717, -4.793799877166748, -4.970699787139893, -4.968800067901611, -4.970600128173828, -4.970699787139893, -4.97130012512207, -4.971499919891357, -4.257800102233887, -4.831999778747559, -5.320199966430664, -5.320499897003174, -5.320400238037109, -5.3206000328063965, -5.320899963378906, -5.320899963378906, -5.320899963378906, -5.320899963378906, -5.320899963378906, -5.321100234985352, -5.321000099182129, -5.321100234985352, -5.321000099182129, -5.321300029754639, -5.321300029754639, -5.699900150299072, -5.700200080871582, -5.699900150299072, -5.700300216674805, -5.700099945068359, -5.700200080871582, -5.700300216674805, -5.700300216674805, -5.700200080871582, -5.700200080871582, -5.700399875640869, -5.700399875640869, -5.700399875640869, -4.50439977645874, -4.50439977645874, -4.65339994430542, -3.4207000732421875, -5.044099807739258, -5.046500205993652, -4.831099987030029, -4.151400089263916, -4.830599784851074, -4.5030999183654785, -4.654099941253662, -4.058199882507324, -3.416300058364868, -4.829500198364258, -4.650100231170654, -5.045499801635742, -4.828999996185303, -4.828499794006348, -5.045899868011475, -4.826000213623047, -5.045100212097168, -5.043799877166748, -5.040900230407715, -5.3140997886657715, -5.316800117492676, -5.317999839782715, -5.318999767303467, -5.319200038909912, -3.8394999504089355, -4.885300159454346, -4.885300159454346, -4.885200023651123, -4.885200023651123, -4.885499954223633, -4.885700225830078, -3.839600086212158, -4.016499996185303, -5.503900051116943, -5.504000186920166, -5.504199981689453, -5.5040998458862305, -5.504300117492676, -5.504199981689453, -5.504300117492676, -5.50439977645874, -5.504300117492676, -5.504199981689453, -5.50439977645874, -5.504199981689453, -5.5040998458862305, -5.504300117492676, -5.50439977645874, -5.5040998458862305, -5.504300117492676, -5.504199981689453, -5.504499912261963, -5.50439977645874, -5.504300117492676, -4.231800079345703, -5.504199981689453, -5.504300117492676, -4.015699863433838, -4.885200023651123, -4.8850998878479, -2.874500036239624, -4.50600004196167, -4.015699863433838, -4.505099773406982, -4.2307000160217285, -4.230299949645996, -4.884900093078613, -4.884699821472168, -4.014400005340576, -4.884500026702881, -4.8850998878479, -4.8850998878479, -4.884399890899658, -4.884500026702881, -4.5040998458862305, -4.883500099182129, -4.883399963378906, -6.273600101470947, -6.27370023727417, -6.273900032043457, -6.274099826812744, -6.27400016784668, -6.27400016784668, -6.274199962615967, -6.2743000984191895, -6.274400234222412, -6.274199962615967, -6.2743000984191895, -6.2743000984191895, -6.274400234222412, -6.274199962615967, -6.274600028991699, -6.274499893188477, -6.274600028991699, -6.274600028991699, -6.274499893188477, -6.274700164794922, -6.274700164794922, -6.274799823760986, -6.274700164794922, -6.274700164794922, -6.274700164794922, -6.275000095367432, -6.274899959564209, -6.275000095367432, -6.275000095367432, -6.275000095367432, -6.275000095367432, -6.0991997718811035, -6.149499893188477, -6.270299911499023, -6.270699977874756, -6.192800045013428, -6.206399917602539, -6.218599796295166, -6.223800182342529, -6.225200176239014, -6.224299907684326, -6.270999908447266, -6.271100044250488, -6.271500110626221, -6.230999946594238, -6.229800224304199, -6.2281999588012695, -6.234600067138672, -6.236400127410889, -6.236499786376953, -6.238399982452393, -6.239799976348877, -6.244200229644775, -6.242099761962891, -6.242099761962891, -6.240499973297119, -6.2434000968933105, -6.247600078582764, -6.248600006103516, -6.247600078582764, -6.248799800872803, -6.247000217437744, -6.257400035858154, -6.249899864196777, -6.2515997886657715, -6.2505998611450195, -6.2494001388549805, -6.24970006942749, -6.272200107574463, -6.272200107574463, -6.272299766540527, -6.27239990234375, -6.272500038146973, -6.272600173950195, -6.272600173950195, -6.27269983291626, -6.27269983291626, -6.272900104522705, -6.272900104522705, -6.272900104522705, -6.273099899291992, -6.2729997634887695, -6.2729997634887695, -6.273200035095215, -6.273200035095215, -6.273200035095215, -6.2733001708984375, -6.2733001708984375, -6.2733001708984375, -6.273399829864502, -6.273499965667725, -6.273499965667725, -6.273499965667725, -6.273499965667725, -6.273499965667725, -6.273499965667725, -6.273499965667725, -6.27370023727417, -6.273600101470947, -6.083799839019775, -6.167500019073486, -6.168000221252441, -6.219299793243408, -6.2266998291015625, -6.229000091552734, -6.230299949645996, -6.230500221252441, -6.230000019073486, -6.2322998046875, -6.23199987411499, -6.231599807739258, -6.237800121307373, -6.247300148010254, -6.241099834442139, -6.243299961090088, -6.249599933624268, -6.247099876403809, -6.2444000244140625, -6.250699996948242, -6.2494001388549805, -6.254300117492676, -6.246500015258789, -6.244999885559082, -6.246099948883057, -6.252399921417236, -6.2519001960754395, -6.253399848937988, -6.2515997886657715, -6.249199867248535, -6.250800132751465, -6.2515997886657715, -6.272200107574463, -6.272200107574463, -6.272200107574463, -6.272200107574463, -6.272200107574463, -6.272200107574463, -6.272200107574463, -6.272200107574463, -6.272200107574463, -6.272200107574463, -6.272200107574463, -6.272200107574463, -6.272200107574463, -6.272200107574463, -6.272200107574463, -6.272200107574463, -6.272200107574463, -6.272200107574463, -6.272200107574463, -6.272200107574463, -6.272200107574463, -6.272200107574463, -6.272200107574463, -6.272200107574463, -6.272200107574463, -6.272200107574463, -6.272200107574463, -6.272200107574463, -6.272200107574463, -6.272200107574463, -6.269400119781494, -6.207300186157227, -6.269499778747559, -6.269499778747559, -6.269499778747559, -6.269499778747559, -6.269700050354004, -6.269700050354004, -6.269700050354004, -6.269800186157227, -6.269800186157227, -6.269800186157227, -6.269899845123291, -6.269899845123291, -6.269899845123291, -6.269899845123291, -6.269899845123291, -6.269999980926514, -6.269999980926514, -6.269999980926514, -6.269999980926514, -6.269999980926514, -6.269999980926514, -6.270100116729736, -6.269899845123291, -6.270100116729736, -6.270100116729736, -6.270100116729736, -6.270100116729736, -6.269999980926514, -6.243899822235107, -6.252299785614014, -6.252399921417236, -6.252999782562256, -6.255000114440918, -6.255899906158447, -6.255899906158447, -6.256400108337402, -6.256999969482422, -6.2571001052856445, -6.257500171661377, -6.257999897003174, -6.258399963378906, -6.258500099182129, -6.259699821472168, -6.259799957275391, -6.260300159454346, -6.260499954223633, -6.260799884796143, -6.261099815368652, -6.261300086975098, -6.261300086975098, -6.261300086975098, -6.26140022277832, -6.261499881744385, -6.26170015335083, -6.261899948120117, -6.262400150299072, -6.262700080871582], \"loglift\": [30.0, 29.0, 28.0, 27.0, 26.0, 25.0, 24.0, 23.0, 22.0, 21.0, 20.0, 19.0, 18.0, 17.0, 16.0, 15.0, 14.0, 13.0, 12.0, 11.0, 10.0, 9.0, 8.0, 7.0, 6.0, 5.0, 4.0, 3.0, 2.0, 1.0, 0.7393, 0.7341, 0.724, 0.7187, 0.7174, 0.7096, 0.709, 0.709, 0.696, 0.6954, 0.6952, 0.686, 0.6759, 0.6757, 0.675, 0.6743, 0.6742, 0.6741, 0.6737, 0.6733, 0.6731, 0.637, 0.6369, 0.6369, 0.6369, 0.6369, 0.6369, 0.6368, 0.6367, 0.6367, 0.5769, 0.5756, 0.5224, 0.5434, 0.5433, 0.543, 0.4499, 0.535, 0.4537, 0.3373, 0.003, 0.3308, 0.2602, 0.4309, -0.0221, 0.4048, 0.4036, 0.2652, 0.1561, 0.0717, -0.003, 0.3042, -0.9864, -0.1172, -0.1007, 0.3038, -0.0697, 0.8976, 0.8712, 0.8375, 0.8374, 0.8373, 0.8368, 0.8368, 0.8367, 0.8366, 0.8365, 0.8365, 0.8365, 0.8364, 0.8364, 0.8363, 0.8363, 0.8363, 0.797, 0.797, 0.797, 0.7969, 0.7966, 0.7966, 0.7965, 0.7965, 0.7965, 0.7963, 0.7962, 0.7962, 0.7962, 0.7856, 0.7592, 0.7354, 0.5617, 0.6547, 0.6523, 0.5842, 0.4072, 0.5547, 0.367, 0.3989, 0.1207, -0.1722, 0.4284, 0.2182, 0.4824, 0.1217, 0.0733, 0.3363, -0.2875, 0.1202, -0.1904, -0.3113, 0.0647, -0.526, -0.2587, 0.2051, 0.2394, 1.8977, 1.7847, 1.7846, 1.7846, 1.7845, 1.7844, 1.7843, 1.7244, 1.6839, 1.6527, 1.6525, 1.6525, 1.6525, 1.6525, 1.6525, 1.6525, 1.6525, 1.6525, 1.6524, 1.6524, 1.6524, 1.6524, 1.6524, 1.6524, 1.6524, 1.6524, 1.6524, 1.6524, 1.6524, 1.6524, 1.6268, 1.6524, 1.6524, 1.0373, 1.3928, 1.3927, 0.3697, 1.1209, 0.7751, 0.9585, 0.6227, 0.5426, 1.1122, 1.1061, -0.0319, 0.8932, 0.8878, 0.8783, 0.7018, 0.5548, -0.3252, 0.0183, -0.3248, 0.8831, 0.8831, 0.8829, 0.8827, 0.8827, 0.8827, 0.8827, 0.8826, 0.8825, 0.8825, 0.8824, 0.8824, 0.8824, 0.8824, 0.8822, 0.8821, 0.8821, 0.8821, 0.8821, 0.8821, 0.8821, 0.8821, 0.882, 0.882, 0.8819, 0.8818, 0.8817, 0.8817, 0.8817, 0.8816, 0.8816, -2.8551, -2.1671, 0.7436, 0.7433, -2.014, -1.6477, -1.0633, -1.451, -1.4344, -1.5015, 0.7431, 0.743, 0.7423, -1.3627, -1.5002, -1.6896, -1.3812, -1.2857, -1.3347, -1.2983, -1.1805, -0.8554, -1.1891, -1.2062, -1.3704, -1.2801, -0.872, -0.8094, -0.9725, -0.8635, -1.0818, -0.0995, -0.8446, -0.7311, -0.8486, -0.9915, -0.9861, 0.8847, 0.8846, 0.8845, 0.8844, 0.8844, 0.8842, 0.8842, 0.884, 0.884, 0.8839, 0.8839, 0.8838, 0.8837, 0.8837, 0.8837, 0.8835, 0.8834, 0.8834, 0.8833, 0.8833, 0.8833, 0.8832, 0.8832, 0.8832, 0.8832, 0.8832, 0.8831, 0.8831, 0.883, 0.883, 0.883, -2.8396, -1.9887, -2.1856, -1.6607, -1.4971, -1.3756, -1.362, -1.4398, -1.5072, -1.3305, -1.4591, -1.693, -1.2065, -0.5101, -1.2905, -1.088, -0.6857, -0.9892, -1.2811, -0.6645, -0.8474, -0.3957, -1.1935, -1.3749, -1.3061, -0.7394, -0.8127, -0.6947, -0.8825, -1.1899, -1.0855, -1.2157, 0.8846, 0.8846, 0.8846, 0.8846, 0.8846, 0.8846, 0.8846, 0.8845, 0.8845, 0.8845, 0.8845, 0.8845, 0.8845, 0.8845, 0.8845, 0.8845, 0.8845, 0.8845, 0.8845, 0.8845, 0.8844, 0.8844, 0.8844, 0.8844, 0.8844, 0.8844, 0.8844, 0.8844, 0.8844, 0.8844, 0.7443, -2.9632, 0.7441, 0.7442, 0.7441, 0.7441, 0.744, 0.744, 0.7438, 0.7437, 0.7437, 0.7439, 0.7436, 0.7436, 0.7437, 0.7438, 0.7437, 0.7436, 0.7436, 0.7436, 0.7435, 0.7435, 0.7434, 0.7436, 0.7271, 0.7435, 0.7436, 0.7434, 0.7434, 0.7271, -2.0651, -1.7137, -1.5228, -1.383, -0.9914, -1.5331, -1.1966, -0.9665, -1.3169, -0.8417, -1.2942, -1.2267, -2.276, -0.8864, -1.3914, -0.8776, -1.0024, -0.885, -1.7022, -0.7408, -1.4705, -1.4079, -0.7445, -0.7373, -0.9866, -0.8861, -1.0129, -1.2265, -0.7041]}, \"token.table\": {\"Topic\": [1, 1, 2, 3, 1, 3, 2, 2, 3, 2, 3, 1, 2, 2, 3, 3, 1, 2, 1, 1, 2, 2, 1, 2, 3, 1, 1, 2, 3, 3, 2, 2, 3, 3, 3, 2, 1, 2, 3, 1, 2, 3, 1, 1, 1, 2, 2, 1, 2, 3, 2, 2, 1, 2, 3, 2, 2, 2, 3, 1, 2, 3, 2, 3, 2, 1, 2, 2, 3, 1, 2, 3, 1, 2, 2, 2, 1, 3, 2, 2, 1, 3, 2, 3, 2, 2, 2, 2, 1, 3, 1, 1, 2, 3, 1, 3, 2, 1, 2, 3, 1, 2, 3, 1, 3, 1, 2, 3, 1, 2, 2, 1, 2, 3, 2, 3, 3, 3, 1, 2, 3, 1, 1, 2, 3, 3, 2, 1, 2, 3, 1, 2, 3, 2, 3, 2, 1, 2, 1, 2, 2, 1, 2, 3, 3, 3, 1, 3, 2, 2, 1, 3, 3, 2, 1, 3, 3, 2, 3, 2, 3, 3, 1, 2, 3, 3, 1, 2, 1, 2, 3, 1, 2, 1, 1, 1, 2, 3, 1, 2, 3, 2, 2, 1, 2, 3, 2, 1, 2, 3, 3, 1, 2, 1, 2, 2, 3, 2, 2, 2, 3, 3, 3, 3, 1, 2, 2, 2, 2, 1, 2, 1, 1, 2, 3, 1, 2, 3, 2, 1, 2, 3, 3, 1, 2, 2, 2, 2, 3, 1, 1, 2, 1, 2, 2, 1, 2, 3, 1, 2, 1, 2, 3, 2, 2, 1, 1, 2, 3, 2, 3, 3, 1, 3, 2, 1, 1, 3, 1, 2, 2, 1, 2, 3, 3, 3, 2, 1, 2, 1, 2, 3, 1, 2, 1, 1, 1, 2, 3, 2, 3, 2, 3, 3, 1, 2, 2, 3, 1, 2, 1, 2, 3, 3], \"Freq\": [0.9816701507918225, 0.30882612522629144, 0.6176522504525829, 0.9077830394824005, 0.9552496801104453, 0.07960414000920377, 1.0025288760449231, 0.37694054000054517, 0.37694054000054517, 0.37703287037903266, 0.37703287037903266, 0.532179904823001, 0.532179904823001, 0.7867403760165227, 0.9076279820082027, 0.9078240231871105, 0.9198801332451503, 0.7867460798149959, 0.9115409793359386, 0.46116658024194823, 0.5533998962903379, 0.7867264394298217, 0.1367121126815371, 0.8202726760892226, 0.9076603818122676, 1.0158811562591998, 0.15912055454184837, 0.6364822181673935, 0.15912055454184837, 0.8780769175301272, 0.7870263401776162, 0.21159944245863016, 0.8463977698345206, 0.9076523217126026, 0.9076740899029015, 0.9814924470574041, 0.9818339907028422, 0.9383446016491522, 0.9077743713226875, 0.7087450467950219, 0.20249858479857769, 0.10124929239928884, 0.9753486358777539, 0.98174719029823, 0.6135975027867424, 0.4601981270900568, 0.7866865294985917, 0.47179193205958425, 0.3266251837335583, 0.19960427894828564, 0.7866712928853565, 0.78671694012131, 0.3259350995219004, 0.4889026492828506, 0.1629675497609502, 0.7868442325708903, 0.7867178087134148, 1.0025994868190595, 0.5579156178305437, 0.4998836775463927, 0.3999069420371142, 0.9077365852268879, 1.0027626786334758, 0.9077124794357009, 0.9382340093667589, 0.7618995276464197, 0.15237990552928393, 0.786644185944134, 0.5578209019007337, 0.3672741199425253, 0.5509111799137879, 0.18363705997126265, 0.7621066516078676, 0.21774475760224787, 0.7867538240550564, 0.7866867009885388, 1.0158423392995697, 0.907716466862939, 0.7867193881336717, 0.7869958582053707, 0.9199661324202687, 0.907864550484198, 0.6858204233816101, 0.22860680779387005, 0.786778419295446, 0.7866676229287362, 0.7870779963311668, 0.7868043784673489, 1.0375145576745217, 0.9076867303687592, 0.9199033805964953, 0.4620717856455761, 0.4620717856455761, 0.09241435712911522, 0.9074928933201778, 0.18149857866403554, 0.7867013707566992, 0.8803245218074579, 0.17606490436149158, 0.9078895267750544, 0.19658753785678845, 0.3931750757135769, 0.3931750757135769, 0.9817728246921247, 0.9077861718941458, 1.01571048676494, 0.553773562666079, 0.4430188501328632, 0.46178107122982526, 0.6157080949731003, 0.9383806162405668, 0.6914697533184997, 0.2765879013273999, 0.13829395066369995, 0.1846047728651358, 0.7384190914605432, 0.9077534577402374, 0.9077611321272888, 0.21125447774572542, 0.8450179109829017, 0.5578028437484898, 1.0373773237469188, 0.1549502788993707, 0.7747513944968536, 0.9077640347057911, 0.9077015951841322, 0.7866397023814498, 0.28290434350717636, 0.28290434350717636, 0.28290434350717636, 0.3377657877318748, 0.6079784179173747, 0.06755315754637496, 0.7867659344255344, 0.907873953864901, 0.7867094803515884, 0.7738112864487862, 0.7866631790126367, 0.35613176569852845, 0.7122635313970569, 0.938554049659437, 0.4956466413222205, 0.4956466413222205, 0.12391166033055513, 0.9077414940472746, 0.9078226567935852, 0.9816089881411547, 0.9077647663668028, 1.0026714099182372, 1.0028878699644, 0.6760393179964233, 0.22534643933214107, 0.5579663133346524, 1.0025852300503666, 0.9199897255686239, 0.9078410336772619, 0.907711757102405, 1.0028633432771525, 0.9075845594217091, 0.9383983495922018, 0.9076713890525716, 0.907901008036361, 0.18983334314457348, 0.6834000353204646, 0.15186667451565877, 0.9076378944976081, 0.6736023070294984, 0.2694409228117993, 0.5858414572360342, 0.16738327349600976, 0.2510749102440146, 0.4078109011309195, 0.5437478681745593, 1.0373922940747684, 0.7738392577766593, 0.5662942887929486, 0.1887647629309829, 0.1887647629309829, 0.6411889239561022, 0.3205944619780511, 0.08014861549451277, 0.7869066513318566, 1.0024476009989596, 0.4260278707870416, 0.25561672247222494, 0.34082229662963326, 1.002737672948803, 0.785062296878076, 0.1570124593756152, 0.1570124593756152, 0.9078023115858043, 0.7070672109455007, 0.35353360547275037, 0.7069513774506389, 0.3534756887253194, 0.9388424797062621, 0.9077440212330875, 0.9384603744853582, 0.9383207306422419, 0.9384812928293503, 0.9078364694718905, 0.9075956072374556, 0.9077403999931946, 0.9078872983164642, 0.9816710759523872, 1.0026239489247952, 0.7866573696192063, 1.0028002826779543, 0.7866658005224307, 0.2112538090650762, 0.8450152362603048, 0.9200865043680214, 0.764498198865883, 0.3057992795463532, 0.9078150709480115, 0.6300693556456565, 0.31503467782282824, 0.15751733891141412, 0.7868441763805922, 0.4760503443905847, 0.38084027551246774, 0.09521006887811694, 0.5579348332261135, 0.8771960832457252, 1.0030483295855168, 1.0026032354151238, 1.0027284817979036, 0.5693581994203059, 0.2846790997101529, 0.9198854820551198, 0.8805146934568047, 0.17610293869136093, 0.9816259869048962, 0.7866649809771807, 0.7870993265278717, 0.5009074999310068, 0.16696916664366893, 0.33393833328733785, 0.5321961143186206, 0.5321961143186206, 0.22749709965941212, 0.45499419931882423, 0.22749709965941212, 0.9381713258118682, 0.9382595154073992, 0.9197982273663172, 0.6913393919385108, 0.2765357567754043, 0.13826787838770216, 0.7866762427627969, 0.9078819680290603, 0.9077242431120565, 0.9818231401382266, 0.9076486605401806, 0.9385520652022022, 0.9892105581926364, 0.8641115464391579, 0.21602788660978947, 0.9815697369647519, 0.7867915818311787, 0.8487495503933872, 0.5572820929834535, 0.33436925579007215, 0.11145641859669071, 0.5578777088362163, 0.9078749059334803, 1.0027844779170223, 0.8803009007622928, 0.17606018015245856, 0.3672896788049315, 0.5509345182073973, 0.18364483940246576, 0.9201137071053896, 0.938837715473036, 0.87701487922279, 0.919866730618943, 0.66208153833093, 0.264832615332372, 0.066208153833093, 0.7867611752871966, 0.9077127867750977, 0.24786448675668538, 0.7435934602700561, 0.9076648612199828, 0.7645835264786512, 0.3058334105914605, 0.8422038167665922, 0.14036730279443202, 0.46035345558410146, 0.46035345558410146, 0.45354936519575384, 0.3628394921566031, 0.2721296191174523, 0.9077816614000243], \"Term\": [\"abuse\", \"accord\", \"accord\", \"addict\", \"address\", \"address\", \"ago\", \"alert\", \"alert\", \"already\", \"already\", \"also\", \"also\", \"angry\", \"appeal\", \"appoint\", \"appropriate\", \"arabic\", \"area\", \"ask\", \"ask\", \"asking\", \"assessment\", \"assessment\", \"assume\", \"attack\", \"attend\", \"attend\", \"attend\", \"aunt\", \"available\", \"bear\", \"bear\", \"beat\", \"begin\", \"biological\", \"british\", \"call\", \"cancel\", \"care\", \"care\", \"care\", \"carer\", \"carol\", \"case\", \"case\", \"check\", \"child\", \"child\", \"child\", \"civil\", \"clear\", \"come\", \"come\", \"come\", \"committed\", \"conclusion\", \"conduct\", \"consume\", \"contact\", \"contact\", \"context\", \"contract\", \"country\", \"couple\", \"current\", \"current\", \"custody\", \"danger\", \"date\", \"date\", \"date\", \"daughter\", \"daughter\", \"deadline\", \"deal\", \"decision\", \"deport\", \"difficulty\", \"document\", \"download\", \"drug\", \"embassy\", \"embassy\", \"emerge\", \"emergency\", \"enclose\", \"end\", \"ensure\", \"escalate\", \"establish\", \"family\", \"family\", \"family\", \"father\", \"father\", \"financially\", \"first\", \"first\", \"flat\", \"follow\", \"follow\", \"follow\", \"foster\", \"free\", \"friend\", \"german\", \"german\", \"get\", \"get\", \"give\", \"go\", \"go\", \"go\", \"grandmother\", \"grandmother\", \"guardian\", \"guardianship\", \"help\", \"help\", \"heroine\", \"holiday\", \"home\", \"home\", \"hope\", \"household\", \"independency\", \"inform\", \"inform\", \"inform\", \"information\", \"information\", \"information\", \"initiate\", \"kick\", \"kid\", \"kind\", \"lack\", \"leave\", \"leave\", \"like\", \"live\", \"live\", \"live\", \"locally\", \"lock\", \"long\", \"longer\", \"lose\", \"lot\", \"make\", \"make\", \"many\", \"marriage\", \"married\", \"massively\", \"may\", \"member\", \"mention\", \"mind\", \"mobile\", \"moment\", \"mother\", \"mother\", \"mother\", \"motivate\", \"name\", \"name\", \"nationality\", \"nationality\", \"nationality\", \"note\", \"note\", \"number\", \"offer\", \"old\", \"old\", \"old\", \"order\", \"order\", \"order\", \"orphanage\", \"paper\", \"parent\", \"parent\", \"parent\", \"pay\", \"phone\", \"phone\", \"phone\", \"photo\", \"place\", \"place\", \"possible\", \"possible\", \"possibly\", \"potsdam\", \"present\", \"primary\", \"process\", \"professional\", \"programme\", \"protection\", \"prove\", \"provide\", \"psychologist\", \"psychosocial\", \"question\", \"reach\", \"receive\", \"receive\", \"refuse\", \"regard\", \"regard\", \"relevant\", \"report\", \"report\", \"report\", \"representative\", \"request\", \"request\", \"request\", \"responsible\", \"safe\", \"search\", \"see\", \"seem\", \"send\", \"send\", \"separate\", \"service\", \"service\", \"several\", \"sheikh\", \"shelter\", \"situation\", \"situation\", \"situation\", \"social\", \"social\", \"soon\", \"soon\", \"soon\", \"speak\", \"stability\", \"start\", \"stay\", \"stay\", \"stay\", \"stop\", \"substitute\", \"substitution\", \"suitability\", \"supply\", \"sure\", \"syrian\", \"take\", \"take\", \"terrorist\", \"thus\", \"ticket\", \"time\", \"time\", \"time\", \"together\", \"tolerate\", \"trace\", \"travel\", \"travel\", \"try\", \"try\", \"try\", \"turn\", \"unfortunately\", \"unknown\", \"video\", \"visit\", \"visit\", \"visit\", \"wait\", \"welcome\", \"welfare\", \"welfare\", \"whatsapp\", \"wife\", \"wife\", \"worker\", \"worker\", \"would\", \"would\", \"year\", \"year\", \"year\", \"youth\"]}, \"R\": 30, \"lambda.step\": 0.01, \"plot.opts\": {\"xlab\": \"PC1\", \"ylab\": \"PC2\"}, \"topic.order\": [6, 2, 3, 5, 4, 1]};\n",
              "\n",
              "function LDAvis_load_lib(url, callback){\n",
              "  var s = document.createElement('script');\n",
              "  s.src = url;\n",
              "  s.async = true;\n",
              "  s.onreadystatechange = s.onload = callback;\n",
              "  s.onerror = function(){console.warn(\"failed to load library \" + url);};\n",
              "  document.getElementsByTagName(\"head\")[0].appendChild(s);\n",
              "}\n",
              "\n",
              "if(typeof(LDAvis) !== \"undefined\"){\n",
              "   // already loaded: just create the visualization\n",
              "   !function(LDAvis){\n",
              "       new LDAvis(\"#\" + \"ldavis_el1031402534437218808413475758\", ldavis_el1031402534437218808413475758_data);\n",
              "   }(LDAvis);\n",
              "}else if(typeof define === \"function\" && define.amd){\n",
              "   // require.js is available: use it to load d3/LDAvis\n",
              "   require.config({paths: {d3: \"https://cdnjs.cloudflare.com/ajax/libs/d3/3.5.5/d3.min\"}});\n",
              "   require([\"d3\"], function(d3){\n",
              "      window.d3 = d3;\n",
              "      LDAvis_load_lib(\"https://cdn.rawgit.com/bmabey/pyLDAvis/files/ldavis.v1.0.0.js\", function(){\n",
              "        new LDAvis(\"#\" + \"ldavis_el1031402534437218808413475758\", ldavis_el1031402534437218808413475758_data);\n",
              "      });\n",
              "    });\n",
              "}else{\n",
              "    // require.js not available: dynamically load d3 & LDAvis\n",
              "    LDAvis_load_lib(\"https://cdnjs.cloudflare.com/ajax/libs/d3/3.5.5/d3.min.js\", function(){\n",
              "         LDAvis_load_lib(\"https://cdn.rawgit.com/bmabey/pyLDAvis/files/ldavis.v1.0.0.js\", function(){\n",
              "                 new LDAvis(\"#\" + \"ldavis_el1031402534437218808413475758\", ldavis_el1031402534437218808413475758_data);\n",
              "            })\n",
              "         });\n",
              "}\n",
              "</script>"
            ],
            "text/plain": [
              "PreparedData(topic_coordinates=              x         y  topics  cluster       Freq\n",
              "topic                                                \n",
              "5      0.036158  0.140303       1        1  46.414391\n",
              "1      0.012358 -0.136032       2        1  39.408227\n",
              "2     -0.137956 -0.004115       3        1  14.001149\n",
              "4      0.029130  0.000042       4        1   0.058744\n",
              "3      0.029936 -0.000072       5        1   0.058744\n",
              "0      0.030374 -0.000126       6        1   0.058744, topic_info=         Term       Freq      Total Category  logprob  loglift\n",
              "13      child  55.000000  55.000000  Default  30.0000  30.0000\n",
              "437    syrian  10.000000  10.000000  Default  29.0000  29.0000\n",
              "51     mother  26.000000  26.000000  Default  28.0000  28.0000\n",
              "463     carer   9.000000   9.000000  Default  27.0000  27.0000\n",
              "93    address  12.000000  12.000000  Default  26.0000  26.0000\n",
              "..        ...        ...        ...      ...      ...      ...\n",
              "181      stay   0.001584   7.232338   Topic6  -6.2615  -0.9866\n",
              "350      wife   0.001584   6.539508   Topic6  -6.2617  -0.8861\n",
              "281      name   0.001583   7.422777   Topic6  -6.2619  -1.0129\n",
              "20   daughter   0.001583   9.185066   Topic6  -6.2624  -1.2265\n",
              "19       date   0.001582   5.445524   Topic6  -6.2627  -0.7041\n",
              "\n",
              "[418 rows x 6 columns], token_table=      Topic      Freq     Term\n",
              "term                          \n",
              "354       1  0.981670    abuse\n",
              "0         1  0.308826   accord\n",
              "0         2  0.617652   accord\n",
              "92        3  0.907783   addict\n",
              "93        1  0.955250  address\n",
              "...     ...       ...      ...\n",
              "89        2  0.460353    would\n",
              "90        1  0.453549     year\n",
              "90        2  0.362839     year\n",
              "90        3  0.272130     year\n",
              "199       3  0.907782    youth\n",
              "\n",
              "[294 rows x 3 columns], R=30, lambda_step=0.01, plot_opts={'xlab': 'PC1', 'ylab': 'PC2'}, topic_order=[6, 2, 3, 5, 4, 1])"
            ]
          },
          "metadata": {
            "tags": []
          }
        }
      ]
    },
    {
      "cell_type": "code",
      "metadata": {
        "id": "BWx0VXNX0g-T",
        "outputId": "e93e92de-8e70-428e-9c54-9542d415f35f",
        "colab": {
          "base_uri": "https://localhost:8080/",
          "height": 638,
          "referenced_widgets": [
            "d3043c4b4a344ece94ed3ec5e27eab7c",
            "1e35fa9d757c4e27ba110eacc4181e9c",
            "e7108320beb54280973410684b384f40",
            "7ecbfd65e1894fa2b4a710d70cb411b6",
            "e0e90d10fe494737ab33998133e6edb5",
            "7c7bf0d337b34070bca866f9201542ba",
            "8732e8c4c3454cc1bc7881e6ebec690b",
            "1db39edc8b93457d801b85bbf6b89a1f",
            "50598583f51d48528dfe9ebb838d3730",
            "0d0942b49cdc4febb0f6c3ebdafb9fe5",
            "6a251a115b4f4013aa46356138236ea8",
            "bd9b4174c24340638a33ff4e560a9ee5",
            "467dcc3a565944b48291d06e115905cc"
          ]
        }
      },
      "source": [
        " evaluate_model(lda)"
      ],
      "execution_count": null,
      "outputs": [
        {
          "output_type": "display_data",
          "data": {
            "application/vnd.jupyter.widget-view+json": {
              "model_id": "d3043c4b4a344ece94ed3ec5e27eab7c",
              "version_minor": 0,
              "version_major": 2
            },
            "text/plain": [
              "interactive(children=(ToggleButtons(description='Plot Type:', icons=('',), options=(('Frequency Plot', 'freque…"
            ]
          },
          "metadata": {
            "tags": []
          }
        }
      ]
    }
  ]
}