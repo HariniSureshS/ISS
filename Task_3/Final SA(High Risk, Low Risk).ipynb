{
  "nbformat": 4,
  "nbformat_minor": 0,
  "metadata": {
    "kernelspec": {
      "display_name": "Python 3",
      "language": "python",
      "name": "python3"
    },
    "language_info": {
      "codemirror_mode": {
        "name": "ipython",
        "version": 3
      },
      "file_extension": ".py",
      "mimetype": "text/x-python",
      "name": "python",
      "nbconvert_exporter": "python",
      "pygments_lexer": "ipython3",
      "version": "3.8.3"
    },
    "colab": {
      "name": "SentimentAnalysisVADER_Flair_Aruana_textBlob.ipynb",
      "provenance": [],
      "collapsed_sections": []
    },
    "widgets": {
      "application/vnd.jupyter.widget-state+json": {
        "c1bc6df4659c49c590d28ee9f221f2b4": {
          "model_module": "@jupyter-widgets/controls",
          "model_name": "HBoxModel",
          "state": {
            "_view_name": "HBoxView",
            "_dom_classes": [],
            "_model_name": "HBoxModel",
            "_view_module": "@jupyter-widgets/controls",
            "_model_module_version": "1.5.0",
            "_view_count": null,
            "_view_module_version": "1.5.0",
            "box_style": "",
            "layout": "IPY_MODEL_111cc195cd9d4ca8a78970fa10ddf272",
            "_model_module": "@jupyter-widgets/controls",
            "children": [
              "IPY_MODEL_c39f328d7f1d41b2b12281ae7012de36",
              "IPY_MODEL_33658ae9194e4b6991c89e272ef0461a"
            ]
          }
        },
        "111cc195cd9d4ca8a78970fa10ddf272": {
          "model_module": "@jupyter-widgets/base",
          "model_name": "LayoutModel",
          "state": {
            "_view_name": "LayoutView",
            "grid_template_rows": null,
            "right": null,
            "justify_content": null,
            "_view_module": "@jupyter-widgets/base",
            "overflow": null,
            "_model_module_version": "1.2.0",
            "_view_count": null,
            "flex_flow": null,
            "width": null,
            "min_width": null,
            "border": null,
            "align_items": null,
            "bottom": null,
            "_model_module": "@jupyter-widgets/base",
            "top": null,
            "grid_column": null,
            "overflow_y": null,
            "overflow_x": null,
            "grid_auto_flow": null,
            "grid_area": null,
            "grid_template_columns": null,
            "flex": null,
            "_model_name": "LayoutModel",
            "justify_items": null,
            "grid_row": null,
            "max_height": null,
            "align_content": null,
            "visibility": null,
            "align_self": null,
            "height": null,
            "min_height": null,
            "padding": null,
            "grid_auto_rows": null,
            "grid_gap": null,
            "max_width": null,
            "order": null,
            "_view_module_version": "1.2.0",
            "grid_template_areas": null,
            "object_position": null,
            "object_fit": null,
            "grid_auto_columns": null,
            "margin": null,
            "display": null,
            "left": null
          }
        },
        "c39f328d7f1d41b2b12281ae7012de36": {
          "model_module": "@jupyter-widgets/controls",
          "model_name": "FloatProgressModel",
          "state": {
            "_view_name": "ProgressView",
            "style": "IPY_MODEL_7e5e0d55aced444987d46199d02c47aa",
            "_dom_classes": [],
            "description": "Downloading: 100%",
            "_model_name": "FloatProgressModel",
            "bar_style": "success",
            "max": 442,
            "_view_module": "@jupyter-widgets/controls",
            "_model_module_version": "1.5.0",
            "value": 442,
            "_view_count": null,
            "_view_module_version": "1.5.0",
            "orientation": "horizontal",
            "min": 0,
            "description_tooltip": null,
            "_model_module": "@jupyter-widgets/controls",
            "layout": "IPY_MODEL_4c9dd7e1dd5b4f0da0469d280bdb32d0"
          }
        },
        "33658ae9194e4b6991c89e272ef0461a": {
          "model_module": "@jupyter-widgets/controls",
          "model_name": "HTMLModel",
          "state": {
            "_view_name": "HTMLView",
            "style": "IPY_MODEL_fbb3e3e2959f48e190fc5f925ed5c5e9",
            "_dom_classes": [],
            "description": "",
            "_model_name": "HTMLModel",
            "placeholder": "​",
            "_view_module": "@jupyter-widgets/controls",
            "_model_module_version": "1.5.0",
            "value": " 442/442 [00:00&lt;00:00, 551B/s]",
            "_view_count": null,
            "_view_module_version": "1.5.0",
            "description_tooltip": null,
            "_model_module": "@jupyter-widgets/controls",
            "layout": "IPY_MODEL_c6610f77f6684ec3a3c18a1b38c13456"
          }
        },
        "7e5e0d55aced444987d46199d02c47aa": {
          "model_module": "@jupyter-widgets/controls",
          "model_name": "ProgressStyleModel",
          "state": {
            "_view_name": "StyleView",
            "_model_name": "ProgressStyleModel",
            "description_width": "initial",
            "_view_module": "@jupyter-widgets/base",
            "_model_module_version": "1.5.0",
            "_view_count": null,
            "_view_module_version": "1.2.0",
            "bar_color": null,
            "_model_module": "@jupyter-widgets/controls"
          }
        },
        "4c9dd7e1dd5b4f0da0469d280bdb32d0": {
          "model_module": "@jupyter-widgets/base",
          "model_name": "LayoutModel",
          "state": {
            "_view_name": "LayoutView",
            "grid_template_rows": null,
            "right": null,
            "justify_content": null,
            "_view_module": "@jupyter-widgets/base",
            "overflow": null,
            "_model_module_version": "1.2.0",
            "_view_count": null,
            "flex_flow": null,
            "width": null,
            "min_width": null,
            "border": null,
            "align_items": null,
            "bottom": null,
            "_model_module": "@jupyter-widgets/base",
            "top": null,
            "grid_column": null,
            "overflow_y": null,
            "overflow_x": null,
            "grid_auto_flow": null,
            "grid_area": null,
            "grid_template_columns": null,
            "flex": null,
            "_model_name": "LayoutModel",
            "justify_items": null,
            "grid_row": null,
            "max_height": null,
            "align_content": null,
            "visibility": null,
            "align_self": null,
            "height": null,
            "min_height": null,
            "padding": null,
            "grid_auto_rows": null,
            "grid_gap": null,
            "max_width": null,
            "order": null,
            "_view_module_version": "1.2.0",
            "grid_template_areas": null,
            "object_position": null,
            "object_fit": null,
            "grid_auto_columns": null,
            "margin": null,
            "display": null,
            "left": null
          }
        },
        "fbb3e3e2959f48e190fc5f925ed5c5e9": {
          "model_module": "@jupyter-widgets/controls",
          "model_name": "DescriptionStyleModel",
          "state": {
            "_view_name": "StyleView",
            "_model_name": "DescriptionStyleModel",
            "description_width": "",
            "_view_module": "@jupyter-widgets/base",
            "_model_module_version": "1.5.0",
            "_view_count": null,
            "_view_module_version": "1.2.0",
            "_model_module": "@jupyter-widgets/controls"
          }
        },
        "c6610f77f6684ec3a3c18a1b38c13456": {
          "model_module": "@jupyter-widgets/base",
          "model_name": "LayoutModel",
          "state": {
            "_view_name": "LayoutView",
            "grid_template_rows": null,
            "right": null,
            "justify_content": null,
            "_view_module": "@jupyter-widgets/base",
            "overflow": null,
            "_model_module_version": "1.2.0",
            "_view_count": null,
            "flex_flow": null,
            "width": null,
            "min_width": null,
            "border": null,
            "align_items": null,
            "bottom": null,
            "_model_module": "@jupyter-widgets/base",
            "top": null,
            "grid_column": null,
            "overflow_y": null,
            "overflow_x": null,
            "grid_auto_flow": null,
            "grid_area": null,
            "grid_template_columns": null,
            "flex": null,
            "_model_name": "LayoutModel",
            "justify_items": null,
            "grid_row": null,
            "max_height": null,
            "align_content": null,
            "visibility": null,
            "align_self": null,
            "height": null,
            "min_height": null,
            "padding": null,
            "grid_auto_rows": null,
            "grid_gap": null,
            "max_width": null,
            "order": null,
            "_view_module_version": "1.2.0",
            "grid_template_areas": null,
            "object_position": null,
            "object_fit": null,
            "grid_auto_columns": null,
            "margin": null,
            "display": null,
            "left": null
          }
        },
        "28cd91c9c75f41a6ae64a473aca1b293": {
          "model_module": "@jupyter-widgets/controls",
          "model_name": "HBoxModel",
          "state": {
            "_view_name": "HBoxView",
            "_dom_classes": [],
            "_model_name": "HBoxModel",
            "_view_module": "@jupyter-widgets/controls",
            "_model_module_version": "1.5.0",
            "_view_count": null,
            "_view_module_version": "1.5.0",
            "box_style": "",
            "layout": "IPY_MODEL_8169d73763cd4565aaa3a2c8cdb671af",
            "_model_module": "@jupyter-widgets/controls",
            "children": [
              "IPY_MODEL_751fa2dfd4654b939cd02188aaa6da5a",
              "IPY_MODEL_656f386dac2448dcbd8d2e60b67bc7ef"
            ]
          }
        },
        "8169d73763cd4565aaa3a2c8cdb671af": {
          "model_module": "@jupyter-widgets/base",
          "model_name": "LayoutModel",
          "state": {
            "_view_name": "LayoutView",
            "grid_template_rows": null,
            "right": null,
            "justify_content": null,
            "_view_module": "@jupyter-widgets/base",
            "overflow": null,
            "_model_module_version": "1.2.0",
            "_view_count": null,
            "flex_flow": null,
            "width": null,
            "min_width": null,
            "border": null,
            "align_items": null,
            "bottom": null,
            "_model_module": "@jupyter-widgets/base",
            "top": null,
            "grid_column": null,
            "overflow_y": null,
            "overflow_x": null,
            "grid_auto_flow": null,
            "grid_area": null,
            "grid_template_columns": null,
            "flex": null,
            "_model_name": "LayoutModel",
            "justify_items": null,
            "grid_row": null,
            "max_height": null,
            "align_content": null,
            "visibility": null,
            "align_self": null,
            "height": null,
            "min_height": null,
            "padding": null,
            "grid_auto_rows": null,
            "grid_gap": null,
            "max_width": null,
            "order": null,
            "_view_module_version": "1.2.0",
            "grid_template_areas": null,
            "object_position": null,
            "object_fit": null,
            "grid_auto_columns": null,
            "margin": null,
            "display": null,
            "left": null
          }
        },
        "751fa2dfd4654b939cd02188aaa6da5a": {
          "model_module": "@jupyter-widgets/controls",
          "model_name": "FloatProgressModel",
          "state": {
            "_view_name": "ProgressView",
            "style": "IPY_MODEL_07ff98c620a24b1d8e5ba4f8313350cd",
            "_dom_classes": [],
            "description": "Downloading: 100%",
            "_model_name": "FloatProgressModel",
            "bar_style": "success",
            "max": 231508,
            "_view_module": "@jupyter-widgets/controls",
            "_model_module_version": "1.5.0",
            "value": 231508,
            "_view_count": null,
            "_view_module_version": "1.5.0",
            "orientation": "horizontal",
            "min": 0,
            "description_tooltip": null,
            "_model_module": "@jupyter-widgets/controls",
            "layout": "IPY_MODEL_bda8848212e64657aeec53d2f174fca4"
          }
        },
        "656f386dac2448dcbd8d2e60b67bc7ef": {
          "model_module": "@jupyter-widgets/controls",
          "model_name": "HTMLModel",
          "state": {
            "_view_name": "HTMLView",
            "style": "IPY_MODEL_a15e4838dc95465ab9d5215700444441",
            "_dom_classes": [],
            "description": "",
            "_model_name": "HTMLModel",
            "placeholder": "​",
            "_view_module": "@jupyter-widgets/controls",
            "_model_module_version": "1.5.0",
            "value": " 232k/232k [00:00&lt;00:00, 591kB/s]",
            "_view_count": null,
            "_view_module_version": "1.5.0",
            "description_tooltip": null,
            "_model_module": "@jupyter-widgets/controls",
            "layout": "IPY_MODEL_cbd0adbfed384739889f48dcfb7b0b4a"
          }
        },
        "07ff98c620a24b1d8e5ba4f8313350cd": {
          "model_module": "@jupyter-widgets/controls",
          "model_name": "ProgressStyleModel",
          "state": {
            "_view_name": "StyleView",
            "_model_name": "ProgressStyleModel",
            "description_width": "initial",
            "_view_module": "@jupyter-widgets/base",
            "_model_module_version": "1.5.0",
            "_view_count": null,
            "_view_module_version": "1.2.0",
            "bar_color": null,
            "_model_module": "@jupyter-widgets/controls"
          }
        },
        "bda8848212e64657aeec53d2f174fca4": {
          "model_module": "@jupyter-widgets/base",
          "model_name": "LayoutModel",
          "state": {
            "_view_name": "LayoutView",
            "grid_template_rows": null,
            "right": null,
            "justify_content": null,
            "_view_module": "@jupyter-widgets/base",
            "overflow": null,
            "_model_module_version": "1.2.0",
            "_view_count": null,
            "flex_flow": null,
            "width": null,
            "min_width": null,
            "border": null,
            "align_items": null,
            "bottom": null,
            "_model_module": "@jupyter-widgets/base",
            "top": null,
            "grid_column": null,
            "overflow_y": null,
            "overflow_x": null,
            "grid_auto_flow": null,
            "grid_area": null,
            "grid_template_columns": null,
            "flex": null,
            "_model_name": "LayoutModel",
            "justify_items": null,
            "grid_row": null,
            "max_height": null,
            "align_content": null,
            "visibility": null,
            "align_self": null,
            "height": null,
            "min_height": null,
            "padding": null,
            "grid_auto_rows": null,
            "grid_gap": null,
            "max_width": null,
            "order": null,
            "_view_module_version": "1.2.0",
            "grid_template_areas": null,
            "object_position": null,
            "object_fit": null,
            "grid_auto_columns": null,
            "margin": null,
            "display": null,
            "left": null
          }
        },
        "a15e4838dc95465ab9d5215700444441": {
          "model_module": "@jupyter-widgets/controls",
          "model_name": "DescriptionStyleModel",
          "state": {
            "_view_name": "StyleView",
            "_model_name": "DescriptionStyleModel",
            "description_width": "",
            "_view_module": "@jupyter-widgets/base",
            "_model_module_version": "1.5.0",
            "_view_count": null,
            "_view_module_version": "1.2.0",
            "_model_module": "@jupyter-widgets/controls"
          }
        },
        "cbd0adbfed384739889f48dcfb7b0b4a": {
          "model_module": "@jupyter-widgets/base",
          "model_name": "LayoutModel",
          "state": {
            "_view_name": "LayoutView",
            "grid_template_rows": null,
            "right": null,
            "justify_content": null,
            "_view_module": "@jupyter-widgets/base",
            "overflow": null,
            "_model_module_version": "1.2.0",
            "_view_count": null,
            "flex_flow": null,
            "width": null,
            "min_width": null,
            "border": null,
            "align_items": null,
            "bottom": null,
            "_model_module": "@jupyter-widgets/base",
            "top": null,
            "grid_column": null,
            "overflow_y": null,
            "overflow_x": null,
            "grid_auto_flow": null,
            "grid_area": null,
            "grid_template_columns": null,
            "flex": null,
            "_model_name": "LayoutModel",
            "justify_items": null,
            "grid_row": null,
            "max_height": null,
            "align_content": null,
            "visibility": null,
            "align_self": null,
            "height": null,
            "min_height": null,
            "padding": null,
            "grid_auto_rows": null,
            "grid_gap": null,
            "max_width": null,
            "order": null,
            "_view_module_version": "1.2.0",
            "grid_template_areas": null,
            "object_position": null,
            "object_fit": null,
            "grid_auto_columns": null,
            "margin": null,
            "display": null,
            "left": null
          }
        }
      }
    }
  },
  "cells": [
    {
      "cell_type": "markdown",
      "metadata": {
        "id": "oT6YVfVU8KCs"
      },
      "source": [
        "# # PART 1: Sentiment Analysis using VADER"
      ]
    },
    {
      "cell_type": "code",
      "metadata": {
        "id": "pScuBsot8KCt",
        "colab": {
          "base_uri": "https://localhost:8080/"
        },
        "outputId": "dbc0d22c-917b-4512-e07e-14b61594b7f1"
      },
      "source": [
        "# download vader_lexicon using nltk.download()\n",
        "import nltk\n",
        "from nltk.sentiment.vader import SentimentIntensityAnalyzer\n",
        "import pandas as pd\n",
        "import numpy as np\n",
        "from wordcloud import WordCloud, STOPWORDS"
      ],
      "execution_count": null,
      "outputs": [
        {
          "output_type": "stream",
          "text": [
            "/usr/local/lib/python3.6/dist-packages/nltk/twitter/__init__.py:20: UserWarning: The twython library has not been installed. Some functionality from the twitter package will not be available.\n",
            "  warnings.warn(\"The twython library has not been installed. \"\n"
          ],
          "name": "stderr"
        }
      ]
    },
    {
      "cell_type": "code",
      "metadata": {
        "id": "E0ZHZJgU9lWV",
        "colab": {
          "base_uri": "https://localhost:8080/"
        },
        "outputId": "9ff0fdb1-d0ce-4615-9693-336e5a81e078"
      },
      "source": [
        "#mount google drive\n",
        "from google.colab import drive\n",
        "drive.mount('/content/drive')"
      ],
      "execution_count": null,
      "outputs": [
        {
          "output_type": "stream",
          "text": [
            "Mounted at /content/drive\n"
          ],
          "name": "stdout"
        }
      ]
    },
    {
      "cell_type": "code",
      "metadata": {
        "scrolled": true,
        "id": "jd2r0KUp8KCy",
        "colab": {
          "base_uri": "https://localhost:8080/",
          "height": 289
        },
        "outputId": "4e144f00-b16d-4e16-a486-73240fb852a8"
      },
      "source": [
        "#Read the csv\n",
        "#fileName = \"/content/drive/My Drive/ISS/CompiledCases.csv\"\n",
        "fileName = \"/content/drive/My Drive/ISS/riskScores.csv\"\n",
        "column = \"case\"\n",
        "Data = pd.read_csv(fileName,encoding=\"Latin-1\")\n",
        "Data = Data.replace(np.nan,' ',regex=True)\n",
        "sentences = list(Data[column])\n",
        "Data.head()\n"
      ],
      "execution_count": null,
      "outputs": [
        {
          "output_type": "execute_result",
          "data": {
            "text/html": [
              "<div>\n",
              "<style scoped>\n",
              "    .dataframe tbody tr th:only-of-type {\n",
              "        vertical-align: middle;\n",
              "    }\n",
              "\n",
              "    .dataframe tbody tr th {\n",
              "        vertical-align: top;\n",
              "    }\n",
              "\n",
              "    .dataframe thead th {\n",
              "        text-align: right;\n",
              "    }\n",
              "</style>\n",
              "<table border=\"1\" class=\"dataframe\">\n",
              "  <thead>\n",
              "    <tr style=\"text-align: right;\">\n",
              "      <th></th>\n",
              "      <th>case</th>\n",
              "      <th>conclusion</th>\n",
              "      <th>conclusion_certainty</th>\n",
              "      <th>case_without_conclusion</th>\n",
              "      <th>evidence</th>\n",
              "      <th>score_1</th>\n",
              "      <th>name_1</th>\n",
              "      <th>score_2</th>\n",
              "      <th>name_2</th>\n",
              "      <th>score_3</th>\n",
              "      <th>name_3</th>\n",
              "      <th>final_score</th>\n",
              "    </tr>\n",
              "  </thead>\n",
              "  <tbody>\n",
              "    <tr>\n",
              "      <th>0</th>\n",
              "      <td>On behalf of Ms. Amira I would like to ask for...</td>\n",
              "      <td></td>\n",
              "      <td></td>\n",
              "      <td>On behalf of Ms. Amira I would like to ask for...</td>\n",
              "      <td></td>\n",
              "      <td>0.1</td>\n",
              "      <td>Jianna</td>\n",
              "      <td>0.08</td>\n",
              "      <td>Kamal</td>\n",
              "      <td>0.1</td>\n",
              "      <td>Shrey Grover</td>\n",
              "      <td>0.09</td>\n",
              "    </tr>\n",
              "    <tr>\n",
              "      <th>1</th>\n",
              "      <td>The following information has been supplied by...</td>\n",
              "      <td></td>\n",
              "      <td></td>\n",
              "      <td>The following information has been supplied by...</td>\n",
              "      <td></td>\n",
              "      <td>0.95</td>\n",
              "      <td>Jianna</td>\n",
              "      <td>0.7</td>\n",
              "      <td>Kamal</td>\n",
              "      <td>0.9</td>\n",
              "      <td>Shrey Grover</td>\n",
              "      <td>0.85</td>\n",
              "    </tr>\n",
              "    <tr>\n",
              "      <th>2</th>\n",
              "      <td>I hope you all are well and sane in these chal...</td>\n",
              "      <td></td>\n",
              "      <td></td>\n",
              "      <td>I hope you all are well and sane in these chal...</td>\n",
              "      <td></td>\n",
              "      <td>0.8</td>\n",
              "      <td>Jianna</td>\n",
              "      <td>0.7</td>\n",
              "      <td>Shrey Grover</td>\n",
              "      <td>0.65</td>\n",
              "      <td>Kamal</td>\n",
              "      <td>0.72</td>\n",
              "    </tr>\n",
              "    <tr>\n",
              "      <th>3</th>\n",
              "      <td>The child protection office in Beirut, Lebanon...</td>\n",
              "      <td></td>\n",
              "      <td></td>\n",
              "      <td>The child protection office in Beirut, Lebanon...</td>\n",
              "      <td></td>\n",
              "      <td>0.6</td>\n",
              "      <td>Jianna</td>\n",
              "      <td>0.65</td>\n",
              "      <td>Shrey Grover</td>\n",
              "      <td>0.58</td>\n",
              "      <td>Kamal</td>\n",
              "      <td>0.61</td>\n",
              "    </tr>\n",
              "    <tr>\n",
              "      <th>4</th>\n",
              "      <td>I am writing from Children and Families Across...</td>\n",
              "      <td></td>\n",
              "      <td></td>\n",
              "      <td>I am writing from Children and Families Across...</td>\n",
              "      <td></td>\n",
              "      <td>0.05</td>\n",
              "      <td>Jianna</td>\n",
              "      <td>0.2</td>\n",
              "      <td>Shrey Grover</td>\n",
              "      <td>0.1</td>\n",
              "      <td>Kamal</td>\n",
              "      <td>0.12</td>\n",
              "    </tr>\n",
              "  </tbody>\n",
              "</table>\n",
              "</div>"
            ],
            "text/plain": [
              "                                                case  ... final_score\n",
              "0  On behalf of Ms. Amira I would like to ask for...  ...        0.09\n",
              "1  The following information has been supplied by...  ...        0.85\n",
              "2  I hope you all are well and sane in these chal...  ...        0.72\n",
              "3  The child protection office in Beirut, Lebanon...  ...        0.61\n",
              "4  I am writing from Children and Families Across...  ...        0.12\n",
              "\n",
              "[5 rows x 12 columns]"
            ]
          },
          "metadata": {
            "tags": []
          },
          "execution_count": 7
        }
      ]
    },
    {
      "cell_type": "code",
      "metadata": {
        "id": "k0dQCWSm8KC2",
        "colab": {
          "base_uri": "https://localhost:8080/"
        },
        "outputId": "dd7ecc0b-930a-4211-edfc-f3219d09aad8"
      },
      "source": [
        "import nltk\n",
        "nltk.download('vader_lexicon')"
      ],
      "execution_count": null,
      "outputs": [
        {
          "output_type": "stream",
          "text": [
            "[nltk_data] Downloading package vader_lexicon to /root/nltk_data...\n"
          ],
          "name": "stdout"
        },
        {
          "output_type": "execute_result",
          "data": {
            "text/plain": [
              "True"
            ]
          },
          "metadata": {
            "tags": []
          },
          "execution_count": 8
        }
      ]
    },
    {
      "cell_type": "code",
      "metadata": {
        "id": "CtrmAOfK8KC7"
      },
      "source": [
        "# Calculate Polarity scores\n",
        "# nltk.download('vader_lexicon')\n",
        "\n",
        "sid = SentimentIntensityAnalyzer()\n",
        "def createPolarity(sentence):\n",
        "    ss = sid.polarity_scores(sentence)\n",
        "    return ss"
      ],
      "execution_count": null,
      "outputs": []
    },
    {
      "cell_type": "code",
      "metadata": {
        "id": "_HbjwcrF8KC-"
      },
      "source": [
        "Data[\"sentiment\"] = Data[\"case\"].apply(lambda x: createPolarity(x) )"
      ],
      "execution_count": null,
      "outputs": []
    },
    {
      "cell_type": "code",
      "metadata": {
        "id": "o8M2OoxI8KDD",
        "colab": {
          "base_uri": "https://localhost:8080/",
          "height": 204
        },
        "outputId": "855ad253-ee78-4be0-bd69-747b67ca523f"
      },
      "source": [
        "df = Data[[\"case\", \"sentiment\", \"final_score\"]]\n",
        "df.head()"
      ],
      "execution_count": null,
      "outputs": [
        {
          "output_type": "execute_result",
          "data": {
            "text/html": [
              "<div>\n",
              "<style scoped>\n",
              "    .dataframe tbody tr th:only-of-type {\n",
              "        vertical-align: middle;\n",
              "    }\n",
              "\n",
              "    .dataframe tbody tr th {\n",
              "        vertical-align: top;\n",
              "    }\n",
              "\n",
              "    .dataframe thead th {\n",
              "        text-align: right;\n",
              "    }\n",
              "</style>\n",
              "<table border=\"1\" class=\"dataframe\">\n",
              "  <thead>\n",
              "    <tr style=\"text-align: right;\">\n",
              "      <th></th>\n",
              "      <th>case</th>\n",
              "      <th>sentiment</th>\n",
              "      <th>final_score</th>\n",
              "    </tr>\n",
              "  </thead>\n",
              "  <tbody>\n",
              "    <tr>\n",
              "      <th>0</th>\n",
              "      <td>On behalf of Ms. Amira I would like to ask for...</td>\n",
              "      <td>{'neg': 0.053, 'neu': 0.895, 'pos': 0.053, 'co...</td>\n",
              "      <td>0.09</td>\n",
              "    </tr>\n",
              "    <tr>\n",
              "      <th>1</th>\n",
              "      <td>The following information has been supplied by...</td>\n",
              "      <td>{'neg': 0.044, 'neu': 0.902, 'pos': 0.055, 'co...</td>\n",
              "      <td>0.85</td>\n",
              "    </tr>\n",
              "    <tr>\n",
              "      <th>2</th>\n",
              "      <td>I hope you all are well and sane in these chal...</td>\n",
              "      <td>{'neg': 0.046, 'neu': 0.882, 'pos': 0.072, 'co...</td>\n",
              "      <td>0.72</td>\n",
              "    </tr>\n",
              "    <tr>\n",
              "      <th>3</th>\n",
              "      <td>The child protection office in Beirut, Lebanon...</td>\n",
              "      <td>{'neg': 0.07, 'neu': 0.871, 'pos': 0.059, 'com...</td>\n",
              "      <td>0.61</td>\n",
              "    </tr>\n",
              "    <tr>\n",
              "      <th>4</th>\n",
              "      <td>I am writing from Children and Families Across...</td>\n",
              "      <td>{'neg': 0.033, 'neu': 0.856, 'pos': 0.111, 'co...</td>\n",
              "      <td>0.12</td>\n",
              "    </tr>\n",
              "  </tbody>\n",
              "</table>\n",
              "</div>"
            ],
            "text/plain": [
              "                                                case  ... final_score\n",
              "0  On behalf of Ms. Amira I would like to ask for...  ...        0.09\n",
              "1  The following information has been supplied by...  ...        0.85\n",
              "2  I hope you all are well and sane in these chal...  ...        0.72\n",
              "3  The child protection office in Beirut, Lebanon...  ...        0.61\n",
              "4  I am writing from Children and Families Across...  ...        0.12\n",
              "\n",
              "[5 rows x 3 columns]"
            ]
          },
          "metadata": {
            "tags": []
          },
          "execution_count": 12
        }
      ]
    },
    {
      "cell_type": "code",
      "metadata": {
        "id": "OyqS1VNN8KDH",
        "colab": {
          "base_uri": "https://localhost:8080/"
        },
        "outputId": "204ca2d7-0d66-4e31-801e-c032f23d2e62"
      },
      "source": [
        "df.dtypes"
      ],
      "execution_count": null,
      "outputs": [
        {
          "output_type": "execute_result",
          "data": {
            "text/plain": [
              "case           object\n",
              "sentiment      object\n",
              "final_score    object\n",
              "dtype: object"
            ]
          },
          "metadata": {
            "tags": []
          },
          "execution_count": 13
        }
      ]
    },
    {
      "cell_type": "markdown",
      "metadata": {
        "id": "SpcxJySw8KDK"
      },
      "source": [
        "#Breaking this series into 4 different columns - neg, neu, pos and compound\n",
        "df['compound']  = df['sentiment'].apply(lambda score_dict: score_dict['compound'])\n",
        "df['Negative']  = df['sentiment'].apply(lambda score_dict: score_dict['neg'])\n",
        "df['Positive']  = df['sentiment'].apply(lambda score_dict: score_dict['pos'])\n",
        "df['Neutral']  = df['sentiment'].apply(lambda score_dict: score_dict['neu'])\n",
        "\n",
        "df.head()"
      ]
    },
    {
      "cell_type": "code",
      "metadata": {
        "id": "9ophawjd8KDL"
      },
      "source": [
        "#On the basis of compound column, we will create a new column Final Sentiment\n",
        "def analyze_sentiment_vader_lexicon(review):\n",
        "   \n",
        "    # analyze the sentiment for review\n",
        "    analyzer = SentimentIntensityAnalyzer()\n",
        "    scores = analyzer.polarity_scores(review)\n",
        "    # get aggregate scores and final sentiment\n",
        "    agg_score = scores['compound']\n",
        "    #sentiment_Vader = 'positive' if agg_score >= threshold\\\n",
        "     #                              else 'negative'\n",
        "    \n",
        "    if(agg_score >= 0.05):\n",
        "        sentiment_Vader = 'High Risk'\n",
        "    elif(agg_score <= -0.05):\n",
        "        sentiment_Vader = 'Low Risk'\n",
        "    else:\n",
        "        sentiment_Vader = 'neutral'\n",
        "      \n",
        "    \n",
        "    return sentiment_Vader \n",
        "#or 1 liner\n",
        "#df['sentiment_Vader'] = df['compound'].apply(lambda x: 'positive' if x > 0.1 else 'negative')"
      ],
      "execution_count": null,
      "outputs": []
    },
    {
      "cell_type": "code",
      "metadata": {
        "id": "apmKJ0So8KDO",
        "colab": {
          "base_uri": "https://localhost:8080/"
        },
        "outputId": "8dc8e61a-be7b-4a63-ac58-a90f7fac05c0"
      },
      "source": [
        "df[\"sentiment_Vader\"] = df[\"case\"].apply(lambda x: analyze_sentiment_vader_lexicon(x) )"
      ],
      "execution_count": null,
      "outputs": [
        {
          "output_type": "stream",
          "text": [
            "/usr/local/lib/python3.6/dist-packages/ipykernel_launcher.py:1: SettingWithCopyWarning: \n",
            "A value is trying to be set on a copy of a slice from a DataFrame.\n",
            "Try using .loc[row_indexer,col_indexer] = value instead\n",
            "\n",
            "See the caveats in the documentation: https://pandas.pydata.org/pandas-docs/stable/user_guide/indexing.html#returning-a-view-versus-a-copy\n",
            "  \"\"\"Entry point for launching an IPython kernel.\n"
          ],
          "name": "stderr"
        }
      ]
    },
    {
      "cell_type": "code",
      "metadata": {
        "id": "esH4cBRD8KDR",
        "colab": {
          "base_uri": "https://localhost:8080/",
          "height": 1000
        },
        "outputId": "e0884976-ca0e-4851-9d58-db372fb393cd"
      },
      "source": [
        "# to display more of the text content\n",
        "pd.set_option('display.max_colwidth', 100)\n",
        "\n",
        "df.head(30)"
      ],
      "execution_count": null,
      "outputs": [
        {
          "output_type": "execute_result",
          "data": {
            "text/html": [
              "<div>\n",
              "<style scoped>\n",
              "    .dataframe tbody tr th:only-of-type {\n",
              "        vertical-align: middle;\n",
              "    }\n",
              "\n",
              "    .dataframe tbody tr th {\n",
              "        vertical-align: top;\n",
              "    }\n",
              "\n",
              "    .dataframe thead th {\n",
              "        text-align: right;\n",
              "    }\n",
              "</style>\n",
              "<table border=\"1\" class=\"dataframe\">\n",
              "  <thead>\n",
              "    <tr style=\"text-align: right;\">\n",
              "      <th></th>\n",
              "      <th>case</th>\n",
              "      <th>sentiment</th>\n",
              "      <th>final_score</th>\n",
              "      <th>sentiment_Vader</th>\n",
              "    </tr>\n",
              "  </thead>\n",
              "  <tbody>\n",
              "    <tr>\n",
              "      <th>0</th>\n",
              "      <td>On behalf of Ms. Amira I would like to ask for your cooperation in tracing her biological mother...</td>\n",
              "      <td>{'neg': 0.053, 'neu': 0.895, 'pos': 0.053, 'compound': -0.2205}</td>\n",
              "      <td>0.09</td>\n",
              "      <td>Low Risk</td>\n",
              "    </tr>\n",
              "    <tr>\n",
              "      <th>1</th>\n",
              "      <td>The following information has been supplied by the Youth Welfare Office in Berlin The Social Wor...</td>\n",
              "      <td>{'neg': 0.044, 'neu': 0.902, 'pos': 0.055, 'compound': 0.9416}</td>\n",
              "      <td>0.85</td>\n",
              "      <td>High Risk</td>\n",
              "    </tr>\n",
              "    <tr>\n",
              "      <th>2</th>\n",
              "      <td>I hope you all are well and sane in these challenging times. I kindly ask you for your support i...</td>\n",
              "      <td>{'neg': 0.046, 'neu': 0.882, 'pos': 0.072, 'compound': 0.9065}</td>\n",
              "      <td>0.72</td>\n",
              "      <td>High Risk</td>\n",
              "    </tr>\n",
              "    <tr>\n",
              "      <th>3</th>\n",
              "      <td>The child protection office in Beirut, Lebanon, requests ISS assistance regarding a 6-year-old S...</td>\n",
              "      <td>{'neg': 0.07, 'neu': 0.871, 'pos': 0.059, 'compound': -0.9536}</td>\n",
              "      <td>0.61</td>\n",
              "      <td>Low Risk</td>\n",
              "    </tr>\n",
              "    <tr>\n",
              "      <th>4</th>\n",
              "      <td>I am writing from Children and Families Across Borders, UK, to request your assistance on this c...</td>\n",
              "      <td>{'neg': 0.033, 'neu': 0.856, 'pos': 0.111, 'compound': 0.9988}</td>\n",
              "      <td>0.12</td>\n",
              "      <td>High Risk</td>\n",
              "    </tr>\n",
              "    <tr>\n",
              "      <th>5</th>\n",
              "      <td>Ms SD, a German national, contacted ISS Germany looking for her father she had never met and who...</td>\n",
              "      <td>{'neg': 0.019, 'neu': 0.91, 'pos': 0.071, 'compound': 0.7354}</td>\n",
              "      <td>0.13</td>\n",
              "      <td>High Risk</td>\n",
              "    </tr>\n",
              "    <tr>\n",
              "      <th>6</th>\n",
              "      <td>Jose was deported from the USA to his homeland in Mexico, leaving behind his wife, Mariel and th...</td>\n",
              "      <td>{'neg': 0.0, 'neu': 0.835, 'pos': 0.165, 'compound': 0.9903}</td>\n",
              "      <td>0.73</td>\n",
              "      <td>High Risk</td>\n",
              "    </tr>\n",
              "    <tr>\n",
              "      <th>7</th>\n",
              "      <td>Karim (6) and Ziad (8) are the sons of two divorced Lebanese nationals. The father remarried a L...</td>\n",
              "      <td>{'neg': 0.026, 'neu': 0.875, 'pos': 0.099, 'compound': 0.926}</td>\n",
              "      <td>0.77</td>\n",
              "      <td>High Risk</td>\n",
              "    </tr>\n",
              "    <tr>\n",
              "      <th>8</th>\n",
              "      <td>Children from Guinea Bissau, who under the pretext of being drought by Koranic Masters to learn ...</td>\n",
              "      <td>{'neg': 0.022, 'neu': 0.871, 'pos': 0.107, 'compound': 0.872}</td>\n",
              "      <td>0.9</td>\n",
              "      <td>High Risk</td>\n",
              "    </tr>\n",
              "    <tr>\n",
              "      <th>9</th>\n",
              "      <td>Mary Jackson (not her real name) is a 15 year old girl with a very strong passion for education ...</td>\n",
              "      <td>{'neg': 0.065, 'neu': 0.839, 'pos': 0.096, 'compound': 0.8144}</td>\n",
              "      <td>0.97</td>\n",
              "      <td>High Risk</td>\n",
              "    </tr>\n",
              "    <tr>\n",
              "      <th>10</th>\n",
              "      <td>Ireen (not her real name), aged 14 years, a Grade 7 pupil, was defiled at one of the Rice Mills ...</td>\n",
              "      <td>{'neg': 0.132, 'neu': 0.82, 'pos': 0.048, 'compound': -0.9909}</td>\n",
              "      <td>0.98</td>\n",
              "      <td>Low Risk</td>\n",
              "    </tr>\n",
              "    <tr>\n",
              "      <th>11</th>\n",
              "      <td>Luhanga, age 8, is doing well in school and hopes to attend university someday. Everyone tells h...</td>\n",
              "      <td>{'neg': 0.049, 'neu': 0.846, 'pos': 0.105, 'compound': 0.9259}</td>\n",
              "      <td>0.55</td>\n",
              "      <td>High Risk</td>\n",
              "    </tr>\n",
              "    <tr>\n",
              "      <th>12</th>\n",
              "      <td>Mercy is 11 years old and had hopes of becoming a teacher. Indeed she was a bright student and a...</td>\n",
              "      <td>{'neg': 0.095, 'neu': 0.811, 'pos': 0.093, 'compound': -0.5851}</td>\n",
              "      <td>0.87</td>\n",
              "      <td>Low Risk</td>\n",
              "    </tr>\n",
              "    <tr>\n",
              "      <th>13</th>\n",
              "      <td>Chiwaya is a 9 year boy who is bright and healthy. He has three younger siblings aged 7 (Banda),...</td>\n",
              "      <td>{'neg': 0.056, 'neu': 0.824, 'pos': 0.12, 'compound': 0.9408}</td>\n",
              "      <td>0.95</td>\n",
              "      <td>High Risk</td>\n",
              "    </tr>\n",
              "    <tr>\n",
              "      <th>14</th>\n",
              "      <td>Tadala is second born in a family of four and lives with her single mother, a subsistence farmer...</td>\n",
              "      <td>{'neg': 0.142, 'neu': 0.812, 'pos': 0.046, 'compound': -0.9349}</td>\n",
              "      <td>0.69</td>\n",
              "      <td>Low Risk</td>\n",
              "    </tr>\n",
              "    <tr>\n",
              "      <th>15</th>\n",
              "      <td>Jafar â Hazara, Kabul. Destination Netherlands and deported from Iran. Family and child made d...</td>\n",
              "      <td>{'neg': 0.049, 'neu': 0.902, 'pos': 0.048, 'compound': -0.3182}</td>\n",
              "      <td>0.31</td>\n",
              "      <td>Low Risk</td>\n",
              "    </tr>\n",
              "    <tr>\n",
              "      <th>16</th>\n",
              "      <td>As a young child, Daud was entrusted to a marabout by his mother, but ran away from the daÃ¢ra d...</td>\n",
              "      <td>{'neg': 0.128, 'neu': 0.751, 'pos': 0.121, 'compound': -0.6321}</td>\n",
              "      <td>0.32</td>\n",
              "      <td>Low Risk</td>\n",
              "    </tr>\n",
              "    <tr>\n",
              "      <th>17</th>\n",
              "      <td>Joseph, 13, lived with his uncle, a military commander in Juba while attending primary school cl...</td>\n",
              "      <td>{'neg': 0.051, 'neu': 0.856, 'pos': 0.093, 'compound': 0.8591}</td>\n",
              "      <td>0.93</td>\n",
              "      <td>High Risk</td>\n",
              "    </tr>\n",
              "    <tr>\n",
              "      <th>18</th>\n",
              "      <td>Destination Italy and deported from Turkey. Father made decision because no education or job pro...</td>\n",
              "      <td>{'neg': 0.091, 'neu': 0.854, 'pos': 0.056, 'compound': -0.9584}</td>\n",
              "      <td>0.25</td>\n",
              "      <td>Low Risk</td>\n",
              "    </tr>\n",
              "    <tr>\n",
              "      <th>19</th>\n",
              "      <td>Mira is from Kaolack, in Senegal, but her mother (separated from her father) lives in Dakar with...</td>\n",
              "      <td>{'neg': 0.047, 'neu': 0.899, 'pos': 0.054, 'compound': -0.0772}</td>\n",
              "      <td>0.3</td>\n",
              "      <td>Low Risk</td>\n",
              "    </tr>\n",
              "    <tr>\n",
              "      <th>20</th>\n",
              "      <td>Wahdat Samsor â Pashtun, Kabul Kabul. Destination UK, 14 year old brother killed at Nimroz bor...</td>\n",
              "      <td>{'neg': 0.097, 'neu': 0.877, 'pos': 0.026, 'compound': -0.9948}</td>\n",
              "      <td>0.3</td>\n",
              "      <td>Low Risk</td>\n",
              "    </tr>\n",
              "    <tr>\n",
              "      <th>21</th>\n",
              "      <td>Amie is a 13-year old girl from Bamako, in Mali, who has been living in Burkina Faso for two mon...</td>\n",
              "      <td>{'neg': 0.058, 'neu': 0.889, 'pos': 0.053, 'compound': 0.3859}</td>\n",
              "      <td>0.1</td>\n",
              "      <td>High Risk</td>\n",
              "    </tr>\n",
              "    <tr>\n",
              "      <th>22</th>\n",
              "      <td>Ahmad - Hazara. Kabul Kabul family has younger brother in Norway. Child made decision with fathe...</td>\n",
              "      <td>{'neg': 0.07, 'neu': 0.882, 'pos': 0.048, 'compound': -0.9332}</td>\n",
              "      <td>0.16</td>\n",
              "      <td>Low Risk</td>\n",
              "    </tr>\n",
              "    <tr>\n",
              "      <th>23</th>\n",
              "      <td>Qurban and Jan Ali - Hazara, Kabul One son living in UK and second son living in Sweden. Childre...</td>\n",
              "      <td>{'neg': 0.037, 'neu': 0.935, 'pos': 0.028, 'compound': -0.1989}</td>\n",
              "      <td>0.18</td>\n",
              "      <td>Low Risk</td>\n",
              "    </tr>\n",
              "    <tr>\n",
              "      <th>24</th>\n",
              "      <td>Jamal - Tajik, Mazar-i-Sharif Living in Sweden. Father made decision to go for employment and fi...</td>\n",
              "      <td>{'neg': 0.016, 'neu': 0.889, 'pos': 0.095, 'compound': 0.9509}</td>\n",
              "      <td>0.53</td>\n",
              "      <td>High Risk</td>\n",
              "    </tr>\n",
              "    <tr>\n",
              "      <th>25</th>\n",
              "      <td>Nesar - Pashtun, Nangarhar Planned destination was \"another country\". Departed Afghanistan becau...</td>\n",
              "      <td>{'neg': 0.054, 'neu': 0.924, 'pos': 0.023, 'compound': -0.9741}</td>\n",
              "      <td>0.43</td>\n",
              "      <td>Low Risk</td>\n",
              "    </tr>\n",
              "    <tr>\n",
              "      <th>26</th>\n",
              "      <td>Atal - Pashtun, Kabul Departed Afghanistan because police and 'family friends' wanted to harm hi...</td>\n",
              "      <td>{'neg': 0.078, 'neu': 0.872, 'pos': 0.049, 'compound': -0.9768}</td>\n",
              "      <td>0.54</td>\n",
              "      <td>Low Risk</td>\n",
              "    </tr>\n",
              "    <tr>\n",
              "      <th>27</th>\n",
              "      <td>Hewad - Pashtun, Kabul Maternal uncle made decision because the Taliban wanted him to join. Dest...</td>\n",
              "      <td>{'neg': 0.076, 'neu': 0.89, 'pos': 0.033, 'compound': -0.96}</td>\n",
              "      <td>0.68</td>\n",
              "      <td>Low Risk</td>\n",
              "    </tr>\n",
              "    <tr>\n",
              "      <th>28</th>\n",
              "      <td>Maiwand - Pashtun, Baghram Organised by maternal uncle because he had problems with the Taliban ...</td>\n",
              "      <td>{'neg': 0.095, 'neu': 0.905, 'pos': 0.0, 'compound': -0.981}</td>\n",
              "      <td>0.73</td>\n",
              "      <td>Low Risk</td>\n",
              "    </tr>\n",
              "    <tr>\n",
              "      <th>29</th>\n",
              "      <td>Khaibar - Pashtun, Jalalabad Organised by maternal uncle. Made decision because the Taliban want...</td>\n",
              "      <td>{'neg': 0.079, 'neu': 0.881, 'pos': 0.04, 'compound': -0.9386}</td>\n",
              "      <td>0.53</td>\n",
              "      <td>Low Risk</td>\n",
              "    </tr>\n",
              "  </tbody>\n",
              "</table>\n",
              "</div>"
            ],
            "text/plain": [
              "                                                                                                   case  ... sentiment_Vader\n",
              "0   On behalf of Ms. Amira I would like to ask for your cooperation in tracing her biological mother...  ...        Low Risk\n",
              "1   The following information has been supplied by the Youth Welfare Office in Berlin The Social Wor...  ...       High Risk\n",
              "2   I hope you all are well and sane in these challenging times. I kindly ask you for your support i...  ...       High Risk\n",
              "3   The child protection office in Beirut, Lebanon, requests ISS assistance regarding a 6-year-old S...  ...        Low Risk\n",
              "4   I am writing from Children and Families Across Borders, UK, to request your assistance on this c...  ...       High Risk\n",
              "5   Ms SD, a German national, contacted ISS Germany looking for her father she had never met and who...  ...       High Risk\n",
              "6   Jose was deported from the USA to his homeland in Mexico, leaving behind his wife, Mariel and th...  ...       High Risk\n",
              "7   Karim (6) and Ziad (8) are the sons of two divorced Lebanese nationals. The father remarried a L...  ...       High Risk\n",
              "8   Children from Guinea Bissau, who under the pretext of being drought by Koranic Masters to learn ...  ...       High Risk\n",
              "9   Mary Jackson (not her real name) is a 15 year old girl with a very strong passion for education ...  ...       High Risk\n",
              "10  Ireen (not her real name), aged 14 years, a Grade 7 pupil, was defiled at one of the Rice Mills ...  ...        Low Risk\n",
              "11  Luhanga, age 8, is doing well in school and hopes to attend university someday. Everyone tells h...  ...       High Risk\n",
              "12  Mercy is 11 years old and had hopes of becoming a teacher. Indeed she was a bright student and a...  ...        Low Risk\n",
              "13  Chiwaya is a 9 year boy who is bright and healthy. He has three younger siblings aged 7 (Banda),...  ...       High Risk\n",
              "14  Tadala is second born in a family of four and lives with her single mother, a subsistence farmer...  ...        Low Risk\n",
              "15  Jafar â Hazara, Kabul. Destination Netherlands and deported from Iran. Family and child made d...  ...        Low Risk\n",
              "16  As a young child, Daud was entrusted to a marabout by his mother, but ran away from the daÃ¢ra d...  ...        Low Risk\n",
              "17  Joseph, 13, lived with his uncle, a military commander in Juba while attending primary school cl...  ...       High Risk\n",
              "18  Destination Italy and deported from Turkey. Father made decision because no education or job pro...  ...        Low Risk\n",
              "19  Mira is from Kaolack, in Senegal, but her mother (separated from her father) lives in Dakar with...  ...        Low Risk\n",
              "20  Wahdat Samsor â Pashtun, Kabul Kabul. Destination UK, 14 year old brother killed at Nimroz bor...  ...        Low Risk\n",
              "21  Amie is a 13-year old girl from Bamako, in Mali, who has been living in Burkina Faso for two mon...  ...       High Risk\n",
              "22  Ahmad - Hazara. Kabul Kabul family has younger brother in Norway. Child made decision with fathe...  ...        Low Risk\n",
              "23  Qurban and Jan Ali - Hazara, Kabul One son living in UK and second son living in Sweden. Childre...  ...        Low Risk\n",
              "24  Jamal - Tajik, Mazar-i-Sharif Living in Sweden. Father made decision to go for employment and fi...  ...       High Risk\n",
              "25  Nesar - Pashtun, Nangarhar Planned destination was \"another country\". Departed Afghanistan becau...  ...        Low Risk\n",
              "26  Atal - Pashtun, Kabul Departed Afghanistan because police and 'family friends' wanted to harm hi...  ...        Low Risk\n",
              "27  Hewad - Pashtun, Kabul Maternal uncle made decision because the Taliban wanted him to join. Dest...  ...        Low Risk\n",
              "28  Maiwand - Pashtun, Baghram Organised by maternal uncle because he had problems with the Taliban ...  ...        Low Risk\n",
              "29  Khaibar - Pashtun, Jalalabad Organised by maternal uncle. Made decision because the Taliban want...  ...        Low Risk\n",
              "\n",
              "[30 rows x 4 columns]"
            ]
          },
          "metadata": {
            "tags": []
          },
          "execution_count": 20
        }
      ]
    },
    {
      "cell_type": "markdown",
      "metadata": {
        "id": "Wq3CVN2f8KDV"
      },
      "source": [
        "df.to_csv(\"sentimentAnalysis.csv\")"
      ]
    },
    {
      "cell_type": "code",
      "metadata": {
        "id": "PScIJKZs8KDW",
        "colab": {
          "base_uri": "https://localhost:8080/"
        },
        "outputId": "9b7b8ebe-5162-4087-b6eb-ee642f56a66d"
      },
      "source": [
        "#Total number of different actual sentiments\n",
        "actualNeg = len(df[df['sentiment_Vader']=='High Risk'])\n",
        "actualPos = len(df[df['sentiment_Vader']=='Low Risk'])\n",
        "actualNeu = len(df[df['sentiment_Vader']=='neutral'])\n",
        "print(\"Number of positive sentiments is  \" + str(actualPos))\n",
        "print(\"Number of negative sentiments is \" + str(actualNeg))\n",
        "print(\"Number of neutral sentiments is \" + str(actualNeu))\n"
      ],
      "execution_count": null,
      "outputs": [
        {
          "output_type": "stream",
          "text": [
            "Number of positive sentiments is  158\n",
            "Number of negative sentiments is 74\n",
            "Number of neutral sentiments is 0\n"
          ],
          "name": "stdout"
        }
      ]
    },
    {
      "cell_type": "code",
      "metadata": {
        "id": "u9_p-rCT8KDZ",
        "colab": {
          "base_uri": "https://localhost:8080/",
          "height": 352
        },
        "outputId": "52a3d8e1-f9c7-49ad-8bd4-34c203a9b736"
      },
      "source": [
        "import matplotlib.pyplot as plt\n",
        "import seaborn as sns\n",
        "plt.figure(figsize=(10,5))\n",
        "sns.countplot(x='sentiment_Vader',data=df)"
      ],
      "execution_count": null,
      "outputs": [
        {
          "output_type": "execute_result",
          "data": {
            "text/plain": [
              "<matplotlib.axes._subplots.AxesSubplot at 0x7f9a74271860>"
            ]
          },
          "metadata": {
            "tags": []
          },
          "execution_count": 22
        },
        {
          "output_type": "display_data",
          "data": {
            "image/png": "[encoded data removed]",
            "text/plain": [
              "<Figure size 720x360 with 1 Axes>"
            ]
          },
          "metadata": {
            "tags": [],
            "needs_background": "light"
          }
        }
      ]
    },
    {
      "cell_type": "code",
      "metadata": {
        "id": "mRQmk-OG8KDd",
        "colab": {
          "base_uri": "https://localhost:8080/",
          "height": 82
        },
        "outputId": "18ad5191-0859-4b8e-d481-d44cce6984b2"
      },
      "source": [
        "#Count of texts in each category of sentiments\n",
        "temp = df.groupby('sentiment_Vader').count()['case'].reset_index().sort_values(by='case',ascending=False)\n",
        "temp.style.background_gradient(cmap='Greens')"
      ],
      "execution_count": null,
      "outputs": [
        {
          "output_type": "execute_result",
          "data": {
            "text/html": [
              "<style  type=\"text/css\" >\n",
              "#T_235a57c8_2a23_11eb_a41e_0242ac1c0002row0_col1{\n",
              "            background-color:  #00441b;\n",
              "            color:  #f1f1f1;\n",
              "        }#T_235a57c8_2a23_11eb_a41e_0242ac1c0002row1_col1{\n",
              "            background-color:  #f7fcf5;\n",
              "            color:  #000000;\n",
              "        }</style><table id=\"T_235a57c8_2a23_11eb_a41e_0242ac1c0002\" ><thead>    <tr>        <th class=\"blank level0\" ></th>        <th class=\"col_heading level0 col0\" >sentiment_Vader</th>        <th class=\"col_heading level0 col1\" >case</th>    </tr></thead><tbody>\n",
              "                <tr>\n",
              "                        <th id=\"T_235a57c8_2a23_11eb_a41e_0242ac1c0002level0_row0\" class=\"row_heading level0 row0\" >1</th>\n",
              "                        <td id=\"T_235a57c8_2a23_11eb_a41e_0242ac1c0002row0_col0\" class=\"data row0 col0\" >Low Risk</td>\n",
              "                        <td id=\"T_235a57c8_2a23_11eb_a41e_0242ac1c0002row0_col1\" class=\"data row0 col1\" >158</td>\n",
              "            </tr>\n",
              "            <tr>\n",
              "                        <th id=\"T_235a57c8_2a23_11eb_a41e_0242ac1c0002level0_row1\" class=\"row_heading level0 row1\" >0</th>\n",
              "                        <td id=\"T_235a57c8_2a23_11eb_a41e_0242ac1c0002row1_col0\" class=\"data row1 col0\" >High Risk</td>\n",
              "                        <td id=\"T_235a57c8_2a23_11eb_a41e_0242ac1c0002row1_col1\" class=\"data row1 col1\" >74</td>\n",
              "            </tr>\n",
              "    </tbody></table>"
            ],
            "text/plain": [
              "<pandas.io.formats.style.Styler at 0x7f9a43703b70>"
            ]
          },
          "metadata": {
            "tags": []
          },
          "execution_count": 26
        }
      ]
    },
    {
      "cell_type": "code",
      "metadata": {
        "id": "eHm3f4K28KDh",
        "colab": {
          "base_uri": "https://localhost:8080/",
          "height": 542
        },
        "outputId": "8d9a16d1-c43e-4ab3-dd21-c5d8c49822b7"
      },
      "source": [
        "#funnel chart for visualization\n",
        "from plotly import graph_objs as go\n",
        "import plotly.figure_factory as ff\n",
        "\n",
        "fig = go.Figure(go.Funnelarea(\n",
        "    text =temp.sentiment_Vader,\n",
        "    values = temp.case,\n",
        "    title = {\"position\": \"top center\", \"text\": \"Funnel-Chart of VADER Sentiment Distribution\"}\n",
        "    ))\n",
        "fig.show()"
      ],
      "execution_count": null,
      "outputs": [
        {
          "output_type": "display_data",
          "data": {
            "text/html": [
              "<html>\n",
              "<head><meta charset=\"utf-8\" /></head>\n",
              "<body>\n",
              "    <div>\n",
              "            <script src=\"https://cdnjs.cloudflare.com/ajax/libs/mathjax/2.7.5/MathJax.js?config=TeX-AMS-MML_SVG\"></script><script type=\"text/javascript\">if (window.MathJax) {MathJax.Hub.Config({SVG: {font: \"STIX-Web\"}});}</script>\n",
              "                <script type=\"text/javascript\">window.PlotlyConfig = {MathJaxConfig: 'local'};</script>\n",
              "        <script src=\"https://cdn.plot.ly/plotly-latest.min.js\"></script>    \n",
              "            <div id=\"4da46589-4769-4d5f-b284-b4595197edf2\" class=\"plotly-graph-div\" style=\"height:525px; width:100%;\"></div>\n",
              "            <script type=\"text/javascript\">\n",
              "                \n",
              "                    window.PLOTLYENV=window.PLOTLYENV || {};\n",
              "                    \n",
              "                if (document.getElementById(\"4da46589-4769-4d5f-b284-b4595197edf2\")) {\n",
              "                    Plotly.newPlot(\n",
              "                        '4da46589-4769-4d5f-b284-b4595197edf2',\n",
              "                        [{\"text\": [\"Low Risk\", \"High Risk\"], \"title\": {\"position\": \"top center\", \"text\": \"Funnel-Chart of VADER Sentiment Distribution\"}, \"type\": \"funnelarea\", \"values\": [158, 74]}],\n",
              "                        {\"template\": {\"data\": {\"bar\": [{\"error_x\": {\"color\": \"#2a3f5f\"}, \"error_y\": {\"color\": \"#2a3f5f\"}, \"marker\": {\"line\": {\"color\": \"#E5ECF6\", \"width\": 0.5}}, \"type\": \"bar\"}], \"barpolar\": [{\"marker\": {\"line\": {\"color\": \"#E5ECF6\", \"width\": 0.5}}, \"type\": \"barpolar\"}], \"carpet\": [{\"aaxis\": {\"endlinecolor\": \"#2a3f5f\", \"gridcolor\": \"white\", \"linecolor\": \"white\", \"minorgridcolor\": \"white\", \"startlinecolor\": \"#2a3f5f\"}, \"baxis\": {\"endlinecolor\": \"#2a3f5f\", \"gridcolor\": \"white\", \"linecolor\": \"white\", \"minorgridcolor\": \"white\", \"startlinecolor\": \"#2a3f5f\"}, \"type\": \"carpet\"}], \"choropleth\": [{\"colorbar\": {\"outlinewidth\": 0, \"ticks\": \"\"}, \"type\": \"choropleth\"}], \"contour\": [{\"colorbar\": {\"outlinewidth\": 0, \"ticks\": \"\"}, \"colorscale\": [[0.0, \"#0d0887\"], [0.1111111111111111, \"#46039f\"], [0.2222222222222222, \"#7201a8\"], [0.3333333333333333, \"#9c179e\"], [0.4444444444444444, \"#bd3786\"], [0.5555555555555556, \"#d8576b\"], [0.6666666666666666, \"#ed7953\"], [0.7777777777777778, \"#fb9f3a\"], [0.8888888888888888, \"#fdca26\"], [1.0, \"#f0f921\"]], \"type\": \"contour\"}], \"contourcarpet\": [{\"colorbar\": {\"outlinewidth\": 0, \"ticks\": \"\"}, \"type\": \"contourcarpet\"}], \"heatmap\": [{\"colorbar\": {\"outlinewidth\": 0, \"ticks\": \"\"}, \"colorscale\": [[0.0, \"#0d0887\"], [0.1111111111111111, \"#46039f\"], [0.2222222222222222, \"#7201a8\"], [0.3333333333333333, \"#9c179e\"], [0.4444444444444444, \"#bd3786\"], [0.5555555555555556, \"#d8576b\"], [0.6666666666666666, \"#ed7953\"], [0.7777777777777778, \"#fb9f3a\"], [0.8888888888888888, \"#fdca26\"], [1.0, \"#f0f921\"]], \"type\": \"heatmap\"}], \"heatmapgl\": [{\"colorbar\": {\"outlinewidth\": 0, \"ticks\": \"\"}, \"colorscale\": [[0.0, \"#0d0887\"], [0.1111111111111111, \"#46039f\"], [0.2222222222222222, \"#7201a8\"], [0.3333333333333333, \"#9c179e\"], [0.4444444444444444, \"#bd3786\"], [0.5555555555555556, \"#d8576b\"], [0.6666666666666666, \"#ed7953\"], [0.7777777777777778, \"#fb9f3a\"], [0.8888888888888888, \"#fdca26\"], [1.0, \"#f0f921\"]], \"type\": \"heatmapgl\"}], \"histogram\": [{\"marker\": {\"colorbar\": {\"outlinewidth\": 0, \"ticks\": \"\"}}, \"type\": \"histogram\"}], \"histogram2d\": [{\"colorbar\": {\"outlinewidth\": 0, \"ticks\": \"\"}, \"colorscale\": [[0.0, \"#0d0887\"], [0.1111111111111111, \"#46039f\"], [0.2222222222222222, \"#7201a8\"], [0.3333333333333333, \"#9c179e\"], [0.4444444444444444, \"#bd3786\"], [0.5555555555555556, \"#d8576b\"], [0.6666666666666666, \"#ed7953\"], [0.7777777777777778, \"#fb9f3a\"], [0.8888888888888888, \"#fdca26\"], [1.0, \"#f0f921\"]], \"type\": \"histogram2d\"}], \"histogram2dcontour\": [{\"colorbar\": {\"outlinewidth\": 0, \"ticks\": \"\"}, \"colorscale\": [[0.0, \"#0d0887\"], [0.1111111111111111, \"#46039f\"], [0.2222222222222222, \"#7201a8\"], [0.3333333333333333, \"#9c179e\"], [0.4444444444444444, \"#bd3786\"], [0.5555555555555556, \"#d8576b\"], [0.6666666666666666, \"#ed7953\"], [0.7777777777777778, \"#fb9f3a\"], [0.8888888888888888, \"#fdca26\"], [1.0, \"#f0f921\"]], \"type\": \"histogram2dcontour\"}], \"mesh3d\": [{\"colorbar\": {\"outlinewidth\": 0, \"ticks\": \"\"}, \"type\": \"mesh3d\"}], \"parcoords\": [{\"line\": {\"colorbar\": {\"outlinewidth\": 0, \"ticks\": \"\"}}, \"type\": \"parcoords\"}], \"pie\": [{\"automargin\": true, \"type\": \"pie\"}], \"scatter\": [{\"marker\": {\"colorbar\": {\"outlinewidth\": 0, \"ticks\": \"\"}}, \"type\": \"scatter\"}], \"scatter3d\": [{\"line\": {\"colorbar\": {\"outlinewidth\": 0, \"ticks\": \"\"}}, \"marker\": {\"colorbar\": {\"outlinewidth\": 0, \"ticks\": \"\"}}, \"type\": \"scatter3d\"}], \"scattercarpet\": [{\"marker\": {\"colorbar\": {\"outlinewidth\": 0, \"ticks\": \"\"}}, \"type\": \"scattercarpet\"}], \"scattergeo\": [{\"marker\": {\"colorbar\": {\"outlinewidth\": 0, \"ticks\": \"\"}}, \"type\": \"scattergeo\"}], \"scattergl\": [{\"marker\": {\"colorbar\": {\"outlinewidth\": 0, \"ticks\": \"\"}}, \"type\": \"scattergl\"}], \"scattermapbox\": [{\"marker\": {\"colorbar\": {\"outlinewidth\": 0, \"ticks\": \"\"}}, \"type\": \"scattermapbox\"}], \"scatterpolar\": [{\"marker\": {\"colorbar\": {\"outlinewidth\": 0, \"ticks\": \"\"}}, \"type\": \"scatterpolar\"}], \"scatterpolargl\": [{\"marker\": {\"colorbar\": {\"outlinewidth\": 0, \"ticks\": \"\"}}, \"type\": \"scatterpolargl\"}], \"scatterternary\": [{\"marker\": {\"colorbar\": {\"outlinewidth\": 0, \"ticks\": \"\"}}, \"type\": \"scatterternary\"}], \"surface\": [{\"colorbar\": {\"outlinewidth\": 0, \"ticks\": \"\"}, \"colorscale\": [[0.0, \"#0d0887\"], [0.1111111111111111, \"#46039f\"], [0.2222222222222222, \"#7201a8\"], [0.3333333333333333, \"#9c179e\"], [0.4444444444444444, \"#bd3786\"], [0.5555555555555556, \"#d8576b\"], [0.6666666666666666, \"#ed7953\"], [0.7777777777777778, \"#fb9f3a\"], [0.8888888888888888, \"#fdca26\"], [1.0, \"#f0f921\"]], \"type\": \"surface\"}], \"table\": [{\"cells\": {\"fill\": {\"color\": \"#EBF0F8\"}, \"line\": {\"color\": \"white\"}}, \"header\": {\"fill\": {\"color\": \"#C8D4E3\"}, \"line\": {\"color\": \"white\"}}, \"type\": \"table\"}]}, \"layout\": {\"annotationdefaults\": {\"arrowcolor\": \"#2a3f5f\", \"arrowhead\": 0, \"arrowwidth\": 1}, \"coloraxis\": {\"colorbar\": {\"outlinewidth\": 0, \"ticks\": \"\"}}, \"colorscale\": {\"diverging\": [[0, \"#8e0152\"], [0.1, \"#c51b7d\"], [0.2, \"#de77ae\"], [0.3, \"#f1b6da\"], [0.4, \"#fde0ef\"], [0.5, \"#f7f7f7\"], [0.6, \"#e6f5d0\"], [0.7, \"#b8e186\"], [0.8, \"#7fbc41\"], [0.9, \"#4d9221\"], [1, \"#276419\"]], \"sequential\": [[0.0, \"#0d0887\"], [0.1111111111111111, \"#46039f\"], [0.2222222222222222, \"#7201a8\"], [0.3333333333333333, \"#9c179e\"], [0.4444444444444444, \"#bd3786\"], [0.5555555555555556, \"#d8576b\"], [0.6666666666666666, \"#ed7953\"], [0.7777777777777778, \"#fb9f3a\"], [0.8888888888888888, \"#fdca26\"], [1.0, \"#f0f921\"]], \"sequentialminus\": [[0.0, \"#0d0887\"], [0.1111111111111111, \"#46039f\"], [0.2222222222222222, \"#7201a8\"], [0.3333333333333333, \"#9c179e\"], [0.4444444444444444, \"#bd3786\"], [0.5555555555555556, \"#d8576b\"], [0.6666666666666666, \"#ed7953\"], [0.7777777777777778, \"#fb9f3a\"], [0.8888888888888888, \"#fdca26\"], [1.0, \"#f0f921\"]]}, \"colorway\": [\"#636efa\", \"#EF553B\", \"#00cc96\", \"#ab63fa\", \"#FFA15A\", \"#19d3f3\", \"#FF6692\", \"#B6E880\", \"#FF97FF\", \"#FECB52\"], \"font\": {\"color\": \"#2a3f5f\"}, \"geo\": {\"bgcolor\": \"white\", \"lakecolor\": \"white\", \"landcolor\": \"#E5ECF6\", \"showlakes\": true, \"showland\": true, \"subunitcolor\": \"white\"}, \"hoverlabel\": {\"align\": \"left\"}, \"hovermode\": \"closest\", \"mapbox\": {\"style\": \"light\"}, \"paper_bgcolor\": \"white\", \"plot_bgcolor\": \"#E5ECF6\", \"polar\": {\"angularaxis\": {\"gridcolor\": \"white\", \"linecolor\": \"white\", \"ticks\": \"\"}, \"bgcolor\": \"#E5ECF6\", \"radialaxis\": {\"gridcolor\": \"white\", \"linecolor\": \"white\", \"ticks\": \"\"}}, \"scene\": {\"xaxis\": {\"backgroundcolor\": \"#E5ECF6\", \"gridcolor\": \"white\", \"gridwidth\": 2, \"linecolor\": \"white\", \"showbackground\": true, \"ticks\": \"\", \"zerolinecolor\": \"white\"}, \"yaxis\": {\"backgroundcolor\": \"#E5ECF6\", \"gridcolor\": \"white\", \"gridwidth\": 2, \"linecolor\": \"white\", \"showbackground\": true, \"ticks\": \"\", \"zerolinecolor\": \"white\"}, \"zaxis\": {\"backgroundcolor\": \"#E5ECF6\", \"gridcolor\": \"white\", \"gridwidth\": 2, \"linecolor\": \"white\", \"showbackground\": true, \"ticks\": \"\", \"zerolinecolor\": \"white\"}}, \"shapedefaults\": {\"line\": {\"color\": \"#2a3f5f\"}}, \"ternary\": {\"aaxis\": {\"gridcolor\": \"white\", \"linecolor\": \"white\", \"ticks\": \"\"}, \"baxis\": {\"gridcolor\": \"white\", \"linecolor\": \"white\", \"ticks\": \"\"}, \"bgcolor\": \"#E5ECF6\", \"caxis\": {\"gridcolor\": \"white\", \"linecolor\": \"white\", \"ticks\": \"\"}}, \"title\": {\"x\": 0.05}, \"xaxis\": {\"automargin\": true, \"gridcolor\": \"white\", \"linecolor\": \"white\", \"ticks\": \"\", \"title\": {\"standoff\": 15}, \"zerolinecolor\": \"white\", \"zerolinewidth\": 2}, \"yaxis\": {\"automargin\": true, \"gridcolor\": \"white\", \"linecolor\": \"white\", \"ticks\": \"\", \"title\": {\"standoff\": 15}, \"zerolinecolor\": \"white\", \"zerolinewidth\": 2}}}},\n",
              "                        {\"responsive\": true}\n",
              "                    ).then(function(){\n",
              "                            \n",
              "var gd = document.getElementById('4da46589-4769-4d5f-b284-b4595197edf2');\n",
              "var x = new MutationObserver(function (mutations, observer) {{\n",
              "        var display = window.getComputedStyle(gd).display;\n",
              "        if (!display || display === 'none') {{\n",
              "            console.log([gd, 'removed!']);\n",
              "            Plotly.purge(gd);\n",
              "            observer.disconnect();\n",
              "        }}\n",
              "}});\n",
              "\n",
              "// Listen for the removal of the full notebook cells\n",
              "var notebookContainer = gd.closest('#notebook-container');\n",
              "if (notebookContainer) {{\n",
              "    x.observe(notebookContainer, {childList: true});\n",
              "}}\n",
              "\n",
              "// Listen for the clearing of the current output cell\n",
              "var outputEl = gd.closest('.output');\n",
              "if (outputEl) {{\n",
              "    x.observe(outputEl, {childList: true});\n",
              "}}\n",
              "\n",
              "                        })\n",
              "                };\n",
              "                \n",
              "            </script>\n",
              "        </div>\n",
              "</body>\n",
              "</html>"
            ]
          },
          "metadata": {
            "tags": []
          }
        }
      ]
    },
    {
      "cell_type": "markdown",
      "metadata": {
        "id": "-BiIFr658KDm"
      },
      "source": [
        "# PART 2: Sentiment Analysis using Flair\n",
        "\n",
        "\n",
        "\n"
      ]
    },
    {
      "cell_type": "code",
      "metadata": {
        "id": "IhlHbiiq8KDn",
        "colab": {
          "base_uri": "https://localhost:8080/"
        },
        "outputId": "46e4eda3-7ff9-4151-9dfa-2158e4933ff8"
      },
      "source": [
        "#source - https://colab.research.google.com/drive/1tUr5t0ZJ-I4Ni40dkbjku92HAU5SyR_2?usp=sharing#scrollTo=tIdJp01PsbGT\n",
        "!pip install -q flair \n",
        "\n"
      ],
      "execution_count": null,
      "outputs": [
        {
          "output_type": "stream",
          "text": [
            "\u001b[K     |████████████████████████████████| 337kB 12.1MB/s \n",
            "\u001b[K     |████████████████████████████████| 798kB 25.0MB/s \n",
            "\u001b[K     |████████████████████████████████| 1.3MB 45.1MB/s \n",
            "\u001b[K     |████████████████████████████████| 1.1MB 44.7MB/s \n",
            "\u001b[K     |████████████████████████████████| 19.7MB 1.4MB/s \n",
            "\u001b[K     |████████████████████████████████| 71kB 7.5MB/s \n",
            "\u001b[K     |████████████████████████████████| 983kB 32.7MB/s \n",
            "\u001b[K     |████████████████████████████████| 890kB 41.0MB/s \n",
            "\u001b[K     |████████████████████████████████| 2.9MB 38.8MB/s \n",
            "\u001b[?25h  Building wheel for mpld3 (setup.py) ... \u001b[?25l\u001b[?25hdone\n",
            "  Building wheel for sqlitedict (setup.py) ... \u001b[?25l\u001b[?25hdone\n",
            "  Building wheel for segtok (setup.py) ... \u001b[?25l\u001b[?25hdone\n",
            "  Building wheel for ftfy (setup.py) ... \u001b[?25l\u001b[?25hdone\n",
            "  Building wheel for langdetect (setup.py) ... \u001b[?25l\u001b[?25hdone\n",
            "  Building wheel for sacremoses (setup.py) ... \u001b[?25l\u001b[?25hdone\n",
            "  Building wheel for overrides (setup.py) ... \u001b[?25l\u001b[?25hdone\n",
            "\u001b[31mERROR: transformers 3.5.1 has requirement sentencepiece==0.1.91, but you'll have sentencepiece 0.1.94 which is incompatible.\u001b[0m\n"
          ],
          "name": "stdout"
        }
      ]
    },
    {
      "cell_type": "code",
      "metadata": {
        "id": "TC6_ReRr_Olm",
        "colab": {
          "base_uri": "https://localhost:8080/",
          "height": 220,
          "referenced_widgets": [
            "c1bc6df4659c49c590d28ee9f221f2b4",
            "111cc195cd9d4ca8a78970fa10ddf272",
            "c39f328d7f1d41b2b12281ae7012de36",
            "33658ae9194e4b6991c89e272ef0461a",
            "7e5e0d55aced444987d46199d02c47aa",
            "4c9dd7e1dd5b4f0da0469d280bdb32d0",
            "fbb3e3e2959f48e190fc5f925ed5c5e9",
            "c6610f77f6684ec3a3c18a1b38c13456",
            "28cd91c9c75f41a6ae64a473aca1b293",
            "8169d73763cd4565aaa3a2c8cdb671af",
            "751fa2dfd4654b939cd02188aaa6da5a",
            "656f386dac2448dcbd8d2e60b67bc7ef",
            "07ff98c620a24b1d8e5ba4f8313350cd",
            "bda8848212e64657aeec53d2f174fca4",
            "a15e4838dc95465ab9d5215700444441",
            "cbd0adbfed384739889f48dcfb7b0b4a"
          ]
        },
        "outputId": "ab77e756-f347-4daf-b60e-a6962178a8e0"
      },
      "source": [
        "from flair.models import TextClassifier\n",
        "from flair.data import Sentence\n",
        "\n",
        "classifier = TextClassifier.load('en-sentiment')\n"
      ],
      "execution_count": null,
      "outputs": [
        {
          "output_type": "stream",
          "text": [
            "2020-11-19 04:54:33,325 https://nlp.informatik.hu-berlin.de/resources/models/sentiment-curated-distilbert/sentiment-en-mix-distillbert_3.1.pt not found in cache, downloading to /tmp/tmprq59dvh7\n"
          ],
          "name": "stdout"
        },
        {
          "output_type": "stream",
          "text": [
            "100%|██████████| 266147697/266147697 [00:06<00:00, 39908482.56B/s]"
          ],
          "name": "stderr"
        },
        {
          "output_type": "stream",
          "text": [
            "2020-11-19 04:54:40,062 copying /tmp/tmprq59dvh7 to cache at /root/.flair/models/sentiment-en-mix-distillbert_3.1.pt\n"
          ],
          "name": "stdout"
        },
        {
          "output_type": "stream",
          "text": [
            "\n"
          ],
          "name": "stderr"
        },
        {
          "output_type": "stream",
          "text": [
            "2020-11-19 04:54:41,329 removing temp file /tmp/tmprq59dvh7\n",
            "2020-11-19 04:54:42,174 loading file /root/.flair/models/sentiment-en-mix-distillbert_3.1.pt\n"
          ],
          "name": "stdout"
        },
        {
          "output_type": "display_data",
          "data": {
            "application/vnd.jupyter.widget-view+json": {
              "model_id": "c1bc6df4659c49c590d28ee9f221f2b4",
              "version_minor": 0,
              "version_major": 2
            },
            "text/plain": [
              "HBox(children=(FloatProgress(value=0.0, description='Downloading', max=442.0, style=ProgressStyle(description_…"
            ]
          },
          "metadata": {
            "tags": []
          }
        },
        {
          "output_type": "stream",
          "text": [
            "\n"
          ],
          "name": "stdout"
        },
        {
          "output_type": "display_data",
          "data": {
            "application/vnd.jupyter.widget-view+json": {
              "model_id": "28cd91c9c75f41a6ae64a473aca1b293",
              "version_minor": 0,
              "version_major": 2
            },
            "text/plain": [
              "HBox(children=(FloatProgress(value=0.0, description='Downloading', max=231508.0, style=ProgressStyle(descripti…"
            ]
          },
          "metadata": {
            "tags": []
          }
        },
        {
          "output_type": "stream",
          "text": [
            "\n"
          ],
          "name": "stdout"
        }
      ]
    },
    {
      "cell_type": "code",
      "metadata": {
        "id": "z0vLwxDu_O0i"
      },
      "source": [
        "def text_sentiment_flair(text):\n",
        "  sentence = Sentence(text)\n",
        "  classifier.predict(sentence)\n",
        "  #return sentence.labels[0].score\n",
        "  return sentence.labels\n",
        "#These all are Negative "
      ],
      "execution_count": null,
      "outputs": []
    },
    {
      "cell_type": "code",
      "metadata": {
        "id": "5eZdINy5_O3d"
      },
      "source": [
        "df['sentiment_flair'] = df['case'].apply(lambda x : text_sentiment_flair(x))"
      ],
      "execution_count": null,
      "outputs": []
    },
    {
      "cell_type": "code",
      "metadata": {
        "id": "R60vWUMn_2Sy",
        "colab": {
          "base_uri": "https://localhost:8080/",
          "height": 289
        },
        "outputId": "f077966e-8a0e-4486-9c5d-1370a1e50591"
      },
      "source": [
        "df.head()"
      ],
      "execution_count": null,
      "outputs": [
        {
          "output_type": "execute_result",
          "data": {
            "text/html": [
              "<div>\n",
              "<style scoped>\n",
              "    .dataframe tbody tr th:only-of-type {\n",
              "        vertical-align: middle;\n",
              "    }\n",
              "\n",
              "    .dataframe tbody tr th {\n",
              "        vertical-align: top;\n",
              "    }\n",
              "\n",
              "    .dataframe thead th {\n",
              "        text-align: right;\n",
              "    }\n",
              "</style>\n",
              "<table border=\"1\" class=\"dataframe\">\n",
              "  <thead>\n",
              "    <tr style=\"text-align: right;\">\n",
              "      <th></th>\n",
              "      <th>case</th>\n",
              "      <th>sentiment</th>\n",
              "      <th>final_score</th>\n",
              "      <th>sentiment_Vader</th>\n",
              "      <th>sentiment_flair</th>\n",
              "    </tr>\n",
              "  </thead>\n",
              "  <tbody>\n",
              "    <tr>\n",
              "      <th>0</th>\n",
              "      <td>On behalf of Ms. Amira I would like to ask for your cooperation in tracing her biological mother...</td>\n",
              "      <td>{'neg': 0.053, 'neu': 0.895, 'pos': 0.053, 'compound': -0.2205}</td>\n",
              "      <td>0.09</td>\n",
              "      <td>Low Risk</td>\n",
              "      <td>[NEGATIVE (0.9888)]</td>\n",
              "    </tr>\n",
              "    <tr>\n",
              "      <th>1</th>\n",
              "      <td>The following information has been supplied by the Youth Welfare Office in Berlin The Social Wor...</td>\n",
              "      <td>{'neg': 0.044, 'neu': 0.902, 'pos': 0.055, 'compound': 0.9416}</td>\n",
              "      <td>0.85</td>\n",
              "      <td>High Risk</td>\n",
              "      <td>[NEGATIVE (0.9995)]</td>\n",
              "    </tr>\n",
              "    <tr>\n",
              "      <th>2</th>\n",
              "      <td>I hope you all are well and sane in these challenging times. I kindly ask you for your support i...</td>\n",
              "      <td>{'neg': 0.046, 'neu': 0.882, 'pos': 0.072, 'compound': 0.9065}</td>\n",
              "      <td>0.72</td>\n",
              "      <td>High Risk</td>\n",
              "      <td>[NEGATIVE (0.9988)]</td>\n",
              "    </tr>\n",
              "    <tr>\n",
              "      <th>3</th>\n",
              "      <td>The child protection office in Beirut, Lebanon, requests ISS assistance regarding a 6-year-old S...</td>\n",
              "      <td>{'neg': 0.07, 'neu': 0.871, 'pos': 0.059, 'compound': -0.9536}</td>\n",
              "      <td>0.61</td>\n",
              "      <td>Low Risk</td>\n",
              "      <td>[NEGATIVE (0.9908)]</td>\n",
              "    </tr>\n",
              "    <tr>\n",
              "      <th>4</th>\n",
              "      <td>I am writing from Children and Families Across Borders, UK, to request your assistance on this c...</td>\n",
              "      <td>{'neg': 0.033, 'neu': 0.856, 'pos': 0.111, 'compound': 0.9988}</td>\n",
              "      <td>0.12</td>\n",
              "      <td>High Risk</td>\n",
              "      <td>[NEGATIVE (0.5476)]</td>\n",
              "    </tr>\n",
              "  </tbody>\n",
              "</table>\n",
              "</div>"
            ],
            "text/plain": [
              "                                                                                                  case  ...      sentiment_flair\n",
              "0  On behalf of Ms. Amira I would like to ask for your cooperation in tracing her biological mother...  ...  [NEGATIVE (0.9888)]\n",
              "1  The following information has been supplied by the Youth Welfare Office in Berlin The Social Wor...  ...  [NEGATIVE (0.9995)]\n",
              "2  I hope you all are well and sane in these challenging times. I kindly ask you for your support i...  ...  [NEGATIVE (0.9988)]\n",
              "3  The child protection office in Beirut, Lebanon, requests ISS assistance regarding a 6-year-old S...  ...  [NEGATIVE (0.9908)]\n",
              "4  I am writing from Children and Families Across Borders, UK, to request your assistance on this c...  ...  [NEGATIVE (0.5476)]\n",
              "\n",
              "[5 rows x 5 columns]"
            ]
          },
          "metadata": {
            "tags": []
          },
          "execution_count": 33
        }
      ]
    },
    {
      "cell_type": "code",
      "metadata": {
        "id": "1DH59c5q_O65",
        "colab": {
          "base_uri": "https://localhost:8080/"
        },
        "outputId": "9c531a28-1ff1-4ef2-9067-5bdc131f682e"
      },
      "source": [
        "# How Flair Output looks like\n",
        "sentence1 = Sentence('The food was great!')\n",
        "classifier.predict(sentence1)\n",
        "# print sentence with predicted labels\n",
        "print('Sentence 1 above is: ', sentence1.labels)\n",
        "\n",
        "sentence2 = Sentence('The food was not good!')\n",
        "classifier.predict(sentence2)\n",
        "print('Sentence 2 above is: ', sentence2.labels)"
      ],
      "execution_count": null,
      "outputs": [
        {
          "output_type": "stream",
          "text": [
            "Sentence 1 above is:  [POSITIVE (0.9961)]\n",
            "Sentence 2 above is:  [NEGATIVE (0.9996)]\n"
          ],
          "name": "stdout"
        }
      ]
    },
    {
      "cell_type": "markdown",
      "metadata": {
        "id": "D_yEZBrIAeud"
      },
      "source": [
        "#PART 3: Sentiment Analysis using Aruana"
      ]
    },
    {
      "cell_type": "code",
      "metadata": {
        "id": "0sKzB2l7A8eH",
        "colab": {
          "base_uri": "https://localhost:8080/"
        },
        "outputId": "2938f972-d51d-4394-96d2-5c67de2fe43e"
      },
      "source": [
        "!pip install -q Aruana "
      ],
      "execution_count": null,
      "outputs": [
        {
          "output_type": "stream",
          "text": [
            "\u001b[?25l\r\u001b[K     |▊                               | 10kB 19.0MB/s eta 0:00:01\r\u001b[K     |█▍                              | 20kB 24.1MB/s eta 0:00:01\r\u001b[K     |██                              | 30kB 28.6MB/s eta 0:00:01\r\u001b[K     |██▉                             | 40kB 19.0MB/s eta 0:00:01\r\u001b[K     |███▌                            | 51kB 18.0MB/s eta 0:00:01\r\u001b[K     |████▏                           | 61kB 18.9MB/s eta 0:00:01\r\u001b[K     |█████                           | 71kB 12.3MB/s eta 0:00:01\r\u001b[K     |█████▋                          | 81kB 13.1MB/s eta 0:00:01\r\u001b[K     |██████▎                         | 92kB 12.5MB/s eta 0:00:01\r\u001b[K     |███████                         | 102kB 12.1MB/s eta 0:00:01\r\u001b[K     |███████▊                        | 112kB 12.1MB/s eta 0:00:01\r\u001b[K     |████████▍                       | 122kB 12.1MB/s eta 0:00:01\r\u001b[K     |█████████▏                      | 133kB 12.1MB/s eta 0:00:01\r\u001b[K     |█████████▉                      | 143kB 12.1MB/s eta 0:00:01\r\u001b[K     |██████████▌                     | 153kB 12.1MB/s eta 0:00:01\r\u001b[K     |███████████▎                    | 163kB 12.1MB/s eta 0:00:01\r\u001b[K     |████████████                    | 174kB 12.1MB/s eta 0:00:01\r\u001b[K     |████████████▋                   | 184kB 12.1MB/s eta 0:00:01\r\u001b[K     |█████████████▍                  | 194kB 12.1MB/s eta 0:00:01\r\u001b[K     |██████████████                  | 204kB 12.1MB/s eta 0:00:01\r\u001b[K     |██████████████▊                 | 215kB 12.1MB/s eta 0:00:01\r\u001b[K     |███████████████▌                | 225kB 12.1MB/s eta 0:00:01\r\u001b[K     |████████████████▏               | 235kB 12.1MB/s eta 0:00:01\r\u001b[K     |████████████████▉               | 245kB 12.1MB/s eta 0:00:01\r\u001b[K     |█████████████████▋              | 256kB 12.1MB/s eta 0:00:01\r\u001b[K     |██████████████████▎             | 266kB 12.1MB/s eta 0:00:01\r\u001b[K     |███████████████████             | 276kB 12.1MB/s eta 0:00:01\r\u001b[K     |███████████████████▊            | 286kB 12.1MB/s eta 0:00:01\r\u001b[K     |████████████████████▍           | 296kB 12.1MB/s eta 0:00:01\r\u001b[K     |█████████████████████           | 307kB 12.1MB/s eta 0:00:01\r\u001b[K     |█████████████████████▉          | 317kB 12.1MB/s eta 0:00:01\r\u001b[K     |██████████████████████▌         | 327kB 12.1MB/s eta 0:00:01\r\u001b[K     |███████████████████████▏        | 337kB 12.1MB/s eta 0:00:01\r\u001b[K     |████████████████████████        | 348kB 12.1MB/s eta 0:00:01\r\u001b[K     |████████████████████████▋       | 358kB 12.1MB/s eta 0:00:01\r\u001b[K     |█████████████████████████▎      | 368kB 12.1MB/s eta 0:00:01\r\u001b[K     |██████████████████████████      | 378kB 12.1MB/s eta 0:00:01\r\u001b[K     |██████████████████████████▊     | 389kB 12.1MB/s eta 0:00:01\r\u001b[K     |███████████████████████████▍    | 399kB 12.1MB/s eta 0:00:01\r\u001b[K     |████████████████████████████▏   | 409kB 12.1MB/s eta 0:00:01\r\u001b[K     |████████████████████████████▉   | 419kB 12.1MB/s eta 0:00:01\r\u001b[K     |█████████████████████████████▌  | 430kB 12.1MB/s eta 0:00:01\r\u001b[K     |██████████████████████████████▎ | 440kB 12.1MB/s eta 0:00:01\r\u001b[K     |███████████████████████████████ | 450kB 12.1MB/s eta 0:00:01\r\u001b[K     |███████████████████████████████▋| 460kB 12.1MB/s eta 0:00:01\r\u001b[K     |████████████████████████████████| 471kB 12.1MB/s \n",
            "\u001b[?25h"
          ],
          "name": "stdout"
        }
      ]
    },
    {
      "cell_type": "code",
      "metadata": {
        "id": "1rp-pBp3BVgk",
        "colab": {
          "base_uri": "https://localhost:8080/"
        },
        "outputId": "8a679805-2411-4d17-d2ba-7e0a3b8748d3"
      },
      "source": [
        "#import emoji\n",
        "!pip install -q emoji "
      ],
      "execution_count": null,
      "outputs": [
        {
          "output_type": "stream",
          "text": [
            "\u001b[?25l\r\u001b[K     |██████▍                         | 10kB 19.3MB/s eta 0:00:01\r\u001b[K     |████████████▉                   | 20kB 24.1MB/s eta 0:00:01\r\u001b[K     |███████████████████▎            | 30kB 28.8MB/s eta 0:00:01\r\u001b[K     |█████████████████████████▊      | 40kB 25.3MB/s eta 0:00:01\r\u001b[K     |████████████████████████████████| 51kB 4.8MB/s \n",
            "\u001b[?25h  Building wheel for emoji (setup.py) ... \u001b[?25l\u001b[?25hdone\n"
          ],
          "name": "stdout"
        }
      ]
    },
    {
      "cell_type": "code",
      "metadata": {
        "id": "oT3KCWnHAlwc",
        "colab": {
          "base_uri": "https://localhost:8080/"
        },
        "outputId": "e4dd519e-a208-45af-b4ad-df3a2044661f"
      },
      "source": [
        "#Source - https://towardsdatascience.com/how-to-label-text-for-sentiment-analysis-good-practises-2dce9e470708\n",
        "import emoji\n",
        "from aruana import Aruana\n",
        "aruana = Aruana('pt-br')\n",
        "sentiment = aruana.random_classification(df['case'], classes=[0,1], balanced=True)\n",
        "df['sentiment_Aruana'] = sentiment"
      ],
      "execution_count": null,
      "outputs": [
        {
          "output_type": "stream",
          "text": [
            "Class 0: 117 values\n",
            "Class 1: 114 values\n"
          ],
          "name": "stdout"
        },
        {
          "output_type": "stream",
          "text": [
            "/usr/local/lib/python3.6/dist-packages/aruana/aruana.py:1258: Warning:\n",
            "\n",
            "Could not load model. Execution will continue, but you can't do annotations unless you download the necessary models.\n",
            "\n"
          ],
          "name": "stderr"
        }
      ]
    },
    {
      "cell_type": "code",
      "metadata": {
        "id": "tH5eu5Cp4UGN"
      },
      "source": [
        "df['sentiment_Aruana'] = df['sentiment_Aruana'].map({1:'Low Risk', 0:'High Risk'}) "
      ],
      "execution_count": null,
      "outputs": []
    },
    {
      "cell_type": "code",
      "metadata": {
        "id": "2_RmKy6zAlzE",
        "colab": {
          "base_uri": "https://localhost:8080/",
          "height": 529
        },
        "outputId": "24f7a33c-099b-460e-d463-b482f910d23a"
      },
      "source": [
        "df.head(10)"
      ],
      "execution_count": null,
      "outputs": [
        {
          "output_type": "execute_result",
          "data": {
            "text/html": [
              "<div>\n",
              "<style scoped>\n",
              "    .dataframe tbody tr th:only-of-type {\n",
              "        vertical-align: middle;\n",
              "    }\n",
              "\n",
              "    .dataframe tbody tr th {\n",
              "        vertical-align: top;\n",
              "    }\n",
              "\n",
              "    .dataframe thead th {\n",
              "        text-align: right;\n",
              "    }\n",
              "</style>\n",
              "<table border=\"1\" class=\"dataframe\">\n",
              "  <thead>\n",
              "    <tr style=\"text-align: right;\">\n",
              "      <th></th>\n",
              "      <th>case</th>\n",
              "      <th>sentiment</th>\n",
              "      <th>final_score</th>\n",
              "      <th>sentiment_Vader</th>\n",
              "      <th>sentiment_flair</th>\n",
              "      <th>sentiment_Aruana</th>\n",
              "      <th>sentiment_TextBlob</th>\n",
              "    </tr>\n",
              "  </thead>\n",
              "  <tbody>\n",
              "    <tr>\n",
              "      <th>0</th>\n",
              "      <td>On behalf of Ms. Amira I would like to ask for your cooperation in tracing her biological mother...</td>\n",
              "      <td>{'neg': 0.053, 'neu': 0.895, 'pos': 0.053, 'compound': -0.2205}</td>\n",
              "      <td>0.09</td>\n",
              "      <td>Low Risk</td>\n",
              "      <td>[NEGATIVE (0.9888)]</td>\n",
              "      <td>Low Risk</td>\n",
              "      <td>(0.07558823529411764, 0.4929084967320261)</td>\n",
              "    </tr>\n",
              "    <tr>\n",
              "      <th>1</th>\n",
              "      <td>The following information has been supplied by the Youth Welfare Office in Berlin The Social Wor...</td>\n",
              "      <td>{'neg': 0.044, 'neu': 0.902, 'pos': 0.055, 'compound': 0.9416}</td>\n",
              "      <td>0.85</td>\n",
              "      <td>High Risk</td>\n",
              "      <td>[NEGATIVE (0.9995)]</td>\n",
              "      <td>High Risk</td>\n",
              "      <td>(0.006467452300785628, 0.3408436213991769)</td>\n",
              "    </tr>\n",
              "    <tr>\n",
              "      <th>2</th>\n",
              "      <td>I hope you all are well and sane in these challenging times. I kindly ask you for your support i...</td>\n",
              "      <td>{'neg': 0.046, 'neu': 0.882, 'pos': 0.072, 'compound': 0.9065}</td>\n",
              "      <td>0.72</td>\n",
              "      <td>High Risk</td>\n",
              "      <td>[NEGATIVE (0.9988)]</td>\n",
              "      <td>High Risk</td>\n",
              "      <td>(0.07682773109243697, 0.4263760504201681)</td>\n",
              "    </tr>\n",
              "    <tr>\n",
              "      <th>3</th>\n",
              "      <td>The child protection office in Beirut, Lebanon, requests ISS assistance regarding a 6-year-old S...</td>\n",
              "      <td>{'neg': 0.07, 'neu': 0.871, 'pos': 0.059, 'compound': -0.9536}</td>\n",
              "      <td>0.61</td>\n",
              "      <td>Low Risk</td>\n",
              "      <td>[NEGATIVE (0.9908)]</td>\n",
              "      <td>Low Risk</td>\n",
              "      <td>(0.02458751939884015, 0.3278710283427264)</td>\n",
              "    </tr>\n",
              "    <tr>\n",
              "      <th>4</th>\n",
              "      <td>I am writing from Children and Families Across Borders, UK, to request your assistance on this c...</td>\n",
              "      <td>{'neg': 0.033, 'neu': 0.856, 'pos': 0.111, 'compound': 0.9988}</td>\n",
              "      <td>0.12</td>\n",
              "      <td>High Risk</td>\n",
              "      <td>[NEGATIVE (0.5476)]</td>\n",
              "      <td>High Risk</td>\n",
              "      <td>(0.13982744107744108, 0.42934602434602437)</td>\n",
              "    </tr>\n",
              "    <tr>\n",
              "      <th>5</th>\n",
              "      <td>Ms SD, a German national, contacted ISS Germany looking for her father she had never met and who...</td>\n",
              "      <td>{'neg': 0.019, 'neu': 0.91, 'pos': 0.071, 'compound': 0.7354}</td>\n",
              "      <td>0.13</td>\n",
              "      <td>High Risk</td>\n",
              "      <td>[NEGATIVE (0.6193)]</td>\n",
              "      <td>High Risk</td>\n",
              "      <td>(0.014583333333333327, 0.4041666666666667)</td>\n",
              "    </tr>\n",
              "    <tr>\n",
              "      <th>6</th>\n",
              "      <td>Jose was deported from the USA to his homeland in Mexico, leaving behind his wife, Mariel and th...</td>\n",
              "      <td>{'neg': 0.0, 'neu': 0.835, 'pos': 0.165, 'compound': 0.9903}</td>\n",
              "      <td>0.73</td>\n",
              "      <td>High Risk</td>\n",
              "      <td>[POSITIVE (0.5362)]</td>\n",
              "      <td>High Risk</td>\n",
              "      <td>(0.12066115702479338, 0.4132231404958677)</td>\n",
              "    </tr>\n",
              "    <tr>\n",
              "      <th>7</th>\n",
              "      <td>Karim (6) and Ziad (8) are the sons of two divorced Lebanese nationals. The father remarried a L...</td>\n",
              "      <td>{'neg': 0.026, 'neu': 0.875, 'pos': 0.099, 'compound': 0.926}</td>\n",
              "      <td>0.77</td>\n",
              "      <td>High Risk</td>\n",
              "      <td>[POSITIVE (0.9983)]</td>\n",
              "      <td>High Risk</td>\n",
              "      <td>(0.14494949494949497, 0.34027777777777785)</td>\n",
              "    </tr>\n",
              "    <tr>\n",
              "      <th>8</th>\n",
              "      <td>Children from Guinea Bissau, who under the pretext of being drought by Koranic Masters to learn ...</td>\n",
              "      <td>{'neg': 0.022, 'neu': 0.871, 'pos': 0.107, 'compound': 0.872}</td>\n",
              "      <td>0.9</td>\n",
              "      <td>High Risk</td>\n",
              "      <td>[NEGATIVE (0.9537)]</td>\n",
              "      <td>Low Risk</td>\n",
              "      <td>(0.05000000000000001, 0.45555555555555555)</td>\n",
              "    </tr>\n",
              "    <tr>\n",
              "      <th>9</th>\n",
              "      <td>Mary Jackson (not her real name) is a 15 year old girl with a very strong passion for education ...</td>\n",
              "      <td>{'neg': 0.065, 'neu': 0.839, 'pos': 0.096, 'compound': 0.8144}</td>\n",
              "      <td>0.97</td>\n",
              "      <td>High Risk</td>\n",
              "      <td>[NEGATIVE (0.9998)]</td>\n",
              "      <td>Low Risk</td>\n",
              "      <td>(0.08984189723320159, 0.44671936758893277)</td>\n",
              "    </tr>\n",
              "  </tbody>\n",
              "</table>\n",
              "</div>"
            ],
            "text/plain": [
              "                                                                                                  case  ...                          sentiment_TextBlob\n",
              "0  On behalf of Ms. Amira I would like to ask for your cooperation in tracing her biological mother...  ...   (0.07558823529411764, 0.4929084967320261)\n",
              "1  The following information has been supplied by the Youth Welfare Office in Berlin The Social Wor...  ...  (0.006467452300785628, 0.3408436213991769)\n",
              "2  I hope you all are well and sane in these challenging times. I kindly ask you for your support i...  ...   (0.07682773109243697, 0.4263760504201681)\n",
              "3  The child protection office in Beirut, Lebanon, requests ISS assistance regarding a 6-year-old S...  ...   (0.02458751939884015, 0.3278710283427264)\n",
              "4  I am writing from Children and Families Across Borders, UK, to request your assistance on this c...  ...  (0.13982744107744108, 0.42934602434602437)\n",
              "5  Ms SD, a German national, contacted ISS Germany looking for her father she had never met and who...  ...  (0.014583333333333327, 0.4041666666666667)\n",
              "6  Jose was deported from the USA to his homeland in Mexico, leaving behind his wife, Mariel and th...  ...   (0.12066115702479338, 0.4132231404958677)\n",
              "7  Karim (6) and Ziad (8) are the sons of two divorced Lebanese nationals. The father remarried a L...  ...  (0.14494949494949497, 0.34027777777777785)\n",
              "8  Children from Guinea Bissau, who under the pretext of being drought by Koranic Masters to learn ...  ...  (0.05000000000000001, 0.45555555555555555)\n",
              "9  Mary Jackson (not her real name) is a 15 year old girl with a very strong passion for education ...  ...  (0.08984189723320159, 0.44671936758893277)\n",
              "\n",
              "[10 rows x 7 columns]"
            ]
          },
          "metadata": {
            "tags": []
          },
          "execution_count": 49
        }
      ]
    },
    {
      "cell_type": "code",
      "metadata": {
        "id": "k52-bz4aAl12"
      },
      "source": [
        ""
      ],
      "execution_count": null,
      "outputs": []
    },
    {
      "cell_type": "markdown",
      "metadata": {
        "id": "aCllHM3OJp_r"
      },
      "source": [
        "PART 4: Sentiment Analysis using TextBlob"
      ]
    },
    {
      "cell_type": "code",
      "metadata": {
        "id": "XJBCR9VoAl4Z"
      },
      "source": [
        "# Importing TextBlob\n",
        "# It returns Sentiment(polarity, subjectivity)\n",
        "from textblob import TextBlob"
      ],
      "execution_count": null,
      "outputs": []
    },
    {
      "cell_type": "code",
      "metadata": {
        "id": "Xalqp4etAl74"
      },
      "source": [
        "df['sentiment_TextBlob'] = df['case'].apply(lambda x: TextBlob(x).sentiment)"
      ],
      "execution_count": null,
      "outputs": []
    },
    {
      "cell_type": "code",
      "metadata": {
        "id": "K5Bti0uwo_yv",
        "colab": {
          "base_uri": "https://localhost:8080/",
          "height": 210
        },
        "outputId": "bce74396-a813-4aa5-c2b0-fe670a3e1763"
      },
      "source": [
        "df.head(3)"
      ],
      "execution_count": null,
      "outputs": [
        {
          "output_type": "execute_result",
          "data": {
            "text/html": [
              "<div>\n",
              "<style scoped>\n",
              "    .dataframe tbody tr th:only-of-type {\n",
              "        vertical-align: middle;\n",
              "    }\n",
              "\n",
              "    .dataframe tbody tr th {\n",
              "        vertical-align: top;\n",
              "    }\n",
              "\n",
              "    .dataframe thead th {\n",
              "        text-align: right;\n",
              "    }\n",
              "</style>\n",
              "<table border=\"1\" class=\"dataframe\">\n",
              "  <thead>\n",
              "    <tr style=\"text-align: right;\">\n",
              "      <th></th>\n",
              "      <th>case</th>\n",
              "      <th>sentiment</th>\n",
              "      <th>final_score</th>\n",
              "      <th>sentiment_Vader</th>\n",
              "      <th>sentiment_flair</th>\n",
              "      <th>sentiment_Aruana</th>\n",
              "      <th>sentiment_TextBlob</th>\n",
              "    </tr>\n",
              "  </thead>\n",
              "  <tbody>\n",
              "    <tr>\n",
              "      <th>0</th>\n",
              "      <td>On behalf of Ms. Amira I would like to ask for your cooperation in tracing her biological mother...</td>\n",
              "      <td>{'neg': 0.053, 'neu': 0.895, 'pos': 0.053, 'compound': -0.2205}</td>\n",
              "      <td>0.09</td>\n",
              "      <td>Low Risk</td>\n",
              "      <td>[NEGATIVE (0.9888)]</td>\n",
              "      <td>Low Risk</td>\n",
              "      <td>(0.07558823529411764, 0.4929084967320261)</td>\n",
              "    </tr>\n",
              "    <tr>\n",
              "      <th>1</th>\n",
              "      <td>The following information has been supplied by the Youth Welfare Office in Berlin The Social Wor...</td>\n",
              "      <td>{'neg': 0.044, 'neu': 0.902, 'pos': 0.055, 'compound': 0.9416}</td>\n",
              "      <td>0.85</td>\n",
              "      <td>High Risk</td>\n",
              "      <td>[NEGATIVE (0.9995)]</td>\n",
              "      <td>High Risk</td>\n",
              "      <td>(0.006467452300785628, 0.3408436213991769)</td>\n",
              "    </tr>\n",
              "    <tr>\n",
              "      <th>2</th>\n",
              "      <td>I hope you all are well and sane in these challenging times. I kindly ask you for your support i...</td>\n",
              "      <td>{'neg': 0.046, 'neu': 0.882, 'pos': 0.072, 'compound': 0.9065}</td>\n",
              "      <td>0.72</td>\n",
              "      <td>High Risk</td>\n",
              "      <td>[NEGATIVE (0.9988)]</td>\n",
              "      <td>High Risk</td>\n",
              "      <td>(0.07682773109243697, 0.4263760504201681)</td>\n",
              "    </tr>\n",
              "  </tbody>\n",
              "</table>\n",
              "</div>"
            ],
            "text/plain": [
              "                                                                                                  case  ...                          sentiment_TextBlob\n",
              "0  On behalf of Ms. Amira I would like to ask for your cooperation in tracing her biological mother...  ...   (0.07558823529411764, 0.4929084967320261)\n",
              "1  The following information has been supplied by the Youth Welfare Office in Berlin The Social Wor...  ...  (0.006467452300785628, 0.3408436213991769)\n",
              "2  I hope you all are well and sane in these challenging times. I kindly ask you for your support i...  ...   (0.07682773109243697, 0.4263760504201681)\n",
              "\n",
              "[3 rows x 7 columns]"
            ]
          },
          "metadata": {
            "tags": []
          },
          "execution_count": 48
        }
      ]
    },
    {
      "cell_type": "markdown",
      "metadata": {
        "id": "brmAQgBs9XBX"
      },
      "source": [
        "################## Tried textBlob with NB (based on movies reviews) - kindly ignore as of now ######################"
      ]
    },
    {
      "cell_type": "code",
      "metadata": {
        "id": "01sD3yaIStKh"
      },
      "source": [
        "# Importing the NaiveBayesAnalyzer classifier from NLTK\n",
        "from textblob.sentiments import NaiveBayesAnalyzer\n",
        "\n"
      ],
      "execution_count": null,
      "outputs": []
    },
    {
      "cell_type": "code",
      "metadata": {
        "id": "3nefzQTWTHcK"
      },
      "source": [
        "def sentimentTB(Case):\n",
        "  # Applying the NaiveBayesAnalyzer\n",
        "  blob_object = TextBlob(Case, analyzer=NaiveBayesAnalyzer())\n",
        "  # Running sentiment analysis\n",
        "  analysis = blob_object.sentiment\n",
        "  return analysis"
      ],
      "execution_count": null,
      "outputs": []
    },
    {
      "cell_type": "code",
      "metadata": {
        "id": "vJKgcnaqyNsG"
      },
      "source": [
        "from google.colab import drive\n",
        "drive.mount('/content/drive')"
      ],
      "execution_count": null,
      "outputs": []
    },
    {
      "cell_type": "code",
      "metadata": {
        "id": "yI3G3BjjTpRA",
        "colab": {
          "base_uri": "https://localhost:8080/"
        },
        "outputId": "a2842764-df61-41f9-ef71-9b8b54c857d8"
      },
      "source": [
        "import nltk\n",
        "nltk.download('movie_reviews')"
      ],
      "execution_count": null,
      "outputs": [
        {
          "output_type": "stream",
          "text": [
            "[nltk_data] Downloading package movie_reviews to /root/nltk_data...\n",
            "[nltk_data]   Unzipping corpora/movie_reviews.zip.\n"
          ],
          "name": "stdout"
        },
        {
          "output_type": "execute_result",
          "data": {
            "text/plain": [
              "True"
            ]
          },
          "metadata": {
            "tags": []
          },
          "execution_count": 32
        }
      ]
    },
    {
      "cell_type": "code",
      "metadata": {
        "id": "rN2B1ON7Tw7Z",
        "colab": {
          "base_uri": "https://localhost:8080/"
        },
        "outputId": "504c200e-dd8e-4328-d9d6-1853b5e6aaf1"
      },
      "source": [
        "nltk.download('punkt')"
      ],
      "execution_count": null,
      "outputs": [
        {
          "output_type": "stream",
          "text": [
            "[nltk_data] Downloading package punkt to /root/nltk_data...\n",
            "[nltk_data]   Unzipping tokenizers/punkt.zip.\n"
          ],
          "name": "stdout"
        },
        {
          "output_type": "execute_result",
          "data": {
            "text/plain": [
              "True"
            ]
          },
          "metadata": {
            "tags": []
          },
          "execution_count": 30
        }
      ]
    },
    {
      "cell_type": "code",
      "metadata": {
        "id": "4mBmmeNATaIz"
      },
      "source": [
        "df['sentiment_TB'] = df['Case'].apply(lambda x: sentimentTB(x))"
      ],
      "execution_count": null,
      "outputs": []
    },
    {
      "cell_type": "code",
      "metadata": {
        "id": "N5F8fb8wSBcr",
        "colab": {
          "base_uri": "https://localhost:8080/",
          "height": 391
        },
        "outputId": "b4fa9fdd-fe8e-46fc-cd47-554ff76ae2f8"
      },
      "source": [
        "df.head()"
      ],
      "execution_count": null,
      "outputs": [
        {
          "output_type": "execute_result",
          "data": {
            "text/html": [
              "<div>\n",
              "<style scoped>\n",
              "    .dataframe tbody tr th:only-of-type {\n",
              "        vertical-align: middle;\n",
              "    }\n",
              "\n",
              "    .dataframe tbody tr th {\n",
              "        vertical-align: top;\n",
              "    }\n",
              "\n",
              "    .dataframe thead th {\n",
              "        text-align: right;\n",
              "    }\n",
              "</style>\n",
              "<table border=\"1\" class=\"dataframe\">\n",
              "  <thead>\n",
              "    <tr style=\"text-align: right;\">\n",
              "      <th></th>\n",
              "      <th>Case</th>\n",
              "      <th>sentiment</th>\n",
              "      <th>sentiment_Vader</th>\n",
              "      <th>sentiment_flair</th>\n",
              "      <th>sentiment_Aruana</th>\n",
              "      <th>sentiment_TextBlob</th>\n",
              "      <th>sentiment_TB</th>\n",
              "    </tr>\n",
              "  </thead>\n",
              "  <tbody>\n",
              "    <tr>\n",
              "      <th>0</th>\n",
              "      <td>On behalf of Ms. Amira I would like to ask for your cooperation in tracing her biological mother...</td>\n",
              "      <td>{'neg': 0.053, 'neu': 0.895, 'pos': 0.053, 'compound': -0.2205}</td>\n",
              "      <td>negative</td>\n",
              "      <td>[NEGATIVE (0.9888)]</td>\n",
              "      <td>0</td>\n",
              "      <td>(0.07558823529411764, 0.4929084967320261)</td>\n",
              "      <td>(pos, 0.9999999997894812, 2.1052833854110858e-10)</td>\n",
              "    </tr>\n",
              "    <tr>\n",
              "      <th>1</th>\n",
              "      <td>The following information has been supplied by the Youth Welfare Office in Berlin The Social Wor...</td>\n",
              "      <td>{'neg': 0.044, 'neu': 0.902, 'pos': 0.055, 'compound': 0.9416}</td>\n",
              "      <td>positive</td>\n",
              "      <td>[NEGATIVE (0.9995)]</td>\n",
              "      <td>0</td>\n",
              "      <td>(0.006467452300785628, 0.3408436213991769)</td>\n",
              "      <td>(pos, 1.0, 1.7677164588744256e-31)</td>\n",
              "    </tr>\n",
              "    <tr>\n",
              "      <th>2</th>\n",
              "      <td>I hope you all are well and sane in these challenging times. I kindly ask you for your support i...</td>\n",
              "      <td>{'neg': 0.046, 'neu': 0.882, 'pos': 0.072, 'compound': 0.9065}</td>\n",
              "      <td>positive</td>\n",
              "      <td>[NEGATIVE (0.9988)]</td>\n",
              "      <td>0</td>\n",
              "      <td>(0.07682773109243697, 0.4263760504201681)</td>\n",
              "      <td>(pos, 1.0, 5.959106869092621e-19)</td>\n",
              "    </tr>\n",
              "    <tr>\n",
              "      <th>3</th>\n",
              "      <td>The child protection office in Beirut, Lebanon, requests ISS assistance regarding a 6-year-old S...</td>\n",
              "      <td>{'neg': 0.07, 'neu': 0.871, 'pos': 0.059, 'compound': -0.9536}</td>\n",
              "      <td>negative</td>\n",
              "      <td>[NEGATIVE (0.9908)]</td>\n",
              "      <td>1</td>\n",
              "      <td>(0.02458751939884015, 0.3278710283427264)</td>\n",
              "      <td>(pos, 1.0, 3.6156947977627473e-25)</td>\n",
              "    </tr>\n",
              "    <tr>\n",
              "      <th>4</th>\n",
              "      <td>I am writing from Children and Families Across Borders, UK, to request your assistance on this c...</td>\n",
              "      <td>{'neg': 0.033, 'neu': 0.856, 'pos': 0.111, 'compound': 0.9988}</td>\n",
              "      <td>positive</td>\n",
              "      <td>[NEGATIVE (0.5476)]</td>\n",
              "      <td>0</td>\n",
              "      <td>(0.13982744107744108, 0.42934602434602437)</td>\n",
              "      <td>(pos, 1.0, 1.9316264197840595e-29)</td>\n",
              "    </tr>\n",
              "  </tbody>\n",
              "</table>\n",
              "</div>"
            ],
            "text/plain": [
              "                                                                                                  Case  ...                                       sentiment_TB\n",
              "0  On behalf of Ms. Amira I would like to ask for your cooperation in tracing her biological mother...  ...  (pos, 0.9999999997894812, 2.1052833854110858e-10)\n",
              "1  The following information has been supplied by the Youth Welfare Office in Berlin The Social Wor...  ...                 (pos, 1.0, 1.7677164588744256e-31)\n",
              "2  I hope you all are well and sane in these challenging times. I kindly ask you for your support i...  ...                  (pos, 1.0, 5.959106869092621e-19)\n",
              "3  The child protection office in Beirut, Lebanon, requests ISS assistance regarding a 6-year-old S...  ...                 (pos, 1.0, 3.6156947977627473e-25)\n",
              "4  I am writing from Children and Families Across Borders, UK, to request your assistance on this c...  ...                 (pos, 1.0, 1.9316264197840595e-29)\n",
              "\n",
              "[5 rows x 7 columns]"
            ]
          },
          "metadata": {
            "tags": []
          },
          "execution_count": 34
        }
      ]
    }
  ]
}