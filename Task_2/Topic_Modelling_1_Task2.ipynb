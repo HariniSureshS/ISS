{
  "nbformat": 4,
  "nbformat_minor": 0,
  "metadata": {
    "colab": {
      "name": "Topic Modelling_1-Task2.ipynb",
      "provenance": [],
      "collapsed_sections": []
    },
    "kernelspec": {
      "name": "python3",
      "display_name": "Python 3"
    }
  },
  "cells": [
    {
      "cell_type": "code",
      "metadata": {
        "id": "GFWN71zMiVAh",
        "outputId": "669521bd-4feb-4680-e1b7-439c5af79b2e",
        "colab": {
          "base_uri": "https://localhost:8080/",
          "height": 34
        }
      },
      "source": [
        "from google.colab import drive\n",
        "drive.mount('/content/drive')"
      ],
      "execution_count": 5,
      "outputs": [
        {
          "output_type": "stream",
          "text": [
            "Mounted at /content/drive\n"
          ],
          "name": "stdout"
        }
      ]
    },
    {
      "cell_type": "code",
      "metadata": {
        "id": "awIiJFoGimZe"
      },
      "source": [
        "import os\n",
        "path ='/content/drive/My Drive/Colab Notebooks/Data'"
      ],
      "execution_count": 6,
      "outputs": []
    },
    {
      "cell_type": "code",
      "metadata": {
        "id": "Rvq0gZLtivS8"
      },
      "source": [
        "import pandas as pd\n",
        "pd.set_option('display.max_colwidth', 400)"
      ],
      "execution_count": 7,
      "outputs": []
    },
    {
      "cell_type": "code",
      "metadata": {
        "id": "T_TcI1wfb0Xt"
      },
      "source": [
        "import re\n",
        "from sklearn.feature_extraction.text import TfidfVectorizer"
      ],
      "execution_count": 29,
      "outputs": []
    },
    {
      "cell_type": "code",
      "metadata": {
        "id": "Mod6iHiGi5Qk"
      },
      "source": [
        "iss = pd.read_csv(os.path.join(path,'Task_2.csv'), encoding = 'cp1252')"
      ],
      "execution_count": 8,
      "outputs": []
    },
    {
      "cell_type": "code",
      "metadata": {
        "id": "eA76KH9pi-xc",
        "outputId": "0f2de810-1d72-43dd-cea9-bf2b40ac400a",
        "colab": {
          "base_uri": "https://localhost:8080/",
          "height": 279
        }
      },
      "source": [
        "iss.head()"
      ],
      "execution_count": 9,
      "outputs": [
        {
          "output_type": "execute_result",
          "data": {
            "text/html": [
              "<div>\n",
              "<style scoped>\n",
              "    .dataframe tbody tr th:only-of-type {\n",
              "        vertical-align: middle;\n",
              "    }\n",
              "\n",
              "    .dataframe tbody tr th {\n",
              "        vertical-align: top;\n",
              "    }\n",
              "\n",
              "    .dataframe thead th {\n",
              "        text-align: right;\n",
              "    }\n",
              "</style>\n",
              "<table border=\"1\" class=\"dataframe\">\n",
              "  <thead>\n",
              "    <tr style=\"text-align: right;\">\n",
              "      <th></th>\n",
              "      <th>Sno</th>\n",
              "      <th>Detail</th>\n",
              "    </tr>\n",
              "  </thead>\n",
              "  <tbody>\n",
              "    <tr>\n",
              "      <th>0</th>\n",
              "      <td>1</td>\n",
              "      <td>On behalf of Ms. Amira I would like to ask for your cooperation in tracing her  biological mother and perhaps other family members. \\n\\nThe biological mother possibly moved to Canada, according to information the UNHCR received. However, we cannot be sure and as there is not a lot of information about mother, we would like to search for the biological mother in Lebanon. \\n\\nThe NGO … already t...</td>\n",
              "    </tr>\n",
              "    <tr>\n",
              "      <th>1</th>\n",
              "      <td>2</td>\n",
              "      <td>The following information has been supplied by the Youth Welfare Office in Berlin \\n\\nThe Social Worker who made the child welfare alert has been responsible for the family since 2014. The father of Lara and Fadi comes from Lebanon and was deported back to his country in 2017. He had been massively consuming Hero-ine for many years. The mother had been addicted as well since she was 14 years o...</td>\n",
              "    </tr>\n",
              "    <tr>\n",
              "      <th>2</th>\n",
              "      <td>3</td>\n",
              "      <td>I hope you all are well and sane in these challenging times.\\n \\nI kindly ask you for your support in the case of Anas, d.o.b. 30.06.2004.\\n \\nUnfortunately I have only few information about the case:\\n \\nThe mother, Nadia and Anaslive in Syria (contact:  … mobile  … ) .\\n \\nThe father … lives still in Hamburg. The family lived before together in Hamburg, then the parents got divorced.  Then m...</td>\n",
              "    </tr>\n",
              "    <tr>\n",
              "      <th>3</th>\n",
              "      <td>4</td>\n",
              "      <td>The child protection office in Beirut, Lebanon, requests ISS assistance regarding a 6-year-old Syrian child, currently living in Germany, in order to facilitate the re-establishment of contact between her and her father who is in Lebanon, to ensure a possible reunification and also provide a social report on the family situation. Mr. Ali and Mrs. Leila, Syrian nationals, got married in 2010, 6...</td>\n",
              "    </tr>\n",
              "    <tr>\n",
              "      <th>4</th>\n",
              "      <td>5</td>\n",
              "      <td>I am writing from Children and Families Across Borders, UK, to request your assistance on this case. It involves two children who are placed with foster carers in the UK. The foster carers travel to Lebanon frequently and would like to take the children with them for a holiday. As the children are in foster care, Children’s Services in Bromley have parental responsibility for them and have to ...</td>\n",
              "    </tr>\n",
              "  </tbody>\n",
              "</table>\n",
              "</div>"
            ],
            "text/plain": [
              "   Sno                                                                                                                                                                                                                                                                                                                                                                                                           Detail\n",
              "0    1  On behalf of Ms. Amira I would like to ask for your cooperation in tracing her  biological mother and perhaps other family members. \\n\\nThe biological mother possibly moved to Canada, according to information the UNHCR received. However, we cannot be sure and as there is not a lot of information about mother, we would like to search for the biological mother in Lebanon. \\n\\nThe NGO … already t...\n",
              "1    2  The following information has been supplied by the Youth Welfare Office in Berlin \\n\\nThe Social Worker who made the child welfare alert has been responsible for the family since 2014. The father of Lara and Fadi comes from Lebanon and was deported back to his country in 2017. He had been massively consuming Hero-ine for many years. The mother had been addicted as well since she was 14 years o...\n",
              "2    3  I hope you all are well and sane in these challenging times.\\n \\nI kindly ask you for your support in the case of Anas, d.o.b. 30.06.2004.\\n \\nUnfortunately I have only few information about the case:\\n \\nThe mother, Nadia and Anaslive in Syria (contact:  … mobile  … ) .\\n \\nThe father … lives still in Hamburg. The family lived before together in Hamburg, then the parents got divorced.  Then m...\n",
              "3    4  The child protection office in Beirut, Lebanon, requests ISS assistance regarding a 6-year-old Syrian child, currently living in Germany, in order to facilitate the re-establishment of contact between her and her father who is in Lebanon, to ensure a possible reunification and also provide a social report on the family situation. Mr. Ali and Mrs. Leila, Syrian nationals, got married in 2010, 6...\n",
              "4    5  I am writing from Children and Families Across Borders, UK, to request your assistance on this case. It involves two children who are placed with foster carers in the UK. The foster carers travel to Lebanon frequently and would like to take the children with them for a holiday. As the children are in foster care, Children’s Services in Bromley have parental responsibility for them and have to ..."
            ]
          },
          "metadata": {
            "tags": []
          },
          "execution_count": 9
        }
      ]
    },
    {
      "cell_type": "code",
      "metadata": {
        "id": "enZVgGKhrgrT"
      },
      "source": [
        "def cleaner(iss_str):\n",
        "    token_list = []\n",
        "    iss_str = re.sub(r'[()]', '', iss_str)\n",
        "    iss_str = re.sub(r'[.,]', '', iss_str)\n",
        "    iss_str = re.sub(r'\\n', ' ', iss_str)\n",
        "    iss_str = re.sub(r'st\\b', '', iss_str)\n",
        "    iss_str = re.sub(r'–', ' ', iss_str)\n",
        "    iss_str = re.sub(r'…', '', iss_str)\n",
        "    iss_str = re.sub(r'[“”]', '', iss_str)\n",
        "    iss_str = re.sub(r'’s', '', iss_str)\n",
        "    iss_str = re.sub(r'[;:?]', '', iss_str)\n",
        "    iss_str = re.sub(r'[-]', ' ', iss_str)\n",
        "    iss_str = iss_str.lower()\n",
        "    tokens = iss_str.split()\n",
        "    for token in tokens:\n",
        "      token_list.append(token)\n",
        "    return ' '.join(token_list)"
      ],
      "execution_count": 21,
      "outputs": []
    },
    {
      "cell_type": "code",
      "metadata": {
        "id": "ZI8NgIaSrhim"
      },
      "source": [
        "iss['clean_details'] = iss['Detail'].apply(lambda x : cleaner(x))"
      ],
      "execution_count": 25,
      "outputs": []
    },
    {
      "cell_type": "code",
      "metadata": {
        "id": "NrH6Y4GarhJC",
        "outputId": "ebfb934e-1b46-414e-d6ee-1ddd10a1b270",
        "colab": {
          "base_uri": "https://localhost:8080/",
          "height": 447
        }
      },
      "source": [
        "iss.head()"
      ],
      "execution_count": 26,
      "outputs": [
        {
          "output_type": "execute_result",
          "data": {
            "text/html": [
              "<div>\n",
              "<style scoped>\n",
              "    .dataframe tbody tr th:only-of-type {\n",
              "        vertical-align: middle;\n",
              "    }\n",
              "\n",
              "    .dataframe tbody tr th {\n",
              "        vertical-align: top;\n",
              "    }\n",
              "\n",
              "    .dataframe thead th {\n",
              "        text-align: right;\n",
              "    }\n",
              "</style>\n",
              "<table border=\"1\" class=\"dataframe\">\n",
              "  <thead>\n",
              "    <tr style=\"text-align: right;\">\n",
              "      <th></th>\n",
              "      <th>Sno</th>\n",
              "      <th>Detail</th>\n",
              "      <th>clean_details</th>\n",
              "    </tr>\n",
              "  </thead>\n",
              "  <tbody>\n",
              "    <tr>\n",
              "      <th>0</th>\n",
              "      <td>1</td>\n",
              "      <td>On behalf of Ms. Amira I would like to ask for your cooperation in tracing her  biological mother and perhaps other family members. \\n\\nThe biological mother possibly moved to Canada, according to information the UNHCR received. However, we cannot be sure and as there is not a lot of information about mother, we would like to search for the biological mother in Lebanon. \\n\\nThe NGO … already t...</td>\n",
              "      <td>on behalf of ms amira i would like to ask for your cooperation in tracing her biological mother and perhaps other family members the biological mother possibly moved to canada according to information the unhcr received however we cannot be sure and as there is not a lot of information about mother we would like to search for the biological mother in lebanon the ngo already tried to find the b...</td>\n",
              "    </tr>\n",
              "    <tr>\n",
              "      <th>1</th>\n",
              "      <td>2</td>\n",
              "      <td>The following information has been supplied by the Youth Welfare Office in Berlin \\n\\nThe Social Worker who made the child welfare alert has been responsible for the family since 2014. The father of Lara and Fadi comes from Lebanon and was deported back to his country in 2017. He had been massively consuming Hero-ine for many years. The mother had been addicted as well since she was 14 years o...</td>\n",
              "      <td>the following information has been supplied by the youth welfare office in berlin the social worker who made the child welfare alert has been responsible for the family since 2014 the father of lara and fadi comes from lebanon and was deported back to his country in 2017 he had been massively consuming hero ine for many years the mother had been addicted as well since she was 14 years old she ...</td>\n",
              "    </tr>\n",
              "    <tr>\n",
              "      <th>2</th>\n",
              "      <td>3</td>\n",
              "      <td>I hope you all are well and sane in these challenging times.\\n \\nI kindly ask you for your support in the case of Anas, d.o.b. 30.06.2004.\\n \\nUnfortunately I have only few information about the case:\\n \\nThe mother, Nadia and Anaslive in Syria (contact:  … mobile  … ) .\\n \\nThe father … lives still in Hamburg. The family lived before together in Hamburg, then the parents got divorced.  Then m...</td>\n",
              "      <td>i hope you all are well and sane in these challenging times i kindly ask you for your support in the case of anas dob 30062004 unfortunately i have only few information about the case the mother nadia and anaslive in syria contact mobile the father lives still in hamburg the family lived before together in hamburg then the parents got divorced then mother and child left to syria in 2009 the fa...</td>\n",
              "    </tr>\n",
              "    <tr>\n",
              "      <th>3</th>\n",
              "      <td>4</td>\n",
              "      <td>The child protection office in Beirut, Lebanon, requests ISS assistance regarding a 6-year-old Syrian child, currently living in Germany, in order to facilitate the re-establishment of contact between her and her father who is in Lebanon, to ensure a possible reunification and also provide a social report on the family situation. Mr. Ali and Mrs. Leila, Syrian nationals, got married in 2010, 6...</td>\n",
              "      <td>the child protection office in beirut lebanon requests iss assistance regarding a 6 year old syrian child currently living in germany in order to facilitate the re establishment of contact between her and her father who is in lebanon to ensure a possible reunification and also provide a social report on the family situation mr ali and mrs leila syrian nationals got married in 2010 6 months bef...</td>\n",
              "    </tr>\n",
              "    <tr>\n",
              "      <th>4</th>\n",
              "      <td>5</td>\n",
              "      <td>I am writing from Children and Families Across Borders, UK, to request your assistance on this case. It involves two children who are placed with foster carers in the UK. The foster carers travel to Lebanon frequently and would like to take the children with them for a holiday. As the children are in foster care, Children’s Services in Bromley have parental responsibility for them and have to ...</td>\n",
              "      <td>i am writing from children and families across borders uk to reque your assistance on this case it involves two children who are placed with foster carers in the uk the foster carers travel to lebanon frequently and would like to take the children with them for a holiday as the children are in foster care children services in bromley have parental responsibility for them and have to ensure tha...</td>\n",
              "    </tr>\n",
              "  </tbody>\n",
              "</table>\n",
              "</div>"
            ],
            "text/plain": [
              "   Sno  ...                                                                                                                                                                                                                                                                                                                                                                                                    clean_details\n",
              "0    1  ...  on behalf of ms amira i would like to ask for your cooperation in tracing her biological mother and perhaps other family members the biological mother possibly moved to canada according to information the unhcr received however we cannot be sure and as there is not a lot of information about mother we would like to search for the biological mother in lebanon the ngo already tried to find the b...\n",
              "1    2  ...  the following information has been supplied by the youth welfare office in berlin the social worker who made the child welfare alert has been responsible for the family since 2014 the father of lara and fadi comes from lebanon and was deported back to his country in 2017 he had been massively consuming hero ine for many years the mother had been addicted as well since she was 14 years old she ...\n",
              "2    3  ...  i hope you all are well and sane in these challenging times i kindly ask you for your support in the case of anas dob 30062004 unfortunately i have only few information about the case the mother nadia and anaslive in syria contact mobile the father lives still in hamburg the family lived before together in hamburg then the parents got divorced then mother and child left to syria in 2009 the fa...\n",
              "3    4  ...  the child protection office in beirut lebanon requests iss assistance regarding a 6 year old syrian child currently living in germany in order to facilitate the re establishment of contact between her and her father who is in lebanon to ensure a possible reunification and also provide a social report on the family situation mr ali and mrs leila syrian nationals got married in 2010 6 months bef...\n",
              "4    5  ...  i am writing from children and families across borders uk to reque your assistance on this case it involves two children who are placed with foster carers in the uk the foster carers travel to lebanon frequently and would like to take the children with them for a holiday as the children are in foster care children services in bromley have parental responsibility for them and have to ensure tha...\n",
              "\n",
              "[5 rows x 3 columns]"
            ]
          },
          "metadata": {
            "tags": []
          },
          "execution_count": 26
        }
      ]
    },
    {
      "cell_type": "code",
      "metadata": {
        "id": "MtJcTXL5riR7"
      },
      "source": [
        "iss.drop(['Detail'], axis = 1, inplace = True)"
      ],
      "execution_count": 27,
      "outputs": []
    },
    {
      "cell_type": "code",
      "metadata": {
        "id": "rlu-iVSKriXd",
        "outputId": "82c542e6-43d2-4f3a-fc66-6d4f599a7e74",
        "colab": {
          "base_uri": "https://localhost:8080/",
          "height": 279
        }
      },
      "source": [
        "iss.head()"
      ],
      "execution_count": 28,
      "outputs": [
        {
          "output_type": "execute_result",
          "data": {
            "text/html": [
              "<div>\n",
              "<style scoped>\n",
              "    .dataframe tbody tr th:only-of-type {\n",
              "        vertical-align: middle;\n",
              "    }\n",
              "\n",
              "    .dataframe tbody tr th {\n",
              "        vertical-align: top;\n",
              "    }\n",
              "\n",
              "    .dataframe thead th {\n",
              "        text-align: right;\n",
              "    }\n",
              "</style>\n",
              "<table border=\"1\" class=\"dataframe\">\n",
              "  <thead>\n",
              "    <tr style=\"text-align: right;\">\n",
              "      <th></th>\n",
              "      <th>Sno</th>\n",
              "      <th>clean_details</th>\n",
              "    </tr>\n",
              "  </thead>\n",
              "  <tbody>\n",
              "    <tr>\n",
              "      <th>0</th>\n",
              "      <td>1</td>\n",
              "      <td>on behalf of ms amira i would like to ask for your cooperation in tracing her biological mother and perhaps other family members the biological mother possibly moved to canada according to information the unhcr received however we cannot be sure and as there is not a lot of information about mother we would like to search for the biological mother in lebanon the ngo already tried to find the b...</td>\n",
              "    </tr>\n",
              "    <tr>\n",
              "      <th>1</th>\n",
              "      <td>2</td>\n",
              "      <td>the following information has been supplied by the youth welfare office in berlin the social worker who made the child welfare alert has been responsible for the family since 2014 the father of lara and fadi comes from lebanon and was deported back to his country in 2017 he had been massively consuming hero ine for many years the mother had been addicted as well since she was 14 years old she ...</td>\n",
              "    </tr>\n",
              "    <tr>\n",
              "      <th>2</th>\n",
              "      <td>3</td>\n",
              "      <td>i hope you all are well and sane in these challenging times i kindly ask you for your support in the case of anas dob 30062004 unfortunately i have only few information about the case the mother nadia and anaslive in syria contact mobile the father lives still in hamburg the family lived before together in hamburg then the parents got divorced then mother and child left to syria in 2009 the fa...</td>\n",
              "    </tr>\n",
              "    <tr>\n",
              "      <th>3</th>\n",
              "      <td>4</td>\n",
              "      <td>the child protection office in beirut lebanon requests iss assistance regarding a 6 year old syrian child currently living in germany in order to facilitate the re establishment of contact between her and her father who is in lebanon to ensure a possible reunification and also provide a social report on the family situation mr ali and mrs leila syrian nationals got married in 2010 6 months bef...</td>\n",
              "    </tr>\n",
              "    <tr>\n",
              "      <th>4</th>\n",
              "      <td>5</td>\n",
              "      <td>i am writing from children and families across borders uk to reque your assistance on this case it involves two children who are placed with foster carers in the uk the foster carers travel to lebanon frequently and would like to take the children with them for a holiday as the children are in foster care children services in bromley have parental responsibility for them and have to ensure tha...</td>\n",
              "    </tr>\n",
              "  </tbody>\n",
              "</table>\n",
              "</div>"
            ],
            "text/plain": [
              "   Sno                                                                                                                                                                                                                                                                                                                                                                                                    clean_details\n",
              "0    1  on behalf of ms amira i would like to ask for your cooperation in tracing her biological mother and perhaps other family members the biological mother possibly moved to canada according to information the unhcr received however we cannot be sure and as there is not a lot of information about mother we would like to search for the biological mother in lebanon the ngo already tried to find the b...\n",
              "1    2  the following information has been supplied by the youth welfare office in berlin the social worker who made the child welfare alert has been responsible for the family since 2014 the father of lara and fadi comes from lebanon and was deported back to his country in 2017 he had been massively consuming hero ine for many years the mother had been addicted as well since she was 14 years old she ...\n",
              "2    3  i hope you all are well and sane in these challenging times i kindly ask you for your support in the case of anas dob 30062004 unfortunately i have only few information about the case the mother nadia and anaslive in syria contact mobile the father lives still in hamburg the family lived before together in hamburg then the parents got divorced then mother and child left to syria in 2009 the fa...\n",
              "3    4  the child protection office in beirut lebanon requests iss assistance regarding a 6 year old syrian child currently living in germany in order to facilitate the re establishment of contact between her and her father who is in lebanon to ensure a possible reunification and also provide a social report on the family situation mr ali and mrs leila syrian nationals got married in 2010 6 months bef...\n",
              "4    5  i am writing from children and families across borders uk to reque your assistance on this case it involves two children who are placed with foster carers in the uk the foster carers travel to lebanon frequently and would like to take the children with them for a holiday as the children are in foster care children services in bromley have parental responsibility for them and have to ensure tha..."
            ]
          },
          "metadata": {
            "tags": []
          },
          "execution_count": 28
        }
      ]
    },
    {
      "cell_type": "code",
      "metadata": {
        "id": "o6SMM7cyclJM"
      },
      "source": [
        "tf_idf = TfidfVectorizer(max_df = 1, min_df = 1, stop_words = 'english')"
      ],
      "execution_count": 142,
      "outputs": []
    },
    {
      "cell_type": "code",
      "metadata": {
        "id": "YbrLx-oFclaT"
      },
      "source": [
        "tf_idf_matrix = tf_idf.fit_transform(iss['clean_details'])"
      ],
      "execution_count": 145,
      "outputs": []
    },
    {
      "cell_type": "code",
      "metadata": {
        "id": "O4cmHFxGclqj",
        "outputId": "e7805c16-1ed7-4971-de18-e645eff8fe61",
        "colab": {
          "base_uri": "https://localhost:8080/",
          "height": 34
        }
      },
      "source": [
        "tf_idf_matrix.shape"
      ],
      "execution_count": 146,
      "outputs": [
        {
          "output_type": "execute_result",
          "data": {
            "text/plain": [
              "(9, 766)"
            ]
          },
          "metadata": {
            "tags": []
          },
          "execution_count": 146
        }
      ]
    },
    {
      "cell_type": "markdown",
      "metadata": {
        "id": "e2-bKQFldjxx"
      },
      "source": [
        "**LDA**"
      ]
    },
    {
      "cell_type": "code",
      "metadata": {
        "id": "FLpE1-AlcljK"
      },
      "source": [
        "from sklearn.decomposition import LatentDirichletAllocation"
      ],
      "execution_count": 147,
      "outputs": []
    },
    {
      "cell_type": "code",
      "metadata": {
        "id": "GHBeeG4EclSz"
      },
      "source": [
        "LDA = LatentDirichletAllocation(n_components = 6, random_state = 42)"
      ],
      "execution_count": 157,
      "outputs": []
    },
    {
      "cell_type": "code",
      "metadata": {
        "id": "fo78N1sDriKK",
        "outputId": "7e6e0032-7bee-449f-952e-1fa02dfc62e1",
        "colab": {
          "base_uri": "https://localhost:8080/",
          "height": 134
        }
      },
      "source": [
        "LDA.fit(tf_idf_matrix)"
      ],
      "execution_count": 158,
      "outputs": [
        {
          "output_type": "execute_result",
          "data": {
            "text/plain": [
              "LatentDirichletAllocation(batch_size=128, doc_topic_prior=None,\n",
              "                          evaluate_every=-1, learning_decay=0.7,\n",
              "                          learning_method='batch', learning_offset=10.0,\n",
              "                          max_doc_update_iter=100, max_iter=10,\n",
              "                          mean_change_tol=0.001, n_components=6, n_jobs=None,\n",
              "                          perp_tol=0.1, random_state=42, topic_word_prior=None,\n",
              "                          total_samples=1000000.0, verbose=0)"
            ]
          },
          "metadata": {
            "tags": []
          },
          "execution_count": 158
        }
      ]
    },
    {
      "cell_type": "code",
      "metadata": {
        "id": "HZWB5bKXrgY_",
        "outputId": "b0d16f8e-8cc6-41d6-ae32-c2f6893becb7",
        "colab": {
          "base_uri": "https://localhost:8080/",
          "height": 34
        }
      },
      "source": [
        "LDA.components_.shape #4 topics with probabilities of 766 words across each topic"
      ],
      "execution_count": 159,
      "outputs": [
        {
          "output_type": "execute_result",
          "data": {
            "text/plain": [
              "(6, 766)"
            ]
          },
          "metadata": {
            "tags": []
          },
          "execution_count": 159
        }
      ]
    },
    {
      "cell_type": "code",
      "metadata": {
        "id": "tSLAe_Rorf-h",
        "outputId": "3f31e646-ec31-4e4b-fbed-0465f422e68f",
        "colab": {
          "base_uri": "https://localhost:8080/",
          "height": 218
        }
      },
      "source": [
        "LDA.components_"
      ],
      "execution_count": 160,
      "outputs": [
        {
          "output_type": "execute_result",
          "data": {
            "text/plain": [
              "array([[0.16666922, 0.16666922, 0.16666893, ..., 0.16666915, 0.16667086,\n",
              "        0.29468861],\n",
              "       [0.16666915, 0.16666915, 0.16666888, ..., 0.16666908, 0.16667076,\n",
              "        0.16666968],\n",
              "       [0.16666911, 0.16666911, 0.16666884, ..., 0.16666904, 0.16667069,\n",
              "        0.16666962],\n",
              "       [0.19747075, 0.19747075, 0.16666871, ..., 0.22828778, 0.20355661,\n",
              "        0.16666945],\n",
              "       [0.16666932, 0.16666932, 0.16666902, ..., 0.16666925, 0.16667103,\n",
              "        0.16666987],\n",
              "       [0.16666913, 0.16666913, 0.19546318, ..., 0.16666906, 0.16667071,\n",
              "        0.16666964]])"
            ]
          },
          "metadata": {
            "tags": []
          },
          "execution_count": 160
        }
      ]
    },
    {
      "cell_type": "code",
      "metadata": {
        "id": "SBBOb_XDhLLx",
        "outputId": "15323ed1-5c1e-400e-a4fa-9ad74f926cd6",
        "colab": {
          "base_uri": "https://localhost:8080/",
          "height": 420
        }
      },
      "source": [
        "for index, topic in enumerate(LDA.components_):\n",
        "  print(f'Top 15 words for Topic : {index}')\n",
        "  print([tf_idf.get_feature_names()[i] for i in topic.argsort()[-15:]])\n",
        "  print('\\n')"
      ],
      "execution_count": 161,
      "outputs": [
        {
          "output_type": "stream",
          "text": [
            "Top 15 words for Topic : 0\n",
            "['helped', 'imprisoned', 'maintain', 'meetings', 'phase', 'prepare', 'quarrel', 'remarried', 'severe', 'teams', 'grandsons', 'ca', 'sons', 'canadian', 'grandparents']\n",
            "\n",
            "\n",
            "Top 15 words for Topic : 1\n",
            "['netherlands', 'jose', 'actually', 'mariel', 'sure', 'search', 'possibly', 'orphanage', 'cpa', 'lot', 'unhcr', 'mexico', 'usa', 'javier', 'amira']\n",
            "\n",
            "\n",
            "Top 15 words for Topic : 2\n",
            "['returned', 'koranic', 'masters', '2020', 'assigned', 'bissau', 'coran', 'guinea', 'communities', 'level', 'senegal', 'partner', 'nadia', 'wa', 'anas']\n",
            "\n",
            "\n",
            "Top 15 words for Topic : 3\n",
            "['denial', 'rendered', 'referred', 'quite', 'grandchildren', 'efforts', 'grandmother', 'turkey', 'sara', 'aunt', 'loay', 'megan', 'leila', 'ali', 'sd']\n",
            "\n",
            "\n",
            "Top 15 words for Topic : 4\n",
            "['assi', 'assisted', 'use', 'making', 'enquire', 'reached', 'rapidly', 'began', 'noted', 'border', 'leaving', 'thorough', 'determine', 'deteriorated', 'permanently']\n",
            "\n",
            "\n",
            "Top 15 words for Topic : 5\n",
            "['uk', 'terrori', 'event', 'accommodation', 'suitability', 'located', 'jerry', 'maya', 'including', 'areas', 'known', 'holiday', 'carers', 'carol', 'naji']\n",
            "\n",
            "\n"
          ],
          "name": "stdout"
        }
      ]
    },
    {
      "cell_type": "code",
      "metadata": {
        "id": "4piQQlKPe2uq"
      },
      "source": [
        "topics = LDA.transform(tf_idf_matrix)"
      ],
      "execution_count": 162,
      "outputs": []
    },
    {
      "cell_type": "code",
      "metadata": {
        "id": "FM_zPaoxe28N",
        "outputId": "28ed809e-ef08-4674-a0d9-0ad371bc1ed9",
        "colab": {
          "base_uri": "https://localhost:8080/",
          "height": 34
        }
      },
      "source": [
        "topics.shape"
      ],
      "execution_count": 163,
      "outputs": [
        {
          "output_type": "execute_result",
          "data": {
            "text/plain": [
              "(9, 6)"
            ]
          },
          "metadata": {
            "tags": []
          },
          "execution_count": 163
        }
      ]
    },
    {
      "cell_type": "code",
      "metadata": {
        "id": "uOLB0QPNe22A"
      },
      "source": [
        "iss['Topic'] = topics.argmax(axis = 1)"
      ],
      "execution_count": 164,
      "outputs": []
    },
    {
      "cell_type": "code",
      "metadata": {
        "id": "XA13yqBQe2na",
        "outputId": "a1b19ccc-0640-4e3e-c926-6bc936d8bf8f",
        "colab": {
          "base_uri": "https://localhost:8080/",
          "height": 465
        }
      },
      "source": [
        "iss"
      ],
      "execution_count": 165,
      "outputs": [
        {
          "output_type": "execute_result",
          "data": {
            "text/html": [
              "<div>\n",
              "<style scoped>\n",
              "    .dataframe tbody tr th:only-of-type {\n",
              "        vertical-align: middle;\n",
              "    }\n",
              "\n",
              "    .dataframe tbody tr th {\n",
              "        vertical-align: top;\n",
              "    }\n",
              "\n",
              "    .dataframe thead th {\n",
              "        text-align: right;\n",
              "    }\n",
              "</style>\n",
              "<table border=\"1\" class=\"dataframe\">\n",
              "  <thead>\n",
              "    <tr style=\"text-align: right;\">\n",
              "      <th></th>\n",
              "      <th>Sno</th>\n",
              "      <th>clean_details</th>\n",
              "      <th>Topic</th>\n",
              "    </tr>\n",
              "  </thead>\n",
              "  <tbody>\n",
              "    <tr>\n",
              "      <th>0</th>\n",
              "      <td>1</td>\n",
              "      <td>on behalf of ms amira i would like to ask for your cooperation in tracing her biological mother and perhaps other family members the biological mother possibly moved to canada according to information the unhcr received however we cannot be sure and as there is not a lot of information about mother we would like to search for the biological mother in lebanon the ngo already tried to find the b...</td>\n",
              "      <td>1</td>\n",
              "    </tr>\n",
              "    <tr>\n",
              "      <th>1</th>\n",
              "      <td>2</td>\n",
              "      <td>the following information has been supplied by the youth welfare office in berlin the social worker who made the child welfare alert has been responsible for the family since 2014 the father of lara and fadi comes from lebanon and was deported back to his country in 2017 he had been massively consuming hero ine for many years the mother had been addicted as well since she was 14 years old she ...</td>\n",
              "      <td>3</td>\n",
              "    </tr>\n",
              "    <tr>\n",
              "      <th>2</th>\n",
              "      <td>3</td>\n",
              "      <td>i hope you all are well and sane in these challenging times i kindly ask you for your support in the case of anas dob 30062004 unfortunately i have only few information about the case the mother nadia and anaslive in syria contact mobile the father lives still in hamburg the family lived before together in hamburg then the parents got divorced then mother and child left to syria in 2009 the fa...</td>\n",
              "      <td>2</td>\n",
              "    </tr>\n",
              "    <tr>\n",
              "      <th>3</th>\n",
              "      <td>4</td>\n",
              "      <td>the child protection office in beirut lebanon requests iss assistance regarding a 6 year old syrian child currently living in germany in order to facilitate the re establishment of contact between her and her father who is in lebanon to ensure a possible reunification and also provide a social report on the family situation mr ali and mrs leila syrian nationals got married in 2010 6 months bef...</td>\n",
              "      <td>3</td>\n",
              "    </tr>\n",
              "    <tr>\n",
              "      <th>4</th>\n",
              "      <td>5</td>\n",
              "      <td>i am writing from children and families across borders uk to reque your assistance on this case it involves two children who are placed with foster carers in the uk the foster carers travel to lebanon frequently and would like to take the children with them for a holiday as the children are in foster care children services in bromley have parental responsibility for them and have to ensure tha...</td>\n",
              "      <td>5</td>\n",
              "    </tr>\n",
              "    <tr>\n",
              "      <th>5</th>\n",
              "      <td>6</td>\n",
              "      <td>ms sd a german national contacted iss germany looking for her father she had never met and who she believed lived in egypt iss germany referred the case to iss in cairo to start tracing sd father the father having moved several times over the period rendered tracing him quite difficult however social workers finally found the father but had to deal with his strong denial about his alleged daug...</td>\n",
              "      <td>3</td>\n",
              "    </tr>\n",
              "    <tr>\n",
              "      <th>6</th>\n",
              "      <td>7</td>\n",
              "      <td>jose was deported from the usa to his homeland in mexico leaving behind his wife mariel and their son javier mariel health deteriorated rapidly as she began to use drugs and by the time javier turned 5 years old he had been removed from his mother care permanently and placed in foster care the usa child protection authority cpa noted that javier had irregular but positive contacts with his fat...</td>\n",
              "      <td>1</td>\n",
              "    </tr>\n",
              "    <tr>\n",
              "      <th>7</th>\n",
              "      <td>8</td>\n",
              "      <td>karim 6 and ziad 8 are the sons of two divorced lebanese nationals the father remarried a lebanese woman who also had a canadian passport and the four of them went to live in canada following a severe quarrel between the father and his wife the father was imprisoned and the children were placed in foster care by the canadian central authorities ca the father asked for the return of his sons to...</td>\n",
              "      <td>0</td>\n",
              "    </tr>\n",
              "    <tr>\n",
              "      <th>8</th>\n",
              "      <td>9</td>\n",
              "      <td>children from guinea bissau who under the pretext of being drought by koranic masters to learn the coran in senegal were found by iss we africa wa in the streets in appalling conditions begging for alms iss wa partner in senegal provided the necessary fir level of care which included food clothing and heath care the children were returned in safety to guinea bissau where they handed over to th...</td>\n",
              "      <td>2</td>\n",
              "    </tr>\n",
              "  </tbody>\n",
              "</table>\n",
              "</div>"
            ],
            "text/plain": [
              "   Sno  ... Topic\n",
              "0    1  ...     1\n",
              "1    2  ...     3\n",
              "2    3  ...     2\n",
              "3    4  ...     3\n",
              "4    5  ...     5\n",
              "5    6  ...     3\n",
              "6    7  ...     1\n",
              "7    8  ...     0\n",
              "8    9  ...     2\n",
              "\n",
              "[9 rows x 3 columns]"
            ]
          },
          "metadata": {
            "tags": []
          },
          "execution_count": 165
        }
      ]
    }
  ]
}