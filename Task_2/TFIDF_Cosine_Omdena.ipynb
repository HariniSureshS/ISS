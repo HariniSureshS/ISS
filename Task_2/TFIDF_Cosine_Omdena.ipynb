{
  "nbformat": 4,
  "nbformat_minor": 0,
  "metadata": {
    "colab": {
      "name": "TFIDF Cosine -Omdena",
      "provenance": [],
      "collapsed_sections": [
        "idk6KaeZZ998"
      ],
      "toc_visible": true
    },
    "kernelspec": {
      "name": "python3",
      "display_name": "Python 3"
    }
  },
  "cells": [
    {
      "cell_type": "markdown",
      "metadata": {
        "id": "SC_Cbe1-sfEi"
      },
      "source": [
        "**Imported Libraries**"
      ]
    },
    {
      "cell_type": "code",
      "metadata": {
        "id": "aRRR7t9dB03h"
      },
      "source": [
        "from sklearn.feature_extraction.text import TfidfVectorizer\n",
        "import pandas as pd\n",
        "import string\n",
        "from gensim.parsing.preprocessing import remove_stopwords\n",
        "import matplotlib.pylab as plt\n",
        "import scipy.sparse as sparse\n",
        "from sklearn.metrics.pairwise import cosine_similarity\n",
        "from sklearn.cluster import KMeans\n",
        "import numpy as np"
      ],
      "execution_count": null,
      "outputs": []
    },
    {
      "cell_type": "markdown",
      "metadata": {
        "id": "hNCnXu6Nqntp"
      },
      "source": [
        "**Case Stories**"
      ]
    },
    {
      "cell_type": "markdown",
      "metadata": {
        "id": "zUOtdc1xpE4Z"
      },
      "source": [
        "https://docs.google.com/spreadsheets/d/1lwCBkdWXodfrNLjVWqiROqkDpn6OiIky7nwZGgtgXyk/edit#gid=0"
      ]
    },
    {
      "cell_type": "markdown",
      "metadata": {
        "id": "-y0sgG3bqvPZ"
      },
      "source": [
        "**Case Referral Docs**"
      ]
    },
    {
      "cell_type": "markdown",
      "metadata": {
        "id": "Lcbv-lZQq0vP"
      },
      "source": [
        "[Sheet Used as Data in csv format](https://docs.google.com/spreadsheets/d/1cASt5wZROqFT_9kVZk8Ie5YD0E4GRzQlMkglqB2j5h4/edit?usp=sharing)"
      ]
    },
    {
      "cell_type": "markdown",
      "metadata": {
        "id": "qFT8w7ExsmZn"
      },
      "source": [
        "### Minimal Preprocessing"
      ]
    },
    {
      "cell_type": "markdown",
      "metadata": {
        "id": "2dT389cn5HdG"
      },
      "source": [
        "**Helpful preprocessing from Funke's imptl**"
      ]
    },
    {
      "cell_type": "code",
      "metadata": {
        "id": "G2AFo9MG5D00"
      },
      "source": [
        "# Contraction Mapping\n",
        "\n",
        "!pip install contractions\n",
        "import contractions\n",
        "\n",
        "# Applying contraction mapping -Expand Contractions\n",
        "\n",
        "background_df['Background information'] = background_df['Background information'].apply(lambda x: [contractions.fix(word) for word in x.split()])\n",
        "background_df"
      ],
      "execution_count": null,
      "outputs": []
    },
    {
      "cell_type": "markdown",
      "metadata": {
        "id": "sYh2nYCQ5Mpp"
      },
      "source": [
        "**Actual Preprocessing**"
      ]
    },
    {
      "cell_type": "code",
      "metadata": {
        "id": "AqzFfGBeDIDa"
      },
      "source": [
        "df = pd.read_csv('Compiled Cases -Project ISS - Sheet1.csv')\n",
        "\n",
        "# str.maketrans(concatenated string of old, conc string of new, conc string to remove)\n",
        "# You can also pass a dictionary instead of three strings\n",
        "df['Case'] = df['Case'].map(\n",
        "    lambda x: x.translate(str.maketrans('', '', string.punctuation)))\n",
        "\n",
        "# background_df['Background information'] = background_df['Background information'].str.lower()\n",
        "\n",
        "df['Case'] = df['Case'].map(\n",
        "    lambda x: x.lower())\n",
        "\n",
        "df['Case'] = df['Case'].map(\n",
        "    lambda x: remove_stopwords(x))\n",
        "\n",
        "doc_series = df['Case']\n",
        "# for i in doc_series:\n",
        "\n",
        "\n",
        "vectorizer = TfidfVectorizer()\n",
        "# document-term matrix of size (documents, words)\n",
        "response = vectorizer.fit_transform(doc_series)\n",
        "print(response)\n",
        "# response\n"
      ],
      "execution_count": null,
      "outputs": []
    },
    {
      "cell_type": "code",
      "metadata": {
        "id": "G79oFfvJ9VB5"
      },
      "source": [
        "vectorizer.get_feature_names()"
      ],
      "execution_count": null,
      "outputs": []
    },
    {
      "cell_type": "code",
      "metadata": {
        "id": "qDnGJdp-5TDk",
        "outputId": "a1df93fd-9c44-46e7-d5cb-9ad13e1ab01b",
        "colab": {
          "base_uri": "https://localhost:8080/"
        }
      },
      "source": [
        "response.shape"
      ],
      "execution_count": null,
      "outputs": [
        {
          "output_type": "execute_result",
          "data": {
            "text/plain": [
              "(205, 6134)"
            ]
          },
          "metadata": {
            "tags": []
          },
          "execution_count": 6
        }
      ]
    },
    {
      "cell_type": "markdown",
      "metadata": {
        "id": "c38hlS75sxfz"
      },
      "source": [
        "**Visualization of Document-term Matrix**"
      ]
    },
    {
      "cell_type": "code",
      "metadata": {
        "id": "cXwh7zLCMWCA"
      },
      "source": [
        "# visualize the sparse matrix with Spy\n",
        "# find a way to show different shades of a color for each value\n",
        "# plt.spy(response, aspect='auto')\n",
        "plt.spy(response, aspect='auto', cmap=plt.cm.Spectral)"
      ],
      "execution_count": null,
      "outputs": []
    },
    {
      "cell_type": "code",
      "metadata": {
        "id": "_QtHTwr5IJo2",
        "outputId": "a1a191c1-1261-4287-9b6e-d93149558a79",
        "colab": {
          "base_uri": "https://localhost:8080/",
          "height": 36
        }
      },
      "source": [
        "vectorizer.get_feature_names()[383]\n",
        "# vectorizer.get_feature_names()"
      ],
      "execution_count": null,
      "outputs": [
        {
          "output_type": "execute_result",
          "data": {
            "application/vnd.google.colaboratory.intrinsic+json": {
              "type": "string"
            },
            "text/plain": [
              "'actingas'"
            ]
          },
          "metadata": {
            "tags": []
          },
          "execution_count": 4
        }
      ]
    },
    {
      "cell_type": "code",
      "metadata": {
        "id": "-UN9eP9DLM2T",
        "outputId": "a2c7112f-9206-4b90-889b-e765a732d90d",
        "colab": {
          "base_uri": "https://localhost:8080/"
        }
      },
      "source": [
        "response[4, 383]\n",
        "response[4,]"
      ],
      "execution_count": null,
      "outputs": [
        {
          "output_type": "execute_result",
          "data": {
            "text/plain": [
              "<1x767 sparse matrix of type '<class 'numpy.float64'>'\n",
              "\twith 221 stored elements in Compressed Sparse Row format>"
            ]
          },
          "metadata": {
            "tags": []
          },
          "execution_count": 56
        }
      ]
    },
    {
      "cell_type": "markdown",
      "metadata": {
        "id": "idk6KaeZZ998"
      },
      "source": [
        "### Cosine Similarity of Documents"
      ]
    },
    {
      "cell_type": "code",
      "metadata": {
        "id": "2h1O5eLPZjpy",
        "outputId": "9cca9aa9-9087-44d7-8a25-e4b65fa3148a",
        "colab": {
          "base_uri": "https://localhost:8080/"
        }
      },
      "source": [
        "cosine_similarity(response[4,], response[3,])\n",
        "# Out[4]: array([[0.7498213]])"
      ],
      "execution_count": null,
      "outputs": [
        {
          "output_type": "execute_result",
          "data": {
            "text/plain": [
              "array([[0.27125136]])"
            ]
          },
          "metadata": {
            "tags": []
          },
          "execution_count": 5
        }
      ]
    },
    {
      "cell_type": "markdown",
      "metadata": {
        "id": "jbjld0ad57e8"
      },
      "source": [
        "Based on this [colab notebook](https://colab.research.google.com/github/varun21290/medium/blob/master/Document_Similarities.ipynb#scrollTo=nayjN8Vrodod)"
      ]
    },
    {
      "cell_type": "markdown",
      "metadata": {
        "id": "Ivgh_Z675bTw"
      },
      "source": [
        "**Just a cool function I saw online haha**"
      ]
    },
    {
      "cell_type": "code",
      "metadata": {
        "id": "Yi5HcVp356Cw"
      },
      "source": [
        "def most_similar(doc_id,similarity_matrix,matrix):\n",
        "    print (f'Document: {documents_df.iloc[doc_id][\"documents\"]}')\n",
        "    print ('\\n')\n",
        "    print (f'Similar Documents using {matrix}:')\n",
        "    if matrix=='Cosine Similarity':\n",
        "        similar_ix=np.argsort(similarity_matrix[doc_id])[::-1]\n",
        "    elif matrix=='Euclidean Distance':\n",
        "        similar_ix=np.argsort(similarity_matrix[doc_id])\n",
        "    for ix in similar_ix:\n",
        "        if ix==doc_id:\n",
        "            continue\n",
        "        print('\\n')\n",
        "        print (f'Document: {documents_df.iloc[ix][\"documents\"]}')\n",
        "        print (f'{matrix} : {similarity_matrix[doc_id][ix]}')"
      ],
      "execution_count": null,
      "outputs": []
    },
    {
      "cell_type": "code",
      "metadata": {
        "id": "EL1qoqovIDPe"
      },
      "source": [
        "?TfidfVectorizer.*"
      ],
      "execution_count": null,
      "outputs": []
    },
    {
      "cell_type": "markdown",
      "metadata": {
        "id": "2m5Q0Os33oEo"
      },
      "source": [
        "### K-Means on all Case Stories"
      ]
    },
    {
      "cell_type": "markdown",
      "metadata": {
        "id": "P6UxrzRA3175"
      },
      "source": [
        "**Implementation based on this [article](http://brandonrose.org/clustering?ref=dzone)**"
      ]
    },
    {
      "cell_type": "code",
      "metadata": {
        "id": "aFgD6Cou3tg2",
        "outputId": "36e48f5f-c3c9-4ad6-92f9-7475a72acdf5",
        "colab": {
          "base_uri": "https://localhost:8080/"
        }
      },
      "source": [
        "from sklearn.cluster import KMeans\n",
        "\n",
        "num_clusters = 5\n",
        "\n",
        "km = KMeans(n_clusters=num_clusters)\n",
        "\n",
        "%time km.fit(response)\n",
        "\n",
        "clusters = km.labels_.tolist()"
      ],
      "execution_count": null,
      "outputs": [
        {
          "output_type": "stream",
          "text": [
            "CPU times: user 2.8 s, sys: 1.97 s, total: 4.78 s\n",
            "Wall time: 2.45 s\n"
          ],
          "name": "stdout"
        }
      ]
    },
    {
      "cell_type": "code",
      "metadata": {
        "id": "TcZwvHQG6h3X",
        "outputId": "0bcb6ee4-551f-4cd8-abf8-3587ddf9171f",
        "colab": {
          "base_uri": "https://localhost:8080/"
        }
      },
      "source": [
        "len(clusters)"
      ],
      "execution_count": null,
      "outputs": [
        {
          "output_type": "execute_result",
          "data": {
            "text/plain": [
              "205"
            ]
          },
          "metadata": {
            "tags": []
          },
          "execution_count": 10
        }
      ]
    },
    {
      "cell_type": "code",
      "metadata": {
        "id": "qTJYlrfY3usO"
      },
      "source": [
        "\n",
        "\n",
        "from sklearn.externals import joblib\n",
        "\n",
        "#uncomment the below to save your model \n",
        "#since I've already run my model I am loading from the pickle\n",
        "\n",
        "# joblib.dump(km,  'doc_cluster.pkl')\n",
        "\n",
        "km = joblib.load('doc_cluster.pkl')\n",
        "clusters = km.labels_.tolist()\n",
        "\n"
      ],
      "execution_count": null,
      "outputs": []
    },
    {
      "cell_type": "code",
      "metadata": {
        "id": "KHrbVAyY31Lu"
      },
      "source": [
        "cases = { 'id': df.ID, 'Case': df.Case, 'cluster': clusters}\n",
        "\n",
        "frame = pd.DataFrame(cases , columns = ['ID', 'Case', 'cluster'])"
      ],
      "execution_count": null,
      "outputs": []
    },
    {
      "cell_type": "code",
      "metadata": {
        "id": "TZuaD3Gz4ESC",
        "outputId": "cecafc52-0e3f-4314-9ff7-af92fbaba4bd",
        "colab": {
          "base_uri": "https://localhost:8080/"
        }
      },
      "source": [
        "frame['cluster'].value_counts()"
      ],
      "execution_count": null,
      "outputs": [
        {
          "output_type": "execute_result",
          "data": {
            "text/plain": [
              "4    80\n",
              "0    57\n",
              "1    33\n",
              "2    25\n",
              "3    10\n",
              "Name: cluster, dtype: int64"
            ]
          },
          "metadata": {
            "tags": []
          },
          "execution_count": 14
        }
      ]
    },
    {
      "cell_type": "code",
      "metadata": {
        "id": "UBhVjd-WACZx",
        "outputId": "fab6c4a1-18e0-4527-db12-24446bb0098c",
        "colab": {
          "base_uri": "https://localhost:8080/",
          "height": 36
        }
      },
      "source": [
        "my_map = vectorizer.vocabulary_\n",
        "inv_map = {v: k for k, v in my_map.items()}\n",
        "inv_map"
      ],
      "execution_count": null,
      "outputs": [
        {
          "output_type": "execute_result",
          "data": {
            "application/vnd.google.colaboratory.intrinsic+json": {
              "type": "string"
            },
            "text/plain": [
              "'brighter'"
            ]
          },
          "metadata": {
            "tags": []
          },
          "execution_count": 47
        }
      ]
    },
    {
      "cell_type": "code",
      "metadata": {
        "id": "odG83diECWhG"
      },
      "source": [
        "# vectorizer.get_feature_names()"
      ],
      "execution_count": null,
      "outputs": []
    },
    {
      "cell_type": "code",
      "metadata": {
        "id": "AWckDPGG8kAX"
      },
      "source": [
        "# vocab_list = [ inv_map[int(x)] for x in vectorizer.get_feature_names()]\n",
        "vocab_frame = pd.Series({'word':vectorizer.get_feature_names()})"
      ],
      "execution_count": null,
      "outputs": []
    },
    {
      "cell_type": "code",
      "metadata": {
        "id": "ItiQFtiT_Vj8"
      },
      "source": [
        "vocab_frame.head()\n",
        "vocab = vectorizer.vocabulary_\n",
        "word_list = vectorizer.get_feature_names()"
      ],
      "execution_count": null,
      "outputs": []
    },
    {
      "cell_type": "code",
      "metadata": {
        "id": "NwAwrwJp4RX8",
        "outputId": "34a16e24-7a94-4c5c-fd14-9f22763738c1",
        "colab": {
          "base_uri": "https://localhost:8080/"
        }
      },
      "source": [
        "from __future__ import print_function\n",
        "\n",
        "print(\"Top terms per cluster:\")\n",
        "print()\n",
        "#sort cluster centers by proximity to centroid\n",
        "order_centroids = km.cluster_centers_.argsort()[:, ::-1] \n",
        "\n",
        "for i in range(num_clusters):\n",
        "    print(\"Cluster %d words:\" % i, end='')\n",
        "    \n",
        "    for ind in order_centroids[i, :10]: #replace 6 with n words per cluster\n",
        "        # print(' %s' % vocab_frame.ix[terms[ind].split(' ')].values.tolist()[0][0].encode('utf-8', 'ignore'), end=',')\n",
        "        print(word_list[ind], end=',')\n",
        "    print() #add whitespace\n",
        "    print() #add whitespace\n",
        "    '''\n",
        "    print(\"Cluster %d titles:\" % i, end='')\n",
        "    for title in frame.ix[i]['title'].values.tolist():\n",
        "        print(' %s,' % title, end='')\n",
        "    print() #add whitespace\n",
        "    print() #add whitespace\n",
        "    '''"
      ],
      "execution_count": null,
      "outputs": [
        {
          "output_type": "stream",
          "text": [
            "Top terms per cluster:\n",
            "\n",
            "Cluster 0 words:client,abuse,claim,school,higgins,council,sexual,compensation,church,abused,\n",
            "\n",
            "Cluster 1 words:scout,abuse,claim,mr,clients,association,suffered,group,years,kemp,\n",
            "\n",
            "Cluster 2 words:afghanistan,journey,uncle,iran,boys,taliban,smuggler,country,norway,family,\n",
            "\n",
            "Cluster 3 words:iss,javier,germany,care,grandparents,father,usa,mexico,sophia,rudolf,\n",
            "\n",
            "Cluster 4 words:mother,children,child,family,care,home,father,baby,social,school,\n",
            "\n",
            "\n",
            "\n"
          ],
          "name": "stdout"
        }
      ]
    },
    {
      "cell_type": "markdown",
      "metadata": {
        "id": "AIkkhquNE__y"
      },
      "source": [
        "**We can do ward clustering (agglomerative using cosine matrix then dendogram) using scipy as well**"
      ]
    },
    {
      "cell_type": "markdown",
      "metadata": {
        "id": "kDDNaLLE4ZoO"
      },
      "source": [
        "### Visualizing the Clusters"
      ]
    },
    {
      "cell_type": "markdown",
      "metadata": {
        "id": "nkT4kNDqEjn9"
      },
      "source": [
        "**from Funke's imptl**"
      ]
    },
    {
      "cell_type": "code",
      "metadata": {
        "id": "UAFh4R-O4ec4"
      },
      "source": [
        "from sklearn.manifold import TSNE\n",
        "\n",
        "tsne = TSNE(n_components=2, random_state=0, n_iter=5000, perplexity=3)\n",
        "np.set_printoptions(suppress=True)\n",
        "# i think Funke used a glove word representation and not a tfidf\n",
        "T = tsne.fit_transform(response)\n",
        "# labels = unique_words\n",
        "labels = word_list\n",
        "\n",
        "plt.figure(figsize=(30, 20))\n",
        "plt.scatter(T[:, 0], T[:, 1], c='blue', edgecolors='b')\n",
        "for label, x, y in zip(labels, T[:, 0], T[:, 1]):\n",
        "    plt.annotate(label, xy=(x+1, y+1), xytext=(0, 0), textcoords='offset points')"
      ],
      "execution_count": null,
      "outputs": []
    },
    {
      "cell_type": "markdown",
      "metadata": {
        "id": "-1mRILHjEmLC"
      },
      "source": [
        "**Implementation based on this [article](http://brandonrose.org/clustering?ref=dzone)**"
      ]
    },
    {
      "cell_type": "code",
      "metadata": {
        "id": "yeuBTopBJK6L"
      },
      "source": [
        "dist = 1 - cosine_similarity(response)"
      ],
      "execution_count": null,
      "outputs": []
    },
    {
      "cell_type": "code",
      "metadata": {
        "id": "Zlgy1ppWHpMj",
        "outputId": "71b27c0a-7905-4f7a-9cd9-1b694f9e3301",
        "colab": {
          "base_uri": "https://localhost:8080/"
        }
      },
      "source": [
        "\n",
        "\n",
        "import os  # for os.path.basename\n",
        "\n",
        "import matplotlib.pyplot as plt\n",
        "import matplotlib as mpl\n",
        "\n",
        "from sklearn.manifold import MDS\n",
        "\n",
        "MDS()\n",
        "\n",
        "# convert two components as we're plotting points in a two-dimensional plane\n",
        "# \"precomputed\" because we provide a distance matrix\n",
        "# we will also specify `random_state` so the plot is reproducible.\n",
        "mds = MDS(n_components=2, dissimilarity=\"precomputed\", random_state=1)\n",
        "\n",
        "pos = mds.fit_transform(dist)  # shape (n_components, n_samples)\n",
        "\n",
        "xs, ys = pos[:, 0], pos[:, 1]\n",
        "print()\n",
        "print()\n",
        "\n"
      ],
      "execution_count": null,
      "outputs": [
        {
          "output_type": "stream",
          "text": [
            "\n",
            "\n"
          ],
          "name": "stdout"
        }
      ]
    },
    {
      "cell_type": "code",
      "metadata": {
        "id": "cMKG-NDaEw8h"
      },
      "source": [
        "#set up colors per clusters using a dict\n",
        "cluster_colors = {0: '#1b9e77', 1: '#d95f02', 2: '#7570b3', 3: '#e7298a', 4: '#66a61e'}\n",
        "\n",
        "#set up cluster names using a dict\n",
        "cluster_names = {0: 'client, abuse, claim', \n",
        "                 1: 'scout, abuse, claim', \n",
        "                 2: 'afghanistan, journey, uncle, iran, boys', \n",
        "                 3: 'iss, javier, germany, care', \n",
        "                 4: 'mother, children, child, family'}"
      ],
      "execution_count": null,
      "outputs": []
    },
    {
      "cell_type": "markdown",
      "metadata": {
        "id": "Vc_l1HvJLAk8"
      },
      "source": [
        "UPDATE: This is not yet how I want it to work"
      ]
    },
    {
      "cell_type": "code",
      "metadata": {
        "id": "cI2l-5EA7Zxm",
        "outputId": "99e75ede-4d71-4e68-91ae-6f04231ac80c",
        "colab": {
          "base_uri": "https://localhost:8080/",
          "height": 541
        }
      },
      "source": [
        "#some ipython magic to show the matplotlib plots inline\n",
        "%matplotlib inline \n",
        "\n",
        "#create data frame that has the result of the MDS plus the cluster numbers and titles\n",
        "# df = pd.DataFrame(dict(x=xs, y=ys, label=clusters, title=titles))\n",
        "df_1 = pd.DataFrame(dict(x=xs, y=ys, label=clusters, title=df.ID))\n",
        "\n",
        "#group by cluster\n",
        "groups = df_1.groupby('label')\n",
        "\n",
        "\n",
        "# set up plot\n",
        "fig, ax = plt.subplots(figsize=(17, 9)) # set size\n",
        "ax.margins(0.05) # Optional, just adds 5% padding to the autoscaling\n",
        "\n",
        "#iterate through groups to layer the plot\n",
        "#note that I use the cluster_name and cluster_color dicts with the 'name' lookup to return the appropriate color/label\n",
        "for name, group in groups:\n",
        "    ax.plot(group.x, group.y, marker='o', linestyle='', ms=12, \n",
        "            label=cluster_names[name], color=cluster_colors[name], \n",
        "            mec='none')\n",
        "    ax.set_aspect('auto')\n",
        "    ax.tick_params(\\\n",
        "        axis= 'x',          # changes apply to the x-axis\n",
        "        which='both',      # both major and minor ticks are affected\n",
        "        bottom='off',      # ticks along the bottom edge are off\n",
        "        top='off',         # ticks along the top edge are off\n",
        "        labelbottom='off')\n",
        "    ax.tick_params(\\\n",
        "        axis= 'y',         # changes apply to the y-axis\n",
        "        which='both',      # both major and minor ticks are affected\n",
        "        left='off',      # ticks along the bottom edge are off\n",
        "        top='off',         # ticks along the top edge are off\n",
        "        labelleft='off')\n",
        "    \n",
        "ax.legend(numpoints=1)  #show legend with only 1 point\n",
        "\n",
        "\n",
        "#add label in x,y position with the label as the film title\n",
        "for i in range(len(df)):\n",
        "    ax.text(df_1.loc[i]['x'], df_1.loc[i]['y'], df_1.loc[i]['title'], size=8)  \n",
        "\n",
        "    \n",
        "    \n",
        "plt.show() #show the plot\n",
        "\n",
        "#uncomment the below to save the plot if need be\n",
        "#plt.savefig('clusters_small_noaxes.png', dpi=200)"
      ],
      "execution_count": null,
      "outputs": [
        {
          "output_type": "display_data",
          "data": {
            "image/png": "[encoded data removed]",
            "text/plain": [
              "<Figure size 1224x648 with 1 Axes>"
            ]
          },
          "metadata": {
            "tags": [],
            "needs_background": "light"
          }
        }
      ]
    },
    {
      "cell_type": "markdown",
      "metadata": {
        "id": "RQv4kOuvoFt6"
      },
      "source": [
        "### Legal-Bert Test"
      ]
    },
    {
      "cell_type": "code",
      "metadata": {
        "id": "VHnzk69_oJMl"
      },
      "source": [
        ""
      ],
      "execution_count": null,
      "outputs": []
    }
  ]
}