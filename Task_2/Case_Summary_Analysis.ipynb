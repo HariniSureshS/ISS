{
  "nbformat": 4,
  "nbformat_minor": 0,
  "metadata": {
    "colab": {
      "name": "Case_Summary_Analysis.ipynb",
      "provenance": []
    },
    "kernelspec": {
      "name": "python3",
      "display_name": "Python 3"
    }
  },
  "cells": [
    {
      "cell_type": "code",
      "metadata": {
        "id": "kswnDUTVqhdt"
      },
      "source": [
        "import docx2txt\n",
        "\n",
        "# read in word file\n",
        "result = docx2txt.process(\"sample_data/E1 Case Summary UK to himaya.docx\")"
      ],
      "execution_count": 25,
      "outputs": []
    },
    {
      "cell_type": "code",
      "metadata": {
        "id": "Dwlm8BVqumsp",
        "outputId": "5abc9fad-e433-4293-fb5d-2b4150d53b98",
        "colab": {
          "base_uri": "https://localhost:8080/",
          "height": 137
        }
      },
      "source": [
        "result"
      ],
      "execution_count": 26,
      "outputs": [
        {
          "output_type": "execute_result",
          "data": {
            "application/vnd.google.colaboratory.intrinsic+json": {
              "type": "string"
            },
            "text/plain": [
              "'CFAB031108\\n\\n\\n\\nHimaya\\n\\nMansourieh Gate Center, Block B,\\n\\n2nd Floor, Mansourieh, Lebanon\\n\\n\\n\\nBy email info@himaya.org\\n\\nrosehabchidaher@gmail.com\\n\\n\\n\\n\\n\\nMonday, February 11, 2019 Dear Rose,\\n\\nRE: Carol (DOB: 29/08/2011) and Fadi (DOB: 19/08/2010)\\n\\n\\n\\nI am writing from Children and Families Across Borders, UK, to request your assistance on this case. It involves two children who are placed with foster carers in the UK. The foster carers travel to Lebanon frequently and would like to take the children with them for a holiday. As the children are in foster care, Children’s Services in Bromley have parental responsibility for them and have to ensure that the children are safe at all times. Therefore, they are asking for you cooperation to visit a family friend who will be accommodating the children and their foster carers while they are on holiday in Lebanon, and provide information regarding the suitability of the accommodation, the holiday activities and the plans in place to keep the children safe at all times.\\n\\n\\n\\nPlease find further details in the case note below.\\n\\n\\n\\nI remain at your disposal for further information – please confirm that you have received  this referral as soon as possible.\\n\\n\\n\\nKind Regards,\\n\\n\\n\\n\\n\\n\\n\\n\\n\\nMaria Sînziana Danciu Intercountry Caseworker\\n\\nChildren and Families Across Borders maria@cfab.org.uk\\n\\n\\n\\n\\n\\nCASE NOTE\\n\\n\\n\\nChildren concerned x 2 (in the United Kingdom)\\n\\n\\n\\n\\tSurname:\\t\\n\\n\\tFirst name:\\tCarol\\n\\n\\t\\tGender:\\t\\tFemale Date of Birth:\\t2011 Current Address: London\\n\\n\\tPlace of Birth:\\tCroydon, London Nationality:\\tBritish\\n\\n\\tEthnicity:\\tWhite British\\n\\n\\tLegal order:\\tCare order to London Borough of Bromley\\n\\n\\n\\n\\n\\n\\tSurname:\\t\\n\\n\\tFirst name:\\tFadi\\n\\n\\tGender:\\tMale\\n\\n\\tDate of Birth:\\t2010 Current Address: London Place of Birth:\\tHampshire Nationality:\\tBritish\\n\\n\\tEthnicity:\\tMixed-Black Caribbean and White British Legal order:\\tCare order\\n\\n\\n\\n\\n\\nChildren’s foster carers (in the United Kingdom)\\n\\n\\n\\n\\tSurname:\\t\\n\\n\\tFirst name:\\tSarah\\n\\n\\tDate of Birth:\\t1985 Current Address: London\\n\\n\\n\\n\\n\\n\\tSurname:\\t\\n\\n\\tFirst name:\\tJohnny\\n\\n\\tDate of Birth:\\t1986 Current Address: London\\n\\n\\tEthnicity:\\tLebanese and Scottish\\n\\n\\n\\n\\n\\nFamily friends of foster carers (in Lebanon)\\n\\n\\n\\n\\tSurname:\\t\\n\\n\\tFirst name:\\tNaji\\n\\nCurrent Address: …\\n\\n\\n\\n\\n\\n\\n\\n\\tTel. / email:\\t…\\n\\n\\tNationality:\\tLebanese\\n\\n\\n\\n\\n\\nBackground Information\\n\\n\\n\\nCarol and Fadi are in a long term foster placement with Mr and Mrs …. Both children were removed from the care of their respective parents and were placed in long term foster care with Mr. and Mrs …. Bromley Children’s Services have parental responsibility for the Carol and Fadi and make decisions about their care and upbringing, including authorising overseas travel.\\n\\n\\n\\nMr … is of Lebanese descent and, as part of their general family life, Mr and Mrs …make regular trips to visit relatives and family friends in Lebanon. Mr and Mrs …wish to travel to Lebanon with Carol and Fadi. However, information from the UK government website states that there is a risk of terrorist activity in Lebanon. Therefore, Children’s Services in Bromley want to ensure that it is safe enough for the children to travel to Lebanon before they authorise that Carol and Fadi can travel to Lebanon with their foster carers.\\n\\nIf they are authorised to travel to Lebanon with the children, Mr and Mrs … would be staying with their friend, Mr. Naji at the address above.\\n\\n\\n\\n\\n\\nChildren’s needs\\n\\n\\n\\nCarol and Fadi are settled in their placement with Mr and Mrs …. Both attend a mainstream primary school in the Catford area and are progressing well academically although Carol is performing a little below age related expectations.\\n\\n\\n\\nCarol suffers with chronic constipation which can cause faecal soiling. Carol requires medication to manage her constipation. Mr and Mrs … administer Carol’s medication. Fadi has no health conditions.\\n\\n\\n\\nChildren’s wishes and feelings\\n\\n\\n\\nFadi and Carol were excited and looking forward to travelling to Lebanon with their foster carers. Understandably, they were disappointed when the trip was unable to go ahead in October 2018.\\n\\n\\n\\nService Requested\\n\\n\\n\\nChildren’s Services are seeking your cooperation to visit the home of Mr. Naji and provide a report regarding the suitability of the home, the plans for the children’s holiday\\n\\n\\n\\n\\n\\nand what support he would offer to Mr and Mrs … in order to keep the children safe during their stay in Lebanon.\\n\\nThis report will inform the decision of Children’s Services on whether they will authorise for Carol and Fadi to travel to Lebanon.\\n\\n\\n\\nThe report should cover the following areas:\\n\\n\\n\\n\\tHow will the safety of the children be secured during their visit in Lebanon? In the event of a terrorist attack in the Baabdat area, how would the children’s safety be ensured? How would Mr. Naji support the carers to keep the children safe in the event of an unrest in area, such as a terrorist attack?\\n\\n\\n\\n\\tWhat do you think the children’s general experience of a holiday in Lebanon would be? Please comment on the suitability of the accommodation where the children and their carers will stay during their holiday in Lebanon. Please provide some photographs, if possible.\\n\\n\\n\\n\\tIn the last two years, have there been any instances of unrest, including tourist attacks in the areas where the children/family will be staying or visit? We understand that the children and carers will visit areas including Baabdat, Mansourieh, Gemmayze, and Jbeil .\\n\\n\\n\\n\\n\\n\\n\\n\\n\\nThank you for your collaboration. Please do not hesitate to contact maria@cfab.org.uk quoting CFAB031108 should you require further information.\\n\\n\\n\\nChildren and Families Across Borders (CFAB), First Floor, Victoria Charity Centre, 11 Belgrave\\n\\nRoad, London, SW1V 1RB | +44 (0)207 735 8941 | info@cfab.org.uk |cfab.org.uk\\n\\nPrivate Limited Company No. 4025539 | Registered Charity Number: 1085541 | CFAB is the UK branch of International Social Service (ISS)'"
            ]
          },
          "metadata": {
            "tags": []
          },
          "execution_count": 26
        }
      ]
    },
    {
      "cell_type": "code",
      "metadata": {
        "id": "9fQGooLOu5ep"
      },
      "source": [
        "import docx\n",
        " \n",
        "# open connection to Word Document\n",
        "doc = docx.Document(\"sample_data/E1 Case Summary UK to himaya.docx\")\n",
        " \n"
      ],
      "execution_count": 7,
      "outputs": []
    },
    {
      "cell_type": "code",
      "metadata": {
        "id": "itqP6DlSDaAt",
        "outputId": "ca465010-47ce-450f-ea9c-04b38b5460d8",
        "colab": {
          "base_uri": "https://localhost:8080/",
          "height": 34
        }
      },
      "source": [
        "doc"
      ],
      "execution_count": 13,
      "outputs": [
        {
          "output_type": "execute_result",
          "data": {
            "text/plain": [
              "<docx.document.Document at 0x7f6dfeea8c18>"
            ]
          },
          "metadata": {
            "tags": []
          },
          "execution_count": 13
        }
      ]
    },
    {
      "cell_type": "code",
      "metadata": {
        "id": "Kfuayat8wqEi"
      },
      "source": [
        "# read in each paragraph in file\n",
        "result_doc = [p.text for p in doc.paragraphs]"
      ],
      "execution_count": 9,
      "outputs": []
    },
    {
      "cell_type": "code",
      "metadata": {
        "id": "1wdevWvmwu5B",
        "outputId": "d9f5a4c0-f877-422e-a8c2-cc7f0f0e6d38",
        "colab": {
          "base_uri": "https://localhost:8080/",
          "height": 1000
        }
      },
      "source": [
        "result_doc"
      ],
      "execution_count": 10,
      "outputs": [
        {
          "output_type": "execute_result",
          "data": {
            "text/plain": [
              "['',\n",
              " 'Himaya',\n",
              " 'Mansourieh Gate Center, Block B,',\n",
              " '2nd Floor, Mansourieh, Lebanon',\n",
              " '',\n",
              " 'By email ',\n",
              " '',\n",
              " '',\n",
              " '',\n",
              " 'Monday, February 11, 2019 Dear Rose,',\n",
              " 'RE: Carol (DOB: 29/08/2011) and Fadi (DOB: 19/08/2010)',\n",
              " '',\n",
              " 'I am writing from Children and Families Across Borders, UK, to request your assistance on this case. It involves two children who are placed with foster carers in the UK. The foster carers travel to Lebanon frequently and would like to take the children with them for a holiday. As the children are in foster care, Children’s Services in Bromley have parental responsibility for them and have to ensure that the children are safe at all times. Therefore, they are asking for you cooperation to visit a family friend who will be accommodating the children and their foster carers while they are on holiday in Lebanon, and provide information regarding the suitability of the accommodation, the holiday activities and the plans in place to keep the children safe at all times.',\n",
              " '',\n",
              " 'Please find further details in the case note below.',\n",
              " '',\n",
              " 'I remain at your disposal for further information – please confirm that you have received  this referral as soon as possible.',\n",
              " '',\n",
              " 'Kind Regards,',\n",
              " '',\n",
              " '',\n",
              " '',\n",
              " '',\n",
              " 'Maria Sînziana Danciu Intercountry Caseworker',\n",
              " 'Children and Families Across Borders',\n",
              " '',\n",
              " '',\n",
              " 'CASE NOTE',\n",
              " '',\n",
              " 'Children concerned x 2 (in the United Kingdom)',\n",
              " '',\n",
              " 'Surname:\\t',\n",
              " 'First name:\\tCarol',\n",
              " 'Gender:\\t\\tFemale Date of Birth:\\t2011 Current Address: London',\n",
              " 'Place of Birth:\\tCroydon, London Nationality:\\tBritish',\n",
              " 'Ethnicity:\\tWhite British',\n",
              " 'Legal order:\\tCare order to London Borough of Bromley',\n",
              " '',\n",
              " '',\n",
              " 'Surname:\\t',\n",
              " 'First name:\\tFadi',\n",
              " 'Gender:\\tMale',\n",
              " 'Date of Birth:\\t2010 Current Address: London Place of Birth:\\tHampshire Nationality:\\tBritish',\n",
              " 'Ethnicity:\\tMixed-Black Caribbean and White British Legal order:\\tCare order',\n",
              " '',\n",
              " '',\n",
              " 'Children’s foster carers (in the United Kingdom)',\n",
              " '',\n",
              " 'Surname:\\t',\n",
              " 'First name:\\tSarah',\n",
              " 'Date of Birth:\\t1985 Current Address: London',\n",
              " '',\n",
              " '',\n",
              " 'Surname:\\t',\n",
              " 'First name:\\tJohnny',\n",
              " 'Date of Birth:\\t1986 Current Address: London',\n",
              " 'Ethnicity:\\tLebanese and Scottish',\n",
              " '',\n",
              " '',\n",
              " 'Family friends of foster carers (in Lebanon)',\n",
              " '',\n",
              " 'Surname:\\t',\n",
              " 'First name:\\tNaji',\n",
              " 'Current Address: …',\n",
              " '',\n",
              " '',\n",
              " '',\n",
              " 'Tel. / email:\\t…',\n",
              " 'Nationality:\\tLebanese',\n",
              " '',\n",
              " '',\n",
              " 'Background Information',\n",
              " '',\n",
              " 'Carol and Fadi are in a long term foster placement with Mr and Mrs …. Both children were removed from the care of their respective parents and were placed in long term foster care with Mr. and Mrs …. Bromley Children’s Services have parental responsibility for the Carol and Fadi and make decisions about their care and upbringing, including authorising overseas travel.',\n",
              " '',\n",
              " 'Mr … is of Lebanese descent and, as part of their general family life, Mr and Mrs …make regular trips to visit relatives and family friends in Lebanon. Mr and Mrs …wish to travel to Lebanon with Carol and Fadi. However, information from the UK government website states that there is a risk of terrorist activity in Lebanon. Therefore, Children’s Services in Bromley want to ensure that it is safe enough for the children to travel to Lebanon before they authorise that Carol and Fadi can travel to Lebanon with their foster carers.',\n",
              " 'If they are authorised to travel to Lebanon with the children, Mr and Mrs … would be staying with their friend, Mr. Naji at the address above.',\n",
              " '',\n",
              " '',\n",
              " 'Children’s needs',\n",
              " '',\n",
              " 'Carol and Fadi are settled in their placement with Mr and Mrs …. Both attend a mainstream primary school in the Catford area and are progressing well academically although Carol is performing a little below age related expectations.',\n",
              " '',\n",
              " 'Carol suffers with chronic constipation which can cause faecal soiling. Carol requires medication to manage her constipation. Mr and Mrs … administer Carol’s medication. Fadi has no health conditions.',\n",
              " '',\n",
              " 'Children’s wishes and feelings',\n",
              " '',\n",
              " 'Fadi and Carol were excited and looking forward to travelling to Lebanon with their foster carers. Understandably, they were disappointed when the trip was unable to go ahead in October 2018.',\n",
              " '',\n",
              " 'Service Requested',\n",
              " '',\n",
              " 'Children’s Services are seeking your cooperation to visit the home of Mr. Naji and provide a report regarding the suitability of the home, the plans for the children’s holiday',\n",
              " '',\n",
              " '',\n",
              " 'and what support he would offer to Mr and Mrs … in order to keep the children safe during their stay in Lebanon.',\n",
              " 'This report will inform the decision of Children’s Services on whether they will authorise for Carol and Fadi to travel to Lebanon.',\n",
              " '',\n",
              " 'The report should cover the following areas:',\n",
              " '',\n",
              " 'How will the safety of the children be secured during their visit in Lebanon? In the event of a terrorist attack in the Baabdat area, how would the children’s safety be ensured? How would Mr. Naji support the carers to keep the children safe in the event of an unrest in area, such as a terrorist attack?',\n",
              " '',\n",
              " 'What do you think the children’s general experience of a holiday in Lebanon would be? Please comment on the suitability of the accommodation where the children and their carers will stay during their holiday in Lebanon. Please provide some photographs, if possible.',\n",
              " '',\n",
              " 'In the last two years, have there been any instances of unrest, including tourist attacks in the areas where the children/family will be staying or visit? We understand that the children and carers will visit areas including Baabdat, Mansourieh, Gemmayze, and Jbeil .',\n",
              " '',\n",
              " '',\n",
              " '',\n",
              " '',\n",
              " 'Thank you for your collaboration. Please do not hesitate to contact  quoting CFAB031108 should you require further information.']"
            ]
          },
          "metadata": {
            "tags": []
          },
          "execution_count": 10
        }
      ]
    },
    {
      "cell_type": "code",
      "metadata": {
        "id": "Cvvn9C1ZuVlD",
        "outputId": "36cf8425-d78c-452f-ecf4-13be2a1ff4e0",
        "colab": {
          "base_uri": "https://localhost:8080/",
          "height": 188
        }
      },
      "source": [
        "!pip install docx2txt"
      ],
      "execution_count": 4,
      "outputs": [
        {
          "output_type": "stream",
          "text": [
            "Collecting docx2txt\n",
            "  Downloading https://files.pythonhosted.org/packages/7d/7d/60ee3f2b16d9bfdfa72e8599470a2c1a5b759cb113c6fe1006be28359327/docx2txt-0.8.tar.gz\n",
            "Building wheels for collected packages: docx2txt\n",
            "  Building wheel for docx2txt (setup.py) ... \u001b[?25l\u001b[?25hdone\n",
            "  Created wheel for docx2txt: filename=docx2txt-0.8-cp36-none-any.whl size=3965 sha256=8e04e5792b4005960bce361ba3b8a1a9b2ea598ea1c06200f742f0424dae1f5e\n",
            "  Stored in directory: /root/.cache/pip/wheels/b2/1f/26/a051209bbb77fc6bcfae2bb7e01fa0ff941b82292ab084d596\n",
            "Successfully built docx2txt\n",
            "Installing collected packages: docx2txt\n",
            "Successfully installed docx2txt-0.8\n"
          ],
          "name": "stdout"
        }
      ]
    },
    {
      "cell_type": "code",
      "metadata": {
        "id": "OE_vgtHIv9WJ",
        "outputId": "a6c7a188-c754-47e2-ebf9-3c528b676d56",
        "colab": {
          "base_uri": "https://localhost:8080/",
          "height": 222
        }
      },
      "source": [
        "!pip install python-docx"
      ],
      "execution_count": 2,
      "outputs": [
        {
          "output_type": "stream",
          "text": [
            "Collecting python-docx\n",
            "\u001b[?25l  Downloading https://files.pythonhosted.org/packages/e4/83/c66a1934ed5ed8ab1dbb9931f1779079f8bca0f6bbc5793c06c4b5e7d671/python-docx-0.8.10.tar.gz (5.5MB)\n",
            "\u001b[K     |████████████████████████████████| 5.5MB 2.6MB/s \n",
            "\u001b[?25hRequirement already satisfied: lxml>=2.3.2 in /usr/local/lib/python3.6/dist-packages (from python-docx) (4.2.6)\n",
            "Building wheels for collected packages: python-docx\n",
            "  Building wheel for python-docx (setup.py) ... \u001b[?25l\u001b[?25hdone\n",
            "  Created wheel for python-docx: filename=python_docx-0.8.10-cp36-none-any.whl size=184491 sha256=ee273311e2e2bc5ec8e93fd4a840d7a623256a8f271d03f03099fad37c6fcce3\n",
            "  Stored in directory: /root/.cache/pip/wheels/18/0b/a0/1dd62ff812c857c9e487f27d80d53d2b40531bec1acecfa47b\n",
            "Successfully built python-docx\n",
            "Installing collected packages: python-docx\n",
            "Successfully installed python-docx-0.8.10\n"
          ],
          "name": "stdout"
        }
      ]
    },
    {
      "cell_type": "code",
      "metadata": {
        "id": "vNyL0iANvLUb",
        "outputId": "36ead380-73f6-4f43-9aef-7884f67dc137",
        "colab": {
          "base_uri": "https://localhost:8080/",
          "height": 238
        }
      },
      "source": [
        "!pip install docx"
      ],
      "execution_count": 7,
      "outputs": [
        {
          "output_type": "stream",
          "text": [
            "Collecting docx\n",
            "\u001b[?25l  Downloading https://files.pythonhosted.org/packages/4a/8e/5a01644697b03016de339ef444cfff28367f92984dc74eddaab1ed60eada/docx-0.2.4.tar.gz (54kB)\n",
            "\r\u001b[K     |██████                          | 10kB 8.2MB/s eta 0:00:01\r\u001b[K     |████████████                    | 20kB 1.8MB/s eta 0:00:01\r\u001b[K     |██████████████████              | 30kB 2.2MB/s eta 0:00:01\r\u001b[K     |███████████████████████▉        | 40kB 2.5MB/s eta 0:00:01\r\u001b[K     |█████████████████████████████▉  | 51kB 2.0MB/s eta 0:00:01\r\u001b[K     |████████████████████████████████| 61kB 1.9MB/s \n",
            "\u001b[?25hRequirement already satisfied: lxml in /usr/local/lib/python3.6/dist-packages (from docx) (4.2.6)\n",
            "Requirement already satisfied: Pillow>=2.0 in /usr/local/lib/python3.6/dist-packages (from docx) (7.0.0)\n",
            "Building wheels for collected packages: docx\n",
            "  Building wheel for docx (setup.py) ... \u001b[?25l\u001b[?25hdone\n",
            "  Created wheel for docx: filename=docx-0.2.4-cp36-none-any.whl size=53925 sha256=10e07429acab56f90e929302d3265f9c379da2763a97b8afae8808225030162a\n",
            "  Stored in directory: /root/.cache/pip/wheels/cc/8d/09/563edfd874a35c0c7ed129b6c4fa890efa4c26458bdec6ffc1\n",
            "Successfully built docx\n",
            "Installing collected packages: docx\n",
            "Successfully installed docx-0.2.4\n"
          ],
          "name": "stdout"
        }
      ]
    },
    {
      "cell_type": "code",
      "metadata": {
        "id": "wwiR7vDA1HZM",
        "outputId": "37e10a24-4741-4af7-e2ab-dbdc7fe7d7d7",
        "colab": {
          "base_uri": "https://localhost:8080/",
          "height": 1000
        }
      },
      "source": [
        "print(result)"
      ],
      "execution_count": 27,
      "outputs": [
        {
          "output_type": "stream",
          "text": [
            "CFAB031108\n",
            "\n",
            "\n",
            "\n",
            "Himaya\n",
            "\n",
            "Mansourieh Gate Center, Block B,\n",
            "\n",
            "2nd Floor, Mansourieh, Lebanon\n",
            "\n",
            "\n",
            "\n",
            "By email info@himaya.org\n",
            "\n",
            "rosehabchidaher@gmail.com\n",
            "\n",
            "\n",
            "\n",
            "\n",
            "\n",
            "Monday, February 11, 2019 Dear Rose,\n",
            "\n",
            "RE: Carol (DOB: 29/08/2011) and Fadi (DOB: 19/08/2010)\n",
            "\n",
            "\n",
            "\n",
            "I am writing from Children and Families Across Borders, UK, to request your assistance on this case. It involves two children who are placed with foster carers in the UK. The foster carers travel to Lebanon frequently and would like to take the children with them for a holiday. As the children are in foster care, Children’s Services in Bromley have parental responsibility for them and have to ensure that the children are safe at all times. Therefore, they are asking for you cooperation to visit a family friend who will be accommodating the children and their foster carers while they are on holiday in Lebanon, and provide information regarding the suitability of the accommodation, the holiday activities and the plans in place to keep the children safe at all times.\n",
            "\n",
            "\n",
            "\n",
            "Please find further details in the case note below.\n",
            "\n",
            "\n",
            "\n",
            "I remain at your disposal for further information – please confirm that you have received  this referral as soon as possible.\n",
            "\n",
            "\n",
            "\n",
            "Kind Regards,\n",
            "\n",
            "\n",
            "\n",
            "\n",
            "\n",
            "\n",
            "\n",
            "\n",
            "\n",
            "Maria Sînziana Danciu Intercountry Caseworker\n",
            "\n",
            "Children and Families Across Borders maria@cfab.org.uk\n",
            "\n",
            "\n",
            "\n",
            "\n",
            "\n",
            "CASE NOTE\n",
            "\n",
            "\n",
            "\n",
            "Children concerned x 2 (in the United Kingdom)\n",
            "\n",
            "\n",
            "\n",
            "\tSurname:\t\n",
            "\n",
            "\tFirst name:\tCarol\n",
            "\n",
            "\t\tGender:\t\tFemale Date of Birth:\t2011 Current Address: London\n",
            "\n",
            "\tPlace of Birth:\tCroydon, London Nationality:\tBritish\n",
            "\n",
            "\tEthnicity:\tWhite British\n",
            "\n",
            "\tLegal order:\tCare order to London Borough of Bromley\n",
            "\n",
            "\n",
            "\n",
            "\n",
            "\n",
            "\tSurname:\t\n",
            "\n",
            "\tFirst name:\tFadi\n",
            "\n",
            "\tGender:\tMale\n",
            "\n",
            "\tDate of Birth:\t2010 Current Address: London Place of Birth:\tHampshire Nationality:\tBritish\n",
            "\n",
            "\tEthnicity:\tMixed-Black Caribbean and White British Legal order:\tCare order\n",
            "\n",
            "\n",
            "\n",
            "\n",
            "\n",
            "Children’s foster carers (in the United Kingdom)\n",
            "\n",
            "\n",
            "\n",
            "\tSurname:\t\n",
            "\n",
            "\tFirst name:\tSarah\n",
            "\n",
            "\tDate of Birth:\t1985 Current Address: London\n",
            "\n",
            "\n",
            "\n",
            "\n",
            "\n",
            "\tSurname:\t\n",
            "\n",
            "\tFirst name:\tJohnny\n",
            "\n",
            "\tDate of Birth:\t1986 Current Address: London\n",
            "\n",
            "\tEthnicity:\tLebanese and Scottish\n",
            "\n",
            "\n",
            "\n",
            "\n",
            "\n",
            "Family friends of foster carers (in Lebanon)\n",
            "\n",
            "\n",
            "\n",
            "\tSurname:\t\n",
            "\n",
            "\tFirst name:\tNaji\n",
            "\n",
            "Current Address: …\n",
            "\n",
            "\n",
            "\n",
            "\n",
            "\n",
            "\n",
            "\n",
            "\tTel. / email:\t…\n",
            "\n",
            "\tNationality:\tLebanese\n",
            "\n",
            "\n",
            "\n",
            "\n",
            "\n",
            "Background Information\n",
            "\n",
            "\n",
            "\n",
            "Carol and Fadi are in a long term foster placement with Mr and Mrs …. Both children were removed from the care of their respective parents and were placed in long term foster care with Mr. and Mrs …. Bromley Children’s Services have parental responsibility for the Carol and Fadi and make decisions about their care and upbringing, including authorising overseas travel.\n",
            "\n",
            "\n",
            "\n",
            "Mr … is of Lebanese descent and, as part of their general family life, Mr and Mrs …make regular trips to visit relatives and family friends in Lebanon. Mr and Mrs …wish to travel to Lebanon with Carol and Fadi. However, information from the UK government website states that there is a risk of terrorist activity in Lebanon. Therefore, Children’s Services in Bromley want to ensure that it is safe enough for the children to travel to Lebanon before they authorise that Carol and Fadi can travel to Lebanon with their foster carers.\n",
            "\n",
            "If they are authorised to travel to Lebanon with the children, Mr and Mrs … would be staying with their friend, Mr. Naji at the address above.\n",
            "\n",
            "\n",
            "\n",
            "\n",
            "\n",
            "Children’s needs\n",
            "\n",
            "\n",
            "\n",
            "Carol and Fadi are settled in their placement with Mr and Mrs …. Both attend a mainstream primary school in the Catford area and are progressing well academically although Carol is performing a little below age related expectations.\n",
            "\n",
            "\n",
            "\n",
            "Carol suffers with chronic constipation which can cause faecal soiling. Carol requires medication to manage her constipation. Mr and Mrs … administer Carol’s medication. Fadi has no health conditions.\n",
            "\n",
            "\n",
            "\n",
            "Children’s wishes and feelings\n",
            "\n",
            "\n",
            "\n",
            "Fadi and Carol were excited and looking forward to travelling to Lebanon with their foster carers. Understandably, they were disappointed when the trip was unable to go ahead in October 2018.\n",
            "\n",
            "\n",
            "\n",
            "Service Requested\n",
            "\n",
            "\n",
            "\n",
            "Children’s Services are seeking your cooperation to visit the home of Mr. Naji and provide a report regarding the suitability of the home, the plans for the children’s holiday\n",
            "\n",
            "\n",
            "\n",
            "\n",
            "\n",
            "and what support he would offer to Mr and Mrs … in order to keep the children safe during their stay in Lebanon.\n",
            "\n",
            "This report will inform the decision of Children’s Services on whether they will authorise for Carol and Fadi to travel to Lebanon.\n",
            "\n",
            "\n",
            "\n",
            "The report should cover the following areas:\n",
            "\n",
            "\n",
            "\n",
            "\tHow will the safety of the children be secured during their visit in Lebanon? In the event of a terrorist attack in the Baabdat area, how would the children’s safety be ensured? How would Mr. Naji support the carers to keep the children safe in the event of an unrest in area, such as a terrorist attack?\n",
            "\n",
            "\n",
            "\n",
            "\tWhat do you think the children’s general experience of a holiday in Lebanon would be? Please comment on the suitability of the accommodation where the children and their carers will stay during their holiday in Lebanon. Please provide some photographs, if possible.\n",
            "\n",
            "\n",
            "\n",
            "\tIn the last two years, have there been any instances of unrest, including tourist attacks in the areas where the children/family will be staying or visit? We understand that the children and carers will visit areas including Baabdat, Mansourieh, Gemmayze, and Jbeil .\n",
            "\n",
            "\n",
            "\n",
            "\n",
            "\n",
            "\n",
            "\n",
            "\n",
            "\n",
            "Thank you for your collaboration. Please do not hesitate to contact maria@cfab.org.uk quoting CFAB031108 should you require further information.\n",
            "\n",
            "\n",
            "\n",
            "Children and Families Across Borders (CFAB), First Floor, Victoria Charity Centre, 11 Belgrave\n",
            "\n",
            "Road, London, SW1V 1RB | +44 (0)207 735 8941 | info@cfab.org.uk |cfab.org.uk\n",
            "\n",
            "Private Limited Company No. 4025539 | Registered Charity Number: 1085541 | CFAB is the UK branch of International Social Service (ISS)\n"
          ],
          "name": "stdout"
        }
      ]
    },
    {
      "cell_type": "code",
      "metadata": {
        "id": "8QCBytD0DnJl",
        "outputId": "e8f4faa3-56db-443d-d1db-0d11a9119cda",
        "colab": {
          "base_uri": "https://localhost:8080/",
          "height": 910
        }
      },
      "source": [
        "!pip install bert-extractive-summarizer"
      ],
      "execution_count": 16,
      "outputs": [
        {
          "output_type": "stream",
          "text": [
            "Collecting bert-extractive-summarizer\n",
            "  Downloading https://files.pythonhosted.org/packages/7b/e3/c8b820d8c0a96a9318a423a38242275f2e862425793b5b8287e982324ffc/bert_extractive_summarizer-0.5.1-py3-none-any.whl\n",
            "Requirement already satisfied: scikit-learn in /usr/local/lib/python3.6/dist-packages (from bert-extractive-summarizer) (0.22.2.post1)\n",
            "Collecting transformers\n",
            "\u001b[?25l  Downloading https://files.pythonhosted.org/packages/2c/4e/4f1ede0fd7a36278844a277f8d53c21f88f37f3754abf76a5d6224f76d4a/transformers-3.4.0-py3-none-any.whl (1.3MB)\n",
            "\u001b[K     |████████████████████████████████| 1.3MB 3.9MB/s \n",
            "\u001b[?25hRequirement already satisfied: spacy in /usr/local/lib/python3.6/dist-packages (from bert-extractive-summarizer) (2.2.4)\n",
            "Requirement already satisfied: joblib>=0.11 in /usr/local/lib/python3.6/dist-packages (from scikit-learn->bert-extractive-summarizer) (0.17.0)\n",
            "Requirement already satisfied: scipy>=0.17.0 in /usr/local/lib/python3.6/dist-packages (from scikit-learn->bert-extractive-summarizer) (1.4.1)\n",
            "Requirement already satisfied: numpy>=1.11.0 in /usr/local/lib/python3.6/dist-packages (from scikit-learn->bert-extractive-summarizer) (1.18.5)\n",
            "Collecting sentencepiece!=0.1.92\n",
            "\u001b[?25l  Downloading https://files.pythonhosted.org/packages/e5/2d/6d4ca4bef9a67070fa1cac508606328329152b1df10bdf31fb6e4e727894/sentencepiece-0.1.94-cp36-cp36m-manylinux2014_x86_64.whl (1.1MB)\n",
            "\u001b[K     |████████████████████████████████| 1.1MB 17.1MB/s \n",
            "\u001b[?25hCollecting tokenizers==0.9.2\n",
            "\u001b[?25l  Downloading https://files.pythonhosted.org/packages/7c/a5/78be1a55b2ac8d6a956f0a211d372726e2b1dd2666bb537fea9b03abd62c/tokenizers-0.9.2-cp36-cp36m-manylinux1_x86_64.whl (2.9MB)\n",
            "\u001b[K     |████████████████████████████████| 2.9MB 20.9MB/s \n",
            "\u001b[?25hRequirement already satisfied: dataclasses; python_version < \"3.7\" in /usr/local/lib/python3.6/dist-packages (from transformers->bert-extractive-summarizer) (0.7)\n",
            "Requirement already satisfied: tqdm>=4.27 in /usr/local/lib/python3.6/dist-packages (from transformers->bert-extractive-summarizer) (4.41.1)\n",
            "Requirement already satisfied: protobuf in /usr/local/lib/python3.6/dist-packages (from transformers->bert-extractive-summarizer) (3.12.4)\n",
            "Requirement already satisfied: filelock in /usr/local/lib/python3.6/dist-packages (from transformers->bert-extractive-summarizer) (3.0.12)\n",
            "Requirement already satisfied: requests in /usr/local/lib/python3.6/dist-packages (from transformers->bert-extractive-summarizer) (2.23.0)\n",
            "Requirement already satisfied: regex!=2019.12.17 in /usr/local/lib/python3.6/dist-packages (from transformers->bert-extractive-summarizer) (2019.12.20)\n",
            "Collecting sacremoses\n",
            "\u001b[?25l  Downloading https://files.pythonhosted.org/packages/7d/34/09d19aff26edcc8eb2a01bed8e98f13a1537005d31e95233fd48216eed10/sacremoses-0.0.43.tar.gz (883kB)\n",
            "\u001b[K     |████████████████████████████████| 890kB 45.8MB/s \n",
            "\u001b[?25hRequirement already satisfied: packaging in /usr/local/lib/python3.6/dist-packages (from transformers->bert-extractive-summarizer) (20.4)\n",
            "Requirement already satisfied: srsly<1.1.0,>=1.0.2 in /usr/local/lib/python3.6/dist-packages (from spacy->bert-extractive-summarizer) (1.0.2)\n",
            "Requirement already satisfied: setuptools in /usr/local/lib/python3.6/dist-packages (from spacy->bert-extractive-summarizer) (50.3.0)\n",
            "Requirement already satisfied: thinc==7.4.0 in /usr/local/lib/python3.6/dist-packages (from spacy->bert-extractive-summarizer) (7.4.0)\n",
            "Requirement already satisfied: preshed<3.1.0,>=3.0.2 in /usr/local/lib/python3.6/dist-packages (from spacy->bert-extractive-summarizer) (3.0.2)\n",
            "Requirement already satisfied: catalogue<1.1.0,>=0.0.7 in /usr/local/lib/python3.6/dist-packages (from spacy->bert-extractive-summarizer) (1.0.0)\n",
            "Requirement already satisfied: plac<1.2.0,>=0.9.6 in /usr/local/lib/python3.6/dist-packages (from spacy->bert-extractive-summarizer) (1.1.3)\n",
            "Requirement already satisfied: wasabi<1.1.0,>=0.4.0 in /usr/local/lib/python3.6/dist-packages (from spacy->bert-extractive-summarizer) (0.8.0)\n",
            "Requirement already satisfied: murmurhash<1.1.0,>=0.28.0 in /usr/local/lib/python3.6/dist-packages (from spacy->bert-extractive-summarizer) (1.0.2)\n",
            "Requirement already satisfied: blis<0.5.0,>=0.4.0 in /usr/local/lib/python3.6/dist-packages (from spacy->bert-extractive-summarizer) (0.4.1)\n",
            "Requirement already satisfied: cymem<2.1.0,>=2.0.2 in /usr/local/lib/python3.6/dist-packages (from spacy->bert-extractive-summarizer) (2.0.3)\n",
            "Requirement already satisfied: six>=1.9 in /usr/local/lib/python3.6/dist-packages (from protobuf->transformers->bert-extractive-summarizer) (1.15.0)\n",
            "Requirement already satisfied: chardet<4,>=3.0.2 in /usr/local/lib/python3.6/dist-packages (from requests->transformers->bert-extractive-summarizer) (3.0.4)\n",
            "Requirement already satisfied: certifi>=2017.4.17 in /usr/local/lib/python3.6/dist-packages (from requests->transformers->bert-extractive-summarizer) (2020.6.20)\n",
            "Requirement already satisfied: urllib3!=1.25.0,!=1.25.1,<1.26,>=1.21.1 in /usr/local/lib/python3.6/dist-packages (from requests->transformers->bert-extractive-summarizer) (1.24.3)\n",
            "Requirement already satisfied: idna<3,>=2.5 in /usr/local/lib/python3.6/dist-packages (from requests->transformers->bert-extractive-summarizer) (2.10)\n",
            "Requirement already satisfied: click in /usr/local/lib/python3.6/dist-packages (from sacremoses->transformers->bert-extractive-summarizer) (7.1.2)\n",
            "Requirement already satisfied: pyparsing>=2.0.2 in /usr/local/lib/python3.6/dist-packages (from packaging->transformers->bert-extractive-summarizer) (2.4.7)\n",
            "Requirement already satisfied: importlib-metadata>=0.20; python_version < \"3.8\" in /usr/local/lib/python3.6/dist-packages (from catalogue<1.1.0,>=0.0.7->spacy->bert-extractive-summarizer) (2.0.0)\n",
            "Requirement already satisfied: zipp>=0.5 in /usr/local/lib/python3.6/dist-packages (from importlib-metadata>=0.20; python_version < \"3.8\"->catalogue<1.1.0,>=0.0.7->spacy->bert-extractive-summarizer) (3.3.1)\n",
            "Building wheels for collected packages: sacremoses\n",
            "  Building wheel for sacremoses (setup.py) ... \u001b[?25l\u001b[?25hdone\n",
            "  Created wheel for sacremoses: filename=sacremoses-0.0.43-cp36-none-any.whl size=893257 sha256=8f0176ac1f6c08c2601413211cd1ff3711c824ad75955763ea61f4a5d3110251\n",
            "  Stored in directory: /root/.cache/pip/wheels/29/3c/fd/7ce5c3f0666dab31a50123635e6fb5e19ceb42ce38d4e58f45\n",
            "Successfully built sacremoses\n",
            "Installing collected packages: sentencepiece, tokenizers, sacremoses, transformers, bert-extractive-summarizer\n",
            "Successfully installed bert-extractive-summarizer-0.5.1 sacremoses-0.0.43 sentencepiece-0.1.94 tokenizers-0.9.2 transformers-3.4.0\n"
          ],
          "name": "stdout"
        }
      ]
    },
    {
      "cell_type": "code",
      "metadata": {
        "id": "0ejPVsVLfZrU"
      },
      "source": [
        "body = \"\"\"\n",
        "Background Information\n",
        "\n",
        "\n",
        "\n",
        "Carol and Fadi are in a long term foster placement with Mr and Mrs …. Both children were removed from the care of their respective parents and were placed in long term foster care with Mr. and Mrs …. Bromley Children’s Services have parental responsibility for the Carol and Fadi and make decisions about their care and upbringing, including authorising overseas travel.\n",
        "\n",
        "\n",
        "\n",
        "Mr … is of Lebanese descent and, as part of their general family life, Mr and Mrs …make regular trips to visit relatives and family friends in Lebanon. Mr and Mrs …wish to travel to Lebanon with Carol and Fadi. However, information from the UK government website states that there is a risk of terrorist activity in Lebanon. Therefore, Children’s Services in Bromley want to ensure that it is safe enough for the children to travel to Lebanon before they authorise that Carol and Fadi can travel to Lebanon with their foster carers.\n",
        "\n",
        "If they are authorised to travel to Lebanon with the children, Mr and Mrs … would be staying with their friend, Mr. Naji at the address above.\n",
        "\n",
        "\n",
        "\n",
        "\n",
        "\n",
        "Children’s needs\n",
        "\n",
        "\n",
        "\n",
        "Carol and Fadi are settled in their placement with Mr and Mrs …. Both attend a mainstream primary school in the Catford area and are progressing well academically although Carol is performing a little below age related expectations.\n",
        "\n",
        "\n",
        "\n",
        "Carol suffers with chronic constipation which can cause faecal soiling. Carol requires medication to manage her constipation. Mr and Mrs … administer Carol’s medication. Fadi has no health conditions.\n",
        "\n",
        "\n",
        "\n",
        "Children’s wishes and feelings\n",
        "\n",
        "\n",
        "\n",
        "Fadi and Carol were excited and looking forward to travelling to Lebanon with their foster carers. Understandably, they were disappointed when the trip was unable to go ahead in October 2018.\n",
        "\n",
        "\n",
        "\n",
        "Service Requested\n",
        "\n",
        "\n",
        "\n",
        "Children’s Services are seeking your cooperation to visit the home of Mr. Naji and provide a report regarding the suitability of the home, the plans for the children’s holiday\n",
        "\n",
        "\n",
        "\n",
        "\n",
        "\n",
        "and what support he would offer to Mr and Mrs … in order to keep the children safe during their stay in Lebanon.\n",
        "\n",
        "This report will inform the decision of Children’s Services on whether they will authorise for Carol and Fadi to travel to Lebanon.\n",
        "\n",
        "\n",
        "\n",
        "The report should cover the following areas:\n",
        "\n",
        "\n",
        "\n",
        "\tHow will the safety of the children be secured during their visit in Lebanon? In the event of a terrorist attack in the Baabdat area, how would the children’s safety be ensured? How would Mr. Naji support the carers to keep the children safe in the event of an unrest in area, such as a terrorist attack?\n",
        "\n",
        "\n",
        "\n",
        "\tWhat do you think the children’s general experience of a holiday in Lebanon would be? Please comment on the suitability of the accommodation where the children and their carers will stay during their holiday in Lebanon. Please provide some photographs, if possible.\n",
        "\n",
        "\n",
        "\n",
        "\tIn the last two years, have there been any instances of unrest, including tourist attacks in the areas where the children/family will be staying or visit? We understand that the children and carers will visit areas including Baabdat, Mansourieh, Gemmayze, and Jbeil .\n",
        "\n",
        "\n",
        "\n",
        "\n",
        "\n",
        "\n",
        "\n",
        "\n",
        "\n",
        "Thank you for your collaboration. Please do not hesitate to contact maria@cfab.org.uk quoting CFAB031108 should you require further information.\n",
        "\n",
        "\"\"\""
      ],
      "execution_count": 28,
      "outputs": []
    },
    {
      "cell_type": "code",
      "metadata": {
        "id": "yhZkKWQxD1KB",
        "outputId": "5cee0805-094f-4502-b8c6-993c1341c064",
        "colab": {
          "base_uri": "https://localhost:8080/",
          "height": 255
        }
      },
      "source": [
        "from summarizer import Summarizer\n",
        "model = Summarizer()\n",
        "result = model(body, min_length=30,max_length=300)\n",
        "summary = \"\".join(result)\n",
        "print(summary)\n"
      ],
      "execution_count": 29,
      "outputs": [
        {
          "output_type": "stream",
          "text": [
            "Background Information\n",
            "\n",
            "\n",
            "\n",
            "Carol and Fadi are in a long term foster placement with Mr and Mrs …. Bromley Children’s Services have parental responsibility for the Carol and Fadi and make decisions about their care and upbringing, including authorising overseas travel. Children’s needs\n",
            "\n",
            "\n",
            "\n",
            "Carol and Fadi are settled in their placement with Mr and Mrs …. Carol suffers with chronic constipation which can cause faecal soiling. Understandably, they were disappointed when the trip was unable to go ahead in October 2018. The report should cover the following areas:\n",
            "\n",
            "\n",
            "\n",
            "\tHow will the safety of the children be secured during their visit in Lebanon?\n"
          ],
          "name": "stdout"
        }
      ]
    }
  ]
}