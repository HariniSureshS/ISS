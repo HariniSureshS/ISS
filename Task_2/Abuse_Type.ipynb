{
  "nbformat": 4,
  "nbformat_minor": 0,
  "metadata": {
    "colab": {
      "name": "Abuse_Type.ipynb",
      "provenance": [],
      "collapsed_sections": []
    },
    "kernelspec": {
      "name": "python3",
      "display_name": "Python 3"
    }
  },
  "cells": [
    {
      "cell_type": "code",
      "metadata": {
        "id": "4A80oiHobp-l",
        "colab": {
          "base_uri": "https://localhost:8080/"
        },
        "outputId": "3712fa65-0a81-42f1-b1fc-cd821cad003b"
      },
      "source": [
        "from google.colab import drive\n",
        "drive.mount('/content/drive')"
      ],
      "execution_count": 1,
      "outputs": [
        {
          "output_type": "stream",
          "text": [
            "Mounted at /content/drive\n"
          ],
          "name": "stdout"
        }
      ]
    },
    {
      "cell_type": "code",
      "metadata": {
        "id": "7tZoB1_TbttP"
      },
      "source": [
        "import os\n",
        "path ='/content/drive/My Drive/Colab Notebooks/Data'"
      ],
      "execution_count": 2,
      "outputs": []
    },
    {
      "cell_type": "code",
      "metadata": {
        "id": "yadAZnfNbvug"
      },
      "source": [
        "import pandas as pd\n",
        "import spacy\n",
        "pd.set_option('display.max_colwidth', 300)"
      ],
      "execution_count": 3,
      "outputs": []
    },
    {
      "cell_type": "code",
      "metadata": {
        "id": "DSrTRREtcGpH",
        "colab": {
          "base_uri": "https://localhost:8080/"
        },
        "outputId": "0752160e-3416-48c5-95d0-afa798293d43"
      },
      "source": [
        "!python -m pip install -U gensim"
      ],
      "execution_count": 4,
      "outputs": [
        {
          "output_type": "stream",
          "text": [
            "Collecting gensim\n",
            "\u001b[?25l  Downloading https://files.pythonhosted.org/packages/2b/e0/fa6326251692056dc880a64eb22117e03269906ba55a6864864d24ec8b4e/gensim-3.8.3-cp36-cp36m-manylinux1_x86_64.whl (24.2MB)\n",
            "\u001b[K     |████████████████████████████████| 24.2MB 1.0MB/s \n",
            "\u001b[?25hRequirement already satisfied, skipping upgrade: numpy>=1.11.3 in /usr/local/lib/python3.6/dist-packages (from gensim) (1.18.5)\n",
            "Requirement already satisfied, skipping upgrade: scipy>=0.18.1 in /usr/local/lib/python3.6/dist-packages (from gensim) (1.4.1)\n",
            "Requirement already satisfied, skipping upgrade: six>=1.5.0 in /usr/local/lib/python3.6/dist-packages (from gensim) (1.15.0)\n",
            "Requirement already satisfied, skipping upgrade: smart-open>=1.8.1 in /usr/local/lib/python3.6/dist-packages (from gensim) (3.0.0)\n",
            "Requirement already satisfied, skipping upgrade: requests in /usr/local/lib/python3.6/dist-packages (from smart-open>=1.8.1->gensim) (2.23.0)\n",
            "Requirement already satisfied, skipping upgrade: urllib3!=1.25.0,!=1.25.1,<1.26,>=1.21.1 in /usr/local/lib/python3.6/dist-packages (from requests->smart-open>=1.8.1->gensim) (1.24.3)\n",
            "Requirement already satisfied, skipping upgrade: certifi>=2017.4.17 in /usr/local/lib/python3.6/dist-packages (from requests->smart-open>=1.8.1->gensim) (2020.6.20)\n",
            "Requirement already satisfied, skipping upgrade: chardet<4,>=3.0.2 in /usr/local/lib/python3.6/dist-packages (from requests->smart-open>=1.8.1->gensim) (3.0.4)\n",
            "Requirement already satisfied, skipping upgrade: idna<3,>=2.5 in /usr/local/lib/python3.6/dist-packages (from requests->smart-open>=1.8.1->gensim) (2.10)\n",
            "Installing collected packages: gensim\n",
            "  Found existing installation: gensim 3.6.0\n",
            "    Uninstalling gensim-3.6.0:\n",
            "      Successfully uninstalled gensim-3.6.0\n",
            "Successfully installed gensim-3.8.3\n"
          ],
          "name": "stdout"
        }
      ]
    },
    {
      "cell_type": "code",
      "metadata": {
        "id": "1gPz0NWDcTAb",
        "colab": {
          "base_uri": "https://localhost:8080/"
        },
        "outputId": "e7660c50-2ee9-4753-e8e9-bf79d89eaef0"
      },
      "source": [
        "!python -m spacy download en_core_web_lg"
      ],
      "execution_count": 5,
      "outputs": [
        {
          "output_type": "stream",
          "text": [
            "Collecting en_core_web_lg==2.2.5\n",
            "\u001b[?25l  Downloading https://github.com/explosion/spacy-models/releases/download/en_core_web_lg-2.2.5/en_core_web_lg-2.2.5.tar.gz (827.9MB)\n",
            "\u001b[K     |████████████████████████████████| 827.9MB 1.2MB/s \n",
            "\u001b[?25hRequirement already satisfied: spacy>=2.2.2 in /usr/local/lib/python3.6/dist-packages (from en_core_web_lg==2.2.5) (2.2.4)\n",
            "Requirement already satisfied: catalogue<1.1.0,>=0.0.7 in /usr/local/lib/python3.6/dist-packages (from spacy>=2.2.2->en_core_web_lg==2.2.5) (1.0.0)\n",
            "Requirement already satisfied: thinc==7.4.0 in /usr/local/lib/python3.6/dist-packages (from spacy>=2.2.2->en_core_web_lg==2.2.5) (7.4.0)\n",
            "Requirement already satisfied: preshed<3.1.0,>=3.0.2 in /usr/local/lib/python3.6/dist-packages (from spacy>=2.2.2->en_core_web_lg==2.2.5) (3.0.2)\n",
            "Requirement already satisfied: blis<0.5.0,>=0.4.0 in /usr/local/lib/python3.6/dist-packages (from spacy>=2.2.2->en_core_web_lg==2.2.5) (0.4.1)\n",
            "Requirement already satisfied: setuptools in /usr/local/lib/python3.6/dist-packages (from spacy>=2.2.2->en_core_web_lg==2.2.5) (50.3.2)\n",
            "Requirement already satisfied: requests<3.0.0,>=2.13.0 in /usr/local/lib/python3.6/dist-packages (from spacy>=2.2.2->en_core_web_lg==2.2.5) (2.23.0)\n",
            "Requirement already satisfied: cymem<2.1.0,>=2.0.2 in /usr/local/lib/python3.6/dist-packages (from spacy>=2.2.2->en_core_web_lg==2.2.5) (2.0.4)\n",
            "Requirement already satisfied: srsly<1.1.0,>=1.0.2 in /usr/local/lib/python3.6/dist-packages (from spacy>=2.2.2->en_core_web_lg==2.2.5) (1.0.2)\n",
            "Requirement already satisfied: numpy>=1.15.0 in /usr/local/lib/python3.6/dist-packages (from spacy>=2.2.2->en_core_web_lg==2.2.5) (1.18.5)\n",
            "Requirement already satisfied: wasabi<1.1.0,>=0.4.0 in /usr/local/lib/python3.6/dist-packages (from spacy>=2.2.2->en_core_web_lg==2.2.5) (0.8.0)\n",
            "Requirement already satisfied: tqdm<5.0.0,>=4.38.0 in /usr/local/lib/python3.6/dist-packages (from spacy>=2.2.2->en_core_web_lg==2.2.5) (4.41.1)\n",
            "Requirement already satisfied: plac<1.2.0,>=0.9.6 in /usr/local/lib/python3.6/dist-packages (from spacy>=2.2.2->en_core_web_lg==2.2.5) (1.1.3)\n",
            "Requirement already satisfied: murmurhash<1.1.0,>=0.28.0 in /usr/local/lib/python3.6/dist-packages (from spacy>=2.2.2->en_core_web_lg==2.2.5) (1.0.3)\n",
            "Requirement already satisfied: importlib-metadata>=0.20; python_version < \"3.8\" in /usr/local/lib/python3.6/dist-packages (from catalogue<1.1.0,>=0.0.7->spacy>=2.2.2->en_core_web_lg==2.2.5) (2.0.0)\n",
            "Requirement already satisfied: idna<3,>=2.5 in /usr/local/lib/python3.6/dist-packages (from requests<3.0.0,>=2.13.0->spacy>=2.2.2->en_core_web_lg==2.2.5) (2.10)\n",
            "Requirement already satisfied: chardet<4,>=3.0.2 in /usr/local/lib/python3.6/dist-packages (from requests<3.0.0,>=2.13.0->spacy>=2.2.2->en_core_web_lg==2.2.5) (3.0.4)\n",
            "Requirement already satisfied: certifi>=2017.4.17 in /usr/local/lib/python3.6/dist-packages (from requests<3.0.0,>=2.13.0->spacy>=2.2.2->en_core_web_lg==2.2.5) (2020.6.20)\n",
            "Requirement already satisfied: urllib3!=1.25.0,!=1.25.1,<1.26,>=1.21.1 in /usr/local/lib/python3.6/dist-packages (from requests<3.0.0,>=2.13.0->spacy>=2.2.2->en_core_web_lg==2.2.5) (1.24.3)\n",
            "Requirement already satisfied: zipp>=0.5 in /usr/local/lib/python3.6/dist-packages (from importlib-metadata>=0.20; python_version < \"3.8\"->catalogue<1.1.0,>=0.0.7->spacy>=2.2.2->en_core_web_lg==2.2.5) (3.4.0)\n",
            "Building wheels for collected packages: en-core-web-lg\n",
            "  Building wheel for en-core-web-lg (setup.py) ... \u001b[?25l\u001b[?25hdone\n",
            "  Created wheel for en-core-web-lg: filename=en_core_web_lg-2.2.5-cp36-none-any.whl size=829180944 sha256=06243ba9cf161e336cce766c1da61ffdd8b6c7f06e2c232f3896aca104dbadbb\n",
            "  Stored in directory: /tmp/pip-ephem-wheel-cache-fa6giues/wheels/2a/c1/a6/fc7a877b1efca9bc6a089d6f506f16d3868408f9ff89f8dbfc\n",
            "Successfully built en-core-web-lg\n",
            "Installing collected packages: en-core-web-lg\n",
            "Successfully installed en-core-web-lg-2.2.5\n",
            "\u001b[38;5;2m✔ Download and installation successful\u001b[0m\n",
            "You can now load the model via spacy.load('en_core_web_lg')\n"
          ],
          "name": "stdout"
        }
      ]
    },
    {
      "cell_type": "code",
      "metadata": {
        "id": "SUnKxbNwcvnP"
      },
      "source": [
        "import en_core_web_lg\n",
        "nlp = en_core_web_lg.load()"
      ],
      "execution_count": 6,
      "outputs": []
    },
    {
      "cell_type": "code",
      "metadata": {
        "id": "99BttvdJcv1I"
      },
      "source": [
        "import os\n",
        "import pandas as pd\n",
        "import re\n",
        "import spacy\n",
        "import en_core_web_lg\n",
        "from spacy.lang.en.stop_words import STOP_WORDS\n",
        "from nltk.stem.wordnet import WordNetLemmatizer"
      ],
      "execution_count": 7,
      "outputs": []
    },
    {
      "cell_type": "code",
      "metadata": {
        "id": "l8KdMx5XcwNk"
      },
      "source": [
        "%matplotlib inline  \n",
        "import matplotlib.pyplot as plt"
      ],
      "execution_count": 8,
      "outputs": []
    },
    {
      "cell_type": "code",
      "metadata": {
        "id": "88WnNbKA79HG"
      },
      "source": [
        "iss_main = pd.read_csv(os.path.join(path,'Compiled_Cases.csv'), encoding = 'cp1252')"
      ],
      "execution_count": 77,
      "outputs": []
    },
    {
      "cell_type": "code",
      "metadata": {
        "id": "Vhorl3cIcwaZ"
      },
      "source": [
        "iss = pd.read_csv(os.path.join(path,'Compiled_Cases.csv'), encoding = 'cp1252')"
      ],
      "execution_count": 9,
      "outputs": []
    },
    {
      "cell_type": "code",
      "metadata": {
        "id": "I9KZ6POXcwms",
        "colab": {
          "base_uri": "https://localhost:8080/",
          "height": 278
        },
        "outputId": "f312f8d4-64bb-4003-f55f-a19c6f6cfe4b"
      },
      "source": [
        "iss.head()"
      ],
      "execution_count": 10,
      "outputs": [
        {
          "output_type": "execute_result",
          "data": {
            "text/html": [
              "<div>\n",
              "<style scoped>\n",
              "    .dataframe tbody tr th:only-of-type {\n",
              "        vertical-align: middle;\n",
              "    }\n",
              "\n",
              "    .dataframe tbody tr th {\n",
              "        vertical-align: top;\n",
              "    }\n",
              "\n",
              "    .dataframe thead th {\n",
              "        text-align: right;\n",
              "    }\n",
              "</style>\n",
              "<table border=\"1\" class=\"dataframe\">\n",
              "  <thead>\n",
              "    <tr style=\"text-align: right;\">\n",
              "      <th></th>\n",
              "      <th>ID</th>\n",
              "      <th>Case</th>\n",
              "    </tr>\n",
              "  </thead>\n",
              "  <tbody>\n",
              "    <tr>\n",
              "      <th>0</th>\n",
              "      <td>1</td>\n",
              "      <td>On behalf of Ms. Amira I would like to ask for your cooperation in tracing her biological mother and perhaps other family members. The biological mother possibly moved to Canada, according to information the UNHCR received. However, we cannot be sure and as there is not a lot of information abou...</td>\n",
              "    </tr>\n",
              "    <tr>\n",
              "      <th>1</th>\n",
              "      <td>2</td>\n",
              "      <td>The following information has been supplied by the Youth Welfare Office in Berlin The Social Worker who made the child welfare alert has been responsible for the family since 2014. The father of Lara and Fadi comes from Lebanon and was deported back to his country in 2017. He had been massively ...</td>\n",
              "    </tr>\n",
              "    <tr>\n",
              "      <th>2</th>\n",
              "      <td>3</td>\n",
              "      <td>I hope you all are well and sane in these challenging times. I kindly ask you for your support in the case of Anas, d.o.b. 30.06.2004. Unfortunately I have only few information about the case: The mother, Nadia and Anaslive in Syria (contact: … mobile … ) . The father … lives still in Hamburg. T...</td>\n",
              "    </tr>\n",
              "    <tr>\n",
              "      <th>3</th>\n",
              "      <td>4</td>\n",
              "      <td>The child protection office in Beirut, Lebanon, requests ISS assistance regarding a 6-year-old Syrian child, currently living in Germany, in order to facilitate the re-establishment of contact between her and her father who is in Lebanon, to ensure a possible reunification and also provide a soc...</td>\n",
              "    </tr>\n",
              "    <tr>\n",
              "      <th>4</th>\n",
              "      <td>5</td>\n",
              "      <td>I am writing from Children and Families Across Borders, UK, to request your assistance on this case. It involves two children who are placed with foster carers in the UK. The foster carers travel to Lebanon frequently and would like to take the children with them for a holiday. As the children a...</td>\n",
              "    </tr>\n",
              "  </tbody>\n",
              "</table>\n",
              "</div>"
            ],
            "text/plain": [
              "   ID                                                                                                                                                                                                                                                                                                         Case\n",
              "0   1  On behalf of Ms. Amira I would like to ask for your cooperation in tracing her biological mother and perhaps other family members. The biological mother possibly moved to Canada, according to information the UNHCR received. However, we cannot be sure and as there is not a lot of information abou...\n",
              "1   2  The following information has been supplied by the Youth Welfare Office in Berlin The Social Worker who made the child welfare alert has been responsible for the family since 2014. The father of Lara and Fadi comes from Lebanon and was deported back to his country in 2017. He had been massively ...\n",
              "2   3  I hope you all are well and sane in these challenging times. I kindly ask you for your support in the case of Anas, d.o.b. 30.06.2004. Unfortunately I have only few information about the case: The mother, Nadia and Anaslive in Syria (contact: … mobile … ) . The father … lives still in Hamburg. T...\n",
              "3   4  The child protection office in Beirut, Lebanon, requests ISS assistance regarding a 6-year-old Syrian child, currently living in Germany, in order to facilitate the re-establishment of contact between her and her father who is in Lebanon, to ensure a possible reunification and also provide a soc...\n",
              "4   5  I am writing from Children and Families Across Borders, UK, to request your assistance on this case. It involves two children who are placed with foster carers in the UK. The foster carers travel to Lebanon frequently and would like to take the children with them for a holiday. As the children a..."
            ]
          },
          "metadata": {
            "tags": []
          },
          "execution_count": 10
        }
      ]
    },
    {
      "cell_type": "code",
      "metadata": {
        "id": "bwGJsLVwLHHC"
      },
      "source": [
        "stop_words = list(nlp.Defaults.stop_words)"
      ],
      "execution_count": 11,
      "outputs": []
    },
    {
      "cell_type": "code",
      "metadata": {
        "id": "h8vdJHVnK4cO"
      },
      "source": [
        "def lemmatization(iss_str):\n",
        "  tokens_list = []\n",
        "  newString = ''\n",
        "  for token in nlp(iss_str):\n",
        "    tokens_list.append(token.lemma_)\n",
        "  s = ' '.join(tokens_list)\n",
        "  s = re.sub(r'-+[a-zA-Z]+-+', '', s)\n",
        "  return s"
      ],
      "execution_count": 12,
      "outputs": []
    },
    {
      "cell_type": "code",
      "metadata": {
        "id": "BK74rcZuK4md"
      },
      "source": [
        "def stop_word_removal(tokens):\n",
        "  token_list = []\n",
        "  #tokens = iss_str.split()\n",
        "  for token in tokens:\n",
        "    if token not in stop_words:\n",
        "      token_list.append(token)\n",
        "  s = ' '.join(token_list)\n",
        "  newString = lemmatization(s)\n",
        "  return newString"
      ],
      "execution_count": 13,
      "outputs": []
    },
    {
      "cell_type": "code",
      "metadata": {
        "id": "5OL_mGNicwy7"
      },
      "source": [
        "def cleaner(iss_str):\n",
        "    iss_str = re.sub(r'[()]', '', iss_str)\n",
        "    iss_str = re.sub(r'[.,]', '', iss_str)\n",
        "    iss_str = re.sub(r'\\n', ' ', iss_str)\n",
        "    iss_str = re.sub(r'st\\b', '', iss_str)\n",
        "    iss_str = re.sub(r'–', ' ', iss_str)\n",
        "    iss_str = re.sub(r'…', '', iss_str)\n",
        "    iss_str = re.sub(r'[“”]', '', iss_str)\n",
        "    iss_str = re.sub(r'[\\\"]', '', iss_str)\n",
        "    iss_str = re.sub(r'’s', '', iss_str)\n",
        "    iss_str = re.sub(r'[;:?]', '', iss_str)\n",
        "    iss_str = re.sub(r'[-]', ' ', iss_str)\n",
        "    iss_str = iss_str.lower()\n",
        "    tokens = iss_str.split()\n",
        "    newString = stop_word_removal(tokens)\n",
        "    return newString"
      ],
      "execution_count": 14,
      "outputs": []
    },
    {
      "cell_type": "code",
      "metadata": {
        "id": "ZihDxDITcw5P"
      },
      "source": [
        "iss['Text'] = iss['Case'].apply(lambda s : cleaner(s))\n",
        "iss.drop(['Case'], inplace = True, axis = 1)"
      ],
      "execution_count": 15,
      "outputs": []
    },
    {
      "cell_type": "code",
      "metadata": {
        "id": "jSbUyuGmcwtG",
        "colab": {
          "base_uri": "https://localhost:8080/",
          "height": 417
        },
        "outputId": "28e59dea-c68c-4c27-82e3-05d91aad16d0"
      },
      "source": [
        "iss.head(8)"
      ],
      "execution_count": 16,
      "outputs": [
        {
          "output_type": "execute_result",
          "data": {
            "text/html": [
              "<div>\n",
              "<style scoped>\n",
              "    .dataframe tbody tr th:only-of-type {\n",
              "        vertical-align: middle;\n",
              "    }\n",
              "\n",
              "    .dataframe tbody tr th {\n",
              "        vertical-align: top;\n",
              "    }\n",
              "\n",
              "    .dataframe thead th {\n",
              "        text-align: right;\n",
              "    }\n",
              "</style>\n",
              "<table border=\"1\" class=\"dataframe\">\n",
              "  <thead>\n",
              "    <tr style=\"text-align: right;\">\n",
              "      <th></th>\n",
              "      <th>ID</th>\n",
              "      <th>Text</th>\n",
              "    </tr>\n",
              "  </thead>\n",
              "  <tbody>\n",
              "    <tr>\n",
              "      <th>0</th>\n",
              "      <td>1</td>\n",
              "      <td>behalf ms amira like ask cooperation trace biological mother family member biological mother possibly move canada accord information unhcr receive sure lot information mother like search biological mother lebanon ngo try find biological mother unfortunately succeed find contact unhcr assistance ...</td>\n",
              "    </tr>\n",
              "    <tr>\n",
              "      <th>1</th>\n",
              "      <td>2</td>\n",
              "      <td>follow information supply youth welfare office berlin social worker child welfare alert responsible family 2014 father lara fadi come lebanon deport country 2017 massively consume hero ine years mother addict 14 year old substitution programme year la year free substitute child attend kindergard...</td>\n",
              "    </tr>\n",
              "    <tr>\n",
              "      <th>2</th>\n",
              "      <td>3</td>\n",
              "      <td>hope sane challenging time kindly ask support case anas dob 30062004 unfortunately information case mother nadia anaslive syria contact mobile father live hamburg family live hamburg parent get divorce mother child leave syria 2009 father contact child 2010 family court hamburg decide custody li...</td>\n",
              "    </tr>\n",
              "    <tr>\n",
              "      <th>3</th>\n",
              "      <td>4</td>\n",
              "      <td>child protection office beirut lebanon request iss assistance 6 year old syrian child currently live germany order facilitate establishment contact father lebanon ensure possible reunification provide social report family situation mr ali mrs leila syrian national get marry 2010 6 month start wa...</td>\n",
              "    </tr>\n",
              "    <tr>\n",
              "      <th>4</th>\n",
              "      <td>5</td>\n",
              "      <td>write child family borders uk reque assistance case involve child place foster carer uk foster carer travel lebanon frequently like child holiday child foster care child service bromley parental responsibility ensure child safe time ask cooperation visit family friend accommodate child foster ca...</td>\n",
              "    </tr>\n",
              "    <tr>\n",
              "      <th>5</th>\n",
              "      <td>6</td>\n",
              "      <td>ms sd german national contact iss germany looking father meet believe live egypt iss germany refer case iss cairo start trace sd father father have move time period render trace difficult social worker finally find father deal strong denial allege daughter sustain mediation effort father agree i...</td>\n",
              "    </tr>\n",
              "    <tr>\n",
              "      <th>6</th>\n",
              "      <td>7</td>\n",
              "      <td>jose deport usa homeland mexico leave wife mariel son javier mariel health deteriorate rapidly begin use drug time javier turn 5 year old removed mother care permanently place foster care usa child protection authority cpa note javier irregular positive contact father cpa reach iss usa enquire p...</td>\n",
              "    </tr>\n",
              "    <tr>\n",
              "      <th>7</th>\n",
              "      <td>8</td>\n",
              "      <td>karim 6 ziad 8 son divorce lebanese national father remarry lebanese woman canadian passport go live canada follow severe quarrel father wife father imprison child place foster care canadian central authority father ask return son lebanon live paternal grandparent iss canada contact canadian ass...</td>\n",
              "    </tr>\n",
              "  </tbody>\n",
              "</table>\n",
              "</div>"
            ],
            "text/plain": [
              "   ID                                                                                                                                                                                                                                                                                                         Text\n",
              "0   1  behalf ms amira like ask cooperation trace biological mother family member biological mother possibly move canada accord information unhcr receive sure lot information mother like search biological mother lebanon ngo try find biological mother unfortunately succeed find contact unhcr assistance ...\n",
              "1   2  follow information supply youth welfare office berlin social worker child welfare alert responsible family 2014 father lara fadi come lebanon deport country 2017 massively consume hero ine years mother addict 14 year old substitution programme year la year free substitute child attend kindergard...\n",
              "2   3  hope sane challenging time kindly ask support case anas dob 30062004 unfortunately information case mother nadia anaslive syria contact mobile father live hamburg family live hamburg parent get divorce mother child leave syria 2009 father contact child 2010 family court hamburg decide custody li...\n",
              "3   4  child protection office beirut lebanon request iss assistance 6 year old syrian child currently live germany order facilitate establishment contact father lebanon ensure possible reunification provide social report family situation mr ali mrs leila syrian national get marry 2010 6 month start wa...\n",
              "4   5  write child family borders uk reque assistance case involve child place foster carer uk foster carer travel lebanon frequently like child holiday child foster care child service bromley parental responsibility ensure child safe time ask cooperation visit family friend accommodate child foster ca...\n",
              "5   6  ms sd german national contact iss germany looking father meet believe live egypt iss germany refer case iss cairo start trace sd father father have move time period render trace difficult social worker finally find father deal strong denial allege daughter sustain mediation effort father agree i...\n",
              "6   7  jose deport usa homeland mexico leave wife mariel son javier mariel health deteriorate rapidly begin use drug time javier turn 5 year old removed mother care permanently place foster care usa child protection authority cpa note javier irregular positive contact father cpa reach iss usa enquire p...\n",
              "7   8  karim 6 ziad 8 son divorce lebanese national father remarry lebanese woman canadian passport go live canada follow severe quarrel father wife father imprison child place foster care canadian central authority father ask return son lebanon live paternal grandparent iss canada contact canadian ass..."
            ]
          },
          "metadata": {
            "tags": []
          },
          "execution_count": 16
        }
      ]
    },
    {
      "cell_type": "code",
      "metadata": {
        "id": "Gedtcdy9Iyif"
      },
      "source": [
        "# POS Tagging\n",
        "def pos_tagging(string):\n",
        "  pos_tags = []\n",
        "  string = nlp(string)\n",
        "  for token in string:\n",
        "    if(token.tag_ == 'VB' or token.tag_ == 'VBD' or token.tag_ == 'VBG' or token.tag_ == 'VBN' or token.tag_ == 'MD' or token.tag_ == 'VBP' or token.tag_ == 'VBZ'):\n",
        "      pos_tags.append(token.text)\n",
        "  pos_tags = list(set(pos_tags))\n",
        "  #return ','.join(pos_tags)\n",
        "  return pos_tags"
      ],
      "execution_count": 17,
      "outputs": []
    },
    {
      "cell_type": "code",
      "metadata": {
        "id": "fuUPEgQwIypv"
      },
      "source": [
        "iss['POS_Verbs'] = iss['Text'].apply(lambda text : pos_tagging(text))"
      ],
      "execution_count": 18,
      "outputs": []
    },
    {
      "cell_type": "code",
      "metadata": {
        "id": "amQ_RfWXPk4I"
      },
      "source": [
        "# defining categories\n",
        "categories = {'abandon':0, 'die':0, 'beat':0, 'fight':0, 'divorce':0, 'threaten':0, 'reunification':0, 'suffer':0}"
      ],
      "execution_count": 19,
      "outputs": []
    },
    {
      "cell_type": "code",
      "metadata": {
        "id": "YQ5XDhkwFy2R"
      },
      "source": [
        "def category_match(word_list):\n",
        "  print(word_list)\n",
        "  categories = {'abandon':0, 'molestation':0, 'beat':0, 'fight':0, 'divorce':0, 'threaten':0, 'drugs':0, 'neglect':0}\n",
        "  for word in word_list:\n",
        "      categories['abandon'] += nlp('abandon').similarity(nlp(word))\n",
        "      categories['molestation'] += nlp('molestation').similarity(nlp(word))\n",
        "      categories['beat'] += nlp('beat').similarity(nlp(word))\n",
        "      categories['fight'] += nlp('fight').similarity(nlp(word))\n",
        "      categories['divorce'] += nlp('divorce').similarity(nlp(word))\n",
        "      categories['threaten'] += nlp('threaten').similarity(nlp(word))\n",
        "      categories['drugs'] += nlp('drugs').similarity(nlp(word))\n",
        "      categories['neglect'] += nlp('neglect').similarity(nlp(word))\n",
        "  return categories"
      ],
      "execution_count": 20,
      "outputs": []
    },
    {
      "cell_type": "code",
      "metadata": {
        "id": "QpPBgLYMSJNg",
        "colab": {
          "base_uri": "https://localhost:8080/"
        },
        "outputId": "d10a88b2-2641-4fef-82eb-de82288bc28e"
      },
      "source": [
        "iss['Category_Scores'] = iss['POS_Verbs'].apply(lambda word_list : category_match(word_list))"
      ],
      "execution_count": 21,
      "outputs": [
        {
          "output_type": "stream",
          "text": [
            "['invite', 'live', 'decide', 'leave', 'thought', 'know', 'respond', 'come', 'spend', 'ask', 'locate', 'try', 'succeed', 'thank', 'hear', 'receive', 'find', 'look', 'involve', 'refer', 'move']\n",
            "['wait', 'send', 'consume', 'evolve', 'live', 'leave', 'appeal', 'motivate', 'hope', 'conduct', 'add', 'reside', 'renew', 'could', 'run', 'get', 'reach', 'deport', 'hold', 'speak', 'come', 'appoint', 'support', 'tell', 'case', 'suggest', 'bear', 'ask', 'include', 'translate', 'tolerate', 'locate', 'oblige', 'mind', 'allow', 'afford', 'attend', 'try', 'help', 'do', 'distribute', 'want', 'be', 'call', 'happen', 'committed', 'have', 'note', 'register', 'kick', 'stay', 'collect', 'stop', 'pay', 'understand', 'check', 'lock', 'initiate', 'beat', 'inform', 'marry', 'begin', 'receive', 'escalate', 'think', 'lose', 'cancel', 'mention', 'gather', 'say', 'return', 'look', 'fail', 'visit', 'emerge', 'follow', 'order', 'see']\n",
            "['live', 'decide', 'leave', 'conduct', 'hope', 'add', 'request', 'renew', 'know', 'get', 'enter', 'issue', 'hang', 'speak', 'come', 'support', 'extend', 'explain', 'accompany', 'establish', 'ask', 'offer', 'attempts', 'attend', 'interview', 'insist', 'relate', 'write', 'be', 'want', 'refuse', 'require', 'stay', 'assign', 'take', 'continue', 'beat', 'inform', 'mention', 'need', 'gather', 'expire', 'say', 'return', 'appear', 'visit', 'would', 'follow', 'satisfy']\n",
            "['live', 'convince', 'leave', 'meet', 'forbid', 'request', 'run', 'get', 'know', 'scratch', 'come', 'spend', 'enforce', 'establish', 'ask', 'accord', 'locate', 'allow', 'facilitate', 'try', 'help', 'suffered', 'cope', 'be', 'refuse', 'provide', 'stay', 'hit', 'insure', 'take', 'agree', 'start', 'go', 'enrol', 'continue', 'seek', 'marry', 'aim', 'insult', 'ensure', 'left', 'contribute', 'care', 'need', 'gather', 'fail', 'involve', 'turn', 'visit', 'follow', 'order', 'move']\n",
            "['authorise', 'employ', 'live', 'advise', 'report', 'greet', 'remain', 'cause', 'disappoint', 'know', 'explore', 'support', 'explain', 'come', 'settle', 'spend', 'consider', 'expect', 'confirm', 'arrive', 'ask', 'remove', 'include', 'administer', 'offer', 'keep', 'locate', 'allow', 'facilitate', 'attend', 'intend', 'prepare', 'relate', 'write', 'want', 'walk', 'accommodate', 'perform', 'progress', 'attack', 'rent', 'provide', 'require', 'stay', 'attach', 'propose', 'collect', 'go', 'understand', 'suffer', 'access', 'manage', 'seek', 'find', 'receive', 'think', 'ensure', 'travel', 'wish', 'allocate', 'inform', 'contact', 'need', 'look', 'appear', 'involve', 'visit', 'refer', 'follow', 'order', 'see']\n",
            "['believe', 'find', 'have', 'render', 'live', 'allege', 'meet', 'agree', 'start', 'refer', 'deal', 'sustain', 'looking', 'initiate']\n",
            "['inform', 'deteriorate', 'begin', 'care', 'enquire', 'use', 'provide', 'leave', 'decide', 'make', 'conduct', 'place', 'return', 'assist', 'removed', 'turn', 'foster', 'deport']\n",
            "['extend', 'accommodate', 'find', 'express', 'have', 'live', 'encourage', 'ask', 'prepare', 'return', 'imprison', 'verify', 'go', 'help', 'arrange', 'enable', 'assess', 'follow', 'maintain', 'remarry']\n",
            "['beg', 'find', 'learn', 'provide', 'include']\n",
            "['believe', 'earn', 'live', 'decide', 'leave', 'get', 'steal', 'forget', 'welcome', 'ask', 'declare', 'try', 'hate', 'have', 'provide', 'go', 'identify', 'die', 'vow', 'beat', 'shout', 'marry', 'think', 'say', 'return']\n",
            "['live', 'decide', 'leave', 'prove', 'get', 'tell', 'arrive', 'offer', 'cry', 'treat', 'give', 'provide', 'take', 'attract', 'go', 'allege', 'pay', 'identify', 'mk1000', 'die', 'defile', 'find', 'knock', 'pick', 'turn', 'refer', 'follow']\n"
          ],
          "name": "stdout"
        },
        {
          "output_type": "stream",
          "text": [
            "/usr/lib/python3.6/runpy.py:193: UserWarning: [W008] Evaluating Doc.similarity based on empty vectors.\n",
            "  \"__main__\", mod_spec)\n",
            "/usr/lib/python3.6/runpy.py:193: UserWarning: [W008] Evaluating Doc.similarity based on empty vectors.\n",
            "  \"__main__\", mod_spec)\n",
            "/usr/lib/python3.6/runpy.py:193: UserWarning: [W008] Evaluating Doc.similarity based on empty vectors.\n",
            "  \"__main__\", mod_spec)\n",
            "/usr/lib/python3.6/runpy.py:193: UserWarning: [W008] Evaluating Doc.similarity based on empty vectors.\n",
            "  \"__main__\", mod_spec)\n",
            "/usr/lib/python3.6/runpy.py:193: UserWarning: [W008] Evaluating Doc.similarity based on empty vectors.\n",
            "  \"__main__\", mod_spec)\n",
            "/usr/lib/python3.6/runpy.py:193: UserWarning: [W008] Evaluating Doc.similarity based on empty vectors.\n",
            "  \"__main__\", mod_spec)\n",
            "/usr/lib/python3.6/runpy.py:193: UserWarning: [W008] Evaluating Doc.similarity based on empty vectors.\n",
            "  \"__main__\", mod_spec)\n",
            "/usr/lib/python3.6/runpy.py:193: UserWarning: [W008] Evaluating Doc.similarity based on empty vectors.\n",
            "  \"__main__\", mod_spec)\n"
          ],
          "name": "stderr"
        },
        {
          "output_type": "stream",
          "text": [
            "['send', 'live', 'meet', 'know', 'come', 'tell', 'parent', 'keep', 'attend', 'help', 'do', 'want', 'grow', 'learn', 'attach', 'realize', 'think', 'feel', 'wanted', 'gather', 'educate', 'say', 'promise']\n",
            "['recruit', 'send', 'decide', 'leave', 'know', 'get', 'come', 'tell', 'expect', 'arrive', 'elicit', 'ask', 'allow', 'cry', 'attend', 'give', 'sit', 'call', 'plead', 'take', 'pay', 'hear', 'beat', 'begin', 'think', 'lose', 'look', 'develop', 'kill', 'prepare']\n",
            "['support', 'come', 'determine', 'have', 'struggle', 'diagnose', 'stay', 'take', 'start', 'go', 'raise', 'pay', 'die', 'returns', 'seek', 'find', 'care', 'lose', 'return', 'pick', 'refer']\n",
            "['beat', 'send', 'think', 'have', 'learn', 'live', 'arrive', 'leave', 'punish', 'pass', 'face', 'walk']\n",
            "['wait', 'send', 'study', 'earn', 'accept', 'rent', 'ask', 'stay', 'return', 'work', 'reside', 'agree', 'take', 'apprehend', 'go', 'sing', 'pay', 'hear', 'deport', 'want']\n",
            "['decide', 'meet', 'leave', 'motivate', 'hope', 'prove', 'run', 'steal', 'delay', 'entrust', 'link', 'spend', 'expect', 'have', 'provide', 'take', 'suffer', 'feature', 'find', 'think', 'return', 'appear', 'follow']\n",
            "['give', 'find', 'settle', 'live', 'implement', 'save', 'follow', 'register', 'conduct', 'reunify', 'work', 'take', 'attend', 'intend', 'kill', 'arrange', 'identify', 'realize', 'get', 'continue']\n",
            "['wait', 'send', 'live', 'reside', 'remain', 'run', 'get', 'deport', 'come', 'study', 'tell', 'arrive', 'catch', 'attempt', 'try', 'participate', 'want', 'drown', 'take', 'start', 'pay', 'hear', 'hid', 'choose', 'allocate', 'accept', 'travel', 'educate', 'return', 'work', 'say', 'see']\n",
            "['speak', 'find', 'tell', 'live', 'pay', 'arrive', 'leave', 'threaten', 'carry', 'remember', 'take', 'remain', 'join', 'run', 'give', 'recall', 'bring']\n",
            "['send', 'invite', 'live', 'decide', 'reside', 'consult', 'get', 'know', 'deport', 'reach', 'speak', 'come', 'deteriorate', 'tell', 'catch', 'arrive', 'achieve', 'try', 'suspect', 'want', 'cross', 'call', 'agree', 'bury', 'take', 'shoot', 'enable', 'go', 'stop', 'pay', 'arrange', 'suffer', 'hear', 'die', 'educated', 'marry', 'think', 'find', 'survive', 'accept', 'travel', 'say', 'return', 'carry', 'look', 'kill']\n",
            "['quit', 'live', 'decide', 'leave', 'meet', 'know', 'accompany', 'mistreat', 'arrive', 'sell', 'help', 'change', 'wake', 'want', 'refuse', 'start', 'go', 'pay', 'continue', 'marry', 'feel', 'living', 'say']\n",
            "['earn', 'live', 'decide', 'leave', 'know', 'speak', 'tell', 'spend', 'consider', 'catch', 'arrive', 'ask', 'keep', 'allow', 'learn', 'rent', 'operate', 'take', 'start', 'go', 'pay', 'hide', 'marry', 'travel', 'lose', 'teach', 'need', 'make', 'secure', 'see']\n",
            "['wait', 'send', 'earn', 'live', 'decide', 'leave', 'reside', 'remain', 'support', 'come', 'offer', 'try', 'flee', 'give', 'rent', 'provide', 'stay', 'go', 'pay', 'inform', 'survive', 'look', 'promise', 'move']\n",
            "['give', 'send', 'engage', 'grant', 'earn', 'arrange', 'travel', 'provide', 'ask', 'stay', 'say', 'agree', 'remain', 'recommend', 'go', 'pay', 'hear', 'know', 'reach', 'want']\n",
            "['believe', 'send', 'wear', 'live', 'leave', 'fall', 'remember', 'remain', 'talk', 'join', 'could', 'run', 'know', 'get', 'speak', 'come', 'tell', 'spend', 'arrive', 'keep', 'allow', 'try', 'give', 'depart', 'do', 'change', 'want', 'share', 'have', 'learn', 'refuse', 'stay', 'take', 'result', 'start', 'go', 'arrange', 'hear', 'die', 'communicate', 'scare', 'beat', 'disappear', 'continue', 'find', 'accept', 'travel', 'destroy', 'say', 'work', 'educate', 'look', 'visit', 'applied', 'follow']\n",
            "['wait', 'apply', 'live', 'decide', 'leave', 'meet', 'remember', 'fall', 'get', 'know', 'speak', 'come', 'tell', 'spend', 'connect', 'bear', 'ask', 'try', 'give', 'depart', 'do', 'want', 'improve', 'drown', 'read', 'scared', 'agree', 'take', 'start', 'go', 'stop', 'pay', 'arrange', 'die', 'think', 'accept', 'selling', 'contact', 'say', 'work', 'look', 'kill', 'see']\n",
            "['send', 'aged', 'earn', 'join', 'know', 'come', 'tell', 'arrive', 'ask', 'tolerate', 'assess', 'give', 'do', 'change', 'want', 'stay', 'take', 'start', 'go', 'arrange', 'pay', 'die', 'travel', 'need', 'place', 'work']\n",
            "['decide', 'leave', 'remember', 'remain', 'know', 'speak', 'tell', 'do', 'walk', 'want', 'happen', 'go', 'arrange', 'die', 'organise', 'travel', 'say', 'work', 'carry', 'return', 'kill', 'recall']\n",
            "['send', 'live', 'leave', 'remember', 'know', 'deliver', 'come', 'tell', 'spend', 'sell', 'mind', 'do', 'want', 'stay', 'agree', 'take', 'start', 'go', 'pay', 'organise', 'think', 'visa', 'travel', 'accept', 'need', 'educate', 'work', 'look', 'recommend']\n",
            "['apply', 'leave', 'fall', 'know', 'tell', 'spend', 'let', 'arrive', 'buy', 'keep', 'try', 'do', 'give', 'want', 'problem', 'happen', 'drown', 'provide', 'go', 'stop', 'die', 'receive', 'accept', 'mention', 'teach', 'say', 'work', 'look', 'fight', 'fail', 'kill']\n",
            "['live', 'decide', 'leave', 'join', 'know', 'tell', 'arrive', 'worry', 'buy', 'help', 'want', 'stay', 'agree', 'go', 'pay', 'arrange', 'suffer', 'think', 'play', 'say', 'work', 'carry', 'kill', 'see']\n",
            "['wait', 'send', 'apply', 'decide', 'leave', 'remain', 'get', 'know', 'speak', 'come', 'tell', 'arrive', 'keep', 'allow', 'insist', 'deceased', 'warning', 'bring', 'wash', 'walk', 'want', 'grow', 'happen', 'refuse', 'stay', 'start', 'go', 'die', 'manage', 'think', 'survive', 'say', 'work', 'divide', 'place', 'return', 'kill']\n",
            "['send', 'live', 'decide', 'leave', 'meet', 'remember', 'spin', 'suffocate', 'mean', 'broke', 'know', 'get', 'come', 'tell', 'arrive', 'sell', 'fold', 'ask', 'buy', 'mind', 'keep', 'help', 'try', 'drive', 'do', 'give', 'bring', 'want', 'sit', 'cross', 'adapt', 'recollect', 'provide', 'eat', 'stay', 'agree', 'pass', 'hit', 'take', 'start', 'go', 'protect', 'pay', 'stop', 'hide', 'die', 'beat', 'disappear', 'think', 'surround', 'need', 'fear', 'say', 'return', 'look', 'kill', 'stand', 'see']\n",
            "['send', 'earn', 'live', 'decide', 'leave', 'smuggle', 'fall', 'remember', 'would', 'escape', 'know', 'get', 'reach', 'teeth', 'come', 'plan', 'tell', 'arrive', 'sell', 'establish', 'ask', 'include', 'buy', 'pre', 'depend', 'allow', 'frighten', 'attend', 'try', 'treat', 'drive', 'write', 'do', 'give', 'card', 'want', 'walk', 'be', 'rely', 'problem', 'happen', 'have', 'hit', 'agree', 'take', 'shoot', 'start', 'stop', 'result', 'pay', 'hear', 'arrange', 'die', 'choose', 'continue', 'disappear', 'life', 'find', 'think', 'begin', 'teach', 'fear', 'say', 'return', 'work', 'pick', 'kill', 'make', 'promise', 'follow', 'move', 'see']\n",
            "['live', 'decide', 'leave', 'smuggle', 'meet', 'starve', 'advise', 'escape', 'know', 'get', 'speak', 'come', 'tell', 'arrive', 'worry', 'keep', 'help', 'try', 'treat', 'flee', 'do', 'give', 'wash', 'want', 'be', 'arrest', 'learn', 'stay', 'hit', 'take', 'start', 'stop', 'go', 'pay', 'hear', 'arrange', 'die', 'repay', 'choose', 'beat', 'wish', 'owe', 'think', 'find', 'travel', 'fear', 'say', 'return', 'look', 'pick', 'recommence']\n",
            "['send', 'live', 'decide', 'leave', 'copy', 'advise', 'co', 'escape', 'know', 'get', 'deport', 'speak', 'tell', 'spend', 'arrive', 'sell', 'ask', 'tolerate', 'allow', 'flee', 'do', 'depart', 'give', 'bring', 'want', 'walk', 'cross', 'happen', 'learn', 'stay', 'take', 'start', 'go', 'arrange', 'pay', 'hide', 'die', 'find', 'travel', 'save', 'say', 'work', 'look', 'fight', 'lend', 'would', 'see']\n",
            "['wear', 'send', 'wait', 'live', 'decide', 'leave', 'remember', 'talk', 'run', 'escape', 'know', 'get', 'deport', 'reach', 'come', 'plan', 'tell', 'allow', 'cry', 'try', 'give', 'want', 'sit', 'drown', 'capture', 'eat', 'outcome', 'stay', 'scream', 'hit', 'take', 'collect', 'go', 'pay', 'hear', 'suffer', 'die', 'can', 'arrange', 'continue', 'beat', 'receive', 'care', 'travel', 'save', 'shot', 'return', 'work', 'look', 'carry', 'kill', 'make', 'tie', 'see']\n",
            "['wait', 'send', 'live', 'decide', 'meet', 'hope', 'get', 'know', 'reach', 'speak', 'plan', 'come', 'tell', 'catch', 'sell', 'arrive', 'ask', 'bear', 'buy', 'keep', 'allow', 'help', 'try', 'weave', 'bring', 'want', 'walk', 'learn', 'read', 'inherit', 'stay', 'take', 'go', 'pay', 'suffer', 'die', 'hide', 'communicate', 'continue', 'seek', 'find', 'receive', 'care', 'travel', 'survive', 'accept', 'say', 'work', 'return', 'fix', 'lend', 'sleep', 'would', 'make', 'secure', 'move', 'see']\n",
            "['send', 'discuss', 'live', 'decide', 'leave', 'remain', 'talk', 'get', 'know', 'come', 'plan', 'tell', 'expect', 'arrive', 'keep', 'help', 'try', 'do', 'disclose', 'give', 'want', 'walk', 'engage', 'call', 'happen', 'drown', 'eat', 'scream', 'take', 'raise', 'money', 'go', 'pay', 'hear', 'start', 'stop', 'arrange', 'hide', 'beat', 'find', 'begin', 'think', 'survive', 'travel', 'save', 'say', 'work', 'carry', 'fix', 'boat', 'move', 'see']\n",
            "['send', 'cut', 'decide', 'fall', 'join', 'escape', 'get', 'hold', 'come', 'arrive', 'catch', 'try', 'give', 'want', 'happen', 'have', 'take', 'start', 'go', 'stop', 'pay', 'arrange', 'hide', 'die', 'manage', 'find', 'say', 'work', 'fight', 'fail', 'kill', 'move', 'see']\n",
            "['wait', 'send', 'apply', 'aged', 'live', 'decide', 'leave', 'would', 'get', 'know', 'come', 'tell', 'end', 'connect', 'arrive', 'ask', 'frighten', 'help', 'give', 'want', 'stay', 'agree', 'pass', 'pay', 'die', 'repay', 'beat', 'find', 'organise', 'travel', 'say', 'return', 'kill', 'passport']\n",
            "['send', 'set', 'complain', 'leave', 'cost', 'remain', 'join', 'know', 'get', 'come', 'plan', 'tell', 'arrive', 'catch', 'attend', 'try', 'help', 'give', 'looking', 'want', 'walk', 'be', 'call', 'happen', 'refuse', 'watch', 'stay', 'take', 'start', 'go', 'stop', 'pay', 'hear', 'die', 'continue', 'beat', 'think', 'lose', 'need', 'say', 'look', 'children', 'kill', 'see']\n",
            "['wait', 'send', 'believe', 'live', 'leave', 'meet', 'wrap', 'accuse', 'remember', 'join', 'run', 'know', 'get', 'hang', 'break', 'come', 'tell', 'injure', 'settle', 'catch', 'arrive', 'ask', 'buy', 'broken', 'help', 'want', 'improve', 'train', 'arrest', 'prefer', 'use', 'stay', 'chance', 'scream', 'agree', 'shoot', 'take', 'start', 'go', 'stop', 'pay', 'arrange', 'hide', 'die', 'hear', 'repay', 'beat', 'think', 'need', 'say', 'work', 'look', 'involve', 'boat', 'married', 'see']\n",
            "['organise', 'care', 'accompany', 'meet', 'bear', 'conduct', 'follow', 'assist', 'attend', 'refer', 'understand', 'evaluate', 'deport']\n",
            "['assume', 'find', 'begin', 'ensure', 'deem', 'locate', 'reside', 'relinquish', 'thank', 'thrive', 'understand', 'follow']\n",
            "['give', 'receive', 'live', 'describe', 'need', 'inspect', 'serve', 'reside', 'take', 'raise', 'turn', 'visit', 'hear', 'assess', 'die', 'order']\n",
            "['migrate', 'express', 'live', 'earn', 'install', 'separate', 'deport', 'enroll', 'spend', 'connect', 'accompany', 'catch', 'help', 'motivated', 'have', 'provide', 'borrow', 'wish', 'begin', 'feel', 'secure']\n",
            "['abandon', 'wish', 'care', 'ensure', 'attempt', 'conduct', 'promote', 'reunite', 'attend', 'admit']\n",
            "['come', 'deliver', 'release', 'cut', 'live', 'accompany', 'stay', 'await', 'insure', 'file', 'collect', 'prove', 'consult', 'maintain', 'see']\n",
            "['smuggle', 'hope', 'remain', 'explain', 'tell', 'establish', 'sell', 'ask', 'locate', 'attend', 'try', 'help', 'disable', 'grow', 'learn', 'related', 'provide', 'chance', 'pay', 'find', 'wish', 'pray', 'travel', 'educate', 'exploit', 'follow']\n",
            "['abandon', 'come', 'call', 'receive', 'learn', 'leave', 'say', 'create', 'return', 'raise', 'evaluate']\n",
            "['wear', 'send', 'slice', 'invite', 'set', 'guide', 'live', 'leave', 'listen', 'remember', 'thought', 'could', 'know', 'clothe', 'beg', 'come', 'tell', 'consider', 'worry', 'offer', 'fulfil', 'attend', 'anticipate', 'participate', 'do', 'bring', 'wash', 'be', 'want', 'walk', 'grow', 'happen', 'learn', 'have', 'call', 'stay', 'take', 'raise', 'go', 'finish', 'thank', 'start', 'suffer', 'realize', 'find', 'think', 'endure', 'accept', 'save', 'teach', 'place', 'return', 'forgot', 'look', 'lend', 'nice', 'tease', 'turn', 'educate', 'follow', 'silence', 'disadvantaged']\n",
            "['marry', 'find', 'settle', 'decide', 'ask', 'stay', 'consent', 'submit', 'arrange', 'get', 'move']\n",
            "['believe', 'leave', 'throw', 'support', 'tell', 'attempt', 'ask', 'offer', 'help', 'disclose', 'bring', 'grow', 'manipulate', 'provide', 'agree', 'start', 'protect', 'arrange', 'initiate', 'beat', 'feel', 'look', 'involve', 'follow']\n",
            "['find', 'grow', 'ensure', 'live', 'relocate', 'accompany', 'conduct', 'deem', 'locate', 'take', 'reunite', 'thrive', 'help', 'reach', 'navigate', 'continue']\n",
            "['come', 'marry', 'tell', 'have', 'terminate', 'live', 'convert', 'receive', 'require', 'suggest', 'ask', 'locate', 'pass', 'obtain', 'turn', 'lack']\n",
            "['receive', 'call', 'accompany', 'adopt', 'ask', 'remove', 'repatriate', 'take', 'go']\n",
            "['find', 'introduce', 'conduct', 'hope', 'know', 'visit', 'would', 'discover', 'reach', 'share']\n",
            "['support', 'inform', 'begin', 'enquire', 'care', 'use', 'provide', 'leave', 'decide', 'conduct', 'integrate', 'place', 'return', 'assist', 'removed', 'turn', 'make', 'deport']\n",
            "['begin', 'transport', 'live', 'recover', 'locate', 'admit', 'arrange', 'flee', 'recognize', 'wound']\n",
            "['send', 'cooperate', 'live', 'confirm', 'conduct', 'living', 'threaten', 'follow', 'report', 'assess', 'protect', 'visit', 'suffer', 'maltreat', 'lock', 'continue']\n",
            "['ensure', 'live', 'conduct', 'reunite', 'suffer', 'adjust', 'want']\n",
            "['extend', 'find', 'organize', 'settle', 'care', 'live', 'declare', 'request', 'report', 'allow', 'remain', 'reunite', 'attend', 'give', 'assess', 'die']\n",
            "['find', 'receive', 'incarcerate', 'conduct', 'need', 'thrive', 'reach', 'want']\n",
            "['meet', 'entryway', 'report', 'cause', 'get', 'hold', 'excuse', 'pull', 'encourage', 'climb', 'worry', 'threaten', 'frighten', 'help', 'change', 'view', 'sit', 'call', 'have', 'note', 'deny', 'require', 'kick', 'take', 'start', 'increase', 'batter', 'die', 'convey', 'beat', 'vomit', 'claim', 'find', 'think', 'play', 'escalate', 'detect', 'fail', 'occur', 'visit', 'promise', 'stand', 'see']\n",
            "['send', 'leave', 'abuse', 'hold', 'worry', 'include', 'threaten', 'cry', 'repress', 'worried', 'bring', 'perform', 'have', 'handle', 'diagnose', 'hit', 'take', 'go', 'batter', 'admit', 'die', 'find', 'feel', 'told', 'care', 'mention', 'turn', 'kill', 'notice', 'indicate']\n",
            "['leave', 'hit', 'do', 'cope', 'want']\n",
            "['hit', 'leave']\n",
            "['fall', 'occur', 'abuse']\n",
            "['beat', 'hospitalize', 'hit', 'take', 'batter']\n",
            "['think', 'smother', 'shoot', 'cry', 'withdraw']\n",
            "['return', 'take']\n",
            "['disappear', 'detect', 'depress']\n",
            "['speak', 'push', 'return', 'take', 'see']\n",
            "['support', 'conceal', 'get']\n",
            "['feel', 'have', 'kick', 'hit', 'criticize']\n",
            "['cease', 'let', 'take', 'batter', 'cope']\n",
            "['discuss', 'live', 'act', 'decide', 'leave', 'add', 'listen', 'advise', 'know', 'explore', 'come', 'let', 'hearing', 'buy', 'cry', 'obtain', 'treat', 'discover', 'specialized', 'maltreat', 'change', 'want', 'call', 'loving', 'refuse', 'learn', 'take', 'allege', 'claim', 'receive', 'fail', 'occur', 'reunite', 'follow', 'indicate', 'believe', 'complain', 'remain', 'could', 'drink', 'study', 'hospitalize', 'include', 'clean', 'allow', 'help', 'write', 'do', 'walk', 'be', 'supervise', 'prescribed', 'show', 'provide', 'deny', 'note', 'diagnose', 'hit', 'hear', 'find', 'care', 'accept', 'await', 'pamper', 'kill', 'display', 'recommend', 'assume', 'expedite', 'taking', 'inflict', 'build', 'neglect', 'get', 'hold', 'clothe', 'speak', 'explain', 'tell', 'forget', 'ascertain', 'consider', 'remove', 'attend', 'observe', 'relate', 'bring', 'have', 'result', 'go', 'admit', 'continue', 'inform', 'feel', 'yell', 'crack', 'say', 'assist', 'appear', 'visit', 'turn', 'make', 'making', 'send', 'corroborate', 'uncared', 'adjourn', 'talk', 'withdraw', 'writing', 'respond', 'misuse', 'prescribe', 'laugh', 'accompany', 'punish', 'ask', 'disclose', 'lead', 'rent', 'depress', 'conclude', 'pose', 'stop', 'think', 'describe', 'return', 'involve', 'refer', 'promise', 'see']\n",
            "['discuss', 'jump', 'closed', 'decide', 'leave', 'drop', 'know', 'explore', 'come', 'organize', 'let', 'hearing', 'buy', 'offer', 'shut', 'face', 'obtain', 'give', 'change', 'want', 'engage', 'call', 'refuse', 'learn', 'represent', 'stay', 'agree', 'take', 'enrol', 'arrange', 'realize', 'lock', 'seek', 'marry', 'receive', 'gather', 'furnish', 'occur', 'follow', 'engaged', 'wait', 'earn', 'employ', 'set', 'conduct', 'monitor', 'co', 'run', 'enter', 'plan', 'study', 'appoint', 'arrive', 'search', 'bleed', 'try', 'help', 'write', 'do', 'be', 'supervise', 'purchase', 'provide', 'require', 'hit', 'deal', 'identify', 'hear', 'hurt', 'mention', 'look', 'punching', 'fight', 'kill', 'recommend', 'meet', 'inflict', 'serve', 'abuse', 'get', 'hold', 'clothe', 'explain', 'tell', 'focus', 'worry', 'remove', 'keep', 'attend', 'observe', 'relate', 'evaluate', 'have', 'related', 'insure', 'assign', 'result', 'start', 'go', 'continue', 'beat', 'inform', 'feel', 'yell', 'pray', 'say', 'reveal', 'appear', 'visit', 'turn', 'make', 'prepare', 'adjourn', 'talk', 'respond', 'pull', 'dial', 'announce', 'suggest', 'ask', 'happen', 'remind', 'elevate', 'protect', 'stop', 'pay', 'check', 'beating', 'push', 'think', 'play', 'describe', 'need', 'pick', 'involve', 'see']\n",
            "['discuss', 'terminate', 'live', 'leave', 'add', 'listen', 'reside', 'know', 'occasion', 'come', 'curse', 'let', 'buy', 'face', 'obtain', 'treat', 'participate', 'guest', 'give', 'maltreat', 'want', 'call', 'grow', 'refuse', 'stay', 'shoot', 'take', 'background', 'spanking', 'allege', 'seek', 'receive', 'suppose', 'teach', 'rescue', 'fear', 'fail', 'believe', 'earn', 'reach', 'tutoring', 'study', 'intimidate', 'confirm', 'attempt', 'threaten', 'feed', 'include', 'allow', 'try', 'write', 'do', 'deny', 'provide', 'hit', 'die', 'hurt', 'begin', 'accept', 'care', 'mention', 'affect', 'resist', 'consist', 'cut', 'serve', 'get', 'hang', 'speak', 'explain', 'tell', 'settle', 'keep', 'sign', 'bother', 'attend', 'worried', 'observe', 'upset', 'have', 'spank', 'assign', 'go', 'cover', 'admit', 'continue', 'beat', 'inform', 'feel', 'yell', 'living', 'cleaning', 'beaten', 'say', 'appear', 'visit', 'grant', 'kneel', 'send', 'punch', 'relinquish', 'cause', 'respond', 'steal', 'equip', 'ask', 'locate', 'disclose', 'reassign', 'observed', 'protect', 'pay', 'retire', 'wish', 'think', 'play', 'describe', 'need', 'return', 'submit', 'revoke', 'move', 'see']\n",
            "['rehabilitate', 'release', 'live', 'undergo', 'extend', 'come', 'study', 'suggest', 'include', 'emphasize', 'presume', 'normalize', 'distribute', 'target', 'learn', 'use', 'show', 'torture', 'depict', 'integrate', 'acquire', 'raise', 'feature', 'recruiting', 'indicate']\n",
            "['prioritise', 'accept', 'refuse', 'include', 'say']\n",
            "['work', 'remove']\n",
            "['rely', 'find', 'leave', 'sleep', 'raise', 'admit']\n",
            "['speak', 'engage', 'receive', 'begin', 'place', 'return', 'attend', 'obtain', 'parenting']\n",
            "['arrive', 'provide', 'need', 'fall', 'visit', 'suffer']\n",
            "['require', 'help', 'offer']\n",
            "['leave', 'meet', 'report', 'withdraw', 'know', 'speak', 'liaise', 'ask', 'determine', 'attend', 'relate', 'discover', 'have', 'happen', 'lead', 'show', 'require', 'struggle', 'agree', 'step', 'seek', 'allocate', 'think', 'inform', 'accept', 'care', 'need', 'appear', 'reunite', 'develop', 'involve', 'see']\n",
            "['wear', 'apply', 'b', 'set', 'eld', 'live', 'bathe', 'leave', 'meet', 'report', 'cause', 'build', 'neglect', 'explore', 'presentation', 'liaise', 'deteriorate', 'recognise', 'consider', 'encourage', 'establish', 'suggest', 'include', 'offer', 'determine', 'allow', 'attend', 'obtain', 'regard', 'succeed', 'observe', 'share', 'improve', 'progress', 'have', 'use', 'provide', 'require', 'scared', 'struggle', 'take', 'result', 'enable', 'cover', 'identify', 'lack', 'continue', 'manage', 'inform', 'receive', 'feel', 'find', 'ensure', 'begin', 'contribute', 'arise', 'undertake', 'need', 'work', 'look', 'decorate', 'refer', 'prepare', 'follow', 'see']\n",
            "['meet', 'contain', 'advise', 'reach', 'nurture', 'get', 'hold', 'speak', 'study', 'spend', 'encourage', 'achieve', 'include', 'keep', 'enjoy', 'attend', 'observe', 'want', 'improve', 'engage', 'note', 'require', 'eat', 'promote', 'collect', 'raise', 'go', 'identify', 'understand', 'continue', 'find', 'feel', 'play', 'ensure', 'implement', 'undertake', 'avoid', 'need', 'say', 'impose', 'develop', 'fail', 'involve', 'stand', 'follow']\n",
            "['overcome', 'live', 'leave', 'greet', 'build', 'mean', 'neglect', 'delay', 'support', 'spend', 'encourage', 'achieve', 'remove', 'feed', 'declare', 'enjoy', 'keep', 'heal', 'integrated', 'do', 'reserve', 'be', 'disrupt', 'improve', 'engage', 'learn', 'show', 'provide', 'entertain', 'promote', 'take', 'result', 'understand', 'suffer', 'communicate', 'fill', 'continue', 'receive', 'need', 'say', 'develop', 'feeling']\n",
            "['overcome', 'fly', 'live', 'ongoing', 'remain', 'build', 'could', 'neglect', 'get', 'respond', 'come', 'tell', 'ask', 'remove', 'allow', 'attend', 'help', 'succeed', 'swear', 'do', 'internalise', 'be', 'improve', 'upset', 'learn', 'provide', 'identify', 'hear', 'initiate', 'hurt', 'feel', 'yell', 'accept', 'ensure', 'see']\n",
            "['live', 'create', 'report', 'remove', 'heal', 'try', 'do', 'grow', 'have', 'happen', 'use', 'start', 'protect', 'continue', 'scare', 'inform', 'care', 'endure', 'work', 'develop', 'affect', 'cope']\n",
            "['abandon', 'traumatise', 'live', 'meet', 'leave', 'punch', 'serve', 'cause', 'withdraw', 'talk', 'could', 'run', 'reach', 'hold', 'make', 'shed', 'bear', 'declare', 'try', 'treat', 'discover', 'assess', 'do', 'have', 'learn', 'comprise', 'integrate', 'stay', 'identify', 'hear', 'retreat', 'continue', 'seek', 'food', 'utter', 'play', 'describe', 'say', 'work', 'look', 'appear', 'develop', 'comfort', 'feeling', 'see']\n",
            "['set', 'interested', 'support', 'come', 'catch', 'enjoy', 'transition', 'give', 'change', 'engage', 'learn', 'provide', 'integrate', 'suffer', 'communicate', 'continue', 'learning', 'need', 'work', 'develop', 'cope']\n",
            "['neglect', 'enter', 'delay', 'speak', 'come', 'tell', 'worry', 'remove', 'ask', 'grown', 'attend', 'do', 'be', 'have', 'show', 'use', 'distract', 'struggle', 'burn', 'result', 'enrol', 'communicate', 'continue', 'find', 'feel', 'put', 'work', 'refer', 'see']\n",
            "['overcome', 'create', 'reside', 'linger', 'escape', 'support', 'link', 'spend', 'focus', 'achieve', 'include', 'face', 'attend', 'help', 'obtain', 'observe', 'flee', 'immerse', 'provide', 'enable', 'subsidise', 'thrive', 'start', 'experience', 'find', 'care', 'say', 'return', 'work', 'extended', 'refer', 'would', 'follow', 'move']\n",
            "['express', 'act', 'meet', 'contain', 'could', 'run', 'neglect', 'know', 'verbalise', 'respond', 'draw', 'spend', 'suggest', 'drawing', 'threaten', 'include', 'frighten', 'lash', 'discover', 'do', 'engage', 'have', 'learn', 'use', 'integrate', 'start', 'understand', 'communicate', 'continue', 'find', 'begin', 'feel', 'receive', 'need', 'fear', 'work', 'refer', 'move', 'feeling']\n",
            "['compare', 'run', 'neglect', 'tell', 'encourage', 'include', 'enjoy', 'ignore', 'alleviate', 'help', 'gulp', 'walk', 'be', 'eat', 'integrate', 'hit', 'take', 'start', 'understand', 'beat', 'play', 'ensure', 'avoid', 'work', 'reveal', 'develop', 'pick', 'refer', 'make']\n",
            "['send', 'set', 'appeal', 'undergo', 'enable', 'advise', 'remain', 'mean', 'abuse', 'cause', 'know', 'convict', 'hold', 'speak', 'render', 'spend', 'accompany', 'consider', 'establish', 'settle', 'ignore', 'obtain', 'treat', 'disclose', 'bring', 'rely', 'happen', 'require', 'argue', 'diagnose', 'conclude', 'proceed', 'take', 'restore', 'increase', 'protect', 'judge', 'pay', 'result', 'suffer', 'pursue', 'comply', 'go', 'claim', 'receive', 'accept', 'need', 'earning', 'reveal', 'fail', 'stand', 'follow']\n",
            "['abandon', 'live', 'punch', 'undergo', 'cause', 'run', 'respond', 'assert', 'make', 'ascertain', 'suspend', 'attack', 'lead', 'plead', 'kick', 'scream', 'hit', 'agree', 'start', 'suffer', 'pursue', 'continue', 'manage', 'claim', 'receive', 'begin', 'reveal', 'fail', 'slash', 'follow']\n",
            "['relieve', 'commence', 'contain', 'replace', 'consult', 'know', 'tell', 'settle', 'catch', 'let', 'ask', 'offer', 'lie', 'give', 'bring', 'investigate', 'happen', 'learn', 'instruct', 'read', 'abate', 'require', 'take', 'start', 'protect', 'stop', 'suffer', 'continue', 'seek', 'wish', 'care', 'introduce', 'accept', 'destroy', 'defend', 'say', 'return', 'fail', 'involve', 'turn', 'make', 'recommend', 'follow', 'indicate']\n",
            "['send', 'apply', 'leave', 'inflict', 'mean', 'respond', 'enter', 'tell', 'deprive', 'attend', 'help', 'obtain', 'assess', 'disclose', 'bring', 'want', 'happen', 'have', 'instruct', 'note', 'require', 'represent', 'register', 'diagnose', 'operate', 'prosecute', 'take', 'hear', 'pursue', 'choose', 'claim', 'find', 'receive', 'ensure', 'need', 'fail', 'recommend', 'follow']\n",
            "['abandon', 'study', 'tell', 'feel', 'accept', 'live', 'require', 'undertake', 'represent', 'earning', 'affect', 'agree', 'reveal', 'appear', 'advise', 'pay', 'suffer', 'secure', 'cope', 'continue']\n",
            "['deteriorate', 'introduce', 'ply', 'charge', 'endure', 'provide', 'bring', 'represent', 'investigate', 'subject', 'commit', 'take', 'imprison', 'fail', 'abuse', 'suffer', 'secure', 'convict', 'hold', 'see']\n",
            "['sit', 'roll', 'apply', 'persuade', 'set', 'pay', 'plead', 'need', 'achieve', 'administer', 'cost', 'result', 'cause', 'sustain', 'suffer', 'affect']\n",
            "['extend', 'apply', 'consider', 'argue', 'expire', 'take', 'fail', 'protect', 'bring']\n",
            "['settle', 'live', 'sell', 'meet', 'agree', 'allege', 'sum']\n",
            "['assume', 'send', 'withdraw', 'abuse', 'get', 'instigate', 'exacerbate', 'realise', 'tell', 'settle', 'sell', 'achieve', 'try', 'give', 'agree', 'prosecute', 'suffer', 'admit', 'manage', 'claim', 'receive', 'begin', 'accept', 'offend', 'constitute']\n",
            "['settle', 'represent', 'take', 'hand', 'start', 'mean', 'prove', 'suffer']\n",
            "['find', 'think', 'happen', 'instruct', 'settle', 'invite', 'count', 'include', 'earning', 'take', 'result', 'cause', 'turn', 'discover', 'suffer', 'disclose']\n",
            "['settle', 'recognise', 'bring', 'pleased', 'report', 'attend', 'acknowledge', 'suffer', 'follow', 'convict', 'see']\n",
            "['advise', 'mean', 'campaign', 'speak', 'explain', 'consider', 'expect', 'alleviate', 'deserve', 'give', 'bring', 'want', 'happen', 'instruct', 'bolt', 'argue', 'agree', 'take', 'raise', 'suffer', 'admit', 'claim', 'accept', 'care', 'meeting', 'occur', 'commit', 'affect', 'prepare']\n",
            "['come', 'settle', 'buy', 'deprive', 'allow', 'succeed', 'give', 'engage', 'instruct', 'prey', 'show', 'use', 'plead', 'register', 'take', 'suffer', 'pursue', 'admit', 'initiate', 'find', 'cubs', 'receive', 'need', 'reveal', 'turn', 'affect']\n",
            "['follow', 'advise', 'convict', 'settle', 'consider', 'emphasise', 'allow', 'attend', 'obtain', 'gain', 'instruct', 'esteem', 'register', 'proceed', 'conclude', 'take', 'suffer', 'admit', 'pursue', 'continue', 'claim', 'appear', 'affect']\n",
            "['send', 'set', 'request', 'report', 'abuse', 'prove', 'extend', 'come', 'settle', 'establish', 'confirm', 'ask', 'include', 'offer', 'attend', 'help', 'disclose', 'bring', 'happen', 'instruct', 'plead', 'argue', 'take', 'understand', 'suffer', 'claim', 'exist', 'arise', 'destroy', 'need', 'defend', 'value', 'occur', 'make', 'stand']\n",
            "['experience', 'overcome', 'discuss', 'claim', 'invite', 'progress', 'settle', 'represent', 'assault', 'need', 'place', 'obtain', 'help', 'prove', 'identify', 'know', 'bring']\n",
            "['come', 'set', 'accept', 'recover', 'represent', 'advise', 'see']\n",
            "['claim', 'instruct', 'pursue', 'bring', 'argue', 'affect', 'take', 'obtain', 'commit', 'join', 'give', 'go', 'follow', 'convict', 'investigate']\n",
            "['conduct', 'convict', 'hold', 'realise', 'obtain', 'sum', 'decline', 'have', 'instruct', 'deny', 'require', 'argue', 'confess', 'take', 'access', 'admit', 'die', 'reveal', 'occur', 'negotiate', 'commit']\n",
            "['send', 'relate', 'have', 'settle', 'perpetrate', 'follow', 'expose', 'gain', 'pay', 'suffer', 'admit', 'stand', 'bring', 'see']\n",
            "['persuade', 'settle', 'provide', 'include', 'groom', 'admit', 'help', 'convict', 'go', 'suffer', 'give', 'bring', 'want']\n",
            "['manage', 'exist', 'invite', 'happen', 'settle', 'confirm', 'include', 'othersa', 'diagnose', 'locate', 'proceed', 'admit', 'fight', 'result', 'publish', 'negotiate', 'suffer', 'give', 'continue']\n"
          ],
          "name": "stdout"
        },
        {
          "output_type": "stream",
          "text": [
            "/usr/lib/python3.6/runpy.py:193: UserWarning: [W008] Evaluating Doc.similarity based on empty vectors.\n",
            "  \"__main__\", mod_spec)\n",
            "/usr/lib/python3.6/runpy.py:193: UserWarning: [W008] Evaluating Doc.similarity based on empty vectors.\n",
            "  \"__main__\", mod_spec)\n",
            "/usr/lib/python3.6/runpy.py:193: UserWarning: [W008] Evaluating Doc.similarity based on empty vectors.\n",
            "  \"__main__\", mod_spec)\n",
            "/usr/lib/python3.6/runpy.py:193: UserWarning: [W008] Evaluating Doc.similarity based on empty vectors.\n",
            "  \"__main__\", mod_spec)\n",
            "/usr/lib/python3.6/runpy.py:193: UserWarning: [W008] Evaluating Doc.similarity based on empty vectors.\n",
            "  \"__main__\", mod_spec)\n",
            "/usr/lib/python3.6/runpy.py:193: UserWarning: [W008] Evaluating Doc.similarity based on empty vectors.\n",
            "  \"__main__\", mod_spec)\n",
            "/usr/lib/python3.6/runpy.py:193: UserWarning: [W008] Evaluating Doc.similarity based on empty vectors.\n",
            "  \"__main__\", mod_spec)\n",
            "/usr/lib/python3.6/runpy.py:193: UserWarning: [W008] Evaluating Doc.similarity based on empty vectors.\n",
            "  \"__main__\", mod_spec)\n"
          ],
          "name": "stderr"
        },
        {
          "output_type": "stream",
          "text": [
            "['discuss', 'decide', 'touch', 'convict', 'persuade', 'settle', 'confirm', 'buy', 'allow', 'obtain', 'gain', 'bring', 'shower', 'want', 'perform', 'happen', 'instruct', 'show', 'pass', 'result', 'check', 'suffer', 'see']\n",
            "['seek', 'accept', 'allow', 'abuse', 'recommend', 'suffer', 'bring']\n",
            "['redress', 'dismiss', 'come', 'deteriorate', 'limited', 'relive', 'offer', 'disclose', 'view', 'instruct', 'provide', 'represent', 'diagnose', 'cover', 'reflect', 'continue', 'seek', 'find', 'feel', 'care', 'accept', 'earning', 'submit', 'revise', 'make', 'substantiate']\n",
            "['live', 'remain', 'cause', 'build', 'reach', 'know', 'spend', 'consider', 'confirm', 'offer', 'treat', 'bring', 'instruct', 'comprise', 'handle', 'provide', 'deny', 'impact', 'represent', 'require', 'result', 'go', 'compensate', 'prevent', 'suffer', 'pursue', 'experience', 'find', 'accept', 'arise', 'need', 'fear', 'place', 'carry', 'revisit', 'develop', 'opine', 'revise']\n",
            "['come', 'find', 'proceeding', 'happen', 'care', 'allege', 'recover', 'deny', 'pursue', 'argue', 'accept', 'die', 'fail', 'negotiate', 'abuse', 'affect']\n",
            "['join', 'win', 'represent']\n",
            "['believe', 'send', 'set', 'petrify', 'leave', 'remain', 'mean', 'run', 'rub', 'speak', 'explain', 'come', 'tell', 'settle', 'arrive', 'ask', 'help', 'lie', 'assess', 'wash', 'bring', 'want', 'reject', 'taunt', 'instruct', 'scrub', 'require', 'arrange', 'suffer', 'die', 'inform', 'receive', 'begin', 'need', 'say', 'carry', 'reveal']\n",
            "['believe', 'send', 'persuade', 'establish', 'confirm', 'include', 'offer', 'waive', 'bring', 'want', 'rely', 'instruct', 'esteem', 'read', 'represent', 'take', 'increase', 'thank', 'suffer', 'pursue', 'find', 'receive', 'feel', 'accept', 'limit', 'say', 'develop', 'occur']\n",
            "['come', 'happen', 'accept', 'read', 'count', 'require', 'represent', 'subject', 'conclude', 'resolve', 'admit', 'help', 'obtain', 'access', 'know', 'enter']\n",
            "['remain', 'abuse', 'prove', 'enter', 'come', 'deteriorate', 'count', 'punish', 'try', 'discover', 'assess', 'have', 'instruct', 'deny', 'require', 'register', 'conclude', 'agree', 'take', 'thank', 'suffer', 'feel', 'ensure', 'arise', 'need', 'negotiate', 'stand']\n",
            "['employ', 'set', 'act', 'serve', 'report', 'cause', 'convict', 'hold', 'enter', 'come', 'include', 'lifeone', 'bring', 'investigate', 'hung', 'happen', 'use', 'provide', 'require', 'show', 'register', 'result', 'go', 'arrange', 'understand', 'suffer', 'continue', 'claim', 'begin', 'gather', 'culminate', 'see']\n"
          ],
          "name": "stdout"
        },
        {
          "output_type": "stream",
          "text": [
            "/usr/lib/python3.6/runpy.py:193: UserWarning: [W008] Evaluating Doc.similarity based on empty vectors.\n",
            "  \"__main__\", mod_spec)\n",
            "/usr/lib/python3.6/runpy.py:193: UserWarning: [W008] Evaluating Doc.similarity based on empty vectors.\n",
            "  \"__main__\", mod_spec)\n",
            "/usr/lib/python3.6/runpy.py:193: UserWarning: [W008] Evaluating Doc.similarity based on empty vectors.\n",
            "  \"__main__\", mod_spec)\n",
            "/usr/lib/python3.6/runpy.py:193: UserWarning: [W008] Evaluating Doc.similarity based on empty vectors.\n",
            "  \"__main__\", mod_spec)\n",
            "/usr/lib/python3.6/runpy.py:193: UserWarning: [W008] Evaluating Doc.similarity based on empty vectors.\n",
            "  \"__main__\", mod_spec)\n",
            "/usr/lib/python3.6/runpy.py:193: UserWarning: [W008] Evaluating Doc.similarity based on empty vectors.\n",
            "  \"__main__\", mod_spec)\n",
            "/usr/lib/python3.6/runpy.py:193: UserWarning: [W008] Evaluating Doc.similarity based on empty vectors.\n",
            "  \"__main__\", mod_spec)\n",
            "/usr/lib/python3.6/runpy.py:193: UserWarning: [W008] Evaluating Doc.similarity based on empty vectors.\n",
            "  \"__main__\", mod_spec)\n"
          ],
          "name": "stderr"
        },
        {
          "output_type": "stream",
          "text": [
            "['apply', 'rape', 'convince', 'report', 'prove', 'could', 'convict', 'hold', 'hinder', 'achieve', 'allow', 'bring', 'waive', 'summon', 'disrupt', 'lead', 'instruct', 'manipulate', 'argue', 'proceed', 'prosecute', 'take', 'increase', 'suffer', 'continue', 'claim', 'find', 'contribute', 'accept', 'earning', 'predict', 'herafter', 'culminate']\n"
          ],
          "name": "stdout"
        },
        {
          "output_type": "stream",
          "text": [
            "/usr/lib/python3.6/runpy.py:193: UserWarning: [W008] Evaluating Doc.similarity based on empty vectors.\n",
            "  \"__main__\", mod_spec)\n",
            "/usr/lib/python3.6/runpy.py:193: UserWarning: [W008] Evaluating Doc.similarity based on empty vectors.\n",
            "  \"__main__\", mod_spec)\n",
            "/usr/lib/python3.6/runpy.py:193: UserWarning: [W008] Evaluating Doc.similarity based on empty vectors.\n",
            "  \"__main__\", mod_spec)\n",
            "/usr/lib/python3.6/runpy.py:193: UserWarning: [W008] Evaluating Doc.similarity based on empty vectors.\n",
            "  \"__main__\", mod_spec)\n",
            "/usr/lib/python3.6/runpy.py:193: UserWarning: [W008] Evaluating Doc.similarity based on empty vectors.\n",
            "  \"__main__\", mod_spec)\n",
            "/usr/lib/python3.6/runpy.py:193: UserWarning: [W008] Evaluating Doc.similarity based on empty vectors.\n",
            "  \"__main__\", mod_spec)\n",
            "/usr/lib/python3.6/runpy.py:193: UserWarning: [W008] Evaluating Doc.similarity based on empty vectors.\n",
            "  \"__main__\", mod_spec)\n",
            "/usr/lib/python3.6/runpy.py:193: UserWarning: [W008] Evaluating Doc.similarity based on empty vectors.\n",
            "  \"__main__\", mod_spec)\n"
          ],
          "name": "stderr"
        },
        {
          "output_type": "stream",
          "text": [
            "['employ', 'set', 'serve', 'report', 'cause', 'convict', 'hold', 'enter', 'come', 'charge', 'include', 'investigate', 'hung', 'use', 'register', 'remind', 'result', 'thank', 'go', 'arrange', 'understand', 'suffer', 'continue', 'need', 'gather', 'culminate', 'see']\n",
            "['serve', 'abuse', 'run', 'convict', 'hold', 'consider', 'ought', 'achieve', 'include', 'obtain', 'gain', 'bring', 'view', 'rely', 'argue', 'represent', 'conclude', 'enable', 'suffer', 'inform', 'feel', 'demonstrate', 'negotiate', 'commit', 'follow']\n",
            "['speak', 'claim', 'find', 'feel', 'settle', 'medicate', 'charge', 'arise', 'represent', 'include', 'proceed', 'take', 'persist', 'run', 'difficulty', 'reopen', 'feeling']\n",
            "['settle', 'pay', 'punish', 'attend', 'relate', 'realise']\n",
            "['have', 'learn', 'recognise', 'provide', 'offer', 'take', 'attend', 'abuse', 'pay', 'admit', 'continue']\n",
            "['report', 'abuse', 'join', 'prove', 'come', 'settle', 'charge', 'attempt', 'attend', 'obtain', 'deserve', 'disclose', 'produce', 'bring', 'reject', 'call', 'happen', 'prey', 'deny', 'argue', 'proceed', 'pass', 'take', 'increase', 'compensate', 'suffer', 'continue', 'select', 'find', 'destroy', 'value', 'affect', 'vary', 'see']\n",
            "['extend', 'invite', 'provide', 'count', 'leave', 'include', 'stay', 'allow', 'fail', 'go', 'participate', 'bring']\n",
            "['come', 'settle', 'enforce', 'offer', 'allow', 'attend', 'obtain', 'suspect', 'bring', 'diminish', 'start', 'stop', 'suffer', 'seek', 'receive', 'tendency', 'ensure', 'defend', 'offend', 'follow', 'file', 'culminate']\n",
            "['send', 'discuss', 'decide', 'leave', 'appeal', 'undergo', 'report', 'remain', 'mean', 'escape', 'know', 'respond', 'issue', 'realise', 'explain', 'tell', 'attempt', 'sell', 'ask', 'offer', 'enjoy', 'track', 'resolve', 'ignore', 'attend', 'help', 'harass', 'drive', 'try', 'spare', 'deserve', 'change', 'want', 'happen', 'refuse', 'show', 'use', 'kiss', 'argue', 'register', 'proceed', 'bury', 'take', 'result', 'attract', 'enrol', 'go', 'judge', 'hear', 'suffer', 'admit', 'pay', 'continue', 'claim', 'seek', 'owe', 'begin', 'feel', 'escalate', 'proceeding', 'address', 'put', 'avoid', 'affect', 'develop', 'fail', 'extended', 'turn', 'follow', 'cope']\n",
            "['believe', 'employ', 'live', 'leave', 'prove', 'know', 'hold', 'explain', 'tell', 'charge', 'confirm', 'suggest', 'include', 'offer', 'allow', 'face', 'help', 'obtain', 'bring', 'lead', 'deny', 'register', 'proceed', 'take', 'enable', 'suffer', 'admit', 'harm', 'continue', 'manage', 'claim', 'find', 'begin', 'exist', 'teach', 'need', 'secure', 'reveal', 'develop', 'turn', 'follow', 'failing']\n",
            "['employ', 'leave', 'eat', 'enjoy', 'assess', 'commit', 'suffer', 'admit', 'bring']\n",
            "['apply', 'appeal', 'know', 'come', 'allow', 'give', 'change', 'waive', 'maintain', 'bring', 'win', 'grow', 'happen', 'have', 'represent', 'operate', 'overturn', 'start', 'hear', 'sue', 'accept', 'oppose']\n",
            "['form', 'tell', 'deteriorate', 'perform', 'leave', 'bring', 'represent', 'need', 'subject', 'keep', 'take', 'allow', 'commit', 'expel', 'suffer', 'secure', 'intensify', 'convict']\n",
            "['sit', 'invite', 'instruct', 'pay', 'bolt', 'leave', 'argue', 'agree', 'attend', 'try', 'commit', 'occur', 'pursue', 'maintain', 'convict', 'confront', 'continue']\n",
            "['live', 'leave', 'report', 'abuse', 'join', 'know', 'tell', 'recover', 'groom', 'bring', 'have', 'lead', 'instruct', 'bolt', 'read', 'represent', 'stay', 'increase', 'protect', 'suffer', 'admit', 'feel', 'fail', 'visit', 'affect']\n",
            "['claim', 'disclose', 'employ', 'recover', 'happen', 'signify', 'commit', 'develop', 'result', 'raise', 'abuse', 'give', 'affect', 'bring', 'rise', 'disrupt']\n",
            "['claim', 'ride', 'receive', 'refuse', 'charge', 'count', 'catch', 'represent', 'validate', 'take', 'appear', 'attend', 'look', 'involve', 'run', 'suffer', 'know', 'order']\n",
            "['employ', 'accept', 'setting', 'argue', 'look', 'take', 'allow', 'occur', 'arrange']\n",
            "['manage', 'come', 'happen', 'recover', 'deny', 'ask', 'fail', 'negotiate', 'abuse', 'suffer', 'admit']\n",
            "['receive', 'settle', 'care', 'plead', 'appear', 'abuse', 'pay', 'suffer', 'follow', 'bring']\n",
            "['believe', 'abandon', 'leave', 'remain', 'neglect', 'deteriorate', 'bear', 'remove', 'include', 'allow', 'help', 'require', 'argue', 'diagnose', 'take', 'thrive', 'devastate', 'suffer', 'claim', 'begin', 'care', 'areaswhen', 'experienced', 'need', 'fail', 'involve', 'negotiate', 'cope']\n"
          ],
          "name": "stdout"
        },
        {
          "output_type": "stream",
          "text": [
            "/usr/lib/python3.6/runpy.py:193: UserWarning: [W008] Evaluating Doc.similarity based on empty vectors.\n",
            "  \"__main__\", mod_spec)\n",
            "/usr/lib/python3.6/runpy.py:193: UserWarning: [W008] Evaluating Doc.similarity based on empty vectors.\n",
            "  \"__main__\", mod_spec)\n",
            "/usr/lib/python3.6/runpy.py:193: UserWarning: [W008] Evaluating Doc.similarity based on empty vectors.\n",
            "  \"__main__\", mod_spec)\n",
            "/usr/lib/python3.6/runpy.py:193: UserWarning: [W008] Evaluating Doc.similarity based on empty vectors.\n",
            "  \"__main__\", mod_spec)\n",
            "/usr/lib/python3.6/runpy.py:193: UserWarning: [W008] Evaluating Doc.similarity based on empty vectors.\n",
            "  \"__main__\", mod_spec)\n",
            "/usr/lib/python3.6/runpy.py:193: UserWarning: [W008] Evaluating Doc.similarity based on empty vectors.\n",
            "  \"__main__\", mod_spec)\n",
            "/usr/lib/python3.6/runpy.py:193: UserWarning: [W008] Evaluating Doc.similarity based on empty vectors.\n",
            "  \"__main__\", mod_spec)\n",
            "/usr/lib/python3.6/runpy.py:193: UserWarning: [W008] Evaluating Doc.similarity based on empty vectors.\n",
            "  \"__main__\", mod_spec)\n"
          ],
          "name": "stderr"
        },
        {
          "output_type": "stream",
          "text": [
            "['employ', 'enter', 'convict', 'entrust', 'settle', 'spend', 'worry', 'offer', 'ground', 'bring', 'upset', 'take', 'stop', 'suffer', 'continue', 'find', 'feel', 'care', 'accept', 'arise', 'turn', 'dowsing']\n",
            "['striking', 'act', 'transpire', 'know', 'reach', 'come', 'let', 'allow', 'harass', 'obtain', 'bring', 'learn', 'show', 'require', 'agree', 'point', 'protect', 'pay', 'suffer', 'die', 'continue', 'claim', 'find', 'feel', 'begin', 'accept', 'fail', 'commit', 'move']\n",
            "['receive', 'have', 'agree', 'gain', 'pay', 'follow', 'change']\n",
            "['betray', 'reside', 'hold', 'come', 'settle', 'recognise', 'allow', 'attend', 'bring', 'instruct', 'provide', 'sentencing', 'take', 'acknowledge', 'go', 'pay', 'suffer', 'admit', 'find', 'receive', 'wish', 'carry', 'visit', 'follow']\n",
            "['send', 'act', 'follow', 'respect', 'prove', 'respond', 'settle', 'confirm', 'offer', 'attend', 'prepare', 'disclose', 'bring', 'arrest', 'instruct', 'take', 'allege', 'suffer', 'admit', 'inform', 'proceeding', 'accept', 'avoid', 'say', 'occur', 'commit', 'affect', 'satisfy']\n",
            "['believe', 'cause', 'convict', 'extend', 'persuade', 'perpetrate', 'confirm', 'offer', 'allow', 'help', 'bring', 'waive', 'disrupt', 'instruct', 'deny', 'represent', 'suffer', 'continue', 'cease', 'receive', 'find', 'accept', 'defend', 'say', 'develop', 'occur', 'oppose']\n",
            "['believe', 'consume', 'set', 'decide', 'warrant', 'approve', 'advise', 'extradite', 'convict', 'settle', 'connect', 'include', 'keep', 'locate', 'try', 'obtain', 'suspect', 'bring', 'maintain', 'investigate', 'deny', 'plead', 'outcome', 'conclude', 'agree', 'take', 'go', 'allege', 'arrange', 'hear', 'suffer', 'pursue', 'continue', 'seek', 'affect', 'involve', 'commit', 'follow', 'order']\n",
            "['claim', 'move', 'find', 'begin', 'teach', 'represent', 'diagnose', 'subject', 'locate', 'take', 'result', 'attend', 'commit', 'suffer', 'secure', 'bring']\n",
            "['come', 'invite', 'instruct', 'bolt', 'teach', 'stay', 'secure', 'prosecute', 'odulele', 'respect', 'discover', 'suffer', 'pursue']\n"
          ],
          "name": "stdout"
        },
        {
          "output_type": "stream",
          "text": [
            "/usr/lib/python3.6/runpy.py:193: UserWarning: [W008] Evaluating Doc.similarity based on empty vectors.\n",
            "  \"__main__\", mod_spec)\n",
            "/usr/lib/python3.6/runpy.py:193: UserWarning: [W008] Evaluating Doc.similarity based on empty vectors.\n",
            "  \"__main__\", mod_spec)\n",
            "/usr/lib/python3.6/runpy.py:193: UserWarning: [W008] Evaluating Doc.similarity based on empty vectors.\n",
            "  \"__main__\", mod_spec)\n",
            "/usr/lib/python3.6/runpy.py:193: UserWarning: [W008] Evaluating Doc.similarity based on empty vectors.\n",
            "  \"__main__\", mod_spec)\n",
            "/usr/lib/python3.6/runpy.py:193: UserWarning: [W008] Evaluating Doc.similarity based on empty vectors.\n",
            "  \"__main__\", mod_spec)\n",
            "/usr/lib/python3.6/runpy.py:193: UserWarning: [W008] Evaluating Doc.similarity based on empty vectors.\n",
            "  \"__main__\", mod_spec)\n",
            "/usr/lib/python3.6/runpy.py:193: UserWarning: [W008] Evaluating Doc.similarity based on empty vectors.\n",
            "  \"__main__\", mod_spec)\n",
            "/usr/lib/python3.6/runpy.py:193: UserWarning: [W008] Evaluating Doc.similarity based on empty vectors.\n",
            "  \"__main__\", mod_spec)\n"
          ],
          "name": "stderr"
        },
        {
          "output_type": "stream",
          "text": [
            "['denial', 'issue', 'come', 'let', 'disagree', 'allow', 'ground', 'bring', 'have', 'show', 'provide', 'deny', 'agree', 'result', 'protect', 'pay', 'suffer', 'continue', 'claim', 'wish', 'accept', 'fail', 'commit']\n",
            "['settle', 'bring', 'include', 'subject', 'remind', 'take', 'designate', 'acquit', 'suffer', 'constitute']\n",
            "['set', 'advise', 'intoxicate', 'befriend', 'issue', 'speak', 'come', 'tell', 'arrive', 'let', 'relive', 'locate', 'allow', 'circulate', 'lie', 'help', 'write', 'give', 'bring', 'want', 'sit', 'have', 'instruct', 'note', 'argue', 'diagnose', 'pass', 'take', 'result', 'acknowledge', 'raise', 'cover', 'arrange', 'suffer', 'hide', 'continue', 'manage', 'find', 'begin', 'feel', 'ensure', 'proceeding', 'accept', 'suppose', 'need', 'involve', 'negotiate', 'affect', 'notice']\n",
            "['support', 'inform', 'find', 'employ', 'provide', 'ask', 'diagnose', 'include', 'secure', 'return', 'fall', 'report', 'ground', 'visit', 'help', 'suffer', 'pursue', 'bring']\n",
            "['send', 'traumatise', 'advise', 'report', 'neglect', 'steal', 'review', 'tell', 'settle', 'charge', 'remove', 'keep', 'offer', 'attend', 'help', 'deserve', 'give', 'disclose', 'bring', 'happen', 'have', 'refuse', 'note', 'plead', 'deny', 'register', 'proceed', 'conclude', 'take', 'protect', 'understand', 'suffer', 'admit', 'sue', 'beat', 'claim', 'complete', 'begin', 'play', 'find', 'owe', 'accept', 'assist', 'reveal', 'involve', 'promise', 'follow', 'notice', 'prepare']\n",
            "['act', 'approve', 'remain', 'fund', 'laugh', 'attend', 'obtain', 'give', 'disclose', 'happen', 'instruct', 'require', 'argue', 'invest', 'suffer', 'pursue', 'admit', 'continue', 'feel', 'accept', 'turn', 'commit', 'affect']\n",
            "['leave', 'undergo', 'listen', 'report', 'abuse', 'know', 'speak', 'explain', 'tell', 'charge', 'let', 'confirm', 'remove', 'help', 'obtain', 'discover', 'disclose', 'give', 'bring', 'able', 'require', 'register', 'take', 'protect', 'suffer', 'admit', 'continue', 'find', 'begin', 'endure', 'suppose', 'need', 'return', 'carry', 'reveal', 'fail', 'involve', 'turn', 'follow', 'failing']\n",
            "['commence', 'follow', 'cause', 'abuse', 'join', 'settle', 'remove', 'damage', 'allow', 'succeed', 'perform', 'distract', 'result', 'suffer', 'admit', 'continue', 'claim', 'receive', 'secure', 'develop', 'occur', 'affect']\n",
            "['apply', 'employ', 'serve', 'abuse', 'settle', 'perpetrate', 'achieve', 'allow', 'write', 'happen', 'provide', 'argue', 'agree', 'take', 'acknowledge', 'go', 'deal', 'pay', 'compensate', 'suffer', 'claim', 'feel', 'accept', 'avoid', 'work', 'appear', 'affect']\n",
            "['appeal', 'rule', 'expose', 'monitor', 'run', 'escape', 'know', 'contest', 'remove', 'allow', 'give', 'waive', 'have', 'represent', 'stay', 'take', 'go', 'allege', 'suffer', 'claim', 'accept', 'return', 'fail']\n",
            "['claim', 'receive', 'proceeding', 'settle', 'live', 'argue', 'remove', 'take', 'contested']\n",
            "['answer', 'settle', 'employ', 'spend', 'deny', 'represent', 'shut', 'obtain', 'building', 'pay', 'admit']\n",
            "['assume', 'believe', 'inflict', 'advise', 'convict', 'settle', 'rebuild', 'help', 'discover', 'disclose', 'bring', 'have', 'instruct', 'plead', 'argue', 'prosecute', 'result', 'enable', 'suffer', 'die', 'feel', 'need', 'defend', 'follow', 'see']\n",
            "['cause', 'attempt', 'include', 'groom', 'obtain', 'assess', 'maintain', 'investigate', 'want', 'happen', 'instruct', 'refuse', 'deny', 'argue', 'diagnose', 'prosecute', 'take', 'hear', 'suffer', 'entitle', 'find', 'accept', 'defend', 'turn', 'affect', 'cope']\n",
            "['commence', 'abandon', 'leave', 'fall', 'mean', 'join', 'settle', 'attempt', 'groom', 'offer', 'deprive', 'attend', 'disclose', 'bring', 'want', 'happen', 'instruct', 'deny', 'argue', 'enrol', 'pay', 'suffer', 'pursue', 'entitle', 'claim', 'begin', 'resurrect']\n",
            "['call', 'happen', 'instruct', 'pursue', 'bolt', 'follow', 'argue', 'reveal', 'commit', 'join', 'run', 'disclose', 'investigate']\n",
            "['employ', 'asset', 'advise', 'convict', 'attempt', 'locate', 'imprison', 'meaning', 'bring', 'have', 'deny', 'plead', 'represent', 'prosecute', 'take', 'pay', 'suffer', 'admit', 'continue', 'claim', 'begin', 'commit']\n",
            "['uncover', 'bridge', 'mean', 'prove', 'run', 'achieve', 'include', 'offer', 'locate', 'attend', 'gain', 'deserve', 'write', 'investigate', 'engage', 'have', 'deny', 'argue', 'take', 'stop', 'compensate', 'pay', 'reflect', 'hurt', 'find', 'feel', 'begin', 'survive', 'receive', 'say', 'fail', 'occur', 'affect']\n",
            "['entrust', 'claim', 'cease', 'surround', 'knowledge', 'accept', 'live', 'settle', 'working', 'leave', 'provide', 'emanate', 'take', 'appear', 'protect', 'pay', 'suffer', 'bring']\n",
            "['set', 'leave', 'farrands', 'report', 'prove', 'hold', 'come', 'charge', 'include', 'groom', 'allow', 'attend', 'obtain', 'rise', 'require', 'argue', 'frustrate', 'plead', 'take', 'raise', 'go', 'identify', 'reflect', 'admit', 'suffer', 'continue', 'find', 'teach', 'assist', 'occur']\n"
          ],
          "name": "stdout"
        },
        {
          "output_type": "stream",
          "text": [
            "/usr/lib/python3.6/runpy.py:193: UserWarning: [W008] Evaluating Doc.similarity based on empty vectors.\n",
            "  \"__main__\", mod_spec)\n",
            "/usr/lib/python3.6/runpy.py:193: UserWarning: [W008] Evaluating Doc.similarity based on empty vectors.\n",
            "  \"__main__\", mod_spec)\n",
            "/usr/lib/python3.6/runpy.py:193: UserWarning: [W008] Evaluating Doc.similarity based on empty vectors.\n",
            "  \"__main__\", mod_spec)\n",
            "/usr/lib/python3.6/runpy.py:193: UserWarning: [W008] Evaluating Doc.similarity based on empty vectors.\n",
            "  \"__main__\", mod_spec)\n",
            "/usr/lib/python3.6/runpy.py:193: UserWarning: [W008] Evaluating Doc.similarity based on empty vectors.\n",
            "  \"__main__\", mod_spec)\n",
            "/usr/lib/python3.6/runpy.py:193: UserWarning: [W008] Evaluating Doc.similarity based on empty vectors.\n",
            "  \"__main__\", mod_spec)\n",
            "/usr/lib/python3.6/runpy.py:193: UserWarning: [W008] Evaluating Doc.similarity based on empty vectors.\n",
            "  \"__main__\", mod_spec)\n",
            "/usr/lib/python3.6/runpy.py:193: UserWarning: [W008] Evaluating Doc.similarity based on empty vectors.\n",
            "  \"__main__\", mod_spec)\n"
          ],
          "name": "stderr"
        },
        {
          "output_type": "stream",
          "text": [
            "['employ', 'assault', 'remember', 'cause', 'count', 'establish', 'allow', 'help', 'suspend', 'bring', 'learn', 'raise', 'prevent', 'suffer', 'seek', 'feel', 'need', 'fail', 'commit', 'follow', 'failing']\n",
            "['pay', 'neglect', 'admit']\n",
            "['pay']\n",
            "['leave', 'abuse', 'speak', 'tell', 'forget', 'achieve', 'include', 'allow', 'try', 'help', 'give', 'bring', 'upset', 'provide', 'protect', 'die', 'feel', 'play', 'proceeding', 'negotiate', 'feeling']\n",
            "['accept', 'live', 'assault', 'commit', 'develop', 'stem', 'acquit', 'suffer', 'pursue', 'bring', 'sum']\n",
            "['believe', 'cause', 'acquit', 'convict', 'hold', 'end', 'complainant', 'charge', 'count', 'perpetrate', 'establish', 'include', 'offer', 'try', 'succeed', 'give', 'bring', 'have', 'instruct', 'manipulate', 'eat', 'represent', 'acknowledge', 'suffer', 'confront', 'find', 'feel', 'subject', 'develop', 'follow', 'cheat']\n",
            "['believe', 'convince', 'live', 'reach', 'convict', 'settle', 'consider', 'count', 'establish', 'bringing', 'offer', 'allow', 'relate', 'benefit', 'disclose', 'give', 'internalise', 'bring', 'waive', 'have', 'manipulate', 'eat', 'stay', 'proceed', 'suffer', 'pursue', 'find', 'feel', 'escalate', 'accept', 'subject', 'develop', 'involve', 'stem']\n",
            "['authorise', 'report', 'reach', 'govern', 'charge', 'attempt', 'establish', 'perpetrate', 'fulfil', 'obtain', 'disclose', 'bring', 'empower', 'instruct', 'lead', 'disbelieve', 'conclude', 'agree', 'prosecute', 'result', 'thank', 'identify', 'suffer', 'pursue', 'admit', 'claim', 'endure', 'subject', 'ostracise', 'stand', 'culminate', 'see']\n",
            "['earn', 'serve', 'compare', 'mean', 'know', 'convict', 'exacerbate', 'support', 'consider', 'establish', 'ask', 'include', 'offer', 'determine', 'obtain', 'treat', 'disclose', 'bring', 'aspire', 'instruct', 'refuse', 'provide', 'deny', 'represent', 'proceed', 'acknowledge', 'go', 'compensate', 'suffer', 'proceeding', 'accept', 'deem', 'fight', 'negotiate', 'stand', 'cheat']\n",
            "['come', 'tell', 'employ', 'agree', 'behave', 'mean', 'pay', 'suffer', 'suspect', 'continue']\n",
            "['decide', 'assault', 'thought', 'cause', 'prove', 'exacerbate', 'tell', 'settle', 'include', 'incur', 'assess', 'give', 'rely', 'instruct', 'learn', 'show', 'eat', 'conclude', 'hit', 'take', 'deal', 'disorderbbk', 'suffer', 'admit', 'pursue', 'communicate', 'supervisionbetween', 'claim', 'find', 'exist', 'accept', 'need', 'fear', 'behave']\n"
          ],
          "name": "stdout"
        },
        {
          "output_type": "stream",
          "text": [
            "/usr/lib/python3.6/runpy.py:193: UserWarning: [W008] Evaluating Doc.similarity based on empty vectors.\n",
            "  \"__main__\", mod_spec)\n",
            "/usr/lib/python3.6/runpy.py:193: UserWarning: [W008] Evaluating Doc.similarity based on empty vectors.\n",
            "  \"__main__\", mod_spec)\n",
            "/usr/lib/python3.6/runpy.py:193: UserWarning: [W008] Evaluating Doc.similarity based on empty vectors.\n",
            "  \"__main__\", mod_spec)\n",
            "/usr/lib/python3.6/runpy.py:193: UserWarning: [W008] Evaluating Doc.similarity based on empty vectors.\n",
            "  \"__main__\", mod_spec)\n",
            "/usr/lib/python3.6/runpy.py:193: UserWarning: [W008] Evaluating Doc.similarity based on empty vectors.\n",
            "  \"__main__\", mod_spec)\n",
            "/usr/lib/python3.6/runpy.py:193: UserWarning: [W008] Evaluating Doc.similarity based on empty vectors.\n",
            "  \"__main__\", mod_spec)\n",
            "/usr/lib/python3.6/runpy.py:193: UserWarning: [W008] Evaluating Doc.similarity based on empty vectors.\n",
            "  \"__main__\", mod_spec)\n",
            "/usr/lib/python3.6/runpy.py:193: UserWarning: [W008] Evaluating Doc.similarity based on empty vectors.\n",
            "  \"__main__\", mod_spec)\n",
            "/usr/lib/python3.6/runpy.py:193: UserWarning: [W008] Evaluating Doc.similarity based on empty vectors.\n",
            "  \"__main__\", mod_spec)\n",
            "/usr/lib/python3.6/runpy.py:193: UserWarning: [W008] Evaluating Doc.similarity based on empty vectors.\n",
            "  \"__main__\", mod_spec)\n",
            "/usr/lib/python3.6/runpy.py:193: UserWarning: [W008] Evaluating Doc.similarity based on empty vectors.\n",
            "  \"__main__\", mod_spec)\n",
            "/usr/lib/python3.6/runpy.py:193: UserWarning: [W008] Evaluating Doc.similarity based on empty vectors.\n",
            "  \"__main__\", mod_spec)\n",
            "/usr/lib/python3.6/runpy.py:193: UserWarning: [W008] Evaluating Doc.similarity based on empty vectors.\n",
            "  \"__main__\", mod_spec)\n",
            "/usr/lib/python3.6/runpy.py:193: UserWarning: [W008] Evaluating Doc.similarity based on empty vectors.\n",
            "  \"__main__\", mod_spec)\n",
            "/usr/lib/python3.6/runpy.py:193: UserWarning: [W008] Evaluating Doc.similarity based on empty vectors.\n",
            "  \"__main__\", mod_spec)\n",
            "/usr/lib/python3.6/runpy.py:193: UserWarning: [W008] Evaluating Doc.similarity based on empty vectors.\n",
            "  \"__main__\", mod_spec)\n"
          ],
          "name": "stderr"
        },
        {
          "output_type": "stream",
          "text": [
            "['feel', 'progress', 'instruct', 'consider', 'pursue', 'recover', 'represent', 'reveal', 'suffer', 'die', 'bring']\n",
            "['receive', 'endure', 'recover', 'leave', 'include', 'groom', 'work', 'prosecute', 'aggravate', 'befriend', 'give', 'bring']\n",
            "['believe', 'come', 'claim', 'happen', 'instruct', 'recover', 'show', 'bolt', 'commit', 'admit', 'go', 'abuse', 'pursue', 'convict']\n",
            "['believe', 'claim', 'purport', 'settle', 'have', 'enter', 'require', 'reduce', 'agree', 'admit', 'take', 'look', 'obtain', 'actions', 'pay', 'suffer', 'give', 'bring', 'realise']\n",
            "['support', 'grow', 'consider', 'establish', 'leave', 'need', 'involved', 'cover', 'place', 'serve', 'offend', 'say', 'work', 'agree', 'involve', 'build', 'appreciate', 'visit', 'attend', 'remain']\n",
            "['live', 'washing', 'decide', 'meet', 'mean', 'get', 'settle', 'working', 'include', 'remove', 'attend', 'help', 'obtain', 'give', 'improve', 'have', 'manage', 'seek', 'feel', 'play', 'care', 'ensure', 'describe', 'need', 'offend', 'revisit', 'look', 'develop', 'visit', 'would', 'affect']\n",
            "['bruising', 'adopt', 'contain', 'neglect', 'know', 'plan', 'consider', 'pre', 'include', 'allow', 'view', 'identify', 'understand', 'suffer', 'ensure', 'learning', 'need', 'look', 'involve', 'follow', 'vary']\n",
            "['discuss', 'apply', 'express', 'live', 'relocate', 'decide', 'meet', 'leave', 'reside', 'request', 'discharge', 'remain', 'withdraw', 'mean', 'required', 'neglect', 'delay', 'hold', 'extend', 'support', 'come', 'consider', 'remove', 'attend', 'assess', 'disclose', 'engage', 'supervise', 'provide', 'require', 'register', 'agree', 'take', 'result', 'start', 'go', 'thrive', 'protect', 'identify', 'suffer', 'receive', 'feel', 'find', 'care', 'begin', 'implement', 'describe', 'undertake', 'deem', 'place', 'return', 'carry', 'demonstrate', 'appear', 'fail', 'work', 'look', 'publish', 'recommend', 'follow']\n",
            "['land', 'die', 'say', 'throw', 'start', 'want', 'know', 'get', 'move', 'hurt']\n",
            "['come', 'find', 'count', 'remain', 'commit', 'relate', 'convict']\n",
            "['manage', 'abandon', 'find', 'save', 'leave', 'bear', 'give', 'know', 'do', 'be']\n",
            "['sell', 'buy', 'help', 'hear', 'do', 'want']\n",
            "['get', 'break', 'come', 'tell', 'love', 'prosecute', 'wounded', 'know', 'do', 'hurt']\n",
            "['send', 'play', 'watch', 'save', 'say', 'pursue', 'do', 'want']\n",
            "['find', 'spend', 'shake', 'bear', 'bleed', 'cry', 'start', 'stop', 'could', 'get', 'be']\n",
            "['sit', 'forget', 'happen', 'punch', 'say', 'hit', 'prosecute', 'try', 'kill', 'hear', 'wound']\n",
            "['think', 'drown', 'look', 'take', 'frighten', 'fight', 'pick', 'lie', 'hear', 'die']\n",
            "['find', 'tell', 'happen', 'ask', 'counselling', 'say', 'take', 'testify', 'can']\n",
            "['beat', 'boil', 'hit', 'burn', 'start', 'stop', 'would', 'die']\n",
            "['disappear', 'find', 'live', 'contact', 'utilize', 'diagnose', 'need', 'locate', 'present', 'reconnect']\n",
            "['live', 'adopt', 'meet', 'reside', 'reach', 'suggest', 'ask', 'locate', 'inspect', 'give', 'engage', 'indicate', 'notify', 'agree', 'take', 'start', 'hear', 'wish', 'receive', 'marry', 'look', 'meeting', 'visit', 'married']\n",
            "['assume', 'live', 'leave', 'reside', 'neglect', 'come', 'update', 'inspect', 'attend', 'flee', 'compose', 'bring', 'diagnose', 'start', 'immigrate', 'hear', 'receive', 'describe', 'need', 'say', 'appear', 'move']\n",
            "['send', 'inform', 'grow', 'begin', 'adopt', 'relocate', 'sibling', 'search', 'reunited', 'discover']\n",
            "['support', 'care', 'conduct', 'need', 'keep', 'return', 'request', 'assess', 'adjust']\n",
            "['extend', 'proceeding', 'live', 'provide', 'leave', 'confirm', 'ask', 'touch', 'decide', 'enable', 'remain', 'visit', 'help', 'arrange', 'maintain', 'want', 'share']\n",
            "['inform', 'plan', 'provide', 'ask', 'involve', 'help', 'insist', 'arrange', 'give', 'follow', 'indicate']\n",
            "['believe', 'send', 'live', 'reside', 'prove', 'join', 'escape', 'know', 'speak', 'settle', 'spend', 'forget', 'confirm', 'ask', 'obtain', 'flee', 'bring', 'want', 'happen', 'have', 'continue', 'find', 'need', 'say', 'work', 'look', 'reunite', 'visit']\n",
            "['assume', 'seek', 'find', 'settle', 'live', 'establish', 'meet', 'detect', 'report', 'submit', 'arrange', 'move']\n",
            "['convey', 'receive', 'inform', 'settle', 'continue', 'instruct', 'decide', 'establish', 'undertake', 'undergo', 'take', 'involve', 'prevent', 'get', 'realise']\n",
            "['get', 'evaluate', 'relieve', 'feel', 'survive', 'catch', 'establish', 'uncover', 'ask', 'gather', 'locate', 'carry', 'assist', 'take', 'start', 'go', 'help', 'give', 'respond', 'bring']\n",
            "['divorced', 'convince', 'leave', 'conduct', 'reside', 'support', 'deteriorate', 'ask', 'attend', 'give', 'do', 'instruct', 'provide', 'integrate', 'take', 'raise', 'marry', 'receive', 'care', 'return', 'involve']\n",
            "['confiscate', 'appoint', 'spend', 'ensure', 'leave', 'complicate', 'daughter', 'contact', 'fear', 'take', 'pick', 'raise', 'process', 'would', 'make', 'understand', 'remain', 'coordinate', 'prepare']\n",
            "['find', 'feel', 'have', 'express', 'care', 'settle', 'hospitalise', 'fall', 'prosecute', 'take', 'propose', 'birth', 'assess', 'follow', 'reach', 'move', 'be']\n",
            "['practice', 'seek', 'find', 'tell', 'have', 'save', 'close', 'mention', 'establish', 'hope', 'locate', 'take', 'result', 'reunite', 'turn', 'involve', 'flee', 'intervene', 'want', 'target']\n",
            "['discuss', 'exist', 'have', 'convince', 'leave', 'include', 'integrate', 'gather', 'return', 'take', 'develop', 'promise', 'reach', 'steal', 'prepare']\n",
            "['live', 'adopt', 'respect', 'know', 'come', 'explain', 'tell', 'misbehave', 'threaten', 'bring', 'grow', 'provide', 'collaboration', 'integrate', 'start', 'contribute', 'ensure', 'need', 'place', 'develop', 'appear', 'move']\n",
            "['manage', 'find', 'injure', 'grow', 'end', 'care', 'shelter', 'decide', 'leave', 'miss', 'establish', 'include', 'integrate', 'formulate', 'locate', 'help', 'difficulty']\n",
            "['ere', 'leave', 'remain', 'realise', 'appoint', 'tell', 'end', 'keep', 'locate', 'assess', 'give', 'bring', 'sibling', 'agree', 'thank', 'go', 'inform', 'find', 'begin', 'left', 'see']\n"
          ],
          "name": "stdout"
        }
      ]
    },
    {
      "cell_type": "code",
      "metadata": {
        "colab": {
          "base_uri": "https://localhost:8080/",
          "height": 687
        },
        "id": "4cG7JduKogFV",
        "outputId": "e5dfe8b3-e441-4240-ca17-0df81d329dd4"
      },
      "source": [
        "iss.head(8)"
      ],
      "execution_count": 23,
      "outputs": [
        {
          "output_type": "execute_result",
          "data": {
            "text/html": [
              "<div>\n",
              "<style scoped>\n",
              "    .dataframe tbody tr th:only-of-type {\n",
              "        vertical-align: middle;\n",
              "    }\n",
              "\n",
              "    .dataframe tbody tr th {\n",
              "        vertical-align: top;\n",
              "    }\n",
              "\n",
              "    .dataframe thead th {\n",
              "        text-align: right;\n",
              "    }\n",
              "</style>\n",
              "<table border=\"1\" class=\"dataframe\">\n",
              "  <thead>\n",
              "    <tr style=\"text-align: right;\">\n",
              "      <th></th>\n",
              "      <th>ID</th>\n",
              "      <th>Text</th>\n",
              "      <th>POS_Verbs</th>\n",
              "      <th>Category_Scores</th>\n",
              "    </tr>\n",
              "  </thead>\n",
              "  <tbody>\n",
              "    <tr>\n",
              "      <th>0</th>\n",
              "      <td>1</td>\n",
              "      <td>behalf ms amira like ask cooperation trace biological mother family member biological mother possibly move canada accord information unhcr receive sure lot information mother like search biological mother lebanon ngo try find biological mother unfortunately succeed find contact unhcr assistance ...</td>\n",
              "      <td>[invite, live, decide, leave, thought, know, respond, come, spend, ask, locate, try, succeed, thank, hear, receive, find, look, involve, refer, move]</td>\n",
              "      <td>{'abandon': 7.44338762220703, 'molestation': 1.6155281852956838, 'beat': 6.121544117671558, 'fight': 7.190839256353506, 'divorce': 5.315594822593748, 'threaten': 6.138720156271343, 'drugs': 5.295534483639377, 'neglect': 5.766154280950334}</td>\n",
              "    </tr>\n",
              "    <tr>\n",
              "      <th>1</th>\n",
              "      <td>2</td>\n",
              "      <td>follow information supply youth welfare office berlin social worker child welfare alert responsible family 2014 father lara fadi come lebanon deport country 2017 massively consume hero ine years mother addict 14 year old substitution programme year la year free substitute child attend kindergard...</td>\n",
              "      <td>[wait, send, consume, evolve, live, leave, appeal, motivate, hope, conduct, add, reside, renew, could, run, get, reach, deport, hold, speak, come, appoint, support, tell, case, suggest, bear, ask, include, translate, tolerate, locate, oblige, mind, allow, afford, attend, try, help, do, distribut...</td>\n",
              "      <td>{'abandon': 26.885090545054705, 'molestation': 7.142567118744222, 'beat': 20.685092793599622, 'fight': 25.19151868459089, 'divorce': 17.759010708256845, 'threaten': 24.303360429536113, 'drugs': 19.508376917134452, 'neglect': 21.383043141295698}</td>\n",
              "    </tr>\n",
              "    <tr>\n",
              "      <th>2</th>\n",
              "      <td>3</td>\n",
              "      <td>hope sane challenging time kindly ask support case anas dob 30062004 unfortunately information case mother nadia anaslive syria contact mobile father live hamburg family live hamburg parent get divorce mother child leave syria 2009 father contact child 2010 family court hamburg decide custody li...</td>\n",
              "      <td>[live, decide, leave, conduct, hope, add, request, renew, know, get, enter, issue, hang, speak, come, support, extend, explain, accompany, establish, ask, offer, attempts, attend, interview, insist, relate, write, be, want, refuse, require, stay, assign, take, continue, beat, inform, mention, ne...</td>\n",
              "      <td>{'abandon': 17.80065186781162, 'molestation': 4.413768279266658, 'beat': 12.495437224932386, 'fight': 15.770288705574108, 'divorce': 11.70931078767415, 'threaten': 15.294535052207921, 'drugs': 12.187545951123914, 'neglect': 13.855573054481198}</td>\n",
              "    </tr>\n",
              "    <tr>\n",
              "      <th>3</th>\n",
              "      <td>4</td>\n",
              "      <td>child protection office beirut lebanon request iss assistance 6 year old syrian child currently live germany order facilitate establishment contact father lebanon ensure possible reunification provide social report family situation mr ali mrs leila syrian national get marry 2010 6 month start wa...</td>\n",
              "      <td>[live, convince, leave, meet, forbid, request, run, get, know, scratch, come, spend, enforce, establish, ask, accord, locate, allow, facilitate, try, help, suffered, cope, be, refuse, provide, stay, hit, insure, take, agree, start, go, enrol, continue, seek, marry, aim, insult, ensure, left, con...</td>\n",
              "      <td>{'abandon': 19.338544380245548, 'molestation': 4.537376180666153, 'beat': 13.407807145000568, 'fight': 17.213382985013677, 'divorce': 12.743179276689794, 'threaten': 17.296360465050583, 'drugs': 13.708773469037482, 'neglect': 15.410223079452784}</td>\n",
              "    </tr>\n",
              "    <tr>\n",
              "      <th>4</th>\n",
              "      <td>5</td>\n",
              "      <td>write child family borders uk reque assistance case involve child place foster carer uk foster carer travel lebanon frequently like child holiday child foster care child service bromley parental responsibility ensure child safe time ask cooperation visit family friend accommodate child foster ca...</td>\n",
              "      <td>[authorise, employ, live, advise, report, greet, remain, cause, disappoint, know, explore, support, explain, come, settle, spend, consider, expect, confirm, arrive, ask, remove, include, administer, offer, keep, locate, allow, facilitate, attend, intend, prepare, relate, write, want, walk, accom...</td>\n",
              "      <td>{'abandon': 23.20231096127486, 'molestation': 5.0012582817507765, 'beat': 14.78274882415474, 'fight': 19.759391404211605, 'divorce': 15.64286970911989, 'threaten': 20.424733901412797, 'drugs': 17.502266685946402, 'neglect': 19.736560617194314}</td>\n",
              "    </tr>\n",
              "    <tr>\n",
              "      <th>5</th>\n",
              "      <td>6</td>\n",
              "      <td>ms sd german national contact iss germany looking father meet believe live egypt iss germany refer case iss cairo start trace sd father father have move time period render trace difficult social worker finally find father deal strong denial allege daughter sustain mediation effort father agree i...</td>\n",
              "      <td>[believe, find, have, render, live, allege, meet, agree, start, refer, deal, sustain, looking, initiate]</td>\n",
              "      <td>{'abandon': 4.7866240556002975, 'molestation': 1.4502399652821751, 'beat': 3.6145573543081033, 'fight': 4.501720416697074, 'divorce': 3.500120726694663, 'threaten': 4.120783544176529, 'drugs': 3.6250766230069065, 'neglect': 3.931116247561354}</td>\n",
              "    </tr>\n",
              "    <tr>\n",
              "      <th>6</th>\n",
              "      <td>7</td>\n",
              "      <td>jose deport usa homeland mexico leave wife mariel son javier mariel health deteriorate rapidly begin use drug time javier turn 5 year old removed mother care permanently place foster care usa child protection authority cpa note javier irregular positive contact father cpa reach iss usa enquire p...</td>\n",
              "      <td>[inform, deteriorate, begin, care, enquire, use, provide, leave, decide, make, conduct, place, return, assist, removed, turn, foster, deport]</td>\n",
              "      <td>{'abandon': 6.258153048782896, 'molestation': 1.9091899654232038, 'beat': 3.5482680762499563, 'fight': 5.063221982467471, 'divorce': 4.216101825008092, 'threaten': 5.664362720729209, 'drugs': 4.682943795043872, 'neglect': 5.700303359343504}</td>\n",
              "    </tr>\n",
              "    <tr>\n",
              "      <th>7</th>\n",
              "      <td>8</td>\n",
              "      <td>karim 6 ziad 8 son divorce lebanese national father remarry lebanese woman canadian passport go live canada follow severe quarrel father wife father imprison child place foster care canadian central authority father ask return son lebanon live paternal grandparent iss canada contact canadian ass...</td>\n",
              "      <td>[extend, accommodate, find, express, have, live, encourage, ask, prepare, return, imprison, verify, go, help, arrange, enable, assess, follow, maintain, remarry]</td>\n",
              "      <td>{'abandon': 6.877215378072514, 'molestation': 1.4401974939647315, 'beat': 3.923020292099927, 'fight': 5.176307469271331, 'divorce': 4.3822557510902245, 'threaten': 5.936858448546806, 'drugs': 4.4294019595060075, 'neglect': 5.445764372938662}</td>\n",
              "    </tr>\n",
              "  </tbody>\n",
              "</table>\n",
              "</div>"
            ],
            "text/plain": [
              "   ID  ...                                                                                                                                                                                                                                        Category_Scores\n",
              "0   1  ...         {'abandon': 7.44338762220703, 'molestation': 1.6155281852956838, 'beat': 6.121544117671558, 'fight': 7.190839256353506, 'divorce': 5.315594822593748, 'threaten': 6.138720156271343, 'drugs': 5.295534483639377, 'neglect': 5.766154280950334}\n",
              "1   2  ...   {'abandon': 26.885090545054705, 'molestation': 7.142567118744222, 'beat': 20.685092793599622, 'fight': 25.19151868459089, 'divorce': 17.759010708256845, 'threaten': 24.303360429536113, 'drugs': 19.508376917134452, 'neglect': 21.383043141295698}\n",
              "2   3  ...    {'abandon': 17.80065186781162, 'molestation': 4.413768279266658, 'beat': 12.495437224932386, 'fight': 15.770288705574108, 'divorce': 11.70931078767415, 'threaten': 15.294535052207921, 'drugs': 12.187545951123914, 'neglect': 13.855573054481198}\n",
              "3   4  ...  {'abandon': 19.338544380245548, 'molestation': 4.537376180666153, 'beat': 13.407807145000568, 'fight': 17.213382985013677, 'divorce': 12.743179276689794, 'threaten': 17.296360465050583, 'drugs': 13.708773469037482, 'neglect': 15.410223079452784}\n",
              "4   5  ...    {'abandon': 23.20231096127486, 'molestation': 5.0012582817507765, 'beat': 14.78274882415474, 'fight': 19.759391404211605, 'divorce': 15.64286970911989, 'threaten': 20.424733901412797, 'drugs': 17.502266685946402, 'neglect': 19.736560617194314}\n",
              "5   6  ...     {'abandon': 4.7866240556002975, 'molestation': 1.4502399652821751, 'beat': 3.6145573543081033, 'fight': 4.501720416697074, 'divorce': 3.500120726694663, 'threaten': 4.120783544176529, 'drugs': 3.6250766230069065, 'neglect': 3.931116247561354}\n",
              "6   7  ...       {'abandon': 6.258153048782896, 'molestation': 1.9091899654232038, 'beat': 3.5482680762499563, 'fight': 5.063221982467471, 'divorce': 4.216101825008092, 'threaten': 5.664362720729209, 'drugs': 4.682943795043872, 'neglect': 5.700303359343504}\n",
              "7   8  ...      {'abandon': 6.877215378072514, 'molestation': 1.4401974939647315, 'beat': 3.923020292099927, 'fight': 5.176307469271331, 'divorce': 4.3822557510902245, 'threaten': 5.936858448546806, 'drugs': 4.4294019595060075, 'neglect': 5.445764372938662}\n",
              "\n",
              "[8 rows x 4 columns]"
            ]
          },
          "metadata": {
            "tags": []
          },
          "execution_count": 23
        }
      ]
    },
    {
      "cell_type": "code",
      "metadata": {
        "id": "dPX6f1ms0fbG"
      },
      "source": [
        "abandon = []\n",
        "molestation = []\n",
        "beat = []\n",
        "fight = []\n",
        "divorce = []\n",
        "threaten = []\n",
        "drugs = []\n",
        "neglect = []"
      ],
      "execution_count": 22,
      "outputs": []
    },
    {
      "cell_type": "code",
      "metadata": {
        "id": "Ij_fpJej0Qsw"
      },
      "source": [
        "for index, item in iss.iterrows():\n",
        "  abandon.append(item[3]['abandon'])\n",
        "  molestation.append(item[3]['molestation'])\n",
        "  beat.append(item[3]['beat'])\n",
        "  fight.append(item[3]['fight'])\n",
        "  divorce.append(item[3]['divorce'])\n",
        "  threaten.append(item[3]['threaten'])\n",
        "  drugs.append(item[3]['drugs'])\n",
        "  neglect.append(item[3]['neglect'])"
      ],
      "execution_count": 24,
      "outputs": []
    },
    {
      "cell_type": "code",
      "metadata": {
        "id": "jdgJkjFA1yRN"
      },
      "source": [
        "iss['Abandon'] = abandon\n",
        "iss['Molestation'] = molestation\n",
        "iss['Beat'] = beat\n",
        "iss['Fight'] = fight\n",
        "iss['Divorce'] = divorce\n",
        "iss['Threaten'] = threaten\n",
        "iss['Drugs'] = drugs\n",
        "iss['Neglect'] = neglect"
      ],
      "execution_count": 25,
      "outputs": []
    },
    {
      "cell_type": "code",
      "metadata": {
        "id": "iAe7JyVAwZ5n"
      },
      "source": [
        "iss.to_csv(os.path.join(path,'Abuse_Type.csv'), encoding = 'cp1252')"
      ],
      "execution_count": null,
      "outputs": []
    },
    {
      "cell_type": "code",
      "metadata": {
        "id": "mLpQxi1BSJVF",
        "colab": {
          "base_uri": "https://localhost:8080/",
          "height": 1000
        },
        "outputId": "a7f624b5-4a69-4c7d-d372-216b6d51b90d"
      },
      "source": [
        "iss.head(10)"
      ],
      "execution_count": 26,
      "outputs": [
        {
          "output_type": "execute_result",
          "data": {
            "text/html": [
              "<div>\n",
              "<style scoped>\n",
              "    .dataframe tbody tr th:only-of-type {\n",
              "        vertical-align: middle;\n",
              "    }\n",
              "\n",
              "    .dataframe tbody tr th {\n",
              "        vertical-align: top;\n",
              "    }\n",
              "\n",
              "    .dataframe thead th {\n",
              "        text-align: right;\n",
              "    }\n",
              "</style>\n",
              "<table border=\"1\" class=\"dataframe\">\n",
              "  <thead>\n",
              "    <tr style=\"text-align: right;\">\n",
              "      <th></th>\n",
              "      <th>ID</th>\n",
              "      <th>Text</th>\n",
              "      <th>POS_Verbs</th>\n",
              "      <th>Category_Scores</th>\n",
              "      <th>Abandon</th>\n",
              "      <th>Molestation</th>\n",
              "      <th>Beat</th>\n",
              "      <th>Fight</th>\n",
              "      <th>Divorce</th>\n",
              "      <th>Threaten</th>\n",
              "      <th>Drugs</th>\n",
              "      <th>Neglect</th>\n",
              "    </tr>\n",
              "  </thead>\n",
              "  <tbody>\n",
              "    <tr>\n",
              "      <th>0</th>\n",
              "      <td>1</td>\n",
              "      <td>behalf ms amira like ask cooperation trace biological mother family member biological mother possibly move canada accord information unhcr receive sure lot information mother like search biological mother lebanon ngo try find biological mother unfortunately succeed find contact unhcr assistance ...</td>\n",
              "      <td>[invite, live, decide, leave, thought, know, respond, come, spend, ask, locate, try, succeed, thank, hear, receive, find, look, involve, refer, move]</td>\n",
              "      <td>{'abandon': 7.44338762220703, 'molestation': 1.6155281852956838, 'beat': 6.121544117671558, 'fight': 7.190839256353506, 'divorce': 5.315594822593748, 'threaten': 6.138720156271343, 'drugs': 5.295534483639377, 'neglect': 5.766154280950334}</td>\n",
              "      <td>7.443388</td>\n",
              "      <td>1.615528</td>\n",
              "      <td>6.121544</td>\n",
              "      <td>7.190839</td>\n",
              "      <td>5.315595</td>\n",
              "      <td>6.138720</td>\n",
              "      <td>5.295534</td>\n",
              "      <td>5.766154</td>\n",
              "    </tr>\n",
              "    <tr>\n",
              "      <th>1</th>\n",
              "      <td>2</td>\n",
              "      <td>follow information supply youth welfare office berlin social worker child welfare alert responsible family 2014 father lara fadi come lebanon deport country 2017 massively consume hero ine years mother addict 14 year old substitution programme year la year free substitute child attend kindergard...</td>\n",
              "      <td>[wait, send, consume, evolve, live, leave, appeal, motivate, hope, conduct, add, reside, renew, could, run, get, reach, deport, hold, speak, come, appoint, support, tell, case, suggest, bear, ask, include, translate, tolerate, locate, oblige, mind, allow, afford, attend, try, help, do, distribut...</td>\n",
              "      <td>{'abandon': 26.885090545054705, 'molestation': 7.142567118744222, 'beat': 20.685092793599622, 'fight': 25.19151868459089, 'divorce': 17.759010708256845, 'threaten': 24.303360429536113, 'drugs': 19.508376917134452, 'neglect': 21.383043141295698}</td>\n",
              "      <td>26.885091</td>\n",
              "      <td>7.142567</td>\n",
              "      <td>20.685093</td>\n",
              "      <td>25.191519</td>\n",
              "      <td>17.759011</td>\n",
              "      <td>24.303360</td>\n",
              "      <td>19.508377</td>\n",
              "      <td>21.383043</td>\n",
              "    </tr>\n",
              "    <tr>\n",
              "      <th>2</th>\n",
              "      <td>3</td>\n",
              "      <td>hope sane challenging time kindly ask support case anas dob 30062004 unfortunately information case mother nadia anaslive syria contact mobile father live hamburg family live hamburg parent get divorce mother child leave syria 2009 father contact child 2010 family court hamburg decide custody li...</td>\n",
              "      <td>[live, decide, leave, conduct, hope, add, request, renew, know, get, enter, issue, hang, speak, come, support, extend, explain, accompany, establish, ask, offer, attempts, attend, interview, insist, relate, write, be, want, refuse, require, stay, assign, take, continue, beat, inform, mention, ne...</td>\n",
              "      <td>{'abandon': 17.80065186781162, 'molestation': 4.413768279266658, 'beat': 12.495437224932386, 'fight': 15.770288705574108, 'divorce': 11.70931078767415, 'threaten': 15.294535052207921, 'drugs': 12.187545951123914, 'neglect': 13.855573054481198}</td>\n",
              "      <td>17.800652</td>\n",
              "      <td>4.413768</td>\n",
              "      <td>12.495437</td>\n",
              "      <td>15.770289</td>\n",
              "      <td>11.709311</td>\n",
              "      <td>15.294535</td>\n",
              "      <td>12.187546</td>\n",
              "      <td>13.855573</td>\n",
              "    </tr>\n",
              "    <tr>\n",
              "      <th>3</th>\n",
              "      <td>4</td>\n",
              "      <td>child protection office beirut lebanon request iss assistance 6 year old syrian child currently live germany order facilitate establishment contact father lebanon ensure possible reunification provide social report family situation mr ali mrs leila syrian national get marry 2010 6 month start wa...</td>\n",
              "      <td>[live, convince, leave, meet, forbid, request, run, get, know, scratch, come, spend, enforce, establish, ask, accord, locate, allow, facilitate, try, help, suffered, cope, be, refuse, provide, stay, hit, insure, take, agree, start, go, enrol, continue, seek, marry, aim, insult, ensure, left, con...</td>\n",
              "      <td>{'abandon': 19.338544380245548, 'molestation': 4.537376180666153, 'beat': 13.407807145000568, 'fight': 17.213382985013677, 'divorce': 12.743179276689794, 'threaten': 17.296360465050583, 'drugs': 13.708773469037482, 'neglect': 15.410223079452784}</td>\n",
              "      <td>19.338544</td>\n",
              "      <td>4.537376</td>\n",
              "      <td>13.407807</td>\n",
              "      <td>17.213383</td>\n",
              "      <td>12.743179</td>\n",
              "      <td>17.296360</td>\n",
              "      <td>13.708773</td>\n",
              "      <td>15.410223</td>\n",
              "    </tr>\n",
              "    <tr>\n",
              "      <th>4</th>\n",
              "      <td>5</td>\n",
              "      <td>write child family borders uk reque assistance case involve child place foster carer uk foster carer travel lebanon frequently like child holiday child foster care child service bromley parental responsibility ensure child safe time ask cooperation visit family friend accommodate child foster ca...</td>\n",
              "      <td>[authorise, employ, live, advise, report, greet, remain, cause, disappoint, know, explore, support, explain, come, settle, spend, consider, expect, confirm, arrive, ask, remove, include, administer, offer, keep, locate, allow, facilitate, attend, intend, prepare, relate, write, want, walk, accom...</td>\n",
              "      <td>{'abandon': 23.20231096127486, 'molestation': 5.0012582817507765, 'beat': 14.78274882415474, 'fight': 19.759391404211605, 'divorce': 15.64286970911989, 'threaten': 20.424733901412797, 'drugs': 17.502266685946402, 'neglect': 19.736560617194314}</td>\n",
              "      <td>23.202311</td>\n",
              "      <td>5.001258</td>\n",
              "      <td>14.782749</td>\n",
              "      <td>19.759391</td>\n",
              "      <td>15.642870</td>\n",
              "      <td>20.424734</td>\n",
              "      <td>17.502267</td>\n",
              "      <td>19.736561</td>\n",
              "    </tr>\n",
              "    <tr>\n",
              "      <th>5</th>\n",
              "      <td>6</td>\n",
              "      <td>ms sd german national contact iss germany looking father meet believe live egypt iss germany refer case iss cairo start trace sd father father have move time period render trace difficult social worker finally find father deal strong denial allege daughter sustain mediation effort father agree i...</td>\n",
              "      <td>[believe, find, have, render, live, allege, meet, agree, start, refer, deal, sustain, looking, initiate]</td>\n",
              "      <td>{'abandon': 4.7866240556002975, 'molestation': 1.4502399652821751, 'beat': 3.6145573543081033, 'fight': 4.501720416697074, 'divorce': 3.500120726694663, 'threaten': 4.120783544176529, 'drugs': 3.6250766230069065, 'neglect': 3.931116247561354}</td>\n",
              "      <td>4.786624</td>\n",
              "      <td>1.450240</td>\n",
              "      <td>3.614557</td>\n",
              "      <td>4.501720</td>\n",
              "      <td>3.500121</td>\n",
              "      <td>4.120784</td>\n",
              "      <td>3.625077</td>\n",
              "      <td>3.931116</td>\n",
              "    </tr>\n",
              "    <tr>\n",
              "      <th>6</th>\n",
              "      <td>7</td>\n",
              "      <td>jose deport usa homeland mexico leave wife mariel son javier mariel health deteriorate rapidly begin use drug time javier turn 5 year old removed mother care permanently place foster care usa child protection authority cpa note javier irregular positive contact father cpa reach iss usa enquire p...</td>\n",
              "      <td>[inform, deteriorate, begin, care, enquire, use, provide, leave, decide, make, conduct, place, return, assist, removed, turn, foster, deport]</td>\n",
              "      <td>{'abandon': 6.258153048782896, 'molestation': 1.9091899654232038, 'beat': 3.5482680762499563, 'fight': 5.063221982467471, 'divorce': 4.216101825008092, 'threaten': 5.664362720729209, 'drugs': 4.682943795043872, 'neglect': 5.700303359343504}</td>\n",
              "      <td>6.258153</td>\n",
              "      <td>1.909190</td>\n",
              "      <td>3.548268</td>\n",
              "      <td>5.063222</td>\n",
              "      <td>4.216102</td>\n",
              "      <td>5.664363</td>\n",
              "      <td>4.682944</td>\n",
              "      <td>5.700303</td>\n",
              "    </tr>\n",
              "    <tr>\n",
              "      <th>7</th>\n",
              "      <td>8</td>\n",
              "      <td>karim 6 ziad 8 son divorce lebanese national father remarry lebanese woman canadian passport go live canada follow severe quarrel father wife father imprison child place foster care canadian central authority father ask return son lebanon live paternal grandparent iss canada contact canadian ass...</td>\n",
              "      <td>[extend, accommodate, find, express, have, live, encourage, ask, prepare, return, imprison, verify, go, help, arrange, enable, assess, follow, maintain, remarry]</td>\n",
              "      <td>{'abandon': 6.877215378072514, 'molestation': 1.4401974939647315, 'beat': 3.923020292099927, 'fight': 5.176307469271331, 'divorce': 4.3822557510902245, 'threaten': 5.936858448546806, 'drugs': 4.4294019595060075, 'neglect': 5.445764372938662}</td>\n",
              "      <td>6.877215</td>\n",
              "      <td>1.440197</td>\n",
              "      <td>3.923020</td>\n",
              "      <td>5.176307</td>\n",
              "      <td>4.382256</td>\n",
              "      <td>5.936858</td>\n",
              "      <td>4.429402</td>\n",
              "      <td>5.445764</td>\n",
              "    </tr>\n",
              "    <tr>\n",
              "      <th>8</th>\n",
              "      <td>9</td>\n",
              "      <td>child guinea bissau pretext drought koranic master learn coran senegal find iss africa wa street appalling condition beg alms iss wa partner senegal provide necessary fir level care include food clothing heath care child return safety guinea bissau hand iss wa partner authority level care child ...</td>\n",
              "      <td>[beg, find, learn, provide, include]</td>\n",
              "      <td>{'abandon': 1.4226534173428933, 'molestation': 0.23129652661620512, 'beat': 1.0200883857452316, 'fight': 1.2812130864534925, 'divorce': 1.0075248062211715, 'threaten': 1.205177445025658, 'drugs': 1.289106899730958, 'neglect': 1.4335645820701575}</td>\n",
              "      <td>1.422653</td>\n",
              "      <td>0.231297</td>\n",
              "      <td>1.020088</td>\n",
              "      <td>1.281213</td>\n",
              "      <td>1.007525</td>\n",
              "      <td>1.205177</td>\n",
              "      <td>1.289107</td>\n",
              "      <td>1.433565</td>\n",
              "    </tr>\n",
              "    <tr>\n",
              "      <th>9</th>\n",
              "      <td>10</td>\n",
              "      <td>mary jackson real 15 year old girl strong passion education dream medical doctor unfortunately soon jce mother die leave 3 young sibling age 12 10 8 respectively month mother pass father quickly marry wife home comfortably live hell earth step mother provide love affection food influence father ...</td>\n",
              "      <td>[believe, earn, live, decide, leave, get, steal, forget, welcome, ask, declare, try, hate, have, provide, go, identify, die, vow, beat, shout, marry, think, say, return]</td>\n",
              "      <td>{'abandon': 9.51252698181306, 'molestation': 2.314261807076694, 'beat': 8.583762758816643, 'fight': 9.411480362924879, 'divorce': 6.231554924658602, 'threaten': 8.075753789306788, 'drugs': 6.322058554142293, 'neglect': 6.569591361106437}</td>\n",
              "      <td>9.512527</td>\n",
              "      <td>2.314262</td>\n",
              "      <td>8.583763</td>\n",
              "      <td>9.411480</td>\n",
              "      <td>6.231555</td>\n",
              "      <td>8.075754</td>\n",
              "      <td>6.322059</td>\n",
              "      <td>6.569591</td>\n",
              "    </tr>\n",
              "  </tbody>\n",
              "</table>\n",
              "</div>"
            ],
            "text/plain": [
              "   ID  ...    Neglect\n",
              "0   1  ...   5.766154\n",
              "1   2  ...  21.383043\n",
              "2   3  ...  13.855573\n",
              "3   4  ...  15.410223\n",
              "4   5  ...  19.736561\n",
              "5   6  ...   3.931116\n",
              "6   7  ...   5.700303\n",
              "7   8  ...   5.445764\n",
              "8   9  ...   1.433565\n",
              "9  10  ...   6.569591\n",
              "\n",
              "[10 rows x 12 columns]"
            ]
          },
          "metadata": {
            "tags": []
          },
          "execution_count": 26
        }
      ]
    },
    {
      "cell_type": "code",
      "metadata": {
        "id": "KpQhPs_5orvL"
      },
      "source": [
        "# scaling\n",
        "from sklearn.preprocessing import MinMaxScaler"
      ],
      "execution_count": 27,
      "outputs": []
    },
    {
      "cell_type": "code",
      "metadata": {
        "colab": {
          "base_uri": "https://localhost:8080/",
          "height": 785
        },
        "id": "6gF-hS09oyxm",
        "outputId": "2d11e45d-5ac0-4662-aa51-31af463aa60a"
      },
      "source": [
        "scaler = MinMaxScaler()\n",
        "iss[['Abandon', 'Molestation', 'Beat', 'Fight', 'Divorce', 'Threaten', 'Drugs', 'Neglect']] = scaler.fit_transform(iss[['Abandon', 'Molestation', 'Beat', 'Fight', 'Divorce', 'Threaten', 'Drugs', 'Neglect']])\n",
        "iss.head()"
      ],
      "execution_count": 29,
      "outputs": [
        {
          "output_type": "execute_result",
          "data": {
            "text/html": [
              "<div>\n",
              "<style scoped>\n",
              "    .dataframe tbody tr th:only-of-type {\n",
              "        vertical-align: middle;\n",
              "    }\n",
              "\n",
              "    .dataframe tbody tr th {\n",
              "        vertical-align: top;\n",
              "    }\n",
              "\n",
              "    .dataframe thead th {\n",
              "        text-align: right;\n",
              "    }\n",
              "</style>\n",
              "<table border=\"1\" class=\"dataframe\">\n",
              "  <thead>\n",
              "    <tr style=\"text-align: right;\">\n",
              "      <th></th>\n",
              "      <th>ID</th>\n",
              "      <th>Text</th>\n",
              "      <th>POS_Verbs</th>\n",
              "      <th>Category_Scores</th>\n",
              "      <th>Abandon</th>\n",
              "      <th>Molestation</th>\n",
              "      <th>Beat</th>\n",
              "      <th>Fight</th>\n",
              "      <th>Divorce</th>\n",
              "      <th>Threaten</th>\n",
              "      <th>Drugs</th>\n",
              "      <th>Neglect</th>\n",
              "    </tr>\n",
              "  </thead>\n",
              "  <tbody>\n",
              "    <tr>\n",
              "      <th>0</th>\n",
              "      <td>1</td>\n",
              "      <td>behalf ms amira like ask cooperation trace biological mother family member biological mother possibly move canada accord information unhcr receive sure lot information mother like search biological mother lebanon ngo try find biological mother unfortunately succeed find contact unhcr assistance ...</td>\n",
              "      <td>[invite, live, decide, leave, thought, know, respond, come, spend, ask, locate, try, succeed, thank, hear, receive, find, look, involve, refer, move]</td>\n",
              "      <td>{'abandon': 7.44338762220703, 'molestation': 1.6155281852956838, 'beat': 6.121544117671558, 'fight': 7.190839256353506, 'divorce': 5.315594822593748, 'threaten': 6.138720156271343, 'drugs': 5.295534483639377, 'neglect': 5.766154280950334}</td>\n",
              "      <td>0.158575</td>\n",
              "      <td>0.114159</td>\n",
              "      <td>0.163220</td>\n",
              "      <td>0.155995</td>\n",
              "      <td>0.165726</td>\n",
              "      <td>0.143593</td>\n",
              "      <td>0.144021</td>\n",
              "      <td>0.141018</td>\n",
              "    </tr>\n",
              "    <tr>\n",
              "      <th>1</th>\n",
              "      <td>2</td>\n",
              "      <td>follow information supply youth welfare office berlin social worker child welfare alert responsible family 2014 father lara fadi come lebanon deport country 2017 massively consume hero ine years mother addict 14 year old substitution programme year la year free substitute child attend kindergard...</td>\n",
              "      <td>[wait, send, consume, evolve, live, leave, appeal, motivate, hope, conduct, add, reside, renew, could, run, get, reach, deport, hold, speak, come, appoint, support, tell, case, suggest, bear, ask, include, translate, tolerate, locate, oblige, mind, allow, afford, attend, try, help, do, distribut...</td>\n",
              "      <td>{'abandon': 26.885090545054705, 'molestation': 7.142567118744222, 'beat': 20.685092793599622, 'fight': 25.19151868459089, 'divorce': 17.759010708256845, 'threaten': 24.303360429536113, 'drugs': 19.508376917134452, 'neglect': 21.383043141295698}</td>\n",
              "      <td>0.592959</td>\n",
              "      <td>0.516777</td>\n",
              "      <td>0.569156</td>\n",
              "      <td>0.566154</td>\n",
              "      <td>0.577984</td>\n",
              "      <td>0.593169</td>\n",
              "      <td>0.555860</td>\n",
              "      <td>0.544897</td>\n",
              "    </tr>\n",
              "    <tr>\n",
              "      <th>2</th>\n",
              "      <td>3</td>\n",
              "      <td>hope sane challenging time kindly ask support case anas dob 30062004 unfortunately information case mother nadia anaslive syria contact mobile father live hamburg family live hamburg parent get divorce mother child leave syria 2009 father contact child 2010 family court hamburg decide custody li...</td>\n",
              "      <td>[live, decide, leave, conduct, hope, add, request, renew, know, get, enter, issue, hang, speak, come, support, extend, explain, accompany, establish, ask, offer, attempts, attend, interview, insist, relate, write, be, want, refuse, require, stay, assign, take, continue, beat, inform, mention, ne...</td>\n",
              "      <td>{'abandon': 17.80065186781162, 'molestation': 4.413768279266658, 'beat': 12.495437224932386, 'fight': 15.770288705574108, 'divorce': 11.70931078767415, 'threaten': 15.294535052207921, 'drugs': 12.187545951123914, 'neglect': 13.855573054481198}</td>\n",
              "      <td>0.389987</td>\n",
              "      <td>0.317997</td>\n",
              "      <td>0.340882</td>\n",
              "      <td>0.351484</td>\n",
              "      <td>0.377553</td>\n",
              "      <td>0.370200</td>\n",
              "      <td>0.343727</td>\n",
              "      <td>0.350224</td>\n",
              "    </tr>\n",
              "    <tr>\n",
              "      <th>3</th>\n",
              "      <td>4</td>\n",
              "      <td>child protection office beirut lebanon request iss assistance 6 year old syrian child currently live germany order facilitate establishment contact father lebanon ensure possible reunification provide social report family situation mr ali mrs leila syrian national get marry 2010 6 month start wa...</td>\n",
              "      <td>[live, convince, leave, meet, forbid, request, run, get, know, scratch, come, spend, enforce, establish, ask, accord, locate, allow, facilitate, try, help, suffered, cope, be, refuse, provide, stay, hit, insure, take, agree, start, go, enrol, continue, seek, marry, aim, insult, ensure, left, con...</td>\n",
              "      <td>{'abandon': 19.338544380245548, 'molestation': 4.537376180666153, 'beat': 13.407807145000568, 'fight': 17.213382985013677, 'divorce': 12.743179276689794, 'threaten': 17.296360465050583, 'drugs': 13.708773469037482, 'neglect': 15.410223079452784}</td>\n",
              "      <td>0.424348</td>\n",
              "      <td>0.327002</td>\n",
              "      <td>0.366313</td>\n",
              "      <td>0.384366</td>\n",
              "      <td>0.411806</td>\n",
              "      <td>0.419745</td>\n",
              "      <td>0.387807</td>\n",
              "      <td>0.390430</td>\n",
              "    </tr>\n",
              "    <tr>\n",
              "      <th>4</th>\n",
              "      <td>5</td>\n",
              "      <td>write child family borders uk reque assistance case involve child place foster carer uk foster carer travel lebanon frequently like child holiday child foster care child service bromley parental responsibility ensure child safe time ask cooperation visit family friend accommodate child foster ca...</td>\n",
              "      <td>[authorise, employ, live, advise, report, greet, remain, cause, disappoint, know, explore, support, explain, come, settle, spend, consider, expect, confirm, arrive, ask, remove, include, administer, offer, keep, locate, allow, facilitate, attend, intend, prepare, relate, write, want, walk, accom...</td>\n",
              "      <td>{'abandon': 23.20231096127486, 'molestation': 5.0012582817507765, 'beat': 14.78274882415474, 'fight': 19.759391404211605, 'divorce': 15.64286970911989, 'threaten': 20.424733901412797, 'drugs': 17.502266685946402, 'neglect': 19.736560617194314}</td>\n",
              "      <td>0.510675</td>\n",
              "      <td>0.360793</td>\n",
              "      <td>0.404637</td>\n",
              "      <td>0.442379</td>\n",
              "      <td>0.507875</td>\n",
              "      <td>0.497173</td>\n",
              "      <td>0.497730</td>\n",
              "      <td>0.502316</td>\n",
              "    </tr>\n",
              "  </tbody>\n",
              "</table>\n",
              "</div>"
            ],
            "text/plain": [
              "   ID  ...   Neglect\n",
              "0   1  ...  0.141018\n",
              "1   2  ...  0.544897\n",
              "2   3  ...  0.350224\n",
              "3   4  ...  0.390430\n",
              "4   5  ...  0.502316\n",
              "\n",
              "[5 rows x 12 columns]"
            ]
          },
          "metadata": {
            "tags": []
          },
          "execution_count": 29
        }
      ]
    },
    {
      "cell_type": "code",
      "metadata": {
        "id": "airdVxKNpSGo"
      },
      "source": [
        "def recommend(row):\n",
        "\tif row['Abandon'] == row['max_score'] :\n",
        "\t\treturn 'Abandon'\n",
        "\telif row['Molestation'] == row['max_score'] :\n",
        "\t\treturn 'Molestation'\n",
        "\telif row['Beat'] == row['max_score'] :\n",
        "\t\treturn 'Beat'\n",
        "\telif row['Fight'] == row['max_score'] :\n",
        "\t\treturn 'Fight'\n",
        "\telif row['Divorce'] == row['max_score'] :\n",
        "\t\treturn 'Divorce'\n",
        "\telif row['Threaten'] == row['max_score'] :\n",
        "\t\treturn 'Threaten'\n",
        "\telif row['Drugs'] == row['max_score'] :\n",
        "\t\treturn 'Drugs'\n",
        "\telif row['Neglect'] == row['max_score'] :\n",
        "\t\treturn 'Neglect'\n",
        "\treturn 'NA'"
      ],
      "execution_count": 31,
      "outputs": []
    },
    {
      "cell_type": "code",
      "metadata": {
        "id": "vnauofWspU3g"
      },
      "source": [
        "iss_new = iss.drop(['ID', 'POS_Verbs', 'Category_Scores'], axis = 1) "
      ],
      "execution_count": 68,
      "outputs": []
    },
    {
      "cell_type": "code",
      "metadata": {
        "id": "t3I5vMeESJRn",
        "colab": {
          "base_uri": "https://localhost:8080/",
          "height": 312
        },
        "outputId": "90e2c6ca-843c-4843-c700-547e2ce4f4d8"
      },
      "source": [
        "iss_new.head()"
      ],
      "execution_count": 69,
      "outputs": [
        {
          "output_type": "execute_result",
          "data": {
            "text/html": [
              "<div>\n",
              "<style scoped>\n",
              "    .dataframe tbody tr th:only-of-type {\n",
              "        vertical-align: middle;\n",
              "    }\n",
              "\n",
              "    .dataframe tbody tr th {\n",
              "        vertical-align: top;\n",
              "    }\n",
              "\n",
              "    .dataframe thead th {\n",
              "        text-align: right;\n",
              "    }\n",
              "</style>\n",
              "<table border=\"1\" class=\"dataframe\">\n",
              "  <thead>\n",
              "    <tr style=\"text-align: right;\">\n",
              "      <th></th>\n",
              "      <th>Text</th>\n",
              "      <th>Abandon</th>\n",
              "      <th>Molestation</th>\n",
              "      <th>Beat</th>\n",
              "      <th>Fight</th>\n",
              "      <th>Divorce</th>\n",
              "      <th>Threaten</th>\n",
              "      <th>Drugs</th>\n",
              "      <th>Neglect</th>\n",
              "    </tr>\n",
              "  </thead>\n",
              "  <tbody>\n",
              "    <tr>\n",
              "      <th>0</th>\n",
              "      <td>behalf ms amira like ask cooperation trace biological mother family member biological mother possibly move canada accord information unhcr receive sure lot information mother like search biological mother lebanon ngo try find biological mother unfortunately succeed find contact unhcr assistance ...</td>\n",
              "      <td>0.158575</td>\n",
              "      <td>0.114159</td>\n",
              "      <td>0.163220</td>\n",
              "      <td>0.155995</td>\n",
              "      <td>0.165726</td>\n",
              "      <td>0.143593</td>\n",
              "      <td>0.144021</td>\n",
              "      <td>0.141018</td>\n",
              "    </tr>\n",
              "    <tr>\n",
              "      <th>1</th>\n",
              "      <td>follow information supply youth welfare office berlin social worker child welfare alert responsible family 2014 father lara fadi come lebanon deport country 2017 massively consume hero ine years mother addict 14 year old substitution programme year la year free substitute child attend kindergard...</td>\n",
              "      <td>0.592959</td>\n",
              "      <td>0.516777</td>\n",
              "      <td>0.569156</td>\n",
              "      <td>0.566154</td>\n",
              "      <td>0.577984</td>\n",
              "      <td>0.593169</td>\n",
              "      <td>0.555860</td>\n",
              "      <td>0.544897</td>\n",
              "    </tr>\n",
              "    <tr>\n",
              "      <th>2</th>\n",
              "      <td>hope sane challenging time kindly ask support case anas dob 30062004 unfortunately information case mother nadia anaslive syria contact mobile father live hamburg family live hamburg parent get divorce mother child leave syria 2009 father contact child 2010 family court hamburg decide custody li...</td>\n",
              "      <td>0.389987</td>\n",
              "      <td>0.317997</td>\n",
              "      <td>0.340882</td>\n",
              "      <td>0.351484</td>\n",
              "      <td>0.377553</td>\n",
              "      <td>0.370200</td>\n",
              "      <td>0.343727</td>\n",
              "      <td>0.350224</td>\n",
              "    </tr>\n",
              "    <tr>\n",
              "      <th>3</th>\n",
              "      <td>child protection office beirut lebanon request iss assistance 6 year old syrian child currently live germany order facilitate establishment contact father lebanon ensure possible reunification provide social report family situation mr ali mrs leila syrian national get marry 2010 6 month start wa...</td>\n",
              "      <td>0.424348</td>\n",
              "      <td>0.327002</td>\n",
              "      <td>0.366313</td>\n",
              "      <td>0.384366</td>\n",
              "      <td>0.411806</td>\n",
              "      <td>0.419745</td>\n",
              "      <td>0.387807</td>\n",
              "      <td>0.390430</td>\n",
              "    </tr>\n",
              "    <tr>\n",
              "      <th>4</th>\n",
              "      <td>write child family borders uk reque assistance case involve child place foster carer uk foster carer travel lebanon frequently like child holiday child foster care child service bromley parental responsibility ensure child safe time ask cooperation visit family friend accommodate child foster ca...</td>\n",
              "      <td>0.510675</td>\n",
              "      <td>0.360793</td>\n",
              "      <td>0.404637</td>\n",
              "      <td>0.442379</td>\n",
              "      <td>0.507875</td>\n",
              "      <td>0.497173</td>\n",
              "      <td>0.497730</td>\n",
              "      <td>0.502316</td>\n",
              "    </tr>\n",
              "  </tbody>\n",
              "</table>\n",
              "</div>"
            ],
            "text/plain": [
              "                                                                                                                                                                                                                                                                                                          Text  ...   Neglect\n",
              "0  behalf ms amira like ask cooperation trace biological mother family member biological mother possibly move canada accord information unhcr receive sure lot information mother like search biological mother lebanon ngo try find biological mother unfortunately succeed find contact unhcr assistance ...  ...  0.141018\n",
              "1  follow information supply youth welfare office berlin social worker child welfare alert responsible family 2014 father lara fadi come lebanon deport country 2017 massively consume hero ine years mother addict 14 year old substitution programme year la year free substitute child attend kindergard...  ...  0.544897\n",
              "2  hope sane challenging time kindly ask support case anas dob 30062004 unfortunately information case mother nadia anaslive syria contact mobile father live hamburg family live hamburg parent get divorce mother child leave syria 2009 father contact child 2010 family court hamburg decide custody li...  ...  0.350224\n",
              "3  child protection office beirut lebanon request iss assistance 6 year old syrian child currently live germany order facilitate establishment contact father lebanon ensure possible reunification provide social report family situation mr ali mrs leila syrian national get marry 2010 6 month start wa...  ...  0.390430\n",
              "4  write child family borders uk reque assistance case involve child place foster carer uk foster carer travel lebanon frequently like child holiday child foster care child service bromley parental responsibility ensure child safe time ask cooperation visit family friend accommodate child foster ca...  ...  0.502316\n",
              "\n",
              "[5 rows x 9 columns]"
            ]
          },
          "metadata": {
            "tags": []
          },
          "execution_count": 69
        }
      ]
    },
    {
      "cell_type": "code",
      "metadata": {
        "id": "sFITGUhHSJKJ"
      },
      "source": [
        "iss_new[\"max_score\"] = iss_new.iloc[:, 1:9].max(axis=1)"
      ],
      "execution_count": 74,
      "outputs": []
    },
    {
      "cell_type": "code",
      "metadata": {
        "colab": {
          "base_uri": "https://localhost:8080/",
          "height": 363
        },
        "id": "Hj2Yez3H2IVD",
        "outputId": "dfd5ada8-cc5b-45f3-89c9-229ac76d2d54"
      },
      "source": [
        "iss_new.head()"
      ],
      "execution_count": 75,
      "outputs": [
        {
          "output_type": "execute_result",
          "data": {
            "text/html": [
              "<div>\n",
              "<style scoped>\n",
              "    .dataframe tbody tr th:only-of-type {\n",
              "        vertical-align: middle;\n",
              "    }\n",
              "\n",
              "    .dataframe tbody tr th {\n",
              "        vertical-align: top;\n",
              "    }\n",
              "\n",
              "    .dataframe thead th {\n",
              "        text-align: right;\n",
              "    }\n",
              "</style>\n",
              "<table border=\"1\" class=\"dataframe\">\n",
              "  <thead>\n",
              "    <tr style=\"text-align: right;\">\n",
              "      <th></th>\n",
              "      <th>Text</th>\n",
              "      <th>Abandon</th>\n",
              "      <th>Molestation</th>\n",
              "      <th>Beat</th>\n",
              "      <th>Fight</th>\n",
              "      <th>Divorce</th>\n",
              "      <th>Threaten</th>\n",
              "      <th>Drugs</th>\n",
              "      <th>Neglect</th>\n",
              "      <th>max_score</th>\n",
              "    </tr>\n",
              "  </thead>\n",
              "  <tbody>\n",
              "    <tr>\n",
              "      <th>0</th>\n",
              "      <td>behalf ms amira like ask cooperation trace biological mother family member biological mother possibly move canada accord information unhcr receive sure lot information mother like search biological mother lebanon ngo try find biological mother unfortunately succeed find contact unhcr assistance ...</td>\n",
              "      <td>0.158575</td>\n",
              "      <td>0.114159</td>\n",
              "      <td>0.163220</td>\n",
              "      <td>0.155995</td>\n",
              "      <td>0.165726</td>\n",
              "      <td>0.143593</td>\n",
              "      <td>0.144021</td>\n",
              "      <td>0.141018</td>\n",
              "      <td>0.165726</td>\n",
              "    </tr>\n",
              "    <tr>\n",
              "      <th>1</th>\n",
              "      <td>follow information supply youth welfare office berlin social worker child welfare alert responsible family 2014 father lara fadi come lebanon deport country 2017 massively consume hero ine years mother addict 14 year old substitution programme year la year free substitute child attend kindergard...</td>\n",
              "      <td>0.592959</td>\n",
              "      <td>0.516777</td>\n",
              "      <td>0.569156</td>\n",
              "      <td>0.566154</td>\n",
              "      <td>0.577984</td>\n",
              "      <td>0.593169</td>\n",
              "      <td>0.555860</td>\n",
              "      <td>0.544897</td>\n",
              "      <td>0.593169</td>\n",
              "    </tr>\n",
              "    <tr>\n",
              "      <th>2</th>\n",
              "      <td>hope sane challenging time kindly ask support case anas dob 30062004 unfortunately information case mother nadia anaslive syria contact mobile father live hamburg family live hamburg parent get divorce mother child leave syria 2009 father contact child 2010 family court hamburg decide custody li...</td>\n",
              "      <td>0.389987</td>\n",
              "      <td>0.317997</td>\n",
              "      <td>0.340882</td>\n",
              "      <td>0.351484</td>\n",
              "      <td>0.377553</td>\n",
              "      <td>0.370200</td>\n",
              "      <td>0.343727</td>\n",
              "      <td>0.350224</td>\n",
              "      <td>0.389987</td>\n",
              "    </tr>\n",
              "    <tr>\n",
              "      <th>3</th>\n",
              "      <td>child protection office beirut lebanon request iss assistance 6 year old syrian child currently live germany order facilitate establishment contact father lebanon ensure possible reunification provide social report family situation mr ali mrs leila syrian national get marry 2010 6 month start wa...</td>\n",
              "      <td>0.424348</td>\n",
              "      <td>0.327002</td>\n",
              "      <td>0.366313</td>\n",
              "      <td>0.384366</td>\n",
              "      <td>0.411806</td>\n",
              "      <td>0.419745</td>\n",
              "      <td>0.387807</td>\n",
              "      <td>0.390430</td>\n",
              "      <td>0.424348</td>\n",
              "    </tr>\n",
              "    <tr>\n",
              "      <th>4</th>\n",
              "      <td>write child family borders uk reque assistance case involve child place foster carer uk foster carer travel lebanon frequently like child holiday child foster care child service bromley parental responsibility ensure child safe time ask cooperation visit family friend accommodate child foster ca...</td>\n",
              "      <td>0.510675</td>\n",
              "      <td>0.360793</td>\n",
              "      <td>0.404637</td>\n",
              "      <td>0.442379</td>\n",
              "      <td>0.507875</td>\n",
              "      <td>0.497173</td>\n",
              "      <td>0.497730</td>\n",
              "      <td>0.502316</td>\n",
              "      <td>0.510675</td>\n",
              "    </tr>\n",
              "  </tbody>\n",
              "</table>\n",
              "</div>"
            ],
            "text/plain": [
              "                                                                                                                                                                                                                                                                                                          Text  ...  max_score\n",
              "0  behalf ms amira like ask cooperation trace biological mother family member biological mother possibly move canada accord information unhcr receive sure lot information mother like search biological mother lebanon ngo try find biological mother unfortunately succeed find contact unhcr assistance ...  ...   0.165726\n",
              "1  follow information supply youth welfare office berlin social worker child welfare alert responsible family 2014 father lara fadi come lebanon deport country 2017 massively consume hero ine years mother addict 14 year old substitution programme year la year free substitute child attend kindergard...  ...   0.593169\n",
              "2  hope sane challenging time kindly ask support case anas dob 30062004 unfortunately information case mother nadia anaslive syria contact mobile father live hamburg family live hamburg parent get divorce mother child leave syria 2009 father contact child 2010 family court hamburg decide custody li...  ...   0.389987\n",
              "3  child protection office beirut lebanon request iss assistance 6 year old syrian child currently live germany order facilitate establishment contact father lebanon ensure possible reunification provide social report family situation mr ali mrs leila syrian national get marry 2010 6 month start wa...  ...   0.424348\n",
              "4  write child family borders uk reque assistance case involve child place foster carer uk foster carer travel lebanon frequently like child holiday child foster care child service bromley parental responsibility ensure child safe time ask cooperation visit family friend accommodate child foster ca...  ...   0.510675\n",
              "\n",
              "[5 rows x 10 columns]"
            ]
          },
          "metadata": {
            "tags": []
          },
          "execution_count": 75
        }
      ]
    },
    {
      "cell_type": "code",
      "metadata": {
        "id": "q9LSCNZw5BMr"
      },
      "source": [
        "iss_new['Primary Abuse'] = iss_new.apply(lambda row: recommend(row), axis=1)\n",
        "iss_main['Primary Abuse'] = iss_new['Primary Abuse']"
      ],
      "execution_count": 80,
      "outputs": []
    },
    {
      "cell_type": "code",
      "metadata": {
        "colab": {
          "base_uri": "https://localhost:8080/",
          "height": 526
        },
        "id": "x7BebfxV8VvL",
        "outputId": "bec17e15-e9a3-4cfd-ba18-240272b1f6c3"
      },
      "source": [
        "iss_main.head(10)"
      ],
      "execution_count": 81,
      "outputs": [
        {
          "output_type": "execute_result",
          "data": {
            "text/html": [
              "<div>\n",
              "<style scoped>\n",
              "    .dataframe tbody tr th:only-of-type {\n",
              "        vertical-align: middle;\n",
              "    }\n",
              "\n",
              "    .dataframe tbody tr th {\n",
              "        vertical-align: top;\n",
              "    }\n",
              "\n",
              "    .dataframe thead th {\n",
              "        text-align: right;\n",
              "    }\n",
              "</style>\n",
              "<table border=\"1\" class=\"dataframe\">\n",
              "  <thead>\n",
              "    <tr style=\"text-align: right;\">\n",
              "      <th></th>\n",
              "      <th>ID</th>\n",
              "      <th>Case</th>\n",
              "      <th>Primary Abuse</th>\n",
              "    </tr>\n",
              "  </thead>\n",
              "  <tbody>\n",
              "    <tr>\n",
              "      <th>0</th>\n",
              "      <td>1</td>\n",
              "      <td>On behalf of Ms. Amira I would like to ask for your cooperation in tracing her biological mother and perhaps other family members. The biological mother possibly moved to Canada, according to information the UNHCR received. However, we cannot be sure and as there is not a lot of information abou...</td>\n",
              "      <td>Divorce</td>\n",
              "    </tr>\n",
              "    <tr>\n",
              "      <th>1</th>\n",
              "      <td>2</td>\n",
              "      <td>The following information has been supplied by the Youth Welfare Office in Berlin The Social Worker who made the child welfare alert has been responsible for the family since 2014. The father of Lara and Fadi comes from Lebanon and was deported back to his country in 2017. He had been massively ...</td>\n",
              "      <td>Threaten</td>\n",
              "    </tr>\n",
              "    <tr>\n",
              "      <th>2</th>\n",
              "      <td>3</td>\n",
              "      <td>I hope you all are well and sane in these challenging times. I kindly ask you for your support in the case of Anas, d.o.b. 30.06.2004. Unfortunately I have only few information about the case: The mother, Nadia and Anaslive in Syria (contact: … mobile … ) . The father … lives still in Hamburg. T...</td>\n",
              "      <td>Abandon</td>\n",
              "    </tr>\n",
              "    <tr>\n",
              "      <th>3</th>\n",
              "      <td>4</td>\n",
              "      <td>The child protection office in Beirut, Lebanon, requests ISS assistance regarding a 6-year-old Syrian child, currently living in Germany, in order to facilitate the re-establishment of contact between her and her father who is in Lebanon, to ensure a possible reunification and also provide a soc...</td>\n",
              "      <td>Abandon</td>\n",
              "    </tr>\n",
              "    <tr>\n",
              "      <th>4</th>\n",
              "      <td>5</td>\n",
              "      <td>I am writing from Children and Families Across Borders, UK, to request your assistance on this case. It involves two children who are placed with foster carers in the UK. The foster carers travel to Lebanon frequently and would like to take the children with them for a holiday. As the children a...</td>\n",
              "      <td>Abandon</td>\n",
              "    </tr>\n",
              "    <tr>\n",
              "      <th>5</th>\n",
              "      <td>6</td>\n",
              "      <td>Ms SD, a German national, contacted ISS Germany looking for her father she had never met and who, she believed, lived in Egypt. ISS Germany referred the case to ISS in Cairo, to start tracing SD’s father. The father, having moved several times over the period rendered tracing him quite difficult...</td>\n",
              "      <td>Divorce</td>\n",
              "    </tr>\n",
              "    <tr>\n",
              "      <th>6</th>\n",
              "      <td>7</td>\n",
              "      <td>Jose was deported from the USA to his homeland in Mexico, leaving behind his wife, Mariel and their son, Javier. Mariel’s health deteriorated rapidly as she began to use drugs and by the time Javier turned 5 years old, he had been removed from his mother’s care permanently and placed in foster c...</td>\n",
              "      <td>Neglect</td>\n",
              "    </tr>\n",
              "    <tr>\n",
              "      <th>7</th>\n",
              "      <td>8</td>\n",
              "      <td>Karim (6) and Ziad (8) are the sons of two divorced Lebanese nationals. The father remarried a Lebanese woman who also had a Canadian passport and the four of them went to live in Canada. Following a severe quarrel between the father and his wife, the father was imprisoned and the children were ...</td>\n",
              "      <td>Abandon</td>\n",
              "    </tr>\n",
              "    <tr>\n",
              "      <th>8</th>\n",
              "      <td>9</td>\n",
              "      <td>Children from Guinea Bissau, who under the pretext of being drought by Koranic Masters to learn the Coran in Senegal, were found by ISS West Africa (WA) in the streets in appalling conditions begging for alms. ISS WA partner in Senegal provided the necessary first level of care, which included f...</td>\n",
              "      <td>Neglect</td>\n",
              "    </tr>\n",
              "    <tr>\n",
              "      <th>9</th>\n",
              "      <td>10</td>\n",
              "      <td>Mary Jackson (not her real name) is a 15 year old girl with a very strong passion for education and dreams of being a medical doctor. Unfortunately, soon after doing her JCE, her mother died leaving her with 3 younger siblings aged 12, 10, and 8 respectively. A month after her mother passed on, ...</td>\n",
              "      <td>Beat</td>\n",
              "    </tr>\n",
              "  </tbody>\n",
              "</table>\n",
              "</div>"
            ],
            "text/plain": [
              "   ID  ... Primary Abuse\n",
              "0   1  ...       Divorce\n",
              "1   2  ...      Threaten\n",
              "2   3  ...       Abandon\n",
              "3   4  ...       Abandon\n",
              "4   5  ...       Abandon\n",
              "5   6  ...       Divorce\n",
              "6   7  ...       Neglect\n",
              "7   8  ...       Abandon\n",
              "8   9  ...       Neglect\n",
              "9  10  ...          Beat\n",
              "\n",
              "[10 rows x 3 columns]"
            ]
          },
          "metadata": {
            "tags": []
          },
          "execution_count": 81
        }
      ]
    },
    {
      "cell_type": "code",
      "metadata": {
        "id": "6zQHHnFc8goY"
      },
      "source": [
        ""
      ],
      "execution_count": null,
      "outputs": []
    }
  ]
}